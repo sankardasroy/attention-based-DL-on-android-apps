{
 "cells": [
  {
   "cell_type": "code",
   "execution_count": 1,
   "metadata": {
    "executionInfo": {
     "elapsed": 6636,
     "status": "ok",
     "timestamp": 1611337615832,
     "user": {
      "displayName": "Prabesh Pathak",
      "photoUrl": "https://lh3.googleusercontent.com/a-/AOh14Gh6ULNXNrYutw3u6ad06TMgRj97zOGaU28QfV_MCg=s64",
      "userId": "10507649871156130542"
     },
     "user_tz": 300
    },
    "id": "w3J58FTeGdMj"
   },
   "outputs": [],
   "source": [
    "import numpy as np\n",
    "import bz2\n",
    "from collections import Counter\n",
    "import re\n",
    "import nltk\n",
    "import torch\n",
    "import math\n",
    "import random\n",
    "import keras\n",
    "from torch import nn\n",
    "from torch import optim\n",
    "from torch import Tensor\n",
    "from torch import LongTensor\n",
    "from torch.utils.data import TensorDataset\n",
    "from torch.utils.data import DataLoader\n",
    "import logging\n",
    "import pandas as pd\n",
    "from sklearn.model_selection import train_test_split\n",
    "import matplotlib.pyplot as plt\n",
    "from sklearn.metrics import confusion_matrix\n",
    "from keras.preprocessing.text import Tokenizer\n",
    "from keras.preprocessing import sequence\n",
    "from gensim.models import KeyedVectors\n",
    "from gensim.models import Word2Vec\n",
    "import seaborn as sns"
   ]
  },
  {
   "cell_type": "code",
   "execution_count": null,
   "metadata": {},
   "outputs": [],
   "source": []
  },
  {
   "cell_type": "code",
   "execution_count": 2,
   "metadata": {
    "executionInfo": {
     "elapsed": 6632,
     "status": "ok",
     "timestamp": 1611337615833,
     "user": {
      "displayName": "Prabesh Pathak",
      "photoUrl": "https://lh3.googleusercontent.com/a-/AOh14Gh6ULNXNrYutw3u6ad06TMgRj97zOGaU28QfV_MCg=s64",
      "userId": "10507649871156130542"
     },
     "user_tz": 300
    },
    "id": "Y6cQ6K3jjyqX"
   },
   "outputs": [],
   "source": [
    "logging.basicConfig(format='%(asctime)s - %(message)s', datefmt='%d-%b-%y %H:%M:%S')\n",
    "logging.getLogger().setLevel(logging.INFO)\n",
    "nn_Softargmax = nn.Softmax  # fix wrong name"
   ]
  },
  {
   "cell_type": "code",
   "execution_count": 3,
   "metadata": {
    "executionInfo": {
     "elapsed": 366,
     "status": "ok",
     "timestamp": 1611337637126,
     "user": {
      "displayName": "Prabesh Pathak",
      "photoUrl": "https://lh3.googleusercontent.com/a-/AOh14Gh6ULNXNrYutw3u6ad06TMgRj97zOGaU28QfV_MCg=s64",
      "userId": "10507649871156130542"
     },
     "user_tz": 300
    },
    "id": "CoWzQWBTGoCy"
   },
   "outputs": [],
   "source": [
    "train_dir = '/media/data/artifacts/2016/train/'\n",
    "test_dir = '/media/data/artifacts/2016/vt_test/'\n",
    "train_labels_dir = '/media/data/artifacts/2016/train_labels.txt'\n",
    "test_labels_dir = '/media/data/artifacts/2016/vt_test_labels.txt'\n",
    "word2vec_model_dir = '/media/data/artifacts/2016/final256.model'\n",
    "model_dir = '/media/data/artifacts/2016/models/'"
   ]
  },
  {
   "cell_type": "code",
   "execution_count": 4,
   "metadata": {
    "colab": {
     "base_uri": "https://localhost:8080/"
    },
    "executionInfo": {
     "elapsed": 3409,
     "status": "ok",
     "timestamp": 1611337641111,
     "user": {
      "displayName": "Prabesh Pathak",
      "photoUrl": "https://lh3.googleusercontent.com/a-/AOh14Gh6ULNXNrYutw3u6ad06TMgRj97zOGaU28QfV_MCg=s64",
      "userId": "10507649871156130542"
     },
     "user_tz": 300
    },
    "id": "9bXkvxCQVtaX",
    "outputId": "a20e5555-b880-4443-a6bb-e18bc5dacc53"
   },
   "outputs": [
    {
     "name": "stdout",
     "output_type": "stream",
     "text": [
      "154800 /media/data/artifacts/2016/train_labels.txt\r\n"
     ]
    }
   ],
   "source": [
    "!wc -l /media/data/artifacts/2016/train_labels.txt"
   ]
  },
  {
   "cell_type": "code",
   "execution_count": 5,
   "metadata": {
    "colab": {
     "base_uri": "https://localhost:8080/"
    },
    "executionInfo": {
     "elapsed": 3245,
     "status": "ok",
     "timestamp": 1611337641819,
     "user": {
      "displayName": "Prabesh Pathak",
      "photoUrl": "https://lh3.googleusercontent.com/a-/AOh14Gh6ULNXNrYutw3u6ad06TMgRj97zOGaU28QfV_MCg=s64",
      "userId": "10507649871156130542"
     },
     "user_tz": 300
    },
    "id": "_DSdLJmW56vw",
    "outputId": "a15542fc-abf0-44f9-d7c8-780cd4d11954"
   },
   "outputs": [
    {
     "name": "stdout",
     "output_type": "stream",
     "text": [
      "2048 /media/data/artifacts/2016/vt_test_labels.txt\r\n"
     ]
    }
   ],
   "source": [
    "!wc -l /media/data/artifacts/2016/vt_test_labels.txt"
   ]
  },
  {
   "cell_type": "code",
   "execution_count": 6,
   "metadata": {},
   "outputs": [],
   "source": [
    "x = !ls -l /media/data/artifacts/2016/train | wc -l\n",
    "len_train = int(x[0]) - 1\n",
    "y = !ls -l /media/data/artifacts/2016/vt_test | wc -l\n",
    "len_test = int(y[0]) - 1"
   ]
  },
  {
   "cell_type": "code",
   "execution_count": 7,
   "metadata": {},
   "outputs": [
    {
     "name": "stdout",
     "output_type": "stream",
     "text": [
      "154800\n",
      "2048\n"
     ]
    }
   ],
   "source": [
    "print(len_train)\n",
    "print(len_test)"
   ]
  },
  {
   "cell_type": "markdown",
   "metadata": {
    "id": "VCufhZV7sTIM"
   },
   "source": [
    "### Load word2 vec model"
   ]
  },
  {
   "cell_type": "code",
   "execution_count": 8,
   "metadata": {
    "colab": {
     "base_uri": "https://localhost:8080/"
    },
    "executionInfo": {
     "elapsed": 1573,
     "status": "ok",
     "timestamp": 1611337644326,
     "user": {
      "displayName": "Prabesh Pathak",
      "photoUrl": "https://lh3.googleusercontent.com/a-/AOh14Gh6ULNXNrYutw3u6ad06TMgRj97zOGaU28QfV_MCg=s64",
      "userId": "10507649871156130542"
     },
     "user_tz": 300
    },
    "id": "-_0AtJOpV_Rm",
    "outputId": "878a3c33-7ed3-4827-e8c3-39bb0e589451"
   },
   "outputs": [
    {
     "name": "stderr",
     "output_type": "stream",
     "text": [
      "09-Mar-21 17:56:23 - loading Word2VecKeyedVectors object from /media/data/artifacts/2016/final256.model\n",
      "09-Mar-21 17:56:26 - loading vectors from /media/data/artifacts/2016/final256.model.vectors.npy with mmap=r\n",
      "09-Mar-21 17:56:26 - setting ignored attribute vectors_norm to None\n",
      "09-Mar-21 17:56:26 - loaded /media/data/artifacts/2016/final256.model\n"
     ]
    }
   ],
   "source": [
    "word2vec_model = KeyedVectors.load(word2vec_model_dir, mmap='r')"
   ]
  },
  {
   "cell_type": "code",
   "execution_count": 9,
   "metadata": {
    "colab": {
     "base_uri": "https://localhost:8080/"
    },
    "executionInfo": {
     "elapsed": 1248,
     "status": "ok",
     "timestamp": 1611337644327,
     "user": {
      "displayName": "Prabesh Pathak",
      "photoUrl": "https://lh3.googleusercontent.com/a-/AOh14Gh6ULNXNrYutw3u6ad06TMgRj97zOGaU28QfV_MCg=s64",
      "userId": "10507649871156130542"
     },
     "user_tz": 300
    },
    "id": "Sw5466pqwhiU",
    "outputId": "05945459-a76e-455f-9996-01f12a98bb7f"
   },
   "outputs": [
    {
     "name": "stderr",
     "output_type": "stream",
     "text": [
      "/home/ubuntu/anaconda3/lib/python3.7/site-packages/ipykernel_launcher.py:1: DeprecationWarning: Call to deprecated `wv` (Attribute will be removed in 4.0.0, use self instead).\n",
      "  \"\"\"Entry point for launching an IPython kernel.\n"
     ]
    },
    {
     "data": {
      "text/plain": [
       "850193"
      ]
     },
     "execution_count": 9,
     "metadata": {},
     "output_type": "execute_result"
    }
   ],
   "source": [
    "len(word2vec_model.wv.vocab)"
   ]
  },
  {
   "cell_type": "markdown",
   "metadata": {
    "id": "l0RghgSvsoAv"
   },
   "source": [
    "### Create train and test labels"
   ]
  },
  {
   "cell_type": "code",
   "execution_count": 10,
   "metadata": {
    "executionInfo": {
     "elapsed": 771,
     "status": "ok",
     "timestamp": 1611337646552,
     "user": {
      "displayName": "Prabesh Pathak",
      "photoUrl": "https://lh3.googleusercontent.com/a-/AOh14Gh6ULNXNrYutw3u6ad06TMgRj97zOGaU28QfV_MCg=s64",
      "userId": "10507649871156130542"
     },
     "user_tz": 300
    },
    "id": "o4eRkfzKU0y0"
   },
   "outputs": [],
   "source": [
    "train_label_dict={}\n",
    "count = 0\n",
    "with open(train_labels_dir) as file:\n",
    "    for _ in range(len_train):\n",
    "        line  = file.readline().strip().split(\",\")\n",
    "#         if line[0] in train_label_dict and line[1] == '0':\n",
    "#             count+=1\n",
    "#             print(line[0],line[1])\n",
    "        train_label_dict[line[0]] = int(line[1])"
   ]
  },
  {
   "cell_type": "code",
   "execution_count": 11,
   "metadata": {
    "executionInfo": {
     "elapsed": 976,
     "status": "ok",
     "timestamp": 1611337647614,
     "user": {
      "displayName": "Prabesh Pathak",
      "photoUrl": "https://lh3.googleusercontent.com/a-/AOh14Gh6ULNXNrYutw3u6ad06TMgRj97zOGaU28QfV_MCg=s64",
      "userId": "10507649871156130542"
     },
     "user_tz": 300
    },
    "id": "0agI9KeW5vUk"
   },
   "outputs": [],
   "source": [
    "test_label_dict={}\n",
    "with open(test_labels_dir) as file:\n",
    "    for _ in range(len_test):\n",
    "        line  = file.readline().strip().split(\",\")\n",
    "        test_label_dict[line[0]] = int(line[1])"
   ]
  },
  {
   "cell_type": "markdown",
   "metadata": {
    "id": "22nz7V-05Mof"
   },
   "source": [
    "### Create word2index and index2word dict"
   ]
  },
  {
   "cell_type": "code",
   "execution_count": 12,
   "metadata": {},
   "outputs": [
    {
     "data": {
      "text/plain": [
       "154800"
      ]
     },
     "execution_count": 12,
     "metadata": {},
     "output_type": "execute_result"
    }
   ],
   "source": [
    "len(train_label_dict)"
   ]
  },
  {
   "cell_type": "code",
   "execution_count": 13,
   "metadata": {},
   "outputs": [
    {
     "data": {
      "text/plain": [
       "2048"
      ]
     },
     "execution_count": 13,
     "metadata": {},
     "output_type": "execute_result"
    }
   ],
   "source": [
    "len(test_label_dict)"
   ]
  },
  {
   "cell_type": "code",
   "execution_count": 14,
   "metadata": {
    "colab": {
     "base_uri": "https://localhost:8080/"
    },
    "executionInfo": {
     "elapsed": 449,
     "status": "ok",
     "timestamp": 1611337649618,
     "user": {
      "displayName": "Prabesh Pathak",
      "photoUrl": "https://lh3.googleusercontent.com/a-/AOh14Gh6ULNXNrYutw3u6ad06TMgRj97zOGaU28QfV_MCg=s64",
      "userId": "10507649871156130542"
     },
     "user_tz": 300
    },
    "id": "RZsZN0Djcoxt",
    "outputId": "248e4089-02ca-46bc-c342-dd809defe8ad"
   },
   "outputs": [
    {
     "name": "stderr",
     "output_type": "stream",
     "text": [
      "/home/ubuntu/anaconda3/lib/python3.7/site-packages/ipykernel_launcher.py:2: DeprecationWarning: Call to deprecated `wv` (Attribute will be removed in 4.0.0, use self instead).\n",
      "  \n"
     ]
    }
   ],
   "source": [
    "tokenizer = Tokenizer(filters='#\\n')\n",
    "tokenizer.fit_on_texts(word2vec_model.wv.vocab.keys())\n",
    "word_index = tokenizer.word_index"
   ]
  },
  {
   "cell_type": "code",
   "execution_count": 15,
   "metadata": {
    "executionInfo": {
     "elapsed": 813,
     "status": "ok",
     "timestamp": 1611337650668,
     "user": {
      "displayName": "Prabesh Pathak",
      "photoUrl": "https://lh3.googleusercontent.com/a-/AOh14Gh6ULNXNrYutw3u6ad06TMgRj97zOGaU28QfV_MCg=s64",
      "userId": "10507649871156130542"
     },
     "user_tz": 300
    },
    "id": "nXIB63ZlL5V5"
   },
   "outputs": [],
   "source": [
    "idx2word = {v: k for k, v in word_index.items()}"
   ]
  },
  {
   "cell_type": "code",
   "execution_count": 16,
   "metadata": {
    "colab": {
     "base_uri": "https://localhost:8080/"
    },
    "executionInfo": {
     "elapsed": 744,
     "status": "ok",
     "timestamp": 1611337651281,
     "user": {
      "displayName": "Prabesh Pathak",
      "photoUrl": "https://lh3.googleusercontent.com/a-/AOh14Gh6ULNXNrYutw3u6ad06TMgRj97zOGaU28QfV_MCg=s64",
      "userId": "10507649871156130542"
     },
     "user_tz": 300
    },
    "id": "CFS9tZrl0urv",
    "outputId": "8b8ad9fb-7080-405d-809e-caa7b1c4b059"
   },
   "outputs": [
    {
     "data": {
      "text/plain": [
       "850192"
      ]
     },
     "execution_count": 16,
     "metadata": {},
     "output_type": "execute_result"
    }
   ],
   "source": [
    "len(word_index)"
   ]
  },
  {
   "cell_type": "markdown",
   "metadata": {
    "id": "L5N0v8CUs0MS"
   },
   "source": [
    "### Create Train and Test Generators"
   ]
  },
  {
   "cell_type": "code",
   "execution_count": 17,
   "metadata": {
    "executionInfo": {
     "elapsed": 669,
     "status": "ok",
     "timestamp": 1611337656149,
     "user": {
      "displayName": "Prabesh Pathak",
      "photoUrl": "https://lh3.googleusercontent.com/a-/AOh14Gh6ULNXNrYutw3u6ad06TMgRj97zOGaU28QfV_MCg=s64",
      "userId": "10507649871156130542"
     },
     "user_tz": 300
    },
    "id": "Z7-pVq9GT7cY"
   },
   "outputs": [],
   "source": [
    "class TrainDataset(torch.utils.data.Dataset):\n",
    "  'Characterizes a dataset for PyTorch'\n",
    "  def __init__(self, files_list, labels):\n",
    "        'Initialization'\n",
    "        self.labels = labels\n",
    "        self.files_list = files_list\n",
    "\n",
    "  def __len__(self):\n",
    "        'Denotes the total number of samples'\n",
    "        return len(self.files_list)\n",
    "\n",
    "  def __getitem__(self, index):\n",
    "        'Generates one sample of data'\n",
    "        # Select sample\n",
    "        ID = self.files_list[index]\n",
    "\n",
    "        train_dir = '/media/data/artifacts/2016/train/'\n",
    "        # Load data and get label\n",
    "        #one_file = torch.load(train_dir + ID)\n",
    "        one_file = open(train_dir + ID,'r').read().strip() \n",
    "        # one_file = torch.load(train_dir + ID + '.txt')\n",
    "\n",
    "        X =  sequence.pad_sequences(tokenizer.texts_to_sequences([one_file]),maxlen=4000, padding='post',truncating='post')\n",
    "    \n",
    "        \n",
    "\n",
    "        if self.labels[ID] == 1:\n",
    "            y = [0,1]\n",
    "        else:\n",
    "            y = [1,0]\n",
    "\n",
    "        #y = self.labels[ID]\n",
    "        #y = torch.from_numpy(y)\n",
    "        y = torch.FloatTensor(y)\n",
    "\n",
    "        return X.squeeze(), y\n"
   ]
  },
  {
   "cell_type": "code",
   "execution_count": 18,
   "metadata": {
    "executionInfo": {
     "elapsed": 968,
     "status": "ok",
     "timestamp": 1611337657499,
     "user": {
      "displayName": "Prabesh Pathak",
      "photoUrl": "https://lh3.googleusercontent.com/a-/AOh14Gh6ULNXNrYutw3u6ad06TMgRj97zOGaU28QfV_MCg=s64",
      "userId": "10507649871156130542"
     },
     "user_tz": 300
    },
    "id": "UQIxSdvgYSH5"
   },
   "outputs": [],
   "source": [
    "class TestDataset(torch.utils.data.Dataset):\n",
    "  'Characterizes a dataset for PyTorch'\n",
    "  def __init__(self, files_list, labels):\n",
    "        'Initialization'\n",
    "        self.labels = labels\n",
    "        self.files_list = files_list\n",
    "\n",
    "  def __len__(self):\n",
    "        'Denotes the total number of samples'\n",
    "        return len(self.files_list)\n",
    "\n",
    "  def __getitem__(self, index):\n",
    "        'Generates one sample of data'\n",
    "        # Select sample\n",
    "        ID = self.files_list[index]\n",
    "\n",
    "        test_dir = '/media/data/artifacts/2016/vt_test/'\n",
    "        # Load data and get label\n",
    "\n",
    "        one_file = open(test_dir + ID,'r').read().strip() \n",
    "\n",
    "        X =  sequence.pad_sequences(tokenizer.texts_to_sequences([one_file]),maxlen=4000, padding='post',truncating='post')\n",
    "    \n",
    "        \n",
    "\n",
    "        if self.labels[ID] == 1:\n",
    "            y = [0,1]           #malicious\n",
    "        else:\n",
    "            y = [1,0]           #benign\n",
    "\n",
    "        #y = self.labels[ID]\n",
    "        #y = torch.from_numpy(y)\n",
    "        y = torch.FloatTensor(y)\n",
    "\n",
    "        return X.squeeze(), y"
   ]
  },
  {
   "cell_type": "code",
   "execution_count": 19,
   "metadata": {
    "executionInfo": {
     "elapsed": 930,
     "status": "ok",
     "timestamp": 1611337657711,
     "user": {
      "displayName": "Prabesh Pathak",
      "photoUrl": "https://lh3.googleusercontent.com/a-/AOh14Gh6ULNXNrYutw3u6ad06TMgRj97zOGaU28QfV_MCg=s64",
      "userId": "10507649871156130542"
     },
     "user_tz": 300
    },
    "id": "OVTzK0TOXZR8"
   },
   "outputs": [],
   "source": [
    "train = list(train_label_dict.keys())\n",
    "test = list(test_label_dict.keys())\n",
    "partition = {}\n",
    "partition['train'] = train\n",
    "partition['test'] = test\n",
    "train_labels= train_label_dict\n",
    "test_labels= test_label_dict"
   ]
  },
  {
   "cell_type": "code",
   "execution_count": 20,
   "metadata": {},
   "outputs": [],
   "source": [
    "# import itertools\n",
    "# t=dict(itertools.islice(test_labels.items(),8000))\n",
    "# partition['test'] = t\n",
    "# len(t)"
   ]
  },
  {
   "cell_type": "code",
   "execution_count": 21,
   "metadata": {
    "executionInfo": {
     "elapsed": 1099,
     "status": "ok",
     "timestamp": 1611337658863,
     "user": {
      "displayName": "Prabesh Pathak",
      "photoUrl": "https://lh3.googleusercontent.com/a-/AOh14Gh6ULNXNrYutw3u6ad06TMgRj97zOGaU28QfV_MCg=s64",
      "userId": "10507649871156130542"
     },
     "user_tz": 300
    },
    "id": "12TiAtqMT7gK"
   },
   "outputs": [],
   "source": [
    "params1 = {'batch_size': 4,\n",
    "          'shuffle': True,\n",
    "          'drop_last': True,\n",
    "          'num_workers': 5}\n",
    "\n",
    "params2 = {'batch_size': 4,\n",
    "          'shuffle': False,\n",
    "          'drop_last': True,\n",
    "          'num_workers': 5}\n",
    "max_epochs = 1\n",
    "\n",
    "# Train Generators\n",
    "train_set = TrainDataset(partition['train'], train_labels)\n",
    "#training_generator = torch.utils.data.DataLoader(train_set, **params1)\n",
    "training_set, val_set = torch.utils.data.random_split(train_set, [140800, 14000])\n",
    "training_generator = torch.utils.data.DataLoader(training_set, **params1)\n",
    "validation_generator = torch.utils.data.DataLoader(val_set, **params1)\n",
    "\n",
    "# Test Generators\n",
    "test_set = TestDataset(partition['test'], test_labels)\n",
    "test_generator = torch.utils.data.DataLoader(test_set, **params2)\n",
    "\n"
   ]
  },
  {
   "cell_type": "code",
   "execution_count": 22,
   "metadata": {
    "colab": {
     "base_uri": "https://localhost:8080/"
    },
    "executionInfo": {
     "elapsed": 603,
     "status": "ok",
     "timestamp": 1611337660990,
     "user": {
      "displayName": "Prabesh Pathak",
      "photoUrl": "https://lh3.googleusercontent.com/a-/AOh14Gh6ULNXNrYutw3u6ad06TMgRj97zOGaU28QfV_MCg=s64",
      "userId": "10507649871156130542"
     },
     "user_tz": 300
    },
    "id": "heXnuEUyt7Lc",
    "outputId": "8d93f000-4c19-49ce-9976-586514e127b8"
   },
   "outputs": [
    {
     "name": "stdout",
     "output_type": "stream",
     "text": [
      "140800\n",
      "14000\n",
      "2048\n"
     ]
    }
   ],
   "source": [
    "print(len(training_set))\n",
    "print(len(val_set))\n",
    "print(len(test_set))"
   ]
  },
  {
   "cell_type": "code",
   "execution_count": 23,
   "metadata": {
    "colab": {
     "base_uri": "https://localhost:8080/"
    },
    "executionInfo": {
     "elapsed": 536,
     "status": "ok",
     "timestamp": 1611337661894,
     "user": {
      "displayName": "Prabesh Pathak",
      "photoUrl": "https://lh3.googleusercontent.com/a-/AOh14Gh6ULNXNrYutw3u6ad06TMgRj97zOGaU28QfV_MCg=s64",
      "userId": "10507649871156130542"
     },
     "user_tz": 300
    },
    "id": "NKaKFKiWT7jw",
    "outputId": "e1ebdb7d-7a80-4447-c8cc-0e0c5a7a97eb"
   },
   "outputs": [
    {
     "name": "stdout",
     "output_type": "stream",
     "text": [
      "35200\n",
      "3500\n",
      "512\n"
     ]
    }
   ],
   "source": [
    "print(len(training_generator))\n",
    "print(len(validation_generator))\n",
    "print(len(test_generator))"
   ]
  },
  {
   "cell_type": "markdown",
   "metadata": {
    "id": "AYnuAdlVs8X4"
   },
   "source": [
    "### Check GPU"
   ]
  },
  {
   "cell_type": "code",
   "execution_count": 24,
   "metadata": {
    "colab": {
     "base_uri": "https://localhost:8080/"
    },
    "executionInfo": {
     "elapsed": 762,
     "status": "ok",
     "timestamp": 1611337691918,
     "user": {
      "displayName": "Prabesh Pathak",
      "photoUrl": "https://lh3.googleusercontent.com/a-/AOh14Gh6ULNXNrYutw3u6ad06TMgRj97zOGaU28QfV_MCg=s64",
      "userId": "10507649871156130542"
     },
     "user_tz": 300
    },
    "id": "lJTlvI9qT7mk",
    "outputId": "6bed57d8-d1ff-4559-8e48-4a7f5f0cb85f"
   },
   "outputs": [
    {
     "data": {
      "text/plain": [
       "device(type='cuda')"
      ]
     },
     "execution_count": 24,
     "metadata": {},
     "output_type": "execute_result"
    }
   ],
   "source": [
    "# torch.cuda.is_available() checks and returns a Boolean True if a GPU is available, else it'll return False\n",
    "is_cuda = torch.cuda.is_available()\n",
    "\n",
    "# If we have a GPU available, we'll set our device to GPU. We'll use this device variable later in our code.\n",
    "if is_cuda:\n",
    "    device = torch.device(\"cuda\")\n",
    "else:\n",
    "    device = torch.device(\"cpu\")\n",
    "\n",
    "device"
   ]
  },
  {
   "cell_type": "markdown",
   "metadata": {
    "id": "VhVJo9urtADQ"
   },
   "source": [
    "### Training"
   ]
  },
  {
   "cell_type": "code",
   "execution_count": 25,
   "metadata": {
    "executionInfo": {
     "elapsed": 745,
     "status": "ok",
     "timestamp": 1611337693674,
     "user": {
      "displayName": "Prabesh Pathak",
      "photoUrl": "https://lh3.googleusercontent.com/a-/AOh14Gh6ULNXNrYutw3u6ad06TMgRj97zOGaU28QfV_MCg=s64",
      "userId": "10507649871156130542"
     },
     "user_tz": 300
    },
    "id": "A5hlF47hXvhV"
   },
   "outputs": [],
   "source": [
    "class MultiHeadAttention(nn.Module):\n",
    "    def __init__(self, d_model, num_heads, p, d_input=None):\n",
    "        super().__init__()\n",
    "        self.num_heads = num_heads\n",
    "        self.d_model = d_model\n",
    "        if d_input is None:\n",
    "            d_xq = d_xk = d_xv = d_model\n",
    "        else:\n",
    "            d_xq, d_xk, d_xv = d_input\n",
    "            \n",
    "        # Make sure that the embedding dimension of model is a multiple of number of heads\n",
    "        assert d_model % self.num_heads == 0\n",
    "\n",
    "        self.d_k = d_model // self.num_heads\n",
    "        \n",
    "        # These are still of dimension d_model. They will be split into number of heads \n",
    "        self.W_q = nn.Linear(d_xq, d_model, bias=False)\n",
    "        self.W_k = nn.Linear(d_xk, d_model, bias=False)\n",
    "        self.W_v = nn.Linear(d_xv, d_model, bias=False)\n",
    "        \n",
    "        # Outputs of all sub-layers need to be of dimension d_model\n",
    "        self.W_h = nn.Linear(d_model, d_model)\n",
    "        \n",
    "    def scaled_dot_product_attention(self, Q, K, V):\n",
    "        batch_size = Q.size(0) \n",
    "        k_length = K.size(-2) \n",
    "        \n",
    "        # Scaling by d_k so that the soft(arg)max doesnt saturate\n",
    "        Q = Q / np.sqrt(self.d_k)                         # (bs, n_heads, q_length, dim_per_head)\n",
    "        scores = torch.matmul(Q, K.transpose(2,3))          # (bs, n_heads, q_length, k_length)\n",
    "        \n",
    "        A = nn_Softargmax(dim=-1)(scores)   # (bs, n_heads, q_length, k_length)\n",
    "        \n",
    "        # Get the weighted average of the values\n",
    "        H = torch.matmul(A, V)     # (bs, n_heads, q_length, dim_per_head)\n",
    "\n",
    "        return H, A \n",
    "\n",
    "        \n",
    "    def split_heads(self, x, batch_size):\n",
    "        \"\"\"\n",
    "        Split the last dimension into (heads X depth)\n",
    "        Return after transpose to put in shape (batch_size X num_heads X seq_length X d_k)\n",
    "        \"\"\"\n",
    "        return x.view(batch_size, -1, self.num_heads, self.d_k).transpose(1, 2)\n",
    "\n",
    "    def group_heads(self, x, batch_size):\n",
    "        \"\"\"\n",
    "        Combine the heads again to get (batch_size X seq_length X (num_heads times d_k))\n",
    "        \"\"\"\n",
    "        return x.transpose(1, 2).contiguous().view(batch_size, -1, self.num_heads * self.d_k)\n",
    "    \n",
    "\n",
    "    def forward(self, X_q, X_k, X_v):\n",
    "        batch_size, seq_length, dim = X_q.size()\n",
    "\n",
    "        # After transforming, split into num_heads \n",
    "        Q = self.split_heads(self.W_q(X_q), batch_size)  # (bs, n_heads, q_length, dim_per_head)\n",
    "        K = self.split_heads(self.W_k(X_k), batch_size)  # (bs, n_heads, k_length, dim_per_head)\n",
    "        V = self.split_heads(self.W_v(X_v), batch_size)  # (bs, n_heads, v_length, dim_per_head)\n",
    "        \n",
    "        # Calculate the attention weights for each of the heads\n",
    "        H_cat, A = self.scaled_dot_product_attention(Q, K, V)\n",
    "        \n",
    "        # Put all the heads back together by concat\n",
    "        H_cat = self.group_heads(H_cat, batch_size)    # (bs, q_length, dim)\n",
    "        \n",
    "        # Final linear layer  \n",
    "        H = self.W_h(H_cat)          # (bs, q_length, dim)\n",
    "        # print('MHA attn weight shape:', A.shape)\n",
    "        # print('MHA output shape:', H.shape)\n",
    "        \n",
    "        return H, A"
   ]
  },
  {
   "cell_type": "code",
   "execution_count": 26,
   "metadata": {},
   "outputs": [],
   "source": [
    "class CNN(nn.Module):\n",
    "    def __init__(self, d_model, hidden_dim, p):\n",
    "        super().__init__()\n",
    "        self.k1convL1 = nn.Linear(d_model,    hidden_dim)\n",
    "        self.k1convL2 = nn.Linear(hidden_dim, d_model)\n",
    "        self.activation = nn.ReLU()\n",
    "        \n",
    "        self.k1convL1 = nn.Linear(d_model,    hidden_dim)\n",
    "        self.k1convL2 = nn.Linear(hidden_dim, d_model)\n",
    "        self.activation = nn.ReLU()\n",
    "\n",
    "    def forward(self, x):\n",
    "        x = self.k1convL1(x)\n",
    "        x = self.activation(x)\n",
    "        x = self.k1convL2(x)\n",
    "        return x"
   ]
  },
  {
   "cell_type": "code",
   "execution_count": 27,
   "metadata": {},
   "outputs": [],
   "source": [
    "class EncoderLayer(nn.Module):\n",
    "    def __init__(self, d_model, num_heads, conv_hidden_dim, p=0.1):\n",
    "        super().__init__()\n",
    "\n",
    "        self.mha = MultiHeadAttention(d_model, num_heads, p)\n",
    "        self.cnn = CNN(d_model, conv_hidden_dim, p)\n",
    "\n",
    "        self.layernorm1 = nn.LayerNorm(normalized_shape=d_model, eps=1e-6)\n",
    "        self.layernorm2 = nn.LayerNorm(normalized_shape=d_model, eps=1e-6)\n",
    "    \n",
    "    def forward(self, x):\n",
    "        \n",
    "        # Multi-head attention \n",
    "        attn_output, attn_weights = self.mha(x, x, x)  # (batch_size, input_seq_len, d_model)\n",
    "        \n",
    "        # Layer norm after adding the residual connection \n",
    "        out1 = self.layernorm1(x + attn_output)  # (batch_size, input_seq_len, d_model)\n",
    "        \n",
    "        # Feed forward \n",
    "        cnn_output = self.cnn(out1)  # (batch_size, input_seq_len, d_model)\n",
    "        \n",
    "        #Second layer norm after adding residual connection \n",
    "        out2 = self.layernorm2(out1 + cnn_output)  # (batch_size, input_seq_len, d_model)\n",
    "\n",
    "        return out2, attn_weights"
   ]
  },
  {
   "cell_type": "code",
   "execution_count": 28,
   "metadata": {},
   "outputs": [],
   "source": [
    "def create_sinusoidal_embeddings(nb_p, dim, E):\n",
    "    theta = np.array([\n",
    "        [p / np.power(10000, 2 * (j // 2) / dim) for j in range(dim)]\n",
    "        for p in range(nb_p)\n",
    "    ])\n",
    "    E[:, 0::2] = torch.FloatTensor(np.sin(theta[:, 0::2]))\n",
    "    E[:, 1::2] = torch.FloatTensor(np.cos(theta[:, 1::2]))\n",
    "    E.detach_()\n",
    "    E.requires_grad = False\n",
    "    E = E.to(device)\n",
    "\n",
    "class Embeddings(nn.Module):\n",
    "    def __init__(self, embedding_matrix, d_model, vocab_size, max_position_embeddings, p):\n",
    "        super().__init__()\n",
    "#         self.word_embeddings = nn.Embedding(vocab_size, d_model, padding_idx=0)\n",
    "\n",
    "        # self.word_embeddings = nn.Embedding(vocab_size, d_model)\n",
    "        # # pretrained_weight is a numpy matrix of shape (num_embeddings, d_model)\n",
    "        # self.word_embeddings.weight.data.copy_(torch.from_numpy(embedding_matrix))\n",
    "        # self.word_embeddings.weight.requires_grad=False\n",
    "\n",
    "        self.word_embeddings = nn.Embedding.from_pretrained(embedding_matrix,freeze=True)\n",
    "        # self.word_embeddings = nn.Embedding(vocab_size, d_model)\n",
    "        # self.embedding.weight.data.copy_(torch.from_numpy(embedding_matrix))\n",
    "        # self.word_embeddings.weight.requires_grad=False\n",
    "        \n",
    "        self.position_embeddings = nn.Embedding(max_position_embeddings, d_model)\n",
    "        create_sinusoidal_embeddings(\n",
    "            nb_p=max_position_embeddings,\n",
    "            dim=d_model,\n",
    "            E=self.position_embeddings.weight\n",
    "        )\n",
    "\n",
    "        self.LayerNorm = nn.LayerNorm(d_model, eps=1e-12)\n",
    "\n",
    "    def forward(self, input_ids):\n",
    "        seq_length = input_ids.size(1)\n",
    "        position_ids = torch.arange(seq_length, dtype=torch.long, device=input_ids.device) # (max_seq_length)\n",
    "        position_ids = position_ids.unsqueeze(0).expand_as(input_ids)                      # (bs, max_seq_length)\n",
    "        \n",
    "        # Get word embeddings for each input id\n",
    "        word_embeddings = self.word_embeddings(input_ids)                   # (bs, max_seq_length, dim)\n",
    "        \n",
    "        # Get position embeddings for each position id \n",
    "        position_embeddings = self.position_embeddings(position_ids)        # (bs, max_seq_length, dim)\n",
    "        \n",
    "        # Add them both \n",
    "        embeddings = word_embeddings + position_embeddings  # (bs, max_seq_length, dim)\n",
    "        \n",
    "        # Layer norm \n",
    "        embeddings = self.LayerNorm(embeddings)             # (bs, max_seq_length, dim)\n",
    "        return embeddings"
   ]
  },
  {
   "cell_type": "code",
   "execution_count": 29,
   "metadata": {},
   "outputs": [],
   "source": [
    "class Encoder(nn.Module):\n",
    "    def __init__(self,embedding_matrix, num_layers, d_model, num_heads, ff_hidden_dim, input_vocab_size,\n",
    "               maximum_position_encoding, p=0.1):\n",
    "        super().__init__()\n",
    "\n",
    "        self.d_model = d_model\n",
    "        self.num_layers = num_layers\n",
    "\n",
    "        self.embedding = Embeddings(embedding_matrix, d_model, input_vocab_size,maximum_position_encoding, p)\n",
    "        # self.embedding = nn.Embedding.from_pretrained(embedding_matrix,freeze=True)\n",
    "\n",
    "\n",
    "        self.enc_layers = nn.ModuleList()\n",
    "        for _ in range(num_layers):\n",
    "            self.enc_layers.append(EncoderLayer(d_model, num_heads, ff_hidden_dim, p))\n",
    "        \n",
    "    def forward(self, x):\n",
    "        x = self.embedding(x) # Transform to (batch_size, input_seq_length, d_model)\n",
    "\n",
    "        for i in range(self.num_layers):\n",
    "            x, attn_weights = self.enc_layers[i](x)\n",
    "\n",
    "        return x, attn_weights  # (batch_size, input_seq_len, d_model)"
   ]
  },
  {
   "cell_type": "code",
   "execution_count": 30,
   "metadata": {},
   "outputs": [],
   "source": [
    "class TransformerClassifier(nn.Module):\n",
    "    def __init__(self,embedding_matrix, num_layers, d_model, num_heads, conv_hidden_dim, input_vocab_size, num_answers):\n",
    "        super().__init__()\n",
    "        \n",
    "        # self.encoder = Encoder(num_layers, d_model, num_heads, conv_hidden_dim, input_vocab_size,\n",
    "        #                  maximum_position_encoding=10000)\n",
    "        self.encoder = Encoder(embedding_matrix, num_layers, d_model, num_heads, conv_hidden_dim, input_vocab_size,\n",
    "                         maximum_position_encoding=40000)\n",
    "        self.dense = nn.Linear(d_model, 1)\n",
    "#         self.dense11 = nn.Linear(256, 1)\n",
    "        self.dropout = nn.Dropout(p=0.2)\n",
    "        self.tanh = nn.Tanh()\n",
    "        self.softmax_fc = nn.Softmax(dim=1)\n",
    "        self.dense2 = nn.Linear(4000, num_answers)\n",
    "\n",
    "    def forward(self, x):\n",
    "        x, attn_weights = self.encoder(x)\n",
    "        # print('out1',x.shape)\n",
    "        # [100,200,32]\n",
    "        # print('attn1',attn_weights.shape)\n",
    "        \n",
    "        #x, _ = torch.max(x, dim=1)\n",
    "        out = self.dense(x)\n",
    "#         out = self.dense11(out)\n",
    "        out = self.dropout(out)\n",
    "        out = self.tanh(out)\n",
    "        # print('out dense1',out.shape)\n",
    "        # [100,200,1]\n",
    "        # print('attn dense1',attn_weights.shape)\n",
    "        out = out.squeeze()\n",
    "        # [100,200,1]\n",
    "        out = self.dense2(out)\n",
    "        out = self.softmax_fc(out)\n",
    "        # [100,2]\n",
    "        # print('out final ',out.shape)\n",
    "        # print('attn final ',attn_weights.shape)\n",
    "        return out, attn_weights"
   ]
  },
  {
   "cell_type": "code",
   "execution_count": 31,
   "metadata": {},
   "outputs": [
    {
     "name": "stderr",
     "output_type": "stream",
     "text": [
      "/home/ubuntu/anaconda3/lib/python3.7/site-packages/ipykernel_launcher.py:1: UserWarning: The given NumPy array is not writeable, and PyTorch does not support non-writeable tensors. This means you can write to the underlying (supposedly non-writeable) NumPy array using the tensor. You may want to copy the array to protect its data or make it writeable before converting it to a tensor. This type of warning will be suppressed for the rest of this program. (Triggered internally at  /pytorch/torch/csrc/utils/tensor_numpy.cpp:141.)\n",
      "  \"\"\"Entry point for launching an IPython kernel.\n"
     ]
    }
   ],
   "source": [
    "embedding_matrix = torch.FloatTensor(word2vec_model.vectors)"
   ]
  },
  {
   "cell_type": "code",
   "execution_count": 32,
   "metadata": {},
   "outputs": [
    {
     "name": "stderr",
     "output_type": "stream",
     "text": [
      "/home/ubuntu/anaconda3/lib/python3.7/site-packages/ipykernel_launcher.py:1: DeprecationWarning: Call to deprecated `wv` (Attribute will be removed in 4.0.0, use self instead).\n",
      "  \"\"\"Entry point for launching an IPython kernel.\n"
     ]
    },
    {
     "ename": "RuntimeError",
     "evalue": "CUDA out of memory. Tried to allocate 40.00 MiB (GPU 0; 14.76 GiB total capacity; 0 bytes already allocated; 41.75 MiB free; 0 bytes reserved in total by PyTorch)",
     "output_type": "error",
     "traceback": [
      "\u001b[0;31m---------------------------------------------------------------------------\u001b[0m",
      "\u001b[0;31mRuntimeError\u001b[0m                              Traceback (most recent call last)",
      "\u001b[0;32m<ipython-input-32-58f7ba96438d>\u001b[0m in \u001b[0;36m<module>\u001b[0;34m\u001b[0m\n\u001b[1;32m      7\u001b[0m \u001b[0mn_layers\u001b[0m \u001b[0;34m=\u001b[0m \u001b[0;36m1\u001b[0m\u001b[0;34m\u001b[0m\u001b[0;34m\u001b[0m\u001b[0m\n\u001b[1;32m      8\u001b[0m \u001b[0mdrop_prob\u001b[0m\u001b[0;34m=\u001b[0m\u001b[0;36m0.3\u001b[0m\u001b[0;34m\u001b[0m\u001b[0;34m\u001b[0m\u001b[0m\n\u001b[0;32m----> 9\u001b[0;31m \u001b[0mmodel\u001b[0m \u001b[0;34m=\u001b[0m \u001b[0mTransformerClassifier\u001b[0m\u001b[0;34m(\u001b[0m\u001b[0membedding_matrix\u001b[0m\u001b[0;34m,\u001b[0m \u001b[0mnum_layers\u001b[0m\u001b[0;34m=\u001b[0m\u001b[0;36m1\u001b[0m\u001b[0;34m,\u001b[0m \u001b[0md_model\u001b[0m\u001b[0;34m=\u001b[0m\u001b[0membedding_dim\u001b[0m\u001b[0;34m,\u001b[0m \u001b[0mnum_heads\u001b[0m\u001b[0;34m=\u001b[0m\u001b[0;36m2\u001b[0m\u001b[0;34m,\u001b[0m\u001b[0mconv_hidden_dim\u001b[0m\u001b[0;34m=\u001b[0m\u001b[0mconv_dim\u001b[0m\u001b[0;34m,\u001b[0m \u001b[0minput_vocab_size\u001b[0m\u001b[0;34m=\u001b[0m\u001b[0mvocab_size\u001b[0m\u001b[0;34m,\u001b[0m \u001b[0mnum_answers\u001b[0m\u001b[0;34m=\u001b[0m\u001b[0moutput_size\u001b[0m\u001b[0;34m)\u001b[0m\u001b[0;34m\u001b[0m\u001b[0;34m\u001b[0m\u001b[0m\n\u001b[0m\u001b[1;32m     10\u001b[0m \u001b[0;31m# model= nn.DataParallel(model)\u001b[0m\u001b[0;34m\u001b[0m\u001b[0;34m\u001b[0m\u001b[0;34m\u001b[0m\u001b[0m\n\u001b[1;32m     11\u001b[0m \u001b[0mmodel\u001b[0m\u001b[0;34m.\u001b[0m\u001b[0mto\u001b[0m\u001b[0;34m(\u001b[0m\u001b[0mdevice\u001b[0m\u001b[0;34m)\u001b[0m\u001b[0;34m\u001b[0m\u001b[0;34m\u001b[0m\u001b[0m\n",
      "\u001b[0;32m<ipython-input-30-42ce2b148344>\u001b[0m in \u001b[0;36m__init__\u001b[0;34m(self, embedding_matrix, num_layers, d_model, num_heads, conv_hidden_dim, input_vocab_size, num_answers)\u001b[0m\n\u001b[1;32m      6\u001b[0m         \u001b[0;31m#                  maximum_position_encoding=10000)\u001b[0m\u001b[0;34m\u001b[0m\u001b[0;34m\u001b[0m\u001b[0;34m\u001b[0m\u001b[0m\n\u001b[1;32m      7\u001b[0m         self.encoder = Encoder(embedding_matrix, num_layers, d_model, num_heads, conv_hidden_dim, input_vocab_size,\n\u001b[0;32m----> 8\u001b[0;31m                          maximum_position_encoding=40000)\n\u001b[0m\u001b[1;32m      9\u001b[0m         \u001b[0mself\u001b[0m\u001b[0;34m.\u001b[0m\u001b[0mdense\u001b[0m \u001b[0;34m=\u001b[0m \u001b[0mnn\u001b[0m\u001b[0;34m.\u001b[0m\u001b[0mLinear\u001b[0m\u001b[0;34m(\u001b[0m\u001b[0md_model\u001b[0m\u001b[0;34m,\u001b[0m \u001b[0;36m1\u001b[0m\u001b[0;34m)\u001b[0m\u001b[0;34m\u001b[0m\u001b[0;34m\u001b[0m\u001b[0m\n\u001b[1;32m     10\u001b[0m \u001b[0;31m#         self.dense11 = nn.Linear(256, 1)\u001b[0m\u001b[0;34m\u001b[0m\u001b[0;34m\u001b[0m\u001b[0;34m\u001b[0m\u001b[0m\n",
      "\u001b[0;32m<ipython-input-29-53721ba7dddc>\u001b[0m in \u001b[0;36m__init__\u001b[0;34m(self, embedding_matrix, num_layers, d_model, num_heads, ff_hidden_dim, input_vocab_size, maximum_position_encoding, p)\u001b[0m\n\u001b[1;32m      7\u001b[0m         \u001b[0mself\u001b[0m\u001b[0;34m.\u001b[0m\u001b[0mnum_layers\u001b[0m \u001b[0;34m=\u001b[0m \u001b[0mnum_layers\u001b[0m\u001b[0;34m\u001b[0m\u001b[0;34m\u001b[0m\u001b[0m\n\u001b[1;32m      8\u001b[0m \u001b[0;34m\u001b[0m\u001b[0m\n\u001b[0;32m----> 9\u001b[0;31m         \u001b[0mself\u001b[0m\u001b[0;34m.\u001b[0m\u001b[0membedding\u001b[0m \u001b[0;34m=\u001b[0m \u001b[0mEmbeddings\u001b[0m\u001b[0;34m(\u001b[0m\u001b[0membedding_matrix\u001b[0m\u001b[0;34m,\u001b[0m \u001b[0md_model\u001b[0m\u001b[0;34m,\u001b[0m \u001b[0minput_vocab_size\u001b[0m\u001b[0;34m,\u001b[0m\u001b[0mmaximum_position_encoding\u001b[0m\u001b[0;34m,\u001b[0m \u001b[0mp\u001b[0m\u001b[0;34m)\u001b[0m\u001b[0;34m\u001b[0m\u001b[0;34m\u001b[0m\u001b[0m\n\u001b[0m\u001b[1;32m     10\u001b[0m         \u001b[0;31m# self.embedding = nn.Embedding.from_pretrained(embedding_matrix,freeze=True)\u001b[0m\u001b[0;34m\u001b[0m\u001b[0;34m\u001b[0m\u001b[0;34m\u001b[0m\u001b[0m\n\u001b[1;32m     11\u001b[0m \u001b[0;34m\u001b[0m\u001b[0m\n",
      "\u001b[0;32m<ipython-input-28-cbfa77a9e816>\u001b[0m in \u001b[0;36m__init__\u001b[0;34m(self, embedding_matrix, d_model, vocab_size, max_position_embeddings, p)\u001b[0m\n\u001b[1;32m     29\u001b[0m             \u001b[0mnb_p\u001b[0m\u001b[0;34m=\u001b[0m\u001b[0mmax_position_embeddings\u001b[0m\u001b[0;34m,\u001b[0m\u001b[0;34m\u001b[0m\u001b[0;34m\u001b[0m\u001b[0m\n\u001b[1;32m     30\u001b[0m             \u001b[0mdim\u001b[0m\u001b[0;34m=\u001b[0m\u001b[0md_model\u001b[0m\u001b[0;34m,\u001b[0m\u001b[0;34m\u001b[0m\u001b[0;34m\u001b[0m\u001b[0m\n\u001b[0;32m---> 31\u001b[0;31m             \u001b[0mE\u001b[0m\u001b[0;34m=\u001b[0m\u001b[0mself\u001b[0m\u001b[0;34m.\u001b[0m\u001b[0mposition_embeddings\u001b[0m\u001b[0;34m.\u001b[0m\u001b[0mweight\u001b[0m\u001b[0;34m\u001b[0m\u001b[0;34m\u001b[0m\u001b[0m\n\u001b[0m\u001b[1;32m     32\u001b[0m         )\n\u001b[1;32m     33\u001b[0m \u001b[0;34m\u001b[0m\u001b[0m\n",
      "\u001b[0;32m<ipython-input-28-cbfa77a9e816>\u001b[0m in \u001b[0;36mcreate_sinusoidal_embeddings\u001b[0;34m(nb_p, dim, E)\u001b[0m\n\u001b[1;32m      8\u001b[0m     \u001b[0mE\u001b[0m\u001b[0;34m.\u001b[0m\u001b[0mdetach_\u001b[0m\u001b[0;34m(\u001b[0m\u001b[0;34m)\u001b[0m\u001b[0;34m\u001b[0m\u001b[0;34m\u001b[0m\u001b[0m\n\u001b[1;32m      9\u001b[0m     \u001b[0mE\u001b[0m\u001b[0;34m.\u001b[0m\u001b[0mrequires_grad\u001b[0m \u001b[0;34m=\u001b[0m \u001b[0;32mFalse\u001b[0m\u001b[0;34m\u001b[0m\u001b[0;34m\u001b[0m\u001b[0m\n\u001b[0;32m---> 10\u001b[0;31m     \u001b[0mE\u001b[0m \u001b[0;34m=\u001b[0m \u001b[0mE\u001b[0m\u001b[0;34m.\u001b[0m\u001b[0mto\u001b[0m\u001b[0;34m(\u001b[0m\u001b[0mdevice\u001b[0m\u001b[0;34m)\u001b[0m\u001b[0;34m\u001b[0m\u001b[0;34m\u001b[0m\u001b[0m\n\u001b[0m\u001b[1;32m     11\u001b[0m \u001b[0;34m\u001b[0m\u001b[0m\n\u001b[1;32m     12\u001b[0m \u001b[0;32mclass\u001b[0m \u001b[0mEmbeddings\u001b[0m\u001b[0;34m(\u001b[0m\u001b[0mnn\u001b[0m\u001b[0;34m.\u001b[0m\u001b[0mModule\u001b[0m\u001b[0;34m)\u001b[0m\u001b[0;34m:\u001b[0m\u001b[0;34m\u001b[0m\u001b[0;34m\u001b[0m\u001b[0m\n",
      "\u001b[0;31mRuntimeError\u001b[0m: CUDA out of memory. Tried to allocate 40.00 MiB (GPU 0; 14.76 GiB total capacity; 0 bytes already allocated; 41.75 MiB free; 0 bytes reserved in total by PyTorch)"
     ]
    }
   ],
   "source": [
    "vocab_size = len(word2vec_model.wv.vocab)+1\n",
    "batch_size = 10\n",
    "output_size = 2\n",
    "embedding_dim = 256\n",
    "#embedding_dim = 100\n",
    "conv_dim = 256\n",
    "n_layers = 1\n",
    "drop_prob=0.3\n",
    "model = TransformerClassifier(embedding_matrix, num_layers=1, d_model=embedding_dim, num_heads=2,conv_hidden_dim=conv_dim, input_vocab_size=vocab_size, num_answers=output_size)\n",
    "# model= nn.DataParallel(model)\n",
    "model.to(device)\n",
    "model"
   ]
  },
  {
   "cell_type": "code",
   "execution_count": null,
   "metadata": {},
   "outputs": [],
   "source": []
  },
  {
   "cell_type": "code",
   "execution_count": null,
   "metadata": {},
   "outputs": [],
   "source": [
    "columns = ['layers', 'shape', 'parameters']\n",
    "df = pd.DataFrame(columns=columns)\n",
    "n = []\n",
    "s = []\n",
    "p = []\n",
    "r = []\n",
    "for name, param in model.named_parameters():\n",
    "\n",
    "    n.append(str(name))\n",
    "    s.append(str(param.shape))\n",
    "    p.append(str(param.numel()))\n",
    "    r.append(str(param.requires_grad))\n",
    "\n",
    "\n",
    "df['layers'] = n\n",
    "df['shape'] = s\n",
    "df['parameters'] = p\n",
    "df['requires_grad'] = r\n",
    "df"
   ]
  },
  {
   "cell_type": "code",
   "execution_count": null,
   "metadata": {},
   "outputs": [],
   "source": []
  },
  {
   "cell_type": "code",
   "execution_count": 111,
   "metadata": {},
   "outputs": [
    {
     "name": "stderr",
     "output_type": "stream",
     "text": [
      "28-Feb-21 22:37:58 - Epoch 11: 0.218813 loss, 0.218259 val loss\n",
      "28-Feb-21 23:15:59 - Epoch 12: 0.217931 loss, 0.269994 val loss\n",
      "28-Feb-21 23:52:01 - Epoch 13: 0.217748 loss, 0.222012 val loss\n",
      "01-Mar-21 00:27:32 - Epoch 14: 0.216860 loss, 0.210403 val loss\n",
      "01-Mar-21 01:03:10 - Epoch 15: 0.216181 loss, 0.207700 val loss\n",
      "01-Mar-21 01:38:26 - Epoch 16: 0.214891 loss, 0.212424 val loss\n",
      "01-Mar-21 02:13:34 - Epoch 17: 0.214437 loss, 0.208430 val loss\n",
      "01-Mar-21 02:48:39 - Epoch 18: 0.213096 loss, 0.207380 val loss\n",
      "01-Mar-21 03:24:01 - Epoch 19: 0.212760 loss, 0.208072 val loss\n",
      "01-Mar-21 03:59:19 - Epoch 20: 0.212214 loss, 0.212025 val loss\n"
     ]
    }
   ],
   "source": [
    "# [ lr = 0.001,bs=200,d_model=32,conv_dim=32]\n",
    "model.train()\n",
    "epochs = 20\n",
    "counter = 0\n",
    "clip = 5\n",
    "print_every = 100\n",
    "valid_loss_min = np.Inf\n",
    "all_weights = []\n",
    "all_train_loss = []\n",
    "all_val_loss = []\n",
    "eps = []\n",
    "criterion = nn.BCELoss()\n",
    "#criterion = nn.CrossEntropyLoss()\n",
    "# optimizer = optim.Adam(model.parameters(), lr=0.005)\n",
    "optimizer = optim.Adam(model.parameters(), lr=0.0005, weight_decay=5e-4)\n",
    "# optimizer = optim.Adam(model.parameters(), lr=0.001, weight_decay=1e-3)\n",
    "# optimizer = optim.Adam(model.parameters(), lr=0.005)\n",
    "#optimizer = optim.Adam(model.parameters(), lr=0.001, weight_decay=1e-3)\n",
    "#optimizer = optim.Adam(model.parameters(), lr=0.01)\n",
    "#optimizer = optim.RMSprop(model.parameters(), lr=0.01)\n",
    "val_loader = validation_generator\n",
    "model_dir = '/media/data/artifacts/2016/models/tra/'\n",
    "\n",
    "\n",
    "\n",
    "for epoch in range(10,epochs):\n",
    "    #state_h, state_c = model.init_state(sequence_length)\n",
    "    model.train()\n",
    "    # h = model.init_state(batch_size)\n",
    "\n",
    "    train_losses = []\n",
    "    validation_losses = []\n",
    "\n",
    "    for inputs, labels in training_generator:\n",
    "        counter += 1\n",
    "        # h = tuple([e.data for e in h])\n",
    "        # h = [x.to(device) for x in h]\n",
    "        inputs, labels = inputs.to(device).long(), labels.to(device)\n",
    "\n",
    "        model.zero_grad()\n",
    "        output, _ = model(inputs)\n",
    "        loss = criterion(output.squeeze(), labels.float())\n",
    "        # loss = f.cross_entropy(output, lables)\n",
    "        train_losses.append(loss.item())\n",
    "        \n",
    "        optimizer.zero_grad()\n",
    "        loss.backward()\n",
    "        #nn.utils.clip_grad_norm_(model.parameters(), clip)\n",
    "        optimizer.step()\n",
    "\n",
    "        \n",
    "    model.eval()\n",
    "    # val_h = model.init_state(batch_size)\n",
    "    for inp, lab in val_loader:\n",
    "        # val_h = tuple([each.data for each in val_h])\n",
    "        # val_h = [x.to(device) for x in val_h]\n",
    "        inp, lab = inp.to(device).long(), lab.to(device)\n",
    "\n",
    "        out, _  = model(inp)\n",
    "        val_loss = criterion(out.squeeze(), lab.float())\n",
    "        #val_loss = f.cross_entropy(out, lab)\n",
    "        validation_losses.append(val_loss.item())\n",
    "\n",
    "        \n",
    "    all_train_loss.append(np.mean(train_losses))\n",
    "    all_val_loss.append(np.mean(validation_losses))\n",
    "    eps.append(epoch+1)\n",
    "    torch.save(model, model_dir + str(epoch+1) + \"-tra-exp-3.pickle\")\n",
    "    df_loss = pd.DataFrame({'train_loss':all_train_loss})\n",
    "    df_loss['validation_loss'] = all_val_loss\n",
    "    df_loss['epochs'] = eps\n",
    "    df_loss.to_csv(model_dir + 'tra_exp_3.csv',mode='a', sep=',')\n",
    "    \n",
    "    logging.info(\"Epoch {}: {:.6f} loss, {:.6f} val loss\".format(epoch+1, np.mean(train_losses), np.mean(validation_losses)))"
   ]
  },
  {
   "cell_type": "code",
   "execution_count": 113,
   "metadata": {
    "colab": {
     "base_uri": "https://localhost:8080/",
     "height": 295
    },
    "executionInfo": {
     "elapsed": 881,
     "status": "ok",
     "timestamp": 1611346340127,
     "user": {
      "displayName": "Prabesh Pathak",
      "photoUrl": "https://lh3.googleusercontent.com/a-/AOh14Gh6ULNXNrYutw3u6ad06TMgRj97zOGaU28QfV_MCg=s64",
      "userId": "10507649871156130542"
     },
     "user_tz": 300
    },
    "id": "wLslPNdprumy",
    "outputId": "cb4507dd-e365-49af-cf15-99fda05a880c",
    "scrolled": true
   },
   "outputs": [
    {
     "data": {
      "image/png": "[encoded data removed]",
      "text/plain": [
       "<Figure size 432x288 with 1 Axes>"
      ]
     },
     "metadata": {},
     "output_type": "display_data"
    }
   ],
   "source": [
    "plt.plot(all_train_loss)\n",
    "plt.plot(all_val_loss)\n",
    "plt.title('model loss')\n",
    "plt.ylabel('loss')\n",
    "plt.xlabel('epoch')\n",
    "plt.legend(['train', 'validation'], loc='upper right')\n",
    "# fig = plt.figure(figsize=(3,6))\n",
    "plt.show()\n",
    "# plt.savefig(model_dir + 'loss.png', bbox_inches='tight')"
   ]
  },
  {
   "cell_type": "code",
   "execution_count": null,
   "metadata": {},
   "outputs": [],
   "source": [
    "df_loss = pd.DataFrame({'train_loss':all_train_loss})\n",
    "df_loss['validation_loss'] = all_val_loss\n",
    "df_loss.to_csv(model_dir + 'tra_exp_2.csv', sep=',')"
   ]
  },
  {
   "cell_type": "code",
   "execution_count": 54,
   "metadata": {},
   "outputs": [],
   "source": [
    "model_dir = '/media/data/artifacts/2016/models/tra/'\n",
    "df = pd.read_csv(model_dir + 'tra_exp_2.csv')\n",
    "# df.columns=['epoch', 'train_loss', 'validation_loss']\n",
    "df = df[['train_loss', 'validation_loss']]"
   ]
  },
  {
   "cell_type": "code",
   "execution_count": 55,
   "metadata": {},
   "outputs": [
    {
     "data": {
      "text/plain": [
       "[[<matplotlib.axis.XTick at 0x7f07f9fed310>,\n",
       "  <matplotlib.axis.XTick at 0x7f07f86f4e50>,\n",
       "  <matplotlib.axis.XTick at 0x7f07f86f4d10>,\n",
       "  <matplotlib.axis.XTick at 0x7f08102b7dd0>,\n",
       "  <matplotlib.axis.XTick at 0x7f08102c6350>,\n",
       "  <matplotlib.axis.XTick at 0x7f08102c68d0>,\n",
       "  <matplotlib.axis.XTick at 0x7f08102c6e90>,\n",
       "  <matplotlib.axis.XTick at 0x7f08102c7450>,\n",
       "  <matplotlib.axis.XTick at 0x7f08102c79d0>,\n",
       "  <matplotlib.axis.XTick at 0x7f08102c60d0>]]"
      ]
     },
     "execution_count": 55,
     "metadata": {},
     "output_type": "execute_result"
    },
    {
     "data": {
      "image/png": "[encoded data removed]",
      "text/plain": [
       "<Figure size 432x288 with 1 Axes>"
      ]
     },
     "metadata": {},
     "output_type": "display_data"
    }
   ],
   "source": [
    "t = [x for x in range(0,10,1)]\n",
    "sns.set(style=\"darkgrid\")\n",
    "g = sns.lineplot(data=df)\n",
    "g.set(xlabel='epochs', ylabel='loss')\n",
    "g.set(xticks=t)"
   ]
  },
  {
   "cell_type": "code",
   "execution_count": 139,
   "metadata": {},
   "outputs": [
    {
     "data": {
      "text/plain": [
       "1"
      ]
     },
     "execution_count": 139,
     "metadata": {},
     "output_type": "execute_result"
    }
   ],
   "source": [
    "torch.cuda.device_count()"
   ]
  },
  {
   "cell_type": "markdown",
   "metadata": {
    "id": "5wgrSyic0DZf"
   },
   "source": [
    "### Save model"
   ]
  },
  {
   "cell_type": "code",
   "execution_count": 34,
   "metadata": {
    "executionInfo": {
     "elapsed": 1218,
     "status": "ok",
     "timestamp": 1611346341017,
     "user": {
      "displayName": "Prabesh Pathak",
      "photoUrl": "https://lh3.googleusercontent.com/a-/AOh14Gh6ULNXNrYutw3u6ad06TMgRj97zOGaU28QfV_MCg=s64",
      "userId": "10507649871156130542"
     },
     "user_tz": 300
    },
    "id": "52rYyHwG0EJK"
   },
   "outputs": [],
   "source": [
    "model_dir = '/media/data/artifacts/2016/models/tra/'\n",
    "# torch.save(model, model_dir + \"final-transfomer-4000-ep-20-5_2.pickle\")\n",
    "# model = torch.load(model_dir + \"tra-5/\" + \"2-final-transfomer-4000-ep-10-5_5.pickle\")\n",
    "model = torch.load(model_dir + \"final-tra-exp-256-1.pickle\")\n",
    "# model = torch.load(model_dir + 'final-transfomer.pickle', map_location=torch.device('cuda'))"
   ]
  },
  {
   "cell_type": "markdown",
   "metadata": {},
   "source": [
    "### "
   ]
  },
  {
   "cell_type": "code",
   "execution_count": 35,
   "metadata": {},
   "outputs": [],
   "source": [
    "# device = torch.device(\"cpu\")\n",
    "# model= nn.DataParallel(model)\n",
    "# model.to(device)"
   ]
  },
  {
   "cell_type": "markdown",
   "metadata": {
    "id": "pBnPa9lKtFbU"
   },
   "source": [
    "### Testing"
   ]
  },
  {
   "cell_type": "code",
   "execution_count": 36,
   "metadata": {
    "colab": {
     "base_uri": "https://localhost:8080/"
    },
    "executionInfo": {
     "elapsed": 2629,
     "status": "ok",
     "timestamp": 1611346343132,
     "user": {
      "displayName": "Prabesh Pathak",
      "photoUrl": "https://lh3.googleusercontent.com/a-/AOh14Gh6ULNXNrYutw3u6ad06TMgRj97zOGaU28QfV_MCg=s64",
      "userId": "10507649871156130542"
     },
     "user_tz": 300
    },
    "id": "N8BxdgXZ5AVe",
    "outputId": "9f370411-1600-46aa-fe82-1a6da337dc14",
    "scrolled": false
   },
   "outputs": [],
   "source": [
    "def test(model, test_generator):\n",
    "    test_losses = []\n",
    "    num_correct = 0\n",
    "    a_weights = []\n",
    "    pred_label = []\n",
    "    true_label = []\n",
    "    prediction = []\n",
    "    criterion = nn.BCELoss()\n",
    "#     optimizer = optim.Adam(model.parameters(), lr=0.0005)\n",
    "#     model.eval()\n",
    "    with torch.no_grad():\n",
    "        for inputs, labels in test_generator:\n",
    "            inputs, labels = inputs.to(device).long(), labels.to(device)\n",
    "            output, a_out = model(inputs)\n",
    "\n",
    "            for out in output:\n",
    "    #             o = out.cpu().numpy()\n",
    "                prediction.append(out.cpu().numpy())\n",
    "                #o = out.round().cpu().numpy()\n",
    "                # if o[0] == 0 :   #this mean _label1_ bad\n",
    "                #     pred_label.append(0)\n",
    "                # else:            #this mean _label2_ good\n",
    "                #     pred_label.append(1)\n",
    "\n",
    "\n",
    "            for label in labels:\n",
    "                l = label.cpu().numpy()\n",
    "                if l[0] == 0 :\n",
    "                    true_label.append(1) # malicious apps\n",
    "                else:\n",
    "                    true_label.append(0)\n",
    "\n",
    "            for each_a_out in a_out:\n",
    "                a = each_a_out\n",
    "                a = a.squeeze()\n",
    "                a = torch.mean(a,0) #if only 1 head\n",
    "                a = torch.mean(a,0)\n",
    "                a_weights.append(a.cpu().numpy())\n",
    "\n",
    "            test_loss = criterion(output.squeeze(), labels.float())\n",
    "            test_losses.append(test_loss.item())\n",
    "\n",
    "\n",
    "#     print(\"Test loss: {:.3f}\".format(np.mean(test_losses)))\n",
    "#     test_acc = num_correct/len(test_generator.dataset)\n",
    "    #print(\"Test accuracy: {:.3f}%\".format(test_acc*100))\n",
    "    return prediction, true_label, a_weights, test_losses"
   ]
  },
  {
   "cell_type": "code",
   "execution_count": 37,
   "metadata": {
    "scrolled": true
   },
   "outputs": [
    {
     "name": "stdout",
     "output_type": "stream",
     "text": [
      "Test loss: 0.207\n"
     ]
    }
   ],
   "source": [
    "prediction, true_label, a_weights, test_losses = test(model,test_generator)\n",
    "print(\"Test loss: {:.3f}\".format(np.mean(test_losses)))"
   ]
  },
  {
   "cell_type": "code",
   "execution_count": null,
   "metadata": {},
   "outputs": [],
   "source": []
  },
  {
   "cell_type": "code",
   "execution_count": 38,
   "metadata": {
    "executionInfo": {
     "elapsed": 754,
     "status": "ok",
     "timestamp": 1611346344354,
     "user": {
      "displayName": "Prabesh Pathak",
      "photoUrl": "https://lh3.googleusercontent.com/a-/AOh14Gh6ULNXNrYutw3u6ad06TMgRj97zOGaU28QfV_MCg=s64",
      "userId": "10507649871156130542"
     },
     "user_tz": 300
    },
    "id": "YQKYT0zS5SRh"
   },
   "outputs": [],
   "source": [
    "prediction1 = np.argmax(prediction, axis=1)  ## Prediction for bad reviews in terms of 0 and 1 for all test data\n",
    "prediction_for_1=[] ## Prediction for bad reviews only\n",
    "for each_prediction in prediction:\n",
    "    prediction_for_1.append(each_prediction[1])\n",
    "\n",
    "c = confusion_matrix(true_label,prediction1 )"
   ]
  },
  {
   "cell_type": "code",
   "execution_count": 39,
   "metadata": {
    "colab": {
     "base_uri": "https://localhost:8080/"
    },
    "executionInfo": {
     "elapsed": 808,
     "status": "ok",
     "timestamp": 1611346344889,
     "user": {
      "displayName": "Prabesh Pathak",
      "photoUrl": "https://lh3.googleusercontent.com/a-/AOh14Gh6ULNXNrYutw3u6ad06TMgRj97zOGaU28QfV_MCg=s64",
      "userId": "10507649871156130542"
     },
     "user_tz": 300
    },
    "id": "MAd7wj5FoopS",
    "outputId": "0061d537-47ad-4b34-ad51-773d326a9a78"
   },
   "outputs": [
    {
     "data": {
      "text/plain": [
       "array([[1495,   41],\n",
       "       [ 105,  407]])"
      ]
     },
     "execution_count": 39,
     "metadata": {},
     "output_type": "execute_result"
    }
   ],
   "source": [
    "c"
   ]
  },
  {
   "cell_type": "code",
   "execution_count": 40,
   "metadata": {
    "colab": {
     "base_uri": "https://localhost:8080/",
     "height": 313
    },
    "executionInfo": {
     "elapsed": 1019,
     "status": "ok",
     "timestamp": 1611346346611,
     "user": {
      "displayName": "Prabesh Pathak",
      "photoUrl": "https://lh3.googleusercontent.com/a-/AOh14Gh6ULNXNrYutw3u6ad06TMgRj97zOGaU28QfV_MCg=s64",
      "userId": "10507649871156130542"
     },
     "user_tz": 300
    },
    "id": "LyVNSOVB5bGf",
    "outputId": "931c5bde-3e53-4773-8cfe-3dce5ceb5205"
   },
   "outputs": [
    {
     "name": "stderr",
     "output_type": "stream",
     "text": [
      "09-Mar-21 17:58:10 - Note: NumExpr detected 32 cores but \"NUMEXPR_MAX_THREADS\" not set, so enforcing safe limit of 8.\n",
      "09-Mar-21 17:58:10 - NumExpr defaulting to 8 threads.\n"
     ]
    },
    {
     "data": {
      "text/plain": [
       "[Text(0, 0.5, 'benign'), Text(0, 1.5, 'malicious')]"
      ]
     },
     "execution_count": 40,
     "metadata": {},
     "output_type": "execute_result"
    },
    {
     "data": {
      "image/png": "[encoded data removed]",
      "text/plain": [
       "<Figure size 432x288 with 2 Axes>"
      ]
     },
     "metadata": {
      "needs_background": "light"
     },
     "output_type": "display_data"
    }
   ],
   "source": [
    "import seaborn as sns\n",
    "import matplotlib.pyplot as plt     \n",
    "\n",
    "ax= plt.subplot()\n",
    "sns.heatmap(c, annot=True, fmt='g')\n",
    "\n",
    "# labels, title and ticks\n",
    "ax.set_xlabel('Predicted labels')\n",
    "ax.set_ylabel('True labels')\n",
    "ax.set_title('Confusion Matrix')\n",
    "ax.xaxis.set_ticklabels(['benign', 'malicious']) \n",
    "ax.yaxis.set_ticklabels(['benign', 'malicious'])"
   ]
  },
  {
   "cell_type": "markdown",
   "metadata": {
    "id": "RSsF5N4ctSR2"
   },
   "source": [
    "#### Evaluation Metrics"
   ]
  },
  {
   "cell_type": "code",
   "execution_count": 41,
   "metadata": {
    "colab": {
     "base_uri": "https://localhost:8080/"
    },
    "executionInfo": {
     "elapsed": 761,
     "status": "ok",
     "timestamp": 1611346390298,
     "user": {
      "displayName": "Prabesh Pathak",
      "photoUrl": "https://lh3.googleusercontent.com/a-/AOh14Gh6ULNXNrYutw3u6ad06TMgRj97zOGaU28QfV_MCg=s64",
      "userId": "10507649871156130542"
     },
     "user_tz": 300
    },
    "id": "uClIRxaMrut_",
    "outputId": "c6fb7783-9ce9-4863-eb6b-cc3794e69223"
   },
   "outputs": [
    {
     "name": "stdout",
     "output_type": "stream",
     "text": [
      "Area under graph 0.9291419554663998\n",
      "-------------------------------------------------\n",
      "Precision for Malicious apps 0.9084821428571429\n",
      "Recall for Malicious apps 0.794921875\n",
      "F1-score for Malicious apps  0.8479166666666668\n",
      "-------------------------------------------------\n",
      "Precision for Benign apps 0.934375\n",
      "Recall for Benign apps 0.9733072916666666\n",
      "F1-score for Benign apps  0.9534438775510203\n"
     ]
    }
   ],
   "source": [
    "from sklearn.metrics import precision_recall_curve\n",
    "from sklearn.metrics import precision_score\n",
    "from sklearn.metrics import recall_score\n",
    "from sklearn.metrics import auc\n",
    "import matplotlib.pyplot as plt\n",
    "from sklearn.model_selection import StratifiedShuffleSplit\n",
    "from sklearn.metrics import f1_score\n",
    "from inspect import signature\n",
    "\n",
    "truelabel = true_label\n",
    "predictedlabel = np.array(prediction1)\n",
    "\n",
    "precision, recall, _ = precision_recall_curve(truelabel,np.array(prediction_for_1))\n",
    "au = auc(recall, precision)\n",
    "print(\"Area under graph \"+str(au))\n",
    "print(\"-------------------------------------------------\")\n",
    "rec_score = recall_score(truelabel,predictedlabel,pos_label=1,average='binary')\n",
    "precise_score = precision_score(truelabel,predictedlabel,pos_label=1,average='binary')\n",
    "f1 = f1_score(truelabel,predictedlabel,pos_label=1, average='binary')\n",
    "print(\"Precision for Malicious apps \"+str(precise_score))\n",
    "print(\"Recall for Malicious apps \"+str(rec_score))\n",
    "print(\"F1-score for Malicious apps  \" + str(f1))\n",
    "print(\"-------------------------------------------------\")\n",
    "rec_score = recall_score(truelabel,predictedlabel,pos_label=0,average='binary')\n",
    "precise_score = precision_score(truelabel,predictedlabel,pos_label=0,average='binary')\n",
    "f1 = f1_score(truelabel,predictedlabel,pos_label=0, average='binary')\n",
    "print(\"Precision for Benign apps \"+str(precise_score))\n",
    "print(\"Recall for Benign apps \"+str(rec_score))\n",
    "print(\"F1-score for Benign apps  \" + str(f1))"
   ]
  },
  {
   "cell_type": "code",
   "execution_count": 42,
   "metadata": {
    "colab": {
     "base_uri": "https://localhost:8080/",
     "height": 297
    },
    "executionInfo": {
     "elapsed": 782,
     "status": "ok",
     "timestamp": 1611346390502,
     "user": {
      "displayName": "Prabesh Pathak",
      "photoUrl": "https://lh3.googleusercontent.com/a-/AOh14Gh6ULNXNrYutw3u6ad06TMgRj97zOGaU28QfV_MCg=s64",
      "userId": "10507649871156130542"
     },
     "user_tz": 300
    },
    "id": "39zk95EJAkDZ",
    "outputId": "1dc71fc1-6172-46ee-c9e8-6a4e9f5b7316"
   },
   "outputs": [
    {
     "data": {
      "image/png": "[encoded data removed]",
      "text/plain": [
       "<Figure size 432x288 with 1 Axes>"
      ]
     },
     "metadata": {
      "needs_background": "light"
     },
     "output_type": "display_data"
    }
   ],
   "source": [
    "positive_cases = sum(truelabel)/len(truelabel)\n",
    "plt.plot([0, 1], [positive_cases, positive_cases], linestyle='--')\n",
    "\n",
    "# In matplotlib < 1.5, plt.fill_between does not have a 'step' argument\n",
    "step_kwargs = ({'step': 'post'}\n",
    "                if 'step' in signature(plt.fill_between).parameters\n",
    "                else {})\n",
    "plt.step(recall, precision, color='b', alpha=0.2,\n",
    "            where='post')\n",
    "plt.fill_between(recall, precision, alpha=0.2, color='b', **step_kwargs)\n",
    "\n",
    "plt.xlabel('Recall')\n",
    "plt.ylabel('Precision')\n",
    "plt.ylim([0.0, 1.05])\n",
    "plt.xlim([0.0, 1.0])\n",
    "plt.title('Precision-Recall curve')\n",
    "plt.tight_layout()"
   ]
  },
  {
   "cell_type": "code",
   "execution_count": null,
   "metadata": {},
   "outputs": [],
   "source": []
  }
 ],
 "metadata": {
  "accelerator": "GPU",
  "colab": {
   "authorship_tag": "ABX9TyPdR6ZJpyep8kagIgsoD2po",
   "collapsed_sections": [
    "sAVVyiC9KYhb",
    "Ar_fxvJoKeqD"
   ],
   "machine_shape": "hm",
   "name": "1k-transformer",
   "provenance": []
  },
  "kernelspec": {
   "display_name": "Python 3",
   "language": "python",
   "name": "python3"
  },
  "language_info": {
   "codemirror_mode": {
    "name": "ipython",
    "version": 3
   },
   "file_extension": ".py",
   "mimetype": "text/x-python",
   "name": "python",
   "nbconvert_exporter": "python",
   "pygments_lexer": "ipython3",
   "version": "3.7.6"
  }
 },
 "nbformat": 4,
 "nbformat_minor": 1
}
