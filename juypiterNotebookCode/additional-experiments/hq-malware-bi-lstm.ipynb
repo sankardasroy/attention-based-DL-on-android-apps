{
 "cells": [
  {
   "cell_type": "code",
   "execution_count": 1,
   "metadata": {
    "executionInfo": {
     "elapsed": 6636,
     "status": "ok",
     "timestamp": 1611337615832,
     "user": {
      "displayName": "Prabesh Pathak",
      "photoUrl": "https://lh3.googleusercontent.com/a-/AOh14Gh6ULNXNrYutw3u6ad06TMgRj97zOGaU28QfV_MCg=s64",
      "userId": "10507649871156130542"
     },
     "user_tz": 300
    },
    "id": "w3J58FTeGdMj"
   },
   "outputs": [],
   "source": [
    "import numpy as np\n",
    "import bz2\n",
    "from collections import Counter\n",
    "import re\n",
    "import nltk\n",
    "import torch\n",
    "import math\n",
    "import random\n",
    "import keras\n",
    "from torch import nn\n",
    "from torch import optim\n",
    "from torch import Tensor\n",
    "from torch import LongTensor\n",
    "from torch.utils.data import TensorDataset\n",
    "from torch.utils.data import DataLoader\n",
    "import logging\n",
    "import pandas as pd\n",
    "from sklearn.model_selection import train_test_split\n",
    "import matplotlib.pyplot as plt\n",
    "from sklearn.metrics import confusion_matrix\n",
    "from keras.preprocessing.text import Tokenizer\n",
    "from keras.preprocessing import sequence\n",
    "from gensim.models import KeyedVectors\n",
    "from gensim.models import Word2Vec\n",
    "import seaborn as sns"
   ]
  },
  {
   "cell_type": "code",
   "execution_count": 2,
   "metadata": {
    "executionInfo": {
     "elapsed": 6632,
     "status": "ok",
     "timestamp": 1611337615833,
     "user": {
      "displayName": "Prabesh Pathak",
      "photoUrl": "https://lh3.googleusercontent.com/a-/AOh14Gh6ULNXNrYutw3u6ad06TMgRj97zOGaU28QfV_MCg=s64",
      "userId": "10507649871156130542"
     },
     "user_tz": 300
    },
    "id": "Y6cQ6K3jjyqX"
   },
   "outputs": [],
   "source": [
    "logging.basicConfig(format='%(asctime)s - %(message)s', datefmt='%d-%b-%y %H:%M:%S')\n",
    "logging.getLogger().setLevel(logging.INFO)\n",
    "nn_Softargmax = nn.Softmax  # fix wrong name"
   ]
  },
  {
   "cell_type": "code",
   "execution_count": 3,
   "metadata": {
    "executionInfo": {
     "elapsed": 366,
     "status": "ok",
     "timestamp": 1611337637126,
     "user": {
      "displayName": "Prabesh Pathak",
      "photoUrl": "https://lh3.googleusercontent.com/a-/AOh14Gh6ULNXNrYutw3u6ad06TMgRj97zOGaU28QfV_MCg=s64",
      "userId": "10507649871156130542"
     },
     "user_tz": 300
    },
    "id": "CoWzQWBTGoCy"
   },
   "outputs": [],
   "source": [
    "train_dir = '/media/data/artifacts/2016/train/'\n",
    "test_dir = '/media/data/artifacts/2016/vt_test/'\n",
    "# test_dir = '/media/data/artifacts/vt/test/'\n",
    "train_labels_dir = '/media/data/artifacts/2016/train_labels.txt'\n",
    "test_labels_dir = '/media/data/artifacts/2016/vt_test_labels.txt'\n",
    "# test_labels_dir = '/media/data/artifacts/vt/test_labels.txt'\n",
    "word2vec_model_dir = '/media/data/artifacts/2016/final256.model'\n",
    "# word2vec_model_dir = '/media/data/1000apks/first.model'\n",
    "model_dir = '/media/data/artifacts/2016/models/'"
   ]
  },
  {
   "cell_type": "code",
   "execution_count": 4,
   "metadata": {
    "colab": {
     "base_uri": "https://localhost:8080/"
    },
    "executionInfo": {
     "elapsed": 3409,
     "status": "ok",
     "timestamp": 1611337641111,
     "user": {
      "displayName": "Prabesh Pathak",
      "photoUrl": "https://lh3.googleusercontent.com/a-/AOh14Gh6ULNXNrYutw3u6ad06TMgRj97zOGaU28QfV_MCg=s64",
      "userId": "10507649871156130542"
     },
     "user_tz": 300
    },
    "id": "9bXkvxCQVtaX",
    "outputId": "a20e5555-b880-4443-a6bb-e18bc5dacc53"
   },
   "outputs": [
    {
     "name": "stdout",
     "output_type": "stream",
     "text": [
      "154800 /media/data/artifacts/2016/train_labels.txt\r\n"
     ]
    }
   ],
   "source": [
    "!wc -l /media/data/artifacts/2016/train_labels.txt"
   ]
  },
  {
   "cell_type": "code",
   "execution_count": 5,
   "metadata": {
    "colab": {
     "base_uri": "https://localhost:8080/"
    },
    "executionInfo": {
     "elapsed": 3245,
     "status": "ok",
     "timestamp": 1611337641819,
     "user": {
      "displayName": "Prabesh Pathak",
      "photoUrl": "https://lh3.googleusercontent.com/a-/AOh14Gh6ULNXNrYutw3u6ad06TMgRj97zOGaU28QfV_MCg=s64",
      "userId": "10507649871156130542"
     },
     "user_tz": 300
    },
    "id": "_DSdLJmW56vw",
    "outputId": "a15542fc-abf0-44f9-d7c8-780cd4d11954"
   },
   "outputs": [
    {
     "name": "stdout",
     "output_type": "stream",
     "text": [
      "2048 /media/data/artifacts/2016/vt_test_labels.txt\r\n"
     ]
    }
   ],
   "source": [
    "!wc -l /media/data/artifacts/2016/vt_test_labels.txt\n",
    "# !wc -l /media/data/artifacts/vt/test_labels.txt"
   ]
  },
  {
   "cell_type": "code",
   "execution_count": 6,
   "metadata": {},
   "outputs": [],
   "source": [
    "x = !ls -l /media/data/artifacts/2016/train | wc -l\n",
    "len_train = int(x[0]) - 1\n",
    "y = !ls -l /media/data/artifacts/2016/vt_test | wc -l\n",
    "# y = !ls -l /media/data/artifacts/vt/test | wc -l\n",
    "len_test = int(y[0]) - 1"
   ]
  },
  {
   "cell_type": "code",
   "execution_count": 7,
   "metadata": {},
   "outputs": [
    {
     "name": "stdout",
     "output_type": "stream",
     "text": [
      "154800\n",
      "2048\n"
     ]
    }
   ],
   "source": [
    "print(len_train)\n",
    "print(len_test)"
   ]
  },
  {
   "cell_type": "markdown",
   "metadata": {
    "id": "VCufhZV7sTIM"
   },
   "source": [
    "### Load word2 vec model"
   ]
  },
  {
   "cell_type": "code",
   "execution_count": 8,
   "metadata": {
    "colab": {
     "base_uri": "https://localhost:8080/"
    },
    "executionInfo": {
     "elapsed": 1573,
     "status": "ok",
     "timestamp": 1611337644326,
     "user": {
      "displayName": "Prabesh Pathak",
      "photoUrl": "https://lh3.googleusercontent.com/a-/AOh14Gh6ULNXNrYutw3u6ad06TMgRj97zOGaU28QfV_MCg=s64",
      "userId": "10507649871156130542"
     },
     "user_tz": 300
    },
    "id": "-_0AtJOpV_Rm",
    "outputId": "878a3c33-7ed3-4827-e8c3-39bb0e589451"
   },
   "outputs": [
    {
     "name": "stderr",
     "output_type": "stream",
     "text": [
      "09-Mar-21 17:28:15 - loading Word2VecKeyedVectors object from /media/data/artifacts/2016/final256.model\n",
      "09-Mar-21 17:28:17 - loading vectors from /media/data/artifacts/2016/final256.model.vectors.npy with mmap=r\n",
      "09-Mar-21 17:28:17 - setting ignored attribute vectors_norm to None\n",
      "09-Mar-21 17:28:17 - loaded /media/data/artifacts/2016/final256.model\n"
     ]
    }
   ],
   "source": [
    "word2vec_model = KeyedVectors.load(word2vec_model_dir, mmap='r')"
   ]
  },
  {
   "cell_type": "code",
   "execution_count": 9,
   "metadata": {
    "colab": {
     "base_uri": "https://localhost:8080/"
    },
    "executionInfo": {
     "elapsed": 1248,
     "status": "ok",
     "timestamp": 1611337644327,
     "user": {
      "displayName": "Prabesh Pathak",
      "photoUrl": "https://lh3.googleusercontent.com/a-/AOh14Gh6ULNXNrYutw3u6ad06TMgRj97zOGaU28QfV_MCg=s64",
      "userId": "10507649871156130542"
     },
     "user_tz": 300
    },
    "id": "Sw5466pqwhiU",
    "outputId": "05945459-a76e-455f-9996-01f12a98bb7f"
   },
   "outputs": [
    {
     "name": "stderr",
     "output_type": "stream",
     "text": [
      "/home/ubuntu/anaconda3/lib/python3.7/site-packages/ipykernel_launcher.py:1: DeprecationWarning: Call to deprecated `wv` (Attribute will be removed in 4.0.0, use self instead).\n",
      "  \"\"\"Entry point for launching an IPython kernel.\n"
     ]
    },
    {
     "data": {
      "text/plain": [
       "850193"
      ]
     },
     "execution_count": 9,
     "metadata": {},
     "output_type": "execute_result"
    }
   ],
   "source": [
    "len(word2vec_model.wv.vocab)"
   ]
  },
  {
   "cell_type": "markdown",
   "metadata": {
    "id": "l0RghgSvsoAv"
   },
   "source": [
    "### Create train and test labels"
   ]
  },
  {
   "cell_type": "code",
   "execution_count": 10,
   "metadata": {
    "executionInfo": {
     "elapsed": 771,
     "status": "ok",
     "timestamp": 1611337646552,
     "user": {
      "displayName": "Prabesh Pathak",
      "photoUrl": "https://lh3.googleusercontent.com/a-/AOh14Gh6ULNXNrYutw3u6ad06TMgRj97zOGaU28QfV_MCg=s64",
      "userId": "10507649871156130542"
     },
     "user_tz": 300
    },
    "id": "o4eRkfzKU0y0"
   },
   "outputs": [],
   "source": [
    "train_label_dict={}\n",
    "count = 0\n",
    "with open(train_labels_dir) as file:\n",
    "    for _ in range(len_train):\n",
    "        line  = file.readline().strip().split(\",\")\n",
    "#         if line[0] in train_label_dict and line[1] == '0':\n",
    "#             count+=1\n",
    "#             print(line[0],line[1])\n",
    "        train_label_dict[line[0]] = int(line[1])"
   ]
  },
  {
   "cell_type": "code",
   "execution_count": 11,
   "metadata": {
    "executionInfo": {
     "elapsed": 976,
     "status": "ok",
     "timestamp": 1611337647614,
     "user": {
      "displayName": "Prabesh Pathak",
      "photoUrl": "https://lh3.googleusercontent.com/a-/AOh14Gh6ULNXNrYutw3u6ad06TMgRj97zOGaU28QfV_MCg=s64",
      "userId": "10507649871156130542"
     },
     "user_tz": 300
    },
    "id": "0agI9KeW5vUk"
   },
   "outputs": [],
   "source": [
    "test_label_dict={}\n",
    "with open(test_labels_dir) as file:\n",
    "    for _ in range(len_test):\n",
    "        line  = file.readline().strip().split(\",\")\n",
    "        test_label_dict[line[0]] = int(line[1])"
   ]
  },
  {
   "cell_type": "markdown",
   "metadata": {
    "id": "22nz7V-05Mof"
   },
   "source": [
    "### Create word2index and index2word dict"
   ]
  },
  {
   "cell_type": "code",
   "execution_count": 12,
   "metadata": {},
   "outputs": [
    {
     "data": {
      "text/plain": [
       "154800"
      ]
     },
     "execution_count": 12,
     "metadata": {},
     "output_type": "execute_result"
    }
   ],
   "source": [
    "len(train_label_dict)"
   ]
  },
  {
   "cell_type": "code",
   "execution_count": 13,
   "metadata": {},
   "outputs": [
    {
     "data": {
      "text/plain": [
       "2048"
      ]
     },
     "execution_count": 13,
     "metadata": {},
     "output_type": "execute_result"
    }
   ],
   "source": [
    "len(test_label_dict)"
   ]
  },
  {
   "cell_type": "code",
   "execution_count": 14,
   "metadata": {
    "colab": {
     "base_uri": "https://localhost:8080/"
    },
    "executionInfo": {
     "elapsed": 449,
     "status": "ok",
     "timestamp": 1611337649618,
     "user": {
      "displayName": "Prabesh Pathak",
      "photoUrl": "https://lh3.googleusercontent.com/a-/AOh14Gh6ULNXNrYutw3u6ad06TMgRj97zOGaU28QfV_MCg=s64",
      "userId": "10507649871156130542"
     },
     "user_tz": 300
    },
    "id": "RZsZN0Djcoxt",
    "outputId": "248e4089-02ca-46bc-c342-dd809defe8ad"
   },
   "outputs": [
    {
     "name": "stderr",
     "output_type": "stream",
     "text": [
      "/home/ubuntu/anaconda3/lib/python3.7/site-packages/ipykernel_launcher.py:2: DeprecationWarning: Call to deprecated `wv` (Attribute will be removed in 4.0.0, use self instead).\n",
      "  \n"
     ]
    }
   ],
   "source": [
    "tokenizer = Tokenizer(filters='#\\n')\n",
    "tokenizer.fit_on_texts(word2vec_model.wv.vocab.keys())\n",
    "word_index = tokenizer.word_index"
   ]
  },
  {
   "cell_type": "code",
   "execution_count": 15,
   "metadata": {
    "executionInfo": {
     "elapsed": 813,
     "status": "ok",
     "timestamp": 1611337650668,
     "user": {
      "displayName": "Prabesh Pathak",
      "photoUrl": "https://lh3.googleusercontent.com/a-/AOh14Gh6ULNXNrYutw3u6ad06TMgRj97zOGaU28QfV_MCg=s64",
      "userId": "10507649871156130542"
     },
     "user_tz": 300
    },
    "id": "nXIB63ZlL5V5"
   },
   "outputs": [],
   "source": [
    "idx2word = {v: k for k, v in word_index.items()}"
   ]
  },
  {
   "cell_type": "code",
   "execution_count": 16,
   "metadata": {
    "colab": {
     "base_uri": "https://localhost:8080/"
    },
    "executionInfo": {
     "elapsed": 744,
     "status": "ok",
     "timestamp": 1611337651281,
     "user": {
      "displayName": "Prabesh Pathak",
      "photoUrl": "https://lh3.googleusercontent.com/a-/AOh14Gh6ULNXNrYutw3u6ad06TMgRj97zOGaU28QfV_MCg=s64",
      "userId": "10507649871156130542"
     },
     "user_tz": 300
    },
    "id": "CFS9tZrl0urv",
    "outputId": "8b8ad9fb-7080-405d-809e-caa7b1c4b059"
   },
   "outputs": [
    {
     "data": {
      "text/plain": [
       "850192"
      ]
     },
     "execution_count": 16,
     "metadata": {},
     "output_type": "execute_result"
    }
   ],
   "source": [
    "len(word_index)"
   ]
  },
  {
   "cell_type": "code",
   "execution_count": 17,
   "metadata": {},
   "outputs": [
    {
     "data": {
      "text/plain": [
       "dict"
      ]
     },
     "execution_count": 17,
     "metadata": {},
     "output_type": "execute_result"
    }
   ],
   "source": [
    "type(word_index)"
   ]
  },
  {
   "cell_type": "code",
   "execution_count": 18,
   "metadata": {},
   "outputs": [],
   "source": [
    "android = 0\n",
    "java = 0\n",
    "amazon = 0\n",
    "google = 0\n",
    "apache = 0\n",
    "facebook = 0\n",
    "others = 0\n",
    "o = []\n",
    "apis = {\"android\":0,\n",
    "        \"java\":0,\n",
    "        \"google\":0,\n",
    "#         \"amazon\":0,\n",
    "        \"facebook\":0,\n",
    "        \"apache\":0,\n",
    "        \"others\":0}\n",
    "\n",
    "for k,v in word_index.items():\n",
    "    if k.find(\"android\") != -1:\n",
    "        apis['android'] += 1\n",
    "        android += 1\n",
    "    elif k.find(\"java\") != -1:\n",
    "        java += 1\n",
    "        apis['java'] += 1\n",
    "    elif k.find(\"google\") != -1:\n",
    "        google += 1\n",
    "        apis['google'] += 1\n",
    "#     elif k.find(\"amazon\") != -1:\n",
    "#         amazon += 1\n",
    "#         apis['amazon'] += 1\n",
    "    elif k.find(\"facebook\") != -1:\n",
    "        facebook += 1\n",
    "        apis['facebook'] += 1\n",
    "    elif k.find(\"apache\") != -1:\n",
    "        apache += 1\n",
    "        apis['apache'] += 1\n",
    "    else:\n",
    "        o.append(k)\n",
    "        others += 1\n",
    "        apis['others'] += 1"
   ]
  },
  {
   "cell_type": "code",
   "execution_count": 19,
   "metadata": {},
   "outputs": [
    {
     "data": {
      "text/plain": [
       "{'android': 336609,\n",
       " 'java': 232249,\n",
       " 'google': 8516,\n",
       " 'facebook': 7664,\n",
       " 'apache': 4431,\n",
       " 'others': 260723}"
      ]
     },
     "execution_count": 19,
     "metadata": {},
     "output_type": "execute_result"
    }
   ],
   "source": [
    "apis"
   ]
  },
  {
   "cell_type": "code",
   "execution_count": 20,
   "metadata": {},
   "outputs": [
    {
     "name": "stdout",
     "output_type": "stream",
     "text": [
      "android 336609\n",
      "java 232249\n",
      "google 8516\n",
      "amazon 0\n",
      "facebook 7664\n",
      "apache 4431\n",
      "others 260723\n"
     ]
    }
   ],
   "source": [
    "print('android',android)\n",
    "print('java',java)\n",
    "print('google',google)\n",
    "print('amazon',amazon)\n",
    "print('facebook',facebook)\n",
    "print('apache',apache)\n",
    "print('others',others)"
   ]
  },
  {
   "cell_type": "code",
   "execution_count": 21,
   "metadata": {},
   "outputs": [],
   "source": [
    "cols = [\"api-source\",\"count\"]\n",
    "df_a = pd.DataFrame.from_dict(apis, orient='index').reset_index()"
   ]
  },
  {
   "cell_type": "code",
   "execution_count": 22,
   "metadata": {},
   "outputs": [
    {
     "data": {
      "text/html": [
       "<div>\n",
       "<style scoped>\n",
       "    .dataframe tbody tr th:only-of-type {\n",
       "        vertical-align: middle;\n",
       "    }\n",
       "\n",
       "    .dataframe tbody tr th {\n",
       "        vertical-align: top;\n",
       "    }\n",
       "\n",
       "    .dataframe thead th {\n",
       "        text-align: right;\n",
       "    }\n",
       "</style>\n",
       "<table border=\"1\" class=\"dataframe\">\n",
       "  <thead>\n",
       "    <tr style=\"text-align: right;\">\n",
       "      <th></th>\n",
       "      <th>api-source</th>\n",
       "      <th>count</th>\n",
       "    </tr>\n",
       "  </thead>\n",
       "  <tbody>\n",
       "    <tr>\n",
       "      <th>0</th>\n",
       "      <td>android</td>\n",
       "      <td>336609</td>\n",
       "    </tr>\n",
       "    <tr>\n",
       "      <th>1</th>\n",
       "      <td>java</td>\n",
       "      <td>232249</td>\n",
       "    </tr>\n",
       "    <tr>\n",
       "      <th>2</th>\n",
       "      <td>google</td>\n",
       "      <td>8516</td>\n",
       "    </tr>\n",
       "    <tr>\n",
       "      <th>3</th>\n",
       "      <td>facebook</td>\n",
       "      <td>7664</td>\n",
       "    </tr>\n",
       "    <tr>\n",
       "      <th>4</th>\n",
       "      <td>apache</td>\n",
       "      <td>4431</td>\n",
       "    </tr>\n",
       "    <tr>\n",
       "      <th>5</th>\n",
       "      <td>others</td>\n",
       "      <td>260723</td>\n",
       "    </tr>\n",
       "  </tbody>\n",
       "</table>\n",
       "</div>"
      ],
      "text/plain": [
       "  api-source   count\n",
       "0    android  336609\n",
       "1       java  232249\n",
       "2     google    8516\n",
       "3   facebook    7664\n",
       "4     apache    4431\n",
       "5     others  260723"
      ]
     },
     "execution_count": 22,
     "metadata": {},
     "output_type": "execute_result"
    }
   ],
   "source": [
    "df_a.columns = cols\n",
    "# df_a = df_a.sort_values(by='count', ascending=False)\n",
    "df_a\n"
   ]
  },
  {
   "cell_type": "code",
   "execution_count": 23,
   "metadata": {},
   "outputs": [],
   "source": [
    "pal = sns.color_palette(\"rocket\", len(df_a))\n",
    "# sns.set(rc={'figure.figsize':(8,5)})"
   ]
  },
  {
   "cell_type": "code",
   "execution_count": 24,
   "metadata": {},
   "outputs": [
    {
     "data": {
      "image/png": "[encoded data removed]",
      "text/plain": [
       "<Figure size 432x288 with 1 Axes>"
      ]
     },
     "metadata": {},
     "output_type": "display_data"
    }
   ],
   "source": [
    "sns.set(style=\"darkgrid\")\n",
    "g = sns.barplot(x=\"api-source\", y=\"count\",data=df_a,palette=pal)\n",
    "# g.set(yscale=\"log\")"
   ]
  },
  {
   "cell_type": "code",
   "execution_count": null,
   "metadata": {},
   "outputs": [],
   "source": []
  },
  {
   "cell_type": "markdown",
   "metadata": {
    "id": "L5N0v8CUs0MS"
   },
   "source": [
    "### Create Train and Test Generators"
   ]
  },
  {
   "cell_type": "code",
   "execution_count": 25,
   "metadata": {
    "executionInfo": {
     "elapsed": 669,
     "status": "ok",
     "timestamp": 1611337656149,
     "user": {
      "displayName": "Prabesh Pathak",
      "photoUrl": "https://lh3.googleusercontent.com/a-/AOh14Gh6ULNXNrYutw3u6ad06TMgRj97zOGaU28QfV_MCg=s64",
      "userId": "10507649871156130542"
     },
     "user_tz": 300
    },
    "id": "Z7-pVq9GT7cY"
   },
   "outputs": [],
   "source": [
    "class TrainDataset(torch.utils.data.Dataset):\n",
    "  'Characterizes a dataset for PyTorch'\n",
    "  def __init__(self, files_list, labels):\n",
    "        'Initialization'\n",
    "        self.labels = labels\n",
    "        self.files_list = files_list\n",
    "\n",
    "  def __len__(self):\n",
    "        'Denotes the total number of samples'\n",
    "        return len(self.files_list)\n",
    "\n",
    "  def __getitem__(self, index):\n",
    "        'Generates one sample of data'\n",
    "        # Select sample\n",
    "        ID = self.files_list[index]\n",
    "\n",
    "        train_dir = '/media/data/artifacts/2016/train/'\n",
    "        # Load data and get label\n",
    "        #one_file = torch.load(train_dir + ID)\n",
    "        one_file = open(train_dir + ID,'r').read().strip() \n",
    "        # one_file = torch.load(train_dir + ID + '.txt')\n",
    "\n",
    "        X =  sequence.pad_sequences(tokenizer.texts_to_sequences([one_file]),maxlen=4000, padding='post',truncating='post')\n",
    "    \n",
    "        \n",
    "\n",
    "        if self.labels[ID] == 1:\n",
    "            y = [0,1]\n",
    "        else:\n",
    "            y = [1,0]\n",
    "\n",
    "        #y = self.labels[ID]\n",
    "        #y = torch.from_numpy(y)\n",
    "        y = torch.FloatTensor(y)\n",
    "\n",
    "        return X.squeeze(), y\n"
   ]
  },
  {
   "cell_type": "code",
   "execution_count": 26,
   "metadata": {
    "executionInfo": {
     "elapsed": 968,
     "status": "ok",
     "timestamp": 1611337657499,
     "user": {
      "displayName": "Prabesh Pathak",
      "photoUrl": "https://lh3.googleusercontent.com/a-/AOh14Gh6ULNXNrYutw3u6ad06TMgRj97zOGaU28QfV_MCg=s64",
      "userId": "10507649871156130542"
     },
     "user_tz": 300
    },
    "id": "UQIxSdvgYSH5"
   },
   "outputs": [],
   "source": [
    "class TestDataset(torch.utils.data.Dataset):\n",
    "  'Characterizes a dataset for PyTorch'\n",
    "  def __init__(self, files_list, labels):\n",
    "        'Initialization'\n",
    "        self.labels = labels\n",
    "        self.files_list = files_list\n",
    "\n",
    "  def __len__(self):\n",
    "        'Denotes the total number of samples'\n",
    "        return len(self.files_list)\n",
    "\n",
    "  def __getitem__(self, index):\n",
    "        'Generates one sample of data'\n",
    "        # Select sample\n",
    "        ID = self.files_list[index]\n",
    "\n",
    "        test_dir = '/media/data/artifacts/2016/vt_test/'\n",
    "#         test_dir = '/media/data/artifacts/vt/test/'\n",
    "        # Load data and get label\n",
    "\n",
    "        one_file = open(test_dir + ID,'r').read().strip() \n",
    "\n",
    "        X =  sequence.pad_sequences(tokenizer.texts_to_sequences([one_file]),maxlen=4000, padding='post',truncating='post')\n",
    "    \n",
    "        \n",
    "\n",
    "        if self.labels[ID] == 1:\n",
    "            y = [0,1]           #malicious\n",
    "        else:\n",
    "            y = [1,0]           #benign\n",
    "\n",
    "        #y = self.labels[ID]\n",
    "        #y = torch.from_numpy(y)\n",
    "        y = torch.FloatTensor(y)\n",
    "\n",
    "        return X.squeeze(), y"
   ]
  },
  {
   "cell_type": "code",
   "execution_count": 27,
   "metadata": {
    "executionInfo": {
     "elapsed": 930,
     "status": "ok",
     "timestamp": 1611337657711,
     "user": {
      "displayName": "Prabesh Pathak",
      "photoUrl": "https://lh3.googleusercontent.com/a-/AOh14Gh6ULNXNrYutw3u6ad06TMgRj97zOGaU28QfV_MCg=s64",
      "userId": "10507649871156130542"
     },
     "user_tz": 300
    },
    "id": "OVTzK0TOXZR8"
   },
   "outputs": [],
   "source": [
    "train = list(train_label_dict.keys())\n",
    "test = list(test_label_dict.keys())\n",
    "partition = {}\n",
    "partition['train'] = train\n",
    "partition['test'] = test\n",
    "train_labels= train_label_dict\n",
    "test_labels= test_label_dict"
   ]
  },
  {
   "cell_type": "code",
   "execution_count": 28,
   "metadata": {
    "executionInfo": {
     "elapsed": 1099,
     "status": "ok",
     "timestamp": 1611337658863,
     "user": {
      "displayName": "Prabesh Pathak",
      "photoUrl": "https://lh3.googleusercontent.com/a-/AOh14Gh6ULNXNrYutw3u6ad06TMgRj97zOGaU28QfV_MCg=s64",
      "userId": "10507649871156130542"
     },
     "user_tz": 300
    },
    "id": "12TiAtqMT7gK"
   },
   "outputs": [],
   "source": [
    "params1 = {'batch_size': 20,\n",
    "          'shuffle': True,\n",
    "          'drop_last': True,\n",
    "          'num_workers': 10}\n",
    "\n",
    "params2 = {'batch_size': 16,\n",
    "          'shuffle': False,\n",
    "          'drop_last': True,\n",
    "          'num_workers': 10}\n",
    "max_epochs = 1\n",
    "\n",
    "# Train Generators\n",
    "train_set = TrainDataset(partition['train'], train_labels)\n",
    "#training_generator = torch.utils.data.DataLoader(train_set, **params1)\n",
    "training_set, val_set = torch.utils.data.random_split(train_set, [139800, 15000])\n",
    "training_generator = torch.utils.data.DataLoader(training_set, **params1)\n",
    "validation_generator = torch.utils.data.DataLoader(val_set, **params1)\n",
    "\n",
    "# Test Generators\n",
    "test_set = TestDataset(partition['test'], test_labels)\n",
    "test_generator = torch.utils.data.DataLoader(test_set, **params2)\n",
    "\n"
   ]
  },
  {
   "cell_type": "code",
   "execution_count": 29,
   "metadata": {
    "colab": {
     "base_uri": "https://localhost:8080/"
    },
    "executionInfo": {
     "elapsed": 603,
     "status": "ok",
     "timestamp": 1611337660990,
     "user": {
      "displayName": "Prabesh Pathak",
      "photoUrl": "https://lh3.googleusercontent.com/a-/AOh14Gh6ULNXNrYutw3u6ad06TMgRj97zOGaU28QfV_MCg=s64",
      "userId": "10507649871156130542"
     },
     "user_tz": 300
    },
    "id": "heXnuEUyt7Lc",
    "outputId": "8d93f000-4c19-49ce-9976-586514e127b8"
   },
   "outputs": [
    {
     "name": "stdout",
     "output_type": "stream",
     "text": [
      "139800\n",
      "15000\n",
      "2048\n"
     ]
    }
   ],
   "source": [
    "print(len(training_set))\n",
    "print(len(val_set))\n",
    "print(len(test_set))"
   ]
  },
  {
   "cell_type": "code",
   "execution_count": 30,
   "metadata": {
    "colab": {
     "base_uri": "https://localhost:8080/"
    },
    "executionInfo": {
     "elapsed": 536,
     "status": "ok",
     "timestamp": 1611337661894,
     "user": {
      "displayName": "Prabesh Pathak",
      "photoUrl": "https://lh3.googleusercontent.com/a-/AOh14Gh6ULNXNrYutw3u6ad06TMgRj97zOGaU28QfV_MCg=s64",
      "userId": "10507649871156130542"
     },
     "user_tz": 300
    },
    "id": "NKaKFKiWT7jw",
    "outputId": "e1ebdb7d-7a80-4447-c8cc-0e0c5a7a97eb"
   },
   "outputs": [
    {
     "name": "stdout",
     "output_type": "stream",
     "text": [
      "6990\n",
      "750\n",
      "128\n"
     ]
    }
   ],
   "source": [
    "print(len(training_generator))\n",
    "print(len(validation_generator))\n",
    "print(len(test_generator))"
   ]
  },
  {
   "cell_type": "markdown",
   "metadata": {
    "id": "AYnuAdlVs8X4"
   },
   "source": [
    "### Check GPU"
   ]
  },
  {
   "cell_type": "code",
   "execution_count": 31,
   "metadata": {
    "colab": {
     "base_uri": "https://localhost:8080/"
    },
    "executionInfo": {
     "elapsed": 762,
     "status": "ok",
     "timestamp": 1611337691918,
     "user": {
      "displayName": "Prabesh Pathak",
      "photoUrl": "https://lh3.googleusercontent.com/a-/AOh14Gh6ULNXNrYutw3u6ad06TMgRj97zOGaU28QfV_MCg=s64",
      "userId": "10507649871156130542"
     },
     "user_tz": 300
    },
    "id": "lJTlvI9qT7mk",
    "outputId": "6bed57d8-d1ff-4559-8e48-4a7f5f0cb85f"
   },
   "outputs": [
    {
     "data": {
      "text/plain": [
       "device(type='cuda')"
      ]
     },
     "execution_count": 31,
     "metadata": {},
     "output_type": "execute_result"
    }
   ],
   "source": [
    "# torch.cuda.is_available() checks and returns a Boolean True if a GPU is available, else it'll return False\n",
    "is_cuda = torch.cuda.is_available()\n",
    "\n",
    "# If we have a GPU available, we'll set our device to GPU. We'll use this device variable later in our code.\n",
    "if is_cuda:\n",
    "    device = torch.device(\"cuda\")\n",
    "else:\n",
    "    device = torch.device(\"cpu\")\n",
    "\n",
    "device"
   ]
  },
  {
   "cell_type": "markdown",
   "metadata": {
    "id": "VhVJo9urtADQ"
   },
   "source": [
    "### Training"
   ]
  },
  {
   "cell_type": "code",
   "execution_count": 32,
   "metadata": {
    "executionInfo": {
     "elapsed": 745,
     "status": "ok",
     "timestamp": 1611337693674,
     "user": {
      "displayName": "Prabesh Pathak",
      "photoUrl": "https://lh3.googleusercontent.com/a-/AOh14Gh6ULNXNrYutw3u6ad06TMgRj97zOGaU28QfV_MCg=s64",
      "userId": "10507649871156130542"
     },
     "user_tz": 300
    },
    "id": "A5hlF47hXvhV"
   },
   "outputs": [],
   "source": [
    "class Model(nn.Module):\n",
    "    def __init__(self,embedding_matrix, vocab_size, output_size, embedding_dim, hidden_dim, n_layers=1, drop_prob=0.2):\n",
    "        super(Model, self).__init__()\n",
    "        self.hidden_layer = hidden_dim\n",
    "        self.embedding_dim = embedding_dim\n",
    "        self.embedding_matrix = embedding_matrix\n",
    "        self.num_layers = n_layers\n",
    "        self.bi_num_layers = 2\n",
    "        self.output_size = output_size\n",
    "        self.drop_prob = drop_prob\n",
    "\n",
    "#         self.embedding = nn.Embedding(\n",
    "#             num_embeddings=vocab_size,\n",
    "#             embedding_dim=self.embedding_dim,\n",
    "#         )\n",
    "        self.embedding = nn.Embedding.from_pretrained(embedding_matrix,freeze=True)\n",
    "#         self.embedding = nn.Embedding(vocab_size, embedding_dim)\n",
    "        # pretrained_weight is a numpy matrix of shape (num_embeddings, embedding_dim)\n",
    "#         self.embedding.weight.data.copy_(torch.from_numpy(embedding_matrix))\n",
    "        self.lstm = nn.LSTM(\n",
    "            input_size=self.embedding_dim,\n",
    "            hidden_size=self.hidden_layer,\n",
    "            num_layers=self.num_layers,\n",
    "            batch_first=True,\n",
    "            bidirectional=True,\n",
    "        )\n",
    "        self.tanh = nn.Tanh()\n",
    "        self.dropout = nn.Dropout(p=self.drop_prob)\n",
    "        self.alpha = nn.Linear(2*self.hidden_layer, 1)\n",
    "        #self.r = nn.Linear(2*self.hidden_layer, 1)\n",
    "        self.softmax = nn.Softmax(dim=1)\n",
    "        self.fc = nn.Linear(2*self.hidden_layer, output_size)\n",
    "        #self.sigmoid = nn.Sigmoid()\n",
    "        self.softmax_fc = nn.Softmax(dim=1)\n",
    "\n",
    "    def forward(self, x, prev_state):\n",
    "        batch_size = x.size(0)\n",
    "        embed = self.embedding(x)\n",
    "\n",
    "        output, state = self.lstm(embed, prev_state)\n",
    "        #print('lstm output',output.shape)\n",
    "        # [10, 200, 256] \n",
    "\n",
    "        \"\"\"\n",
    "        ### Just LSTM\n",
    "        o = self.tanh(output)\n",
    "        o = self.fc(o)\n",
    "\n",
    "        o = o[:, -1, :]\n",
    "        o = self.softmax_fc(o)\n",
    "        a_out = []\n",
    "        return o, state, a_out\n",
    "        ###\n",
    "        \"\"\"\n",
    "\n",
    "        # attention layer\n",
    "        output = self.tanh(output)\n",
    "        output = self.dropout(output)\n",
    "        a_out = self.alpha(output)\n",
    "        a_out = self.softmax(a_out)\n",
    "        #print('a_out',a_out.shape)\n",
    "        #[10, 200 , 1]\n",
    "\n",
    "        r_t =  torch.transpose(output, -1 , 1)\n",
    "        #print('r_t',r_t.shape)\n",
    "        # [10, 256, 200]\n",
    "        \n",
    "        r_out = torch.bmm(r_t, a_out)\n",
    "        #print('r_out',r_out.shape)\n",
    "        # [10, 256 , 1]\n",
    "\n",
    "        out = r_out.squeeze()\n",
    "        # [10, 256]\n",
    "\n",
    "        out = self.tanh(out)\n",
    "        out = self.dropout(out)\n",
    "        out = self.fc(out)\n",
    "        out = self.softmax_fc(out)\n",
    "        #print('final_fc_out',out.shape)\n",
    "        # [10,2]\n",
    "        return out, state, a_out\n",
    "\n",
    "    def init_state(self, batch_size):\n",
    "        return (torch.zeros(self.bi_num_layers, batch_size, self.hidden_layer),\n",
    "                torch.zeros(self.bi_num_layers, batch_size, self.hidden_layer))"
   ]
  },
  {
   "cell_type": "code",
   "execution_count": 33,
   "metadata": {},
   "outputs": [],
   "source": [
    "batch_size = 16\n",
    "criterion = nn.BCELoss()"
   ]
  },
  {
   "cell_type": "code",
   "execution_count": 34,
   "metadata": {},
   "outputs": [],
   "source": [
    "# embedding_matrix = np.zeros((len(word2vec_model.wv.vocab)+1,50))\n",
    "# for word, i in word_index.items():\n",
    "#     embedding_matrix[i]=word2vec_model.wv[word]"
   ]
  },
  {
   "cell_type": "code",
   "execution_count": 35,
   "metadata": {},
   "outputs": [
    {
     "name": "stderr",
     "output_type": "stream",
     "text": [
      "/home/ubuntu/anaconda3/lib/python3.7/site-packages/ipykernel_launcher.py:1: UserWarning: The given NumPy array is not writeable, and PyTorch does not support non-writeable tensors. This means you can write to the underlying (supposedly non-writeable) NumPy array using the tensor. You may want to copy the array to protect its data or make it writeable before converting it to a tensor. This type of warning will be suppressed for the rest of this program. (Triggered internally at  /pytorch/torch/csrc/utils/tensor_numpy.cpp:141.)\n",
      "  \"\"\"Entry point for launching an IPython kernel.\n"
     ]
    }
   ],
   "source": [
    "embedding_matrix = torch.FloatTensor(word2vec_model.vectors)"
   ]
  },
  {
   "cell_type": "code",
   "execution_count": 36,
   "metadata": {
    "colab": {
     "base_uri": "https://localhost:8080/"
    },
    "executionInfo": {
     "elapsed": 2180,
     "status": "ok",
     "timestamp": 1611346241184,
     "user": {
      "displayName": "Prabesh Pathak",
      "photoUrl": "https://lh3.googleusercontent.com/a-/AOh14Gh6ULNXNrYutw3u6ad06TMgRj97zOGaU28QfV_MCg=s64",
      "userId": "10507649871156130542"
     },
     "user_tz": 300
    },
    "id": "g_4pLZFlsEVZ",
    "outputId": "b4796427-7fa0-4692-babb-6097f6f1e643"
   },
   "outputs": [
    {
     "name": "stderr",
     "output_type": "stream",
     "text": [
      "/home/ubuntu/anaconda3/lib/python3.7/site-packages/ipykernel_launcher.py:1: DeprecationWarning: Call to deprecated `wv` (Attribute will be removed in 4.0.0, use self instead).\n",
      "  \"\"\"Entry point for launching an IPython kernel.\n"
     ]
    },
    {
     "data": {
      "text/plain": [
       "Model(\n",
       "  (embedding): Embedding(850193, 256)\n",
       "  (lstm): LSTM(256, 64, batch_first=True, bidirectional=True)\n",
       "  (tanh): Tanh()\n",
       "  (dropout): Dropout(p=0.3, inplace=False)\n",
       "  (alpha): Linear(in_features=128, out_features=1, bias=True)\n",
       "  (softmax): Softmax(dim=1)\n",
       "  (fc): Linear(in_features=128, out_features=2, bias=True)\n",
       "  (softmax_fc): Softmax(dim=1)\n",
       ")"
      ]
     },
     "execution_count": 36,
     "metadata": {},
     "output_type": "execute_result"
    }
   ],
   "source": [
    "vocab_size = len(word2vec_model.wv.vocab)+1\n",
    "batch_size = 16\n",
    "output_size = 2\n",
    "embedding_dim = 256\n",
    "#embedding_dim = 100\n",
    "hidden_dim = 64\n",
    "n_layers = 1\n",
    "drop_prob=0.3\n",
    "model = Model(embedding_matrix,vocab_size, output_size, embedding_dim, hidden_dim, n_layers, drop_prob)\n",
    "model = model.to(device)\n",
    "model"
   ]
  },
  {
   "cell_type": "code",
   "execution_count": 210,
   "metadata": {},
   "outputs": [
    {
     "data": {
      "text/plain": [
       "435464067"
      ]
     },
     "execution_count": 210,
     "metadata": {},
     "output_type": "execute_result"
    }
   ],
   "source": [
    "pytorch_total_params = sum(p.numel() for p in model.parameters())\n",
    "pytorch_total_params"
   ]
  },
  {
   "cell_type": "code",
   "execution_count": 211,
   "metadata": {},
   "outputs": [
    {
     "data": {
      "text/html": [
       "<div>\n",
       "<style scoped>\n",
       "    .dataframe tbody tr th:only-of-type {\n",
       "        vertical-align: middle;\n",
       "    }\n",
       "\n",
       "    .dataframe tbody tr th {\n",
       "        vertical-align: top;\n",
       "    }\n",
       "\n",
       "    .dataframe thead th {\n",
       "        text-align: right;\n",
       "    }\n",
       "</style>\n",
       "<table border=\"1\" class=\"dataframe\">\n",
       "  <thead>\n",
       "    <tr style=\"text-align: right;\">\n",
       "      <th></th>\n",
       "      <th>layers</th>\n",
       "      <th>shape</th>\n",
       "      <th>parameters</th>\n",
       "      <th>requires_grad</th>\n",
       "    </tr>\n",
       "  </thead>\n",
       "  <tbody>\n",
       "    <tr>\n",
       "      <th>0</th>\n",
       "      <td>embedding.weight</td>\n",
       "      <td>torch.Size([850193, 512])</td>\n",
       "      <td>435298816</td>\n",
       "      <td>False</td>\n",
       "    </tr>\n",
       "    <tr>\n",
       "      <th>1</th>\n",
       "      <td>lstm.weight_ih_l0</td>\n",
       "      <td>torch.Size([256, 256])</td>\n",
       "      <td>65536</td>\n",
       "      <td>True</td>\n",
       "    </tr>\n",
       "    <tr>\n",
       "      <th>2</th>\n",
       "      <td>lstm.weight_hh_l0</td>\n",
       "      <td>torch.Size([256, 64])</td>\n",
       "      <td>16384</td>\n",
       "      <td>True</td>\n",
       "    </tr>\n",
       "    <tr>\n",
       "      <th>3</th>\n",
       "      <td>lstm.bias_ih_l0</td>\n",
       "      <td>torch.Size([256])</td>\n",
       "      <td>256</td>\n",
       "      <td>True</td>\n",
       "    </tr>\n",
       "    <tr>\n",
       "      <th>4</th>\n",
       "      <td>lstm.bias_hh_l0</td>\n",
       "      <td>torch.Size([256])</td>\n",
       "      <td>256</td>\n",
       "      <td>True</td>\n",
       "    </tr>\n",
       "    <tr>\n",
       "      <th>5</th>\n",
       "      <td>lstm.weight_ih_l0_reverse</td>\n",
       "      <td>torch.Size([256, 256])</td>\n",
       "      <td>65536</td>\n",
       "      <td>True</td>\n",
       "    </tr>\n",
       "    <tr>\n",
       "      <th>6</th>\n",
       "      <td>lstm.weight_hh_l0_reverse</td>\n",
       "      <td>torch.Size([256, 64])</td>\n",
       "      <td>16384</td>\n",
       "      <td>True</td>\n",
       "    </tr>\n",
       "    <tr>\n",
       "      <th>7</th>\n",
       "      <td>lstm.bias_ih_l0_reverse</td>\n",
       "      <td>torch.Size([256])</td>\n",
       "      <td>256</td>\n",
       "      <td>True</td>\n",
       "    </tr>\n",
       "    <tr>\n",
       "      <th>8</th>\n",
       "      <td>lstm.bias_hh_l0_reverse</td>\n",
       "      <td>torch.Size([256])</td>\n",
       "      <td>256</td>\n",
       "      <td>True</td>\n",
       "    </tr>\n",
       "    <tr>\n",
       "      <th>9</th>\n",
       "      <td>alpha.weight</td>\n",
       "      <td>torch.Size([1, 128])</td>\n",
       "      <td>128</td>\n",
       "      <td>True</td>\n",
       "    </tr>\n",
       "    <tr>\n",
       "      <th>10</th>\n",
       "      <td>alpha.bias</td>\n",
       "      <td>torch.Size([1])</td>\n",
       "      <td>1</td>\n",
       "      <td>True</td>\n",
       "    </tr>\n",
       "    <tr>\n",
       "      <th>11</th>\n",
       "      <td>fc.weight</td>\n",
       "      <td>torch.Size([2, 128])</td>\n",
       "      <td>256</td>\n",
       "      <td>True</td>\n",
       "    </tr>\n",
       "    <tr>\n",
       "      <th>12</th>\n",
       "      <td>fc.bias</td>\n",
       "      <td>torch.Size([2])</td>\n",
       "      <td>2</td>\n",
       "      <td>True</td>\n",
       "    </tr>\n",
       "  </tbody>\n",
       "</table>\n",
       "</div>"
      ],
      "text/plain": [
       "                       layers                      shape parameters  \\\n",
       "0            embedding.weight  torch.Size([850193, 512])  435298816   \n",
       "1           lstm.weight_ih_l0     torch.Size([256, 256])      65536   \n",
       "2           lstm.weight_hh_l0      torch.Size([256, 64])      16384   \n",
       "3             lstm.bias_ih_l0          torch.Size([256])        256   \n",
       "4             lstm.bias_hh_l0          torch.Size([256])        256   \n",
       "5   lstm.weight_ih_l0_reverse     torch.Size([256, 256])      65536   \n",
       "6   lstm.weight_hh_l0_reverse      torch.Size([256, 64])      16384   \n",
       "7     lstm.bias_ih_l0_reverse          torch.Size([256])        256   \n",
       "8     lstm.bias_hh_l0_reverse          torch.Size([256])        256   \n",
       "9                alpha.weight       torch.Size([1, 128])        128   \n",
       "10                 alpha.bias            torch.Size([1])          1   \n",
       "11                  fc.weight       torch.Size([2, 128])        256   \n",
       "12                    fc.bias            torch.Size([2])          2   \n",
       "\n",
       "   requires_grad  \n",
       "0          False  \n",
       "1           True  \n",
       "2           True  \n",
       "3           True  \n",
       "4           True  \n",
       "5           True  \n",
       "6           True  \n",
       "7           True  \n",
       "8           True  \n",
       "9           True  \n",
       "10          True  \n",
       "11          True  \n",
       "12          True  "
      ]
     },
     "execution_count": 211,
     "metadata": {},
     "output_type": "execute_result"
    }
   ],
   "source": [
    "columns = ['layers', 'shape', 'parameters']\n",
    "df = pd.DataFrame(columns=columns)\n",
    "n = []\n",
    "s = []\n",
    "p = []\n",
    "r = []\n",
    "for name, param in model.named_parameters():\n",
    "    n.append(str(name))\n",
    "    s.append(str(param.shape))\n",
    "    p.append(str(param.numel()))\n",
    "    r.append(str(param.requires_grad))\n",
    "\n",
    "df['layers'] = n\n",
    "df['shape'] = s\n",
    "df['parameters'] = p\n",
    "df['requires_grad'] = r\n",
    "df"
   ]
  },
  {
   "cell_type": "code",
   "execution_count": null,
   "metadata": {},
   "outputs": [],
   "source": []
  },
  {
   "cell_type": "code",
   "execution_count": null,
   "metadata": {
    "colab": {
     "base_uri": "https://localhost:8080/"
    },
    "executionInfo": {
     "elapsed": 82326,
     "status": "ok",
     "timestamp": 1611346321520,
     "user": {
      "displayName": "Prabesh Pathak",
      "photoUrl": "https://lh3.googleusercontent.com/a-/AOh14Gh6ULNXNrYutw3u6ad06TMgRj97zOGaU28QfV_MCg=s64",
      "userId": "10507649871156130542"
     },
     "user_tz": 300
    },
    "id": "Kd_yb3BabBUk",
    "outputId": "75665366-3967-457f-d54d-264f30a20b6e"
   },
   "outputs": [
    {
     "name": "stderr",
     "output_type": "stream",
     "text": [
      "06-Mar-21 15:43:18 - Epoch 1: 0.243494 loss, 0.214766 val loss\n",
      "06-Mar-21 16:16:57 - Epoch 2: 0.199284 loss, 0.191397 val loss\n",
      "06-Mar-21 16:50:36 - Epoch 3: 0.188968 loss, 0.189033 val loss\n",
      "06-Mar-21 17:24:20 - Epoch 4: 0.184264 loss, 0.185065 val loss\n",
      "06-Mar-21 17:57:58 - Epoch 5: 0.181625 loss, 0.187239 val loss\n",
      "06-Mar-21 18:31:35 - Epoch 6: 0.178036 loss, 0.184098 val loss\n",
      "06-Mar-21 19:05:11 - Epoch 7: 0.175919 loss, 0.182839 val loss\n",
      "06-Mar-21 19:38:42 - Epoch 8: 0.174921 loss, 0.179733 val loss\n",
      "06-Mar-21 20:12:20 - Epoch 9: 0.172870 loss, 0.183910 val loss\n",
      "06-Mar-21 20:45:54 - Epoch 10: 0.171193 loss, 0.183574 val loss\n"
     ]
    }
   ],
   "source": [
    "model.train()\n",
    "epochs = 20\n",
    "counter = 0\n",
    "clip = 5\n",
    "print_every = 100\n",
    "valid_loss_min = np.Inf\n",
    "all_weights = []\n",
    "all_train_loss = []\n",
    "all_val_loss = []\n",
    "eps = []\n",
    "criterion = nn.BCELoss()\n",
    "#criterion = nn.CrossEntropyLoss()\n",
    "# optimizer = optim.Adam(model.parameters(), lr=0.0005)\n",
    "optimizer = optim.Adam(model.parameters(), lr=0.0005, weight_decay=5e-4)\n",
    "#optimizer = optim.Adam(model.parameters(), lr=0.01)\n",
    "#optimizer = optim.RMSprop(model.parameters(), lr=0.01)\n",
    "#val_dl = val_loader\n",
    "model_dir = '/media/data/artifacts/2016/models/bi-lstm-2/'\n",
    "\n",
    "\n",
    "for epoch in range(epochs):\n",
    "    #state_h, state_c = model.init_state(sequence_length)\n",
    "    model.train()\n",
    "    h = model.init_state(batch_size)\n",
    "\n",
    "    train_losses = []\n",
    "    validation_losses = []\n",
    "\n",
    "    for inputs, labels in training_generator:\n",
    "        counter += 1\n",
    "        h = tuple([e.data for e in h])\n",
    "        h = [x.to(device) for x in h]\n",
    "        inputs, labels = inputs.to(device).long(), labels.to(device)\n",
    "\n",
    "        model.zero_grad()\n",
    "        output, h, _ = model(inputs, h)\n",
    "        loss = criterion(output.squeeze(), labels)\n",
    "        train_losses.append(loss.item())\n",
    "        \n",
    "        optimizer.zero_grad()\n",
    "        loss.backward()\n",
    "        #nn.utils.clip_grad_norm_(model.parameters(), clip)\n",
    "        optimizer.step()\n",
    "\n",
    "        \n",
    "    model.eval()\n",
    "    val_h = model.init_state(batch_size)\n",
    "    for inp, lab in validation_generator:\n",
    "        val_h = tuple([each.data for each in val_h])\n",
    "        val_h = [x.to(device) for x in val_h]\n",
    "        inp, lab = inp.to(device).long(), lab.to(device)\n",
    "\n",
    "        out, _ , _ = model(inp, val_h)\n",
    "        val_loss = criterion(out.squeeze(), lab.float())\n",
    "        validation_losses.append(val_loss.item())\n",
    "\n",
    "        \n",
    "    all_train_loss.append(np.mean(train_losses))\n",
    "    all_val_loss.append(np.mean(validation_losses))\n",
    "    eps.append(epoch+1)\n",
    "    torch.save(model, model_dir + str(epoch+1) + \"-final-bi-attn-512-1.pickle\")\n",
    "    df_loss = pd.DataFrame({'train_loss':all_train_loss})\n",
    "    df_loss['validation_loss'] = all_val_loss\n",
    "    df_loss['epochs'] = eps\n",
    "    df_loss.to_csv(model_dir + 'bi_attn_loss_512.csv',mode='a', sep=',')\n",
    "    \n",
    "    logging.info(\"Epoch {}: {:.6f} loss, {:.6f} val loss\".format(epoch+1, np.mean(train_losses), np.mean(validation_losses)))"
   ]
  },
  {
   "cell_type": "code",
   "execution_count": 248,
   "metadata": {
    "colab": {
     "base_uri": "https://localhost:8080/",
     "height": 295
    },
    "executionInfo": {
     "elapsed": 881,
     "status": "ok",
     "timestamp": 1611346340127,
     "user": {
      "displayName": "Prabesh Pathak",
      "photoUrl": "https://lh3.googleusercontent.com/a-/AOh14Gh6ULNXNrYutw3u6ad06TMgRj97zOGaU28QfV_MCg=s64",
      "userId": "10507649871156130542"
     },
     "user_tz": 300
    },
    "id": "wLslPNdprumy",
    "outputId": "cb4507dd-e365-49af-cf15-99fda05a880c"
   },
   "outputs": [
    {
     "data": {
      "image/png": "[encoded data removed]",
      "text/plain": [
       "<Figure size 432x288 with 1 Axes>"
      ]
     },
     "metadata": {},
     "output_type": "display_data"
    }
   ],
   "source": [
    "plt.plot(all_train_loss)\n",
    "plt.plot(all_val_loss)\n",
    "plt.title('model loss')\n",
    "plt.ylabel('loss')\n",
    "plt.xlabel('epoch')\n",
    "plt.legend(['train', 'validation'], loc='upper right')\n",
    "# fig = plt.figure(figsize=(3,6))\n",
    "plt.show()\n",
    "# plt.savefig(model_dir + 'loss.png', bbox_inches='tight')"
   ]
  },
  {
   "cell_type": "code",
   "execution_count": 249,
   "metadata": {},
   "outputs": [
    {
     "name": "stdout",
     "output_type": "stream",
     "text": [
      "[0.24349445015570423, 0.19928375379620747, 0.18896797697761966, 0.18426437663934986, 0.1816249179480616, 0.17803563582197962, 0.17591905662655372, 0.1749205068585187, 0.1728700411871065, 0.17119323899223335, 0.16985218351245865, 0.1674177824560878, 0.16801988812022242, 0.1670318789191901]\n"
     ]
    }
   ],
   "source": [
    "print(all_train_loss)"
   ]
  },
  {
   "cell_type": "code",
   "execution_count": 109,
   "metadata": {},
   "outputs": [],
   "source": [
    "# model_dir = '/media/data/artifacts/2016/models/bi-lstm-2/'\n",
    "# df_loss = pd.DataFrame({'train_loss':all_train_loss})\n",
    "# df_loss['validation_loss'] = all_val_loss\n",
    "# df_loss.to_csv(model_dir + 'bi_attn_loss_128.csv', sep=',')"
   ]
  },
  {
   "cell_type": "code",
   "execution_count": 185,
   "metadata": {},
   "outputs": [],
   "source": [
    "model_dir = '/media/data/artifacts/2016/models/bi-lstm-2/'\n",
    "df = pd.read_csv(model_dir + 'bi_attn_loss_128_1.csv')\n",
    "df.columns=['', 'train_loss', 'validation_loss','epoch']\n",
    "df = df[['train_loss', 'validation_loss']]"
   ]
  },
  {
   "cell_type": "code",
   "execution_count": 186,
   "metadata": {},
   "outputs": [
    {
     "data": {
      "text/html": [
       "<div>\n",
       "<style scoped>\n",
       "    .dataframe tbody tr th:only-of-type {\n",
       "        vertical-align: middle;\n",
       "    }\n",
       "\n",
       "    .dataframe tbody tr th {\n",
       "        vertical-align: top;\n",
       "    }\n",
       "\n",
       "    .dataframe thead th {\n",
       "        text-align: right;\n",
       "    }\n",
       "</style>\n",
       "<table border=\"1\" class=\"dataframe\">\n",
       "  <thead>\n",
       "    <tr style=\"text-align: right;\">\n",
       "      <th></th>\n",
       "      <th>train_loss</th>\n",
       "      <th>validation_loss</th>\n",
       "    </tr>\n",
       "  </thead>\n",
       "  <tbody>\n",
       "    <tr>\n",
       "      <th>0</th>\n",
       "      <td>0.256551</td>\n",
       "      <td>0.213617</td>\n",
       "    </tr>\n",
       "    <tr>\n",
       "      <th>1</th>\n",
       "      <td>0.205968</td>\n",
       "      <td>0.202231</td>\n",
       "    </tr>\n",
       "    <tr>\n",
       "      <th>2</th>\n",
       "      <td>0.194366</td>\n",
       "      <td>0.195901</td>\n",
       "    </tr>\n",
       "    <tr>\n",
       "      <th>3</th>\n",
       "      <td>0.187275</td>\n",
       "      <td>0.190395</td>\n",
       "    </tr>\n",
       "    <tr>\n",
       "      <th>4</th>\n",
       "      <td>0.183978</td>\n",
       "      <td>0.191282</td>\n",
       "    </tr>\n",
       "    <tr>\n",
       "      <th>5</th>\n",
       "      <td>0.180550</td>\n",
       "      <td>0.199938</td>\n",
       "    </tr>\n",
       "    <tr>\n",
       "      <th>6</th>\n",
       "      <td>0.178488</td>\n",
       "      <td>0.185364</td>\n",
       "    </tr>\n",
       "    <tr>\n",
       "      <th>7</th>\n",
       "      <td>0.176076</td>\n",
       "      <td>0.183030</td>\n",
       "    </tr>\n",
       "    <tr>\n",
       "      <th>8</th>\n",
       "      <td>0.174419</td>\n",
       "      <td>0.182051</td>\n",
       "    </tr>\n",
       "    <tr>\n",
       "      <th>9</th>\n",
       "      <td>0.172865</td>\n",
       "      <td>0.181735</td>\n",
       "    </tr>\n",
       "    <tr>\n",
       "      <th>10</th>\n",
       "      <td>0.171514</td>\n",
       "      <td>0.180677</td>\n",
       "    </tr>\n",
       "    <tr>\n",
       "      <th>11</th>\n",
       "      <td>0.170771</td>\n",
       "      <td>0.182969</td>\n",
       "    </tr>\n",
       "    <tr>\n",
       "      <th>12</th>\n",
       "      <td>0.169546</td>\n",
       "      <td>0.181129</td>\n",
       "    </tr>\n",
       "    <tr>\n",
       "      <th>13</th>\n",
       "      <td>0.169191</td>\n",
       "      <td>0.177768</td>\n",
       "    </tr>\n",
       "    <tr>\n",
       "      <th>14</th>\n",
       "      <td>0.167641</td>\n",
       "      <td>0.178413</td>\n",
       "    </tr>\n",
       "    <tr>\n",
       "      <th>15</th>\n",
       "      <td>0.166819</td>\n",
       "      <td>0.181414</td>\n",
       "    </tr>\n",
       "    <tr>\n",
       "      <th>16</th>\n",
       "      <td>0.167186</td>\n",
       "      <td>0.181786</td>\n",
       "    </tr>\n",
       "    <tr>\n",
       "      <th>17</th>\n",
       "      <td>0.165786</td>\n",
       "      <td>0.177429</td>\n",
       "    </tr>\n",
       "    <tr>\n",
       "      <th>18</th>\n",
       "      <td>0.165444</td>\n",
       "      <td>0.176111</td>\n",
       "    </tr>\n",
       "    <tr>\n",
       "      <th>19</th>\n",
       "      <td>0.164589</td>\n",
       "      <td>0.181907</td>\n",
       "    </tr>\n",
       "  </tbody>\n",
       "</table>\n",
       "</div>"
      ],
      "text/plain": [
       "    train_loss  validation_loss\n",
       "0     0.256551         0.213617\n",
       "1     0.205968         0.202231\n",
       "2     0.194366         0.195901\n",
       "3     0.187275         0.190395\n",
       "4     0.183978         0.191282\n",
       "5     0.180550         0.199938\n",
       "6     0.178488         0.185364\n",
       "7     0.176076         0.183030\n",
       "8     0.174419         0.182051\n",
       "9     0.172865         0.181735\n",
       "10    0.171514         0.180677\n",
       "11    0.170771         0.182969\n",
       "12    0.169546         0.181129\n",
       "13    0.169191         0.177768\n",
       "14    0.167641         0.178413\n",
       "15    0.166819         0.181414\n",
       "16    0.167186         0.181786\n",
       "17    0.165786         0.177429\n",
       "18    0.165444         0.176111\n",
       "19    0.164589         0.181907"
      ]
     },
     "execution_count": 186,
     "metadata": {},
     "output_type": "execute_result"
    }
   ],
   "source": [
    "df"
   ]
  },
  {
   "cell_type": "code",
   "execution_count": 187,
   "metadata": {},
   "outputs": [
    {
     "data": {
      "text/plain": [
       "[[<matplotlib.axis.XTick at 0x7fb539e42f50>,\n",
       "  <matplotlib.axis.XTick at 0x7fb5427dfa50>,\n",
       "  <matplotlib.axis.XTick at 0x7fb5427df7d0>,\n",
       "  <matplotlib.axis.XTick at 0x7fb5427d2a90>,\n",
       "  <matplotlib.axis.XTick at 0x7fb54ad9a8d0>,\n",
       "  <matplotlib.axis.XTick at 0x7fb54ad9ae50>,\n",
       "  <matplotlib.axis.XTick at 0x7fb54ad7e450>,\n",
       "  <matplotlib.axis.XTick at 0x7fb54ad7e9d0>,\n",
       "  <matplotlib.axis.XTick at 0x7fb54ad7e8d0>,\n",
       "  <matplotlib.axis.XTick at 0x7fb54ad9af10>,\n",
       "  <matplotlib.axis.XTick at 0x7fb54ad7e250>,\n",
       "  <matplotlib.axis.XTick at 0x7fb54adb16d0>,\n",
       "  <matplotlib.axis.XTick at 0x7fb54adb1d10>,\n",
       "  <matplotlib.axis.XTick at 0x7fb54adba390>,\n",
       "  <matplotlib.axis.XTick at 0x7fb54adba9d0>,\n",
       "  <matplotlib.axis.XTick at 0x7fb54adba610>,\n",
       "  <matplotlib.axis.XTick at 0x7fb54adbb690>,\n",
       "  <matplotlib.axis.XTick at 0x7fb54adbbcd0>,\n",
       "  <matplotlib.axis.XTick at 0x7fb54adbb610>,\n",
       "  <matplotlib.axis.XTick at 0x7fb54adb1750>]]"
      ]
     },
     "execution_count": 187,
     "metadata": {},
     "output_type": "execute_result"
    },
    {
     "data": {
      "image/png": "[encoded data removed]",
      "text/plain": [
       "<Figure size 432x288 with 1 Axes>"
      ]
     },
     "metadata": {},
     "output_type": "display_data"
    }
   ],
   "source": [
    "t = [x for x in range(0,20,1)]\n",
    "sns.set(style=\"darkgrid\")\n",
    "g = sns.lineplot(data=df)\n",
    "g.set(xlabel='epochs', ylabel='loss')\n",
    "g.set(xticks=t)"
   ]
  },
  {
   "cell_type": "markdown",
   "metadata": {
    "id": "5wgrSyic0DZf"
   },
   "source": [
    "### Save model"
   ]
  },
  {
   "cell_type": "code",
   "execution_count": 49,
   "metadata": {
    "executionInfo": {
     "elapsed": 1218,
     "status": "ok",
     "timestamp": 1611346341017,
     "user": {
      "displayName": "Prabesh Pathak",
      "photoUrl": "https://lh3.googleusercontent.com/a-/AOh14Gh6ULNXNrYutw3u6ad06TMgRj97zOGaU28QfV_MCg=s64",
      "userId": "10507649871156130542"
     },
     "user_tz": 300
    },
    "id": "52rYyHwG0EJK"
   },
   "outputs": [],
   "source": [
    "model_dir = '/media/data/artifacts/2016/models/bi-lstm-2/'\n",
    "# torch.save(model, model_dir + \"5-final-bi-attn-ep-10-6.pickle\")\n",
    "model = torch.load(model_dir + 'final-bi-attn-256-2.pickle')"
   ]
  },
  {
   "cell_type": "code",
   "execution_count": 50,
   "metadata": {},
   "outputs": [],
   "source": [
    "# device = torch.device(\"cpu\")"
   ]
  },
  {
   "cell_type": "markdown",
   "metadata": {
    "id": "pBnPa9lKtFbU"
   },
   "source": [
    "### Testing"
   ]
  },
  {
   "cell_type": "code",
   "execution_count": 51,
   "metadata": {
    "colab": {
     "base_uri": "https://localhost:8080/"
    },
    "executionInfo": {
     "elapsed": 2629,
     "status": "ok",
     "timestamp": 1611346343132,
     "user": {
      "displayName": "Prabesh Pathak",
      "photoUrl": "https://lh3.googleusercontent.com/a-/AOh14Gh6ULNXNrYutw3u6ad06TMgRj97zOGaU28QfV_MCg=s64",
      "userId": "10507649871156130542"
     },
     "user_tz": 300
    },
    "id": "N8BxdgXZ5AVe",
    "outputId": "9f370411-1600-46aa-fe82-1a6da337dc14"
   },
   "outputs": [
    {
     "name": "stdout",
     "output_type": "stream",
     "text": [
      "Test loss: 0.149\n"
     ]
    }
   ],
   "source": [
    "test_losses = []\n",
    "num_correct = 0\n",
    "a_weights = []\n",
    "pred_label = []\n",
    "prediction = []\n",
    "true_label = []\n",
    "dict = {}\n",
    "test_sen = []\n",
    "\n",
    "h = model.init_state(batch_size)\n",
    "model.eval()\n",
    "with torch.no_grad():\n",
    "    for inputs, labels in test_generator:\n",
    "        h = tuple([each.data for each in h])\n",
    "        h = [x.to(device) for x in h]\n",
    "        inputs, labels = inputs.to(device).long(), labels.to(device)\n",
    "        output, h, a_out = model(inputs, h)\n",
    "\n",
    "        for out in output:\n",
    "            o = out.cpu().numpy()\n",
    "            prediction.append(o)\n",
    "            \"\"\"\n",
    "            if o[0] == 0 :              #this mean [0,1] malicious\n",
    "                pred_label.append(1)\n",
    "            else:                       #this mean [1,0] benign\n",
    "                pred_label.append(0)\n",
    "            \"\"\"\n",
    "\n",
    "\n",
    "        for label in labels:\n",
    "            l = label.cpu().numpy()\n",
    "            if l[0] == 0 :              #this mean [0,1] malicious\n",
    "                true_label.append(1)\n",
    "            else:                       #this mean [1,0] benign\n",
    "                true_label.append(0)\n",
    "\n",
    "#         for inp in inputs:\n",
    "#             test_sen.append(inp)\n",
    "            \n",
    "        for each_a_out in a_out:\n",
    "            a_weights.append(each_a_out)\n",
    "            \n",
    "        test_loss = criterion(output.squeeze(), labels.float())\n",
    "        test_losses.append(test_loss.item())\n",
    "\n",
    "print(\"Test loss: {:.3f}\".format(np.mean(test_losses)))\n",
    "test_acc = num_correct/len(test_generator.dataset)\n",
    "#print(\"Test accuracy: {:.3f}%\".format(test_acc*100))"
   ]
  },
  {
   "cell_type": "code",
   "execution_count": 52,
   "metadata": {
    "executionInfo": {
     "elapsed": 754,
     "status": "ok",
     "timestamp": 1611346344354,
     "user": {
      "displayName": "Prabesh Pathak",
      "photoUrl": "https://lh3.googleusercontent.com/a-/AOh14Gh6ULNXNrYutw3u6ad06TMgRj97zOGaU28QfV_MCg=s64",
      "userId": "10507649871156130542"
     },
     "user_tz": 300
    },
    "id": "YQKYT0zS5SRh"
   },
   "outputs": [],
   "source": [
    "prediction1 = np.argmax(prediction, axis=1)  ## Prediction for bad reviews in terms of 0 and 1 for all test data\n",
    "prediction_for_1=[] ## Prediction for bad reviews only\n",
    "for each_prediction in prediction:\n",
    "    prediction_for_1.append(each_prediction[1])\n",
    "\n",
    "c = confusion_matrix(true_label,prediction1 )"
   ]
  },
  {
   "cell_type": "code",
   "execution_count": 53,
   "metadata": {
    "colab": {
     "base_uri": "https://localhost:8080/"
    },
    "executionInfo": {
     "elapsed": 808,
     "status": "ok",
     "timestamp": 1611346344889,
     "user": {
      "displayName": "Prabesh Pathak",
      "photoUrl": "https://lh3.googleusercontent.com/a-/AOh14Gh6ULNXNrYutw3u6ad06TMgRj97zOGaU28QfV_MCg=s64",
      "userId": "10507649871156130542"
     },
     "user_tz": 300
    },
    "id": "MAd7wj5FoopS",
    "outputId": "0061d537-47ad-4b34-ad51-773d326a9a78"
   },
   "outputs": [
    {
     "data": {
      "text/plain": [
       "array([[1501,   35],\n",
       "       [  70,  442]])"
      ]
     },
     "execution_count": 53,
     "metadata": {},
     "output_type": "execute_result"
    }
   ],
   "source": [
    "c"
   ]
  },
  {
   "cell_type": "code",
   "execution_count": 54,
   "metadata": {},
   "outputs": [
    {
     "data": {
      "text/plain": [
       "{'B410D5413B8A4E22EDBDFF0A940D8CB6B3ED53053AEA6CEEE6D840BCEA544867.txt': 0,\n",
       " '1B87D85D6043E41C7A9956CCFC98FAEA29B6D8DEE906FBDC6D2A402B02B6F4EA.txt': 0,\n",
       " 'CD6565F52F6BD1049F16B5CC50DE0272DBA9B37ABC16D584CD6204F7592E9C61.txt': 0,\n",
       " 'E6B121FE3BAA79171B35BF6BFF92DC0E9C91055A823FB5499B67BCA762541725.txt': 0,\n",
       " '13C371B87CFC2E77281597B3A6DD0A541C686281545D480F1582B3015FD3D046.txt': 0,\n",
       " 'E80AB021C2AEA1C69AB19DC2045A1D6530BC385BF653800494D5975200F97BBC.txt': 0,\n",
       " 'E9AB91DFBAEBD12DBF729430FBB5560E4EC46E13C5096CC3EB41BA994163880B.txt': 0,\n",
       " '1B98C42983F6193264D32CAAFE9BF15A8B17E8640E594087ED099BA4D9BDE493.txt': 0,\n",
       " 'CBF33DF044B525C17EF505027A1B656AA5869E8C15E52FD77B66DD0F8C11E48C.txt': 0,\n",
       " 'CDD61A9736E399699C595FE5657335748836FF6364042CCEB26D288697B71600.txt': 0,\n",
       " '2C053E78D068E6E4C85EA3B0A1567412727D9A6B43D4CDFDA12890B80AAE33DC.txt': 0,\n",
       " '3374FD8236FDF7A3A79ECF614C6C0D2DBC515C4B5AD6874482763F0E7A24012B.txt': 0,\n",
       " 'D1CBD4BC273BDF8623AFDE6D5E71785D93A30062C6DE66918AAD5E329D22B268.txt': 0,\n",
       " '81C274E186D005AA762217F53259DFCC39E3CA73E3A118D520F5318E232A73F0.txt': 0,\n",
       " 'EA7AE45084B5F66EFF5E3D89B6FDDBB010B792BC21A6EFD081364EF318A3342B.txt': 0,\n",
       " '310BC721B2277A32890CEDE132FB3175E36CD4C9BA2D6F784F4DEBCD039C5D3C.txt': 0,\n",
       " '59A510622F92B640B12212A8C13E734C9ACBF4D68ABB050FE5F1E79B83477006.txt': 0,\n",
       " '04756F17E4DF2D203A04F54ED755B753BFFF4D07E9BA3B61C5BCB43CD5636FB4.txt': 0,\n",
       " 'AB9BFC9725DEA350A3B663D2B3383CED613CE4D7289A5580C8352209EE257E8B.txt': 0,\n",
       " '2E29FD0936A7AD8E2C613F0AADCE46C5234E89359F2F41788733CAB57A77203C.txt': 0,\n",
       " 'D3BF7BDF311247E3E44ABAE36963DB333E6E1BAC83D3CB382193C627F1026C6A.txt': 0,\n",
       " '174D21A807D40E4B42D26C3CE0D16FACBCC67DE23D3129CAA37D4CD1294969BA.txt': 0,\n",
       " '0D10080FA53CE8E34875C5443C512A6124BCEFB321CABE7CF7C8724FAA69F690.txt': 0,\n",
       " '13C1DDDBD8FF5EEA89862813E84B36ECC2D116BE280D79EE1EA183C4B6CEB716.txt': 0,\n",
       " '1BBC2F5FD87400FFD0A081FAC1DAD1242313114A52C9E3DC019D65B09EC92E8B.txt': 0,\n",
       " 'CAD81A422D3A33D1AB4B1C7DF16EF6129A4FC91A96BA09140F5E42F38041E703.txt': 0,\n",
       " '10EA0F4559D223188667F0F2AF77626E3AE191170CAB9D94227AA4209571F142.txt': 0,\n",
       " 'AEE76DB16C1878174DAA3B5782290AEBDA3B772B0647B6515F0502149D1FBADA.txt': 0,\n",
       " '2B01CE614E6DF87BCB6595643D1A4E9457E91F2639D5530C010CD6FE568D27BC.txt': 0,\n",
       " 'D92D6EA358CE1610B39E5C652B136B637415927793E6DEC3F638823AE36E9B6C.txt': 0,\n",
       " '22F1631588D05FB3449743D529F34D87E70ACDE16B7D0817A769A1D718CBEA36.txt': 0,\n",
       " 'B26CA03C93E0EC35628F2768907986333DAA379E6C4255D3F1F79904ADF78009.txt': 0,\n",
       " '061F0604B279F7732F63C8F64D5607C16519E7C9C09086BFA8D2A5D31FB823D4.txt': 0,\n",
       " '1251F06A8A141E0C7ECCC956BFBE73DE6391C10E181B7669501EFF0661A686D7.txt': 0,\n",
       " '0766D077780F675838EC0EBFCB86F3E2AA5763F7B86319D5077C814479138E1E.txt': 0,\n",
       " 'CD178729D6B355F5943C3CB939606CE535E54E13BBB4AB3F5807689AECA7ADEE.txt': 0,\n",
       " '231C209F7392D315CAF1B2E69684F8AD30960C67DF5B747367E93EA8E1E29F8D.txt': 0,\n",
       " '128A978237F42C383AE11D67C5C00F74D22FE2BBDDC673760C7F92751B342AA6.txt': 0,\n",
       " '2948C0FFBA47F56CB5B4289213C592E013E0AED0A4DC8D3D0460921D59897B09.txt': 0,\n",
       " 'D340170B78B527C6E88972655F29E383491762718037BD7FBE99F1996802C4D9.txt': 0,\n",
       " '1CD1F78656474208C8EE7A3E495BC7F6876E5DD3CEA08D87CFA00E51B7C3CF1D.txt': 0,\n",
       " 'E8657AAFB48DA23A49814E4B0EFB83C132F0DEE9628DA35A88B6D47EA2E64670.txt': 0,\n",
       " '38AF085C561830C44F53488AFE63547A627B3C7679BA85E0BB2451F104496DB6.txt': 0,\n",
       " '3267277A7E08F119FC1366FAE6A4834C061EDFCE49F977765B3419F58F005C4E.txt': 0,\n",
       " 'B078E546457085D70911C322E1F580B4322667219A0EA8C22AD1DEFDA59DAE67.txt': 0,\n",
       " '269935DFC6AC045C15FAA8E36A5AD807A77483C4BC45DBB0CA27471E38FC0E43.txt': 0,\n",
       " '0CB0DB03EA560328BFFCB88A28F67C523B076C298E1CF3CBBEAC60EA75420A51.txt': 0,\n",
       " '034D4B305AB4BF131F7B4F0B7132386D90790BC665D44E7983E3CAD3C6432A9F.txt': 0,\n",
       " '11A77738EE1C647631843EC270E1A3F23472A07F5F1C4721A90B476E9F802781.txt': 0,\n",
       " '530050076F37CF023338FED4F7E0AC28820085FEE758400797C8903D668E7A67.txt': 0,\n",
       " 'CEFC6B81480D850F4D835B7A9B892EF79984A3767FD8593C9E478F816A129973.txt': 0,\n",
       " '017EA0079536E01FB4A8EA64844EFDA4724DF22D51D57493F173AD0D04209860.txt': 0,\n",
       " '18C2404E84C3710EEC39154A8C0E4AA478C29C9171EF9628059D4F9D2500538B.txt': 0,\n",
       " 'B1F079C073D4016A4EE32469616D44142FA878D9EA5F519B796611A6F0BC8D8D.txt': 0,\n",
       " '086E4C3F12DF45BB3E4FFAC120369052EBDAC21879D1CCE7B8EA274F6C460CF7.txt': 0,\n",
       " '659579DA21AB9454BEA07F07B85EC171FFD4B45CDB85C7CBC60503FC9219B2C0.txt': 0,\n",
       " '1DDB7D3E8DD67CF5F473934D77A0C3385626F69A4B29DB32A6C49FDAB931CA91.txt': 0,\n",
       " 'E232BAF710A613B10C99EED6A9A3AB6051BEE1809C2914471CF2205FDBAC0622.txt': 0,\n",
       " '37F02C93D1CCF16A23056D5835D30C2F401E844BE823E19D08D0EB39E3BDD6E5.txt': 0,\n",
       " '2086822FF58525D3F38732B39C7CD9AD8D9436F3DE4A9C8C66E71FAA9240E54D.txt': 0,\n",
       " '2F584424CFE5507DAAD4631E4A2782E72983D4BA5C93A2514A924F9ABB288088.txt': 0,\n",
       " '3F75F368F4A5368A8FDB49C01F1E7928C64D70937084D1FC597D3AE7C83E9AD0.txt': 0,\n",
       " '175EB3CFC780F7F9358CE1229ADF3866A7460755B7EB095C2B52C56D32D3C335.txt': 0,\n",
       " '94093BF716C4CBB1059DBC28A4E3087641A56CE0C43D1A46E0F5E019C14EAFB9.txt': 0,\n",
       " '22430AE50AED55FDA67049C1B67206A017B4B692D48C03B4CBC36EAD66FED8F6.txt': 0,\n",
       " '19244F92E5C3D1C4B134BF5577EE500FF99BDFD097745F87CF4E5A26D39A5A86.txt': 0,\n",
       " '1FBFC2CEFCCE65913B0B2E33684A6BDFA1D4E87B816CE352B9DB15EC7B5723F4.txt': 0,\n",
       " 'B5680960E303BD3702D0168D587B726AF69492A0E27DEBF53A3EE4C8493A4BCE.txt': 0,\n",
       " '22F3D2AD7C07F7AF46DA9A2E1762CD4929EB2DDCB17F008EF6508CC0DFFBE246.txt': 0,\n",
       " '2082206ADCB422B7079A1B20009011B97024C59FCDA59F28A8B9CCBA6B8D6129.txt': 0,\n",
       " '021E8DBFF3F09A3B875FA1071A9DA2FCCE548F47695CBDDF1CA25E9F319D8AA8.txt': 0,\n",
       " '93451E4C6C347310146A0F9076B255D4E6AF240B287BEF2EAAAAA100D9A13A37.txt': 0,\n",
       " '1F585002CA0E3906457F4C97DE365E8DFE88ED9AE63B423973F423CAF412A7D3.txt': 0,\n",
       " '36DC3FD3DFDE43B660A8E1CA74F41D1D8D01551B77D2B6F744A2D228F4E1F9BA.txt': 0,\n",
       " '3849B9D93E9E9C99C9AAED5BE95E764DEBD466C07547A28A055E78855426A5DC.txt': 0,\n",
       " 'EA62800A05A91EDD69D2C11125207E0F0E9AF9BE5AEFF3E13039ABA2921AB454.txt': 0,\n",
       " '29ECD8DB1AB9B0A90BF6432DAE4F7C66EDC936E80F1874B5287E29DFDB028C93.txt': 0,\n",
       " '1060C0B9F44CC11AADF92B23972E50C6268759C8FCB909A3351346020DEEFE5C.txt': 0,\n",
       " '0FB95DC1B21E690DFC3FCDDFCB3E16F5C32EC86B4062C50B75FCEFAE890FE334.txt': 0,\n",
       " '3EC837FE757BD32A4BD9BF057651A69C42A36A7F6DF11D0AB9D5F1D47FBAD071.txt': 0,\n",
       " '0F7E5DE17A12AC672004757DE9FE92D5047E48E7A098493A4B852466F20D60A2.txt': 0,\n",
       " '41C3B9B76CEB86BC49C9BAA24233E252B2A335A82255E7AF07183FE576A98FBD.txt': 0,\n",
       " '1D5B1D9EA27B7CF971CE62275003231D6F38AE9E6D05577B2708A82557A53425.txt': 0,\n",
       " '10828597A163923AC47E596C88ADF7B84581A3C5A241C5D500A781611EF9F9DF.txt': 0,\n",
       " '1B901FD9272F5F07F19DD70F06E64BD096EA53A6E7C390278D86F01E283D17D4.txt': 0,\n",
       " '2E6BF218C50CD0D5E87635A1319BD34845FF130A5BCB060529FE73BCF4A00A47.txt': 0,\n",
       " '3084268E01626DF7A15D4FD829953E157FAA8436C41B36D89619E9993224BE9C.txt': 0,\n",
       " '0C5E3A2D5FAB455ECF7A1C292D2BBF1611C4A32B2A4D08E603CDC97A371CA230.txt': 0,\n",
       " '6114137CDCEE10D00ACBB7FF7063B9E82CEFDDDF254A5C13D12A5658BB616E5C.txt': 0,\n",
       " '14D9D4EF3DEEDCB9A23ACA7EA25A4703478C6B6A659BC90A890348B90028AB95.txt': 0,\n",
       " '18021ED5F5A0CE053F21A32237BBDAA47FE5665C667E02B7E3FC5812D534CECB.txt': 0,\n",
       " 'B00B843978E180438427CBF9DF1ACD8671B3E2D7A93DA95A79B4DEB75CEA59C9.txt': 0,\n",
       " '0404E1065A8AB2BCB8CF7EEBA3E0683AC967BDCD8238E92DAB6D23E50F95A506.txt': 0,\n",
       " '2F37E1CEB51617EFD7DAA0FDA9941A9A449E54541C00AD4009EF039BB3E950F8.txt': 0,\n",
       " '1CB3E9D507294145F51C2FF8D3E7A7EB2F8878E209164C41F6DA936BB66951C3.txt': 0,\n",
       " '033B0984D848429FDB2FA1FF2B7530CCA80A7AD8ACAEE0006198C16987E747D5.txt': 0,\n",
       " 'B105C435750A9599F203B7A646FFBCFA79A76FBE21B76BE2A22F98DE97E3784D.txt': 0,\n",
       " '018ED0B9EB2B7CFA6033D0255E4B80086C3A3DE03A2A0E4EB42D5707C4E9F3B7.txt': 0,\n",
       " '56694D07F1DDC52F9FA97E162B850CF0AB253897600AB436E091EE0CCBAC1E1A.txt': 0,\n",
       " 'ACCEC1168A5A0CB1C5A18AA9811341C2AF0C0559E6EB4D31468F8653D0D0583C.txt': 0,\n",
       " '0DA849150CF90626E7DC154A06C7E75C7A068FCD4142489CB5C3E74B38E4B172.txt': 0,\n",
       " 'EA6BA3BE39744F079DECE65C764B6166CD426A099EAE7D82D6F5F1CE7D7B29B0.txt': 0,\n",
       " '1473BCEC942CAF8DF27DA890978EAF8A1E60BB9632D57D1A0144CB45E0A4DC2A.txt': 0,\n",
       " '2DB64A4F45D8374C7C4051EBC3BE5C97CDC98D8FEF30D9B66A3955D16C2E61FE.txt': 0,\n",
       " '0478A2637EA913C4D89117CCDF8C6B5DF12FDC50E5DFA250321E342E6DB60B23.txt': 0,\n",
       " '1CA3253D3DFD07CEBFCA7F78EA533C9EDB2A455A8834820979B08AC0E08479D1.txt': 0,\n",
       " 'C79CBD627965034308D9349F34D49285679045DA1655BC6FA840C4A5CDEEE749.txt': 0,\n",
       " '183EB93418739477EA6E5DFBBDB56A50C666ECA50BCB380627F5700C483D61B9.txt': 0,\n",
       " '2015924D7169EC8F9B0C04E01FD0E8D03DADE39FBB91EDD844336CD73F1FCAAE.txt': 0,\n",
       " '3370D9652A56628DB4AF8007C9AA962646006ECA48F01E3C035634584D8E7EEE.txt': 0,\n",
       " '1C244AA7529AE2B74A28A544E85537AD1F79DAA205C2AA1702BAB770BFF1CA75.txt': 0,\n",
       " 'D1D0226BBE57B63413CCB4A0383EAA14A74C0F76BA7D1BFF7F81C97AE1DCDECE.txt': 0,\n",
       " '302721DE4263AADC2CD59E74C3C0DF029D1821F296663C160BEDEA39B663903A.txt': 0,\n",
       " '19DD810EF0BC1F59CEDFF42BD64415D32121F7DD361B148A97E11C720EF262D1.txt': 0,\n",
       " 'B0B199FC521C9FC82513FA37FCD2D12051E8C898C6C9DC983AC60EEC687EB563.txt': 0,\n",
       " '199411E5B801CB8A031D500994C1E056B46FBCD74FFA818AB4A5E7B9885E1573.txt': 0,\n",
       " '24146672E4A4D54D2BB9863F7E3A39F13443D30B44C6ADFD16B5805D2ECE8431.txt': 0,\n",
       " '1111912350954FAA8B3E6A38FF88514178B3A601B2CAF7D711FCF84E554CB2F7.txt': 0,\n",
       " '3C559A9A1216E1A75672DD7F18239BF569E43718FE229701E576C05713C8EED0.txt': 0,\n",
       " '30AA063990E8A5CD14EAAD069D0C3B59EB1B4CE1748F558B6C9CD1F4DBBB44E2.txt': 0,\n",
       " '2EA9CB730C669C817D33F2BBB63A08AFB7645891105D944D5EDEB258281EF89C.txt': 0,\n",
       " '17BB5D367F558F0C1255C9AA15E57C5DAB7C81EA44C70CA2835E3FBF04EEE9B4.txt': 0,\n",
       " 'E99FFFF397722102BAC5D3F9FF11D593D7F634A2357ADDDFF2DE0BA4B7D9D184.txt': 0,\n",
       " '085F019C64249632F90FCF14C3AE993422B9BE153A9EDB5D6911A81B2AE690C7.txt': 0,\n",
       " '03F4CD005F0A0F8AB4E25E6C7DEA03F0E6ECE0C41CEBDA8C26ACB8B46B2819C1.txt': 0,\n",
       " '05CAB1B03E4F11A8CC83B7FBB8353FA2C27BF7FD5DBA4B8ADCE4A2873DBD107F.txt': 0,\n",
       " '2D8677E45965BD7F0EED1A18302924854A540BE5CF4AD5F2DA5C292CD1148563.txt': 0,\n",
       " '23AE078F012FE2E02412EB951D51B050CBFC31E755EC0038A3A22CC338BEE7CF.txt': 0,\n",
       " '2CDC55BB4DB66935FF2B106CA0A5138C5056C9D4980B6B6C36E1BD7E17EE270E.txt': 0,\n",
       " 'D140DBD99A76B2A5F7120DBFA3A459756910CBC710C094E4CCA62DD453DAF79C.txt': 0,\n",
       " '516510BF8852D08F5AC99D7369F70AE0851F749DD9DB6664D3B120FE2C34D510.txt': 0,\n",
       " '1FE9E52C2D7E20627BD5B41E79B9A7E2C4981C29A2201AABF1A8A225FC126541.txt': 0,\n",
       " '2F03CB9F601BE6E8C59D68742A06FA07B9856E4806F3E50CF834B52DF7280D19.txt': 0,\n",
       " 'F786531FC06CBD1D4811C6A68E728E4871922E78166E83F215A30F40F0244F5E.txt': 0,\n",
       " '2C8BC176B9094B0A4156BA8CDB76CE8611A34A0F3493CC9A8BA3E98A97A4890D.txt': 0,\n",
       " '299BBAC285026CED5A13F41D1CCBB03B73207CF3281AA0150D335DF3740C0163.txt': 0,\n",
       " '08CDA34F3C873055FA3B992706442B20A3F2C423BFC0F5203190FC27DBE2B157.txt': 0,\n",
       " 'CB5215BDEB50CA43B50DBCB7593264176C01D77D25DF553652F65A8FB05D49DD.txt': 0,\n",
       " '1F070B079394270D31E0173CAA9D4B35DE1EB249C81CABAD8B056380DB587AA6.txt': 0,\n",
       " '0ACA33F9E3002F8FD3A04DB955409C2122B2A63D69035815DD22A16E0CD50E2B.txt': 0,\n",
       " '14BE7D89E33F7B0225944CBFB30F494A5D3E49E8F1E2AB94C272004EE71A012E.txt': 0,\n",
       " '1C8A869068159211A82C2A85D820E0232DFB5B02221D2E995A128D9981A4C14D.txt': 0,\n",
       " '65FBF90633D425100C04EA9D11803338B12FB6716AB605EA8A678A2830DEB521.txt': 0,\n",
       " '2887788136529D16B1DC8587A4EB3731B0209F9A72235BE26CA26EB93B7CF960.txt': 0,\n",
       " '1449E8F8173CDE3503837071774F7D7EA18A4B0C492E36D4F67083A0B8700D7F.txt': 0,\n",
       " 'E9A2660678935F808E08DC8AEF3AD38C6522689BA6799130D2BAF147BC6D8DAB.txt': 0,\n",
       " '230207C0F500094465FE47ED0C33C59BAFCA798B916E8DF91093271E48264932.txt': 0,\n",
       " 'E5FB9D68CF0BB197281215A50A50989C817D14AB487D624145C0B0288F4EAECA.txt': 0,\n",
       " '6583F5224D8BEE7AEB49FB5B92743653691D2A7966D71FF69898F1D2BCF84F76.txt': 0,\n",
       " '2B2A959BE1B3336990333875D4CDE935FA9BFEA9205BD244C9CC4DA7BA79E7F2.txt': 0,\n",
       " '12F30DE7FF834263C3CAAC4115B4A4408E5578CFF9CEA1A4EC6E7321C0A950B7.txt': 0,\n",
       " '1FDC29E4B8C44296A8F5F45DBA5777EDC152A04174ACD0D8B591BDFF5E363C15.txt': 0,\n",
       " '2565ADEB11ABC8213259EC12A862AECF72B1B21E7955FB858F751A844354B17D.txt': 0,\n",
       " '018AE7A4D6290066DA74A74B28826EB2D1F5350515DFF2263F439421823C758D.txt': 0,\n",
       " '103544F6AC310BEAEF5A2C90E0E6094B2AF9EC22C35BF9DB15BDFAED0EF8CBC0.txt': 0,\n",
       " '2B74AB848743C2DECDA5DC8C55419D075A96EB98D41E575E876E67E9132021D6.txt': 0,\n",
       " 'D3CC3598D3C5347B0DF5D67C20316B4E75780D6208DCFA6A94D1BDC81E0EB7DD.txt': 0,\n",
       " 'DFE567EC08D61C7AEFEAEFD43504BA5730C9B205BC3666D4FC8A8DB825CB3ED3.txt': 0,\n",
       " '149B9669D8616040C3466EE172D67D79170A97E5FCDAA0141B1810BF0DAADA7C.txt': 0,\n",
       " 'CE6B698FD6644EE9FF83ABEDE87B58B4C93123C2F5485DAFB3CA22B754DFC0F3.txt': 0,\n",
       " 'D1981DDA4A56DC6FD1FCB64AB69FF1D5D8DCDE1B281135D9CA7F71B9E5C8651A.txt': 0,\n",
       " '19B6FC835B358BBEF6DED66E046A28C98C52C351C1D7B606537040844BAEA5C4.txt': 0,\n",
       " '0175941250747FDA5C0DC2B363B00553414C916878376E0326DDBCA7743B5166.txt': 0,\n",
       " 'E7DFCAC190985A63C1DD67A397D7344415F122062446DC2876E24AD3B594AA42.txt': 0,\n",
       " '2593225344B097A1E1A8DCB48CAD2AC8203E49BE4B415DCFEAC8148D5FFC9255.txt': 0,\n",
       " '3D39A0DD73CBC0303BD6C30FC394A1F15D998503D6C548D2F93A3FDCD4622597.txt': 0,\n",
       " 'E678073E64DFE61C407EA21ABB94C93DDD93BBE8E3A7E5890530B39A4F133B9C.txt': 0,\n",
       " '515E058E9B8FAADF0F0229214B6A6FD1B078E2A77EFE3C676C967A3F101D7B40.txt': 0,\n",
       " '1AF9DFB4F155B06478B206EC214B9F9ACADD3A8AE8B13191AB054CF0C92D03FC.txt': 0,\n",
       " '51D77B3980AD12148112229282498BB79B9867A2DFD9860595083CE16F9A423F.txt': 0,\n",
       " '59177C4B2A4DABD3ADF27E0E22E2E1021EBB3B15E8B1A1A172B82472CCCD94A2.txt': 0,\n",
       " '316C647603365C3949AAFF5E211F14B7CABA93BCB315D8F2E5A840339FFE0D1B.txt': 0,\n",
       " 'D4D8404D16E112F4DD371CF6AD00A4F63B8D906027C9F13E57DB5FDEDCDD426C.txt': 0,\n",
       " '0E6B0B964BD6DBDF80E17E5A0B1BDBED8611E59C2F02E31E2904CA1BF31CD94C.txt': 0,\n",
       " '95B2A775B00285F51E60366A42CA5BC1EFD9B87418B106748CB793896DB39B4D.txt': 0,\n",
       " '0E68925435CE263F27A6F5D4EE8E28060C474C689F7137369C8F1E53E6D3F5AF.txt': 0,\n",
       " '1E9AC2905D8DC4468C1A4C9FB9D87DE2FEEC4107909219DE4E8D9C1A210AFF2A.txt': 0,\n",
       " '2E755377C5117FBB97D987D907E7A2DFCD7184F2ABED620C8A5F1094681898E9.txt': 0,\n",
       " '35B1159BE935878881845ADD88719A74D1023302BA5A2CEEF43AA56BF47A4F75.txt': 0,\n",
       " '45C2D02982F7F67E3A34044F7549AB12B543C0C442E4C7E9ABE9FB606AF2B960.txt': 0,\n",
       " '0CA3E4A957FEABEF56FD59C76B4D0CB411D71E29BE76E107B7548BF39CA51C65.txt': 0,\n",
       " '02FAEADD085C05241EAE272C3D47D7CD2AEAABD75A3CCB53EDB5EEDD5CBA41A1.txt': 0,\n",
       " 'D4B2391AD81361A835BE0F2E3FE659FBE6B38EDA284D3AC435A222CD77179665.txt': 0,\n",
       " '3D240D0E382CE4C5E9F7B8E7841A441BFC83F015155B9C34254C21CA88383413.txt': 0,\n",
       " '09C136D860F3D55782D5FFD9DA61CABDDE4DE713A65652B8C3E7C2818EB8E2E7.txt': 0,\n",
       " '150FDC0A6CFA0893C926DCE0D5EC2195EBC73E048A6A012D6F2A9911FAFC13BA.txt': 0,\n",
       " '20A3156174FCD60A8C9152DDE5DD344B70C2A5260A371CB520514B29126240B8.txt': 0,\n",
       " '24A77218D2354A68FADEE7A0C32E24E60E8A7980C37DE91D23489F024825364F.txt': 0,\n",
       " 'E9D995159D0DE43D238655436C5F8FCA74E1454C6484F93A099EDCBA33490278.txt': 0,\n",
       " '2C4151A2A5AFF5E060AF425960A1A199BFE7CBFD588C49252E0FFCF295FCECA3.txt': 0,\n",
       " '248E63A9CAD32134D4C7ECB4143D7F276C4A9ED5BAE52CAB381CAC18C6ACCE94.txt': 0,\n",
       " '0AECD43438C7D7E8D889633CD9B5E8EF4A3E4801DE0491E113D89CF4377F9851.txt': 0,\n",
       " '4727C4F2CA809F30B4DF1E1EB1130F1DEDF0CABD79931FD652074AA15C40B824.txt': 0,\n",
       " 'E7A49EAFFF8F589850B3C4212B4360CC9CB33D808D2CBF2C735135EA02FCD195.txt': 0,\n",
       " '37EEF1EC510C090ADAE983F6F87E18C77387F5F5B80E9F4FF7210446400576C7.txt': 0,\n",
       " 'E95361876E631194C549931D118ED3E5E32B24965B5E381D594EB079DE186095.txt': 0,\n",
       " '0C55DEFCAECBA6D1D5722B162D23CF361806784E122EF145A1C221587304CAB7.txt': 0,\n",
       " '32C78221D57F3CB93A92D4F0CCD8C54A4B7BDA819BBDB0565DB184FA6F5033B8.txt': 0,\n",
       " '2EBCCBC6BE97F2498A6E529F16300A3108352D81C38AD7B1AEACAE968459B9CD.txt': 0,\n",
       " '2A36781DF4D83E22C21F955AB7B8AB19792E71E57502DCC70EACCBF665E7CCEE.txt': 0,\n",
       " '066953D8C42350D61D53C5A0EE04040B60784F2866074AB6345A0828DF8EDDB0.txt': 0,\n",
       " '3444E981793F5EDF0E20F08186BC479899EC5379CC0FD84F2C4A5D724530A790.txt': 0,\n",
       " '53FA7DD9B30AEA0F610D3FCC3E12CDAA445C89DAE7C27F48F19F8865380A48C0.txt': 0,\n",
       " '2D965C1CCB464A360866F6008E464CC24236C80468B94DBCE284B083BDF9B792.txt': 0,\n",
       " '54C8393DA52AB74D16281D7964E034CE69808E13E006F2D458EA3E11CF361B3A.txt': 0,\n",
       " '60202426479905EC33DC0D300793302FE5184D5E280CD27ED2303D0E03A77DE0.txt': 0,\n",
       " '07500C5599ED783EA839C82DAE6A1544D3619BD4D52CEF3507FA48F3C0F4087D.txt': 0,\n",
       " '01E20B08F8CFE7B7B81A75F8383A3BD85CC515C669EC23CBCCB02AAECD929066.txt': 0,\n",
       " '2DB49B603CDD8D0E9ACEA328CEE487277A1461C4C4B751D1EB23A4EDFC18AE29.txt': 0,\n",
       " '186EEDE10E1F20302DA74CC94D2F27093516F4B4663CCA949F35DC74A938EFE4.txt': 0,\n",
       " '386F93DC43207252B8E77DD28F238FD53A19B24064612502858C2ABCA9AE8A94.txt': 0,\n",
       " '0C31969BF67DAB70D71F06C16FAFF0AE8E7502672BE4895269A40665973DABC7.txt': 0,\n",
       " '2E127ED01277CC65FBE68F7FB687F36C64B4EA596FAF39C8009F92A61937A86A.txt': 0,\n",
       " '0EB95FE7E8AC9F11A904696D9FFEC18A507F0EE5032E1CAFF93CA61F67DE7731.txt': 0,\n",
       " 'D2DBC13F6249E814A76E40EE8C61B82596C6C7265517A90D60FDA2DBF76730E9.txt': 0,\n",
       " 'D51F7568E1D21CDF55EF9E6B20DA6B39FAB00316C625C0843CCA686996B780D0.txt': 0,\n",
       " '09737C262CAA3CE27A4945D705BFF30CC31976EBBAC50ECE8ED99A5E1E66D2A4.txt': 0,\n",
       " 'AFEC87F47BFCB5357CCE3E29C23F0B84DC079CECFEC932FA161048A724BC7FFB.txt': 0,\n",
       " '06C8953EEB45C1A1EF79A456EB8AB7AE3F8D5C59566449045BDD1326116E1D4C.txt': 0,\n",
       " '28234A8185DE9BE919F8A6E88DB2CC0D531E7776F643BDC05E50AAFE5B74B063.txt': 0,\n",
       " '01BD021D7C6876753F95F422B2F8B994E651961C2D146535C1E31AE54F00F5B8.txt': 0,\n",
       " '33D006AE070FA914C125B9B700CF9AC0B053606FD158F281E050966F9F958C0E.txt': 0,\n",
       " 'E87C014BE4DB9CC8F5656C2A14F04BB11110A66B50596BDC1072FF4D796FCB00.txt': 0,\n",
       " '19E2B3B43F0CFFE7D66E26F62D52D502A2D43CA165165F06D65094874210E90E.txt': 0,\n",
       " 'CDD26E0576130E47428C212897BB5052AC1C5778D106402F62898439D169D398.txt': 0,\n",
       " '0A2EDBD095EBF3FA098E21DDC9ABE0BE617FB2F7F4D95AB0653381F49FBC4847.txt': 0,\n",
       " '1876F07DFE6FA0C5485F02626C46169C1CADABF737BB4609C62392433DF51C7E.txt': 0,\n",
       " 'ACF8703494E4D44E603F1110094A86DDAA0AD2DFB90FF21F549D456D3FFDA8E0.txt': 0,\n",
       " '0CA08E953CAABFEC06B573611E30E652D11495115A07A260CA8B1B44CBC24D87.txt': 0,\n",
       " 'D241B69B9904C6361E973FE9EE937F27EABB1511B22876DFBA83924D2A6A084A.txt': 0,\n",
       " 'D5198C4CAEDA3DCCD3D7C129B6B9BBA25DED139AE7EBD0EE555562564C84D528.txt': 0,\n",
       " '2A4356D4A2110B74D3C542D5463CB8D7A50B54080F2508923A508B812FCE7C80.txt': 0,\n",
       " '276CDF63E5F8A46680F80F36AAE26B6B561CB90CAFA0E3544F20E6180F25547A.txt': 0,\n",
       " 'CAE611EF46DCFA4BE68609AB67B42E6DF7DE790FDF755BDFE2873C4A9D5E8B42.txt': 0,\n",
       " '58A9608D19B4EFDC86F963D607A006CE72E5878D3DD7F2F6DD36FEF113C1BDE5.txt': 0,\n",
       " '2591782AD408EA0B426925332D77A9B59B00CDD70D6593217628AE94D0A4A098.txt': 0,\n",
       " '19A8ACE8004DBAD56EB72F69F7459D2A83602ED1E27DB6728051963BCFAEF026.txt': 0,\n",
       " 'CBFD302AB6EEE2A51EC71F8C287BBB77A42E8AED97C73B02E8E48B76ACE5472E.txt': 0,\n",
       " 'B12720362E41FF1C00945148E6C13FC02C5154A3FA0353879F1DEEA3E992B80A.txt': 0,\n",
       " '146D3CB34DE7A5897A41F349A14C49446282A26C4A643F69FAB3D7463D5587F2.txt': 0,\n",
       " 'E7ED7336AD6D2E34096C7C174BB7F203753CBE66E00471A9D9C41F0CD8F162BA.txt': 0,\n",
       " '0C9B6C240A8D0CC3D1A8C0205429A2A884AAF5EFFADC125D0BC303C079F673E8.txt': 0,\n",
       " '9606C064D6313032CFF2CEFAE143807E6E790711D2F012FA11C9366E9C34A65A.txt': 0,\n",
       " '1547631608188F14E46251F0F31662EDCDE2CF2F810EB750702CB4721F308909.txt': 0,\n",
       " '286DBE71EAC11217E802068BE7E9641A149FB6B0C71CE072BC9B96CE71B34A9E.txt': 0,\n",
       " '0928D86667C9ECE0376E4F5ED1CC2AC06E575596D2A606EB2598FAC763C7367E.txt': 0,\n",
       " 'CA9CBF2F047FD29E0D142BBF3A3582B4DBF78549D46DC61D279D2A98C5E13CCE.txt': 0,\n",
       " '50556080081546A7462613A5A202913D2D823477B4EDC73700CC13A4F6507888.txt': 0,\n",
       " 'BF958102375EE4B943329B2C888DDF2E7FA6735F742F79DE104BABBA98E33B26.txt': 0,\n",
       " '624EEB63D691B5293F18C9B0247F9343B963451EBDBF2EAF099240DF834134DA.txt': 0,\n",
       " '324867C7C34A06FAF9C545843B4BA5790A2FC00C1878C2261693E3D0DA9778FC.txt': 0,\n",
       " '1B3C29BEA898520931991E421ADF3C988887BFAAB7D12BF422060435DC2FB8E1.txt': 0,\n",
       " '11BA79532107E7C93BC4353C5D1040B90851B11382B820652BDDA3F6B6E45C3C.txt': 0,\n",
       " '967B125AF9FC2284759529387092FB9C3A1DDE6777B718041340631BE1655932.txt': 0,\n",
       " 'B41D19B4B218A9CC66C511875CE9713743835EA9A433C1C29D2CD4D2D8BA72E5.txt': 0,\n",
       " 'B50E08EF59B31B530945F93C997D10B002F398ED6878A4754765BF4FD2F0AECD.txt': 0,\n",
       " '1CD7B51A7DE9213E9BC9DA45DC8686BDB110726E0F2967175BE543B0A7632A17.txt': 0,\n",
       " '05C8B0AA20BA8D2F9D629E14835A0F6E4BD8E02843116427AAD1DAFC7D0F1AD8.txt': 0,\n",
       " '15D0A42BF22888A383B36D3EEAB6798D1D5315301AD1A78BA998CBBCC29F27BE.txt': 0,\n",
       " '36C531D077306E51DB87D311CB8DB98BB6C6A3D400056B5F77D133A4B71E39DB.txt': 0,\n",
       " 'E64B2FAFF23F149E4C2278119726220C0D93DF28AB4A7582CA7CD38C020DD40E.txt': 0,\n",
       " '33A5E6C2137CEA3FF42EBEEF7A4B9893D682488C0DAB845DECB3533B693AFB56.txt': 0,\n",
       " 'ACE6ADD326C211BC12ADD9D6EF5FD6E436F8634A22FE189BBD33E8B9397D7078.txt': 0,\n",
       " '57D28209EEA0F9ABC3417E5015D4E509FC9183D98564B3F7965DA5F6BCA9071F.txt': 0,\n",
       " '32339F0469C0F8317A1589F3DFE4789A48B073DEBB7A745CE367F15159393AE1.txt': 0,\n",
       " '2CA1DE698D49527592C1AF0619CC2B463791EEFC57322DE4523AFB915DF0B4B7.txt': 0,\n",
       " '1F8BF7ACD025C7C15DC52A09E071CE6C6F98D367C6DD35608A0B7DD350682EE5.txt': 0,\n",
       " '41AEC531546B9BB2BAC081AA7E9AE07BF4F37B5CD5C4CAEE3919AC246CC445F9.txt': 0,\n",
       " '2AC2B99AC027C67AED5682B7A452BCB9E4C388A989F85A8D390955BADC8C5AA7.txt': 0,\n",
       " '41B9E2FA445DF1BEB96D4C9744E9E3B6034A7EDB4E6C7CF22EC01945B07632BF.txt': 0,\n",
       " '24613383AF2EC523FECCFD8E5F040256572EAD1EAE8F54532104857608740C7D.txt': 0,\n",
       " '0A32B30ACDF090F438EA322FED27015BDE208B34FF01288404AFD3FEA15129ED.txt': 0,\n",
       " '0F9FEAD1F001274E62482C33BE964484F6E0B8858CE30790F213BDE517BA135A.txt': 0,\n",
       " '0A4E48ED56127C36BE6645E30262736CE8A90E3617E5F095FDDCA241AABBD825.txt': 0,\n",
       " '58659E355EBCD687324739D351E7BED462F38D6E486D1AFFAC63CB57822C33AF.txt': 0,\n",
       " '1286B002E0CF59DD8873C9A251281195250ADFC7A304EB6B0D197F58C45119AE.txt': 0,\n",
       " '38F7402441157BDD1D793F3CE00C4D14CCDE357893DCB440FBA676AC332E92B3.txt': 0,\n",
       " '19E0121C52CB18B744EC8D20ABFD0EBAD2DB22100BABC4BC1DB48070DC2E81AE.txt': 0,\n",
       " '60A2CDEA1967282E58EB83FA05BDAD38FF35038EF4A34806C29ACF1A5E7B8C1A.txt': 0,\n",
       " 'CEDFAD710B85E489F16873118BD80B70F742E8A1957C901C1B1ADF44E403B848.txt': 0,\n",
       " '1F86D5C61DA37EE8C355A4292BD6E9467E0C0E1D8E4D2E0EA128D3935F84D25A.txt': 0,\n",
       " '31B237CA24182ABAE7AA1851D48B1E9B6CD845C489569A50E2D1707C894E2C45.txt': 0,\n",
       " '08BAB82473F1641F3C65497C56BBDBE7A6272197E631ED09CC81F0C9E9BC8ACF.txt': 0,\n",
       " '51ED7AD6F0AF6C64FC3AE5C7CDE7308A72D79DC24AC964D9BBA1BB31EA8571C1.txt': 0,\n",
       " '019DF17144396679532D9277533185FC932D82DC1771B0E9BFD697287A4D290E.txt': 0,\n",
       " '38F63603395AD34608B4171550A7F1777D83BD87EB8E3D51814318C860CDB96C.txt': 0,\n",
       " 'E63F8FB7DD0E6A8B5C20D028200B5ADAC054BF9CA43A7D0E45F6375B83F51734.txt': 0,\n",
       " '0BC5D3BCD2EF9747C6142CA257D78782A5C352435750316F5D52CC7C60C8710A.txt': 0,\n",
       " '31230BFCDD717D1787E966CAB6DC2B76A4176C0A02FF7A4669D66DBFCDF4AF54.txt': 0,\n",
       " 'CA7379354D1F5CFB166621F2EEE5296940C9AF75CF0022D7371CDABF6DFD2ECA.txt': 0,\n",
       " '068B82C75A47719649493926773DD925F14FDAA89A8617E7A99E503E031A58ED.txt': 0,\n",
       " '091C946B93434D32ADEDE841EAA665DECE2350B5EA4DF8265C62E650810D6AB3.txt': 0,\n",
       " '10A908569F608D3942FC806EF2D55F0A530FA07C2C312B39899DA00806AABCBA.txt': 0,\n",
       " '32AA000297F37AD41F48680E08C58C6E4DD2A98FB9D4FD8F9B863FFE91DD9130.txt': 0,\n",
       " 'EA635DB98D62092F78098DBA196EC88B09804FAE16B906DDEE6061BA5B326199.txt': 0,\n",
       " '03BAA9BD15C3EC2DD2C4961E397E320C9E94B017CBE199F6B9BA466DD793DCDC.txt': 0,\n",
       " '04B24408000AEC385033D901D75AD7878391253546A65929C67B6B86CF3520AE.txt': 0,\n",
       " '31281808051643CDA9AC00E1CABCE887E994258A6421D98A965D1CD5CE1D248B.txt': 0,\n",
       " '29E6B18F836953516C830F983EF653616F01878F1549179F507EE4843C422CB9.txt': 0,\n",
       " '49799FCA335668A4610415B02721353C8511444908EA5A7F724B75B34AFF2237.txt': 0,\n",
       " '0C3E37DDA0BDB3EAE1F32B9E540FBF7D41FE18AFF6A559C4F4B86F4E71C8D956.txt': 0,\n",
       " '29778FF0058E7470258A87AEF05D5E3214725771DE02D4B0FBCFF5E1EB234096.txt': 0,\n",
       " '01B28E9294913E1098A146BD37D56BCF9FCB53A3A621C50F94BECCF3CCBD07A0.txt': 0,\n",
       " '0E5DD002918911FCF84E665EFB9240525BDB5AB0E03A9315379AAF6F3E11CE96.txt': 0,\n",
       " '051E13D0AD44D61B243F222B5B84740365EADB26A02F5A7DCC9F931FAB6E2E5A.txt': 0,\n",
       " '30B52E8A15B7251D3750769EA7331F3166168156138FE6D32F1E89C7889CE6D9.txt': 0,\n",
       " '2CF21E46ABD8454551EB7AD0B573A0612C32369B90CEC5DE352C44310A651310.txt': 0,\n",
       " '055DB6E1F11D4892BB83EA526B8E4C308F79E24CDAB1379C4DD6C25260052112.txt': 0,\n",
       " '2594C47F5B8AE8B8409A40E2DCB2804C56CEB1F0F4E2C00C4DA6741DCF82EFDF.txt': 0,\n",
       " 'E7B35BE772D088294EA37B90A045D2AFB04482B9CF125AFDD709974D3F91FF04.txt': 0,\n",
       " '3FEA18847EB3D231AE69180B4BC3E1E26A42385B3899FC389878E9ADD7EDF2AE.txt': 0,\n",
       " '04700266E2DCD636FFC8DCA3EB241D6F273F1A71E5EF1E46C0F17B299F65312C.txt': 0,\n",
       " '0A109787CFB26259D940650A293D33A40D8580ACE8136218E9C9AECFB02F230D.txt': 0,\n",
       " '65FB90BD033727F8AA91F52B4855C2446792AA190EF406B378C13E2C4D73CC44.txt': 0,\n",
       " '17A0E25B6C74AE854F16F61910B797D1E9E9B4126509EC00DED1E22D02B2C0D5.txt': 0,\n",
       " 'CE9160D0D063D12A04A3CBAF24327F05BEBC60F6505AE133DB9B10B1DB35CC3E.txt': 0,\n",
       " '0175D7356B04BFAD1E6D88029F01D3A4A9416E07A15E157EE4A4090BD517D133.txt': 0,\n",
       " '0E21AE7E4D578E5EBF4690C06D284B25F557C573919BAAC530BA6E1C7847C117.txt': 0,\n",
       " '2C743089D6421DBA34B451A47ED4FEBA9AB95CAF37DCB6732A0FF2044A9F43D6.txt': 0,\n",
       " '0B78FC3637FDFC6AD5B4A7F133EC1C022B614C6A7264F889233A8C6171718FD4.txt': 0,\n",
       " 'AE35F4639E6EFCA5DA3F6192010C2558E2025246A44B05A861B914B71A09E2C7.txt': 0,\n",
       " '4D33963B255BC44827A05514E670748BC95E7E4BD90623A90FAF0C72691BFF3B.txt': 0,\n",
       " 'B17F1452EBE552C39A7F676E06B6DDCDC30F5A389C15BB4364FF44AE94784C92.txt': 0,\n",
       " '59E131F4492DD7987CC75B4F6916BC131436E5F0E5F907F70AC0125BCF1E5D96.txt': 0,\n",
       " '20ADE1A8790AF9C2D0BDC5D1588EA8359DD58C09B3B0300AC8B8D5683B52C14F.txt': 0,\n",
       " '136EB09C3F8196F8B465CCF27F64F71EA78B0F56819F9339144427A14461FFC6.txt': 0,\n",
       " 'B40AB69EC0DB32A9F5A81F46028871F52F19EC97B6620AF53AE2A7CE5FA025DD.txt': 0,\n",
       " '711E9BD9DD980414C8EEC569B378DF718C70D36983A80E3EB4A4F304B669011A.txt': 0,\n",
       " '6B3471374486A65E8A5F15ACBBDD8CF459FA12BDED733D4CC1837598D6FC5F40.txt': 0,\n",
       " '03D5E7550B3D532629A2E1D75557FD8296C492E2F38A7BA25159F5C3C59A3335.txt': 0,\n",
       " '07BFB171D13BC31305616DF5C033E4A8A914EBE766E7F86231497B5D365E882B.txt': 0,\n",
       " 'AD10AC2E0D2FD1906432ADDDDAE9BF448BCA8F8C654CFA63ED7ADF8BB071FA86.txt': 0,\n",
       " '1C146A25928873CA5D37BDA22980D8A09BC5723314760C0ACBF22FD2E99942E1.txt': 0,\n",
       " 'F1ED5CC9732EC48DC8D1DE2F6F35DC387704414EB123E5E2605D3C37FB0B12C9.txt': 0,\n",
       " '1FBACFFEF07C0842AE6570A70A94C7714AB65AA4920BB8F9ED9C25FC66F5F389.txt': 0,\n",
       " '2E5D9F97628CA8F8C03B5B3935DD6A2BC0B40C0E939EF7D4618B0D4BEDF986E9.txt': 0,\n",
       " '3363DE618D166D863C6C25D40BA3E770AB3436E13235A0FF324CCE6BDDE89A50.txt': 0,\n",
       " '25292F7CC88C7D7C399B72DE8AC691DDE51B1603C77108CF058C348970BBE6FB.txt': 0,\n",
       " '3BA0CE26651538DE2E7D1E97A63D07D3A4701BD0FE6D6FFA1C20F7DF82B774F8.txt': 0,\n",
       " 'C64E2D3FDC3930E75EDAA31B41E6578EACCFB27192D271C30CB46985F9C2C3D2.txt': 0,\n",
       " '10F8C1E8D8305D93D90642B4A51E1CCE70AE907C3F43B183D0F7C64F1E66D809.txt': 0,\n",
       " '1996D5FB591AC4C07529372617CE57A759069FBFAC054F60703CDED7C9551A1A.txt': 0,\n",
       " '00B25E6065DA95A63C2B189D82E1B30DA5E62A0433C1A41EB0DF3C0EE7EF8777.txt': 0,\n",
       " 'D12DB54B8D17EE0E0A58FF9DC478535C4C7BB8EC8B33719CC84D1B9D891287B0.txt': 0,\n",
       " '1F39B08BD648AE119563595F6AF41D9B2FAD7D639ADC9E5BC5193FED0F545651.txt': 0,\n",
       " '96FE67B7B50E071D2BEB96F6006AF19A905E792E0ACDB02915494D95FBA90FBB.txt': 0,\n",
       " '071F439120DBE208B4C94105D0042BCF17A4DA0FDEC1180FB9FF43CF51B8FB75.txt': 0,\n",
       " 'AFBB5448AC3C6CFD6877905F3D51DE5FD608EB51E5D006D41AB46F442180AFBE.txt': 0,\n",
       " '0F74D082786700A557661B8B720E1C0A9F26C6A771E866D29A6CAA9465D4408E.txt': 0,\n",
       " '18CB7EECA02843A8C4BEBBE80E6177AE99E9B967F8D303A3AEB034AF4044205F.txt': 0,\n",
       " 'AC2CE1F6CF74066D67183E4B2E64ED7FC4C9ABAF3DDC700DFCCB948E7D56C6D0.txt': 0,\n",
       " 'AF7431D5C95139B0C9460E9ED06338EEBDD718078979E5A755D655C4BF40649C.txt': 0,\n",
       " '0B1B9E94320312FE6B9F9CC1FBFF9FC6E24659053E0634B7ABD3235A391B05A8.txt': 0,\n",
       " '042E4DB24FF909E8B31512D638435ED9B9D32FE546A3BBF17E2CF0DE631257BE.txt': 0,\n",
       " '318FCEF956CF33180E15766BD43E8E49C26EEAD40E6F8D3A4CFA4CFE6319E650.txt': 0,\n",
       " 'B5F4FCD3436CA556447D2953A587170BF0D8687ABB2F585A51AC20354CC06CCC.txt': 0,\n",
       " 'CFB3EE3415283E7718F471EE3B44A591BC938AE93CCF0C8C9EE075E22A2A6AB5.txt': 0,\n",
       " '05519449A74B80629265801CD0AD6758E047CA14FB028B4BF7B126516AD9A45D.txt': 0,\n",
       " 'D38F797CBF5EC63556F1D532E37AB512A635E965DEB901996F6729B97ACD2B46.txt': 0,\n",
       " '10E5268B3889536F032B7A4E9453BB794E74EEA089B2C08486C3F8526656426C.txt': 0,\n",
       " '1813FF1B1D38C40F50910C1D2730684A9607880116F4A625E364DF6EFCBD38DB.txt': 0,\n",
       " 'CC5FCB0E822FDF9E0AA923BFC319CC3682BB88071FB28C634AC026C52D40055F.txt': 0,\n",
       " '100CCC578809839293F466FEEFA6DDC97A3683452C6D503B0CD8407958134E64.txt': 0,\n",
       " '198BF88512422B65FCFF67D77E2C83320B159191CDFCA406A1E9C1D7DDA312FA.txt': 0,\n",
       " 'D4760A96DE82DDAA329CB6D4F271A6B2A3B7D69B552950969AECCE0FE0004532.txt': 0,\n",
       " '02904E6A129E9C3DF280C9F230EA3CA25FE1F46DBBEB0FFAC21CCCCAB18DD45B.txt': 0,\n",
       " '33EFA89A9197DADC60D5BAD89AE0F32E6E9E5D3AB9CA2F6B2C356E5B7CB3B495.txt': 0,\n",
       " '14161F1FDB93E061C5EA108C325E5DA309ACF909BB4D64CCDA3C8A4E32E560E9.txt': 0,\n",
       " '24AE77F8626CC6B58D16D646FC935365AB0A5839385BB04ADAC321808CB85415.txt': 0,\n",
       " '126FF5B9A74B06560DFE0F3B23434542A957F14277F3FFA7C6887DA198B2A0ED.txt': 0,\n",
       " '11AAB4D1603CEA7827F69D06C112A8A66DD1517DF043679AC656F53D7081BE06.txt': 0,\n",
       " '177885862CD22E9A5EB79A87B65761AFE5117F1912186993D739FFF51A3197A7.txt': 0,\n",
       " 'B5B6ADE4F16D928182EDDC26AFA353852CB9A52F846EFE6CE1C790F1C96C966E.txt': 0,\n",
       " '1D1C61D763BA0FC0FA00A1E4D2A2FB8F281508A4FC74B62748D459297258387B.txt': 0,\n",
       " '1F5576D3363997881A1EEBD75B2CA4B77B898CA540CE78A6D286707A507F6EDE.txt': 0,\n",
       " 'AE3D0725BC8F5ABF05D179CF1EA655DA45B9FD7118605B94174F8BB9D6FEC76C.txt': 0,\n",
       " '6AD86D5843EBBE23BAFD7573886798B0119FC7D0E29AA86590D0DE5A7F0B6DF9.txt': 0,\n",
       " 'CF4A5E56A743F9E82C4AFEFF48D0FEC34DF23C8DA22D54FD271BBE6886F9486B.txt': 0,\n",
       " '44FFA1FD094D6B62594010BFE2C365B27382A95C446AC33E61CFCD11B5CDE674.txt': 0,\n",
       " '2E0410CCBA9AE5D3A3463921432060A4C45176A3DE311592372659B318DA5B38.txt': 0,\n",
       " '10C01CB19D392E52D0D5C10FF7C1AE8DBE571994FE4A7D97970B7BDAA7D69751.txt': 0,\n",
       " '1C53BB46E2A86306E2A4C7539E025C38FDA3E96C7B7CBD09461FADB27D2B17AE.txt': 0,\n",
       " '2295734645C8038700AAF69A55B958BD998DA8A7F03EDA8E1214F928E52F23DF.txt': 0,\n",
       " '334B4FF2CA01E0B51AD311F383262ECB3D709E098B9B8082325D5EED23179512.txt': 0,\n",
       " '0AC2E39FD60EB62E7C54AB464FC9AB473B304FC44ACC336C4C3533B941200D04.txt': 0,\n",
       " '1CA881D33D9F33900DA76182303AE9CB7496ADED80D8035E713860DA80908520.txt': 0,\n",
       " '58342F895D96BC9F57AC8CBFCC10AE05B8BB9EF4DC3C03A5BA6D6B6A6A7909CB.txt': 0,\n",
       " 'CED88B2D37D245DBA538186D2D0F5BEA806AE1A9647A6DEEBFC4C7D143A3E93E.txt': 0,\n",
       " 'E7763095D58C6ADFC253370128BD5D0AEBC82144E66A9FFFF2DBE5FBC57E0EC3.txt': 0,\n",
       " 'AEA39C49C4D88EACF73088FFEF2B0F1CF5350BBE70609573F11FD2A814367DB5.txt': 0,\n",
       " 'AB2AEBEC7AD9E409889E939599455DDD734FB94C8634501EF7FBABF376010CDF.txt': 0,\n",
       " '28DBA0FD2470AC16EF05DC3217D6EE49BDC36AB6EEEDA2B09515EAA0329A8E9E.txt': 0,\n",
       " '20B6DE1FA5AFA45498EE0C9D9F873F19AA69E63B99C6D2CABA0B644EC1661F1B.txt': 0,\n",
       " 'E847A526ECC6A934FF32250B7FD914F624C1B62D434F0EB7E6D2FED8C29A5F05.txt': 0,\n",
       " 'D544A779953D9EA01FC6628D1B2C7B50192C2144A51330926FBC4FC0DF69A03B.txt': 0,\n",
       " '03355B7F8C09552F8D5D2167D0181B9FB2BC05AB5A17D600431EE1160790C7E5.txt': 0,\n",
       " 'AB2AFDDC8A495B957B3B83C7A044AB6233A04FC3E745B52776FF1429F829ED9A.txt': 0,\n",
       " 'AE59ABEFC0C0F757E4F4D0EB2E13DB162329B7B3772BDB386D374901E3322156.txt': 0,\n",
       " 'AB6822BBDD9D4453CA4E34C7176873010EB75BF72DD363166F63E66887E5AF70.txt': 0,\n",
       " 'B367BE249ABF12A0EBD741FDD7E40F44F811CC00D1E8660526F209B88F3DB42A.txt': 0,\n",
       " 'D27ED0CD7F1FFE3BB391ECF0540E336BFF26CAE207D88DACBA0822C44CFDE11E.txt': 0,\n",
       " 'AC2CFE2591CB6337B183864C57145E0BE92E9DC927E07C8265CC54D0202D1B2C.txt': 0,\n",
       " '63158FF5FAD10CB38CB871297395253F08BC11B1C48DEFCEDB285FBB520C9B55.txt': 0,\n",
       " '2A0856654F2FA47155FAAD97BF4942B374CAC67DE0E67F9AA98AF77FB78DDD73.txt': 0,\n",
       " '0E150C376871A7400BCA54E9F76195BBE2657EDA3266ADC700E2F64A34CC2DC2.txt': 0,\n",
       " '41F61DF7CBC198831E71352A815EE84D280ED394FF3A97FC016BEACACAA948F3.txt': 0,\n",
       " '0D3A20D3B6DBD5A035880EF7BB19E632DA962048818A568498BDB7BEA27719A3.txt': 0,\n",
       " '122DF8EAEF269F2A954AADD5D20907141BBB5D833085AB6727AEBE99DBF714D6.txt': 0,\n",
       " '0E40999112A8BEED87E687919A01AA328C65F02985FA353A90EB05F3B94EF0A6.txt': 0,\n",
       " '14B476A299AB2A8CA38E83DD0C2C27EB5824AAC82933E31678FF2C1DF8FAC9E5.txt': 0,\n",
       " '4FB489EACB0CA30CB4867C4B1C2365BF050117359706C8F0128D8883059D1E7B.txt': 0,\n",
       " '0F6369B7D8E15B24DAD5B8C8A1FE7F86A71737CBBA859B7B680889A4FD72B97C.txt': 0,\n",
       " '196D886CAD9603A7EFBF8AD99C5A345194685CF8BC953D96595C3FAE09028086.txt': 0,\n",
       " '16C4C268040C0AAA3E17DFC2B21F8A877556A7ECBF438B82DB31056C81511878.txt': 0,\n",
       " '5AF311E4AF4205349D5AF17E6FEDE78484F4CF44E77BA9DF39F55FA9D0A1406A.txt': 0,\n",
       " '555B97F9BBCD123AFF60C9D526F6E1766379071907268AD3612674A8CC1780C6.txt': 0,\n",
       " '277C0FC6E48DDD2CB0E37AD9347A3A52C6BC42BE856A89790CE10D5D38780BC0.txt': 0,\n",
       " '2191A17EB083F20DFE40D64CDF6951119A70AFA9BADB3E4B658A0432BC4B33F2.txt': 0,\n",
       " 'B216350C0F804E174AA9EB0247DA49767B66CDD2B43439D437FD5C1339C1836F.txt': 0,\n",
       " 'CF0FB376BD22379138727CD626ED0C27BF4005F1095352CC1234AA6687A26586.txt': 0,\n",
       " 'CFF694E72AC80E6F6B2B75B0E8071295FEA76D9A88F7C38970BB0A68B59DDD02.txt': 0,\n",
       " '09D3EC2FAD5D77B4D5E09C6C1D84F22CB58D747B5F1CFFF9E640A3843C28F44D.txt': 0,\n",
       " '1C5F309292A8EB1A863E5BA9981647EE4A5318FF3BB15C6DE201D1AED5BED37E.txt': 0,\n",
       " '2CEE88AE58B8DAB8BFB6FA4CEF9EDBF4BAC173E16656025E0997F5595779C4FB.txt': 0,\n",
       " '39CBCCDB69E55ED55FC79476F039B0F83F85C40D2CA019D4BF7E4F6C279A17A6.txt': 0,\n",
       " '2D7972C043B8026026874C7F5FE0AE1BCC7F185ED05CA2FFA224C10EA518299D.txt': 0,\n",
       " '2C62249834F7A9E4E3D8635B996D889714E7BBB333C6B52F98A8E92B7F53EC2E.txt': 0,\n",
       " '0F10FAEF07459933765782350FEB398346C5A8F0C4BF288349D3CB3A665BA6FE.txt': 0,\n",
       " '19D6637F4356AFB974CDE274898EDB96C8B94CA35A646810979884E398E189AB.txt': 0,\n",
       " '1B881D1D05FD8665E90F4432ED3F34F40011593DE273DC5A85209D12B649753C.txt': 0,\n",
       " 'B5BCB9E0563DB6D17F85F0117B2FB0476E01DFB40FD48EAA6AB77F18E766BC70.txt': 0,\n",
       " '559DC93CC154B5E611A2D415BFFC8D416B3AB01E082BAA9998244E8D5D997E2B.txt': 0,\n",
       " '2AFE24F195F10D7CDC18429AFA0FA7A1A89414DC7DDBB56859DC5E7FF9F59439.txt': 0,\n",
       " '640692C9361147CAD0BFC378D873C5B69551043253BBFBECC46453C0208F9C86.txt': 0,\n",
       " '074A53970578C4724FAC56B5BDCDBB44C08313868483C5463806154F9BD1CE24.txt': 0,\n",
       " '5B9DD4F0AFC3C2CCDE4E8C86ADD3E20E75EB141DAC435EC7606F69C59D497D29.txt': 0,\n",
       " '084155C23EDACD0A58810B8B8C84BDF89ACE4E1129EA0EFB929825BC7083E840.txt': 0,\n",
       " '2C897DE9CE258F3E6EB65EB1C7606BB073B04EEEB6DE0F88B9EA1FEDCA1D6F83.txt': 0,\n",
       " '37B97EBB50D567DE676555FBE5DAF99DFC783E77093604F38A7DAAF712B5BA63.txt': 0,\n",
       " '1AF1815EE0C060F489F12614A0A63620178277E5835655CA293861BCFDD169E8.txt': 0,\n",
       " '3C06C4C0542F7FEC4123B7533B52ED9D0116017AE49216326498FBA3D3EFEFA5.txt': 0,\n",
       " '5CE2AFA2E79BA9AE7D48DB1E4792BE785D3685A7601A58796F7CD303509138D3.txt': 0,\n",
       " '15D1351E4B7702F6A388CCC26E695116A57E4F30FF230DD0BFF0EA28FDD6C8DF.txt': 0,\n",
       " '30A46D78BFC0C72BFA7FD9FD3DB324CE400688C8A3745B307D831BEE7906B49C.txt': 0,\n",
       " '29EA0247BC1227D1C69A190C7D8CAE376AEF7FD0947698F6A898543AE153B5A2.txt': 0,\n",
       " '662D6E6ED5B2D0E92469C2F3481619FF9978B6B41C8A6F645C908FA6C51E96C3.txt': 0,\n",
       " 'EAA00D4CEEA3411A2C8A19B405BE91D59BA6269FD85292FDF04979289473417B.txt': 0,\n",
       " '33840F8C3224077BB68A5C8C3F3D6C288E438C069FD7D285F753B844EB41FF44.txt': 0,\n",
       " '2B606E10582D8C49B8ACEB7CC4F4F1B4380D1521CE4CA8361516A005213D0827.txt': 0,\n",
       " '1E29602525E9BF4893A2C4266E204921127F29FEB4461DE5CC85D03FFD6ABE4A.txt': 0,\n",
       " '08EEAE7DF8B89197AF3CA053994F4397CAB792D7169EFB64AB5D4987E0AD16FC.txt': 0,\n",
       " '2B81C8B7384FCD9E751B954336E205162ABC1A072891BDDD86F211BC7C5D3936.txt': 0,\n",
       " 'E526AE76DBDE203D76B177ABB89C71FD35B046FADBBEA690E5F9264D249CB0E3.txt': 0,\n",
       " '144ABFB76F585F1498C1C54CF4B5ED5D1A8DA3B8D58625197FA4CF40DADC4347.txt': 0,\n",
       " '06069A31CD785A2BFBF9204FD511F6A0320A9371B387CCA70B3B3074BD52480C.txt': 0,\n",
       " '1E8BF474D0F06C89791C3F37538CE64CD51DD05413FBAD882EAF38DFF9352063.txt': 0,\n",
       " '2694F648D92615F13437E64E65F0F984B5A56441BF0DC1BD250A48BE577D26F4.txt': 0,\n",
       " 'AF0156F3D4CA7C0A56293DCCF6AD796E6CE6ADCE0442A26D8EBDF4CCB9B13F45.txt': 0,\n",
       " '7A46228943108BB0B5923CFA1C5543328DD802FE738763E80032C7E5A563126D.txt': 0,\n",
       " '0AD07DCBE8EE8565A6C746F9E5F3292906029B84839A0BFA8E92B0E986E5B876.txt': 0,\n",
       " 'B054539571E2AFFC6F7E61117405C6AD621DCC9E50D6655A7A584D41ED7616C1.txt': 0,\n",
       " 'D24D3C5C56550CDD6AA2A2F8990EA3CCF9D9575BB119B17B289EF9EF54EE3E12.txt': 0,\n",
       " '02BDDCF77C393A7A017EAC3A404EEE3F00464468C27F106A524DB089B10F98A1.txt': 0,\n",
       " '18C43B1C8147877BEF6A9F90F8EF104AF004AB2678AE0148CB44F8E68E8E6C64.txt': 0,\n",
       " '0374D4B5F89591330676BEF18DC27AFD4B15970A3415D424416C2E97B3F71427.txt': 0,\n",
       " '1CC870B5CD444F862E0E304300B3BDC67FA9ED40499682F7BFE549B98AC2A6AA.txt': 0,\n",
       " '18FEEEEB802956DA07F995CB73429CCAC8E8FF9ABFFE7C0F449DFF3772333649.txt': 0,\n",
       " '127FC074F2F80054FAB43503BAD9DB7D10755AFE94085FB55CE07E502FFF2308.txt': 0,\n",
       " '18B2617764DF8817E275DD6F6B900659305F48E142E6ABAFFE61C968B1B6B002.txt': 0,\n",
       " '141D4D8AE7508C1A9CEB09F41F28CD5A53A756656B24F73F45836BA136C8745E.txt': 0,\n",
       " '1D1B23F859247A320B18344E3C86F74778FA7795948A180D67487F6CE331F84B.txt': 0,\n",
       " '2F0A3E84A0F133888DED430E2E6F87F4B7B8504113A5270BC18C5945A17D9B60.txt': 0,\n",
       " '07F3D6202B242E063BB3593D872835E55AE330AF73F7B6C044F46B8B9E06152C.txt': 0,\n",
       " 'ACF9E48D1974FBD61933039F8F7752FD512A0B071610D72BCDEF9C78624B480F.txt': 0,\n",
       " '0F07AF39CE681D790A73DDA9D1407935C490545D2F12AB5C86A160EA9AA87416.txt': 0,\n",
       " '12AB61122BB5122B11B4F5F770C83398F48E3DFE0FBA638D4AB5DAB1C7A0CEA0.txt': 0,\n",
       " 'D48ECA48992A47CCBF6D1DF6F62FB10C2E26F7E7CC99363C7843C411A45A957D.txt': 0,\n",
       " '17119943813104EB6DE0771D626906C67D9A6C6D5A63BE71BD074A22DCA724BA.txt': 0,\n",
       " '179D44BB5385F110383867836C183BA2858369E5886D51F4214F68F54F4AE23A.txt': 0,\n",
       " '2FD074B40CECA5DA37A2E318074E2345DFF5001CD8C196E4FF9A19ED92EBF9C6.txt': 0,\n",
       " '7308ED7FA1616F37AEE9F15BDA686CEC306AECB690EE6E8774A87E557CB45B2A.txt': 0,\n",
       " '2BC66601BACA15F15E1E6A59208972F8DADF3E4E1A86A011DE6C5465512CA8D0.txt': 0,\n",
       " '3CADFFD2A8030A09E9146C00DFED00B4FC1762EE83532349B432B89A64D518A7.txt': 0,\n",
       " '3021F73BEA9DBAB9804F1E5CF39FBD722C8A653CA61EF5BDDED33FAED558F9ED.txt': 0,\n",
       " '16D2A9418004145251E8619964B2D08B49E74309090FA8E4E1775267C64C0478.txt': 0,\n",
       " '28BF19643B51320FDEB66025087582135E2582ABA4507E503273660FFCC5CD18.txt': 0,\n",
       " '7AF34612DF46E61F2CAA57BBF972103AD1A62F4C799EE2F5B6A63F137EB85F23.txt': 0,\n",
       " '00FF268B2947318A81F7ACB4C01524DFFE90D7F26DD4F1DCAE491F08C3123B83.txt': 0,\n",
       " '01C7099D037D40BF4823393EA5738B4A0A4DE3977D47397B989F70FE2779B2AD.txt': 0,\n",
       " '552E1783EABD50570C1521CC30E5A43BF06E76E2AACCD28B26E89E9FFC8116AF.txt': 0,\n",
       " '53D17EB76859EDD2A44F458AFA4104F6616262DF27D0342A28E8C1C91DE59386.txt': 0,\n",
       " '2BEA64841B50AC25AB5DF6D32446731130944505EB91AC595C6094D9F731E4F5.txt': 0,\n",
       " '33217AE824B58E46ECCE6120080E75B9A28CC8ACB91DB682FB834ED4C2E1C9B5.txt': 0,\n",
       " '012EAC504271F6CA1F322B639B1320B523C0438B59372CBF1D6FE4D138C9A698.txt': 0,\n",
       " 'D29DB8D37299E440E64E43CBA4403DBCD8FD971B5D38961D43ECBE55C5BDE1D1.txt': 0,\n",
       " '2F1D7B36FE9CA2BC88798FCD8897C600B0E8E9516A6224AF71CF9DE2E85715E8.txt': 0,\n",
       " '200EE5F7A85333F3015D0F2D848E0B453EEA77983BDB022F8BF567761391BE36.txt': 0,\n",
       " '14C1AFF8EF6BA34080B47ACD8EA268DFF9D5476A48C8579339E767CC2A727B8F.txt': 0,\n",
       " '0BBEE1B4CD0A7EA64D8BEC01239353E8C5611335539968D6FFB9C8A8FD71871C.txt': 0,\n",
       " 'D1300ACF937C841E866466C9C5597477AD3807B7356CEFBD4449C916D1E8E04C.txt': 0,\n",
       " '1DFACC893ABA36B8240FB0C19D06F01E3C4FB38EF927F38CE06369FEE57B88E6.txt': 0,\n",
       " 'D583A2435034590E4DB14B8C5D745F79C2D4F0CA675E6C5128CF4950A7EE8204.txt': 0,\n",
       " 'AED191BE54DF9F97F82BBFFF64601D2DBB5F35DBED4D1FDEB06D94F30BAFF2AE.txt': 0,\n",
       " 'AD7617341267D79DBBB5352BAB008BC360B38F42D105975D3C6536FA17D6585A.txt': 0,\n",
       " '2ECC836B5B2BD5453EA97D233DEEE5D126C059A697E9B19DEB1B8FD3706812C0.txt': 0,\n",
       " '1A1310D7B8079679D09245EB32D643C9DE8D5CF5537A89AFC1B1230908364FF2.txt': 0,\n",
       " '21C78422E83AC15CC6938EE1B87710B8C26D248B2253F5D7A646775D082E41E7.txt': 0,\n",
       " '04217B7A8983CD5DBFDE74D8417BECC98EA3364D0A81FEAD8E81BB2674D38E3B.txt': 0,\n",
       " 'D03687BD56BE4989855EB6215ECE59BBCD204F976B481DBE84B2C22E07EA93F4.txt': 0,\n",
       " 'D46CEACE4851759982E947EFE92A5D002A1D8602BD0C35F8649EB1C6BE4225DC.txt': 0,\n",
       " 'B3398F4B84107EFCE8A30FFBA3A8AF7A327C810E8316B09570553131ABD6B2C3.txt': 0,\n",
       " 'E7AD08EF173F82EB498742DDEA7F60F27B8CC5DD0B8AE1A51EC558E6D841716C.txt': 0,\n",
       " 'CE708D8AF2733821F1BC0DDFC6F57B0CFA66F1EAAE116EA3AA21E71AB42A1F58.txt': 0,\n",
       " '67A581C246EA701025EEC13DF006CE2469DC0B15D0B20462F34671011AAA658E.txt': 0,\n",
       " '16E4B7E06D5F1CA434220800BA5D47FC2C58A9EFD4E2A8CA8B73FCD10DDD292B.txt': 0,\n",
       " '3565167996EB5D4FEE95FCD5390AB8F76D95E453CDBA2924B3A856C1E0901FCA.txt': 0,\n",
       " 'D5AEA10D05FF554620753901AEED51304A9E7FCBD6E54020A7603B8D96334EC3.txt': 0,\n",
       " 'B48E661085D7D1DA38A4EA62657C58611385DBD51BF0FBD4E39805E6E91AFD17.txt': 0,\n",
       " '5D51F015C7C84208DEA067BC5685AC1673B3DA61C49012BE0082744C235F4EAF.txt': 0,\n",
       " '3B1C14B98CC93528069CFE294AF4ED5416248EB7100E19798C1641C0C89006D9.txt': 0,\n",
       " '4F10F73D9D1BF5EFBD0446C1915FFFD7BFBC1B7927E17C45AB0718F08814DB6E.txt': 0,\n",
       " '2706AE926593C8A34BAB24998BDDA5C09E5C1536E2A1BF8F18DC0EB84B2C263C.txt': 0,\n",
       " 'AE29F94CAA7F9EE19216FA870D4D2019C3CD3FD9DC08FB580D8C0E38C379CCE5.txt': 0,\n",
       " '149425770874976A15D9A115DDC51DCD67CD2F8A71BCC625C7ADCF7EC1CABB88.txt': 0,\n",
       " '2F595E3FB1BE335AFEF3BA21AC122F10A58CD2AC9AE52808192776F96A8B108E.txt': 0,\n",
       " '2FBB38DAF1A23A7DFA16631D2B71EA0377372073A5D3E7B996B97D285A12AFBE.txt': 0,\n",
       " '2C64F472CD04F532BFBAE5142DBCF3431B30A76B6998598FCB83C81DD4D667ED.txt': 0,\n",
       " '2FD88DEAB0211BC7EFE5A28870BF5A7FB84E527893A93689F6ECBCE45D290176.txt': 0,\n",
       " '66C30B075B965E12C3BB2FD66F9A18C99A7626811B6D8482ABB04CDF39F01AFB.txt': 0,\n",
       " '0FFDED4ECD8CD2C8C9C8D16428D56B2F5BA0BBB1A424621CE4D4853E2661A2B0.txt': 0,\n",
       " '0C763C6289B0D51F49BE9FCADA44B1BEA6B697E301CB7CE4B071F1D9A6456A6E.txt': 0,\n",
       " 'ABBE538A077E920089BBD5B5BDD7741C430D3B5B0A70C84D71D5E0376B0D0B2D.txt': 0,\n",
       " '2C5FBBD6B80A76C50A36DA128F980EEAB9B5E47DFF870CDD74DC022C0BFBA96C.txt': 0,\n",
       " 'E80F63CF57985F7B59EA11C1FB6B1D4A4F7AA1310563E695FD1B918BAC4330EA.txt': 0,\n",
       " '2CB1F63B22719B7FA6F4F8D619DD9D60F715E5D884EED0BF2871BAA43C5F16DF.txt': 0,\n",
       " '1A4BEF4CD77E34DEEA88630D3D60B9200B39A9B90A891F195F60F856EA09E456.txt': 0,\n",
       " 'AEE43A18C891F8E9128B2804BA7AF65351E443414831FC91F93AC3D6D95068F6.txt': 0,\n",
       " 'E86869A0546F1C47BA6656787388AD04CC4F808679C8F97EB59FBC25D8AF0A79.txt': 0,\n",
       " '150FC16F52646D847788D969CBD0B10783B6383AADEFA7210701F250605C89F7.txt': 0,\n",
       " '2A59B37AA4EFCF8E66919F97E13ED54C37F0ABBAEF76F1D098184069FA3D1DE4.txt': 0,\n",
       " '0D99C200559418E00125FA4149170E095D8A7C1A6A6D06ABEA099A272B6A759E.txt': 0,\n",
       " '052F153DEED3B8C72E93548AA8C10A83AEA71902B22485DB2956301DCF216BAA.txt': 0,\n",
       " '49E32B138BC35F4AD69B09D1249ABE7E0290C8A71F6D5EF873BC094304A89228.txt': 0,\n",
       " 'E6CD2960D25909CDB4AEE868B3F5FEF66200AC27564E0059E3200A0203B9EC6B.txt': 0,\n",
       " 'ABE43C55293D661832FFD4DD1F9EB6E523618580FBAD7FCBB52BF140A252F1CA.txt': 0,\n",
       " '23E9E94E0B9D502469CECC263BB2459E324F67B3078B929BCB8EADA1C98E3270.txt': 0,\n",
       " '0990A2ECE02ED248CB30F41FDB0E1A4B8D40202F1B3ADB31168CF27A15E05BF8.txt': 0,\n",
       " '020DF6A616DE2C92C8D85F59394A98BFBEAE3FED38DE7D2B59FE661EF8F48612.txt': 0,\n",
       " '1139F4197E2B72FD661F66DA5E3F2947AE37287CB4E456693F0DE1B0B68578A9.txt': 0,\n",
       " '5513E457561D83646B37042248D3246F294A4494757DDD702EE381B6A7473AB3.txt': 0,\n",
       " '508DED902957D462A050212F565951F05B501F3D7A72FEA5DC1FE904DE2986DC.txt': 0,\n",
       " '015E6336052000B572D23EF750A664004C3F59C2F11B7FA6E7A6BDD70B745F32.txt': 0,\n",
       " '239491B0DF0DF91E00BB0FE2628CF112336C7BCCAFC7FB013C3ED254EE9514EA.txt': 0,\n",
       " 'EE2D80045D74D0EF4D80C69F1D809BABBEBAA3F71192AE025EFCF63DB60D39CC.txt': 0,\n",
       " '16BE53F5663A740C5611E8E7D50FEB1A78C622E2A2C874D6EF4D22AA1F1D6252.txt': 0,\n",
       " '98F8780D6B2945C1F5A78104C4AC0D1A3C96617C097D4F5EAE07723BE7104F0A.txt': 0,\n",
       " '0124CB46BF3C1B4B3DD905CF426E5E9BCFCB9141766DBF4D14B2322B34BF2B06.txt': 0,\n",
       " 'AF3E9F0945BE8C8C4F6E7F8C53077A7E47941ECCB77463FCAA284617F14D963D.txt': 0,\n",
       " '63A89717E45E12B0DB62DE81B740B5879904967731C49103471108AB2F875A1E.txt': 0,\n",
       " '44742790F4E82B7F009EB41FB8A35F57C7779C7E3FA2C2DE69A4FCC601035009.txt': 0,\n",
       " '1A579FD952C2E97EBB8262C85B47247EE83934B4BEBD65BB71C9C48B78DAA9D5.txt': 0,\n",
       " '08A99584AD23C62B9746255A3627B0A2C4A897D88EA1C6349B313A1772E8BACD.txt': 0,\n",
       " '139181E2AD61D315FA222CFC62C97E5468447676460B268D6BAA529A808F60C8.txt': 0,\n",
       " '240BD81B2163F90BBFDEA7A1EC0F19556AD6DD7D835D0E6CF8C74A47DCE001B4.txt': 0,\n",
       " '247D09FB67E5652E6AECBDFBB6A778DB04137D02E700DF9EB3FA01AB34F0889A.txt': 0,\n",
       " '52A1E588A7B1D373E05C67FF6496A835ED5206C1AEA0039C5CABF0176DB19B5D.txt': 0,\n",
       " '13BD1DECA45D96BE94D1ADFE0628DCA90CD605E10264E787F9D989DA937DADDF.txt': 0,\n",
       " '12E5CD1BCB526249DBECEE5E7E1D67AEB115C13E71A929CD4396227F097D2A26.txt': 0,\n",
       " '25A2A07FF868BC7D32B8FCE3AF76DB0C1AB8E422E676A1D345DEA5EFF608407E.txt': 0,\n",
       " '0844134FD2680C48CF20949971B4F5B9E6EF6EDF79A5AD65BD7EA61E2DEF44EA.txt': 0,\n",
       " '00605F5864AD62A82A9BCDF80CEFE9B8721B1499E0447BBADE317EBC3B2B332B.txt': 0,\n",
       " '20046DDE17DAAAA628EE136CC1890568F4FEBE0B6FB1E13A8D7647D9F9751DFD.txt': 0,\n",
       " '57F99E407DE5F952CA97F10205621989CB1CF6FC4551C9FE0FCFA536CBA06A8A.txt': 0,\n",
       " '24C5CFA2074C1DEBC65FF3117FBABE634F1A332C411D4C5BA4CCE2B3C9A80D3E.txt': 0,\n",
       " '11885FC674894A9614F29978B550EB44124EB6CE9988FA1568D7ED244783BCD7.txt': 0,\n",
       " '2E3B02813E588A41C38EB277A4675602374505460E83CFA3F1E41F65C1728EA4.txt': 0,\n",
       " 'E77015D6206412437599E669DCCDBECCDAD68A2BDA9002B4E195C750CD24DC0F.txt': 0,\n",
       " '440B61BF29AAF7680E1AB85421720A25A764B95C89F2C26B4B449A4182870FA2.txt': 0,\n",
       " '5A7A3C89478C1674B73BA2FB952E4FCDDE246A17981548AC6A79FC58B02EBC71.txt': 0,\n",
       " '2B402F345D61A6BA673A8CEB47085D55A69A3C4AED9731664ABF2CEB0C266D5E.txt': 0,\n",
       " 'B156E81FEF618236585F6DB5EE71A1C24E14E70EDBF3D33EF85B250D5D21409C.txt': 0,\n",
       " '064E9111F72BC08F07A7982D1F11E500A85B67771C01185E1237222E784814D3.txt': 0,\n",
       " 'E9F6598EAB63351E3ADFCE9499C97B9593F6E57219804EAA72A1BC2059E918D4.txt': 0,\n",
       " '041524211D6AE81AEDEFD4C1B7FA4EFA0F3CE16687E9609F880A29F246777547.txt': 0,\n",
       " '02DE919CDEA5B93CF405D8B57A6FECCE9797296F4EC9AEC28F581E360489EAF2.txt': 0,\n",
       " '2E2DBC4D22FC8198546A0DC6C54BF3FA047A2FD77A38317BFAFCEDBE199DDED3.txt': 0,\n",
       " '2D00A6E0674D3AA56522701C265D28475D361AB2D710DD1FD00D19FC262CD163.txt': 0,\n",
       " '24FC6B05C13FDA17E3F052D576D37B18AA7716F5B7488D1BE365CDF8991EF454.txt': 0,\n",
       " 'CE031000181F26ABD9B011EF7E2102EDE71854093A57D92A3824E7D53AFD6219.txt': 0,\n",
       " '955348D47FE433B30FFA207F4673A51FEB5D7F5FB0020E0BB0B8253A7BD419F7.txt': 0,\n",
       " '100AC2C36760124722B8E250D63669BD088F6DC3B03DEB838F159B822F1531E5.txt': 0,\n",
       " '45619618B3B0701182C87ABA16D689B6E9497419862CE757C3EC6CC379B06E29.txt': 0,\n",
       " '06DBB094CB49C9F52BD21348E2664DF592EBF79110E0FC3889DF855B1D94EF74.txt': 0,\n",
       " '3171E5CFF95C2418006C6E783178B5FC23069A7A3E38E050F962D5D681787E4B.txt': 0,\n",
       " '4045B24F1BBF4E88DA06695FE45F564FADC14E5F00F918A2E1639D75C618FFD9.txt': 0,\n",
       " '09C50E75A2D9115104E29F769E1AB151EFB2DBCFC08AAD1733255026840579AE.txt': 0,\n",
       " '1CC16FD9AC4EC1C9935F9E988D7697E47937125D8F5E7E60F3B0C829ECD2E333.txt': 0,\n",
       " '643635D3CC0998B9E7631B23FEE30B605C1CA9AF11D285F86272D8CD12FA39A8.txt': 0,\n",
       " '25FEA0E505C15BFC0BBE8A1DFB89D3C79870F0E1B66465B9B2BC63A15CF085D0.txt': 0,\n",
       " '135ACB095CD6887EA20929FC20AE9CC9B9361713E110926D47E44B6FC3DA7E53.txt': 0,\n",
       " '639C68845DA9068421996D58470DC79CF76BCE1138C824CA21642A2E3A196379.txt': 0,\n",
       " '538FE26E4BE4B7DAE4567838292A590D1935654F580E399637FB560E78E8A489.txt': 0,\n",
       " '21219B6C4D9C20ADD838AC8AF9FC30832E257D6653CC6802BAB956BCDC07094A.txt': 0,\n",
       " '015A166342A2574BD0698E32BA46C2FDF12250F7042D5B28A302613B4D210491.txt': 0,\n",
       " '8AF54FF1A65A906A1BC18C7951C6AE4E402C46B5D0388665F6D63EC46AEFB777.txt': 0,\n",
       " 'ABAB929A7F2DCA65BBABA24962F97366366A21DC4043F17C6F63465FFE534001.txt': 0,\n",
       " '212CE96A66BD911A6747801E9EEA385E212B49B1C5E13D23B33F820524BBDEF8.txt': 0,\n",
       " '3C1497CCF89F8BD6D80D363DA8AEB8C5729CB36775797E5A6CF4386391A9DDAE.txt': 0,\n",
       " 'BE8213207CD7841F71FFD1F055F695A66A2B0ED228F57E105505502F669B4900.txt': 0,\n",
       " 'CDCABC41E94557D5508F5BFB4480EF7AFC0D0DEB10CEE7C1C00CFADFA6FDF51B.txt': 0,\n",
       " 'E85764DA9ABD5A8C6D091CD05C3F983BEAEA52E22D9F66B5B4CEA17AA4E883FB.txt': 0,\n",
       " '10A168EF76D25A16852C1B079CFC4FC342B9C0459BB5971D5887E3C70B689376.txt': 0,\n",
       " '0B91852D2A43ADA3B274D4C7C37D5F5F5941E8999749BDB7BDEADC0102B261D5.txt': 0,\n",
       " 'D399715713DEA14264288AA8E8B3EADBFF946FAE10672F6866A9AAEFB002846B.txt': 0,\n",
       " 'D4959637BAE6AF3251B83476C941D4E9E638B0356D93423AE0AA0969714A1DA3.txt': 0,\n",
       " 'B5D70C2BEDCF1F3CB51D1236A9E15626B098011610430106360C15EF7EF8AAE2.txt': 0,\n",
       " '1989693922B8DB9AA7A5305C2C8074076740BD52074DDFF56B3FEF6E93AA204C.txt': 0,\n",
       " '1827D494E283EC4499DFC14E84BBF73C703EBC49523A356C2EB318363F70395F.txt': 0,\n",
       " '9199BA9C498EF358427D40CC91435E84F75B337EDB56FB6D25C658787D11D62E.txt': 0,\n",
       " '0EB5D276295C832A041B217DFD742AD4F079122E3614769EFF5D24F2712873D5.txt': 0,\n",
       " '9549772868FDBF641039A714BCD1EB30693997C168E171362C717F47ADF76FF8.txt': 0,\n",
       " '2721146A7CC7F31A8B3AEBCCB35AF76A3E7368DC2BDC7F579AED2B2F184826BE.txt': 0,\n",
       " '1A0A8997DE8079C7EE62D02064023BC9409A08D1C93708603A264842889D0B07.txt': 0,\n",
       " 'B1047199192573E6D90F7D0E710707D4D5F8F6ACBEB1F6C0A18E3666EBA963DC.txt': 0,\n",
       " 'AB2EB37949774B472A7E6FB065EE66343BE07A5BC467CFD9A3071F8920940FC7.txt': 0,\n",
       " '11398CCA7ADB330178A59EB0952682DE79CE739504867861BA3F1B973A139022.txt': 0,\n",
       " 'AEF577CF0BD762734276B23659B041F92D16A1524304CEAE59DA7CBA4FA474B4.txt': 0,\n",
       " 'CC4DF8C04CC5F9D17C26AE6FBE846CDC988AA76D149412F720DBEF17E15536B4.txt': 0,\n",
       " '19FD4CD63F2C9767D0D8D1D22E1EF855EACA51593016A158C868AC2368D02734.txt': 0,\n",
       " '1E9AF9B464D2B18AD85BBE206DBE253C174C6D017285075E477135BCD363447C.txt': 0,\n",
       " '2B1C62AE2CBE08A146F76D5FCE0F82DE3248DDC23A9BD113A828F1427E74F967.txt': 0,\n",
       " '05F50AC9CBF623E45B8117CE867E9AD27F041375730207F7C689BC43D97BADE3.txt': 0,\n",
       " '1C383AA39F1C57AEEBD5666235A928D3DA36D985578D08764F940075161BE97D.txt': 0,\n",
       " 'AD51E82751A2FA655586E73D0975377E22C17C8C6529678EEF849B4EE5E9E82E.txt': 0,\n",
       " '315FF99DFE67E7C22F01B85458B1AAD1A906B92FADB1FAB8CFB08B38BCA8CED6.txt': 0,\n",
       " 'AE5B67D868B566C45A2463D6A2C0FB8D09D16953710AA3E7520FEFC73ED90010.txt': 0,\n",
       " '0CD3BBF005DC17E398049D17DCA5CCDACEBB005BF31B23EC0E9C11A7D2CADA09.txt': 0,\n",
       " '133DD828B291682274B9CD3ACA78F048C98BFB361C4E28C770AA2D884670E998.txt': 0,\n",
       " '0ACDF7F025012F8348E7BC0C522FA64E6A822315DFB83BD0D090D924A6362880.txt': 0,\n",
       " '054818C232334A58D7C0A08B6846AC98212200B5E174C7ACF4693AE21AF364CD.txt': 0,\n",
       " '63B0DD60CA92C99DCB362A342DB0C3258FFEADA82CF33CC5C8ADFB02B28A8F27.txt': 0,\n",
       " 'ADFEFB90ED90ECE2264868859446AB1FE7AD4AD4E83109D3448975A39C377C6A.txt': 0,\n",
       " '98E5DAADE56C4C32ABD5DEF92B938F62683B7ADC3EC9DBE1D0B19EB0EE55B928.txt': 0,\n",
       " '280AB970F6B7B7A08CFE04918EA0D8FA7C63F4C8FB212B80D1761A57524F574F.txt': 0,\n",
       " '0D688C2DD6B2C5BB75ACC3D94827C5811CB5F2A8123AC6E09966F90E05EBCA7D.txt': 0,\n",
       " 'B27DA48DB7C7865F21243965D39E9B0353757B74641616984B6D834D5671C4FE.txt': 0,\n",
       " '1E79F22F49C4E1CD8317E39A90BAEB3F4E5ADA718E731595CB9BF6713F3DB0CB.txt': 0,\n",
       " '5C422B300ECD7065641E00523B4F0A9BD565E27C0CC6474EA9CDAFB13096A023.txt': 0,\n",
       " '66A51F9D5F0AAD4496064584A294EBC8E448430D963DDD0A782A92E279B89FB5.txt': 0,\n",
       " '1B53F4013EE05991A973D3DC742D3786BC5B7C5C02511E3B52DF7FC8DEAD4833.txt': 0,\n",
       " 'B352FC8E3C72CE251B7A017E4344F690D1799A1C964A75E7C133A5031CC6E524.txt': 0,\n",
       " 'E88D60125AA06B1AEC378BC447E0B0F48ADA1CE1494009E7FA103FF4B95754FA.txt': 0,\n",
       " '195C4A62828D5C5F98BCE1F0FEE091A5C9E750FBF96A33809546BAB80CC3FCEE.txt': 0,\n",
       " '1DE4F8DD145A53997C1867541460A9502C69B10D0AAD08CDEBEDF881FDE85E27.txt': 0,\n",
       " '32F4FD20DC43C572C63245E7C13E3D738B8A79E18BE5919DA0C9B24C6AB02F25.txt': 0,\n",
       " '22FB45C6D5D72AD8C39D5820F90A5B74C216F9A287C4C272F3EE410B21DFABA1.txt': 0,\n",
       " '22EC3CDF11A3E29FB8347613325764151AF5B5502975834A579C867A59471AE4.txt': 0,\n",
       " '448660831E773426B038A56667EF786A77EF57BC783EAE14615182AE20636F86.txt': 0,\n",
       " 'CD588B351341C3A9F4B75D98CA85EE78422BD0E9F59CAAB68595679ED829DEF4.txt': 0,\n",
       " '0D534B8F7AF19C1D5B2E37A97D15F88DE93B65B7A517C8D824E3F70E6936ED07.txt': 0,\n",
       " '00CF5A6060FFBF9E826FA93BE78D810FA15E05E13AFAFA7DDF2A88D61C83AB54.txt': 0,\n",
       " '24B7EFB19604B7024CCF58B24BF9A6A1F12E069EDD5BFF3B0D18CC791E1905B3.txt': 0,\n",
       " 'AD58F6D40877B428334976DA704023934507BBC423EA5BDB5520B4E6E3CF24A9.txt': 0,\n",
       " '5B10D525B552262BBBB17C5AF79F6084FC22E51859BA0201D9BC063A2DA0F9A3.txt': 0,\n",
       " '1E5E31CD6B1E4292DCB59E04B86465C18A037A7759E544B9C3576AA7E9761410.txt': 0,\n",
       " '02EF7CF04EE76D1DFE968E71BD49CAFD2A5F956150497C4E08CBFE698A71139F.txt': 0,\n",
       " 'D16F55A6C20463F00088DAB47734CACF998905B7E2C98D7CA615F32DC5B7826C.txt': 0,\n",
       " '1ECB764ABBD98EDC52FC9F0BABE2BFDE85DA5C91495C10B7A65316789B29B17B.txt': 0,\n",
       " 'E97E7086FFD3EC0A212D9FE9391B2A35F87E441226089B316A4E7A698753E180.txt': 0,\n",
       " '1B3B4F61A8F5C3AA510897B8C08304F0B058283347ED4641D171F785F0385094.txt': 0,\n",
       " 'B0BDE3A139A3097707B9915FF54B04AC3C1F1A412E7090E28F24AFDEBCB2AB1F.txt': 0,\n",
       " '10EF8E57B516AFFAC98540395E3BDF27E22805E81E7CC7717D314C7F97118247.txt': 0,\n",
       " '3176C2D03F828E743707009A872E5318613CCCDBDA70B168BF8E1A5C95E2792D.txt': 0,\n",
       " '536A2D80299D0DD11A9E970295ED066C735F59BF440455D72FD2BD8F55AACD60.txt': 0,\n",
       " '2984DDF1EAB9743E1102373B4A280F672BB8C22DC5687B2BB50E3CC66663743C.txt': 0,\n",
       " '1580472D32708B7CE8520E57A9DD94DB9BF6482BA604105DCF7466B1D0A8F6F7.txt': 0,\n",
       " 'CE0B3E13E9E07373C17DBCAC870E4DD5DDB252D1029A1E904D4E9A6EE6A973CB.txt': 0,\n",
       " '6AC48D471075684EF34C634240F1E77E89CF95F56D499D7576FA41CC247AB169.txt': 0,\n",
       " '073FB962ACB0E6480609E935BA208DFDBE45EC751C0C9BE892A39B32BA5846CB.txt': 0,\n",
       " '189254FAE667C587A560948FB1B6E5C74D1C7D4AE8AC7BA49294F208E68B70C7.txt': 0,\n",
       " 'CBD2FA37A5C1085BDE50CA3E37ED7DE28D0980CEED6C278EF3C7366EB8C2BB4F.txt': 0,\n",
       " 'CE484924FAA054EB86B1B84E0242235650E14EEEDF5A1AED78A5947B0AC9E3F7.txt': 0,\n",
       " '2016824458A92EED4C1A5BBCBC0863C8F269A8ACF41F71DCA98F11D38551F564.txt': 0,\n",
       " '1BC0E162768B28EE8933510C10A2F582ACD462927996996B6586BF7E755F48CD.txt': 0,\n",
       " '0C699D05F32401EFB8BE5BB7D6CA1CED2A25299F456BBD7D4C4269CFDB081119.txt': 0,\n",
       " '13592EA93E3ECF0D3A23B626B727F21A67D5B5700A7C1ECA9550CA83AFD5F8C3.txt': 0,\n",
       " '4A031207B9F0BAA9C626CE38EB39DAFD95E73D17B3D01291211CE005C456334C.txt': 0,\n",
       " 'E972E9B026C396CE676524F6A26CE774784E6DB0D9609ACDA1C83A9BE9C181A6.txt': 0,\n",
       " '59DCE6B2F08D06645476C7C747776AD6785E6CE0EE9ED6E95869C6B064546CC1.txt': 0,\n",
       " '0373BFF975DEFA33C3362CA07F1DAD8C0432DEC8096971CF854DF3E5601FFE56.txt': 0,\n",
       " 'CB6C819354E91D75A708F59C821A1C41F0DAD98F42315F7EC21A39A8615D20ED.txt': 0,\n",
       " '146BCB52FD3398A0D4929C75803D70A92DCA1253BC3E5368C711392B01E5B880.txt': 0,\n",
       " '05DB0F22CBED5CA9BFCCA02AAF9A1F4875B2C09AD1462CCDC5BDF193A4919AEC.txt': 0,\n",
       " '1925CBCF840D68D1FA2ED39BD901688D4E4BDF8326B6FA4AF4C5E726CD42B4F2.txt': 0,\n",
       " '0E568B861D4783531512DED6C896586C59CD4378C023012B5D96261CCAC51D5C.txt': 0,\n",
       " '0757813F1834395F1250E559B3D7E4ABEA70A4FAA00F3D232289504BBCB085E2.txt': 0,\n",
       " '65DDBD08DF592593F5E79C116B19856707F314F2149441727A36D900BAE2F3ED.txt': 0,\n",
       " 'B2B901E5A4B35586CD090673E80042E221F5E5AC09E6E4E95FF441C421BC037F.txt': 0,\n",
       " '314032673C2669B1255650E61D09455B8C2791236E6173BF52F884B99084C840.txt': 0,\n",
       " 'E834D2715B0BB918364174B2D879A5A46B08772E93732EB7D325AA2DE9D8FC48.txt': 0,\n",
       " 'D2CA41D9C827C01137A382BFBD92797A2C1DD45A92AC0FAD8C191C12A4841A67.txt': 0,\n",
       " 'CC6EE9ED4BA916A0403006439133D070C95D2959E0A162CE469C3309652C9871.txt': 0,\n",
       " '07568DCED3AB7328D8F94C20AA8E40FEF3149A418A0BAF51E00402FF0AE405CE.txt': 0,\n",
       " '0702667D7722467B9DA4BF4697E9E141578AC25CCAFC68BEEE3653D1ACC4D283.txt': 0,\n",
       " 'D091FAB3A07F28D8F0AD02949CCCF97874D53A2D6BA14E9359C1F602A0BEC54F.txt': 0,\n",
       " 'E94C3959E00C535049955AA4181816CE819CAE0EFAD2C79169F04EE24B4CA72F.txt': 0,\n",
       " '0C9A83C87B284445293DEABBEFD2B84F08035511D080D49786AD7BA15D24FB1C.txt': 0,\n",
       " '24E6CE513FA1597477776BA9B732774077DDDE6AE95264447AC762C60F67CE7E.txt': 0,\n",
       " '2BAC4BE016781689A49D1F1A649F8E0251C1B3288E71B96B82F54A366D5BB053.txt': 0,\n",
       " '07B3C0E2441E058167190EC7191CF711A7B6DC4648B27B83C760100DA816D412.txt': 0,\n",
       " '443CCA92CCF7B37FDDB207718B7AFFF432EA35766049D3EA4A3DDED724F03BEF.txt': 0,\n",
       " '2902A9C7C2099BF95DF85E26417178FC9BBD01333583931462B7627918881A5D.txt': 0,\n",
       " '1159342FEE2EBFCFEF584F58E6FD947853D48F6C3571A88DD6115AAC1CFBFDC0.txt': 0,\n",
       " '013E408AEA985EFD61F2F36A1CDFACBC5F6CB01CC47304922B11D6D805A7B437.txt': 0,\n",
       " '2CE39A4B014B072C8525EF320AFAE1353C1B2DC7D36C57696BC98CF055AB4E56.txt': 0,\n",
       " 'D4A0D545CAB6C7A3B2B8BFDE40674EDAC9E691283834F9D3C65CAFE37D4C274E.txt': 0,\n",
       " '266DAF71D0AD9EACCA66B59DE1219D74D3FA0ABD2241F35893CA2658830CA899.txt': 0,\n",
       " '03208AEE6427106CAE7DF1640BAF05162B9A1A737FD1F158AC76666C325FB986.txt': 0,\n",
       " '05E09686D1A7F5297E26D643FF9EDA1F00A7BD80E0ED11084C73B47FA93D6906.txt': 0,\n",
       " '2A713004A836786939C451AB803E4C5C4D86FBEE285BC14619B65ECDDC793F02.txt': 0,\n",
       " '1AAA336CAFB742AF357E811252789E90C3075A8A0E8A9A7F58D060578B4250A5.txt': 0,\n",
       " 'E9EB14952554A96D165D218DA83C193C460BC6FEDEE80618CD3513A774635A58.txt': 0,\n",
       " 'CC459D25508E23EC1D26B3E532E8A0DC75C759B4CF26F7DC2DC14FA6138CEBE6.txt': 0,\n",
       " '21EA5F8A849B835D93EF17B4CEC0901104994AE3CE8556161D0F06D17683085C.txt': 0,\n",
       " '2C95B916FB8B89D1C7FEB660B5A06E5534AD8807350171964219C8357C117691.txt': 0,\n",
       " 'AC13F4B8D643E225E87E2039A056BCCFB995AC14A9C887E946483D3F3481002F.txt': 0,\n",
       " 'CB81217D5CCF8D2A520EFDE02851E3463B3B5E76C5F6908F11F7764FF8C975D6.txt': 0,\n",
       " '9887B27DB66D3DE805631BDBA8CEEBDA4DFFC66DB86F72E2AFD27D9F927D159D.txt': 0,\n",
       " 'B34FFE9185D97F7D9C53AD57646A60DE8DEA13B025EB46261F5ABCD9D4B47673.txt': 0,\n",
       " '595BC1738FA312D6A731C63BE151B9043D72A1C4220C1B62D85AFAA3392E2CEF.txt': 0,\n",
       " 'B39D1E0824475DB22460EEA038DBA836C4755B865DFD854B43F1B8E91D2A066E.txt': 0,\n",
       " '030DB9E1AFC96EC97223C6BC126F70D54D479B519787B79B8913AEEA8DA6B1E7.txt': 0,\n",
       " '103F9D7C7AD6ADF97C319099F90E6E45BE78EFE581493BD348DC763632616DB7.txt': 0,\n",
       " '13C206284F6809EEDBBFA7520D4676683B6B7BAEAB8E286FA5F86C76AF542A18.txt': 0,\n",
       " '6B95A288CA1F28B84367EF5BDF171414833DCF16C8F7181B5E853A576AA52631.txt': 0,\n",
       " '693A36907D9ED0B370C807C4D706A56237BDB11D3D9997C0D59D043BF12CC268.txt': 0,\n",
       " '11E5AD684C905C3ECDF053E2EEF0965BB3A12CE62279B439E3C42385E8E29DEA.txt': 0,\n",
       " 'AFB0FF00BBC05569E425D37F7B301F42524D9325CB48B9096AB49BB43E64CBFE.txt': 0,\n",
       " '1B0F764A121A69050BB7B6EF27681DA71687336E9FFDBE05F9A5A2CD29B3C089.txt': 0,\n",
       " '0B768130DC6B366CEE50EAA50E55AC3B5F087A419520557F1A91E4821639AD4B.txt': 0,\n",
       " '2163C83626C09D66FFAC5A2F5257B7B31CE362AF996579C07EDFFAE946B8CB79.txt': 0,\n",
       " 'CC1133A581180B0B5C9B296BDD5615183219AD0310B60090087FF0F32A645C6B.txt': 0,\n",
       " '28CC77E24AC6BD0F6C93E4EF201C711891B0EB1403E33628EC7E60CFDFE89647.txt': 0,\n",
       " '0163FBA3A8E9051DF6838415A47C57E1E3C337707D415115AEF4A94DA9C838FB.txt': 0,\n",
       " '028478C914E30FDBA03A89B288752DD03BB58546987027DEBC18CF357463D908.txt': 0,\n",
       " '09F018B5F897636DBA15D943A8C52EBCEAAB387740028086D9ED0A0D41D4BFC4.txt': 0,\n",
       " '126C1BEB34DACAB8BE930E9689ED273DB787967ADAC1BA526026B7EC7AE2BAB2.txt': 0,\n",
       " '305EF72AC9E4E630E00DD65815DE4870E3E7DFD62B521B9A70FB85A3DB93A4DE.txt': 0,\n",
       " '55053BD73E9E6AD67D8ADD66FB6BB67B1465D33AA1809219D2A671204BEBF235.txt': 0,\n",
       " 'D3C02318DC3106E95E9D6E926193105398B8EFE41487B6AB0A80F11DD8DDE1D9.txt': 0,\n",
       " '02196CF2F3F13979BB4649521E47293E3FD0A633DED9A095FD32771938FB0334.txt': 0,\n",
       " 'E71E16F9B90C6971E4F11D09413589513E3B96945FE50FDA0FFCD68E8E3307FB.txt': 0,\n",
       " '2E4102457EB739CB61B63E98EC3F6888BA8803BA8240BD152016598246042748.txt': 0,\n",
       " '0E75E9F2D4C0177838A7ACAFC49417C02A0F944F0DA8509A43B36B643D5A4D7F.txt': 0,\n",
       " '5F5D998CD907DE86CA296AD4555A12C638B0E3E35082E0FDC22A6EEACCC79473.txt': 0,\n",
       " '61DCA14D23C9D8802E1750A37D413FB3CEE9743815588E1573C8E959A0F68D5B.txt': 0,\n",
       " '1077B67ED604B64434E9119C955284C0B3896DD747C672806BFE2504808DA483.txt': 0,\n",
       " '07CE12034909AAE9A6B86C3587B2B29047A1E2760BDFCE4CEB2979C8453F8DAE.txt': 0,\n",
       " '02BEC8C15EC58E5AC216B2AB9BA19FB0163EA70E2380B9F78DAEAFCA85E2174D.txt': 0,\n",
       " '10A8125B953085D513EF6E95D0DEC4F8D6466E24E6127F609EBADC95D076552E.txt': 0,\n",
       " '101827EDB76F6DDD536912EE5A8C14F1EAE10277128DBB82F8A7E37B30E528EE.txt': 0,\n",
       " '31B253346C3DE508E18BBE910C1FCE043FBBADBBE8B5B94B666A2958A7CE8A8F.txt': 0,\n",
       " '1C4B1DD210D7DE684B7811F26A560A8DF4385B2CA5D990E2221E9226F7703109.txt': 0,\n",
       " '0CFB2FC29BCD52C1773A390383222E4429D3F96D5DC46F2DF6D2ACB161D59C78.txt': 0,\n",
       " 'B499132A7B61C512252D95F9701B3EC9541F5FE06496E5526ED10F4D669C3E28.txt': 0,\n",
       " '5F670B0FCF931E0263C4D05B7898439D89C385AF3E677808E1740771B18AC60E.txt': 0,\n",
       " '102FE856A40442B2D1794B3CE1623B36E847ACE1D668D794B816C74666A2A4F8.txt': 0,\n",
       " '0D7BA76F551A0DA9C346F04CEE625B78D44CE9EF29E727D451C903995869CCB9.txt': 0,\n",
       " '3029E3A9E4E1BF56CCC41806C0B66CC44AD701C376E89EC01AE64DF96EDDFF23.txt': 0,\n",
       " '054FB80D5CF3AFAEA31FF0FF4B9426AAE7CFE71A27572CFE5D4ACB36A7D8AA56.txt': 0,\n",
       " 'E9F90A79C1378BDA59C414EE454103E94874A425C3969F6CD49EAB103C261930.txt': 0,\n",
       " '2CBF4D6F0B856120BB466F707FD09356EC343581D3C388A6F939CFF8BD91091D.txt': 0,\n",
       " '138DF199A1FE85EFAC6D9999ADB08EB4F30C2D876B35738F4549F41D7B96F8F6.txt': 0,\n",
       " '1FCAADE80405F523CC310513469134377494A947F3AF053C12A69AC73E817A54.txt': 0,\n",
       " '0AC1941A3E04A5449F64C13AC8CA260438FD864BBA3FEF4D11618ECE7C6913D3.txt': 0,\n",
       " 'CBF2C60A02BC8703075502F4730DD9CE554EF9661CDD5E80FBC8C181FB22CBC9.txt': 0,\n",
       " '0339B3B1252A27D1B62F61C02484D86445AF72275170E7CD36B317D02E1C655F.txt': 0,\n",
       " 'E9323C17EBB1C0A51A65624AF6606C13FDB97513C9E9172D95F84780F4308126.txt': 0,\n",
       " 'D56E327E35029192F90EA3A177F87B652CB9430E627378A72184DBC14D009DDF.txt': 0,\n",
       " '0C437838F33AD431EF78DEB35D64D0B06B937557CCE302FFD08984BA38987EBD.txt': 0,\n",
       " '3ED153A8AC901A5CB451FFB06185E0C456C8B56C0BDBA639BFD359381DAFF90B.txt': 0,\n",
       " 'E6FFBFC0E6AFFCF9D01A68AB5ED21AB6383533C733160936E3E236817AAF5BC1.txt': 0,\n",
       " '27F768357A177DB468F720B116144142812568995AC5FFAAFA4F5D01E78339B1.txt': 0,\n",
       " 'B55F689A824286A24DBF618F9BFE8A9D563BB4CD5E3B6BEFE104E33620C5FD40.txt': 0,\n",
       " '20D9CCD575EFAFECDAA6CC20F88B27392883B062B42F739AA22FEEB70CB7AB0B.txt': 0,\n",
       " '1561363743C0B4197BC0188AA849F70534AC7B05FA161519C2EBFC519B2B6C98.txt': 0,\n",
       " 'AB95ADE0169DCA89181589AF6621E71F3C33380A3A86704E6AE824ACF371A565.txt': 0,\n",
       " 'CFB01DFA005FA247A50CB2693F5E55D1083CFE29631BC87C9EC5FD21C9BDCB07.txt': 0,\n",
       " '30C9DAE8C793B3143956A458BCCC85CB08A6137CC1E3A981DD5AFF807A356302.txt': 0,\n",
       " '16118A64D6F4F532F185135B455E3A57B2A8B849A2AF8DB5CE09FBD17A142760.txt': 0,\n",
       " 'EA1C18277046A1646339A950D436B2A4628FB814B57331759E9F2151AFBB9C6F.txt': 0,\n",
       " '050BEDF1C51998D7E4F3112F6FD105F5C07D97DD78239F769C4E3047D1E51D9D.txt': 0,\n",
       " '1929B9E3F74D32E693AC8D79BC463469A60F00D494F0FE5441D47BBB3BE0922E.txt': 0,\n",
       " 'D2B97830D53950829496EA09E5A1734FA9CE2BAE3A34142E6E6B51639E6BD583.txt': 0,\n",
       " '115C3C32429EFB7CE30A6F9AF047EA0115209C27A38DE3ACDF0C7CE953060990.txt': 0,\n",
       " '0517650B9E42E552EDBAF4BBCDE9B40A74C7175F37B0DCD41B9C9132F6CBBAF8.txt': 0,\n",
       " '1BB602EF15E8635477CF9EA7F65606A2CCFC8402D629E30D7D5ED2B6FF6B15D4.txt': 0,\n",
       " '21BBD9FCFDB278442033C5BDA9C91EEC6296152D0F72D79049AFF33CD3CC717D.txt': 0,\n",
       " '2A432EF65CDF356F44E6C6E04231112C91886156ED59307791361E9412F78C95.txt': 0,\n",
       " '09C3757090DBC357C7C790D60C5BCA7DCA7B886CBEC064904DA228B0B1D5C3B1.txt': 0,\n",
       " '07D817EE209FAB18BBCB68EB27237FAE326427CEA0E95E86F72F56E5EAAC1DA0.txt': 0,\n",
       " '1CD823EB8580535729C03349EBFC2F1691DFE9CC93E7225F9DB77494B5DFAF21.txt': 0,\n",
       " '3223BFC197CC96D0CA4BD7F160E1C10F758823CF08F29DEFB42A52A833BF7746.txt': 0,\n",
       " '1A46CCBE66901B10713556C1DA2C2BFD23250FB8792B3F2AEE4E32121D9B170D.txt': 0,\n",
       " 'E6EF8996736048E417C08872C33534C53FFC3AF1899BCEE2F97BAD038631AF37.txt': 0,\n",
       " 'D06A5CC35BBE3817365BB12E1AD029678CFD67E251A9CBEFFBF36D0272083841.txt': 0,\n",
       " 'D0EEF6AB8695A391BCF70DB6F25290AB036BEC35FD49F1A39D35B1114F94D031.txt': 0,\n",
       " '07270BD87C07F1AE95DBD02BCBAACB90276AEE78C0BB6C3166B9B26AD9632230.txt': 0,\n",
       " '5C29E019B8F6B9C67D660F5C820898D5CA989CC8A5C97F2F8C8FAD673141911B.txt': 0,\n",
       " 'B437177598F6AEC7EB5741DCB0CD004C3D5F29611665ED19E4E1D9DEA8B96CFB.txt': 0,\n",
       " '639FBCFF2E2A89F28C52F3ED162914FFF087B98BDD2DD25BE35C67E2288476B5.txt': 0,\n",
       " 'CDDBC3CDC55A2AF1F6013264584D19B54D09EC0A9138C202C5ED22C968752A50.txt': 0,\n",
       " '23DEC486AE490FE1A668D31E2F4E3B7B2745DE8F36756BF8D828319666EA6A16.txt': 0,\n",
       " '0FE8797EE0F83DE5C04CC43C4DE117488B981245B881485C7672EC3F2C0AC292.txt': 0,\n",
       " 'CEFCFE4926B330AA8F7C4A9F35A302329B29599B619C15170CA00951166B7A52.txt': 0,\n",
       " 'AE717899B1FF0332402FE842DB7AEA34A6E257FF762DB71D9690AE2273D9E52B.txt': 0,\n",
       " '4EB01163BC3D28A501AD9D1686D7E0365C3FF93C66CDE5EC6C95D7DB520E8C73.txt': 0,\n",
       " '1945BDE667B5625AD0919215282DA61A5AF8BC1CB0172EF1477A50F5A3B8A999.txt': 0,\n",
       " '321BA9A789F2799AB88502AEB911596737F74C9F25D845C6EF3AC3B957D3E29C.txt': 0,\n",
       " '6B05985A49A8E9D8ACF7D9924DE30F0D6996EB7A69AF5027BC2E5E75F4FD9182.txt': 0,\n",
       " '5DEA5AFD582CA33204778BF8304A0161EF9E5F910FDEA9C570FE1F5EA0C2254F.txt': 0,\n",
       " '96FF6EB5A35AB24F3261A077B1503C007E8B8C7F5BFF9D2C4513E4F67ECA0183.txt': 0,\n",
       " '0925AE75953CA6C14719842EAD81659B67BDC60F6E9879F3EB6DFD02A2882730.txt': 0,\n",
       " '26FE1603D30091D98D8933FDCDDFFAB08365076830A754FB46CBC3DD6F3DDAE2.txt': 0,\n",
       " '0C51990952416028B50F36567E58025C2B58A38E3527993CEA8F2AB1C49C5294.txt': 0,\n",
       " '200568FE064799E3DDF8D5C1EDBDCCFF4C0CF104F1A86A463333881A96DAFA99.txt': 0,\n",
       " '1CC41D8F2BB67A89BE0F361F524AFB724B8A0F3ACBB8B4F918923111575C3A7C.txt': 0,\n",
       " '2D73D571420307FC154E20791EC4CB820F33735DDADD33169436342A0B7FFFCE.txt': 0,\n",
       " '03B4C57D50423D9F01BA89EB10DFB5CD5BF00C57704ABABBF25AB6C018E64F80.txt': 0,\n",
       " '10E675B6ECE4C6C7F8F5F8FCA23B0952DFA505C36285151018D5821A8FC2CA63.txt': 0,\n",
       " '5FD8BB01EEB85767AB3DB7DC95B1C56BD0039E49C8EE75805FDE687C80801CB3.txt': 0,\n",
       " '2AEA6BC2E896354D684EAB5ED4DBAE4DB65BBB7BBD9F188B3884C2AF955CFA4F.txt': 0,\n",
       " 'B3DB3BA344FB55D1FB3E9E99BA937C1532F0E8824A52AB12CA6E30ACEBDEFB07.txt': 0,\n",
       " '4F76E633A862423E9126F81233B6CB482F5C306A3B81958BC941A8224F868357.txt': 0,\n",
       " 'B15DA68EC6D785399BA28D80BF3E262052225CF3F1850CEA2EC67147ACDE1927.txt': 0,\n",
       " 'CE7525C6E50DD18B40F52C8BDCF215C33B015D7A416BA8AF502776DFD2216AB2.txt': 0,\n",
       " 'E5EF5FE934E0E0BDC7E11ED36346B67F7A0BA4684387F95E520C3B7D82B5687A.txt': 0,\n",
       " 'B3A73A878694000E17952990BFDE9EB0DF33E0D51A19317BC9ABAE707FCBD4BA.txt': 0,\n",
       " 'D438B9BD789137AABB9BC614B51BEB7490EFEAAC22FA0CE79A148C10656288EB.txt': 0,\n",
       " '23692E2BDA15F64F8549A7FBF6933E2557980EA1A305842668C2E8F3396266C3.txt': 0,\n",
       " 'B0F36E89CE7AD262778699805C2EDEF9FB5AACF19C938486459426C2E6A02CFC.txt': 0,\n",
       " '26703517128386200221630BD2B48AA7BF907A0AADFD62B70CADC33AFAEA23D3.txt': 0,\n",
       " '36608BE502EB0CD0B23EE9F3892BFF136663DD8EBC00C1600CB82B650791B856.txt': 0,\n",
       " '20472E98478FF8C2D31505EEF86B08004684D4974D2B9D0C88329AE5A356231E.txt': 0,\n",
       " '23B2BA32984681DEA41C50A2F8CEC4ECC5E03C2C7AB8D140C1D49F99137CDA31.txt': 0,\n",
       " 'E8F344BD0187C48992402B7FEBA972005F58FD1DDD23CD3F1C9BFA442BFA1A86.txt': 0,\n",
       " 'E9F987CFEA8928CE60C97CBAA2B96CC31F47568E70DFE93AD8EBA71E8D0B1667.txt': 0,\n",
       " '35DD9EF545680485D936A70765ABED62B54D8B8C21A7E2BDEDCF158E778A7058.txt': 0,\n",
       " '274090AD95B62BC2F1CDE7258290E7CCE72CEEDA3E052515C2387314B4B5C474.txt': 0,\n",
       " '0592C106BC622EFE16D73E33477A868C6E4FFA5FB37511958669968EA507E7D7.txt': 0,\n",
       " 'B1C46C8188FC7E4384AE74D980887E1262454C6E951E89FDDA6314FDBBBAC541.txt': 0,\n",
       " '28492D700F99FD27BBD286BFFF7D1522FBF91BE316F1C36059F7DB28F1FE788C.txt': 0,\n",
       " 'D48E6CF4562E84DD41EA0BE213F33C50EC6C8A44692AD9D19476E99BCFE3316A.txt': 0,\n",
       " '175BB152F572C60C524C8FD669266C929E7C496C9DC165ABD732365E70E80977.txt': 0,\n",
       " '2514C42A27D113613FFED12622328BE43B0F2C3FE934722B5D6C0891A4EA9B94.txt': 0,\n",
       " '0EBB01218C6B000289F18C736141D94D626F1C0E92D07D6D09998A90EC2CFF1B.txt': 0,\n",
       " '088900D9401DB39469CE564634C50C7439064749FC6AD35B2A59F93BD6B0EDA8.txt': 0,\n",
       " '249E9E43C180CDEF29BE7F4C24C75CEC0456D85432CC13AB6E3C571A6845571E.txt': 0,\n",
       " 'D2A11A3EE2B1556708DC5C9D2BC48E7C9D1E7288AE790719EC8A4A2056078A89.txt': 0,\n",
       " '25C7BF42ABA173165E6257ACF736424B378D87C058E95D714BCCC93F6D045900.txt': 0,\n",
       " 'CAA7D13B8F20F66C082E8D245E75F86D2E0192E11AFF2CCA13CEB0F547C76BAF.txt': 0,\n",
       " '01FA6E43B165352FAA738A04DE1FDB8F7C89BB75A3D5212ECB2621F4B737F6C0.txt': 0,\n",
       " '33F63EC74F6D67FE763BE706F9805EED08076C2D6AB68266AAC7DE784AB0579A.txt': 0,\n",
       " 'E5652AAB1F8D82493152817B743745C2AA8ED5C9F84FC23758E9B165927AC092.txt': 0,\n",
       " '024A76588C2D4CAD90105938B002E3D6C2AD49B7E128D38A9AD8E6B2BF974600.txt': 0,\n",
       " '5B7E400B088944A45FB0EB92451022404819A76BD0F84106A58E70659BD8BF60.txt': 0,\n",
       " '00A23CB8E5625F35D1DA2AB42593350D6F0DFFF3CF8092578B38F96EF0E88F1D.txt': 0,\n",
       " 'B4193930FF9FABF0CDEF2C663BF496047D3C9402616BC8CFF95A43257E174E0A.txt': 0,\n",
       " '07CDB274081B6120B0FB7AA4A029F82C1B5C1E8DF1FC6BDEAE368C6525010951.txt': 0,\n",
       " '31C81DC494F6CA7F79E9FBB4293AF587B34EE0E708D840735574956014B76221.txt': 0,\n",
       " '157BD24AFD35884330F11823883653E954C25519F3AAC92168107E37CC74DD3D.txt': 0,\n",
       " '1CED66B9C1AD711B030A146BA766D6EA75AE77033DF75BFA9182FB91D5CA47CC.txt': 0,\n",
       " 'AED68E81E7144FDBF2ABFDD66CB347EEFF5765801BA55D1B8B03C0DC9D32AF32.txt': 0,\n",
       " '2EA5A8C6964649A42E5DB455D2424DB15360E4AFDB0940B6ACC2FE23FE5B133D.txt': 0,\n",
       " 'B3574E9FD9B5950213EC67DEA7A58D9FF54AA2D4C5D4BC7A1F39CE209D323F4A.txt': 0,\n",
       " '606DB125BCC340A264DE17633AF3D559E93A78FC3C1A5D8060BAC90482EA9E47.txt': 0,\n",
       " '493CF70E70E3A34E4AFD981D10A33A6377B53F9D834DF0C455EEEF7EC1D19D79.txt': 0,\n",
       " '071BA818FD57C03B4D45198CBC872B60168F5B01302A622408E5A65490EA09E1.txt': 0,\n",
       " 'B5D3C4027812AD942B9AA4E548FA522167AB232E7A29AB0801BCE94DFE9171C9.txt': 0,\n",
       " '2309D0F2CBD6A99778BCB732440256ED8F622834B067DA6430D4A6112058EC3E.txt': 0,\n",
       " '265BCE10A0DB056D8D04881295D15C7CAF57412D9088D584FAB6A29723F7904A.txt': 0,\n",
       " '0D6BB0D91E7607F45E04D3DF9901F285859475DFC1FB0E38B36E5BD42FE86A56.txt': 0,\n",
       " 'CAB5C1B98B8F0859804611A033EF6E5370CC97D7B0B3E0DD1FBDF5AD824CD6B7.txt': 0,\n",
       " '0E7913EF2214EBB6EE724CDCD038C562DB493BB0A56A076A92D80720F97EB4B3.txt': 0,\n",
       " 'E5F51E5BD7A20C9B5FBDB3E3FD88E59681AAF87BEFEB2AAF1E18E120EF3373A6.txt': 0,\n",
       " '22A735CEEFD5D740D2D121EF878BCB12ADCB0F40791AEA1BAA56362F07B2E702.txt': 0,\n",
       " '2C3EC1BF41763F950C540072086D7821CDFCF0EC413D46CEDD619DCE22E3CC84.txt': 0,\n",
       " 'E6324046AE00125FA736C3A891760A15329E6C51872CAD4FB8666527BABA0C60.txt': 0,\n",
       " '23DD907C8C5C6B512489A303EEE100A7498ED39DBC1EF8A39D4D30A1AA7E92AA.txt': 0,\n",
       " '184E3C95A5ED4725354BB9ABFB61382CA23487021A9BED6C3D7D5E2DB2DB1E55.txt': 0,\n",
       " '0E315AA4A63E7F39CDB1B1B2F413787F9DF455B23A19D97D37409658EB35E174.txt': 0,\n",
       " '0EADB76CBEE65783114BBCCC11DE2DA295211ABC66E0EDF1C151A8651A41FDB2.txt': 0,\n",
       " '28494044F4BD352BA4FA3BB9F9D65BD96DC17047AE7C6AB0FECB4BB382495ACA.txt': 0,\n",
       " 'ABA77C5C009644E69A533D9A8416B93C552103DF3B854C49C17834FB05B20314.txt': 0,\n",
       " '328117E38B35A63BE833C6D16DC053D11C6514FEAE6285BEBC86D2C07D6E7618.txt': 0,\n",
       " 'CE92FE57E42170759BD13D9D1DD5BEA7765EA1CFD9EB83FBB9BB5C18AE250B90.txt': 0,\n",
       " 'C64BB0C848FFBA027AB2E2A0C462BABA99355932AFD7BF578AA7F5142DEC2D2A.txt': 0,\n",
       " '03683C9675914EBFC1F86CE466725BB2D051400450A6EA10633D2C9E52B34D31.txt': 0,\n",
       " '0D00CDDEC6385F788BD19122CBCB40CDA541C79476A6C443AAB0A9317348222B.txt': 0,\n",
       " '2CEEA3546D5D74276AD06E7B3E511809B00DEB399FF4FBDEA70E30D1F26F955B.txt': 0,\n",
       " 'B4B009F782AF95E2DF9A682D7F9301AF11830DAF232E790891CE5A4652AA524A.txt': 0,\n",
       " 'B4883AA2BEFBC59D9F5BFD6CE28A54E282D6D7ECF0EE187D2D3483309A762323.txt': 0,\n",
       " '21912B694C742B0DF6CB26E10CBAD2C1143969BDC9FA3D3E7CED52020598BCAC.txt': 0,\n",
       " '1D3D1F19102D9FB8A08E0BA77610DCC2EA99DB5D595A95D294C2AED715095265.txt': 0,\n",
       " 'B5692648C856215BE2724B2A95F5F6172915F2A2E79405CDB50F3EAFE5151EA8.txt': 0,\n",
       " 'CEAF935865D152F31267E6CFBC009F0FE68C2249DC045B9FA03B18E276A7CB39.txt': 0,\n",
       " '2679C94786682A1D8C9AAFBC27C8F1B403D2718C86CEF709EB97BAD9B1D6C266.txt': 0,\n",
       " '11160AF8E56DE04D41DB4F9920031BEE38AA642FFAE2F1FA448DED68B8072F86.txt': 0,\n",
       " 'D3022274EF5247C751C00ACEA4AAE977579465F96966958FF7EE8C5F6A168414.txt': 0,\n",
       " 'D11B581EBF2082892869253F55367CD2B71D3413FC164FCF2705339B81A61648.txt': 0,\n",
       " '19B57873FF665BF9FFC24600AE18D6A66751AA4362FE0844D0959E0F5EB89274.txt': 0,\n",
       " 'D59BA2580E7A1A637B485BD7743BD2A2854FDE3175980D2E574F113EE6949A5F.txt': 0,\n",
       " 'E9138FA2B318392137385186D73DEAE4E2D8288FB73A746C771374D2FDC75EF9.txt': 0,\n",
       " '20A5062F05759E8F4130BF4B0D3C08A95D028B4CDA95F012344DA62E5D002F7F.txt': 0,\n",
       " '180E338EC8AB48D9D44B4DD92EA2DC9F7E9BEEBC47F2E7EFA85DC270D66F2DA3.txt': 0,\n",
       " 'E5D03F1499379C30F8B4AFA36AB0AA81EA4E5E2C711A0748CC4D286F6FB2091D.txt': 0,\n",
       " '0C7EEAA0C95D58D14AA9D43C7722AE5E8896B361E0395ED55AE7503573BA7173.txt': 0,\n",
       " '2CB6A6ABEB066EBD4724305DE0C05378717643701C637CBBB52EC1F68C1F0FED.txt': 0,\n",
       " '147F3EA757831F2D8633A8B1E4DAE9C28348624702806171A4B28A9B5590C65C.txt': 0,\n",
       " '59ED359D8367E4DE5AB58D4A31EB2B003A2C1A0320A23562D85D9210F3A342D3.txt': 0,\n",
       " '1716B7F7710142193BDE6686F47FD1204058EC700A69F817D3F7A9E78DB0A76F.txt': 0,\n",
       " 'ACD7F6817D0C683AF0E52435F5B2EF0337235E387691C5AE5A73D95BFCC5393F.txt': 0,\n",
       " '3E4F899C741F4BA246039B32DDA5792376996988B8D587C374B2563DD2EF2EB7.txt': 0,\n",
       " '1975A1A63D63DF0C4980631BA10746E4909DDB3DEC2266178B54A670BC1253D2.txt': 0,\n",
       " '4A21B4B5EFC3DF63232E340FBDBCD7208AD293DBEDCC1347B2532DF140A90D11.txt': 0,\n",
       " '385C8964E9E7E72C81C93970E18BC3310C3391DB4CE273B2E63EB782BF35D2E9.txt': 0,\n",
       " '0A29F3ECB9824BE228E8F55E228CA10721A1A36B4038328EB1F553944F0A5963.txt': 0,\n",
       " '31291DAAA21129BEC2FFCC534CF7472C6A49AC715B83C070BA8EEE8D1F8F8426.txt': 0,\n",
       " '07FCF4A482553DD143F5E8994E6280B57C781626F9D4DE76CC563DCDF6F502AF.txt': 0,\n",
       " '275521C97460118F00D6B915B30015A34148BEBBDE3B72C8DA7A641333688C9E.txt': 0,\n",
       " '08FEEF50518455E6921BDA1248206EAEDB880D9B86E2396C2E3FD3812D46883A.txt': 0,\n",
       " 'E5E11DCCBC12FA5B324228D9C04E0335A95654CB41338CEEB16AC7C98023A360.txt': 0,\n",
       " '2D928A207026AA768A0B95B65BFAA3CA097705C0D2D07F8BA722C6283AB632FA.txt': 0,\n",
       " '11AE169BA6DB1BD238CC379858D0C2ADB05A80C57320B720EEF97E18B8D84192.txt': 0,\n",
       " '03E73864FA70551C47BD2993EF59890B334804BD2D062B6523D5FA524341C91C.txt': 0,\n",
       " 'DA8B878870A31F5B989A1F66A4D98D245ABBC5A85E748A3C55502B9156124C12.txt': 0,\n",
       " '10B32BDEB207B5271DFDEA9B8912D38402936B85AF34473AFBA07D47ED396FD2.txt': 0,\n",
       " '13BBC4EBD066F7C502176E97783167A9543AC391FEAF9D566C601B36A80321EF.txt': 0,\n",
       " '0D2646857421B7CD960EAB5C93A78CBC4227F35BEED93728F4E259E3D503FA04.txt': 0,\n",
       " 'AD621E4C56A65214BCD3EBF68013425C6CB650D4219D8D8D008CA7B343C8A97F.txt': 0,\n",
       " '0106BFD6E97698F7463F06B0C69433FB2689D2F0365658E65EA2874D9E81E8A7.txt': 0,\n",
       " 'AD4C131B2A15B52860D67A641BE4411A02885A9F6F69A93AC8F09459A3220D94.txt': 0,\n",
       " '6503F3986E4C438CB1976A5DDA1CCDACC3356803B1CC51A1EA8232E8ED4AF859.txt': 0,\n",
       " '25B38FEA6FAC2EB7C6D793ABEE58B646E990FB228D4E89B156DA2996619E1BA6.txt': 0,\n",
       " '2EFF0DCD94F3AFE664916466310FEF900554166011DC729E6F45C46553D4102F.txt': 0,\n",
       " '1BE49799347B3E7B7DCA115A0F0252ACA6E32D91DB3F0BC5DED89F45D6A3042D.txt': 0,\n",
       " '193024EE7DF9B059F5FB3A238455000AF5C5F2853A999CE7AB5D9DBDFFCC260B.txt': 0,\n",
       " 'D23109E2E418823B20E4E5C18042C5EEE844CEF25DEEAD30BFFDD0C0CF19245B.txt': 0,\n",
       " '229E4E86C6C95A43DFB0F36BEE352AEE9AF9F696AF5BF6A68AD3C5304542E8AA.txt': 0,\n",
       " '0ECF3F32313FF318D858BA710B1FD69F58CF852AD2644CDB108F9FCD94B1E06D.txt': 0,\n",
       " '05A02BC37D09ECE32575309DE04171A97A08AB025784D0069D1074D8EF6E6A3F.txt': 0,\n",
       " '2E3DF551C949995A1CC0B22CC0676E6CF2C61E8555B6E2661B60084C57E67395.txt': 0,\n",
       " '23D59692FA8896C61DF2476197C2B26A29A953FF2850949EFCA6E0137B68C946.txt': 0,\n",
       " '214EEF960CB3422DBC51E230C9CCFD4C2EB96FAC24EE33CB7AC191CB7CA5B8CA.txt': 0,\n",
       " '17174ABAA3C52C3A7FFDCDB14816F33C33F4B0ABF14D48FBCBF03BBD902BCEEE.txt': 0,\n",
       " '2364D6EE350EFC9E0F12BF35676612CE6C22C5505DA7149290AAB47756EE0486.txt': 0,\n",
       " '5BC645AA62FFCAD9AF94B3EFAFC964F4138D7B463C9E1054548B8565FD4C64C7.txt': 0,\n",
       " '2E38AF7B58DF3EF4968AE6D39BA3096D1992CC8217E440ABD10E3045600CE18B.txt': 0,\n",
       " 'B01F8522180D19D3C07D56410958F1BF04D649FAA9CC65E84AB7FFA048603458.txt': 0,\n",
       " 'E8A6162AB75B12CD22723EAF51008F914E2463A957075D5F73B8CF300131ED4D.txt': 0,\n",
       " '30410467C0B025F1EABD192B6AA3BAC8709A40DE503BE98F6895434CF0F57484.txt': 0,\n",
       " 'E709B50E0C7996F37E0616329A9B60E30FE93F1528AA26F19539655941366BA3.txt': 0,\n",
       " '0964451D852A0ECB751AD816E4635E9EDAB29589901576AC26B6077C1E8FD555.txt': 0,\n",
       " 'E70AF2BD77805DB44A992923A3BDAF48D79C88F57D476FC355F75432DD3BF64F.txt': 0,\n",
       " '07E9421EFEE68C00054E098F87B82F3B2174EEEE6AB76C72DAB1954230BE2DAB.txt': 0,\n",
       " '22C71D32C49C2B905139EBD3F8B43347E1DDD12B6AD0250CAA17972E39DE01F6.txt': 0,\n",
       " '06E80ED06E7DDB591503C5A4B93BE15D274F6917EF581DFF7C32CFCFD326F74D.txt': 0,\n",
       " '0C1A599472F962F28EB44216A7A1115234DFC11268BD40728D92B4A1E4797AE0.txt': 0,\n",
       " '126366D63717A0D18C8E501BC9D8B4CF290E19F383CC6FC5F264F9F49E0E71F9.txt': 0,\n",
       " '473A0C2D9B2F9C3199ACD8346CCFF9F5E36C4E1735F0C42F6032498D1C1F877A.txt': 0,\n",
       " '1BCB9485F152CD29258A02C32E9CFE14AC66453A6D2BE5D887C34F04B1D71600.txt': 0,\n",
       " '358EB29AE6CAA2E11C5AABF7E3A32AC5CD9380530B2E8247D2EF1F4E6E1BE38E.txt': 0,\n",
       " 'AEDDFF8065E690DB45CCD196BDF0DC5C9AC49DF16AAE6B50170A83CBC03F6027.txt': 0,\n",
       " 'AB56346233C897C372E37B75CB290C9CFFF0C6E9822D0B5A079ED2EDA4908081.txt': 0,\n",
       " '055D0EA9DC4CF08EEF700BF8D5D3D733258C80073F83D9F87294A175D9AB4840.txt': 0,\n",
       " '2753AD08D71E6547FBADADC00C16D4047F5310A05DBA0B09795B978A84BF7D33.txt': 0,\n",
       " 'B14CD08794A6062FC081DAB9A7927CE323B5CA9250B1C5748C0DEB805E3ADB8A.txt': 0,\n",
       " '23C3A4AE79038B59D9F71A67016B2F933AABD66BAD043FB2F550D528E1A567AF.txt': 0,\n",
       " 'E56C7FBD35CA140DA0D58FBA0A83774E1289905E4956BCB1A23A615EC020C480.txt': 0,\n",
       " 'AB11FCE5C26036F2C196C1DF2CC15D065487AB2952E5F85FAE5556CD48CDE718.txt': 0,\n",
       " '44556DA77B3971B59508945ED11EB10D6F24E93DE4F0D06036B8F04400BDD376.txt': 0,\n",
       " 'D074D2FF07A7D35DEBE12A3FDC437189251173558D6DFBB5CCD079E6821F3D42.txt': 0,\n",
       " 'F3611D24662D4156F459017B3A643D3C39B11ED0D5644FD43B5C477D27F5649B.txt': 0,\n",
       " 'D429384600A3C1831F205AAED7D2792238D99CAFC93D8080617E51E1863DAA9C.txt': 0,\n",
       " '3F95D15B54D5992BAD5DDCCDC30173B1B4799AFAAE3B037706F83BD234DFC11F.txt': 0,\n",
       " '2518D1C6D1D84A7DFEDEBFCC67B011FEA649B242C764957C57556C10BCBE3FE8.txt': 0,\n",
       " '30C41FDF5BA82D8910DECA0949EB1D3A6A31AC95167621554A1E5A142868EA4F.txt': 0,\n",
       " '0A423F379DE353D7D375DA9B304992C5030CBCBF22CE5459A9148AD60154D995.txt': 0,\n",
       " '622B89BE03F6C6A950DA0BCF0ED75A2EA2B8F43734F653E39BA88CAB8DBD10B2.txt': 0,\n",
       " '0EF9749D668C30538E94BBE7979CDE30E9A25F77C961878F7888E7A3C7AB8938.txt': 0,\n",
       " '006F6DAFC500385E941A04FB0BEB6CEA01E30A0667F4C13DC4E8EAB5E686E923.txt': 0,\n",
       " '58D02961D3B3121F6A93F81EDB78C14944CF52B3ED4E89B11F106BE78F100960.txt': 0,\n",
       " '03857E0179D961FF096243B70AE3986FEF39E03A122F1311798C1528C2645144.txt': 0,\n",
       " '27FC47AB92FFFC034E1441B1F91E41C7D50F5F128E9BC58708BC2C6E1EE45D4C.txt': 0,\n",
       " '2212CC75582D61099BFD31B2ACECDB0A05BD311B4E13293BFFFD7E4E80F342E0.txt': 0,\n",
       " 'CD87DDB3D44DEA508FBB3746F22686933EDF70DCAACC659631CFE694E848CDB5.txt': 0,\n",
       " '0B6415EC0D546FB838C73A7E6A863E04F9BF6E5356FAD23CC01ECDE2E3473C48.txt': 0,\n",
       " '29CC6DF600A8373AB9BE06418CA68D2C942D255AC779C37741C510DD1E742916.txt': 0,\n",
       " '50C8B0FDB0404291E8B260C060203500678D0411F06C457A050297FDAE0EBA76.txt': 0,\n",
       " '074C43C96F3681D054DB34F281597096A072C3A8561E08AC36D4891B5ADF12DC.txt': 0,\n",
       " ...}"
      ]
     },
     "execution_count": 54,
     "metadata": {},
     "output_type": "execute_result"
    }
   ],
   "source": [
    "test_label_dict"
   ]
  },
  {
   "cell_type": "code",
   "execution_count": 55,
   "metadata": {},
   "outputs": [
    {
     "data": {
      "text/plain": [
       "512"
      ]
     },
     "execution_count": 55,
     "metadata": {},
     "output_type": "execute_result"
    }
   ],
   "source": [
    "count = 0\n",
    "for k,v in test_label_dict.items():\n",
    "    if v == 1:\n",
    "        count += 1\n",
    "        \n",
    "count "
   ]
  },
  {
   "cell_type": "code",
   "execution_count": 56,
   "metadata": {
    "colab": {
     "base_uri": "https://localhost:8080/",
     "height": 313
    },
    "executionInfo": {
     "elapsed": 1019,
     "status": "ok",
     "timestamp": 1611346346611,
     "user": {
      "displayName": "Prabesh Pathak",
      "photoUrl": "https://lh3.googleusercontent.com/a-/AOh14Gh6ULNXNrYutw3u6ad06TMgRj97zOGaU28QfV_MCg=s64",
      "userId": "10507649871156130542"
     },
     "user_tz": 300
    },
    "id": "LyVNSOVB5bGf",
    "outputId": "931c5bde-3e53-4773-8cfe-3dce5ceb5205"
   },
   "outputs": [
    {
     "data": {
      "text/plain": [
       "[Text(0, 0.5, 'benign'), Text(0, 1.5, 'malicious')]"
      ]
     },
     "execution_count": 56,
     "metadata": {},
     "output_type": "execute_result"
    },
    {
     "data": {
      "image/png": "[encoded data removed]",
      "text/plain": [
       "<Figure size 432x288 with 2 Axes>"
      ]
     },
     "metadata": {},
     "output_type": "display_data"
    }
   ],
   "source": [
    "import seaborn as sns\n",
    "import matplotlib.pyplot as plt     \n",
    "\n",
    "ax= plt.subplot()\n",
    "sns.heatmap(c, annot=True, fmt='g')\n",
    "\n",
    "# labels, title and ticks\n",
    "ax.set_xlabel('Predicted labels')\n",
    "ax.set_ylabel('True labels')\n",
    "ax.set_title('Confusion Matrix')\n",
    "ax.xaxis.set_ticklabels(['benign', 'malicious']) \n",
    "ax.yaxis.set_ticklabels(['benign', 'malicious'])"
   ]
  },
  {
   "cell_type": "markdown",
   "metadata": {
    "id": "RSsF5N4ctSR2"
   },
   "source": [
    "#### Evaluation Metrics"
   ]
  },
  {
   "cell_type": "code",
   "execution_count": 57,
   "metadata": {
    "colab": {
     "base_uri": "https://localhost:8080/"
    },
    "executionInfo": {
     "elapsed": 761,
     "status": "ok",
     "timestamp": 1611346390298,
     "user": {
      "displayName": "Prabesh Pathak",
      "photoUrl": "https://lh3.googleusercontent.com/a-/AOh14Gh6ULNXNrYutw3u6ad06TMgRj97zOGaU28QfV_MCg=s64",
      "userId": "10507649871156130542"
     },
     "user_tz": 300
    },
    "id": "uClIRxaMrut_",
    "outputId": "c6fb7783-9ce9-4863-eb6b-cc3794e69223"
   },
   "outputs": [
    {
     "name": "stdout",
     "output_type": "stream",
     "text": [
      "Area under graph 0.9548100768448194\n",
      "-------------------------------------------------\n",
      "Precision for Malicious apps 0.9266247379454927\n",
      "Recall for Malicious apps 0.86328125\n",
      "F1-score for Malicious apps  0.8938321536905967\n",
      "-------------------------------------------------\n",
      "Precision for Benign apps 0.9554423933800127\n",
      "Recall for Benign apps 0.9772135416666666\n",
      "F1-score for Benign apps  0.9662053427743805\n"
     ]
    }
   ],
   "source": [
    "from sklearn.metrics import precision_recall_curve\n",
    "from sklearn.metrics import precision_score\n",
    "from sklearn.metrics import recall_score\n",
    "from sklearn.metrics import auc\n",
    "import matplotlib.pyplot as plt\n",
    "from sklearn.model_selection import StratifiedShuffleSplit\n",
    "from sklearn.metrics import f1_score\n",
    "from inspect import signature\n",
    "\n",
    "truelabel = true_label\n",
    "predictedlabel = np.array(prediction1)\n",
    "\n",
    "precision, recall, _ = precision_recall_curve(truelabel,np.array(prediction_for_1))\n",
    "au = auc(recall, precision)\n",
    "print(\"Area under graph \"+str(au))\n",
    "print(\"-------------------------------------------------\")\n",
    "rec_score = recall_score(truelabel,predictedlabel,pos_label=1,average='binary')\n",
    "precise_score = precision_score(truelabel,predictedlabel,pos_label=1,average='binary')\n",
    "f1 = f1_score(truelabel,predictedlabel,pos_label=1, average='binary')\n",
    "print(\"Precision for Malicious apps \"+str(precise_score))\n",
    "print(\"Recall for Malicious apps \"+str(rec_score))\n",
    "print(\"F1-score for Malicious apps  \" + str(f1))\n",
    "print(\"-------------------------------------------------\")\n",
    "rec_score = recall_score(truelabel,predictedlabel,pos_label=0,average='binary')\n",
    "precise_score = precision_score(truelabel,predictedlabel,pos_label=0,average='binary')\n",
    "f1 = f1_score(truelabel,predictedlabel,pos_label=0, average='binary')\n",
    "print(\"Precision for Benign apps \"+str(precise_score))\n",
    "print(\"Recall for Benign apps \"+str(rec_score))\n",
    "print(\"F1-score for Benign apps  \" + str(f1))"
   ]
  },
  {
   "cell_type": "code",
   "execution_count": 58,
   "metadata": {
    "colab": {
     "base_uri": "https://localhost:8080/",
     "height": 297
    },
    "executionInfo": {
     "elapsed": 782,
     "status": "ok",
     "timestamp": 1611346390502,
     "user": {
      "displayName": "Prabesh Pathak",
      "photoUrl": "https://lh3.googleusercontent.com/a-/AOh14Gh6ULNXNrYutw3u6ad06TMgRj97zOGaU28QfV_MCg=s64",
      "userId": "10507649871156130542"
     },
     "user_tz": 300
    },
    "id": "39zk95EJAkDZ",
    "outputId": "1dc71fc1-6172-46ee-c9e8-6a4e9f5b7316"
   },
   "outputs": [
    {
     "data": {
      "image/png": "[encoded data removed]",
      "text/plain": [
       "<Figure size 432x288 with 1 Axes>"
      ]
     },
     "metadata": {},
     "output_type": "display_data"
    }
   ],
   "source": [
    "positive_cases = sum(truelabel)/len(truelabel)\n",
    "plt.plot([0, 1], [positive_cases, positive_cases], linestyle='--')\n",
    "\n",
    "# In matplotlib < 1.5, plt.fill_between does not have a 'step' argument\n",
    "step_kwargs = ({'step': 'post'}\n",
    "                if 'step' in signature(plt.fill_between).parameters\n",
    "                else {})\n",
    "plt.step(recall, precision, color='b', alpha=0.2,\n",
    "            where='post')\n",
    "plt.fill_between(recall, precision, alpha=0.2, color='g', **step_kwargs)\n",
    "\n",
    "plt.xlabel('Recall')\n",
    "plt.ylabel('Precision')\n",
    "plt.ylim([0.0, 1.05])\n",
    "plt.xlim([0.0, 1.0])\n",
    "plt.title('Precision-Recall curve')\n",
    "plt.tight_layout()"
   ]
  }
 ],
 "metadata": {
  "accelerator": "GPU",
  "colab": {
   "authorship_tag": "ABX9TyPdR6ZJpyep8kagIgsoD2po",
   "collapsed_sections": [
    "sAVVyiC9KYhb",
    "Ar_fxvJoKeqD"
   ],
   "machine_shape": "hm",
   "name": "1k-transformer",
   "provenance": []
  },
  "kernelspec": {
   "display_name": "Python 3",
   "language": "python",
   "name": "python3"
  },
  "language_info": {
   "codemirror_mode": {
    "name": "ipython",
    "version": 3
   },
   "file_extension": ".py",
   "mimetype": "text/x-python",
   "name": "python",
   "nbconvert_exporter": "python",
   "pygments_lexer": "ipython3",
   "version": "3.7.6"
  }
 },
 "nbformat": 4,
 "nbformat_minor": 1
}
