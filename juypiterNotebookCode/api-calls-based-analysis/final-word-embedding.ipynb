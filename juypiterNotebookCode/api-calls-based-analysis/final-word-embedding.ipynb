{
 "cells": [
  {
   "cell_type": "code",
   "execution_count": 1,
   "metadata": {
    "executionInfo": {
     "elapsed": 1873,
     "status": "ok",
     "timestamp": 1609196461833,
     "user": {
      "displayName": "Prabesh Pathak",
      "photoUrl": "https://lh3.googleusercontent.com/a-/AOh14Gh6ULNXNrYutw3u6ad06TMgRj97zOGaU28QfV_MCg=s64",
      "userId": "10507649871156130542"
     },
     "user_tz": 300
    },
    "id": "hFbUqNqklTea"
   },
   "outputs": [],
   "source": [
    "import os\n",
    "import re\n",
    "from gensim.models import Word2Vec\n",
    "from gensim.models import KeyedVectors\n",
    "import logging"
   ]
  },
  {
   "cell_type": "code",
   "execution_count": 2,
   "metadata": {},
   "outputs": [],
   "source": [
    "logging.basicConfig(format='%(asctime)s - %(message)s', datefmt='%d-%b-%y %H:%M:%S')\n",
    "logging.getLogger().setLevel(logging.INFO)"
   ]
  },
  {
   "cell_type": "code",
   "execution_count": 3,
   "metadata": {
    "executionInfo": {
     "elapsed": 547,
     "status": "ok",
     "timestamp": 1609196463515,
     "user": {
      "displayName": "Prabesh Pathak",
      "photoUrl": "https://lh3.googleusercontent.com/a-/AOh14Gh6ULNXNrYutw3u6ad06TMgRj97zOGaU28QfV_MCg=s64",
      "userId": "10507649871156130542"
     },
     "user_tz": 300
    },
    "id": "dkaakrl4lGoM"
   },
   "outputs": [],
   "source": [
    "# train_dir = '/data/attn/1000apks/train/'\n",
    "# test_dir = '/data/attn/1000apks/test/'\n",
    "# output_dir = '/data/attn/1000apks/'\n",
    "train_dir = '/media/data/artifacts/2016/train/'\n",
    "# test_dir = '/data/artifacts/2016/test/'\n",
    "output_dir = '/media/data/artifacts/2016/'"
   ]
  },
  {
   "cell_type": "code",
   "execution_count": 4,
   "metadata": {
    "executionInfo": {
     "elapsed": 473,
     "status": "ok",
     "timestamp": 1609196498374,
     "user": {
      "displayName": "Prabesh Pathak",
      "photoUrl": "https://lh3.googleusercontent.com/a-/AOh14Gh6ULNXNrYutw3u6ad06TMgRj97zOGaU28QfV_MCg=s64",
      "userId": "10507649871156130542"
     },
     "user_tz": 300
    },
    "id": "yXz2xwCHkzVh"
   },
   "outputs": [],
   "source": [
    "def read_data(foldername,sentences):\n",
    "\n",
    "    filenames =[]\n",
    "    numwords=[]\n",
    "    count = 0\n",
    "    for fname in os.listdir(foldername):\n",
    "        count += 1\n",
    "        filenames.append(fname)\n",
    "        with open(os.path.join(foldername, fname)) as f:\n",
    "            content = f.read().strip().lower()\n",
    "            content = re.sub(r\"[\\n#]\",\"\",content).split(\" \")\n",
    "            counter = len(content)\n",
    "            numwords.append(counter)   #only consider the 4000 APIs# talk and decide later// part of tuning\n",
    "        sentences.append(content[:4000])\n",
    "        if count % 10000 == 0:\n",
    "            print('Done',count)\n",
    "#             logging.info(\"Done\", count)\n",
    "    return sentences,filenames,numwords"
   ]
  },
  {
   "cell_type": "code",
   "execution_count": null,
   "metadata": {
    "colab": {
     "base_uri": "https://localhost:8080/"
    },
    "executionInfo": {
     "elapsed": 215990,
     "status": "ok",
     "timestamp": 1609196730274,
     "user": {
      "displayName": "Prabesh Pathak",
      "photoUrl": "https://lh3.googleusercontent.com/a-/AOh14Gh6ULNXNrYutw3u6ad06TMgRj97zOGaU28QfV_MCg=s64",
      "userId": "10507649871156130542"
     },
     "user_tz": 300
    },
    "id": "DeVK_2HIlYrB",
    "outputId": "1cd64873-31f0-4cd7-8a0c-6625c49bc96e"
   },
   "outputs": [
    {
     "name": "stdout",
     "output_type": "stream",
     "text": [
      "Done 10000\n",
      "Done 20000\n",
      "Done 30000\n",
      "Done 40000\n",
      "Done 50000\n",
      "Done 60000\n"
     ]
    }
   ],
   "source": [
    "sentences=[]\n",
    "training_sentences,trainfilenames,numwords= read_data(train_dir,sentences)\n",
    "print(\"Loaded training data...\")\n"
   ]
  },
  {
   "cell_type": "code",
   "execution_count": null,
   "metadata": {},
   "outputs": [],
   "source": [
    "print(training_sentences[0])"
   ]
  },
  {
   "cell_type": "code",
   "execution_count": null,
   "metadata": {
    "colab": {
     "base_uri": "https://localhost:8080/"
    },
    "executionInfo": {
     "elapsed": 26838,
     "status": "ok",
     "timestamp": 1609197404958,
     "user": {
      "displayName": "Prabesh Pathak",
      "photoUrl": "https://lh3.googleusercontent.com/a-/AOh14Gh6ULNXNrYutw3u6ad06TMgRj97zOGaU28QfV_MCg=s64",
      "userId": "10507649871156130542"
     },
     "user_tz": 300
    },
    "id": "hDpwd0omlbYl",
    "outputId": "83015e1d-2a6e-403a-d91d-98819123b6ca"
   },
   "outputs": [],
   "source": [
    "model = Word2Vec(training_sentences, min_count=1,size=64,sg=0)\n",
    "\n",
    "#X = model[model.wv.vocab]\n",
    "\n",
    "print(\"embedding is completed\")\n",
    "print(len(model.wv.vocab))"
   ]
  },
  {
   "cell_type": "code",
   "execution_count": null,
   "metadata": {
    "executionInfo": {
     "elapsed": 15787,
     "status": "ok",
     "timestamp": 1609197405298,
     "user": {
      "displayName": "Prabesh Pathak",
      "photoUrl": "https://lh3.googleusercontent.com/a-/AOh14Gh6ULNXNrYutw3u6ad06TMgRj97zOGaU28QfV_MCg=s64",
      "userId": "10507649871156130542"
     },
     "user_tz": 300
    },
    "id": "Y7_Kee7AldHk"
   },
   "outputs": [],
   "source": [
    "#get_tmpfile(\"C:/Users/pprab/oneDrive/RA/first.model\")\n",
    "word_vectors = model.wv\n",
    "word_vectors.save(output_dir + \"final64.model\")"
   ]
  },
  {
   "cell_type": "code",
   "execution_count": 12,
   "metadata": {},
   "outputs": [
    {
     "name": "stdout",
     "output_type": "stream",
     "text": [
      "0.5991697\n"
     ]
    }
   ],
   "source": [
    "a = 'landroid/app/alertdialog$builder;.setcancelable:(z)landroid/app/alertdialog$builder;'\n",
    "b = 'landroid/app/alertdialog$builder;.setmessage:(ljava/lang/charsequence;)landroid/app/alertdialog$builder;'\n",
    "print(model.wv.similarity(a,b))"
   ]
  },
  {
   "cell_type": "code",
   "execution_count": 13,
   "metadata": {},
   "outputs": [
    {
     "name": "stdout",
     "output_type": "stream",
     "text": [
      "-0.066227615\n"
     ]
    }
   ],
   "source": [
    "a = 'landroid/app/alertdialog$builder;.setcancelable:(z)landroid/app/alertdialog$builder;'\n",
    "b= 'ljava/lang/stringbuilder;.append:(ljava/lang/string;)ljava/lang/stringbuilder;'\n",
    "print(model.wv.similarity(a,b))"
   ]
  },
  {
   "cell_type": "code",
   "execution_count": 14,
   "metadata": {},
   "outputs": [
    {
     "name": "stdout",
     "output_type": "stream",
     "text": [
      "0.8158691\n"
     ]
    }
   ],
   "source": [
    "a = 'landroid/os/parcel;.writestrongbinder:(landroid/os/ibinder;)v'\n",
    "b = 'landroid/os/parcel;.writeint:(i)v'\n",
    "print(model.wv.similarity(a,b))"
   ]
  },
  {
   "cell_type": "code",
   "execution_count": null,
   "metadata": {},
   "outputs": [],
   "source": []
  }
 ],
 "metadata": {
  "colab": {
   "authorship_tag": "ABX9TyO5gV5cm3kD/EXt+rc1JeE4",
   "name": "word-embedding.ipynb",
   "provenance": []
  },
  "kernelspec": {
   "display_name": "Python 3",
   "language": "python",
   "name": "python3"
  },
  "language_info": {
   "codemirror_mode": {
    "name": "ipython",
    "version": 3
   },
   "file_extension": ".py",
   "mimetype": "text/x-python",
   "name": "python",
   "nbconvert_exporter": "python",
   "pygments_lexer": "ipython3",
   "version": "3.7.6"
  }
 },
 "nbformat": 4,
 "nbformat_minor": 1
}
