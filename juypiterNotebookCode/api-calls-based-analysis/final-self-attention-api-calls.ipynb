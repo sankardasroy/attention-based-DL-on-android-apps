{
 "cells": [
  {
   "cell_type": "code",
   "execution_count": 37,
   "metadata": {
    "executionInfo": {
     "elapsed": 6636,
     "status": "ok",
     "timestamp": 1611337615832,
     "user": {
      "displayName": "Prabesh Pathak",
      "photoUrl": "https://lh3.googleusercontent.com/a-/AOh14Gh6ULNXNrYutw3u6ad06TMgRj97zOGaU28QfV_MCg=s64",
      "userId": "10507649871156130542"
     },
     "user_tz": 300
    },
    "id": "w3J58FTeGdMj"
   },
   "outputs": [],
   "source": [
    "import numpy as np\n",
    "import bz2\n",
    "from collections import Counter\n",
    "import re\n",
    "import nltk\n",
    "import torch\n",
    "import math\n",
    "import random\n",
    "import keras\n",
    "from torch import nn\n",
    "from torch import optim\n",
    "from torch import Tensor\n",
    "from torch import LongTensor\n",
    "from torch.utils.data import TensorDataset\n",
    "from torch.utils.data import DataLoader\n",
    "import logging\n",
    "import pandas as pd\n",
    "from sklearn.model_selection import train_test_split\n",
    "import matplotlib.pyplot as plt\n",
    "from sklearn.metrics import confusion_matrix\n",
    "from keras.preprocessing.text import Tokenizer\n",
    "from keras.preprocessing import sequence\n",
    "from gensim.models import KeyedVectors\n",
    "from gensim.models import Word2Vec\n",
    "import seaborn as sns\n",
    "import itertools"
   ]
  },
  {
   "cell_type": "code",
   "execution_count": null,
   "metadata": {},
   "outputs": [],
   "source": []
  },
  {
   "cell_type": "code",
   "execution_count": 38,
   "metadata": {
    "executionInfo": {
     "elapsed": 6632,
     "status": "ok",
     "timestamp": 1611337615833,
     "user": {
      "displayName": "Prabesh Pathak",
      "photoUrl": "https://lh3.googleusercontent.com/a-/AOh14Gh6ULNXNrYutw3u6ad06TMgRj97zOGaU28QfV_MCg=s64",
      "userId": "10507649871156130542"
     },
     "user_tz": 300
    },
    "id": "Y6cQ6K3jjyqX"
   },
   "outputs": [],
   "source": [
    "logging.basicConfig(format='%(asctime)s - %(message)s', datefmt='%d-%b-%y %H:%M:%S')\n",
    "logging.getLogger().setLevel(logging.INFO)\n",
    "nn_Softargmax = nn.Softmax  # fix wrong name"
   ]
  },
  {
   "cell_type": "code",
   "execution_count": 39,
   "metadata": {
    "executionInfo": {
     "elapsed": 366,
     "status": "ok",
     "timestamp": 1611337637126,
     "user": {
      "displayName": "Prabesh Pathak",
      "photoUrl": "https://lh3.googleusercontent.com/a-/AOh14Gh6ULNXNrYutw3u6ad06TMgRj97zOGaU28QfV_MCg=s64",
      "userId": "10507649871156130542"
     },
     "user_tz": 300
    },
    "id": "CoWzQWBTGoCy"
   },
   "outputs": [],
   "source": [
    "train_dir = '/media/data/artifacts/2016/train/'\n",
    "test_dir = '/media/data/artifacts/2016/test/'\n",
    "train_labels_dir = '/media/data/artifacts/2016/train_labels.txt'\n",
    "test_labels_dir = '/media/data/artifacts/2016/test_labels.txt'\n",
    "word2vec_model_dir = '/media/data/artifacts/2016/final256.model'\n",
    "model_dir = '/media/data/artifacts/2016/models/'"
   ]
  },
  {
   "cell_type": "code",
   "execution_count": 40,
   "metadata": {
    "colab": {
     "base_uri": "https://localhost:8080/"
    },
    "executionInfo": {
     "elapsed": 3409,
     "status": "ok",
     "timestamp": 1611337641111,
     "user": {
      "displayName": "Prabesh Pathak",
      "photoUrl": "https://lh3.googleusercontent.com/a-/AOh14Gh6ULNXNrYutw3u6ad06TMgRj97zOGaU28QfV_MCg=s64",
      "userId": "10507649871156130542"
     },
     "user_tz": 300
    },
    "id": "9bXkvxCQVtaX",
    "outputId": "a20e5555-b880-4443-a6bb-e18bc5dacc53"
   },
   "outputs": [
    {
     "name": "stdout",
     "output_type": "stream",
     "text": [
      "154800 /media/data/artifacts/2016/train_labels.txt\r\n"
     ]
    }
   ],
   "source": [
    "!wc -l /media/data/artifacts/2016/train_labels.txt"
   ]
  },
  {
   "cell_type": "code",
   "execution_count": 41,
   "metadata": {
    "colab": {
     "base_uri": "https://localhost:8080/"
    },
    "executionInfo": {
     "elapsed": 3245,
     "status": "ok",
     "timestamp": 1611337641819,
     "user": {
      "displayName": "Prabesh Pathak",
      "photoUrl": "https://lh3.googleusercontent.com/a-/AOh14Gh6ULNXNrYutw3u6ad06TMgRj97zOGaU28QfV_MCg=s64",
      "userId": "10507649871156130542"
     },
     "user_tz": 300
    },
    "id": "_DSdLJmW56vw",
    "outputId": "a15542fc-abf0-44f9-d7c8-780cd4d11954"
   },
   "outputs": [
    {
     "name": "stdout",
     "output_type": "stream",
     "text": [
      "17200 /media/data/artifacts/2016/test_labels.txt\r\n"
     ]
    }
   ],
   "source": [
    "!wc -l /media/data/artifacts/2016/test_labels.txt"
   ]
  },
  {
   "cell_type": "code",
   "execution_count": 42,
   "metadata": {},
   "outputs": [],
   "source": [
    "x = !ls -l /media/data/artifacts/2016/train | wc -l\n",
    "len_train = int(x[0]) - 1\n",
    "y = !ls -l /media/data/artifacts/2016/test | wc -l\n",
    "len_test = int(y[0]) - 1"
   ]
  },
  {
   "cell_type": "code",
   "execution_count": 43,
   "metadata": {},
   "outputs": [
    {
     "name": "stdout",
     "output_type": "stream",
     "text": [
      "154800\n",
      "17200\n"
     ]
    }
   ],
   "source": [
    "print(len_train)\n",
    "print(len_test)"
   ]
  },
  {
   "cell_type": "markdown",
   "metadata": {
    "id": "VCufhZV7sTIM"
   },
   "source": [
    "### Load word2 vec model"
   ]
  },
  {
   "cell_type": "code",
   "execution_count": 44,
   "metadata": {
    "colab": {
     "base_uri": "https://localhost:8080/"
    },
    "executionInfo": {
     "elapsed": 1573,
     "status": "ok",
     "timestamp": 1611337644326,
     "user": {
      "displayName": "Prabesh Pathak",
      "photoUrl": "https://lh3.googleusercontent.com/a-/AOh14Gh6ULNXNrYutw3u6ad06TMgRj97zOGaU28QfV_MCg=s64",
      "userId": "10507649871156130542"
     },
     "user_tz": 300
    },
    "id": "-_0AtJOpV_Rm",
    "outputId": "878a3c33-7ed3-4827-e8c3-39bb0e589451"
   },
   "outputs": [
    {
     "name": "stderr",
     "output_type": "stream",
     "text": [
      "20-Mar-21 21:48:02 - loading Word2VecKeyedVectors object from /media/data/artifacts/2016/final256.model\n",
      "20-Mar-21 21:48:05 - loading vectors from /media/data/artifacts/2016/final256.model.vectors.npy with mmap=r\n",
      "20-Mar-21 21:48:05 - setting ignored attribute vectors_norm to None\n",
      "20-Mar-21 21:48:05 - loaded /media/data/artifacts/2016/final256.model\n"
     ]
    }
   ],
   "source": [
    "word2vec_model = KeyedVectors.load(word2vec_model_dir, mmap='r')"
   ]
  },
  {
   "cell_type": "code",
   "execution_count": 45,
   "metadata": {
    "colab": {
     "base_uri": "https://localhost:8080/"
    },
    "executionInfo": {
     "elapsed": 1248,
     "status": "ok",
     "timestamp": 1611337644327,
     "user": {
      "displayName": "Prabesh Pathak",
      "photoUrl": "https://lh3.googleusercontent.com/a-/AOh14Gh6ULNXNrYutw3u6ad06TMgRj97zOGaU28QfV_MCg=s64",
      "userId": "10507649871156130542"
     },
     "user_tz": 300
    },
    "id": "Sw5466pqwhiU",
    "outputId": "05945459-a76e-455f-9996-01f12a98bb7f"
   },
   "outputs": [
    {
     "name": "stderr",
     "output_type": "stream",
     "text": [
      "/home/ubuntu/anaconda3/lib/python3.7/site-packages/ipykernel_launcher.py:1: DeprecationWarning: Call to deprecated `wv` (Attribute will be removed in 4.0.0, use self instead).\n",
      "  \"\"\"Entry point for launching an IPython kernel.\n"
     ]
    },
    {
     "data": {
      "text/plain": [
       "850193"
      ]
     },
     "execution_count": 45,
     "metadata": {},
     "output_type": "execute_result"
    }
   ],
   "source": [
    "len(word2vec_model.wv.vocab)"
   ]
  },
  {
   "cell_type": "markdown",
   "metadata": {
    "id": "l0RghgSvsoAv"
   },
   "source": [
    "### Create train and test labels"
   ]
  },
  {
   "cell_type": "code",
   "execution_count": 46,
   "metadata": {
    "executionInfo": {
     "elapsed": 771,
     "status": "ok",
     "timestamp": 1611337646552,
     "user": {
      "displayName": "Prabesh Pathak",
      "photoUrl": "https://lh3.googleusercontent.com/a-/AOh14Gh6ULNXNrYutw3u6ad06TMgRj97zOGaU28QfV_MCg=s64",
      "userId": "10507649871156130542"
     },
     "user_tz": 300
    },
    "id": "o4eRkfzKU0y0"
   },
   "outputs": [],
   "source": [
    "train_label_dict={}\n",
    "count = 0\n",
    "with open(train_labels_dir) as file:\n",
    "    for _ in range(len_train):\n",
    "        line  = file.readline().strip().split(\",\")\n",
    "#         if line[0] in train_label_dict and line[1] == '0':\n",
    "#             count+=1\n",
    "#             print(line[0],line[1])\n",
    "        train_label_dict[line[0]] = int(line[1])"
   ]
  },
  {
   "cell_type": "code",
   "execution_count": 47,
   "metadata": {
    "executionInfo": {
     "elapsed": 976,
     "status": "ok",
     "timestamp": 1611337647614,
     "user": {
      "displayName": "Prabesh Pathak",
      "photoUrl": "https://lh3.googleusercontent.com/a-/AOh14Gh6ULNXNrYutw3u6ad06TMgRj97zOGaU28QfV_MCg=s64",
      "userId": "10507649871156130542"
     },
     "user_tz": 300
    },
    "id": "0agI9KeW5vUk"
   },
   "outputs": [],
   "source": [
    "test_label_dict={}\n",
    "with open(test_labels_dir) as file:\n",
    "    for _ in range(len_test):\n",
    "        line  = file.readline().strip().split(\",\")\n",
    "        test_label_dict[line[0]] = int(line[1])"
   ]
  },
  {
   "cell_type": "markdown",
   "metadata": {
    "id": "22nz7V-05Mof"
   },
   "source": [
    "### Create word2index and index2word dict"
   ]
  },
  {
   "cell_type": "code",
   "execution_count": 48,
   "metadata": {},
   "outputs": [
    {
     "data": {
      "text/plain": [
       "154800"
      ]
     },
     "execution_count": 48,
     "metadata": {},
     "output_type": "execute_result"
    }
   ],
   "source": [
    "len(train_label_dict)"
   ]
  },
  {
   "cell_type": "code",
   "execution_count": 49,
   "metadata": {},
   "outputs": [
    {
     "data": {
      "text/plain": [
       "17200"
      ]
     },
     "execution_count": 49,
     "metadata": {},
     "output_type": "execute_result"
    }
   ],
   "source": [
    "len(test_label_dict)"
   ]
  },
  {
   "cell_type": "code",
   "execution_count": 50,
   "metadata": {
    "colab": {
     "base_uri": "https://localhost:8080/"
    },
    "executionInfo": {
     "elapsed": 449,
     "status": "ok",
     "timestamp": 1611337649618,
     "user": {
      "displayName": "Prabesh Pathak",
      "photoUrl": "https://lh3.googleusercontent.com/a-/AOh14Gh6ULNXNrYutw3u6ad06TMgRj97zOGaU28QfV_MCg=s64",
      "userId": "10507649871156130542"
     },
     "user_tz": 300
    },
    "id": "RZsZN0Djcoxt",
    "outputId": "248e4089-02ca-46bc-c342-dd809defe8ad"
   },
   "outputs": [
    {
     "name": "stderr",
     "output_type": "stream",
     "text": [
      "/home/ubuntu/anaconda3/lib/python3.7/site-packages/ipykernel_launcher.py:2: DeprecationWarning: Call to deprecated `wv` (Attribute will be removed in 4.0.0, use self instead).\n",
      "  \n"
     ]
    }
   ],
   "source": [
    "tokenizer = Tokenizer(filters='#\\n')\n",
    "tokenizer.fit_on_texts(word2vec_model.wv.vocab.keys())\n",
    "word_index = tokenizer.word_index"
   ]
  },
  {
   "cell_type": "code",
   "execution_count": 51,
   "metadata": {
    "executionInfo": {
     "elapsed": 813,
     "status": "ok",
     "timestamp": 1611337650668,
     "user": {
      "displayName": "Prabesh Pathak",
      "photoUrl": "https://lh3.googleusercontent.com/a-/AOh14Gh6ULNXNrYutw3u6ad06TMgRj97zOGaU28QfV_MCg=s64",
      "userId": "10507649871156130542"
     },
     "user_tz": 300
    },
    "id": "nXIB63ZlL5V5"
   },
   "outputs": [],
   "source": [
    "idx2word = {v: k for k, v in word_index.items()}"
   ]
  },
  {
   "cell_type": "code",
   "execution_count": 52,
   "metadata": {
    "colab": {
     "base_uri": "https://localhost:8080/"
    },
    "executionInfo": {
     "elapsed": 744,
     "status": "ok",
     "timestamp": 1611337651281,
     "user": {
      "displayName": "Prabesh Pathak",
      "photoUrl": "https://lh3.googleusercontent.com/a-/AOh14Gh6ULNXNrYutw3u6ad06TMgRj97zOGaU28QfV_MCg=s64",
      "userId": "10507649871156130542"
     },
     "user_tz": 300
    },
    "id": "CFS9tZrl0urv",
    "outputId": "8b8ad9fb-7080-405d-809e-caa7b1c4b059"
   },
   "outputs": [
    {
     "data": {
      "text/plain": [
       "850192"
      ]
     },
     "execution_count": 52,
     "metadata": {},
     "output_type": "execute_result"
    }
   ],
   "source": [
    "len(word_index)"
   ]
  },
  {
   "cell_type": "markdown",
   "metadata": {
    "id": "L5N0v8CUs0MS"
   },
   "source": [
    "### Create Train and Test Generators"
   ]
  },
  {
   "cell_type": "code",
   "execution_count": 53,
   "metadata": {
    "executionInfo": {
     "elapsed": 669,
     "status": "ok",
     "timestamp": 1611337656149,
     "user": {
      "displayName": "Prabesh Pathak",
      "photoUrl": "https://lh3.googleusercontent.com/a-/AOh14Gh6ULNXNrYutw3u6ad06TMgRj97zOGaU28QfV_MCg=s64",
      "userId": "10507649871156130542"
     },
     "user_tz": 300
    },
    "id": "Z7-pVq9GT7cY"
   },
   "outputs": [],
   "source": [
    "class TrainDataset(torch.utils.data.Dataset):\n",
    "  'Characterizes a dataset for PyTorch'\n",
    "  def __init__(self, files_list, labels):\n",
    "        'Initialization'\n",
    "        self.labels = labels\n",
    "        self.files_list = files_list\n",
    "\n",
    "  def __len__(self):\n",
    "        'Denotes the total number of samples'\n",
    "        return len(self.files_list)\n",
    "\n",
    "  def __getitem__(self, index):\n",
    "        'Generates one sample of data'\n",
    "        # Select sample\n",
    "        ID = self.files_list[index]\n",
    "\n",
    "        train_dir = '/media/data/artifacts/2016/train/'\n",
    "        # Load data and get label\n",
    "        #one_file = torch.load(train_dir + ID)\n",
    "        one_file = open(train_dir + ID,'r').read().strip() \n",
    "        # one_file = torch.load(train_dir + ID + '.txt')\n",
    "\n",
    "        X =  sequence.pad_sequences(tokenizer.texts_to_sequences([one_file]),maxlen=4000, padding='post',truncating='post')\n",
    "    \n",
    "        \n",
    "\n",
    "        if self.labels[ID] == 1:\n",
    "            y = [0,1]\n",
    "        else:\n",
    "            y = [1,0]\n",
    "\n",
    "        #y = self.labels[ID]\n",
    "        #y = torch.from_numpy(y)\n",
    "        y = torch.FloatTensor(y)\n",
    "\n",
    "        return X.squeeze(), y\n"
   ]
  },
  {
   "cell_type": "code",
   "execution_count": 54,
   "metadata": {
    "executionInfo": {
     "elapsed": 968,
     "status": "ok",
     "timestamp": 1611337657499,
     "user": {
      "displayName": "Prabesh Pathak",
      "photoUrl": "https://lh3.googleusercontent.com/a-/AOh14Gh6ULNXNrYutw3u6ad06TMgRj97zOGaU28QfV_MCg=s64",
      "userId": "10507649871156130542"
     },
     "user_tz": 300
    },
    "id": "UQIxSdvgYSH5"
   },
   "outputs": [],
   "source": [
    "class TestDataset(torch.utils.data.Dataset):\n",
    "  'Characterizes a dataset for PyTorch'\n",
    "  def __init__(self, files_list, labels):\n",
    "        'Initialization'\n",
    "        self.labels = labels\n",
    "        self.files_list = files_list\n",
    "\n",
    "  def __len__(self):\n",
    "        'Denotes the total number of samples'\n",
    "        return len(self.files_list)\n",
    "\n",
    "  def __getitem__(self, index):\n",
    "        'Generates one sample of data'\n",
    "        # Select sample\n",
    "        ID = self.files_list[index]\n",
    "\n",
    "        test_dir = '/media/data/artifacts/2016/test/'\n",
    "        # Load data and get label\n",
    "\n",
    "        one_file = open(test_dir + ID,'r').read().strip() \n",
    "\n",
    "        X =  sequence.pad_sequences(tokenizer.texts_to_sequences([one_file]),maxlen=4000, padding='post',truncating='post')\n",
    "    \n",
    "        \n",
    "\n",
    "        if self.labels[ID] == 1:\n",
    "            y = [0,1]           #malicious\n",
    "        else:\n",
    "            y = [1,0]           #benign\n",
    "\n",
    "        #y = self.labels[ID]\n",
    "        #y = torch.from_numpy(y)\n",
    "        y = torch.FloatTensor(y)\n",
    "\n",
    "        return X.squeeze(), y"
   ]
  },
  {
   "cell_type": "code",
   "execution_count": 55,
   "metadata": {
    "executionInfo": {
     "elapsed": 930,
     "status": "ok",
     "timestamp": 1611337657711,
     "user": {
      "displayName": "Prabesh Pathak",
      "photoUrl": "https://lh3.googleusercontent.com/a-/AOh14Gh6ULNXNrYutw3u6ad06TMgRj97zOGaU28QfV_MCg=s64",
      "userId": "10507649871156130542"
     },
     "user_tz": 300
    },
    "id": "OVTzK0TOXZR8"
   },
   "outputs": [],
   "source": [
    "train = list(train_label_dict.keys())\n",
    "test = list(test_label_dict.keys())\n",
    "partition = {}\n",
    "partition['train'] = train\n",
    "partition['test'] = test\n",
    "train_labels= train_label_dict\n",
    "test_labels= test_label_dict"
   ]
  },
  {
   "cell_type": "code",
   "execution_count": 56,
   "metadata": {},
   "outputs": [],
   "source": [
    "# import itertools\n",
    "# t=dict(itertools.islice(test_labels.items(),8000))\n",
    "# partition['test'] = t\n",
    "# len(t)"
   ]
  },
  {
   "cell_type": "code",
   "execution_count": 57,
   "metadata": {
    "executionInfo": {
     "elapsed": 1099,
     "status": "ok",
     "timestamp": 1611337658863,
     "user": {
      "displayName": "Prabesh Pathak",
      "photoUrl": "https://lh3.googleusercontent.com/a-/AOh14Gh6ULNXNrYutw3u6ad06TMgRj97zOGaU28QfV_MCg=s64",
      "userId": "10507649871156130542"
     },
     "user_tz": 300
    },
    "id": "12TiAtqMT7gK"
   },
   "outputs": [],
   "source": [
    "params1 = {'batch_size': 4,\n",
    "          'shuffle': True,\n",
    "          'drop_last': True,\n",
    "          'num_workers': 5}\n",
    "\n",
    "params2 = {'batch_size': 4,\n",
    "          'shuffle': False,\n",
    "          'drop_last': True,\n",
    "          'num_workers': 5}\n",
    "max_epochs = 1\n",
    "\n",
    "# Train Generators\n",
    "train_set = TrainDataset(partition['train'], train_labels)\n",
    "#training_generator = torch.utils.data.DataLoader(train_set, **params1)\n",
    "training_set, val_set = torch.utils.data.random_split(train_set, [140800, 14000])\n",
    "training_generator = torch.utils.data.DataLoader(training_set, **params1)\n",
    "validation_generator = torch.utils.data.DataLoader(val_set, **params1)\n",
    "\n",
    "# Test Generators\n",
    "test_set = TestDataset(partition['test'], test_labels)\n",
    "test_generator = torch.utils.data.DataLoader(test_set, **params2)\n",
    "\n"
   ]
  },
  {
   "cell_type": "code",
   "execution_count": 58,
   "metadata": {
    "colab": {
     "base_uri": "https://localhost:8080/"
    },
    "executionInfo": {
     "elapsed": 603,
     "status": "ok",
     "timestamp": 1611337660990,
     "user": {
      "displayName": "Prabesh Pathak",
      "photoUrl": "https://lh3.googleusercontent.com/a-/AOh14Gh6ULNXNrYutw3u6ad06TMgRj97zOGaU28QfV_MCg=s64",
      "userId": "10507649871156130542"
     },
     "user_tz": 300
    },
    "id": "heXnuEUyt7Lc",
    "outputId": "8d93f000-4c19-49ce-9976-586514e127b8"
   },
   "outputs": [
    {
     "name": "stdout",
     "output_type": "stream",
     "text": [
      "140800\n",
      "14000\n",
      "17200\n"
     ]
    }
   ],
   "source": [
    "print(len(training_set))\n",
    "print(len(val_set))\n",
    "print(len(test_set))"
   ]
  },
  {
   "cell_type": "code",
   "execution_count": 59,
   "metadata": {
    "colab": {
     "base_uri": "https://localhost:8080/"
    },
    "executionInfo": {
     "elapsed": 536,
     "status": "ok",
     "timestamp": 1611337661894,
     "user": {
      "displayName": "Prabesh Pathak",
      "photoUrl": "https://lh3.googleusercontent.com/a-/AOh14Gh6ULNXNrYutw3u6ad06TMgRj97zOGaU28QfV_MCg=s64",
      "userId": "10507649871156130542"
     },
     "user_tz": 300
    },
    "id": "NKaKFKiWT7jw",
    "outputId": "e1ebdb7d-7a80-4447-c8cc-0e0c5a7a97eb"
   },
   "outputs": [
    {
     "name": "stdout",
     "output_type": "stream",
     "text": [
      "35200\n",
      "3500\n",
      "4300\n"
     ]
    }
   ],
   "source": [
    "print(len(training_generator))\n",
    "print(len(validation_generator))\n",
    "print(len(test_generator))"
   ]
  },
  {
   "cell_type": "markdown",
   "metadata": {
    "id": "AYnuAdlVs8X4"
   },
   "source": [
    "### Check GPU"
   ]
  },
  {
   "cell_type": "code",
   "execution_count": 60,
   "metadata": {
    "colab": {
     "base_uri": "https://localhost:8080/"
    },
    "executionInfo": {
     "elapsed": 762,
     "status": "ok",
     "timestamp": 1611337691918,
     "user": {
      "displayName": "Prabesh Pathak",
      "photoUrl": "https://lh3.googleusercontent.com/a-/AOh14Gh6ULNXNrYutw3u6ad06TMgRj97zOGaU28QfV_MCg=s64",
      "userId": "10507649871156130542"
     },
     "user_tz": 300
    },
    "id": "lJTlvI9qT7mk",
    "outputId": "6bed57d8-d1ff-4559-8e48-4a7f5f0cb85f"
   },
   "outputs": [
    {
     "data": {
      "text/plain": [
       "device(type='cuda')"
      ]
     },
     "execution_count": 60,
     "metadata": {},
     "output_type": "execute_result"
    }
   ],
   "source": [
    "# torch.cuda.is_available() checks and returns a Boolean True if a GPU is available, else it'll return False\n",
    "is_cuda = torch.cuda.is_available()\n",
    "\n",
    "# If we have a GPU available, we'll set our device to GPU. We'll use this device variable later in our code.\n",
    "if is_cuda:\n",
    "    device = torch.device(\"cuda\")\n",
    "else:\n",
    "    device = torch.device(\"cpu\")\n",
    "\n",
    "device"
   ]
  },
  {
   "cell_type": "markdown",
   "metadata": {
    "id": "VhVJo9urtADQ"
   },
   "source": [
    "### Training"
   ]
  },
  {
   "cell_type": "code",
   "execution_count": 61,
   "metadata": {
    "executionInfo": {
     "elapsed": 745,
     "status": "ok",
     "timestamp": 1611337693674,
     "user": {
      "displayName": "Prabesh Pathak",
      "photoUrl": "https://lh3.googleusercontent.com/a-/AOh14Gh6ULNXNrYutw3u6ad06TMgRj97zOGaU28QfV_MCg=s64",
      "userId": "10507649871156130542"
     },
     "user_tz": 300
    },
    "id": "A5hlF47hXvhV"
   },
   "outputs": [],
   "source": [
    "class MultiHeadAttention(nn.Module):\n",
    "    def __init__(self, d_model, num_heads, p, d_input=None):\n",
    "        super().__init__()\n",
    "        self.num_heads = num_heads\n",
    "        self.d_model = d_model\n",
    "        if d_input is None:\n",
    "            d_xq = d_xk = d_xv = d_model\n",
    "        else:\n",
    "            d_xq, d_xk, d_xv = d_input\n",
    "            \n",
    "        # Make sure that the embedding dimension of model is a multiple of number of heads\n",
    "        assert d_model % self.num_heads == 0\n",
    "\n",
    "        self.d_k = d_model // self.num_heads\n",
    "        \n",
    "        # These are still of dimension d_model. They will be split into number of heads \n",
    "        self.W_q = nn.Linear(d_xq, d_model, bias=False)\n",
    "        self.W_k = nn.Linear(d_xk, d_model, bias=False)\n",
    "        self.W_v = nn.Linear(d_xv, d_model, bias=False)\n",
    "        \n",
    "        # Outputs of all sub-layers need to be of dimension d_model\n",
    "        self.W_h = nn.Linear(d_model, d_model)\n",
    "        \n",
    "    def scaled_dot_product_attention(self, Q, K, V):\n",
    "        batch_size = Q.size(0) \n",
    "        k_length = K.size(-2) \n",
    "        \n",
    "        # Scaling by d_k so that the soft(arg)max doesnt saturate\n",
    "        Q = Q / np.sqrt(self.d_k)                         # (bs, n_heads, q_length, dim_per_head)\n",
    "        scores = torch.matmul(Q, K.transpose(2,3))          # (bs, n_heads, q_length, k_length)\n",
    "        \n",
    "        A = nn_Softargmax(dim=-1)(scores)   # (bs, n_heads, q_length, k_length)\n",
    "        \n",
    "        # Get the weighted average of the values\n",
    "        H = torch.matmul(A, V)     # (bs, n_heads, q_length, dim_per_head)\n",
    "\n",
    "        return H, A \n",
    "\n",
    "        \n",
    "    def split_heads(self, x, batch_size):\n",
    "        \"\"\"\n",
    "        Split the last dimension into (heads X depth)\n",
    "        Return after transpose to put in shape (batch_size X num_heads X seq_length X d_k)\n",
    "        \"\"\"\n",
    "        return x.view(batch_size, -1, self.num_heads, self.d_k).transpose(1, 2)\n",
    "\n",
    "    def group_heads(self, x, batch_size):\n",
    "        \"\"\"\n",
    "        Combine the heads again to get (batch_size X seq_length X (num_heads times d_k))\n",
    "        \"\"\"\n",
    "        return x.transpose(1, 2).contiguous().view(batch_size, -1, self.num_heads * self.d_k)\n",
    "    \n",
    "\n",
    "    def forward(self, X_q, X_k, X_v):\n",
    "        batch_size, seq_length, dim = X_q.size()\n",
    "\n",
    "        # After transforming, split into num_heads \n",
    "        Q = self.split_heads(self.W_q(X_q), batch_size)  # (bs, n_heads, q_length, dim_per_head)\n",
    "        K = self.split_heads(self.W_k(X_k), batch_size)  # (bs, n_heads, k_length, dim_per_head)\n",
    "        V = self.split_heads(self.W_v(X_v), batch_size)  # (bs, n_heads, v_length, dim_per_head)\n",
    "        \n",
    "        # Calculate the attention weights for each of the heads\n",
    "        H_cat, A = self.scaled_dot_product_attention(Q, K, V)\n",
    "        \n",
    "        # Put all the heads back together by concat\n",
    "        H_cat = self.group_heads(H_cat, batch_size)    # (bs, q_length, dim)\n",
    "        \n",
    "        # Final linear layer  \n",
    "        H = self.W_h(H_cat)          # (bs, q_length, dim)\n",
    "        # print('MHA attn weight shape:', A.shape)\n",
    "        # print('MHA output shape:', H.shape)\n",
    "        \n",
    "        return H, A"
   ]
  },
  {
   "cell_type": "code",
   "execution_count": 62,
   "metadata": {},
   "outputs": [],
   "source": [
    "class CNN(nn.Module):\n",
    "    def __init__(self, d_model, hidden_dim, p):\n",
    "        super().__init__()\n",
    "        self.k1convL1 = nn.Linear(d_model,    hidden_dim)\n",
    "        self.k1convL2 = nn.Linear(hidden_dim, d_model)\n",
    "        self.activation = nn.ReLU()\n",
    "        \n",
    "        self.k1convL1 = nn.Linear(d_model,    hidden_dim)\n",
    "        self.k1convL2 = nn.Linear(hidden_dim, d_model)\n",
    "        self.activation = nn.ReLU()\n",
    "\n",
    "    def forward(self, x):\n",
    "        x = self.k1convL1(x)\n",
    "        x = self.activation(x)\n",
    "        x = self.k1convL2(x)\n",
    "        return x"
   ]
  },
  {
   "cell_type": "code",
   "execution_count": 63,
   "metadata": {},
   "outputs": [],
   "source": [
    "class EncoderLayer(nn.Module):\n",
    "    def __init__(self, d_model, num_heads, conv_hidden_dim, p=0.1):\n",
    "        super().__init__()\n",
    "\n",
    "        self.mha = MultiHeadAttention(d_model, num_heads, p)\n",
    "        self.cnn = CNN(d_model, conv_hidden_dim, p)\n",
    "\n",
    "        self.layernorm1 = nn.LayerNorm(normalized_shape=d_model, eps=1e-6)\n",
    "        self.layernorm2 = nn.LayerNorm(normalized_shape=d_model, eps=1e-6)\n",
    "    \n",
    "    def forward(self, x):\n",
    "        \n",
    "        # Multi-head attention \n",
    "        attn_output, attn_weights = self.mha(x, x, x)  # (batch_size, input_seq_len, d_model)\n",
    "        \n",
    "        # Layer norm after adding the residual connection \n",
    "        out1 = self.layernorm1(x + attn_output)  # (batch_size, input_seq_len, d_model)\n",
    "        \n",
    "        # Feed forward \n",
    "        cnn_output = self.cnn(out1)  # (batch_size, input_seq_len, d_model)\n",
    "        \n",
    "        #Second layer norm after adding residual connection \n",
    "        out2 = self.layernorm2(out1 + cnn_output)  # (batch_size, input_seq_len, d_model)\n",
    "\n",
    "        return out2, attn_weights"
   ]
  },
  {
   "cell_type": "code",
   "execution_count": 64,
   "metadata": {},
   "outputs": [],
   "source": [
    "def create_sinusoidal_embeddings(nb_p, dim, E):\n",
    "    theta = np.array([\n",
    "        [p / np.power(10000, 2 * (j // 2) / dim) for j in range(dim)]\n",
    "        for p in range(nb_p)\n",
    "    ])\n",
    "    E[:, 0::2] = torch.FloatTensor(np.sin(theta[:, 0::2]))\n",
    "    E[:, 1::2] = torch.FloatTensor(np.cos(theta[:, 1::2]))\n",
    "    E.detach_()\n",
    "    E.requires_grad = False\n",
    "    E = E.to(device)\n",
    "\n",
    "class Embeddings(nn.Module):\n",
    "    def __init__(self, embedding_matrix, d_model, vocab_size, max_position_embeddings, p):\n",
    "        super().__init__()\n",
    "#         self.word_embeddings = nn.Embedding(vocab_size, d_model, padding_idx=0)\n",
    "\n",
    "        # self.word_embeddings = nn.Embedding(vocab_size, d_model)\n",
    "        # # pretrained_weight is a numpy matrix of shape (num_embeddings, d_model)\n",
    "        # self.word_embeddings.weight.data.copy_(torch.from_numpy(embedding_matrix))\n",
    "        # self.word_embeddings.weight.requires_grad=False\n",
    "\n",
    "        self.word_embeddings = nn.Embedding.from_pretrained(embedding_matrix,freeze=True)\n",
    "        # self.word_embeddings = nn.Embedding(vocab_size, d_model)\n",
    "        # self.embedding.weight.data.copy_(torch.from_numpy(embedding_matrix))\n",
    "        # self.word_embeddings.weight.requires_grad=False\n",
    "        \n",
    "        self.position_embeddings = nn.Embedding(max_position_embeddings, d_model)\n",
    "        create_sinusoidal_embeddings(\n",
    "            nb_p=max_position_embeddings,\n",
    "            dim=d_model,\n",
    "            E=self.position_embeddings.weight\n",
    "        )\n",
    "\n",
    "        self.LayerNorm = nn.LayerNorm(d_model, eps=1e-12)\n",
    "\n",
    "    def forward(self, input_ids):\n",
    "        seq_length = input_ids.size(1)\n",
    "        position_ids = torch.arange(seq_length, dtype=torch.long, device=input_ids.device) # (max_seq_length)\n",
    "        position_ids = position_ids.unsqueeze(0).expand_as(input_ids)                      # (bs, max_seq_length)\n",
    "        \n",
    "        # Get word embeddings for each input id\n",
    "        word_embeddings = self.word_embeddings(input_ids)                   # (bs, max_seq_length, dim)\n",
    "        \n",
    "        # Get position embeddings for each position id \n",
    "        position_embeddings = self.position_embeddings(position_ids)        # (bs, max_seq_length, dim)\n",
    "        \n",
    "        # Add them both \n",
    "        embeddings = word_embeddings + position_embeddings  # (bs, max_seq_length, dim)\n",
    "        \n",
    "        # Layer norm \n",
    "        embeddings = self.LayerNorm(embeddings)             # (bs, max_seq_length, dim)\n",
    "        return embeddings"
   ]
  },
  {
   "cell_type": "code",
   "execution_count": 65,
   "metadata": {},
   "outputs": [],
   "source": [
    "class Encoder(nn.Module):\n",
    "    def __init__(self,embedding_matrix, num_layers, d_model, num_heads, ff_hidden_dim, input_vocab_size,\n",
    "               maximum_position_encoding, p=0.1):\n",
    "        super().__init__()\n",
    "\n",
    "        self.d_model = d_model\n",
    "        self.num_layers = num_layers\n",
    "\n",
    "        self.embedding = Embeddings(embedding_matrix, d_model, input_vocab_size,maximum_position_encoding, p)\n",
    "        # self.embedding = nn.Embedding.from_pretrained(embedding_matrix,freeze=True)\n",
    "\n",
    "\n",
    "        self.enc_layers = nn.ModuleList()\n",
    "        for _ in range(num_layers):\n",
    "            self.enc_layers.append(EncoderLayer(d_model, num_heads, ff_hidden_dim, p))\n",
    "        \n",
    "    def forward(self, x):\n",
    "        x = self.embedding(x) # Transform to (batch_size, input_seq_length, d_model)\n",
    "\n",
    "        for i in range(self.num_layers):\n",
    "            x, attn_weights = self.enc_layers[i](x)\n",
    "\n",
    "        return x, attn_weights  # (batch_size, input_seq_len, d_model)"
   ]
  },
  {
   "cell_type": "code",
   "execution_count": 66,
   "metadata": {},
   "outputs": [],
   "source": [
    "class TransformerClassifier(nn.Module):\n",
    "    def __init__(self,embedding_matrix, num_layers, d_model, num_heads, conv_hidden_dim, input_vocab_size, num_answers):\n",
    "        super().__init__()\n",
    "        \n",
    "        # self.encoder = Encoder(num_layers, d_model, num_heads, conv_hidden_dim, input_vocab_size,\n",
    "        #                  maximum_position_encoding=10000)\n",
    "        self.encoder = Encoder(embedding_matrix, num_layers, d_model, num_heads, conv_hidden_dim, input_vocab_size,\n",
    "                         maximum_position_encoding=10000)\n",
    "        self.dense = nn.Linear(d_model, 1)\n",
    "#         self.dense11 = nn.Linear(256, 1)\n",
    "        self.dropout = nn.Dropout(p=0.2)\n",
    "        self.tanh = nn.Tanh()\n",
    "        self.softmax_fc = nn.Softmax(dim=1)\n",
    "        self.dense2 = nn.Linear(4000, num_answers)\n",
    "\n",
    "    def forward(self, x):\n",
    "        x, attn_weights = self.encoder(x)\n",
    "        # print('out1',x.shape)\n",
    "        # [100,200,32]\n",
    "        # print('attn1',attn_weights.shape)\n",
    "        \n",
    "        #x, _ = torch.max(x, dim=1)\n",
    "        out = self.dense(x)\n",
    "#         out = self.dense11(out)\n",
    "        out = self.dropout(out)\n",
    "        out = self.tanh(out)\n",
    "        # print('out dense1',out.shape)\n",
    "        # [100,200,1]\n",
    "        # print('attn dense1',attn_weights.shape)\n",
    "        out = out.squeeze()\n",
    "        # [100,200,1]\n",
    "        out = self.dense2(out)\n",
    "        out = self.softmax_fc(out)\n",
    "        # [100,2]\n",
    "        # print('out final ',out.shape)\n",
    "        # print('attn final ',attn_weights.shape)\n",
    "        return out, attn_weights"
   ]
  },
  {
   "cell_type": "code",
   "execution_count": 67,
   "metadata": {},
   "outputs": [],
   "source": [
    "embedding_matrix = torch.FloatTensor(word2vec_model.vectors)"
   ]
  },
  {
   "cell_type": "code",
   "execution_count": 68,
   "metadata": {},
   "outputs": [
    {
     "name": "stderr",
     "output_type": "stream",
     "text": [
      "/home/ubuntu/anaconda3/lib/python3.7/site-packages/ipykernel_launcher.py:1: DeprecationWarning: Call to deprecated `wv` (Attribute will be removed in 4.0.0, use self instead).\n",
      "  \"\"\"Entry point for launching an IPython kernel.\n"
     ]
    },
    {
     "data": {
      "text/plain": [
       "TransformerClassifier(\n",
       "  (encoder): Encoder(\n",
       "    (embedding): Embeddings(\n",
       "      (word_embeddings): Embedding(850193, 256)\n",
       "      (position_embeddings): Embedding(10000, 256)\n",
       "      (LayerNorm): LayerNorm((256,), eps=1e-12, elementwise_affine=True)\n",
       "    )\n",
       "    (enc_layers): ModuleList(\n",
       "      (0): EncoderLayer(\n",
       "        (mha): MultiHeadAttention(\n",
       "          (W_q): Linear(in_features=256, out_features=256, bias=False)\n",
       "          (W_k): Linear(in_features=256, out_features=256, bias=False)\n",
       "          (W_v): Linear(in_features=256, out_features=256, bias=False)\n",
       "          (W_h): Linear(in_features=256, out_features=256, bias=True)\n",
       "        )\n",
       "        (cnn): CNN(\n",
       "          (k1convL1): Linear(in_features=256, out_features=16, bias=True)\n",
       "          (k1convL2): Linear(in_features=16, out_features=256, bias=True)\n",
       "          (activation): ReLU()\n",
       "        )\n",
       "        (layernorm1): LayerNorm((256,), eps=1e-06, elementwise_affine=True)\n",
       "        (layernorm2): LayerNorm((256,), eps=1e-06, elementwise_affine=True)\n",
       "      )\n",
       "    )\n",
       "  )\n",
       "  (dense): Linear(in_features=256, out_features=1, bias=True)\n",
       "  (dropout): Dropout(p=0.2, inplace=False)\n",
       "  (tanh): Tanh()\n",
       "  (softmax_fc): Softmax(dim=1)\n",
       "  (dense2): Linear(in_features=4000, out_features=2, bias=True)\n",
       ")"
      ]
     },
     "execution_count": 68,
     "metadata": {},
     "output_type": "execute_result"
    }
   ],
   "source": [
    "vocab_size = len(word2vec_model.wv.vocab)+1\n",
    "batch_size = 10\n",
    "output_size = 2\n",
    "embedding_dim = 256\n",
    "#embedding_dim = 100\n",
    "conv_dim = 16\n",
    "n_layers = 1\n",
    "drop_prob=0.3\n",
    "model = TransformerClassifier(embedding_matrix, num_layers=1, d_model=embedding_dim, num_heads=2,conv_hidden_dim=conv_dim, input_vocab_size=vocab_size, num_answers=output_size)\n",
    "# model= nn.DataParallel(model)\n",
    "model.to(device)\n",
    "model"
   ]
  },
  {
   "cell_type": "code",
   "execution_count": null,
   "metadata": {},
   "outputs": [],
   "source": []
  },
  {
   "cell_type": "code",
   "execution_count": 69,
   "metadata": {},
   "outputs": [
    {
     "data": {
      "text/html": [
       "<div>\n",
       "<style scoped>\n",
       "    .dataframe tbody tr th:only-of-type {\n",
       "        vertical-align: middle;\n",
       "    }\n",
       "\n",
       "    .dataframe tbody tr th {\n",
       "        vertical-align: top;\n",
       "    }\n",
       "\n",
       "    .dataframe thead th {\n",
       "        text-align: right;\n",
       "    }\n",
       "</style>\n",
       "<table border=\"1\" class=\"dataframe\">\n",
       "  <thead>\n",
       "    <tr style=\"text-align: right;\">\n",
       "      <th></th>\n",
       "      <th>layers</th>\n",
       "      <th>shape</th>\n",
       "      <th>parameters</th>\n",
       "      <th>requires_grad</th>\n",
       "    </tr>\n",
       "  </thead>\n",
       "  <tbody>\n",
       "    <tr>\n",
       "      <th>0</th>\n",
       "      <td>encoder.embedding.word_embeddings.weight</td>\n",
       "      <td>torch.Size([850193, 256])</td>\n",
       "      <td>217649408</td>\n",
       "      <td>False</td>\n",
       "    </tr>\n",
       "    <tr>\n",
       "      <th>1</th>\n",
       "      <td>encoder.embedding.position_embeddings.weight</td>\n",
       "      <td>torch.Size([10000, 256])</td>\n",
       "      <td>2560000</td>\n",
       "      <td>False</td>\n",
       "    </tr>\n",
       "    <tr>\n",
       "      <th>2</th>\n",
       "      <td>encoder.embedding.LayerNorm.weight</td>\n",
       "      <td>torch.Size([256])</td>\n",
       "      <td>256</td>\n",
       "      <td>True</td>\n",
       "    </tr>\n",
       "    <tr>\n",
       "      <th>3</th>\n",
       "      <td>encoder.embedding.LayerNorm.bias</td>\n",
       "      <td>torch.Size([256])</td>\n",
       "      <td>256</td>\n",
       "      <td>True</td>\n",
       "    </tr>\n",
       "    <tr>\n",
       "      <th>4</th>\n",
       "      <td>encoder.enc_layers.0.mha.W_q.weight</td>\n",
       "      <td>torch.Size([256, 256])</td>\n",
       "      <td>65536</td>\n",
       "      <td>True</td>\n",
       "    </tr>\n",
       "    <tr>\n",
       "      <th>5</th>\n",
       "      <td>encoder.enc_layers.0.mha.W_k.weight</td>\n",
       "      <td>torch.Size([256, 256])</td>\n",
       "      <td>65536</td>\n",
       "      <td>True</td>\n",
       "    </tr>\n",
       "    <tr>\n",
       "      <th>6</th>\n",
       "      <td>encoder.enc_layers.0.mha.W_v.weight</td>\n",
       "      <td>torch.Size([256, 256])</td>\n",
       "      <td>65536</td>\n",
       "      <td>True</td>\n",
       "    </tr>\n",
       "    <tr>\n",
       "      <th>7</th>\n",
       "      <td>encoder.enc_layers.0.mha.W_h.weight</td>\n",
       "      <td>torch.Size([256, 256])</td>\n",
       "      <td>65536</td>\n",
       "      <td>True</td>\n",
       "    </tr>\n",
       "    <tr>\n",
       "      <th>8</th>\n",
       "      <td>encoder.enc_layers.0.mha.W_h.bias</td>\n",
       "      <td>torch.Size([256])</td>\n",
       "      <td>256</td>\n",
       "      <td>True</td>\n",
       "    </tr>\n",
       "    <tr>\n",
       "      <th>9</th>\n",
       "      <td>encoder.enc_layers.0.cnn.k1convL1.weight</td>\n",
       "      <td>torch.Size([16, 256])</td>\n",
       "      <td>4096</td>\n",
       "      <td>True</td>\n",
       "    </tr>\n",
       "    <tr>\n",
       "      <th>10</th>\n",
       "      <td>encoder.enc_layers.0.cnn.k1convL1.bias</td>\n",
       "      <td>torch.Size([16])</td>\n",
       "      <td>16</td>\n",
       "      <td>True</td>\n",
       "    </tr>\n",
       "    <tr>\n",
       "      <th>11</th>\n",
       "      <td>encoder.enc_layers.0.cnn.k1convL2.weight</td>\n",
       "      <td>torch.Size([256, 16])</td>\n",
       "      <td>4096</td>\n",
       "      <td>True</td>\n",
       "    </tr>\n",
       "    <tr>\n",
       "      <th>12</th>\n",
       "      <td>encoder.enc_layers.0.cnn.k1convL2.bias</td>\n",
       "      <td>torch.Size([256])</td>\n",
       "      <td>256</td>\n",
       "      <td>True</td>\n",
       "    </tr>\n",
       "    <tr>\n",
       "      <th>13</th>\n",
       "      <td>encoder.enc_layers.0.layernorm1.weight</td>\n",
       "      <td>torch.Size([256])</td>\n",
       "      <td>256</td>\n",
       "      <td>True</td>\n",
       "    </tr>\n",
       "    <tr>\n",
       "      <th>14</th>\n",
       "      <td>encoder.enc_layers.0.layernorm1.bias</td>\n",
       "      <td>torch.Size([256])</td>\n",
       "      <td>256</td>\n",
       "      <td>True</td>\n",
       "    </tr>\n",
       "    <tr>\n",
       "      <th>15</th>\n",
       "      <td>encoder.enc_layers.0.layernorm2.weight</td>\n",
       "      <td>torch.Size([256])</td>\n",
       "      <td>256</td>\n",
       "      <td>True</td>\n",
       "    </tr>\n",
       "    <tr>\n",
       "      <th>16</th>\n",
       "      <td>encoder.enc_layers.0.layernorm2.bias</td>\n",
       "      <td>torch.Size([256])</td>\n",
       "      <td>256</td>\n",
       "      <td>True</td>\n",
       "    </tr>\n",
       "    <tr>\n",
       "      <th>17</th>\n",
       "      <td>dense.weight</td>\n",
       "      <td>torch.Size([1, 256])</td>\n",
       "      <td>256</td>\n",
       "      <td>True</td>\n",
       "    </tr>\n",
       "    <tr>\n",
       "      <th>18</th>\n",
       "      <td>dense.bias</td>\n",
       "      <td>torch.Size([1])</td>\n",
       "      <td>1</td>\n",
       "      <td>True</td>\n",
       "    </tr>\n",
       "    <tr>\n",
       "      <th>19</th>\n",
       "      <td>dense2.weight</td>\n",
       "      <td>torch.Size([2, 4000])</td>\n",
       "      <td>8000</td>\n",
       "      <td>True</td>\n",
       "    </tr>\n",
       "    <tr>\n",
       "      <th>20</th>\n",
       "      <td>dense2.bias</td>\n",
       "      <td>torch.Size([2])</td>\n",
       "      <td>2</td>\n",
       "      <td>True</td>\n",
       "    </tr>\n",
       "  </tbody>\n",
       "</table>\n",
       "</div>"
      ],
      "text/plain": [
       "                                          layers                      shape  \\\n",
       "0       encoder.embedding.word_embeddings.weight  torch.Size([850193, 256])   \n",
       "1   encoder.embedding.position_embeddings.weight   torch.Size([10000, 256])   \n",
       "2             encoder.embedding.LayerNorm.weight          torch.Size([256])   \n",
       "3               encoder.embedding.LayerNorm.bias          torch.Size([256])   \n",
       "4            encoder.enc_layers.0.mha.W_q.weight     torch.Size([256, 256])   \n",
       "5            encoder.enc_layers.0.mha.W_k.weight     torch.Size([256, 256])   \n",
       "6            encoder.enc_layers.0.mha.W_v.weight     torch.Size([256, 256])   \n",
       "7            encoder.enc_layers.0.mha.W_h.weight     torch.Size([256, 256])   \n",
       "8              encoder.enc_layers.0.mha.W_h.bias          torch.Size([256])   \n",
       "9       encoder.enc_layers.0.cnn.k1convL1.weight      torch.Size([16, 256])   \n",
       "10        encoder.enc_layers.0.cnn.k1convL1.bias           torch.Size([16])   \n",
       "11      encoder.enc_layers.0.cnn.k1convL2.weight      torch.Size([256, 16])   \n",
       "12        encoder.enc_layers.0.cnn.k1convL2.bias          torch.Size([256])   \n",
       "13        encoder.enc_layers.0.layernorm1.weight          torch.Size([256])   \n",
       "14          encoder.enc_layers.0.layernorm1.bias          torch.Size([256])   \n",
       "15        encoder.enc_layers.0.layernorm2.weight          torch.Size([256])   \n",
       "16          encoder.enc_layers.0.layernorm2.bias          torch.Size([256])   \n",
       "17                                  dense.weight       torch.Size([1, 256])   \n",
       "18                                    dense.bias            torch.Size([1])   \n",
       "19                                 dense2.weight      torch.Size([2, 4000])   \n",
       "20                                   dense2.bias            torch.Size([2])   \n",
       "\n",
       "   parameters requires_grad  \n",
       "0   217649408         False  \n",
       "1     2560000         False  \n",
       "2         256          True  \n",
       "3         256          True  \n",
       "4       65536          True  \n",
       "5       65536          True  \n",
       "6       65536          True  \n",
       "7       65536          True  \n",
       "8         256          True  \n",
       "9        4096          True  \n",
       "10         16          True  \n",
       "11       4096          True  \n",
       "12        256          True  \n",
       "13        256          True  \n",
       "14        256          True  \n",
       "15        256          True  \n",
       "16        256          True  \n",
       "17        256          True  \n",
       "18          1          True  \n",
       "19       8000          True  \n",
       "20          2          True  "
      ]
     },
     "execution_count": 69,
     "metadata": {},
     "output_type": "execute_result"
    }
   ],
   "source": [
    "columns = ['layers', 'shape', 'parameters']\n",
    "df = pd.DataFrame(columns=columns)\n",
    "n = []\n",
    "s = []\n",
    "p = []\n",
    "r = []\n",
    "for name, param in model.named_parameters():\n",
    "\n",
    "    n.append(str(name))\n",
    "    s.append(str(param.shape))\n",
    "    p.append(str(param.numel()))\n",
    "    r.append(str(param.requires_grad))\n",
    "\n",
    "\n",
    "df['layers'] = n\n",
    "df['shape'] = s\n",
    "df['parameters'] = p\n",
    "df['requires_grad'] = r\n",
    "df"
   ]
  },
  {
   "cell_type": "code",
   "execution_count": null,
   "metadata": {},
   "outputs": [],
   "source": []
  },
  {
   "cell_type": "code",
   "execution_count": 111,
   "metadata": {},
   "outputs": [
    {
     "name": "stderr",
     "output_type": "stream",
     "text": [
      "28-Feb-21 22:37:58 - Epoch 11: 0.218813 loss, 0.218259 val loss\n",
      "28-Feb-21 23:15:59 - Epoch 12: 0.217931 loss, 0.269994 val loss\n",
      "28-Feb-21 23:52:01 - Epoch 13: 0.217748 loss, 0.222012 val loss\n",
      "01-Mar-21 00:27:32 - Epoch 14: 0.216860 loss, 0.210403 val loss\n",
      "01-Mar-21 01:03:10 - Epoch 15: 0.216181 loss, 0.207700 val loss\n",
      "01-Mar-21 01:38:26 - Epoch 16: 0.214891 loss, 0.212424 val loss\n",
      "01-Mar-21 02:13:34 - Epoch 17: 0.214437 loss, 0.208430 val loss\n",
      "01-Mar-21 02:48:39 - Epoch 18: 0.213096 loss, 0.207380 val loss\n",
      "01-Mar-21 03:24:01 - Epoch 19: 0.212760 loss, 0.208072 val loss\n",
      "01-Mar-21 03:59:19 - Epoch 20: 0.212214 loss, 0.212025 val loss\n"
     ]
    }
   ],
   "source": [
    "# [ lr = 0.001,bs=200,d_model=32,conv_dim=32]\n",
    "model.train()\n",
    "epochs = 20\n",
    "counter = 0\n",
    "clip = 5\n",
    "print_every = 100\n",
    "valid_loss_min = np.Inf\n",
    "all_weights = []\n",
    "all_train_loss = []\n",
    "all_val_loss = []\n",
    "eps = []\n",
    "criterion = nn.BCELoss()\n",
    "#criterion = nn.CrossEntropyLoss()\n",
    "# optimizer = optim.Adam(model.parameters(), lr=0.005)\n",
    "optimizer = optim.Adam(model.parameters(), lr=0.0005, weight_decay=5e-4)\n",
    "# optimizer = optim.Adam(model.parameters(), lr=0.001, weight_decay=1e-3)\n",
    "# optimizer = optim.Adam(model.parameters(), lr=0.005)\n",
    "#optimizer = optim.Adam(model.parameters(), lr=0.001, weight_decay=1e-3)\n",
    "#optimizer = optim.Adam(model.parameters(), lr=0.01)\n",
    "#optimizer = optim.RMSprop(model.parameters(), lr=0.01)\n",
    "val_loader = validation_generator\n",
    "model_dir = '/media/data/artifacts/2016/models/tra/'\n",
    "\n",
    "\n",
    "\n",
    "for epoch in range(10,epochs):\n",
    "    #state_h, state_c = model.init_state(sequence_length)\n",
    "    model.train()\n",
    "    # h = model.init_state(batch_size)\n",
    "\n",
    "    train_losses = []\n",
    "    validation_losses = []\n",
    "\n",
    "    for inputs, labels in training_generator:\n",
    "        counter += 1\n",
    "        # h = tuple([e.data for e in h])\n",
    "        # h = [x.to(device) for x in h]\n",
    "        inputs, labels = inputs.to(device).long(), labels.to(device)\n",
    "\n",
    "        model.zero_grad()\n",
    "        output, _ = model(inputs)\n",
    "        loss = criterion(output.squeeze(), labels.float())\n",
    "        # loss = f.cross_entropy(output, lables)\n",
    "        train_losses.append(loss.item())\n",
    "        \n",
    "        optimizer.zero_grad()\n",
    "        loss.backward()\n",
    "        #nn.utils.clip_grad_norm_(model.parameters(), clip)\n",
    "        optimizer.step()\n",
    "\n",
    "        \n",
    "    model.eval()\n",
    "    # val_h = model.init_state(batch_size)\n",
    "    for inp, lab in val_loader:\n",
    "        # val_h = tuple([each.data for each in val_h])\n",
    "        # val_h = [x.to(device) for x in val_h]\n",
    "        inp, lab = inp.to(device).long(), lab.to(device)\n",
    "\n",
    "        out, _  = model(inp)\n",
    "        val_loss = criterion(out.squeeze(), lab.float())\n",
    "        #val_loss = f.cross_entropy(out, lab)\n",
    "        validation_losses.append(val_loss.item())\n",
    "\n",
    "        \n",
    "    all_train_loss.append(np.mean(train_losses))\n",
    "    all_val_loss.append(np.mean(validation_losses))\n",
    "    eps.append(epoch+1)\n",
    "    torch.save(model, model_dir + str(epoch+1) + \"-tra-exp-3.pickle\")\n",
    "    df_loss = pd.DataFrame({'train_loss':all_train_loss})\n",
    "    df_loss['validation_loss'] = all_val_loss\n",
    "    df_loss['epochs'] = eps\n",
    "    df_loss.to_csv(model_dir + 'tra_exp_3.csv',mode='a', sep=',')\n",
    "    \n",
    "    logging.info(\"Epoch {}: {:.6f} loss, {:.6f} val loss\".format(epoch+1, np.mean(train_losses), np.mean(validation_losses)))"
   ]
  },
  {
   "cell_type": "code",
   "execution_count": 113,
   "metadata": {
    "colab": {
     "base_uri": "https://localhost:8080/",
     "height": 295
    },
    "executionInfo": {
     "elapsed": 881,
     "status": "ok",
     "timestamp": 1611346340127,
     "user": {
      "displayName": "Prabesh Pathak",
      "photoUrl": "https://lh3.googleusercontent.com/a-/AOh14Gh6ULNXNrYutw3u6ad06TMgRj97zOGaU28QfV_MCg=s64",
      "userId": "10507649871156130542"
     },
     "user_tz": 300
    },
    "id": "wLslPNdprumy",
    "outputId": "cb4507dd-e365-49af-cf15-99fda05a880c",
    "scrolled": true
   },
   "outputs": [
    {
     "data": {
      "image/png": "[encoded data removed]",
      "text/plain": [
       "<Figure size 432x288 with 1 Axes>"
      ]
     },
     "metadata": {},
     "output_type": "display_data"
    }
   ],
   "source": [
    "plt.plot(all_train_loss)\n",
    "plt.plot(all_val_loss)\n",
    "plt.title('model loss')\n",
    "plt.ylabel('loss')\n",
    "plt.xlabel('epoch')\n",
    "plt.legend(['train', 'validation'], loc='upper right')\n",
    "# fig = plt.figure(figsize=(3,6))\n",
    "plt.show()\n",
    "# plt.savefig(model_dir + 'loss.png', bbox_inches='tight')"
   ]
  },
  {
   "cell_type": "code",
   "execution_count": null,
   "metadata": {},
   "outputs": [],
   "source": [
    "df_loss = pd.DataFrame({'train_loss':all_train_loss})\n",
    "df_loss['validation_loss'] = all_val_loss\n",
    "df_loss.to_csv(model_dir + 'tra_exp_2.csv', sep=',')"
   ]
  },
  {
   "cell_type": "code",
   "execution_count": 135,
   "metadata": {},
   "outputs": [],
   "source": [
    "model_dir = '/media/data/artifacts/2016/models/tra/'\n",
    "df = pd.read_csv(model_dir + 'tra_exp_2.csv')\n",
    "# df.columns=['epoch', 'train_loss', 'validation_loss']\n",
    "df = df[['train_loss', 'validation_loss']]"
   ]
  },
  {
   "cell_type": "code",
   "execution_count": 136,
   "metadata": {},
   "outputs": [
    {
     "data": {
      "text/plain": [
       "[[<matplotlib.axis.XTick at 0x7f32b83d2b90>,\n",
       "  <matplotlib.axis.XTick at 0x7f32d001bf90>,\n",
       "  <matplotlib.axis.XTick at 0x7f32b83e9510>,\n",
       "  <matplotlib.axis.XTick at 0x7f32b83ed8d0>,\n",
       "  <matplotlib.axis.XTick at 0x7f32b8389710>,\n",
       "  <matplotlib.axis.XTick at 0x7f32b8389c90>,\n",
       "  <matplotlib.axis.XTick at 0x7f32b83f88d0>,\n",
       "  <matplotlib.axis.XTick at 0x7f32b87f6690>,\n",
       "  <matplotlib.axis.XTick at 0x7f32b83ed4d0>,\n",
       "  <matplotlib.axis.XTick at 0x7f32b8399350>]]"
      ]
     },
     "execution_count": 136,
     "metadata": {},
     "output_type": "execute_result"
    },
    {
     "data": {
      "image/png": "[encoded data removed]",
      "text/plain": [
       "<Figure size 432x288 with 1 Axes>"
      ]
     },
     "metadata": {},
     "output_type": "display_data"
    }
   ],
   "source": [
    "t = [x for x in range(0,10,1)]\n",
    "sns.set(style=\"darkgrid\")\n",
    "g = sns.lineplot(data=df)\n",
    "g.set(xlabel='epochs', ylabel='loss')\n",
    "g.set(xticks=t)"
   ]
  },
  {
   "cell_type": "code",
   "execution_count": 139,
   "metadata": {},
   "outputs": [
    {
     "data": {
      "text/plain": [
       "1"
      ]
     },
     "execution_count": 139,
     "metadata": {},
     "output_type": "execute_result"
    }
   ],
   "source": [
    "torch.cuda.device_count()"
   ]
  },
  {
   "cell_type": "markdown",
   "metadata": {
    "id": "5wgrSyic0DZf"
   },
   "source": [
    "### Save model"
   ]
  },
  {
   "cell_type": "code",
   "execution_count": 70,
   "metadata": {
    "executionInfo": {
     "elapsed": 1218,
     "status": "ok",
     "timestamp": 1611346341017,
     "user": {
      "displayName": "Prabesh Pathak",
      "photoUrl": "https://lh3.googleusercontent.com/a-/AOh14Gh6ULNXNrYutw3u6ad06TMgRj97zOGaU28QfV_MCg=s64",
      "userId": "10507649871156130542"
     },
     "user_tz": 300
    },
    "id": "52rYyHwG0EJK"
   },
   "outputs": [],
   "source": [
    "model_dir = '/media/data/artifacts/2016/models/tra/'\n",
    "# torch.save(model, model_dir + \"final-transfomer-4000-ep-20-5_2.pickle\")\n",
    "# model = torch.load(model_dir + \"tra-5/\" + \"2-final-transfomer-4000-ep-10-5_5.pickle\")\n",
    "model = torch.load(model_dir + \"final-tra-exp-256-1.pickle\")\n",
    "# model = torch.load(model_dir + 'final-transfomer.pickle', map_location=torch.device('cuda'))"
   ]
  },
  {
   "cell_type": "markdown",
   "metadata": {},
   "source": [
    "### "
   ]
  },
  {
   "cell_type": "code",
   "execution_count": 71,
   "metadata": {},
   "outputs": [],
   "source": [
    "# device = torch.device(\"cpu\")\n",
    "# model= nn.DataParallel(model)\n",
    "# model.to(device)"
   ]
  },
  {
   "cell_type": "markdown",
   "metadata": {
    "id": "pBnPa9lKtFbU"
   },
   "source": [
    "### Testing"
   ]
  },
  {
   "cell_type": "code",
   "execution_count": 75,
   "metadata": {
    "colab": {
     "base_uri": "https://localhost:8080/"
    },
    "executionInfo": {
     "elapsed": 2629,
     "status": "ok",
     "timestamp": 1611346343132,
     "user": {
      "displayName": "Prabesh Pathak",
      "photoUrl": "https://lh3.googleusercontent.com/a-/AOh14Gh6ULNXNrYutw3u6ad06TMgRj97zOGaU28QfV_MCg=s64",
      "userId": "10507649871156130542"
     },
     "user_tz": 300
    },
    "id": "N8BxdgXZ5AVe",
    "outputId": "9f370411-1600-46aa-fe82-1a6da337dc14",
    "scrolled": false
   },
   "outputs": [],
   "source": [
    "def test(model, test_generator):\n",
    "    test_losses = []\n",
    "    num_correct = 0\n",
    "    a_weights = []\n",
    "    b_weights = []\n",
    "    pred_label = []\n",
    "    true_label = []\n",
    "    prediction = []\n",
    "    criterion = nn.BCELoss()\n",
    "#     optimizer = optim.Adam(model.parameters(), lr=0.0005)\n",
    "#     model.eval()\n",
    "    with torch.no_grad():\n",
    "        for inputs, labels in test_generator:\n",
    "            inputs, labels = inputs.to(device).long(), labels.to(device)\n",
    "            output, a_out = model(inputs)\n",
    "\n",
    "            for out in output:\n",
    "    #             o = out.cpu().numpy()\n",
    "                prediction.append(out.cpu().numpy())\n",
    "                #o = out.round().cpu().numpy()\n",
    "                # if o[0] == 0 :   #this mean _label1_ bad\n",
    "                #     pred_label.append(0)\n",
    "                # else:            #this mean _label2_ good\n",
    "                #     pred_label.append(1)\n",
    "\n",
    "\n",
    "            for label in labels:\n",
    "                l = label.cpu().numpy()\n",
    "                if l[0] == 0 :\n",
    "                    true_label.append(1) # malicious apps\n",
    "                else:\n",
    "                    true_label.append(0)\n",
    "\n",
    "            for each_a_out in a_out:\n",
    "                a = each_a_out\n",
    "                a = a.squeeze()\n",
    "                x = a[0]\n",
    "                y = a[1]\n",
    "#                 a = torch.mean(a,0) #if only 1 head\n",
    "                x = torch.mean(x,0)\n",
    "                y = torch.mean(y,0)\n",
    "                a_weights.append(x.cpu().numpy())\n",
    "                b_weights.append(y.cpu().numpy())\n",
    "\n",
    "            test_loss = criterion(output.squeeze(), labels.float())\n",
    "            test_losses.append(test_loss.item())\n",
    "\n",
    "\n",
    "#     print(\"Test loss: {:.3f}\".format(np.mean(test_losses)))\n",
    "#     test_acc = num_correct/len(test_generator.dataset)\n",
    "    #print(\"Test accuracy: {:.3f}%\".format(test_acc*100))\n",
    "    return prediction, true_label, a_weights, b_weights, test_losses"
   ]
  },
  {
   "cell_type": "code",
   "execution_count": 76,
   "metadata": {
    "scrolled": true
   },
   "outputs": [
    {
     "name": "stdout",
     "output_type": "stream",
     "text": [
      "Test loss: 0.231\n"
     ]
    }
   ],
   "source": [
    "prediction, true_label, a_weights,b_weights, test_losses = test(model,test_generator)\n",
    "print(\"Test loss: {:.3f}\".format(np.mean(test_losses)))"
   ]
  },
  {
   "cell_type": "code",
   "execution_count": null,
   "metadata": {},
   "outputs": [],
   "source": []
  },
  {
   "cell_type": "code",
   "execution_count": 77,
   "metadata": {
    "executionInfo": {
     "elapsed": 754,
     "status": "ok",
     "timestamp": 1611346344354,
     "user": {
      "displayName": "Prabesh Pathak",
      "photoUrl": "https://lh3.googleusercontent.com/a-/AOh14Gh6ULNXNrYutw3u6ad06TMgRj97zOGaU28QfV_MCg=s64",
      "userId": "10507649871156130542"
     },
     "user_tz": 300
    },
    "id": "YQKYT0zS5SRh"
   },
   "outputs": [],
   "source": [
    "prediction1 = np.argmax(prediction, axis=1)  ## Prediction for bad reviews in terms of 0 and 1 for all test data\n",
    "prediction_for_1=[] ## Prediction for bad reviews only\n",
    "for each_prediction in prediction:\n",
    "    prediction_for_1.append(each_prediction[1])\n",
    "\n",
    "c = confusion_matrix(true_label,prediction1 )"
   ]
  },
  {
   "cell_type": "code",
   "execution_count": 78,
   "metadata": {
    "colab": {
     "base_uri": "https://localhost:8080/"
    },
    "executionInfo": {
     "elapsed": 808,
     "status": "ok",
     "timestamp": 1611346344889,
     "user": {
      "displayName": "Prabesh Pathak",
      "photoUrl": "https://lh3.googleusercontent.com/a-/AOh14Gh6ULNXNrYutw3u6ad06TMgRj97zOGaU28QfV_MCg=s64",
      "userId": "10507649871156130542"
     },
     "user_tz": 300
    },
    "id": "MAd7wj5FoopS",
    "outputId": "0061d537-47ad-4b34-ad51-773d326a9a78"
   },
   "outputs": [
    {
     "data": {
      "text/plain": [
       "array([[12366,   534],\n",
       "       [  955,  3345]])"
      ]
     },
     "execution_count": 78,
     "metadata": {},
     "output_type": "execute_result"
    }
   ],
   "source": [
    "c"
   ]
  },
  {
   "cell_type": "code",
   "execution_count": 79,
   "metadata": {
    "colab": {
     "base_uri": "https://localhost:8080/",
     "height": 313
    },
    "executionInfo": {
     "elapsed": 1019,
     "status": "ok",
     "timestamp": 1611346346611,
     "user": {
      "displayName": "Prabesh Pathak",
      "photoUrl": "https://lh3.googleusercontent.com/a-/AOh14Gh6ULNXNrYutw3u6ad06TMgRj97zOGaU28QfV_MCg=s64",
      "userId": "10507649871156130542"
     },
     "user_tz": 300
    },
    "id": "LyVNSOVB5bGf",
    "outputId": "931c5bde-3e53-4773-8cfe-3dce5ceb5205"
   },
   "outputs": [
    {
     "name": "stderr",
     "output_type": "stream",
     "text": [
      "20-Mar-21 21:56:44 - Note: NumExpr detected 32 cores but \"NUMEXPR_MAX_THREADS\" not set, so enforcing safe limit of 8.\n",
      "20-Mar-21 21:56:44 - NumExpr defaulting to 8 threads.\n"
     ]
    },
    {
     "data": {
      "text/plain": [
       "[Text(0, 0.5, 'benign'), Text(0, 1.5, 'malicious')]"
      ]
     },
     "execution_count": 79,
     "metadata": {},
     "output_type": "execute_result"
    },
    {
     "data": {
      "image/png": "[encoded data removed]",
      "text/plain": [
       "<Figure size 432x288 with 2 Axes>"
      ]
     },
     "metadata": {
      "needs_background": "light"
     },
     "output_type": "display_data"
    }
   ],
   "source": [
    "import seaborn as sns\n",
    "import matplotlib.pyplot as plt     \n",
    "\n",
    "ax= plt.subplot()\n",
    "sns.heatmap(c, annot=True, fmt='g')\n",
    "\n",
    "# labels, title and ticks\n",
    "ax.set_xlabel('Predicted labels')\n",
    "ax.set_ylabel('True labels')\n",
    "ax.set_title('Confusion Matrix')\n",
    "ax.xaxis.set_ticklabels(['benign', 'malicious']) \n",
    "ax.yaxis.set_ticklabels(['benign', 'malicious'])"
   ]
  },
  {
   "cell_type": "markdown",
   "metadata": {
    "id": "RSsF5N4ctSR2"
   },
   "source": [
    "#### Evaluation Metrics"
   ]
  },
  {
   "cell_type": "code",
   "execution_count": 80,
   "metadata": {
    "colab": {
     "base_uri": "https://localhost:8080/"
    },
    "executionInfo": {
     "elapsed": 761,
     "status": "ok",
     "timestamp": 1611346390298,
     "user": {
      "displayName": "Prabesh Pathak",
      "photoUrl": "https://lh3.googleusercontent.com/a-/AOh14Gh6ULNXNrYutw3u6ad06TMgRj97zOGaU28QfV_MCg=s64",
      "userId": "10507649871156130542"
     },
     "user_tz": 300
    },
    "id": "uClIRxaMrut_",
    "outputId": "c6fb7783-9ce9-4863-eb6b-cc3794e69223"
   },
   "outputs": [
    {
     "name": "stdout",
     "output_type": "stream",
     "text": [
      "Area under graph 0.9074033027880193\n",
      "-------------------------------------------------\n",
      "Precision for Malicious apps 0.8623356535189481\n",
      "Recall for Malicious apps 0.7779069767441861\n",
      "F1-score for Malicious apps  0.8179484044504217\n",
      "-------------------------------------------------\n",
      "Precision for Benign apps 0.928308685534119\n",
      "Recall for Benign apps 0.9586046511627907\n",
      "F1-score for Benign apps  0.9432134548644217\n"
     ]
    }
   ],
   "source": [
    "from sklearn.metrics import precision_recall_curve\n",
    "from sklearn.metrics import precision_score\n",
    "from sklearn.metrics import recall_score\n",
    "from sklearn.metrics import auc\n",
    "import matplotlib.pyplot as plt\n",
    "from sklearn.model_selection import StratifiedShuffleSplit\n",
    "from sklearn.metrics import f1_score\n",
    "from inspect import signature\n",
    "\n",
    "truelabel = true_label\n",
    "predictedlabel = np.array(prediction1)\n",
    "\n",
    "precision, recall, _ = precision_recall_curve(truelabel,np.array(prediction_for_1))\n",
    "au = auc(recall, precision)\n",
    "print(\"Area under graph \"+str(au))\n",
    "print(\"-------------------------------------------------\")\n",
    "rec_score = recall_score(truelabel,predictedlabel,pos_label=1,average='binary')\n",
    "precise_score = precision_score(truelabel,predictedlabel,pos_label=1,average='binary')\n",
    "f1 = f1_score(truelabel,predictedlabel,pos_label=1, average='binary')\n",
    "print(\"Precision for Malicious apps \"+str(precise_score))\n",
    "print(\"Recall for Malicious apps \"+str(rec_score))\n",
    "print(\"F1-score for Malicious apps  \" + str(f1))\n",
    "print(\"-------------------------------------------------\")\n",
    "rec_score = recall_score(truelabel,predictedlabel,pos_label=0,average='binary')\n",
    "precise_score = precision_score(truelabel,predictedlabel,pos_label=0,average='binary')\n",
    "f1 = f1_score(truelabel,predictedlabel,pos_label=0, average='binary')\n",
    "print(\"Precision for Benign apps \"+str(precise_score))\n",
    "print(\"Recall for Benign apps \"+str(rec_score))\n",
    "print(\"F1-score for Benign apps  \" + str(f1))"
   ]
  },
  {
   "cell_type": "code",
   "execution_count": 81,
   "metadata": {
    "colab": {
     "base_uri": "https://localhost:8080/",
     "height": 297
    },
    "executionInfo": {
     "elapsed": 782,
     "status": "ok",
     "timestamp": 1611346390502,
     "user": {
      "displayName": "Prabesh Pathak",
      "photoUrl": "https://lh3.googleusercontent.com/a-/AOh14Gh6ULNXNrYutw3u6ad06TMgRj97zOGaU28QfV_MCg=s64",
      "userId": "10507649871156130542"
     },
     "user_tz": 300
    },
    "id": "39zk95EJAkDZ",
    "outputId": "1dc71fc1-6172-46ee-c9e8-6a4e9f5b7316"
   },
   "outputs": [
    {
     "data": {
      "image/png": "[encoded data removed]",
      "text/plain": [
       "<Figure size 432x288 with 1 Axes>"
      ]
     },
     "metadata": {
      "needs_background": "light"
     },
     "output_type": "display_data"
    }
   ],
   "source": [
    "positive_cases = sum(truelabel)/len(truelabel)\n",
    "plt.plot([0, 1], [positive_cases, positive_cases], linestyle='--')\n",
    "\n",
    "# In matplotlib < 1.5, plt.fill_between does not have a 'step' argument\n",
    "step_kwargs = ({'step': 'post'}\n",
    "                if 'step' in signature(plt.fill_between).parameters\n",
    "                else {})\n",
    "plt.step(recall, precision, color='b', alpha=0.2,\n",
    "            where='post')\n",
    "plt.fill_between(recall, precision, alpha=0.2, color='g', **step_kwargs)\n",
    "\n",
    "plt.xlabel('Recall')\n",
    "plt.ylabel('Precision')\n",
    "plt.ylim([0.0, 1.05])\n",
    "plt.xlim([0.0, 1.0])\n",
    "plt.title('Precision-Recall curve')\n",
    "plt.tight_layout()"
   ]
  },
  {
   "cell_type": "markdown",
   "metadata": {
    "id": "7Jc1F5jytVzQ"
   },
   "source": [
    "#### Attention weights"
   ]
  },
  {
   "cell_type": "code",
   "execution_count": 82,
   "metadata": {
    "colab": {
     "base_uri": "https://localhost:8080/"
    },
    "executionInfo": {
     "elapsed": 439,
     "status": "ok",
     "timestamp": 1611346390503,
     "user": {
      "displayName": "Prabesh Pathak",
      "photoUrl": "https://lh3.googleusercontent.com/a-/AOh14Gh6ULNXNrYutw3u6ad06TMgRj97zOGaU28QfV_MCg=s64",
      "userId": "10507649871156130542"
     },
     "user_tz": 300
    },
    "id": "vYGM5a5zQ2EE",
    "outputId": "1e9daa62-3a89-4cb6-cd76-9d798cd3c33e"
   },
   "outputs": [
    {
     "data": {
      "text/plain": [
       "17200"
      ]
     },
     "execution_count": 82,
     "metadata": {},
     "output_type": "execute_result"
    }
   ],
   "source": [
    "len(a_weights)"
   ]
  },
  {
   "cell_type": "markdown",
   "metadata": {
    "colab": {
     "base_uri": "https://localhost:8080/"
    },
    "executionInfo": {
     "elapsed": 920,
     "status": "ok",
     "timestamp": 1611346391156,
     "user": {
      "displayName": "Prabesh Pathak",
      "photoUrl": "https://lh3.googleusercontent.com/a-/AOh14Gh6ULNXNrYutw3u6ad06TMgRj97zOGaU28QfV_MCg=s64",
      "userId": "10507649871156130542"
     },
     "user_tz": 300
    },
    "id": "ix6X6f5Cq0T6",
    "outputId": "302611e4-3366-4a99-b8e6-14491a6e62bb"
   },
   "source": [
    "### Only for True Positive Values"
   ]
  },
  {
   "cell_type": "code",
   "execution_count": 83,
   "metadata": {},
   "outputs": [],
   "source": [
    "## Map predicted labels and test labels\n",
    "tp = {}\n",
    "i = 0\n",
    "for k,v in test_label_dict.items():\n",
    "    tp[k] = prediction1[i]\n",
    "    i = i + 1"
   ]
  },
  {
   "cell_type": "code",
   "execution_count": 84,
   "metadata": {},
   "outputs": [],
   "source": [
    "## Map predicted lables and malicious lables\n",
    "tpp = {}\n",
    "count = 0\n",
    "i = 0\n",
    "for k,v in tp.items():\n",
    "    if v == 1 and test_label_dict[k] == 1:\n",
    "        tpp[k] = i\n",
    "    \n",
    "    i += 1"
   ]
  },
  {
   "cell_type": "code",
   "execution_count": 85,
   "metadata": {},
   "outputs": [],
   "source": [
    "t_mal_ids = []\n",
    "for k,v in tpp.items():\n",
    "    t_mal_ids.append(v)"
   ]
  },
  {
   "cell_type": "code",
   "execution_count": 86,
   "metadata": {},
   "outputs": [
    {
     "data": {
      "text/plain": [
       "3345"
      ]
     },
     "execution_count": 86,
     "metadata": {},
     "output_type": "execute_result"
    }
   ],
   "source": [
    "len(t_mal_ids)"
   ]
  },
  {
   "cell_type": "code",
   "execution_count": 87,
   "metadata": {},
   "outputs": [
    {
     "data": {
      "text/plain": [
       "{'0002D1950CC73492ADBFDA00645B13C47826A7F4299C29572F838B5F35842F01.txt': 3001,\n",
       " '000BD729004E9B29564BF6BDBDFDA5C2BFE478FC612A079FECB7584D06DCAC8C.txt': 3003,\n",
       " '001019FA9F415BB3314CDB2AFF6EE3D1236BA5ACCB15BB9D53378271F37A8412.txt': 3005,\n",
       " '0013470A1370884418FA09C1103E656E04D0CBB8D1AC3C03719B9842F9006665.txt': 3007,\n",
       " '001441793CA9066610E528C95E44C68588B0A3CA5FB853D3776C398A749DE61F.txt': 3008,\n",
       " '001443C57EF17087C45362A8F09ED58A8291D68BD753E173D1599C70E7B08B41.txt': 3009,\n",
       " '0017B67588D03D2A1E888D143B0D61596DD7BAE942AE34055997C3E9B43D5E29.txt': 3010,\n",
       " '0018D7835737A6CC73658CF53691DA6E96B35DD78AE2F653D9A955A3FA2AE440.txt': 3011,\n",
       " '001A7F9C3C1FD1D0AF24E4B038FD39AD32E9621B45D44F1DC2230EC9B7F8561C.txt': 3012,\n",
       " '0021AF05170E3919D94676533DB4EEC9FE15ED330E92E2293DDF30FA13D90C1D.txt': 3013,\n",
       " '00231CA69D8D76D9BB33E814A7EB53033905CC65C766E63495C45AB0F0D9F2CC.txt': 3014,\n",
       " '002482EEAD614A9F904749A2D1C33EF505D70B99B9716EC4824EBF941F83A4FB.txt': 3015,\n",
       " '0025FB51E69BA50FB5A26EEA3E22AC8644ED4BD42E211EC4874AD89F30499C30.txt': 3016,\n",
       " '002B26DD6D5429D46698DB39B17C54DA5D991682C07F226B1D9FA7985DB82F2A.txt': 3017,\n",
       " '002FBD68B20D951BF44A1F1DA5A4B98CD1384533BF0056E3375BBF39234AD385.txt': 3018,\n",
       " '003D61E737E5886205AB3F6F6F84C8760ED0EE5358370D0DA4B60318D74549E6.txt': 3020,\n",
       " '003E8D6E758D1C68FD0F2E4A4D0320099A15F90C948E06F550E3B7F67BF81EAD.txt': 3021,\n",
       " '003F097701B6F0B28AA18D9BB9EA0902F818767D2920C513EEC0677D1AE0A116.txt': 3022,\n",
       " '003FCA374FFF8A2F803FDBF1A19B17DD896DA6E5B24CBA42F16ACB79170785E7.txt': 3023,\n",
       " '004B5FC373BA934E335B93781AD1BA3238778123FA4981C12C3158DAFF3DF007.txt': 3025,\n",
       " '004E548B8DF6ECAA7632478748B7F4292E4E2C54EAF5EE07D7AE287670C7A5A1.txt': 3027,\n",
       " '004F5199B474C1F6E84F5EC3D746C8041452C9BDC6D7C0BCC084EE829B09839F.txt': 3028,\n",
       " '00519E9240C216EE880892964DC9AF21B3E10777DA9320CCF6A2FC64A21CDF85.txt': 3029,\n",
       " '0052938F4871D4AF60204D80ED9F2D9761ACB775E0FBD153F267AA0112717BBA.txt': 3030,\n",
       " '005379039271205C22062BFF58FCFF33C0E619532690893549ACCFB79E56A82A.txt': 3031,\n",
       " '0055AFDDB16C2C10C56ECC6C94C565D1AAE29F5EBD7A8BDCF4A82084CBC81947.txt': 3032,\n",
       " '00606D98121BF2783114383FCE30CC28B8CFEE0D0072CD93D9776D9A1BA07A0F.txt': 3033,\n",
       " '00706B5CE348EA333BF095402E8242A356F9E9816F4CE4BE3474F9273B04C449.txt': 3037,\n",
       " '007B82258751D65322DFEC8538CA558FD68EAC6C004BA5428896CA2FAAD90FD9.txt': 3038,\n",
       " '007FE5543A7578F968450F4270A0805AA0CC901A594EA6324664D1B3FBDCA25E.txt': 3040,\n",
       " '008A6F371761ED9E40A86277342B8A620AB3EA4D791B536BB06C04656CD4973B.txt': 3042,\n",
       " '008ADDF41FBABF09D5FE588BFA9857B2B986440E86FDEC1AE994448AA818C95E.txt': 3043,\n",
       " '008F5304CB815BCD96D9F134630DB0C1F0E79CB31B3964F0C259F06C404EE707.txt': 3044,\n",
       " '009C400AA9AEE54AA2DE3A10138F6763C6BEA53178D13539AA8C51B7A5E04F52.txt': 3048,\n",
       " '009E7C88465CD20E715EC8101DC063B69C8C211D8FCDDFFCC16D38B87EE8EA13.txt': 3049,\n",
       " '009F6A834D7F168E2F89A3FCA17C20E0DA31813FF627A6E26B080E907344BFD1.txt': 3050,\n",
       " '00B0F088140FA46EFA61BD31EC3EA1B15F97AAEC0C003B297FB689060DEE4D27.txt': 3051,\n",
       " '00B4A5D66941BA66AFCD722094602DEAC4E22957A2AC5C0860F9166EDB764C00.txt': 3052,\n",
       " '00BA15F93B5E16EB07F9B38651FA5C71ADECA42F8578A484123D771A8F0AAFBB.txt': 3053,\n",
       " '00C3925DFF8FDD69AD00064BED8C8391279C87667457239AAC79BA4C3D24F9D6.txt': 3056,\n",
       " '00C7734425980A6498950739CF1C260371641E6C258760C059E52DA62742E518.txt': 3058,\n",
       " '00C81CEFACC8848CE81D6E0C6EB839A11458B43B7844439A387C4C15873E4A8A.txt': 3059,\n",
       " '00D609E2EB6F700BBE1E36051110CFAEDA720DDBF5B62B3C8803065E77E65CF3.txt': 3060,\n",
       " '00DD23C3866D3FB648FAA6E095FC805C20C1A2D3B2B605E636D528332AD8D283.txt': 3061,\n",
       " '00DFB53ACE3CB06D8801BCC1A8BCDD7DFCA5E7FB29A5F18FBA48085CC3C6C946.txt': 3062,\n",
       " '00F7E7EBDF3C78571A84308944D376E38952D8DE52D452624A4AA87B8801CE38.txt': 3071,\n",
       " '00FA3CB20DE0523FECC56E4AE5CFC1F1E52637AC770CEE44BF16B7E8ADC3A977.txt': 3073,\n",
       " '0102397F276D44EACADFA87721CA903A52ED4055C8A4E581590EF8B8555DA1CE.txt': 3074,\n",
       " '01083485CE9EFB52B786A7986145BB7DC9873379B988AFE396C335F080E073C6.txt': 3075,\n",
       " '01103DBBF162D585C2CC8A8FA5BB99D1A7CE73AAA94BAE7A1A6C6703FCDC7696.txt': 3076,\n",
       " '011B5692D8B0CFCB8498CBE9E85F71D5A259184A7C908F27E9826F9AC7C2A6B9.txt': 3077,\n",
       " '012C02A9A003FFF1CE61FEBC2C97FB314391CE25AA59091980C94818EB5F1607.txt': 3078,\n",
       " '0131FC1B1CD7278E5BD16FA92D10086E9E4CB3563F0342F98123F77F940E0FC7.txt': 3080,\n",
       " '01380D6FA06B4395F317F241B539CFDDF61DAC6B0A6A041ACB0C5F2518D9E96A.txt': 3081,\n",
       " '013DA612306410BA95701A56F1E82185474B0FB2027FA8C78BDCCDBD3EBD2C24.txt': 3082,\n",
       " '0142735939BF1F29179895A242A3F61E107AB17946F10CC407D14A29645E77AF.txt': 3083,\n",
       " '014E0D93DB64CA07ED0B328613CE2C5703B1900B83D0F0FE3AF37184A82E36E2.txt': 3085,\n",
       " '0157687546115EA9229C25AF2D8A8F51F115314230BB0435955B4AAC48B9DCEB.txt': 3087,\n",
       " '0157B2B29CAEB1A5102C585CDF95ADE6556871117A13A80B0257BC3C0EC370F7.txt': 3088,\n",
       " '015C24338AEC1B1EFABCC1C10214D97BB45C10757AF1A00BCB902081A9E083E0.txt': 3089,\n",
       " '0162EB6DF0FFFEC442925C33028607F2B9678A32A40ADCD1436728CA7559FD1E.txt': 3090,\n",
       " '0167F4B5F95EC50959B45CF7F4DD5C6EBAD734B72BE78D5D77B4556600324CDF.txt': 3091,\n",
       " '016E5C148BCC9DC591A2436D3AD83FA4C3E45893FCC36954AC084A447913DC69.txt': 3094,\n",
       " '0171BA59F9A44BA22752ECBDF6E3B93E433F8C265F71070ECB4D11D840D0F1DD.txt': 3095,\n",
       " '0181F80BF6F5DA2C8677E4813B7191E93DE9E3446360FE69F6564F68D47E5026.txt': 3097,\n",
       " '018668BB781A6AFF29B1B0B31F35BEBF5E86EEA13507AB745392B8233A0987A3.txt': 3099,\n",
       " '018A715A6F6872F3670EE51B0FA78CBA2BA1BE2851C0834AD298B8DD4DE931C4.txt': 3101,\n",
       " '018C9FF8E25DBCE0CEB90F6297E78494909090DA61815563297DD8543E04166B.txt': 3102,\n",
       " '018DE1B237C658ABEF007EBEA38A8F0B943EE03BF727F8EE994733EDA4F5469F.txt': 3103,\n",
       " '018F24161073A45E90B76C0E6760AD832CFB785B63DF286281D4DD74D693B55E.txt': 3105,\n",
       " '0193301D42528D8E55CC198EE2EE4CFE4B3EEB4043BEED438CC5B4E42FB7ECC3.txt': 3106,\n",
       " '01A3F1B7B78BE417625F4DCBE352A66906A4939AC9187BDC01F7C72175BF6FBA.txt': 3109,\n",
       " '01A9213F265D9EFFEB7E0C369EEF87D5F6504E68D0994D969D4E68450F180A00.txt': 3110,\n",
       " '01B4F5C9327E13F8CC783CDBC846726E21306074B81AE74B674A27F35AD46BA2.txt': 3113,\n",
       " '01B7E04CEAFFDD55EB9D9D591FDC275F59283EE6D5D0C666A0B788489B0E4203.txt': 3114,\n",
       " '01CBED01A736052662066B286810A5892643AB3A5B4D06F4A2FBEC31895F56E4.txt': 3115,\n",
       " '01D4EC969F67AAC24F6815D682EA23E5C0EAEB8A5D2803B3206547A5918A67B2.txt': 3117,\n",
       " '01E17ED28421D3F0920FDBE673F3A7B8DC4ED3299A7E2D6A0DCB3E132BA4D027.txt': 3120,\n",
       " '01E5377ED3583C2FE6544643D048862C76F8A01425A04691F5CB1EF3C96F15E9.txt': 3122,\n",
       " '01E9913E60C8FDF842C79ABF3B4EF4863630ABC45670292E697D39C6EBB86A70.txt': 3123,\n",
       " '01EC448A0B055A790C02E3D67513A590B77AA7B3A06F223803224F571D649826.txt': 3125,\n",
       " '01F0D2DA0C0BB19424AB0434839EEEE2FAE89B6780F1EE17CEE7E2B72CACA178.txt': 3126,\n",
       " '01F65F10928190C0D5FA651F6D167FEBB478C559633F30C71C0EA70093690C8D.txt': 3127,\n",
       " '02009098B80D331A7B1F9A11E677FA039F77C6D4CC0C8FCC4918CF30ED5D85D6.txt': 3131,\n",
       " '0203CEA463455EC51A88582E541E4BCD26A9A0603ED0AA41B4B0A37DFE9B4F65.txt': 3132,\n",
       " '020595BCB66EADBAED0F535D086A28A43AFEDF44049C819EF038A5C3801501E3.txt': 3133,\n",
       " '0206393D7AC5CF0B6E25A2F224DF253BA7EBCBA0C62CCF9AEA286EFDA2665B4C.txt': 3134,\n",
       " '0212287AA88AB241FAEA1C9A6A96DF4075C2CCFE7EB95CEFF01B7D7BDB0E9215.txt': 3138,\n",
       " '021394E552211CECE952364630146608C2FAB90626F4FE9EFA2BEADCDCAE04B4.txt': 3139,\n",
       " '021B77B03AF81136D320608BEB99B8D2DA428B61CE433583D4C4B5C3416A99BE.txt': 3140,\n",
       " '0226B139BAF5F8A1B68E23549245584C67736B9BE6D6BCA03DE5062DC5F2FF80.txt': 3141,\n",
       " '0227F29F0AF0EC1F6112B33F5B8A8F4E0F36BEEFBCDE3AA01A45F7B6AD2A4982.txt': 3143,\n",
       " '022F25D78F85CC1F007930BAD415DA32643B45D300FA07CDB90F6399E1C9C7B4.txt': 3146,\n",
       " '0231845C12D6083382BD5460F57A5639999BC6311DC768538DAE7AF0A1C1FFFD.txt': 3147,\n",
       " '023CE685133E5E61E0558020A6E1AB255A2D9A5BBA8288D943EDDB30314B8668.txt': 3148,\n",
       " '023F75E7DED633BFDE854E95FE6E2DE9C8B51A624CA58A44099C6086699FAF2A.txt': 3149,\n",
       " '0250BADF175EF09BB77E1B3013A4C5C5C6843C7AD2CEFB25B58F5579E4C8B673.txt': 3153,\n",
       " '0251924DE5057AB1ECCB0F62B015659DFFAB374284E4563E0378A9EF4C1EFF27.txt': 3154,\n",
       " '025DCDA2613826F5A7DD465A224FC1D18D05A40D8E27AA1D38573FD276157B58.txt': 3155,\n",
       " '025E453CE47C6C3321F04004EC97E72DE02947A763E01B03004A87772D0F0786.txt': 3156,\n",
       " '026169EFC9072FC0A3F7CD0C486FA59A41C7F0D419C549D4C54D52C0E072EEEB.txt': 3157,\n",
       " '02686CE33EC0CB31A0C53478E11BC426D134A7C3D54D9B72613393E7E0CFD224.txt': 3160,\n",
       " '026A68FC90CA44653F720F8EE1E75808165C7514C558101B71BBD35CD0F777E8.txt': 3162,\n",
       " '026FC2AFA0F672CE743E2142057836430D777391BF51FECA5D0E867433878F14.txt': 3163,\n",
       " '027CF551C29D1C8095E124558184F8F051A13A956D82896E26AD02707E4C9277.txt': 3164,\n",
       " '0284C332CB72448471A1FD50F05AA1B9897E30682A839F1525ABE116AB730805.txt': 3167,\n",
       " '028FCD3FFF4E55C44DE352FDAB1517FD5AEB7C764F4EA1DEC74F77C4794C2A96.txt': 3169,\n",
       " '02927F9B069F32F2A7D77828824837B18828C9E3595945FCA4ACCD89E92B2EEE.txt': 3171,\n",
       " '0295331C4CCB36CAE9F8D95553A943C858349C113EB08CFB26C2E3790DA7FC7D.txt': 3172,\n",
       " '029A79E422E26F34E4AE01AAB8ABAAD377A9CF41F3C13F97CFE2519E3998EF15.txt': 3173,\n",
       " '02A0E20C4DD1D5B56ED56BA366C63D6D83AD7AA86E26D17875C83BDB0F968645.txt': 3174,\n",
       " '02A8AF63FA599991807A42657EC5FAAD6508B02AABAB4FB8EFA6B578D84669BF.txt': 3178,\n",
       " '02BE126D7E583EC2BB38341755F6695EF052EC01B971FD8C5B415DD32CEA1680.txt': 3183,\n",
       " '02C058FA176DB848F79D41D6C5732FBF013FA2E901129B7E254C9608B2635197.txt': 3184,\n",
       " '02D167719E17D641A3A8097DE3F08FDC60DCBD0D5900AE8B519BCCBB6012970D.txt': 3187,\n",
       " '02D36B81FD6C8377406A44AD7023A3B15D7F72E71492817C0EEB1CF8D597F0F8.txt': 3188,\n",
       " '02D448DED12F7A30CC9C3EA794D4B3D22E2975AD48F7FE6C8F247CECFBEE8AA0.txt': 3189,\n",
       " '02D4CD2CC90B09E53283E5B78445A1BC9613BC6E084FB45A705EDB10B993EC72.txt': 3190,\n",
       " '02DAC027F1DAB1755926CAA552E1DF465357DE77DD3209A281A81A878B0BC28F.txt': 3192,\n",
       " '02E32D1477A08B0AB74B56E82814A262E50BEC814654073354169694738B6603.txt': 3193,\n",
       " '02F2755307C52524BBA0C640940AEDC41E289CB50DA586A3CD4A9170D652AE44.txt': 3196,\n",
       " '02F349B889F984F471BF18AAE171501CBE6E518CFB7E4D8FEC75980684D7BB7C.txt': 3198,\n",
       " '02F456A0263A2D4FEB0F02B1CC24EE666E1144F7312C1393A696DF0B0FC72C57.txt': 3199,\n",
       " '02F66A8AA954736E439499AF2B200FF33F05EDE9AC84A0E6946ECF33CE99465C.txt': 3200,\n",
       " '02FAA9D4EDB4035E2787C9D672AADDC66614F59E99B492304C59B4D67274A549.txt': 3202,\n",
       " '0308436EFE49485332316118FE886C3FE404A4D78E5BD7387A9D96A75F7F34DB.txt': 3204,\n",
       " '030C9DAB3DA9BDBED3F51FD3E90F10292227595E76A8744505975FFE75E07DC4.txt': 3206,\n",
       " '0311B064A93B98A0231F64524E44F5D17913FDA0DF7BF2DF92C94B1E74434577.txt': 3207,\n",
       " '031D3393243B8820DEF7B3CBC53B840487E547F6F0C5AB9D96C22946524C6B60.txt': 3208,\n",
       " '031D7B423DDC94D8F608AECF0C9E99F2294F669A4D6AB58BDAB3B845BCE92A44.txt': 3209,\n",
       " '0329E11F88BF2B28CF51D8C7FF18EEBEFC88650B8361E1859C01DD4ACAAACCCF.txt': 3210,\n",
       " '0333890C83D33F4CC133F4AA1CA37D0ED43E7CD3404391D13C8CB141AC8560E4.txt': 3213,\n",
       " '033424047C97C336714AD3015491D5CF5882A03275E42BE4E2A19BB3E3FA0765.txt': 3214,\n",
       " '033899E33ECA1D5774D164034BC381F3D0AD103C16F2C4F14136C836006F80F9.txt': 3215,\n",
       " '033B74F51EFFB85CE4D02BC5CBB5D2C7A57E56D3D7AA0C2D53B544CE8F13BD00.txt': 3216,\n",
       " '0345122A5DB2C85B1619648E257837CBA48B147E8BAA66195E76773521716039.txt': 3219,\n",
       " '034B97B3F09E7BEF25D316EACAEC1B2CCB3F94BF2BC7E49E276CA8DD8B600124.txt': 3220,\n",
       " '0350B338D763BFFA05986C885BEF5EA1E0CBD38C7C799437FA8B94A9788DD35F.txt': 3222,\n",
       " '037007FAB1361D2D71DF25780CFA21CF6D6E4FA27E9A36ABEB1678905BD5AB18.txt': 3229,\n",
       " '037BA93BAAE8C1A2C9A8C8492D95E596296294FFD8CED773926075514D46F478.txt': 3231,\n",
       " '03849089EBD7F65FAF87D04F874555DED703620C526044F704B92874BF8A1960.txt': 3232,\n",
       " '03979B6274DDC026F367C582C9404396765635B932282EAB4C7DEE2229103F53.txt': 3234,\n",
       " '03A192382EBEA279DECCEF789DE7CD14DE0C2204C3FD1FA8ACC1011C00B24F58.txt': 3235,\n",
       " '03A2AE5C679A8063555AD1017E012DDD297657990989485EDCB6EF60E74C1ED6.txt': 3236,\n",
       " '03A3C30460F336D530B09A4C547424E849F5D5EE9B8968F086EF52554AAB06BD.txt': 3237,\n",
       " '03ABD52690C9D533198378E65598CD6FB507684EFCB2F857720250FC51D8A0A1.txt': 3239,\n",
       " '03AFA67855F1FDF153C36D85B35D65ED7DD32715634C8D2280DF1F9F74031BF6.txt': 3240,\n",
       " '03BB954059171F6FDEB2E2A133422AADD2563F30D1ACC4773F258039E514928F.txt': 3241,\n",
       " '03BBB7A74472F6B14E0A1790A04EEEDCCB90E713BA208994256BF128F025DB04.txt': 3242,\n",
       " '03BC28CEEC834ADDF8E4FE9B8EDDA9B2D53F952D5035CEAE649B644D1EAF67B6.txt': 3243,\n",
       " '03BE08E930060A446F15E625802A575E03FB673A2EED514E03E60DEDF1D8A5D4.txt': 3244,\n",
       " '03C0F8873D94A7C9FC5C615EF55DAED036217FDCD649F5FBCB93A3AA910BCE71.txt': 3245,\n",
       " '03C240175059F031B6FE1A4500FECA4AE8C23C656233C0ADCB2CDF359DDA9311.txt': 3247,\n",
       " '03E059561F4018F395E7C382B02B7072B681AB4C0CEE81BF8495D08DB50AFEC4.txt': 3249,\n",
       " '03EC87982117E83502D1BDD77127A8E320209D86CADFC097D038278276D63254.txt': 3251,\n",
       " '03EF1D86CFD9BD171AA50F4504C5B8D6677AB275C1C8FAC6B495A89693180A8F.txt': 3252,\n",
       " '03EFA13D3A64E0070F8C6E0706D52B5DC27FBDA99B360A286C28869D651009B8.txt': 3253,\n",
       " '03F4F65A7B6529BAFC6A2F1037FB772727D06CF5B1070C7AD3614F60925FE9AB.txt': 3254,\n",
       " '03F6FE8152210E700FA27CAA7B3E2B1599C5A418EC3BD5B4BA99CAB41A33914F.txt': 3255,\n",
       " '0402E739B58AE763A966B594ECB48A3E8ED8D3A58D8951A10539C7691229AC85.txt': 3256,\n",
       " '0405E075C3FAE6C5E35225473BCB5F7EE6C4110AB8AC6B668EE7D5319E88D6BA.txt': 3257,\n",
       " '04070B87838BB2D350DDCE32B12018AA24B4553FA7767EBAFDC0A6898ECFC87D.txt': 3258,\n",
       " '0413F967393B5C1FFCFF445E257E3B279E5ED8AEB542ED8AFB5D08BAD8C9BA32.txt': 3260,\n",
       " '041464A1D5E3568E4725422675CAB9997AC9D1DAC806F8E595B16278609A27B2.txt': 3261,\n",
       " '04165AAC46B37F578EFF89E7B3A871396B24A2BD5409307F8FA3A74445C327A8.txt': 3263,\n",
       " '04195D30915DD33676B79E50F421CC40BC61CAFBF35F0AF3A6E8D19F68956D72.txt': 3264,\n",
       " '041AD854A81C9EE2F1D81E198E1A8F5BE6E0442F92307FD4167FB30ED61A3BC4.txt': 3265,\n",
       " '0427DE2B82D5FF9983EB41B8468908EEE7CAF575EBC41D387D83B88C64000058.txt': 3267,\n",
       " '043C3C83877B653E4FB7CB03EFD4678D4E9B4689869BD94DB73C6236C8952CC0.txt': 3270,\n",
       " '043E08B62D8A4BC00FD31500C17A11801AF62083BD3A21F9A5D1BCE48EAE159E.txt': 3271,\n",
       " '043F2D1A3DD7828B64B94E41D2C4CE7BCFA9723463CCBCA9759499297F84B40E.txt': 3272,\n",
       " '045674EBD8935B13F03F934B5BAF3E62A23FC2C93B66AF09563201EF1EE22D42.txt': 3277,\n",
       " '045FD5711FB891F5788ECEA645C80D8FEDC70572CEAC096545618023EABD91F9.txt': 3278,\n",
       " '0467737CF1744C5CA6C73DE893DBBEFB55D35131A0FB473236682EC671C67CD3.txt': 3279,\n",
       " '0469E8414A7F0B0F16C0D180148E459AAE6F6C9965F42BB324CF6D3CAB97F4CA.txt': 3280,\n",
       " '046B4980216CABBA64ADF8C8CA17BCFF86DEF9F67DC861975977F3026EE759BE.txt': 3282,\n",
       " '046E701339468E76950866A752CA3BC29621EB60CF820CC89C95226D14136353.txt': 3283,\n",
       " '047375D5223E652566B6F548D39F5748548EDE3B34D4CD1546088BDD4ABB4DED.txt': 3284,\n",
       " '0473FD6776543AE73761207EB69612BA01CBE8C8C512EE50F256D37F44FD7498.txt': 3285,\n",
       " '04742B242C5D401E9B49F49852DACD05C1A3132C35BE8B0EE606B0BE2988D411.txt': 3286,\n",
       " '047D8CDC1294D9964FF7609F99DB2ED98CCC34BECC0027ECBD6427C217023B0D.txt': 3288,\n",
       " '047F0F2608A93D8E9699FA83C11AD8A0B6786BDD011F38262F8390CA0489B514.txt': 3289,\n",
       " '048DE4CFD458F92C020332E06690E91D5B9D54A0154BDEDE9D6FDFE03BA6862A.txt': 3290,\n",
       " '0496D33DB01FDFDEB8BA833EB2D4A26AC1E5988A71F596C47EC033DB622B6B2D.txt': 3293,\n",
       " '04A292C3951ABA1B04F4201A67F4CA88B18C935E47FEA17951105AF031F4B04C.txt': 3297,\n",
       " '04A7082FF3267E90F61BFD8FCEB98969CC7CE62BA1054EC882DCC0F3211D7E29.txt': 3298,\n",
       " '04AF7C7569B801CEC3B3E81A98331E36E0CE1B78FD8234504509F88A7122778A.txt': 3301,\n",
       " '04AFA61DA95463429480E1EBB7CFD7E2B7CA57C2BB3D287C88FAB65E04C12105.txt': 3302,\n",
       " '04B844622AB7FEF51ECD03B4473D2561DE5779AB512BB402262AB63991F0D627.txt': 3303,\n",
       " '04C484405142A8869FD6FAE1E660486745988247F17D06A9F6D29FCCD3C24EDB.txt': 3304,\n",
       " '04CA79B8EDE2487DF23AFFA80FA0CD48AF14CE8AE98D6058EFAF74EAE33C0F36.txt': 3305,\n",
       " '04CC587CDC41E3E2EF6DA12BD1CA84E434CEDAF45263250C1DA2A9D47B3ACE9F.txt': 3306,\n",
       " '04CE1B8D6E015E27A506652BA4CB622A4FBBD343D715A431C4DABFDB86C0BDFB.txt': 3307,\n",
       " '04D13F03A5E47F7D5661B93F3773B0986952FF37329ECCD2F7905B5199157A6D.txt': 3308,\n",
       " '04D3E3DA3876469EBA683951AA0DD4813FAF2710220D153CD8AB8D2A997D8A0C.txt': 3309,\n",
       " '04D3EBAD93BD8A8DB14727EF557B754A57C957CF367CB95B27C972B83B3284D2.txt': 3310,\n",
       " '04DF0995DC714F2A0FBABE4211DD49B1204F329DF9B5A5F17949ED33AD4447FA.txt': 3311,\n",
       " '04DF843AE41CB528F2EE3EE64627626D5FBD18FBDC75E3385C2EE7BEDE467459.txt': 3312,\n",
       " '04E630D3D9D09B49E06BB185A8F7D193DF9EC1E3D4DF5C1FBD033588F1A781B5.txt': 3313,\n",
       " '04ED47E5D538701DE3A8B605F15D69AAB3F28D53AAA7CD1CDE02C6974B599F46.txt': 3314,\n",
       " '04F5B2D39A3A3E3335123EBE3B6511CC7B78371FCB122C9D7239D12FE34CB89F.txt': 3315,\n",
       " '04FA11CBFA70948CCBD04D4E44542090A3865DFB355C611107CC619E521B21D0.txt': 3316,\n",
       " '04FF35DCD93B57BA0082394FA4811FE3A46031BB40B50A25001CBE60D472666A.txt': 3318,\n",
       " '050251D3DD57621AA252C784B8920B9989803B76D315BC199401E129BE034C3B.txt': 3319,\n",
       " '0508A97EA26E7E22182222B5F333829482631BDF56F5B7E20A236C51CDEF3588.txt': 3320,\n",
       " '0510BF7EC579CC77E86E905243744D4B096BA0CE4802461D1A5BEA2D92118793.txt': 3321,\n",
       " '0511D6D2ECF33E6B435AAAC5583CDBD9E70353900196A2322EB3AEBD85803A67.txt': 3322,\n",
       " '05199E520639028CCDB79059D9AC74E314CA47B683BD4EC029E0F049142E7E6B.txt': 3324,\n",
       " '051B21C7A8D15E010F71EEB85F517596F46B0A8757F7C1D7A6C908F1ED47793B.txt': 3325,\n",
       " '053323B6D888A71F8EB6E15C5A7504A55B240C9F3F04A9288FBBA5AA9780F456.txt': 3329,\n",
       " '053651E6AD5F6E6BED5E7D0E68BBEB03DD5E423041077076B9B465FC804EB5D9.txt': 3330,\n",
       " '053A42F42A2CEEE17EDBBDB97E85609124C2E7AE3D4B93A4DB9AD131F636D863.txt': 3331,\n",
       " '053E617768C8DDF956215EE74B66009A1719C9B0F191C0E2E1B1D62479F3BA0A.txt': 3332,\n",
       " '05467310DF4181636DE47CDF541A5CD8FB4FFC4B536DE201CDBD94D261D89246.txt': 3333,\n",
       " '05478E2B61BF0EC438AFAC054681C315D9464F57DF014C00F61EBE7D3E46613D.txt': 3334,\n",
       " '054DD3B026DF799AB0B274CA7C87C0AD6853BED087D1E803995AEC6C42B1C9CF.txt': 3338,\n",
       " '0552566E4F4C45DF52DF2ECA4FE9536CA7FA898A392E3D821219856B9F238F3F.txt': 3339,\n",
       " '0553A6655590CDD4B1DD0F963D8DAC9BC6761D3EC7801108F0E67F09BAF84949.txt': 3340,\n",
       " '055BF5607B4696EDA8D6BB2842CA50FFB39341D6C8F025F3D3F708B03558EC4B.txt': 3341,\n",
       " '055E95AAE9504F762577F415428971F2148390DFE1D675826A1938D47C8AE04C.txt': 3342,\n",
       " '056126696603BAD6F0C6B49F8E6FCA704194AE88D5D0751D66B7F8397850EEB3.txt': 3343,\n",
       " '0564FACDB381A815CBE72597A9CAB734AB2DF60A4E062C5185ADEDA75ABC0B69.txt': 3345,\n",
       " '0567679B6728E8C7D47D72398CF9A5342EF09D728996E345C4BEAF07C0BC9EB1.txt': 3348,\n",
       " '056E553273C145BB5CD03CA3A50F0D53A4BD618AAEC7BC8C217CFB49F3518448.txt': 3349,\n",
       " '056FEC6159C63C3C1CC328F1C1066D40AB8C60F655B2F0B0274E11267BE6DCEF.txt': 3350,\n",
       " '05710BF83ECE6D7C5E1C01B7EA75A77472B1639EA0AF1A647410CAFE68391E49.txt': 3351,\n",
       " '058D2634B4128ACBD929FA94289734A6D919B36D0062261FE448550579204E8D.txt': 3356,\n",
       " '058EAE24D16BB1E930D90AF601B527E37E127A3353ECDF9B230B1490B24C4A0A.txt': 3357,\n",
       " '059263C2CE82B45FC442B710B13FDFB814E03AA40D59BF189AE95533398D7B7B.txt': 3358,\n",
       " '05998FA7E04FCD6054576259488924829D6697D6FE6641984763460EB2BE4D1D.txt': 3360,\n",
       " '05A9A954CFA80DD54592C866FBAEF3A7A80B4484C589E13AD84EFCC5F514D173.txt': 3366,\n",
       " '05A9D6B37AA59623BA455033217FC95F993D875CF5A8798AF0B106D583BA00AB.txt': 3367,\n",
       " '05AAF9D09ED8A47DDAE34CB24812B17A6D2A2F0BB36F9A9472A33BFB7A1949D2.txt': 3369,\n",
       " '05AB2B657D2AA3BE35811CA9F1AB35B758E53C3B251B46805B4DED034C1A2660.txt': 3370,\n",
       " '05B3CB28522F1A4C3DED6EF652715BB9AFF09DA6BFE972C9CE354DF55717360E.txt': 3372,\n",
       " '05B58F13E8A107FBB8114CED47D3AF327D60F551C285EA2955303FA0C1D4A32F.txt': 3373,\n",
       " '05B5CEF5B8C1850FB033250DFC81B09C5472D3528278677517402286E4C3C53C.txt': 3374,\n",
       " '05BD56380F141344564FE3CC1CDCC36DCD545355CB8581894DB662C226F96AEC.txt': 3375,\n",
       " '05CA81B95FAF0739BEC5EA3EEDE8E7643A13091CCBAF73EAD408062CE591AE19.txt': 3377,\n",
       " '05CBED0BB8B6BAAD6C268B771B9C726105BA898BC891E7D6C595F7490D4F6E1A.txt': 3378,\n",
       " '05D0C9AD8CA20CB3520A1B548801100A313F73BF69AB857CAB4C3A7584AAE926.txt': 3379,\n",
       " '05D0EFA7A829B2A2CE0DEDE2F5E90B85929B0C9EBFC2AF65745FAC0F140AF324.txt': 3380,\n",
       " '05D5E30C0FE64B242E8FCC09612B996C9FD9DC3186BCE33F7E308960344D03C3.txt': 3381,\n",
       " '05D60CC58CCC08DA83E1C525A9436C72B8E2010224918A8A4E3148E42882A69B.txt': 3382,\n",
       " '05D95B15613CA99B53037AF3A3E582ED3AB0490CF8D61A1C289E402EEDE4A5AA.txt': 3383,\n",
       " '05DAF182C382DCAB6F02DB907D02FA6CEC038607A8CB42BB976649C42AD771D6.txt': 3384,\n",
       " '05DB64CD9C3C11CDB9EF316D8CB81522887CA14CA0143515F5B604C450E01CAD.txt': 3385,\n",
       " '05DC2EC0B6750A70E9B57A6E89EFD5B22E0F8CAC1D082A3A4415F0A38FA95A46.txt': 3386,\n",
       " '05DED0E1141C3C433589038709640576BD6290B82221504F4F0235004A05DE1D.txt': 3387,\n",
       " '05DF4A782D1EDF92D1C7E2EC465B60D61C61906B7679FA5563F2F0C474CC057C.txt': 3388,\n",
       " '05E180E1A6990F09ED4A749E1DCAEEA6EBC0A24D12EB8F1B06E659D0241F3A08.txt': 3389,\n",
       " '05E6B4054E83DA7406D01A1A22AFA640C7A5EB58C4E338A01918C629F7D2FFCB.txt': 3391,\n",
       " '05ECB1A6AE69CBA7153AB0A2A6CCA769D184488053ECCA54B799A546D407930A.txt': 3393,\n",
       " '05ECE4ECF395E129FC96453FEF7315DCABEDCDBB5C649E8D86F81945CA89ED95.txt': 3394,\n",
       " '05F128C23A839B4DCA749548285AB9F35C562292827E0DF78880E2D0DCC0E1C1.txt': 3396,\n",
       " '0602FA769D8FC4620CAEAA63701C10AC68DF360B0CB47B841E881E6AB5F00586.txt': 3399,\n",
       " '0603BACA4DA543E44AC754439DEBAED77401499410D666AFEC1601196B403F5B.txt': 3400,\n",
       " '0609BDFCC4B4A16BC2FB2D8F61C4C1EECC63BE7503A0BA131464A98E8FC89E08.txt': 3401,\n",
       " '060E3AFB534344906E6C86D9115394FEFF2095DFC15D6D992EBFF461143F0D28.txt': 3402,\n",
       " '0612D8C0139B521892D88BD95CD2A6F93AB96CE4CA654655B748A813460C11B6.txt': 3403,\n",
       " '06151585ACD74A9460E75E508CCFA6905D0819FEE5A2B86C840404463343C7FB.txt': 3404,\n",
       " '061D5B342EB309FA43F5949C52A4730A54A42FE066C93144533B1888BFBC7478.txt': 3405,\n",
       " '06226930F4FACDD7A280ED8C7D6C6357D37E5D1A0BD9EB457CB49146DD2CF83C.txt': 3406,\n",
       " '0624797D5D1FE0D6DB67C5450AA206527C20B5CE65DC881C864CCA34AB279F5D.txt': 3407,\n",
       " '062D6586B05F740F994A8BB03EA76A031C06DD0EA932024CFDB28C88782B2250.txt': 3409,\n",
       " '063664F61CD88F30935E1D2FE7B4DACCEE7897747751A25FC6310FDD9F83D24E.txt': 3411,\n",
       " '0638224ED0C5A64432AA33B53A16CCCEC8146F2FB120E69B3A9EFB5FC46EB36E.txt': 3412,\n",
       " '063890E59ACC4310DB7F4840D3F119EDE066BA3051D6B6DAF5A0C542220D3946.txt': 3413,\n",
       " '0645D38E300F1ABA7377F89B6047049CC0E09DC15E1F33539066478C25FB5F4B.txt': 3414,\n",
       " '0652E61F7DA1123D04C0873AF1C21E4AEDA63C23052D7E7CA3605D92BC8BC350.txt': 3417,\n",
       " '0659CB654A98C961BF95E51B1406D18DD35A6E1F03074830A381739EA3F2CEB6.txt': 3418,\n",
       " '0664C7D2C8049B6FE666F6B932140D327C125861035A48ABA9B2CE71C0893806.txt': 3420,\n",
       " '0665BDDEB256097DC24C7DE5E1ED972C96F9814D740D4EA4B61EAB1799158C1C.txt': 3421,\n",
       " '066E54C1142FE96D241F6D92E0A22B6C306FAE13E48F403F05C2B3AAFEDF8212.txt': 3425,\n",
       " '06701035CF37B881C9D59248DAA1777ED24E5CAF2B5620E35E88738260E89CDC.txt': 3426,\n",
       " '06725AB9970875193F6967118813323B4349F7DF89C2D38947156F1F40C336EC.txt': 3427,\n",
       " '0673F1FFE884B684C64B9D476880D2B35B865A19B54CBF05ECBBD3FDDBB02926.txt': 3428,\n",
       " '067BAE388D7575D4AD8004703811018DEF5EC94DCD5C4D62A8AEFD5C2E85B15F.txt': 3429,\n",
       " '067CB69304F7AA120EF3B387BB29C467E6F421720534F405928E5D0E552AD823.txt': 3430,\n",
       " '0681EB73C2E3E02CD29702F474443AE1DC41AEEC1E00487B3D1F044474D64E29.txt': 3434,\n",
       " '0686AE4D359484137AF82DD075733687AAA6798B6288E35C7FB6FA2776F8B8CC.txt': 3436,\n",
       " '06914E7F35F4280C0F122EE96F1D7BD7712540CC459E1FFBE630D5123DBA18D1.txt': 3440,\n",
       " '06ABD32912266E10328DDE5E3C7340218E521B8A3E6C81D6ACFA942E522367C2.txt': 3445,\n",
       " '06B13B1E1168DEC1CE26C1544F6618A79BA17194B39A27DE1B4C840A293E712F.txt': 3448,\n",
       " '06BDC5CA766DA146CA09EBF19141AE3DE4396944366DC29698F39E6B2481826A.txt': 3450,\n",
       " '06C044C1C36CCF2163EF45350BDC125F4B77E48C0518FBE7638BDD43BAD2E2AA.txt': 3451,\n",
       " '06C04E444C2A96C74D0FD3039AFC15D2B80DC1CBB8DB9C8F174EED437F0394BA.txt': 3452,\n",
       " '06C17409F088B55AD164369C66F8FBB542B2C9FDD63A467BD48BE5ED45250ADD.txt': 3453,\n",
       " '06C213CF54F09C6CDF45328B8649735E32A4A89DB8034F9BB39A71BA70D1EBF1.txt': 3454,\n",
       " '06CAA7801A8877654BA654359BF2C085690E0DE00F37706F2B4753CD010E9B00.txt': 3456,\n",
       " '06D13AE581282B60E9AC02A3473581AD91A1A2C800D6B8B1D06AD0BC02C3A849.txt': 3459,\n",
       " '06D1D591FB13F62A662C3CEF7E9C332F64DEE2D8A7CD455E3394B22C31A7E718.txt': 3460,\n",
       " '06D5E820389B4F1723FDF34C3B746993D6BC2040584494EF3062FEEDF75316C5.txt': 3462,\n",
       " '06D61899CE7102018A407899F795B16E298B7FB52E0A4656FB91997914E003D6.txt': 3463,\n",
       " '06ED5715775DAD9F8B02996B505B58DB5CCA51DAA343E078D5892D51CC42C149.txt': 3465,\n",
       " '06F0E33F5700BA933B729E01613E6FC6274AE6952771121D8A79559A09212F14.txt': 3466,\n",
       " '06F5CA518AF03788CAA32AD9C3F3682BFFB9B4B33D99BED642E78B2F7B305AAD.txt': 3467,\n",
       " '06F6988EB060326C923F52E9B19B34462D2B8D38D47D537D9787503AC3FD2B12.txt': 3468,\n",
       " '06FB0F1602144957CEDA642A8B01F88E0A7D9B7769A9E9F5A98B38CFB70F9A23.txt': 3470,\n",
       " '06FF4D1B50BD6F61D040B5BD72E6FE740EA38E7569695F875F2BCFE7C4BBE6D0.txt': 3471,\n",
       " '07037D940A0AEE672DBB2D543F39F0029E42D381BDF30428385CE779779FC85D.txt': 3472,\n",
       " '0703CBB9593F32736E335B491A790C753791112CAC1BD916ADC8F632BA341FBE.txt': 3473,\n",
       " '0704C85AAD69F391B17B7EDBD19C84CC893CE53FC31A58622D2C1CBD60847140.txt': 3474,\n",
       " '07123119B5794EFD4EFFB276CCC5F3A63D24843A044399182358DF596DA7107F.txt': 3475,\n",
       " '0718FFDE322314DD3E04093837389E70F5852DEE45D2D4C2939D50276BA2E25C.txt': 3477,\n",
       " '071FE9D49C59AECC8EB3C5C38CAFEF9AEFAB302FBA0ABC4310F8BAC6C215BE96.txt': 3478,\n",
       " '072391239A50D0BFD91CE7916858E43B93ACFCA9D23450A0EDEE06535EDE4721.txt': 3479,\n",
       " '07266194C0B3EC9C32C39F5F6C684D5D0D3877F8AC2D70E7F399B751A3FD68F1.txt': 3480,\n",
       " '0737A6D26C60D8BD579E0C4AE2184DBBB66A753BCD23773CFC0F2228EB63A893.txt': 3481,\n",
       " '074DDBC511B7FC6D699F2A4343F1CF4A910AEDC4DFF375C12213F267915A2DA0.txt': 3485,\n",
       " '074ECFF39002DCDBADCCD068C086C1CE555A5CDCCD97E160D6FDBE0D701255A1.txt': 3487,\n",
       " '075357D89A911FEED25C98498DA0DF39217E7F7C1E5319B33B9328ED6861B351.txt': 3490,\n",
       " '0757055C9C974F0A951B0B861B086601D62D4F4ADC5727C5C16E9DA042A3552D.txt': 3491,\n",
       " '075724076BB328F44BB5B0ABC4F2D2C656D59E0E9E08B2EE3E85144F61594238.txt': 3492,\n",
       " '076202627EFFD545C727747659C4148F346251BF1042AD6A258CE3E23FDE2863.txt': 3495,\n",
       " '07640CB234134424855533FB7CC7D2119B3FE23DAF64B4F952D5245E95A5BB14.txt': 3496,\n",
       " '076F48270D0B6509151F72C1B8A3ECC84EA0277C21F2C97E798A8C83678169FC.txt': 3498,\n",
       " '077CFF3AD0CCD738B19113DF0897FEBD304167CF5D468482C1AC4F1A11FF9156.txt': 3501,\n",
       " '07881A5693B64519F0222F57F235F16453281C1E75D6EDF86D576D89211BE1EC.txt': 3503,\n",
       " '078CDE1D899EE929F46E4C83DD3EFE093F63B3DADBFB3857F635599969437D1B.txt': 3504,\n",
       " '0790CFFAFF9A5CDD7B0C9A70992BCD14696D04379ED413E0763221D9A3F3923D.txt': 3505,\n",
       " '079760DCF2657225662A580F01BCD93757143E43379D78334B9CC68A599951F4.txt': 3507,\n",
       " '07A29E88B0C748D34EFF615CB092EDCCC22041BEC99FC042B772A70D246DDBC0.txt': 3510,\n",
       " '07ACC10C240D8A0C5B075CBD872C3ED04E1B623B5772D3ED84E9AC1BB7F1FFDF.txt': 3512,\n",
       " '07ADC5E4EF9DCBAE9C3F3E4267FD886AD741F77B1E3F963809B62168FEE41123.txt': 3513,\n",
       " '07AE0DDBC27534218685D57CF12C90E06BE8C6C6BB1D1BF9B43ECBB2B847652E.txt': 3514,\n",
       " '07AFAE9B1C951386AADC72439C6B4E665409A33FC2DC8A7198206E5CF7A55DBA.txt': 3515,\n",
       " '07B3C181031E4B2009AF3B30EEE196EBA96A4AF3FA340B5BC6B6D381A8BBEC6D.txt': 3517,\n",
       " '07B5822F4C42A33B6D2BC10FBC01F6B3348035646F5DEE08C34EFCF7F9EA794C.txt': 3518,\n",
       " '07B7B9B5089B020091F0C1858DB47C914659A40A390498484C4AC788D7679306.txt': 3520,\n",
       " '07C1E5ABEFBE7A5C73D7943FE9C83F93BC4ED34562E5379D014D49FACA589078.txt': 3521,\n",
       " '07C3A60ED82E75BE93FE68E57BD4CB3AEDF9E389E5CC21964FFC058D09C8303A.txt': 3522,\n",
       " '07C477CA401A205E4F1DFC24020E918B9FAEF1CA5A2C08BAB0C269DBFF35F249.txt': 3523,\n",
       " '07C55F82DCFAFD5DEABD3E3868073586DDB22D0EEF6632C4902AD3B5A64D03B1.txt': 3524,\n",
       " '07C9B457BBB5063E97B70C8C9E981CC45B9752E021B802E146564763833DD4E2.txt': 3525,\n",
       " '07D713ABCDFAC259895E02DFB813B99A29F1C9798B3B48BB63A6C023C47DBCDA.txt': 3528,\n",
       " '07E82564CA668E4EB57BA4C4BF5602C034E4258A810C78867CAC2C9EC0EC3D48.txt': 3529,\n",
       " '07EA6C4406EEBE2D7F58E0B31E31B982459829A7FCF669296FCDC78AD43F0014.txt': 3530,\n",
       " '07EAF883A8F39F20D7A266C25C1A84E362BCBC5C58F1D35E0B69090EBC2F5DC2.txt': 3531,\n",
       " '07F36C26333AE6161021B8E179E209D1D217D68EAC897D67A3FD674AE6704B23.txt': 3532,\n",
       " '07F3C784660A1A3D7096049982FA69905346DF2104B1536F461E107AA5875725.txt': 3533,\n",
       " '081D75BA58C5C071590D86A5B89770C9FDA8880AE12652CF9C3979173E665219.txt': 3536,\n",
       " '082555A1287D2B05A4097B215BDBEA0C1070D03D81691AAEB2FDF148FFB77901.txt': 3538,\n",
       " '082B2426526C76366D3CEC9E0EDA90667671FFDA90242C042124F323FCF225B2.txt': 3539,\n",
       " '0832DCD1D441AF92E8C87A8BB9D6D8B7B418037FB6BC82842906D2E0061F4DDC.txt': 3543,\n",
       " '083606C8ADBB296D64D808D00D3631D35A0330761C1783D237F3D38956BB8111.txt': 3544,\n",
       " '083E4E60E8684C92F5C3EF9160969E792FFD6AC240987F471F8ABAB954523C58.txt': 3545,\n",
       " '08439D814A1F75F983176AF7301930945A72733C4D995FAB40E10FF4A2712F3A.txt': 3546,\n",
       " '084B39BBC816A41848E79B5B62CECCF30E3CA5872D1EB7A84956A6162994D150.txt': 3548,\n",
       " '0857AE28096FFA4CB4EC529AA9CEF1D9F8993798588F7F42CC43760752EB7458.txt': 3549,\n",
       " '085BA7443E26ED171CB77EEC29A6919056AC926040198B9E33098B4D7D95A9FE.txt': 3551,\n",
       " '085C31365B9974CB8E932C816A195A0DD4B1E56F623C304A74797F9B431376F3.txt': 3552,\n",
       " '08680B838C08597F8B1203FC85D58E78D81246F54E66BDB62B8DFBBB667DF4C8.txt': 3553,\n",
       " '08697AC8E309CD2FEFEAF9FB7CAA907E8C5426D93550DA10EF3548116C9AF74A.txt': 3554,\n",
       " '086E088A0EF9CC57EFDE2235A0617DEAAD6F31D97949A60B8A5D8DC2E490FC16.txt': 3555,\n",
       " '08710493E54E72AEFB6626A2FC6768E11427404BCB1AB9401C4C007336184C7B.txt': 3556,\n",
       " '08746A0EA9F36CA2C8A86033541B417191DC569FFE521A4B5C66F12AA99FFEB0.txt': 3558,\n",
       " '087C3A369F967C78C586B24FFA4EC853E1687D387ECAA81980CE048CB6C51F22.txt': 3560,\n",
       " '0887989C2BE06209D33CA4ADC329FECA680C4B1E32A30168A71E10AC6969A091.txt': 3563,\n",
       " '08946FD8E7177803880C2CB0A2E82CA6CBB356F71A21360E9B825507DC2CEB10.txt': 3568,\n",
       " '08A4391CC4E80EF6590AA2CD8C2ED7967012FC22222076145B1A5F33E5AE67D6.txt': 3570,\n",
       " '08A6048526D81619F009E3497FB4349BCB962C976DF50B31052F2F97A118A435.txt': 3571,\n",
       " '08AF234851ECC18D1A610E6634DDA8AA140FA5DD4C34FE22EA9BFA072BA86FD8.txt': 3572,\n",
       " '08BD33EA1B1A056387C1D35241B48CB24AF44ECA9A17724480D4E78211AAB4B1.txt': 3575,\n",
       " '08C308B6374FD985FF3E1C7A844DF3C7AC09ED00A9DB8CF05DF7D1F88961FC54.txt': 3578,\n",
       " '08E0E8CC2B0FBDA459DCEEDCE3A322E8BBD5B36A59234A0957A2D04774864570.txt': 3584,\n",
       " '08E8578D12ABDB57E94C286BB340864BD769E993F69267B3FE16563C817ED98F.txt': 3585,\n",
       " '08EAD7A8586D79629774130F0D2E26E1E48C16242BDD54B9BF502DFC50FDE1E1.txt': 3588,\n",
       " '08EC5484CFF0D7842233AADFA3E8E228A2D6406C43090093468FF7C68B45079D.txt': 3589,\n",
       " '08F1A845072AED37ABD5780DE149D63134E4800E9B5E11A43EB67FD8BBB50E7A.txt': 3590,\n",
       " '08FBE0C4F53C95660D5B74A94897C8DD84511BEA88363190E2E533BFEF256D89.txt': 3592,\n",
       " '09053F6BDA6879A7A350551F5622CB0FA2F6E4156EFFC489507A4D611D23EE11.txt': 3593,\n",
       " '0906135D943DD95D27405E0B769CCF5010ADF5B478577A2E20C79751BD3BEBB6.txt': 3594,\n",
       " '0909307EC0DDE1EB39D2F8C358D52590C21E740837EB7E968A6BC80811482990.txt': 3595,\n",
       " '091565F9E3FD268E4627D462B053B5B708759F167F2E3E389E53D50090F00861.txt': 3597,\n",
       " '0918A954B66F877DCF6BF9F7DCABB0F36C6E5C1EDB7F1B9212A46021511BD0C5.txt': 3598,\n",
       " '091C2C8F7F93E9D88A0FAEF244DF36091239E8FEA784F752AA07DD70EB8719AD.txt': 3599,\n",
       " '091E9F3E526226EEB287CE248D84650D6623E4BDCE3F61E3DD29AFFD3AF9D544.txt': 3600,\n",
       " '0922E82F3A61C3B700B12AD2AAC1FEBED1BA2DC2916857F422B9AB2B4A21F420.txt': 3603,\n",
       " '09238B6065DF903196C60D21F0E4F548C9BFA507CABA6669E45A36BCCD1D6EDA.txt': 3604,\n",
       " '092F06F51E215B5DC1CCE9911F0914141E1E1BCB7A6AA183D23C771C7E69E079.txt': 3606,\n",
       " '093F4A46BC0CA7C28A25FFAB554ADC4FEA8ACF575D484BC781F3C93FB2FBAEC2.txt': 3608,\n",
       " '094A4BD4D92CF1B65D1167D28D18784CBEF6DBD1D1FDAF43AA90DAF93DB32CA6.txt': 3609,\n",
       " '09531F84FE34CCC241C3D2994EBEEF3C2F3C7D6523DFA1BEDEA79FFB48801239.txt': 3610,\n",
       " '0959174475E995FB1C449D93BF76D16DBE507796646E444EA439E1F49A172433.txt': 3611,\n",
       " '09592F05DD26C9DAC43FAF34F1A77F2890DBC9DBBBB6790D27D752AE15F41D88.txt': 3612,\n",
       " '095A07E88B62CC78B2193A120CE9DEA79910F2D9FCAFF9420E24A2B48AAE079A.txt': 3614,\n",
       " '095E668503FFA1CD461D5924419EA2E0EE75AEBC59F8B3A2E656ADB6665E8D83.txt': 3616,\n",
       " '095EFB85BA0D7B8E6CA678CAAB59A45726E70A0D99ABF90210549D18CBE63726.txt': 3617,\n",
       " '0967DE7E945B8BC43D13ED5E9A3334FAB495A44152D3CED50E83A63C099E03A3.txt': 3621,\n",
       " '096B24C726E0F0D78886BC59B4D3DE584E9E347E0AE8CD80E586961A7422A6DC.txt': 3622,\n",
       " '09740028E0BB5B7DF21100DA22F3027E475691F9AB175BC731FC93668B8A9736.txt': 3623,\n",
       " '097492F20466233D738B5F75DB64C5E2A9DB8CDAE62042DBC73C60D70E9C3ED2.txt': 3624,\n",
       " '097B8601F136AD9A1D1A9080D69F50AB1CA773FA47C920FEB3FCF601C1752AD2.txt': 3625,\n",
       " '097D6430D583C22DA5358DB11D5628AB23F75465C1EC8FD0D37571F5166E7BF7.txt': 3626,\n",
       " '098692230ED261A62F7B66B69598B362463D1EAE52360BCEC6A3F3856975FD30.txt': 3627,\n",
       " '0987C017730A6C2461F2D37ABA2529A04D0B8B8857D8D03BCF60768626D9478C.txt': 3628,\n",
       " '0993422BEB4E0FE3796A1F6734E536FB471479D1EF4F37BDDF064D662407FC76.txt': 3629,\n",
       " '0994D30CABE6EB613A2EE9239EA0FC105449857F8F9A003B48864678D731B397.txt': 3631,\n",
       " '099D7E06D9A7A9023E6FE317289BE8BF675FDCC2F6E76D9185C12588D351754D.txt': 3632,\n",
       " '09ABE6C7896E09651C5B077D9A157BD2B83BE86DF1E1F86D83F8DAC53B0AAF2A.txt': 3635,\n",
       " '09B315C69CE6335BEDEB817C510FDE1BB467836AAC08DF64C041F401C9160CD4.txt': 3636,\n",
       " '09C62B705A3EB992FD31151D029E5564D07DB8888BC90A7A8278648B9D921A4F.txt': 3638,\n",
       " '09C76C459D2876310106FD48223A1CCAD4F7988CEC52B3DE9D9596F5A63E11A2.txt': 3639,\n",
       " '09CD9E77B78F240C568559E68B0730B6EF94BF2A61DF01A85B81BD21360590F6.txt': 3640,\n",
       " '09DDDD1FE5C15EF7A7570766BBE9CE6C9D35533DC2166B5260A5ABC7802EB08D.txt': 3641,\n",
       " '09E5C4F33A0274DEBEADE19AE59F508BEB4D077CA7ED510A8117CE8DD592B91B.txt': 3643,\n",
       " '09F039945B3B47DD72D47A61BB3AA4EAA330D8FC09FF08500A4F089D5D464923.txt': 3647,\n",
       " '09FD12A6D4E208F47A7C10EF24BF0FCD794AF861571B6AA1C2EAC93A4DB964F2.txt': 3649,\n",
       " '0A053DF7BA91D1494B353F1592485B0C611FC02AD5A9D59421F1AE0B7407A84D.txt': 3651,\n",
       " '0A0D6E20351A723A579C3887DE730AEE2A3D15FC3432A9BBA369F942790AD48C.txt': 3653,\n",
       " '0A104826E00B3CAA8F44020118E59722DE13586EFF36281E9A783A07F4B0BB15.txt': 3655,\n",
       " '0A104D233EE1A7DC32CB2512A122DA69DB33CE9111B8A0A597F6FD0DCE08B396.txt': 3656,\n",
       " '0A107821108D297E73820418D6B70B35F10F1C7E58AB30F679C321D387B9CE63.txt': 3657,\n",
       " '0A1E83EA7979042CEC55349D1B7CBC7C8DF3BDF3535B8495C9317B8F117D7B47.txt': 3659,\n",
       " '0A1ECCBF0916926CF46343730CD75B8074FED70674B671C5E3DC0AA0840F940A.txt': 3660,\n",
       " '0A23EE668BB7111F9BF599CE014A0F7B1F6E213AAA25806F3B57673E0C53A749.txt': 3662,\n",
       " '0A28D68E0E025F7212990632E5C9A88C5FFFE7862D3E0BCC15E3DACBC8E0BCF2.txt': 3663,\n",
       " '0A3226403D6CA351923B97D93538193D11E02C35A9ACED8C9DC84F888B1FBA5E.txt': 3664,\n",
       " '0A343D88C983846BDE00A7690444EC28F7C2DB695FD32F4833CC6C632B06F0AE.txt': 3665,\n",
       " '0A476F4DEAA852945E022353BF098EE5C7D7E338F8313FF08C036F3E735C53EF.txt': 3667,\n",
       " '0A48DF775CCBC3811EF12F3D330AEBC8D9CEF696112866E3644805578C5537C8.txt': 3668,\n",
       " '0A4B7FE80C09B1BB35E85779F212509EEC1CD588EDA98A660B9A8A508B65DC68.txt': 3669,\n",
       " '0A4C5851924A7CBB28656767657BDEC5E863CD56E3D423DB41528063B849439B.txt': 3670,\n",
       " '0A4FDFB3602056C1176741BFCD337B56C731B17E4566A8C96C4FF1D7C3C66A23.txt': 3671,\n",
       " '0A51C6E691C6B1EE3E975951642CD110B4831B3B5516EBE6C99EBA80DA3A3A50.txt': 3672,\n",
       " '0A523BCBA0BDB789146AFE7F37055FDF503D64E456A3D8C844D75CF9633AFFB6.txt': 3673,\n",
       " '0A59C4789FD6AF5ABA400F01F246E03A512C9FF8AEE165930A8FC273DAC6F130.txt': 3674,\n",
       " '0A6465CCC8BBD1E0501D982C901C18C5DB62D6A4C8381C78FBD607C9A1C4CBE0.txt': 3675,\n",
       " '0A6A85731B33A1B613B7DA124D58DDFCF121005DBD93FDB48D091C2C2EF371B1.txt': 3676,\n",
       " '0A7119F3D0D0B4991E4622037E77A838C19A211CEB3CD6B9B850515ECFCB45CE.txt': 3679,\n",
       " '0A76E4115A1EEF51B4E2132490857BB3AF0F95E906699C716233D5C6D67281C5.txt': 3680,\n",
       " '0A785AAA3C922175C885E5879A31491BB2EBBF88E76C1CE435F07D33C408D701.txt': 3681,\n",
       " '0A7F28101F2B104BA8533F28EB9522A5C9411094627D772D0C45CDB7531C85C0.txt': 3682,\n",
       " '0A81CC39D4389135B7F2664183B8EAE706DA9CD84E367544A64F47108D41E77A.txt': 3683,\n",
       " '0A8EF945F302A98F6D2B705FDAC3BC7901CFC7231B98F33523F9BF1F349E6FA1.txt': 3687,\n",
       " '0A9093056E2D8981DB68690801A1C0C482FFA4A3E224EE4BACFCE6E38E2D3386.txt': 3688,\n",
       " '0A9614A40D517F421E5F6DCF9F457D7D6957705296C99E81A05CB79DD0692658.txt': 3690,\n",
       " '0A976FD1E39FA1A5E06E1944A72A7F6D3A8DF8785361305C7575AFB4E7445280.txt': 3691,\n",
       " '0AB7AF0E1BD3140061BCAD602A31F3642380CC50B805BF91AC64AD0D4EA39E18.txt': 3694,\n",
       " '0AB7C8B17B95C857ECA863256CDAD93B2FFB280854A88647FF805976A99F150F.txt': 3695,\n",
       " '0ABB8353DD33103B576818672EDE8FD12D5634814FD0381D9DB2C940C8ACC0EC.txt': 3697,\n",
       " '0AC2CD0620B9F53FAB88844A05637C17348F8F9AA4F89E4A89778DD6D06A31D0.txt': 3698,\n",
       " '0AC9690593AAE716FAB34EB2A04C32075DA947B9C68546C81440C776545F43E8.txt': 3701,\n",
       " '0ACE87E7CD72610430765A9A6926459E93121CAB39968169A93B84370FB81C4D.txt': 3703,\n",
       " '0AD5833E42D26E842711D5A03CD7ED2C16894E5C969C6A461209EBF045903D0E.txt': 3704,\n",
       " '0ADC46EB571BEEB9246A93264B9F2DB4B6DC82B2B5212C11FDAC751490352C32.txt': 3706,\n",
       " '0AE14421889BF9A80E50BDB44C8EA2B6F7E201E10B42E52B544BCC9AE5C7CE56.txt': 3708,\n",
       " '0AEDEBEBD2678DEBFB0C302284832E05B0CC1E44197CE81C3CC0008FC7CD0167.txt': 3711,\n",
       " '0AF95D1659D17E6D1B5D9CB3CE9110FF971F9740E272546B27D0F26C08B598F0.txt': 3714,\n",
       " '0AFB79C041195B633A6FD5E6F8006A74558C91CB0B2D2BF12D265FD6A5C0233F.txt': 3715,\n",
       " '0AFD2B3FCD1AA9A8E46D645C458CBC7B8024D9418EA6A11E7982AC4DEAF79AE4.txt': 3717,\n",
       " '0B1028521CB7E6012CD60EAC7BF7E7C31D60452144E6A84D19B6823386F219F1.txt': 3720,\n",
       " '0B16B1D0E7141822F960FCE202BD1D59A677EE0BEC6E5F9029179C835E434C37.txt': 3721,\n",
       " '0B1A2313755F15430D4BB25EC993B23B9ACA675F2C5E0373C12F9F7AF84E9E59.txt': 3722,\n",
       " '0B25A93AFC4BA46604BF40EB4910082EC294BE0C8C0C483B3E088E5ACCFE84CD.txt': 3725,\n",
       " '0B2BDB11DC71D48FE4BBE09E523DB622FEC4CB1C1DE14EF7E67F9855BCECD936.txt': 3726,\n",
       " '0B3199828A8B9CE820595ABFD4D8C244AB03A7890C6B9D423122FBD036567760.txt': 3727,\n",
       " '0B3A20C1CBC26DEF84D1875FB1AB40D3A0C974D4EEDA7DD5D202D82E148A4027.txt': 3729,\n",
       " '0B4B23AC1794EC88A668BDC2FEB7AF64869B91D3F5C17E76F86B7069C1E1DC00.txt': 3730,\n",
       " '0B4CCFAE43DD7FD180A1798C576AE6DB7AF2D8B6A059F814845A11A8151ABB66.txt': 3731,\n",
       " '0B512419E1A377F3B93FEB453BBD5150C8D2BD3CACB1A90D23DFB2BC402BF8C3.txt': 3732,\n",
       " '0B5623688DA758DF6F423235BF06A6734C959ADED14E1A7FF8ABB9BD31F252FF.txt': 3733,\n",
       " '0B5DD6AB4FC7739D35D5B514131ED1582BE1187CA8EA4C4C4D9F1AB53F631933.txt': 3735,\n",
       " '0B61FB01DC1F2B4C35C09C54E3711010F1881C7E0E7714DF265DAED9C56DCBF5.txt': 3736,\n",
       " '0B6EFB0C740075AC51574CE3F85318C6EC62358E7DE9A31128A050D57934AE4E.txt': 3739,\n",
       " '0B6F1904213A305F306B41798D02AD81C30112B001343531CBB1831902D1AAD6.txt': 3740,\n",
       " '0B72FFD7281254775CC92E49AD30628BDDA0638806D8FC6E8EAA38D55C7DC791.txt': 3741,\n",
       " '0B7B7C22B13C6CC143BF5FB82B111AC047AE0F7746563CE12EF0735F7312A689.txt': 3742,\n",
       " '0B85DFF0B40D0835F3612700F717DADEF1F7F09C8D77F02E9F7CB107E7359410.txt': 3743,\n",
       " '0B861C2D4DF50DCB1CFD8F04001B2099E9B1219AF351B5F0EDB228DCF50BCB4C.txt': 3744,\n",
       " '0B8E939889E23C739DA55F3484E2FB1F3D8420354F4CA341BBBEF1D874D887FF.txt': 3745,\n",
       " '0B99E5122223431D210BB90101ED6BEDEF1ED9583CE7A8573A27222056D072BA.txt': 3746,\n",
       " '0B9C4100F6110013A5400E644AA61FFF3E7DACBD725F7A10C4B733B0617361BE.txt': 3747,\n",
       " '0BA433EDCF5D1159634FD26E278563DD876B596540CF1749B6A80371B3C0FEFB.txt': 3748,\n",
       " '0BB11CA11E8EC5A2E9A0665A6866FD7740854F97975E3BFF0734D4A34E46DD27.txt': 3749,\n",
       " '0BB30FF860A18E4FE8C0446B394574F22844BC2356C8E136233218ABB23430F1.txt': 3750,\n",
       " '0BBBDF1461E7593F5A763B50111BC807E703EFC0E76B5B8F9E329A5B64772482.txt': 3751,\n",
       " '0BBC780F94EA298311B958F6B1C2CE4D6D04E3C69388D22786CA8857C95A6E37.txt': 3752,\n",
       " '0BBD23B44593B9CFF2995AAA4E75A941D61BF07E54FBA75B6F22FBE27FE88DEC.txt': 3753,\n",
       " '0BBE5893C0F6DFA41BD3A5E8EDED6589F0AD30B7D1246765E05DA50721E9B31F.txt': 3754,\n",
       " '0BBE83864E8E7D7428DB3D531189FB38B16465C0A76DE5CE0586519601B79E2E.txt': 3755,\n",
       " '0BC36A1F111BAB86172DBA8FF262B0651CBD259B329B7272AEF163929E423B99.txt': 3756,\n",
       " '0BC3CFAB4AFDE0C23DE71F9DDB60FC1DDA3F56673133777F9ED482565910C8AA.txt': 3757,\n",
       " '0BC50475ECC14AF160EBB307E429556CE09EB6367115CB00BEE15F3E13C7D4F3.txt': 3758,\n",
       " '0BC7D3E6EDAC193B6C877EB6B76C9C13116E05FC602C8B79FA68BC3B44619B9F.txt': 3759,\n",
       " '0BD32B4EC7F0717E9AF994D0966143FB6181A9CBC90D0E715B47B17D4B8292C3.txt': 3761,\n",
       " '0BDBBF2864921BA553667A8BA14B764F4CD5973444DF499B405352EA1963E265.txt': 3765,\n",
       " '0BE71AAB19AEFFE84B9E8B38F25BD4D3E462EAA7E2ADED10D9AA93FD6DDBD562.txt': 3767,\n",
       " '0BE8AA57F67554C180F3969BBEAD42E82AAF6A49C98AB68544EA9B4F75B06341.txt': 3768,\n",
       " '0BEB1EA8C0503DAB331DEABDB43FC5E1C62D98713838CB867CA7941D7136D80C.txt': 3769,\n",
       " '0BFAF28B4B481C87632B5A1465048C39332EAC5AF9DDFBFCCD2D8DD30FEF00A1.txt': 3771,\n",
       " '0C042711459207E7791B2A13393633C88DBA08438CA8200A03F69080C84D467C.txt': 3772,\n",
       " '0C0F388742A7C41D1B740A041EFD042B71926EEE4888AC3399B7F1505456E12B.txt': 3775,\n",
       " '0C117CE69603D1EA03C661989BEB197C0E66A8AC7F3EE335F3D737B4A5C6B863.txt': 3776,\n",
       " '0C12BA11BF110963F4CD4C5372469D180C20E41FA9B76684CD2AB6E2EBF4E248.txt': 3777,\n",
       " '0C132ABEF10583BC7C5215C8E77900D551912D6E2A3AFB699F821DE6F49AB572.txt': 3778,\n",
       " '0C1E88175D41DA28A6B7026C80908ABE8BD3ED98653462E233ABA6DA84455430.txt': 3781,\n",
       " '0C28BC8793EC282A4ADF032695E2089BD2108DD30925E865029010A746EC5794.txt': 3783,\n",
       " '0C3061693B7384D681CB14F82F9FF5882A315B96B6D7B22041635F2C4054ABE7.txt': 3785,\n",
       " '0C3A7215325E8257C47EA3C6A39498633C21A00616F11C16736587424A810EA9.txt': 3786,\n",
       " '0C412F98A98D6652D8ED4C019FF7848A7DB5A6B22FF407CC0D1F3ADC9F796D6A.txt': 3788,\n",
       " '0C42B88DB9FA7AEC85B6292BCAF6D8EDB44B9EDE85E6E9EF3CE15BFCBD353E76.txt': 3789,\n",
       " '0C44007CADC26BB9877169713AD1F715241DAEE3A3EAB32191D993E51B5CE43A.txt': 3790,\n",
       " '0C4B03E47C89D423E6A4A621B6702F1DB56E4AEF22CA7F4AABA8FF7596EDE69F.txt': 3793,\n",
       " '0C5E673717599BB165DCDED01BBF26D4E3CCF57897596466F6FF42C2986515BA.txt': 3795,\n",
       " '0C5FA8242803A84464ED87952E7A13AD43210D2FD22D198E9C3E48CDD260F074.txt': 3796,\n",
       " '0C69480090C75B469C1F2E52ECAE773F4DA0DA0780EDA2C11F16227CFFC1BF49.txt': 3797,\n",
       " '0C6A3DBF3023906EECE78C58B81122DF97F08CE48AA3C28129592FE0CF24E206.txt': 3798,\n",
       " '0C7194ACF503DBB1B24E4B5488CCBFD1847CB5584E9331299D4255E9FE752D6D.txt': 3799,\n",
       " '0C817CA3FA3E4A1FFFF99B0F73729AC56C66F55C9A843F3250A255EC806D48D7.txt': 3802,\n",
       " '0C81CEEDEC7F899AF693E2D795CB5A4C43738535A503AF1926AFC68EA1DDB34A.txt': 3803,\n",
       " '0C85BF577FDA7DF37519559452E54408294476F59E60FB8BB51B3AB927C0BFA7.txt': 3804,\n",
       " '0C87738E0063A6E3A782A695ED8FCF1F22E16BC7BC21BED4677A6330583A0A57.txt': 3805,\n",
       " '0C890E2DE77AFD1A3224696ED0CAA6FE69D9F0831AD72B20F11F23B03BDDCC85.txt': 3806,\n",
       " '0C8AF42CD0DF26DC16A1F40A2E2FC2D10E1050C021D2FC20A0B0C2FD0BE4A0C4.txt': 3807,\n",
       " '0C90864149EE2722A18E8DB1E9ED924A163FCDB735B04778509873A9C35AB770.txt': 3808,\n",
       " '0C90EDBF148A69CCE572F10E32B2A470BCC180B0B9366BE5D36A15D228AD786C.txt': 3809,\n",
       " '0C95A9D4798D629F3672B50BC04C574145CB6D55728414DDB3AFED10C88E1B44.txt': 3810,\n",
       " '0C98C65854B1C70DDB4D3AD50D492AC42537069FBF8EDDDFEF9AFE8125188190.txt': 3812,\n",
       " '0C9BEF197A950BDACD7BC23D390F8A98B62175234475CC5ED7D8C58C926617F4.txt': 3813,\n",
       " '0CA79B26859E8D683D96AB67B1F2127977875C3A99CAA8ECB4E63398DECA3162.txt': 3816,\n",
       " '0CB2FF52FFA009149B0ABE916553D60F6D968ADC9C0AC63DA8AACD727B9785F1.txt': 3818,\n",
       " '0CB36829200C043431A1EDE8A9C7FDE4F100BD6666EB9665DA2F23A72896D0F2.txt': 3819,\n",
       " '0CB3CB0A8978FE69D70E805E0F98DC4C4550CA9F366EEB28687EE24FB37D5322.txt': 3820,\n",
       " '0CB47F34341F7B46461708540111744C57DFA94EBDDFFF1393B55E9A9BC39524.txt': 3821,\n",
       " '0CBCBF266DB1774A526B96CE16E1F63EFFD493D6E4BBC19B6D21F7B25E0FDAC9.txt': 3823,\n",
       " '0CBE563F31A7C1E25D4C218CBE7AE7C7EC6108889C7E7EA166A0E16AB2895414.txt': 3824,\n",
       " '0CC570F2476EE5EB7106B826BF49FEB23D92F74AC58991D8CE476442F4B6A8A4.txt': 3826,\n",
       " '0CC9B8D71E9CCA7D6A331E85D9C1E5A6F92291A96AEA26B577610C7B6C36A1BD.txt': 3827,\n",
       " '0CCA624A9A3844932DBB49CE96F1B31316E40B0AB1D9D22D6C662791537FD12F.txt': 3828,\n",
       " '0CCD8AFDE540EE77B1C24E71DF1BE9F506B277882B6FDEEFBC0833B5D00E7123.txt': 3830,\n",
       " '0CCF23ED85F73F480EDEF428ABEBDB7DA5BAC70710119E8BB047C07E3718C86E.txt': 3831,\n",
       " '0CD0BFA7FBC7BF78CAACED0E49C216330192173A3A14E9D8C454B258D54D1A2C.txt': 3832,\n",
       " '0CF197271791E9B0EE9917E3F37A40F6B976B49046A2C1FB2450D2F8BE25D4AB.txt': 3834,\n",
       " '0CF49DEB430F3AA117B180E075721AE9255E0F05A2F8A5529C22618981BC1F6A.txt': 3836,\n",
       " '0CF6ABD9C5D17D4240373D31F5BCC49E3E283330DCD1B11924C834075EAD46C6.txt': 3837,\n",
       " '0CF8EAF6E929B1DC04139FEF0B83E025D0BC8DFECA9294BBF364BB0727EA9B5D.txt': 3839,\n",
       " '0D0BD3D7A2474DAE4B72B96CD805BD3849A8D507067E4B2CBD31F610C0648C7A.txt': 3841,\n",
       " '0D16281BDBC50392A00FDE3B6E5D6AA98F6FA2739D15CAF3D98470E378124428.txt': 3842,\n",
       " '0D1D9619654CDB26ADDB4FBEC9F546E839A3E23348DC5B8B472CF934AC490431.txt': 3843,\n",
       " '0D1DD3E855B6BE8445B2C1C7ED920C90E7C871CD18B5C0D4C5729DA2B8DA2A31.txt': 3844,\n",
       " '0D1EE4F7A00F4CCB83B0ECB4116EFC8AC1F72781FBF5E1BEC836ED4246C9012B.txt': 3846,\n",
       " '0D2921A7DEDEA5643A35C2858076F91D8F739118123148DE5C22C87706338A02.txt': 3848,\n",
       " '0D2AF58D02B666DEF7EE6B6461A7B7EB2ED260AE232A228952F22A3FE558193A.txt': 3849,\n",
       " '0D3FCA7D82C2F72D953607CB612F460A86B6E02E8E61A6402BA627D053F89828.txt': 3854,\n",
       " '0D41B9A4581B00FE4CE4213131EC2AE561D27278047582C9B4B76813C0E1C645.txt': 3855,\n",
       " '0D4D20CF6C209BE1A433A24E98C16B13AFDD278E006CA1C53040CFAE7559D6A2.txt': 3857,\n",
       " '0D570B180A12D8F365DCE5F15BA78248F68CA54FD771370B4BD146A75FF810A6.txt': 3859,\n",
       " '0D5CA1CABF4810EA355D4A5EE470A70983039DB8CC4FD8D73404F4D7FA3BA878.txt': 3861,\n",
       " '0D5E688C8E33E726A72B470A3C4527E3CE4A70E1C36380DDFB6635645FCD523E.txt': 3862,\n",
       " '0D63F82BF920E4A14F33AD7483E1235B0E99BB9040F63439C64573A0DEB4414E.txt': 3864,\n",
       " '0D64345D0162F6110FC0AB1DD96EAD70DD9B8CB058DC7E055F1BE5C59A7070C6.txt': 3865,\n",
       " '0D67FB0FD062C2A3CFC8B89EA33831B7AEEE9B5B5659B5C3166C8A1F09992E87.txt': 3866,\n",
       " '0D6EE71F720752D2A4A37290832CBE507D70FFFE7C0BEBAC1FF2D20D0AE42859.txt': 3867,\n",
       " '0D73955F7F156D115BBA4A20AB7A5299A58878379E324D23D8C61E0DAC97BEDC.txt': 3869,\n",
       " '0D7BD49DAA58656F1BDFD2FC3F1E395C64E37E1402BD65BB6CFD810DA997BCE5.txt': 3874,\n",
       " '0D81C1184AF40C30DAA6B8645E57781DB5F7EEE4A3D56FA063EC9FE14E4241F9.txt': 3877,\n",
       " '0D842A2F839474B611CD6A010EEC178D2FFBD5A6B6A13785949D8240AACAEA9E.txt': 3878,\n",
       " '0D867488A931F41A4176A58A0A8F75B6BFA223D9C6C6CA65F4516ADD12E3B469.txt': 3879,\n",
       " '0D88879ED96479D338D25136A7305EE26BF592F03C94F7FFBB37D1D1A4B527F6.txt': 3880,\n",
       " '0D8B2FB4D981D5DE024B7B6180678CCD3FACC63C36B72E28EEB7ED1E98B6A1F4.txt': 3882,\n",
       " '0D9572A89123CC36260DBB8D19C9625452107418AFA8F7649B55236619EC411C.txt': 3886,\n",
       " '0D99239CC9A54B26D51FE61A969C1CB24A6F391BFE38B64F2A1A8875AD87C937.txt': 3887,\n",
       " '0D9C960DD6C607886A08EFF5BF0BEE5A99298759AD0418F9971C341DE08D6807.txt': 3888,\n",
       " '0DA3FFA13E2F11BD71C90635CD9595ED7C4FC8A663D892A9D12C92A2B92FBD3E.txt': 3889,\n",
       " '0DAC3FBE00DCB624889EA37EFC2DF34D35658CAF274297E79D54769F1C98F591.txt': 3892,\n",
       " '0DAEA548AD96F2958A501D24938B0F75D5B3CBA1FE40B3D91DE76953F65B7B68.txt': 3893,\n",
       " '0DB8BC53C4D49DAFF3233B927628BED30A550CBA062D59215599BC5D192577F9.txt': 3894,\n",
       " '0DC763B534CA8AC7E77CA0D81E479BD5BA41F858EA4034949677651FF1AF5C73.txt': 3898,\n",
       " '0DD5639097FD98D162BEA1BA57CCEA37B32684EF2FAC8FE631363B708E7023E9.txt': 3901,\n",
       " '0DDE5FB81AF3F329BD673EE27272261B0E9D9C85F5DC252A2F447305C69E2E01.txt': 3903,\n",
       " '0DE32D58B247C792BD4BBA1E9426A8A9B3A88C1DA767C4ED1F6C44842D86273C.txt': 3905,\n",
       " '0DE70CA8FAB18E8BD338E1CF1B90FFA3B06BDBCB5F303F83172BEAF013BCC69A.txt': 3906,\n",
       " '0DEAC0472016DDCAC5545BEE660FB4F0B4182E36404473359ABA5398370A32F8.txt': 3907,\n",
       " '0DF0736CE8A8FF485244418F89E17A7B54ABD5BC3BF50841DD0B9474A876A0F5.txt': 3908,\n",
       " '0DF1ECEA09EF4864FDB60E49A1C7DB388905BEF85C4673D6427BA3C465F3F546.txt': 3909,\n",
       " '0E112BCB519DB7B401A21A8D59CFDDDF2D2D36FBEF60435B20C47AE8A727E2A5.txt': 3913,\n",
       " '0E187C82246118818442995A722D7DA9FEB4F2210899B82B33E9A12E848DB18A.txt': 3914,\n",
       " '0E1BE58CDCB6ED44968BEA31768BE1813485999B8548F331BAA8BAEA2CB86A89.txt': 3915,\n",
       " '0E29D351E72F68236EBC27AD6B940E02CF22CE757E9A18549752AE3C3D696548.txt': 3918,\n",
       " '0E2D6203AD3D3B864B20E502A2EDF6389A422E4C95B8122B779D2CC7424EA48A.txt': 3919,\n",
       " '0E2F8C239A898902EA34768AEEA4A89B6E16D2F4BEBF344C5C429B710AE8CEA4.txt': 3920,\n",
       " '0E37D97C985E27076ED927958E64E44A50F0C9B1AF3309716420385AEFA2110A.txt': 3923,\n",
       " '0E5DC9720F474D40939D5F2E3AE5768081AB651D3F44ABCA8794A9A08DB55100.txt': 3928,\n",
       " '0E7559815256B65C6F1A29741B2A0C9A868A9057C8C5B2B701ABE4F21C5FB7D4.txt': 3929,\n",
       " '0E837C3F613F0885235D55DC966938EAC03DA9D3C30480B0A0BF47769EBAE33E.txt': 3930,\n",
       " '0E877E7EB7F56E3551319D6B6116D3825666296B292EC0734E22939DC4A25DDE.txt': 3932,\n",
       " '0E8F16A5315126B26261AA6EC7E4CCD2BC3D3813135144F2B9CDB51F7F6E60EC.txt': 3935,\n",
       " '0E954A990B50B016C2ED1B2B2E8D068F0B5242B4644B663054FE194626FEE1FA.txt': 3936,\n",
       " '0E9A4FED32FC8538BFB75C29F56E138AF1CBB5C7BE67BDE7EC6C59EFB373EDA1.txt': 3937,\n",
       " '0E9DF314DE149CFAD5D448687858D9A8CD8B987AAE343F1A70AF72DCCFF78FC4.txt': 3938,\n",
       " '0E9FAC9CD96F3C4D8588BBC794B4F72F54CAE13D9DC0FFCCA4CAC576392EA9B6.txt': 3939,\n",
       " '0EB642BFC50527D6CDBD09E5FD513F25EADF84C8D65C2AE7AD1F9C1E315ABA5B.txt': 3942,\n",
       " '0EC181B433F277E59584D5870DB886D91D80AA0E73FDEC3F34BD82C9B20D5C68.txt': 3945,\n",
       " '0ED49E8E766177A18E0869C6899F4B2594B11B59393A6E202A594384A60F5F58.txt': 3947,\n",
       " '0EF157404FDD8BEB9F1292501DD394E03E0960ACE8D6F0BDAE177A90D40405EE.txt': 3950,\n",
       " '0EF2E6877A25AAE7B93E13D2272618BD05E64AB2D8C9A8942E7BF202B947A569.txt': 3951,\n",
       " '0EF8B8E453540E8B81F1CE2D8085C638270183FF0D3B7E564CDCA7CF644A9C52.txt': 3952,\n",
       " '0F0B284A9D17ADDDFB801D06AC67826D436484AFF146E66E7A4CF4BA4D064270.txt': 3953,\n",
       " '0F1A5C7CC53BA2B5C7EF3D2EA45B1F08CD84CE1E1E85F3AC6EAE0F447DF5035D.txt': 3955,\n",
       " '0F1B0BE1244020C2F46BAF0C585F56ED97DF236DA8207EB7E3694326239D90EB.txt': 3956,\n",
       " '0F25B51FF4B1B11C401643AB5DB1245F5FE5CF14A830568E0B79238DF4AB33BC.txt': 3957,\n",
       " '0F3AEA905853A16D946DB0B51BB57D561318CF742336838FD6431406B03E8721.txt': 3962,\n",
       " '0F3D62D087B6B68389B5FF725DEC93C8038371DC6F4DFEA632155EB25DA44532.txt': 3963,\n",
       " '0F4414BBAB36E2425C08990B53146DD39855F64E37C7DBCF6588224E588CE4B1.txt': 3964,\n",
       " '0F487A2A54BC1F4D0889A75ACFB5E3F135C7B544275C1F0683480819DC4FEAA8.txt': 3965,\n",
       " '0F4A37AD6344A038742A49F8ECAC6A7B8C6DD2D0767C30442DB9B77973A905FC.txt': 3966,\n",
       " '0F4D9DD06355DE936A367118F0203CBCB240014D7997C873FDB7F22B0B0F7E49.txt': 3967,\n",
       " '0F5449020A714C93F707D61DB2236B28744B0C470B4AC94025259E6E84F5C9A9.txt': 3968,\n",
       " '0F650EC45AEBF32720A00AB6C2820FC007659F591E1F0C1355F762E201D2DA8B.txt': 3969,\n",
       " '0F6ADA40816E54B00104D52E83F13DD111B44758A9BD313BC1757CC1B1C2BB2D.txt': 3970,\n",
       " '0F78C57CF4AA493C36FB77405EC4DBDAE10815FBEEB838ED16A0782E7522607B.txt': 3971,\n",
       " '0F7F1AB28611BAB34259208C1EE27A6145AE1D07AA4C81867C0E7428A246E509.txt': 3973,\n",
       " '0F811DF8F42BBFA4E3ACA41994767D4B89596E24AC8A99569A90429E9860CDD3.txt': 3974,\n",
       " '0F83F48C8970F20CB772E9133498EC59BC12FC61C651A4861675C0FC91933A2D.txt': 3975,\n",
       " '0F91AA4500126F68D09E22C007FCE8B3DBAB184D98F3D9682A80E8A5D8CF8A72.txt': 3979,\n",
       " '0F9EF5294372ED98AA38CC7A2F5DC3B6B4AEBCC23B4B2BB1AE2121AF6ED97DBA.txt': 3980,\n",
       " '0FA1D3094EB76D71C7C23FAA306680B79761D0D7A400BF377188E06D8B10B7FB.txt': 3981,\n",
       " '0FAA115AE47B23B073789A1A507FA009B6A9181CA7A5F380891C052E96A2A26B.txt': 3985,\n",
       " '0FADE50DD679B6BF169FAEBD2713521D3CF5A3ACF2D0F92B3C5FE712CD929614.txt': 3986,\n",
       " '0FB7A0EAF50F801C1BF5B7269D183DC27589B9BFC001975DDD9D426C47B8F3AD.txt': 3990,\n",
       " '0FBEC66A8122B236BCF2A0F54E199904866138393CF8D5E04383E36EF6488099.txt': 3992,\n",
       " '0FC16E275742F38FE555D0AE4375BE6703423CA481A95DA757585DB3D0AD5871.txt': 3993,\n",
       " '0FC21DF6EDB1C22C237066BD7BF0AA7C98FC5C2FEECF3E8FFE505C301A0D7B7E.txt': 3994,\n",
       " '0FC456E4E17958FE0F214A4D961FFB6442D805C7E37D7F23036B3677706920F1.txt': 3995,\n",
       " '0FC959A0F2E08A07154C50B2FC506BF30F657E4E66E3BAD5EC9E991AD79DB986.txt': 3996,\n",
       " '0FD594AEC225D9B2CF5A018F4ADB9BD97479A09D5AB1FA41DCBF3E49EFAF36EB.txt': 3997,\n",
       " '0FDAE9AF89F66E9F46B87757E977127AC294C6EBC866E5CB639BE387CA23FF9B.txt': 3999,\n",
       " '000EA4635A0EB11EE7F377884638402B5591282129373BCACC0081179BFBD64F.txt': 7000,\n",
       " '000F8CB524F4B60F5DAD1464E286719E824AB16FA3AA2949678761936875AA37.txt': 7001,\n",
       " '001A32872755F51362824EAA5F7AB0778C642B3848A4D2CA25531619D04E6E37.txt': 7002,\n",
       " '005E6A4D3709DBB1410E8202B4CD78A8DDF0F06BA1F55AAD33B7263E055F348A.txt': 7005,\n",
       " '00681E0C147C496D86D2D627D01227A220BAC8D50932196756AAA894A6C42F50.txt': 7006,\n",
       " '008EA191614CE54FDFCC8444C5D7AEADB15D40D4308AA36292151D5D965280E0.txt': 7008,\n",
       " '00A401E3564C98091FB54B6BCA141DEB679EA9478C1C6FFD6865C2BB7173740B.txt': 7009,\n",
       " '00BE44156BAFBEA24E6EFD7423EE501BBD9E1FE2DF1712C2E4E42946060F0145.txt': 7010,\n",
       " '00CFC62CBD6F412D980A8B9590BF9C86B807E38191677148785299CA24B0825C.txt': 7011,\n",
       " '00DCDFDC7A2FAE03AA69C7CF0CE854F1C60183CA33283233CD387C17AB373109.txt': 7012,\n",
       " '00DF9CE89A3C19D0CE8293638536282F3DC2FEEBD3C1E89E60ECFE77B2A2A30C.txt': 7014,\n",
       " '00E20A3EC0315344078AFC83888FB149B6BCBD4FDAF5C7FA64DE067377779AB8.txt': 7015,\n",
       " '00EF45169CE590352D133F7345E04806E3468C4CF4A5EAA40F887BC68838AA86.txt': 7017,\n",
       " '00EFF8A31D6C56C3DC7DBFEA0003FB88BFDE685CB9ED71707581CD754E0A7524.txt': 7018,\n",
       " '0112474E699FC9F4F92CD8072D2FDFE2136F38E03568A6D28AF9E8CA4660D796.txt': 7021,\n",
       " '012901B60CBABC4B5D554D1233CC7EF33D55D1BECF22D8F5284C55D32E4D6712.txt': 7022,\n",
       " '014D242F000610E50B2CC401A6D104549642F7818F0107960CF5ACD1E0925C27.txt': 7023,\n",
       " '014DC307ACC39CB3CB15CED0D53E3426A775D96E30EE993006E535FEEBC6A3BA.txt': 7024,\n",
       " '014E617F77B7703ECDAF1BB6517833556AA4D925149E15AC692D436D229B2494.txt': 7025,\n",
       " '0193843F3637681E1C5EA08AF1EFA782BD8A05F51465264F4851C45A1D683C8A.txt': 7027,\n",
       " '019DA85224A3C12205CE87BAA0832BF73E8C09FB2C8101C0232C5ADE32F7B142.txt': 7028,\n",
       " '019DC9EE1B2161A90BAFB81FD2379B1BE391DBE0814906095E5100D384A7FB0B.txt': 7029,\n",
       " '019EA17F611B5B10F2FDE6D5AA41C8581F167D4EDDE62A973792CDC6F6D130EA.txt': 7030,\n",
       " '01AB78CA5C3B8431CD9F5B50A60E50193CDE7B34AD70508F9AEA85CC2EE38FD1.txt': 7032,\n",
       " '01C703F0035A6959E150E4AB2C768FEEC54AD49D9C897B9D0D8CD463265367A7.txt': 7035,\n",
       " '01EB3112C9294EB84EAB969437DB5D293AD139A6A33893E4C8DC1A204179D0D5.txt': 7037,\n",
       " '01EE5FA14C9233C46FA69B6442FEF6EA836B3B57F19631524C57708FF8FC925C.txt': 7038,\n",
       " '01F0EA385C787EF34E9A6FE164DE4AE6F5FBD85699329F64A66335EC8999702B.txt': 7039,\n",
       " '01FE88E4CBF75172B044E4C0629B25F264C697CDBF3655DC3C44A2A061D76D31.txt': 7040,\n",
       " '0224B1660745B11089D5067881E70ECF77168DC2DBBE8E5230BF8D39CF03D6B7.txt': 7041,\n",
       " '02253E9DBD921BBE6D6027492E35837266C666BE2C5407AE1AD40B986DF8005A.txt': 7042,\n",
       " '02303335536D82476EC4B05482AFFE361E8E8F879A7D4ACB6787EE3E78A67FB9.txt': 7045,\n",
       " '0231717A306FA7F854705CC62A713F9B26B8ED74D4B1930B02B89646B8C390E6.txt': 7046,\n",
       " '02402B9E88C6C741C08F6F1216FE530085C4CC4A3545457DA4442C6BA0CB964A.txt': 7047,\n",
       " '0245B4FC2861A266437B21FB49CBEBA97BB6F568E7365A99FD7F0EB67DB8886C.txt': 7048,\n",
       " '027423860101480C05B3AE5823386E4F2CA82E4618B9D5F3B86AD68F9536C754.txt': 7050,\n",
       " '02959AE70FE7FF7F79DD141D8DECF9463737B4097C779A2CFB737944B20C94EE.txt': 7052,\n",
       " '0298F888EDDC4026916F8F12B33B873617C754F1FC76AAFDB1502AA49E737D9E.txt': 7053,\n",
       " '02AAA660EB7C049DB5EB53FADF9443034AB51EB3B04082D02DE2666E628632A4.txt': 7054,\n",
       " '02D88B08BEDBCB6EB2A289E2B5719DB75F846F7D5666E2B9B8F9ED2B9EE8B1FC.txt': 7055,\n",
       " '02DED1318EBA5A629F47021CF3AED12F12DA20E39DFC710F617302B5C66173B8.txt': 7056,\n",
       " '02E4D1B6D9FD199BD777D3A0E36E0E69D46902F0AE14A6FC9DA5726210BBD818.txt': 7057,\n",
       " '02EB84A96D31C32E525141F183CB464D4BB53DFC7F0559BC5A34E5947813DE4A.txt': 7058,\n",
       " '030E8FC69EB73525347FC06DCDE868F3B0A5CCC5CC17913157732FE115B7A046.txt': 7060,\n",
       " '03139FE0621AD27F4FF256BD1551DE1A536BD5E37E8216778253B77CE07356DA.txt': 7061,\n",
       " '0319E23EB1944C93E28FB2FA219841D3722194705478838EB0CBAE4745728686.txt': 7063,\n",
       " '0349B25CB81874BAF5E4A8544D71ACC90AECE8031046E950D1D0A7A9E6B68685.txt': 7066,\n",
       " '036E26DC67DF78EC5C5B5236FCEA5041E44BBC650B2325094C9F56B660AC3A29.txt': 7067,\n",
       " '0377760D788565CDC1143EE2CB30F8F13D83D5E2C03A0F19B3BF0EB6B4CE4B05.txt': 7068,\n",
       " '037E6D51E9A589583FD108DAF12C3E1EF2D2BE2C78D2E89FDB20AA6B2C36286D.txt': 7069,\n",
       " '03831EF67440697081F28DC34DFEB7F8F6F74985B1EB99916847E3F4F1D6043D.txt': 7070,\n",
       " '03A09B487461D7FEFB0A573696453F49F393C0988138282D0ED4B6A96408F359.txt': 7071,\n",
       " '03BB8A1DB74AF2D1DEED30AB273639FEAE3A3ECE5D9F42273B75AC8C587678AA.txt': 7072,\n",
       " '03BD27362CA0698E11E3F3F6B79841519A8190D9DA57DD6DA4EFEC7CB5404904.txt': 7073,\n",
       " '03CF67361DFF3156AF34BD5A2604157154FE33CF724D8B7517277ADC80B311F8.txt': 7075,\n",
       " '03E8E2C8012362BABC309C83A552C6E58CA1F6D6E8333172597F2971D42DE6C1.txt': 7076,\n",
       " '03F9CB9D1A3A27A169ED194D13F0DD05F40EAE912A6392E7BE5B1CCFD696326B.txt': 7077,\n",
       " '0402690F7661E4670426AFDEC58CB72FBF8B8340EB5654EDB0C873D295F68A86.txt': 7078,\n",
       " '040FC78A0E495A858AC18956E6295F1911386D5CED82469DF0D3C698759487C4.txt': 7079,\n",
       " '04290EBAF4294F79F952E16EBCA8A1B3EE025C80D2FB65F692A1A8A357CD1993.txt': 7080,\n",
       " '04913EA336E17988E33683BBCE67E96845A7D4EE49952FFC886B06E9550DABBB.txt': 7085,\n",
       " '04A4E704D2EC28DB53BA13C261C57857C874FA5F3A99DC4B074B6329BC1A9DD2.txt': 7086,\n",
       " '04A84AA238349E6AA63301788E03C52E4FC2B71A2B8B13A22472E36FF77A4A45.txt': 7087,\n",
       " '04AF9B4CD587306C126EF215D2224DFAD69021D45EBFC3785ED5412650A6E4FF.txt': 7089,\n",
       " '04B79D3E9769678739ECCA368DFD685C2A784E90CEA3D9243D02E37F44A62D7D.txt': 7090,\n",
       " '04B7EBAE79E4CCFB11239D5086DDABA001548AC484801CB9EB425E20C37B94D7.txt': 7091,\n",
       " '04C4ECAB912D5A1E188CDA6985C4F16F84C01D6228B46AB239A0FBB232C7E810.txt': 7092,\n",
       " '04D0EA279E1E862C417B0BF7A50F0036DB7B55C91E09E46BF587F8EE52B96A87.txt': 7093,\n",
       " '04DED04E892C993B6151B762716D3003172427D0D2223418F10378AFAC54DFA1.txt': 7094,\n",
       " '050D7FA8FC69842226A4D1D8FA724B9087A75ED935FBB909E7CD731AD53093B9.txt': 7096,\n",
       " '0527F2CE483F949EA4A351FD4F88A5FD2310BC55545C8EDD20405E8FB84A545E.txt': 7098,\n",
       " '052BF632A7D98530D337A11860850A65D73F2063D078368E95E123BAAF36FE97.txt': 7099,\n",
       " '052E2B097011F0840C6393BBA6A1F2D20C18CB3DF341BA4E0463AEEF3C9161E7.txt': 7100,\n",
       " '053544EB9D098266B7C92E59E56DDA6DD8D42123496B16BC107526E8CA654B89.txt': 7102,\n",
       " '0535C8663DF2B4BA573CD6B91D294DE714E7C6659ADF07DF05D300DC4300A4E5.txt': 7103,\n",
       " '054FFF4BAAC0B399C1DFE693247EC4B97D6E0211A5F09503059BEBD50211F847.txt': 7106,\n",
       " '055F704AF1CE7B422E101150C673385773CBF8AD71B6381592E88EEE715BEB4F.txt': 7108,\n",
       " '05659EC00741C0D871F00D66BE287712F3A8E85A36FD90D225BB693F1A1A3E52.txt': 7109,\n",
       " '0569D2B61F74D7CC8279AF5013AFA8B46CF6FA39486D683793289BB1389912A4.txt': 7111,\n",
       " '0572FD19183579860CF24863D74B8F5450F01A30B32D6CEF56E0642CCCDE5B5D.txt': 7112,\n",
       " '0574C180CF828B54E08CB219BBB1E7D7397A10D5FE8042CD5AFB44EBF7285337.txt': 7113,\n",
       " '058F0EF68D62845FE2F478F70E54000820C9D8564B2346D0B4F50E61BEA3E8D9.txt': 7114,\n",
       " '0590639FAB7FA6CA0BA79DE9ADCCC434970C3F277C00CB7FF3657E502EC8D308.txt': 7115,\n",
       " '0597AFCCCC4D0E2677DC1DD297D8FDEA80373D2B2EF7ED53CB4985ACDA660B85.txt': 7117,\n",
       " '05A2358758AADBFE43F541F4719F555988CC9AF62596E95070F5B5A78EBC99DA.txt': 7119,\n",
       " '05AB45DB346C71BAF04E8588048FEC9F73206FD31C541341B3538EE6B46C2FE0.txt': 7120,\n",
       " '05B76017323EF2AFCB5CF3E5D8E9DD1137477C1E04698E59D1153056859897B1.txt': 7121,\n",
       " '05BCE0EDC3B7821133524783EB349D82AE781ACBB128173691DCB8F9E75568F3.txt': 7122,\n",
       " '05DBF50FC4871550A0F59788E20B9765CF56CA8DDBFEED5E855EF6EEE5067AB2.txt': 7123,\n",
       " '05E28E4A8B5EC44C91B5DEB829D012E88C40ABB48969979BA34479F1A6CF9D41.txt': 7124,\n",
       " '05F0D542CDFA19F8E675B0CD782D7C05C4AC8E41CB7F5F4B847776EA8D6F335E.txt': 7125,\n",
       " '05FC17F0F889CBA41ECBCB60171B2B7B74DFAD5A7CFA922C73B17DD46E817C9C.txt': 7126,\n",
       " '0631D6F894C62F8B49CDB2E7B6F13E4A86EC13F339300B82385A41CB917CA8A1.txt': 7129,\n",
       " '063306BAD5C4EE5149E3D54775ECB7719A96832F39E359E2E5A06B9236862C14.txt': 7130,\n",
       " '06359986538AC2B91EAAA2E98C91B9E8213CFE841D7DB20608F05492374BBF38.txt': 7131,\n",
       " '0641125EC87D5F3623261D1A18BBC7389A89F2A3FF1B92151B25E78B22F57936.txt': 7133,\n",
       " '0649A681787A9B63E175C258885EA641ABE36EB3FC29A18CC2BCC6F84F8806C9.txt': 7134,\n",
       " '0652D6C041965527635C165843D4B8521C1331215A8916E8DFE00C72BE567225.txt': 7137,\n",
       " '0664A8FB2C03614CB1A557A372F441437EFFF507C2A309E771F05B7DF27A1182.txt': 7138,\n",
       " '0669A72F9F2E1A6F2D16444EE46005E346F3E26873D1A690F1C5EFC309CCDDE0.txt': 7139,\n",
       " '0684ADA0FFD4002ABD7E40C7518504F636AA1606B8A4DFA1D409B926692F7ECF.txt': 7140,\n",
       " '0684ED7AE3B2CEC7DDF74EBF6B06E1444123AC62D3DA650A89F49BBD2CA3DA9D.txt': 7141,\n",
       " '068D6E8BC12D40B1C5339FF3FA254E2170835A2DB848F360E4A00B0F73A75C55.txt': 7142,\n",
       " '06906CB531E2C98587B910DF06AC922BE361C4C542DAF69AEEE9F603F624A79B.txt': 7143,\n",
       " '06CBA1336CF994154BF5C50D747993209E945FF03F96612702DDAA8C1AAEC712.txt': 7144,\n",
       " '06EE559FB05D004B428D3F5A8B381416CBC9E890EA9E6BED46640E9787F0CF22.txt': 7145,\n",
       " '06F5F6D7510D4226814B0C6648A8A82EB9556D3B6C6D2D0AA3C32861CAD62FE4.txt': 7146,\n",
       " '07193744B29D42A90477EBD209C131E28524938D26D8DABC3E0DB25C568E3EB2.txt': 7148,\n",
       " '072234A6AD59A4B153849E8ED9CF7DA4135EDF5A7FA524CBC26C91EBD572C9C1.txt': 7149,\n",
       " '072BC2B8AFBFAF1C7D01D67CD929689DB536EC563373B245DDFF5F842D4685CD.txt': 7150,\n",
       " '072F50DBB33D94AE5F0F257CAA5338EF521B96526AE96083ED7293C7D0A521B9.txt': 7151,\n",
       " '0732392C5EAF454E465BB178C72CDC4D50EF9F716A61E95276087F18BB2EFBA5.txt': 7152,\n",
       " '0736CA19D11DCB7470C63FA94239ADF44FF808AE278F09F06EDC186AACE1BA29.txt': 7153,\n",
       " '073CD72A84D5188B36D6B8CD05D173DA391CEA124C0F524788D3AF58C7B351BE.txt': 7154,\n",
       " '07636FA0B61F5DD7B84240572231A537BBC0C9DDD4D44D56CA10605F75876004.txt': 7156,\n",
       " '077132A92CA1CEF8631446DAE922D85E91F3B766DA344CD3971D707714DC4A37.txt': 7158,\n",
       " '07816B57E0CF47085342D0F951969117DB5AFA8B16375D156350A797E4A8334F.txt': 7159,\n",
       " '07A9F58C84CC90B5058730D6A993611680E5C2A35D1122FC4F106819A4479AB6.txt': 7160,\n",
       " '07B86272523ACD4D1726F115C3AB77E6542D7E34260596179B1458C10E705DBA.txt': 7161,\n",
       " '07BF852EA064148249231C95258241403C08B3C5BD5E4F752C9DFDD8797E997C.txt': 7162,\n",
       " '07C6300254BE499F02211FEC42BEE8940421BD2E2136E4BE1362E9A07FDC6D9B.txt': 7163,\n",
       " '07E8DFC6B47F2EBEB107B073AE654CF1FAFFBC9B9E6671738FDE021C8030D0CF.txt': 7164,\n",
       " '07FF155387E6F5A0DD11403039695ADBE440F4AD701F4C61FA26D8545562A91A.txt': 7165,\n",
       " '08364D5C72AA745499FFD278E202A8F945BB86F07793EC2347DD9AC93CDE6A31.txt': 7166,\n",
       " '083B100ED2CFD7EE79A04C17314D010C16B8E75C0B76E29280AE48EA0F944D6C.txt': 7167,\n",
       " '0840A7433B5E7265302D7C5045CF285060549DA309CBC873C653ADD02068AEF2.txt': 7168,\n",
       " '084E0318ADD699D273E495486E3B56EA02D4DF9EA31266938A1DDE63DAC48C27.txt': 7169,\n",
       " '085C9C424806247077C00CA26D03E3365A398212F36094BD6F247D3E5D0B3DA3.txt': 7170,\n",
       " '086156A412EA6BD22B37AC9EB65815DEC5FC5ACD8F21E4952991064CFACA6D68.txt': 7171,\n",
       " '088A76311E38FBB42444CBEC306DF42B973B36CB21780FD4EA92CDE38FB8B103.txt': 7172,\n",
       " '089ACF9EFA3561EF496542BF9C0A1B4650D0C35337AF937AD70D828AF8D1AF2E.txt': 7173,\n",
       " '08A8F805659227276F9F46DFD068136CC16C4F29B6A1DB958A0867A3D695024F.txt': 7174,\n",
       " '08CBC2FE9887612380349D26DA61CFB2F55C03134DD358A09C2684B19A85F6E6.txt': 7175,\n",
       " '08D577559A5F57613EF6F85FE5C3F205A1C410750E14D8911B1DFEC42A225E85.txt': 7176,\n",
       " '08DFE6A3CC46BA3BC9F8E5EFB9A68E8EACE5FB762648CB400C54DA70B62168BB.txt': 7177,\n",
       " '08E089B06E9DD36D7AA8B0E96EA6F22CA0774FD3A5D2A069AAA290845F1FDD66.txt': 7178,\n",
       " '0903447B47E187F69D88549B6E6EBC3A1C34F0AF460037C8332FE28A31D25AB0.txt': 7180,\n",
       " '090870D2921D57EB349166B40A0475396088F8A89780BBD8AC8FA8C2D2C3DF5A.txt': 7181,\n",
       " '092FCF94AD2BD3D33CE4D0349B243951939C222D033C62E6553ADE4C3C02A95A.txt': 7183,\n",
       " '0933A07CEF8E91A3B949F9EBD89393211DAC45523B2E1FBEC68DEFD630819017.txt': 7184,\n",
       " '093744B777431B5A54F1BADBDCF35CC3B21D8C2F60092C8CB494672E5F46FCD5.txt': 7185,\n",
       " '09460F091868194D8BEFDE824E423F0117BEDC8FFB6653E0F6AEEED93D07C942.txt': 7186,\n",
       " '096B174FEFE5B27047C6692808787D79DFF394E410381362562BAC4EEBF94A9D.txt': 7188,\n",
       " '0998CB8C6D6E78C4A13C8D8B9786124A687195CD66719234E255697E16FD47CE.txt': 7189,\n",
       " '0998DE6B64D5E6FA3A6C55C8D332D6DE201A0485977DBA06CD00BD3A4D40FEC8.txt': 7190,\n",
       " '09AC6C30FB4883161E988C19EF17733FECE95FDBA6FD703E0D9AE687E491945E.txt': 7192,\n",
       " '09ACE6655D961E6EF5B50CE2AE360760D3B9F3111FC85F0C2AC33CC452552EC5.txt': 7193,\n",
       " '09CEDED47CE85EBAC963E0BDCC929DFC0ABA52671A4C912A509923C0A4FC6261.txt': 7195,\n",
       " '09D16A21D1715C1EBD889421A66044AAC20FE367B0D060212955E3CB10775CAB.txt': 7196,\n",
       " '09D645E47750EA1666446996889EE811738B49010ACFAD563E32E0E9D689F112.txt': 7197,\n",
       " '09E81EA1C0558AC03780512FB4E1D5513776FDA37EB23C1581B211077252A854.txt': 7198,\n",
       " '09F37034EC0426F2B4A33BDDCFC4B53F008791176A9FE7B8AA47AA5BE4AD6EB3.txt': 7199,\n",
       " '09FBECABD324CD4E164DE9A0771D8623FC3D62E01E067E1B7FF9DCE637AFA7E3.txt': 7200,\n",
       " '0A112DBA884C8D7A5676E6FE2115512E8B69BCF4767060DC1454B23160FE8E8E.txt': 7202,\n",
       " '0A2423BD70944B0ECD8A6200076723E632A928500712A37C337E296A0E0170FD.txt': 7203,\n",
       " '0A2C99522670AFE9438C6BFD913198A5F46B2A8940706C4E75754EF4DA45E5AA.txt': 7204,\n",
       " '0A32CABBCABCB3A6CFCE7C4499F56136E2A9B61BEA7B8314B9602759007B4C50.txt': 7205,\n",
       " '0A40F06EA32AA0334F2E90BEF276E50F8514ACE98202792478F5CC5DD7DC0B56.txt': 7206,\n",
       " '0A43BAFAAEA701B129FA013BB4630260395A168A5A966FAD89B250845C20AEDE.txt': 7207,\n",
       " '0A4FCC6A22F0C132A7BFCD79194514CCCCFEFDB783C3952361F82A054D272568.txt': 7208,\n",
       " '0A5173D9AD4055D17C12776FC2D2B0973D5363288018056319576F18D7D51307.txt': 7209,\n",
       " '0A744E4354920757C142D818ECDAA10A025790DCEAFB07F42A911FE6B0727D81.txt': 7210,\n",
       " '0A88C83B3E9B49AC803E56BE571B48FEDFC744B0F8418BC95C2C6A20FC8943A8.txt': 7211,\n",
       " '0A9124CCF71DF267665CFFEE83F5BE40C2DC604877302FD260835F02D1147EC5.txt': 7212,\n",
       " '0A9EE90EA79A26AA609ABF0E82289D9AAB47EAC51242855AA506F45237161836.txt': 7214,\n",
       " '0AA80980321369C1E59B6E35B43F4E2441E025866153B733EAAE8A60D911D36B.txt': 7215,\n",
       " '0AAD9BE6E61B80D0F970B8231B9A3966BECC5FC037C48B27AFA5619B4F43A2CF.txt': 7216,\n",
       " '0AB59C25B19209B69866BE57A6AEE76EB0FC7E6D3AF941242F4D36D5C44EE008.txt': 7217,\n",
       " '0AC033C1BF57236499FA393D6EFCF1DD8B0693198B498ED041CDB5E51807B4C3.txt': 7218,\n",
       " '0AC5429B7FD64B484D8B1EFED1420C938A5454965EA77D85E5DAC6CB2DA8A375.txt': 7219,\n",
       " '0ACF24A40539862AEBD6446EF1EFE98A7ED0082CD2F3BA19EE168C6755010927.txt': 7220,\n",
       " '0ADC9C3696B53AE206709DDC810F99B1FDB13F7EE1809C849BD1755C131A227E.txt': 7221,\n",
       " '0AE594229D934C04BA8975E5985D09BF90146524F9597B1BA3A24C2FB9BBE27D.txt': 7222,\n",
       " '0B0287D3ED4CA936BBF6C89D47A068FA6248AF990D5BDED8478773E9B313B051.txt': 7224,\n",
       " '0B08553E0E4EFC09609B4349F801F463FF2FEC6090E445D872E7D564B4CAEEB0.txt': 7225,\n",
       " '0B2CC51C56A9DD4D99FBD138EB62431232887065D04AD4889D43D4E04235961F.txt': 7228,\n",
       " '0B3340A969BE0668E01818E8F08AA9382B66D55D43EBC0FD074508144C76C772.txt': 7229,\n",
       " '0B3528CD44D9BC194F1DB5A828183359C3634E946135FFE7FF42F484CA24DDEB.txt': 7230,\n",
       " '0B43097C064A6063B06880D96679169C5D408AC7EEC1D022B187AAE656911A1D.txt': 7231,\n",
       " '0B6F148C10A20BDF86AB2400CC664FFBCEC369316A2FB98DE9ACE67F7524805D.txt': 7233,\n",
       " '0B880610055677A170EE2D660C068820A920C0EED7F66792D394CA95FA5EEBE8.txt': 7234,\n",
       " '0BA362A6D437C2EF0C9CE42C79D9F73C1B6AF2F79D9C48BC20108E9E5158E148.txt': 7235,\n",
       " '0BAE39D197789500CA50AF20569C0BE948E172C8823F8EDA683600C486A7DE57.txt': 7236,\n",
       " '0BAE7F9D77ACF25501726CFA58577FF01BB90F746999685E37671431CB05A56B.txt': 7237,\n",
       " '0BCD010ED4516F7D3549DF784A76C05D4A4E3C574B311ED7EAFDAAD700F6B409.txt': 7238,\n",
       " '0BD9B34C4593875C1FA5F7134DD64806415422A0C16CA010FDCEC8FCD50FC164.txt': 7239,\n",
       " '0BEFE2084DCF1B1630F4A232CF8EC51D03574567A8941E55703EC4A4FF98C986.txt': 7240,\n",
       " '0BF3DDE566E64FE24CD8D66DC523FAFB556B7A4500BB5E72DCB0D622513E2A67.txt': 7241,\n",
       " '0BFAE184F841A16856025D998C11D995AA78031F628D5B4E7CF76FC2A4807EC6.txt': 7242,\n",
       " '0C03DEF10F916E0FAB5ECEFAEF1983BDAF8BDD1CF3626566E57D892FFD431189.txt': 7244,\n",
       " '0C0428F5F06D5693CFD055E7B9818BAF5C5C48BD67740BFC496C33FEA926BAF8.txt': 7245,\n",
       " '0C174319795455747812128CE1CD07B792E4A02053F4BD0F83B438FA106B10AB.txt': 7247,\n",
       " '0C2C1D78CD9DBD9ED1B01C1FC58CD50152AEE2D558F10D26804793668617B217.txt': 7248,\n",
       " '0C2F7B62D9ED28F92405BB5494565BDB8A3A753BD950529FFA60F15695A8ED58.txt': 7249,\n",
       " '0C4959155C41BBA7F4FBFF0F03BAB02537DEDC0273331AE15DE913616194F0B7.txt': 7250,\n",
       " '0C5A760862169CA0C6404FB204376FDDA55B187F6709C48A39F18418C5211A1A.txt': 7251,\n",
       " '0C977AD1557980783AB7D539DF0BBA94D4A93BF2A1535ED6576C1623C82D37EF.txt': 7253,\n",
       " '0CB32AA596E5C09B7A1E37F4C7C79F6E0E8CA81F7787F4AD5EA23B8224F0FACD.txt': 7254,\n",
       " '0CE4B86361339D122970DB599DF3AFFEEFF021F5EB7F48EBC933039A163A817E.txt': 7255,\n",
       " '0CFC625F709AF8F4DCCCD8481F626F8F855EEF406B8B7984396774C1C96B1B58.txt': 7256,\n",
       " '0D095AD06A061281633B2F936D663AE63BF805BF16F6D0B6D89D38084AD613EE.txt': 7257,\n",
       " '0D0B93FA15C94A56E61E60B29137A8059F24C8C303169B23DE24691A0F215229.txt': 7258,\n",
       " '0D0C5CA09B39D8B489C4AADB6FFEDFAB6E72A55765C85101A334FA2F3837D091.txt': 7259,\n",
       " '0D10AF50410181EFF4BF35F4615B52D836E97C1FCFA142A92A1830AEC1603AC7.txt': 7260,\n",
       " '0D19EFFF688A36E45F14F6167AEE662D077E341D47670C8EB92B8E83AF178942.txt': 7261,\n",
       " '0D30CAABC725831C4075C212CDD1D288689E31CEBB7536C0EBC3D731D76C732C.txt': 7262,\n",
       " '0D3FDC6CEB35C82D4E2C92E593C7ED7D25A4ED1828B00893069F7A50612AE6C1.txt': 7263,\n",
       " '0D4C4E9BC0734DB4C2CAAC53BB8E3C4C26F02296D10EF968BAF5EC45AF348E07.txt': 7264,\n",
       " '0D5E7B7EFA47D440029E16FFA91C018490268AB7EF43555E9B776EB759D2BBF2.txt': 7265,\n",
       " '0D8023C4FB937CA144993708FB0D5C161ACCB48CF9938186F165AA03065CA723.txt': 7267,\n",
       " '0D8079814EC74483B5A4F3757644AF8C5CC09C0B85B4A1BBDF805B266BFFD882.txt': 7268,\n",
       " '0D85DB71B33A3513A0E6BCB56B55B8B0F40D0E3174548DC341FE67FFD0FDD573.txt': 7269,\n",
       " '0D8829722053F2666EC56E205340FF327A2513AD4CA4F3B371D943631FB57E3F.txt': 7270,\n",
       " '0D8CC84D97B74A31A0447CF794B65FB315CD4E5C0F47FB91C74733CDFF40C6E7.txt': 7271,\n",
       " '0DAC163EFFB77DE7179D2644E836912EEEEA2E7B52E9DB587F5ACFBA534A5648.txt': 7273,\n",
       " '0DAE5A66F84656F7C09AF85566E72005588BBBAAB4D61895274F96CF117B0F4D.txt': 7274,\n",
       " '0DBE99C6047F21084B3B2EA54CEA1B93349B9C593D0824356C7CD623089FC5F8.txt': 7275,\n",
       " '0DF8935395C670F5ABB71417F3F23A6E51D9E2C7899D1EAA781E01F75E11FAC8.txt': 7278,\n",
       " '0E022CC528CC27B815A5A992C6C2F9818A6FF764FD63CFE2E20755302959F270.txt': 7279,\n",
       " '0E094387AAE59B8A9F05295BFFDB701A939FE1D0E1D16E82826B1F368D69268E.txt': 7280,\n",
       " '0E3D6817F66D941BBF957A2C4A7D0B7B4DE64BB2DFB3C2978A7DEC0F3A83CB47.txt': 7281,\n",
       " '0E46CA496FEE04B0F1D83322E2E25ED5EFA5BC5F37229D5D32A14D2427F9CF04.txt': 7282,\n",
       " '0E653D1149F26BA4FAA40B9F901CFB95C866D3BE64697E7CEC715E229B5F43D8.txt': 7283,\n",
       " '0E85ED6D38BCF8FF3CFBD225FAB61C74523842A96E40873B7DDD69F2F02BF99F.txt': 7284,\n",
       " '0EB667BB60FEDE5752295FF38E3E57F313E54361A6D28BDF35313A5D355AD2F3.txt': 7285,\n",
       " '0EE0D2100E90A6920A5E373C7112E06155149ED127F3136FBB538C872F5BB8A0.txt': 7286,\n",
       " '0EE782864C332593C6C05C4604683835F249DA9715BAC1D166780F645F04660F.txt': 7287,\n",
       " '0EECF7D4F79C4FCF93C4EE9A6B3502B830435DBE82F9EE1431A27D87E5A47A95.txt': 7288,\n",
       " '0EF11DB8D3DE5C98DF1EF93EFE0427101ABBA46BCE95495903A020207F02F44A.txt': 7289,\n",
       " '0EF1A7CAA5E3CB268CBA901990593CBE74942D5EBBBFFDD6E2E7DAFF2280BD37.txt': 7290,\n",
       " '0EF7D4C7A644B8C62CB221B8EF76B73CE3EFB5BDF412DF08CB7F3074C682B8C5.txt': 7292,\n",
       " '0F01251CC4728379DD24EE45CB492472E1136086924ED4AB8A2A0AD6757FC255.txt': 7293,\n",
       " '0F0D20A198B5DB5AA93043507BEF8494D1537D3E7F2A7F754DC570C263FEDBDA.txt': 7294,\n",
       " '0F132F0E8AF4D6016B9326166F3711D9CA5FAA4B867238A0D3AB6708272F0F01.txt': 7295,\n",
       " '0F1E7060D38C4AC6FB5602E9D23B4EA2B02F47CEFFB81C249D3DA27D48C0E6B4.txt': 7297,\n",
       " '0F23E1197FF3435080CF3A38B107E024AF4808B3B9146283A0CD7D891CDBB404.txt': 7298,\n",
       " '0F348071694C244DD8CAC2DC1AC9AF1FE69DF01E3CB36679190D864EF0EB5A7E.txt': 7300,\n",
       " '0F47CA67F862892FA114DDBA141DE4BA0D47EF5DE6CC58DAD913A9E497202C2F.txt': 7301,\n",
       " '0F6BF6DC8E8B8DF70EDC713EBE7993C5B73A9DB3A82CCD75EC570D4C21A02F53.txt': 7302,\n",
       " '0F7BB2DF506FBB3CF011854DD3ED07A0052F9E0811FB8C7B58749F8BC0E4EFA4.txt': 7304,\n",
       " '0F8EA79F9CB41DC7DD7407FB71A3C281E72A6B7F006090C2CA557A6CC21FC537.txt': 7306,\n",
       " '0F9604C3A913EF51F3E3F4B31BFDE90BC6CEEBC300C539B64CEDDD0494CEDAE1.txt': 7307,\n",
       " '0F98F28D6B906F098B9588A60D5920F1639C9E3CC26F0B213028276183F9B4EB.txt': 7308,\n",
       " '0FB1B5BEED91240B5458220D4BF347303BF2CFA311FAE2577F1203094FB0AB76.txt': 7309,\n",
       " '0FB2A144BBC1C1616C248FF65F23FB82777006438A80D55309A6E0E489BA957F.txt': 7310,\n",
       " '0FCB53147A1DFC4DB2406F6CA0B25C22E487DAD48877AAC03F62749A22EA992C.txt': 7311,\n",
       " '0FE5939AF3B123037C2705DCD47384EEC6B02251A987FEBE18E2698AD81CCF55.txt': 7313,\n",
       " '0FE8D6959275ADC81BD2145DB8F48191785166C738AC532984594C4DB562A158.txt': 7314,\n",
       " '0FF54AFD20E201690F28030FD7CD6F686A29730A44E8FAF42557FD6464329E54.txt': 7316,\n",
       " '0FFB1F69695C02ACFB5DFEA30CBE51D7A74A57C1CA9981C7351B29C48B82940E.txt': 7317,\n",
       " '1002FF7CB0E18B55B1EBF9855329240FD71548B931373D284EB230C99E75D8CE.txt': 7318,\n",
       " '1019C88BD23A07A4D79CED90721AC1342853D753E33971CA505E256951016D9D.txt': 7319,\n",
       " '102A96B8ADA6B19D45C0DA898288CFEFF929C53265A91BD280BDC510DF1A16DC.txt': 7320,\n",
       " '102C3015DDD0C0E3CB588BA25F0AFBBD22A84822ACB02DDFB4E756E1EC5A0F08.txt': 7321,\n",
       " '102EC32EF746D3482A51228B0229083A3386A53DF5AE8248D2E153CB6EB23E61.txt': 7322,\n",
       " '10459206FD71F69F17DBFB89B2EFC8D556D1B943905827D76A1DB096751A0988.txt': 7323,\n",
       " '1049B22AA925A004130407EF0C89154A022B5DABBAEDA9249BC9DBA95ABC2C7C.txt': 7325,\n",
       " '10614D6AFAAFEE03A22568226F931517104C8324307210F5F38C402004BB3B57.txt': 7326,\n",
       " '106855030D7C02D5CCCF180AB8896A0299C8936BE9292B8C04F02E23C491566B.txt': 7327,\n",
       " '106AC598E10DADAF6AC4BE696C64C5C2B891E622D4086AF264871CC540A7C53D.txt': 7328,\n",
       " '10735FF92B98DAF807FF6BB6E7168139BE2F295C5D2C43D57CEBA92E25EE0F49.txt': 7330,\n",
       " '107BE09965E111014934BFEE2FA24EF647A1E2F657D8C73A43CC4BBE304217BE.txt': 7331,\n",
       " '108D404D51BF27BFEB312C9474705E9AB9CF443C278BBA76171C249E401B7637.txt': 7333,\n",
       " '109598C7A2E2EA5B5E5D9F68F0E56477454E918CEA8A9644136FDC44922F4831.txt': 7335,\n",
       " '10A271BECA8567B2FB334534BA53E6ED6D2B9709057D58B487AD7D3BEE6C6EC6.txt': 7337,\n",
       " '10D024EA1D252F835A1E243445B93477BF8E85CB6741A331C1493EEB58A8974A.txt': 7339,\n",
       " '10D9323D932B5C4049CF9F49B55CBA7CF159B83ADDBF5A18A224D3C6354D2ED4.txt': 7340,\n",
       " '10E4918A718B593966D72EE2CDAE364FF5C0ADDB3C72A674651BF24315DD988E.txt': 7341,\n",
       " '10EA70712C0F8B3BBABE894FE0AE5C71B179F86970A8CD3D73E4CE79DEAAD77D.txt': 7343,\n",
       " '10F1D4DF2DA61758989ECE27DA1DA9F479864F6037334EF38614DD3F8D1ACB8A.txt': 7344,\n",
       " '10F848D24ADDEA0DC73B68C1CB0910CE880BDA21BAB8A3EFC47C1EA6EF4ECD27.txt': 7345,\n",
       " '1107CAEBA63196E4406E7DCA7CB4AF27FD8EFF2DF20CE8957DD8B66F1E3806F3.txt': 7346,\n",
       " '111D1B5F57ECDDC0A234A6794C6EBDDE80EE68319429DE69DA90DF4BE2327D80.txt': 7347,\n",
       " '11336798FDCB62511AE813D47BEBF1129AFCC6FEC45B40E28D830F1113C2DDBA.txt': 7349,\n",
       " '11345B7F1737A9573EF7304EBE7908660BCF53B5091E8559D6BB9BCAD8D66EBB.txt': 7350,\n",
       " '1137343A306449BF14242878841B1380DC39B672D9834BEDFEF5F5B7C61433D7.txt': 7351,\n",
       " '115E419D7DC559B8180E9FFCD68A796C93E9D9C4C778D6F0C39B5B714AFC0B78.txt': 7353,\n",
       " '116E29F870D7C1F591C5BF78E84650B495B94A4596DC65C567626125230DCCC8.txt': 7354,\n",
       " '116F082A27AAE8ED559DF60AF295ED3731C83257FFA34B8681EB50F68B29651E.txt': 7355,\n",
       " '1189A4A3F9C785E353C3C55FF91EC6398E58ADD3FE4644F5C85F1E7DEE86E91C.txt': 7357,\n",
       " '119AF68B7CF664922DFB0BC8482D82FD6E3799531B937ED61F3FB6A37EC602DC.txt': 7360,\n",
       " '119D723EBE7C621AFAEB94399CA1F0A718BA9E99B67215453D2388A0029806B7.txt': 7361,\n",
       " '11AD51A7C7BD19D58E6C0EDEBCCF244E78CC4BF694BDE62E0E96F548119DBC75.txt': 7362,\n",
       " '11BC7A9DCD349F74FBCF2EAFFA976E3437E118E623AE927E94FAEB336816CB12.txt': 7366,\n",
       " '11BE6FC06435C4537507EADFE821A80EB436B82B12F3E94D540828EAB024F003.txt': 7367,\n",
       " '11DA4C188E1E487EB9DCA20270E89C73EDE6987909EC4935B50B37CE81D84EBE.txt': 7368,\n",
       " '11E7E048F9079A4CF12EE480318E20E4023A8515086F745391F944A8F9B840C7.txt': 7369,\n",
       " '120BC70736624970BD650E4F3B6D22A18B4FD0E9366F0AB28240A8ABA02CDC9B.txt': 7370,\n",
       " '1219F8EF95C35979E2A0977AB0A11F34A9AA35FF18FB022338CFFD5D13C4F29E.txt': 7371,\n",
       " '12234784959FB623ADA5BF67C8D303D09950A4673158EBF61ECE17F42420ED79.txt': 7372,\n",
       " '1224B05E4746BE96ABE6BC5754DD50BC0EF9E4595CC92CA0221CCE421E927B5B.txt': 7373,\n",
       " '124054E9D28BE596F4EEA0AB0DB51A6E7EAD2802AB7614AD16F027E5BDC0C84B.txt': 7374,\n",
       " '12449A493DAEE600DA5F047ED6B8E2B58935CFA8309FC89CAD735F43D3CA426A.txt': 7375,\n",
       " '12454F16999E3BB0BAA7C4586984D72F50B779D520D841D5C920D2C4EC516E8F.txt': 7376,\n",
       " '124EFDE7D787954833165D635EA631577D1B68BC5B69549CB221DA083EF5FF25.txt': 7377,\n",
       " '125D29FD7B6F4780043AB690F7246E0068E6EAEC26CE216B6784A7A7A0CC2CE3.txt': 7378,\n",
       " '127B28E2BB94E619289EA775EE0EB34FF81434217D89118EF3FB7D6AB2F90A63.txt': 7379,\n",
       " '127C78E3931CB0D58D85CB349AA4B53D0BF735E8519685FAC1FB7449ABC8E0B9.txt': 7380,\n",
       " '12822A7E257DEBCEC90CBFB5102778804A308C1B0B0A8F0918FDF0841B1326A2.txt': 7381,\n",
       " '128B6EBB527DFED7265A7BEA685CE1372AA4ADBCF59E75FDE562F20431ECC706.txt': 7382,\n",
       " '12A1EBC8CDAEE9FCD83F3A870FF0A9A36D93FE4F732D75574D5DD408A7A33BD4.txt': 7383,\n",
       " '12BEEA17B9C1117177ED18B126669151FB950EB39F6DFFD8B1C8F385DF1734D2.txt': 7385,\n",
       " '12DF047E431911DC645232428F7267B85ED752A56D16B659F5B008E807FC77ED.txt': 7387,\n",
       " '12E4A3FA126CE3B5EDC04BC4892A8222F15116B78FA23AC45B7CB7B9B2C51273.txt': 7388,\n",
       " '12FCF5A36C44215D04E2A82B1CB3EB506057F093E00261094D7D1B4F07DDDB52.txt': 7389,\n",
       " '131D95A52C61A53017AA8D2540A54CF2EB096DCE50E1A805E3BD0D71D8431DE8.txt': 7390,\n",
       " '131FA229A94E61B7F01956EDF5C09E8E03089BC4A003702F164DDA5A0D42B287.txt': 7391,\n",
       " '133F167433BB0E01F241CCBE0ECAC627F388416490D9D1A2435B4476BD21898B.txt': 7392,\n",
       " '135862A12786258F0CE379C6066F8C10C217DD55CA1618D7446138FEBFB45854.txt': 7393,\n",
       " '135A654C9587186DDEA4E9216E4B259DC52C6CC18BF7E79DF6E1DA5DACD3A694.txt': 7394,\n",
       " '137D7288801C895997097C1413A84EB23D1A379B6B48D5DCCA580EBC38479CFD.txt': 7395,\n",
       " '138626FE696E0E1E9D932C2A7B94DFA60071A5BDE3229C93D7C37E210A14E3D8.txt': 7396,\n",
       " '13954665300EE55DF240FBBB4F09BFC3BFDC6E6614B3D46D4AACCE536B47D85E.txt': 7397,\n",
       " '13A6D9DC00070E2ACE1F79314963BA2AA09D6C9B3044643BC052BE64A3D122E4.txt': 7399,\n",
       " '13AB101B3155A4807D11D22FC73D3CA8DB58FE7D01B6FC49DE8A9491F47610B6.txt': 7400,\n",
       " '13D88A89015BFACCE6490B99FABCAE53517EB358EDBDE532F14705084632E571.txt': 7401,\n",
       " '13E171FB975006206B663AF8ABC6CE5A2791DFBA71927689C4B08DF6488AD5E3.txt': 7402,\n",
       " '13E3806E9699223DFE97EAF087ED514EB02C09CD8200008FC77F9E170AAC1CB0.txt': 7403,\n",
       " '13E897C19100F6631BA868F909B9D195DE10F54DEA6FA897B9A9E790170F7297.txt': 7404,\n",
       " '13E8B0545FFFF4CD119D4D518664B1DB777726EFBA7E52D428BBF46BCC980043.txt': 7405,\n",
       " '14091CCE5F421FF7E0EF4A187B42AB6FCAE83A057C6BEC29BB6A367347B798D6.txt': 7408,\n",
       " '141456F1FA49AD10E2778B67204126024C0D80B73D7323A755BB11D0CD6598A2.txt': 7409,\n",
       " '141B9E2740E4408038D498205CE3A48947F3FE1F9640756AA364F09B0BC5D857.txt': 7410,\n",
       " '1420C8C745D86E783FC606EB4CB60245FBB4A4B8760C11EE46485F9265FA9965.txt': 7412,\n",
       " '14254AE7E0493F48D28B11890B8FC76647E9514D52EEFBAC64810DA4CAB37613.txt': 7413,\n",
       " '14254E82C6F678AB14921D88CF7F1E39A9598ED0DB65AE5BD5CB50C0867D3C20.txt': 7414,\n",
       " '1427455C9DC1EFF291D10BD4535418944709CAE768991CE648FBEE6F772498EE.txt': 7415,\n",
       " '14295AAC61FD019E09937EF12F62FCCC86B9C45BF62E1E187D0FAA1E4848248D.txt': 7416,\n",
       " '1432C95BC72D309FAE72BC78E78471D4C75B660B78CAABBE71C4DBE625474BB7.txt': 7417,\n",
       " '14365A6A2E24FA1808880A902F1D5EEA12DB8F71BF9FE35C4E09329BD8D86161.txt': 7418,\n",
       " '144728C7B1C0F7B9F5000A66C3B82C312606DD35EA3F501073939216401171F5.txt': 7419,\n",
       " '145998B1E49FA8CCD5D7E462088842893697023092B9E6FB819B6BF70ECEBA82.txt': 7421,\n",
       " '147E408FD5096CD90147EFBFB81C1CC33F2FD4B6D22DE4DC4712F7B235EAD07C.txt': 7422,\n",
       " '14862BC093440C27B9169DE0B0F9C9A4AD559DE8C84A58B47F05B3D577E98A27.txt': 7423,\n",
       " '149FF2FD59BB5793BDD3A65517B2F7D7F65421F600D995CFDFF33A81846B2623.txt': 7424,\n",
       " '14A2677F379EE5D078D76203DE38DF56A58F1D39CFDE3EE5CBE9AC304B586A26.txt': 7425,\n",
       " '14A90DB0623639FE78AF1F87D1BF730FD3F0F62AFE5D6A9E69459A20F3576F19.txt': 7426,\n",
       " '14B046FA6F360459A59225C9ACB5DE9B65548D9A8AD18FF73C8AFE69B85A3D34.txt': 7427,\n",
       " '14BB089246451CB5B29C673C085C89A95F19B59BD81B5B1ECB2B8B886B66B074.txt': 7428,\n",
       " '14BFEA611EF85A26E6FBDDC3441EF1A94F67DFABAB631A77D7BE2CD586479C7A.txt': 7429,\n",
       " '14DA3861C58E15AB20CE4B1880F7E1F96F3BD3743C07FC2EB187F36DFEB6225A.txt': 7430,\n",
       " '14DBE4B0565411B9C60A20DE51F54A4872F37CECA81309347129FBD037B32185.txt': 7431,\n",
       " '14F39D3775562DF2C1F34E57005BF52A350F4A79016B649B10D9DFE1BD58A748.txt': 7432,\n",
       " '14F848D4D5599BE9F81715D6FEABDC393B638E758ADE21DE3BBB74CEA657A186.txt': 7433,\n",
       " '14FA1F9CF38660065609D087FB841953F4B4481415A9A07D1EF31114CA0C7102.txt': 7434,\n",
       " '14FB2B183A128337093C809395CFCD830EAF191D0D1175017423F7A5B9A4F505.txt': 7435,\n",
       " '1515DFC02E8D588C3018441691244578124FE3D609AA955D6A5F8D25E3680D93.txt': 7436,\n",
       " '15192CF19975042EA7F678C2FEF12D2EE479A0DD40748FD66FF045F44F8FFD72.txt': 7437,\n",
       " '151A7FD8542E04C19D22660B2E52916150C58A7952B0C3F9FC3B963B0FBC7543.txt': 7438,\n",
       " '152804572250FA7AAF88A709D5F4C227908D52530B699A9EDC1006ADB91C17B0.txt': 7439,\n",
       " '153CC89B4269B9AA6FECAEF956484996ECF297087715395C5EEA4986FB8A396C.txt': 7440,\n",
       " '15419B92E47193896B4B39F2F4DE7A1623564BF8F4B49A3E1CD9164B0C6E91E9.txt': 7441,\n",
       " '1541F90F28005D38EA02608FFEC4C35F2B600C686E7755C19F4EAF80B1D9A324.txt': 7442,\n",
       " '1543E46DD2067141DF340BEAE983A68AFBD867F840CACA30CBD34A9F5B0FDABF.txt': 7443,\n",
       " '1544857347D4F62A622CA13462746D29EC5B5837DD4F64EEEB979584142A4256.txt': 7444,\n",
       " '15491D91D92CD320B139881A156999412B58C077E86FB0395AD9C9345E1D62CE.txt': 7445,\n",
       " '154A448A9DD66878408ED3FDC212634FFA44F1ED24610BF4C5E6B077D0B223F5.txt': 7446,\n",
       " '155AB08631AC1B5019A0F62D7AF699866BD68BB5A8B4B453A96A915F9F3B8CE8.txt': 7447,\n",
       " '156F97E38450CBC145C59B61B760F404C409ADAE00B35BEEE0B21C63B8C732E1.txt': 7449,\n",
       " '15707C7C85AAD6C120890CB7C6522C3151D24E00FCC7DE34A1FF4BA67EADB6EA.txt': 7450,\n",
       " '159580A9D318D06CE6A8A6CF8AD159FA3F70E024F7E72D05F9D82C60005AEE06.txt': 7452,\n",
       " '15B566363926DF160411911424739D5C39040E9FB507D59572241231F6504512.txt': 7453,\n",
       " '15BD3B8B408F654457B83AC40716315BADCBA032C1917574306CEEA54898705A.txt': 7455,\n",
       " '15D16B75ABFBDD67BF6A22F64E10A1D51D3E5758B460032D5F6959AE5D569AF6.txt': 7457,\n",
       " '15F8650E8DC3248BAC15E265BCC445509C3FD790C84B54F6150A87DBE96D9DAA.txt': 7459,\n",
       " '16162A06D044BC0DD0F54FB1F6916B8BE3F4595E5F7D74FBC240662C83194DC0.txt': 7461,\n",
       " '1640D06A8774D47236F80B6BAE9776B1A521B6053B4CE514952F3399D4E2C369.txt': 7462,\n",
       " '16428FB5D3D09ECCC2A57E12698C40FE73E07AB93EEEE0817241A71FECB13D30.txt': 7463,\n",
       " '1645149DA1AF53716590BB84A9637E417C05F33C55ADC8FCF6D9155164553982.txt': 7464,\n",
       " '164CDCD49B6109F109D3E61B9A591497BCCE017C827B780EF04BCA9D0848B3DA.txt': 7465,\n",
       " '165CF015FB4140F27A73121457A6C7FE8430D2EA87C7EC732AF3500D4617B7CD.txt': 7468,\n",
       " ...}"
      ]
     },
     "execution_count": 87,
     "metadata": {},
     "output_type": "execute_result"
    }
   ],
   "source": [
    "tpp"
   ]
  },
  {
   "cell_type": "markdown",
   "metadata": {
    "id": "XfToz073ohaC"
   },
   "source": [
    "#### Load test data into memory as np.array"
   ]
  },
  {
   "cell_type": "code",
   "execution_count": 88,
   "metadata": {
    "executionInfo": {
     "elapsed": 2638,
     "status": "ok",
     "timestamp": 1611346393211,
     "user": {
      "displayName": "Prabesh Pathak",
      "photoUrl": "https://lh3.googleusercontent.com/a-/AOh14Gh6ULNXNrYutw3u6ad06TMgRj97zOGaU28QfV_MCg=s64",
      "userId": "10507649871156130542"
     },
     "user_tz": 300
    },
    "id": "IBGFjJPaUPhg"
   },
   "outputs": [],
   "source": [
    "test_data_mem = []\n",
    "for input, labels in test_generator:\n",
    "    for i in input:\n",
    "        x = np.array(i)\n",
    "        x = x.squeeze()\n",
    "        test_data_mem.append(x)\n"
   ]
  },
  {
   "cell_type": "markdown",
   "metadata": {
    "id": "c2OGpMbREnUA"
   },
   "source": [
    "#### Get malicious filename and their index from test generator"
   ]
  },
  {
   "cell_type": "code",
   "execution_count": 89,
   "metadata": {
    "colab": {
     "base_uri": "https://localhost:8080/"
    },
    "executionInfo": {
     "elapsed": 2303,
     "status": "ok",
     "timestamp": 1611346393213,
     "user": {
      "displayName": "Prabesh Pathak",
      "photoUrl": "https://lh3.googleusercontent.com/a-/AOh14Gh6ULNXNrYutw3u6ad06TMgRj97zOGaU28QfV_MCg=s64",
      "userId": "10507649871156130542"
     },
     "user_tz": 300
    },
    "id": "Nm8aDBqkeuLC",
    "outputId": "58f508f2-dcd0-48e4-88b9-ae6f56a42ab2"
   },
   "outputs": [],
   "source": [
    "# For all malware TN and FN\n",
    "# true_ids = [] # ids of the malicious files from test_generator\n",
    "# for i,d in enumerate(true_label):\n",
    "#     if d == 1:\n",
    "#         true_ids.append(i)\n",
    "# # print(true_ids)"
   ]
  },
  {
   "cell_type": "code",
   "execution_count": 90,
   "metadata": {
    "executionInfo": {
     "elapsed": 6003,
     "status": "ok",
     "timestamp": 1611346397078,
     "user": {
      "displayName": "Prabesh Pathak",
      "photoUrl": "https://lh3.googleusercontent.com/a-/AOh14Gh6ULNXNrYutw3u6ad06TMgRj97zOGaU28QfV_MCg=s64",
      "userId": "10507649871156130542"
     },
     "user_tz": 300
    },
    "id": "6Lt9tQ6H8tTX"
   },
   "outputs": [],
   "source": [
    "# t1 = {}\n",
    "# count = 0\n",
    "# for k,v in test_label_dict.items():\n",
    "#     t1[k] = count\n",
    "#     count += 1"
   ]
  },
  {
   "cell_type": "code",
   "execution_count": 91,
   "metadata": {
    "executionInfo": {
     "elapsed": 5852,
     "status": "ok",
     "timestamp": 1611346397082,
     "user": {
      "displayName": "Prabesh Pathak",
      "photoUrl": "https://lh3.googleusercontent.com/a-/AOh14Gh6ULNXNrYutw3u6ad06TMgRj97zOGaU28QfV_MCg=s64",
      "userId": "10507649871156130542"
     },
     "user_tz": 300
    },
    "id": "uQwA_VaUDuzS"
   },
   "outputs": [],
   "source": [
    "# tf = {}\n",
    "# for k,v in t1.items():\n",
    "#     if v in true_ids:\n",
    "#         tf[k] = v"
   ]
  },
  {
   "cell_type": "code",
   "execution_count": 92,
   "metadata": {
    "colab": {
     "base_uri": "https://localhost:8080/"
    },
    "executionInfo": {
     "elapsed": 5662,
     "status": "ok",
     "timestamp": 1611346397083,
     "user": {
      "displayName": "Prabesh Pathak",
      "photoUrl": "https://lh3.googleusercontent.com/a-/AOh14Gh6ULNXNrYutw3u6ad06TMgRj97zOGaU28QfV_MCg=s64",
      "userId": "10507649871156130542"
     },
     "user_tz": 300
    },
    "id": "eNfGeAEuD9SU",
    "outputId": "357a6c8a-b933-4750-9868-4eb25c3a8e02"
   },
   "outputs": [],
   "source": [
    "# tf"
   ]
  },
  {
   "cell_type": "markdown",
   "metadata": {
    "id": "WGLsooPRon_F"
   },
   "source": [
    "##### For 1 example"
   ]
  },
  {
   "cell_type": "code",
   "execution_count": 99,
   "metadata": {
    "colab": {
     "base_uri": "https://localhost:8080/"
    },
    "executionInfo": {
     "elapsed": 5301,
     "status": "ok",
     "timestamp": 1611346397083,
     "user": {
      "displayName": "Prabesh Pathak",
      "photoUrl": "https://lh3.googleusercontent.com/a-/AOh14Gh6ULNXNrYutw3u6ad06TMgRj97zOGaU28QfV_MCg=s64",
      "userId": "10507649871156130542"
     },
     "user_tz": 300
    },
    "id": "TZVVLcXZrmYh",
    "outputId": "6ae04149-b6c1-4d77-8391-3bd455851a1b"
   },
   "outputs": [
    {
     "name": "stdout",
     "output_type": "stream",
     "text": [
      "[[2 2 2 ... 0 0 0]]\n"
     ]
    }
   ],
   "source": [
    "train_dir = '/media/data/artifacts/2016/test/'\n",
    "# Load data and get label\n",
    "# f2 = '22A016ACF04241F38EA461C888C6149D9296D0685851186D9C4E86C0B64C1F1F.txt' # this also good deskeyspec\n",
    "# \n",
    "# f2 = '0631D6F894C62F8B49CDB2E7B6F13E4A86EC13F339300B82385A41CB917CA8A1.txt' # this good cryptocipher\n",
    "# f2 = '0AD5833E42D26E842711D5A03CD7ED2C16894E5C969C6A461209EBF045903D0E.txt' # this also good deskeyspec\n",
    "# f2 = '0F811DF8F42BBFA4E3ACA41994767D4B89596E24AC8A99569A90429E9860CDD3.txt'\n",
    "# f2 = '0590639FAB7FA6CA0BA79DE9ADCCC434970C3F277C00CB7FF3657E502EC8D308.txt'\n",
    "# f2 = 'logstealer.txt'\n",
    "\n",
    "#vt10\n",
    "\n",
    "# f2 = '0402690F7661E4670426AFDEC58CB72FBF8B8340EB5654EDB0C873D295F68A86.txt'\n",
    "# f2 = '0485F56635A63D8222280FC8A9A28A8DB4E15580354B01821C5F106535935ECC.txt'\n",
    "# f2 = '04AA2FC7C63506655EA8F7A1D74F7F5EFC288F4C18B1F5E1D56DF6791EC43725.txt' #http\n",
    "# f2 = '05B76017323EF2AFCB5CF3E5D8E9DD1137477C1E04698E59D1153056859897B1.txt'\n",
    "# f2 = '05F0D542CDFA19F8E675B0CD782D7C05C4AC8E41CB7F5F4B847776EA8D6F335E.txt'\n",
    "# f2 = '0641125EC87D5F3623261D1A18BBC7389A89F2A3FF1B92151B25E78B22F57936.txt'\n",
    "# f2 = '0651B8AB3F64B45EF0AF192D776A01DDFCED7BCB37F8F34A09CFF8B78A23D3F1.txt' #no\n",
    "# f2 = '068D6E8BC12D40B1C5339FF3FA254E2170835A2DB848F360E4A00B0F73A75C55.txt'\n",
    "# f2 = '072BC2B8AFBFAF1C7D01D67CD929689DB536EC563373B245DDFF5F842D4685CD.txt' #apache\n",
    "# f2 = '07636FA0B61F5DD7B84240572231A537BBC0C9DDD4D44D56CA10605F75876004.txt'\n",
    "# f2 = '090870D2921D57EB349166B40A0475396088F8A89780BBD8AC8FA8C2D2C3DF5A.txt'\n",
    "\n",
    "\n",
    "# f2 = '001441793CA9066610E528C95E44C68588B0A3CA5FB853D3776C398A749DE61F.txt' #short\n",
    "# f2 = '001443C57EF17087C45362A8F09ED58A8291D68BD753E173D1599C70E7B08B41.txt'\n",
    "# f2 = '0025FB51E69BA50FB5A26EEA3E22AC8644ED4BD42E211EC4874AD89F30499C30.txt'\n",
    "# f2 = '0F811DF8F42BBFA4E3ACA41994767D4B89596E24AC8A99569A90429E9860CDD3.txt' #adware\n",
    "# f2 = '0FD594AEC225D9B2CF5A018F4ADB9BD97479A09D5AB1FA41DCBF3E49EFAF36EB.txt'\n",
    "# f2 = '037E6D51E9A589583FD108DAF12C3E1EF2D2BE2C78D2E89FDB20AA6B2C36286D.txt'\n",
    "# f2 = '0402690F7661E4670426AFDEC58CB72FBF8B8340EB5654EDB0C873D295F68A86.txt' #good2\n",
    "f2 = '0590639FAB7FA6CA0BA79DE9ADCCC434970C3F277C00CB7FF3657E502EC8D308.txt' #good1\n",
    "\n",
    "# f2 = '0631D6F894C62F8B49CDB2E7B6F13E4A86EC13F339300B82385A41CB917CA8A1.txt'\n",
    "# f2 = '0BEFE2084DCF1B1630F4A232CF8EC51D03574567A8941E55703EC4A4FF98C986.txt'\n",
    "\n",
    "one_file = open(train_dir + f2,'r').read().strip()\n",
    "\n",
    "X =  sequence.pad_sequences(tokenizer.texts_to_sequences([one_file]),maxlen=2000, padding='post',truncating='post')\n",
    "print(X)"
   ]
  },
  {
   "cell_type": "code",
   "execution_count": 100,
   "metadata": {
    "colab": {
     "base_uri": "https://localhost:8080/"
    },
    "executionInfo": {
     "elapsed": 3814,
     "status": "ok",
     "timestamp": 1611346397084,
     "user": {
      "displayName": "Prabesh Pathak",
      "photoUrl": "https://lh3.googleusercontent.com/a-/AOh14Gh6ULNXNrYutw3u6ad06TMgRj97zOGaU28QfV_MCg=s64",
      "userId": "10507649871156130542"
     },
     "user_tz": 300
    },
    "id": "03YHE76MFVQP",
    "outputId": "0f47e2aa-c4f2-469c-963d-41ab1da6b703"
   },
   "outputs": [
    {
     "data": {
      "text/plain": [
       "7115"
      ]
     },
     "execution_count": 100,
     "metadata": {},
     "output_type": "execute_result"
    }
   ],
   "source": [
    "tpp[f2]"
   ]
  },
  {
   "cell_type": "code",
   "execution_count": 106,
   "metadata": {},
   "outputs": [
    {
     "data": {
      "text/plain": [
       "4000"
      ]
     },
     "execution_count": 106,
     "metadata": {},
     "output_type": "execute_result"
    }
   ],
   "source": [
    "# len(a_weights[0])\n",
    "len(b_weights[0])"
   ]
  },
  {
   "cell_type": "code",
   "execution_count": 102,
   "metadata": {
    "colab": {
     "base_uri": "https://localhost:8080/"
    },
    "executionInfo": {
     "elapsed": 3660,
     "status": "ok",
     "timestamp": 1611346397085,
     "user": {
      "displayName": "Prabesh Pathak",
      "photoUrl": "https://lh3.googleusercontent.com/a-/AOh14Gh6ULNXNrYutw3u6ad06TMgRj97zOGaU28QfV_MCg=s64",
      "userId": "10507649871156130542"
     },
     "user_tz": 300
    },
    "id": "1mX__CoaNDRJ",
    "outputId": "1170b0bb-745e-4f33-a7fc-972fea9534f2"
   },
   "outputs": [],
   "source": [
    "ts = X.squeeze().tolist()\n",
    "# print(ts, end='')"
   ]
  },
  {
   "cell_type": "code",
   "execution_count": 115,
   "metadata": {},
   "outputs": [
    {
     "data": {
      "text/plain": [
       "(4000,)"
      ]
     },
     "execution_count": 115,
     "metadata": {},
     "output_type": "execute_result"
    }
   ],
   "source": [
    "mal_index = tpp[f2] \n",
    "m = a_weights[mal_index]\n",
    "a_weights[mal_index].shape\n",
    "# m = b_weights[mal_index]\n",
    "# b_weights[mal_index].shape"
   ]
  },
  {
   "cell_type": "code",
   "execution_count": 116,
   "metadata": {
    "colab": {
     "base_uri": "https://localhost:8080/"
    },
    "executionInfo": {
     "elapsed": 2718,
     "status": "ok",
     "timestamp": 1611346397085,
     "user": {
      "displayName": "Prabesh Pathak",
      "photoUrl": "https://lh3.googleusercontent.com/a-/AOh14Gh6ULNXNrYutw3u6ad06TMgRj97zOGaU28QfV_MCg=s64",
      "userId": "10507649871156130542"
     },
     "user_tz": 300
    },
    "id": "LsIgNzLi68ou",
    "outputId": "e349e7dd-4034-4b50-a88a-f8cd7bbca4bf"
   },
   "outputs": [
    {
     "data": {
      "text/html": [
       "<div>\n",
       "<style scoped>\n",
       "    .dataframe tbody tr th:only-of-type {\n",
       "        vertical-align: middle;\n",
       "    }\n",
       "\n",
       "    .dataframe tbody tr th {\n",
       "        vertical-align: top;\n",
       "    }\n",
       "\n",
       "    .dataframe thead th {\n",
       "        text-align: right;\n",
       "    }\n",
       "</style>\n",
       "<table border=\"1\" class=\"dataframe\">\n",
       "  <thead>\n",
       "    <tr style=\"text-align: right;\">\n",
       "      <th></th>\n",
       "      <th>weights</th>\n",
       "    </tr>\n",
       "  </thead>\n",
       "  <tbody>\n",
       "    <tr>\n",
       "      <th>ljava/lang/reflect/field;.isaccessible:()z</th>\n",
       "      <td>0.141635</td>\n",
       "    </tr>\n",
       "    <tr>\n",
       "      <th>ljava/io/file;.delete:()z</th>\n",
       "      <td>0.141519</td>\n",
       "    </tr>\n",
       "    <tr>\n",
       "      <th>ljava/lang/reflect/array;.newinstance:(ljava/lang/class;i)ljava/lang/object;</th>\n",
       "      <td>0.121067</td>\n",
       "    </tr>\n",
       "    <tr>\n",
       "      <th>ljava/lang/class;.forname:(ljava/lang/string;)ljava/lang/class;</th>\n",
       "      <td>0.047151</td>\n",
       "    </tr>\n",
       "    <tr>\n",
       "      <th>ljava/lang/nosuchfieldexception;.&lt;init&gt;:(ljava/lang/string;)v</th>\n",
       "      <td>0.023995</td>\n",
       "    </tr>\n",
       "    <tr>\n",
       "      <th>ljava/lang/interruptedexception;.printstacktrace:()v</th>\n",
       "      <td>0.019881</td>\n",
       "    </tr>\n",
       "    <tr>\n",
       "      <th>ljava/lang/reflect/method;.setaccessible:(z)v</th>\n",
       "      <td>0.018509</td>\n",
       "    </tr>\n",
       "    <tr>\n",
       "      <th>ljava/util/arraylist;.&lt;init&gt;:(ljava/util/collection;)v</th>\n",
       "      <td>0.012980</td>\n",
       "    </tr>\n",
       "    <tr>\n",
       "      <th>ljava/lang/thread;.getname:()ljava/lang/string;</th>\n",
       "      <td>0.007661</td>\n",
       "    </tr>\n",
       "    <tr>\n",
       "      <th>ljava/lang/exception;.printstacktrace:(ljava/io/printstream;)v</th>\n",
       "      <td>0.007628</td>\n",
       "    </tr>\n",
       "    <tr>\n",
       "      <th>ljava/lang/class;.tostring:()ljava/lang/string;</th>\n",
       "      <td>0.007538</td>\n",
       "    </tr>\n",
       "    <tr>\n",
       "      <th>ljava/lang/object;.notify:()v</th>\n",
       "      <td>0.007267</td>\n",
       "    </tr>\n",
       "    <tr>\n",
       "      <th>ljava/util/arraylist;.iterator:()ljava/util/iterator;</th>\n",
       "      <td>0.007249</td>\n",
       "    </tr>\n",
       "    <tr>\n",
       "      <th>landroid/app/application;.onconfigurationchanged:(landroid/content/res/configuration;)v</th>\n",
       "      <td>0.006622</td>\n",
       "    </tr>\n",
       "    <tr>\n",
       "      <th>ljava/lang/string;.contains:(ljava/lang/charsequence;)z</th>\n",
       "      <td>0.006601</td>\n",
       "    </tr>\n",
       "    <tr>\n",
       "      <th>ljava/io/ioexception;.printstacktrace:()v</th>\n",
       "      <td>0.006360</td>\n",
       "    </tr>\n",
       "    <tr>\n",
       "      <th>ljava/util/map$entry;.getvalue:()ljava/lang/object;</th>\n",
       "      <td>0.005734</td>\n",
       "    </tr>\n",
       "    <tr>\n",
       "      <th>ljava/io/ioexception;.printstacktrace:(ljava/io/printstream;)v</th>\n",
       "      <td>0.005608</td>\n",
       "    </tr>\n",
       "    <tr>\n",
       "      <th>landroid/app/application;.ontrimmemory:(i)v</th>\n",
       "      <td>0.003890</td>\n",
       "    </tr>\n",
       "    <tr>\n",
       "      <th>landroid/app/application;.&lt;init&gt;:()v</th>\n",
       "      <td>0.003873</td>\n",
       "    </tr>\n",
       "  </tbody>\n",
       "</table>\n",
       "</div>"
      ],
      "text/plain": [
       "                                                     weights\n",
       "ljava/lang/reflect/field;.isaccessible:()z          0.141635\n",
       "ljava/io/file;.delete:()z                           0.141519\n",
       "ljava/lang/reflect/array;.newinstance:(ljava/la...  0.121067\n",
       "ljava/lang/class;.forname:(ljava/lang/string;)l...  0.047151\n",
       "ljava/lang/nosuchfieldexception;.<init>:(ljava/...  0.023995\n",
       "ljava/lang/interruptedexception;.printstacktrac...  0.019881\n",
       "ljava/lang/reflect/method;.setaccessible:(z)v       0.018509\n",
       "ljava/util/arraylist;.<init>:(ljava/util/collec...  0.012980\n",
       "ljava/lang/thread;.getname:()ljava/lang/string;     0.007661\n",
       "ljava/lang/exception;.printstacktrace:(ljava/io...  0.007628\n",
       "ljava/lang/class;.tostring:()ljava/lang/string;     0.007538\n",
       "ljava/lang/object;.notify:()v                       0.007267\n",
       "ljava/util/arraylist;.iterator:()ljava/util/ite...  0.007249\n",
       "landroid/app/application;.onconfigurationchange...  0.006622\n",
       "ljava/lang/string;.contains:(ljava/lang/charseq...  0.006601\n",
       "ljava/io/ioexception;.printstacktrace:()v           0.006360\n",
       "ljava/util/map$entry;.getvalue:()ljava/lang/obj...  0.005734\n",
       "ljava/io/ioexception;.printstacktrace:(ljava/io...  0.005608\n",
       "landroid/app/application;.ontrimmemory:(i)v         0.003890\n",
       "landroid/app/application;.<init>:()v                0.003873"
      ]
     },
     "execution_count": 116,
     "metadata": {},
     "output_type": "execute_result"
    }
   ],
   "source": [
    "mal_index = tpp[f2] \n",
    "dict = {}\n",
    "for i in range(0,4000):\n",
    "    try:\n",
    "#         s = idx2word[ts[i]]\n",
    "#         if s not in dict:\n",
    "#             x = m[i]\n",
    "#             dict[s] = x\n",
    "        api_name = idx2word[ts[i]]\n",
    "        wt = m[i]\n",
    "        if api_name in dict:\n",
    "            dict[api_name] = max(dict[api_name],wt)\n",
    "        else:\n",
    "            dict[api_name] = wt\n",
    "    except: KeyError\n",
    "\n",
    "cols = ['values']\n",
    "df = pd.DataFrame.from_dict(dict, orient='index', columns = cols)\n",
    "df = df.sort_values(by='values', ascending=False)\n",
    "df.columns = ['weights']\n",
    "df.head(20)"
   ]
  },
  {
   "cell_type": "code",
   "execution_count": null,
   "metadata": {
    "executionInfo": {
     "elapsed": 445,
     "status": "ok",
     "timestamp": 1611346399052,
     "user": {
      "displayName": "Prabesh Pathak",
      "photoUrl": "https://lh3.googleusercontent.com/a-/AOh14Gh6ULNXNrYutw3u6ad06TMgRj97zOGaU28QfV_MCg=s64",
      "userId": "10507649871156130542"
     },
     "user_tz": 300
    },
    "id": "JsZujojPoryh"
   },
   "outputs": [],
   "source": []
  },
  {
   "cell_type": "markdown",
   "metadata": {
    "id": "tz-1czs4zQ35"
   },
   "source": [
    "### Aggregate weights for ALL malicious files in test data"
   ]
  },
  {
   "cell_type": "code",
   "execution_count": 125,
   "metadata": {},
   "outputs": [],
   "source": [
    "alltop50 = {}\n",
    "# del dict\n",
    "# t_mal_ids = [7115]\n",
    "for mal_id in t_mal_ids:\n",
    "    top50 = {}\n",
    "#     wt = b_weights[mal_id]\n",
    "    wt = a_weights[mal_id]\n",
    "\n",
    "    for i in range(0,4000):\n",
    "        try:\n",
    "            s = idx2word[test_data_mem[mal_id][i]]\n",
    "            x = wt[i]\n",
    "            if s in top50:\n",
    "                top50[s] = max(top50[s],x)\n",
    "            else:\n",
    "                top50[s] = x        \n",
    "        except: KeyError\n",
    "    top50 = {k: v for k, v in sorted(top50.items(), key=lambda item: item[1], reverse=True)} # reverse sort dict\n",
    "    top50 = dict(itertools.islice(top50.items(), 100)) # get top50 top features \n",
    "    alltop50[mal_id] = top50"
   ]
  },
  {
   "cell_type": "code",
   "execution_count": 126,
   "metadata": {},
   "outputs": [
    {
     "data": {
      "text/plain": [
       "{'ljava/lang/interruptedexception;.printstacktrace:()v': 0.16197129,\n",
       " 'ljava/lang/reflect/method;.setaccessible:(z)v': 0.15682973,\n",
       " 'ljava/lang/reflect/field;.isaccessible:()z': 0.042919677,\n",
       " 'ljava/lang/class;.getdeclaredfield:(ljava/lang/string;)ljava/lang/reflect/field;': 0.038622648,\n",
       " 'ljava/lang/object;.notify:()v': 0.017340684,\n",
       " 'ljava/lang/reflect/array;.newinstance:(ljava/lang/class;i)ljava/lang/object;': 0.016712755,\n",
       " 'landroid/app/application;.onterminate:()v': 0.011520508,\n",
       " 'ljava/lang/nosuchfieldexception;.<init>:(ljava/lang/string;)v': 0.010765469,\n",
       " 'landroid/app/application;.ontrimmemory:(i)v': 0.009554045,\n",
       " 'ljava/lang/exception;.printstacktrace:(ljava/io/printstream;)v': 0.008771947,\n",
       " 'ljava/io/file;.delete:()z': 0.007978183,\n",
       " 'ljava/lang/nosuchmethodexception;.<init>:(ljava/lang/string;)v': 0.006396343,\n",
       " 'ljava/lang/reflect/field;.get:(ljava/lang/object;)ljava/lang/object;': 0.0063889506,\n",
       " 'ljava/lang/object;.wait:()v': 0.0055602444,\n",
       " 'landroid/app/application;.onconfigurationchanged:(landroid/content/res/configuration;)v': 0.00488588,\n",
       " 'ljava/lang/class;.getcomponenttype:()ljava/lang/class;': 0.004733929,\n",
       " 'ljava/io/file;.createnewfile:()z': 0.0046427976,\n",
       " 'ljava/lang/class;.tostring:()ljava/lang/string;': 0.004582868,\n",
       " 'ljava/io/file;.getabsolutepath:()ljava/lang/string;': 0.0036611124,\n",
       " 'ljava/util/listiterator;.hasnext:()z': 0.0035297885,\n",
       " 'ljava/io/ioexception;.printstacktrace:(ljava/io/printstream;)v': 0.0034702981,\n",
       " 'ljava/lang/system;.loadlibrary:(ljava/lang/string;)v': 0.0031451227,\n",
       " 'landroid/util/arraymap;.entryset:()ljava/util/set;': 0.0030850547,\n",
       " 'ljava/util/map$entry;.getvalue:()ljava/lang/object;': 0.0030793794,\n",
       " 'landroid/app/application;.onlowmemory:()v': 0.0028436242,\n",
       " 'ljava/util/map$entry;.getkey:()ljava/lang/object;': 0.002819759,\n",
       " 'ljava/io/file;.<init>:(ljava/lang/string;)v': 0.002673232,\n",
       " 'ljava/util/arraylist;.<init>:(ljava/util/collection;)v': 0.0026171107,\n",
       " 'ljava/lang/class;.getdeclaredmethod:(ljava/lang/string;[ljava/lang/class;)ljava/lang/reflect/method;': 0.0022428953,\n",
       " 'landroid/util/arraymap;.get:(ljava/lang/object;)ljava/lang/object;': 0.0019441629,\n",
       " 'ljava/lang/classloader;.loadclass:(ljava/lang/string;)ljava/lang/class;': 0.0018390068,\n",
       " 'ljava/util/zip/zipfile;.<init>:(ljava/io/file;)v': 0.0015932608,\n",
       " 'ldalvik/system/dexfile;.getname:()ljava/lang/string;': 0.0015033849,\n",
       " 'ljava/lang/object;.tostring:()ljava/lang/string;': 0.0014872059,\n",
       " 'ljava/lang/thread;.sleep:(j)v': 0.0012465833,\n",
       " 'ljava/lang/class;.forname:(ljava/lang/string;)ljava/lang/class;': 0.0011080792,\n",
       " 'ljava/lang/stringbuilder;.append:(c)ljava/lang/stringbuilder;': 0.0010372038,\n",
       " 'ljava/lang/thread;.currentthread:()ljava/lang/thread;': 0.0009911656,\n",
       " 'ljava/util/listiterator;.next:()ljava/lang/object;': 0.00091861014,\n",
       " 'ljava/lang/system;.load:(ljava/lang/string;)v': 0.00085527735,\n",
       " 'ljava/lang/stringbuilder;.<init>:()v': 0.0008342548,\n",
       " 'landroid/os/fileobserver;.<init>:(ljava/lang/string;i)v': 0.0008287432,\n",
       " 'ljava/util/listiterator;.previousindex:()i': 0.0007742668,\n",
       " 'ljava/lang/reflect/field;.set:(ljava/lang/object;ljava/lang/object;)v': 0.0007224621,\n",
       " 'ljava/util/arraylist;.iterator:()ljava/util/iterator;': 0.00070367975,\n",
       " 'ljava/lang/reflect/field;.setaccessible:(z)v': 0.00064994924,\n",
       " 'ljava/util/iterator;.next:()ljava/lang/object;': 0.00061728514,\n",
       " 'ljava/lang/threadgroup;.enumerate:([ljava/lang/thread;)i': 0.000598369,\n",
       " 'ljava/lang/string;.equalsignorecase:(ljava/lang/string;)z': 0.0005751281,\n",
       " 'ljava/lang/exception;.printstacktrace:()v': 0.0005462273,\n",
       " 'ljava/util/arraylist;.<init>:()v': 0.00049059285,\n",
       " 'ljava/lang/system;.arraycopy:(ljava/lang/object;iljava/lang/object;ii)v': 0.00048263776,\n",
       " 'ljava/io/ioexception;.printstacktrace:()v': 0.00044396173,\n",
       " 'ljava/util/arraylist;.toarray:([ljava/lang/object;)[ljava/lang/object;': 0.00043758578,\n",
       " 'ldalvik/system/dexfile;.loaddex:(ljava/lang/string;ljava/lang/string;i)ldalvik/system/dexfile;': 0.00042299787,\n",
       " 'ljava/util/arraylist;.add:(ljava/lang/object;)z': 0.00042027596,\n",
       " 'ljava/util/arraylist;.size:()i': 0.0004190714,\n",
       " 'ljava/util/list;.listiterator:()ljava/util/listiterator;': 0.00036264493,\n",
       " 'ljava/util/list;.size:()i': 0.0003520086,\n",
       " 'ljava/util/arrays;.aslist:([ljava/lang/object;)ljava/util/list;': 0.00034381554,\n",
       " 'ljava/lang/thread;.getname:()ljava/lang/string;': 0.00023422562,\n",
       " 'ljava/lang/object;.getclass:()ljava/lang/class;': 0.00018554898,\n",
       " 'ljava/util/set;.iterator:()ljava/util/iterator;': 0.00014953355,\n",
       " 'landroid/app/application;.<init>:()v': 0.00014555217,\n",
       " 'ljava/lang/stringbuilder;.append:(ljava/lang/object;)ljava/lang/stringbuilder;': 9.650899e-05,\n",
       " 'ljava/util/list;.isempty:()z': 8.6812324e-05,\n",
       " 'ljava/lang/reflect/method;.invoke:(ljava/lang/object;[ljava/lang/object;)ljava/lang/object;': 7.76413e-05,\n",
       " 'ljava/lang/reflect/method;.isaccessible:()z': 7.521808e-05,\n",
       " 'ljava/lang/thread;.getthreadgroup:()ljava/lang/threadgroup;': 7.1366136e-05,\n",
       " 'ljava/lang/string;.contains:(ljava/lang/charsequence;)z': 7.1143855e-05,\n",
       " 'ljava/lang/class;.newinstance:()ljava/lang/object;': 6.990942e-05,\n",
       " 'ljava/lang/string;.endswith:(ljava/lang/string;)z': 6.190076e-05,\n",
       " 'ljava/lang/stringbuilder;.<init>:(ljava/lang/string;)v': 5.2052204e-05,\n",
       " 'landroid/app/application;.oncreate:()v': 4.311378e-05,\n",
       " 'ljava/lang/class;.getsuperclass:()ljava/lang/class;': 4.253834e-05,\n",
       " 'landroid/view/layoutinflater;.from:(landroid/content/context;)landroid/view/layoutinflater;': 3.7771006e-05,\n",
       " 'ljava/lang/stringbuilder;.append:(ljava/lang/string;)ljava/lang/stringbuilder;': 2.7328242e-05,\n",
       " 'ljava/util/iterator;.hasnext:()z': 2.7293423e-05,\n",
       " 'ljava/lang/stringbuilder;.tostring:()ljava/lang/string;': 2.3431105e-05,\n",
       " 'landroid/app/application;.attachbasecontext:(landroid/content/context;)v': 2.2366774e-05,\n",
       " 'ljava/lang/object;.<init>:()v': 1.8572373e-05,\n",
       " 'ljava/lang/string;.equals:(ljava/lang/object;)z': 1.349181e-05,\n",
       " 'ljava/lang/boolean;.valueof:(z)ljava/lang/boolean;': 9.091715e-06}"
      ]
     },
     "execution_count": 126,
     "metadata": {},
     "output_type": "execute_result"
    }
   ],
   "source": [
    "alltop50[tpp[f2]]"
   ]
  },
  {
   "cell_type": "code",
   "execution_count": 127,
   "metadata": {},
   "outputs": [],
   "source": [
    "weights = {}\n",
    "count = {}\n",
    "for mal_id in t_mal_ids:\n",
    "    for k,v in alltop50[mal_id].items():\n",
    "        if k not in weights:\n",
    "            weights[k] = v\n",
    "            count[k] = 1\n",
    "        else:\n",
    "            weights[k] = weights[k] + v\n",
    "            count[k] = count[k] + 1   "
   ]
  },
  {
   "cell_type": "code",
   "execution_count": 128,
   "metadata": {},
   "outputs": [],
   "source": [
    "cols = ['cumulative_weights']\n",
    "df1 = pd.DataFrame.from_dict(weights, orient='index', columns = cols)\n",
    "cols = ['count']\n",
    "df2 = pd.DataFrame.from_dict(count, orient='index', columns = cols)\n",
    "df_n = pd.concat([df1, df2], axis=1)"
   ]
  },
  {
   "cell_type": "code",
   "execution_count": 129,
   "metadata": {},
   "outputs": [
    {
     "data": {
      "text/html": [
       "<div>\n",
       "<style scoped>\n",
       "    .dataframe tbody tr th:only-of-type {\n",
       "        vertical-align: middle;\n",
       "    }\n",
       "\n",
       "    .dataframe tbody tr th {\n",
       "        vertical-align: top;\n",
       "    }\n",
       "\n",
       "    .dataframe thead th {\n",
       "        text-align: right;\n",
       "    }\n",
       "</style>\n",
       "<table border=\"1\" class=\"dataframe\">\n",
       "  <thead>\n",
       "    <tr style=\"text-align: right;\">\n",
       "      <th></th>\n",
       "      <th>cumulative_weights</th>\n",
       "      <th>count</th>\n",
       "    </tr>\n",
       "  </thead>\n",
       "  <tbody>\n",
       "    <tr>\n",
       "      <th>landroid/content/res/resources;.getassets:()landroid/content/res/assetmanager;</th>\n",
       "      <td>276.610840</td>\n",
       "      <td>1889</td>\n",
       "    </tr>\n",
       "    <tr>\n",
       "      <th>ljava/io/file;.getparentfile:()ljava/io/file;</th>\n",
       "      <td>253.963409</td>\n",
       "      <td>2208</td>\n",
       "    </tr>\n",
       "    <tr>\n",
       "      <th>ljava/lang/reflect/method;.setaccessible:(z)v</th>\n",
       "      <td>168.531143</td>\n",
       "      <td>2233</td>\n",
       "    </tr>\n",
       "    <tr>\n",
       "      <th>ljava/io/fileoutputstream;.write:([bii)v</th>\n",
       "      <td>99.580971</td>\n",
       "      <td>2394</td>\n",
       "    </tr>\n",
       "    <tr>\n",
       "      <th>landroid/util/base64;.decode:([bi)[b</th>\n",
       "      <td>34.659008</td>\n",
       "      <td>222</td>\n",
       "    </tr>\n",
       "    <tr>\n",
       "      <th>ljava/io/inputstream;.close:()v</th>\n",
       "      <td>25.745605</td>\n",
       "      <td>2582</td>\n",
       "    </tr>\n",
       "    <tr>\n",
       "      <th>ljava/lang/object;.notify:()v</th>\n",
       "      <td>22.100742</td>\n",
       "      <td>1998</td>\n",
       "    </tr>\n",
       "    <tr>\n",
       "      <th>ljava/io/bufferedinputstream;.available:()i</th>\n",
       "      <td>18.762272</td>\n",
       "      <td>1731</td>\n",
       "    </tr>\n",
       "    <tr>\n",
       "      <th>landroid/app/application;.getbasecontext:()landroid/content/context;</th>\n",
       "      <td>18.699900</td>\n",
       "      <td>1660</td>\n",
       "    </tr>\n",
       "    <tr>\n",
       "      <th>ljava/io/fileoutputstream;.flush:()v</th>\n",
       "      <td>16.552031</td>\n",
       "      <td>1180</td>\n",
       "    </tr>\n",
       "    <tr>\n",
       "      <th>ljava/io/file;.exists:()z</th>\n",
       "      <td>15.136660</td>\n",
       "      <td>2390</td>\n",
       "    </tr>\n",
       "    <tr>\n",
       "      <th>ljava/lang/class;.getdeclaredfield:(ljava/lang/string;)ljava/lang/reflect/field;</th>\n",
       "      <td>11.087695</td>\n",
       "      <td>1226</td>\n",
       "    </tr>\n",
       "    <tr>\n",
       "      <th>ljava/io/fileinputstream;.&lt;init&gt;:(ljava/lang/string;)v</th>\n",
       "      <td>7.190425</td>\n",
       "      <td>817</td>\n",
       "    </tr>\n",
       "    <tr>\n",
       "      <th>ljava/io/file;.getabsolutepath:()ljava/lang/string;</th>\n",
       "      <td>7.041640</td>\n",
       "      <td>2053</td>\n",
       "    </tr>\n",
       "    <tr>\n",
       "      <th>ljava/lang/numberformatexception;.printstacktrace:()v</th>\n",
       "      <td>6.908610</td>\n",
       "      <td>964</td>\n",
       "    </tr>\n",
       "    <tr>\n",
       "      <th>ljava/lang/interruptedexception;.printstacktrace:()v</th>\n",
       "      <td>5.762350</td>\n",
       "      <td>537</td>\n",
       "    </tr>\n",
       "    <tr>\n",
       "      <th>ljava/io/bufferedwriter;.&lt;init&gt;:(ljava/io/writer;)v</th>\n",
       "      <td>5.755759</td>\n",
       "      <td>384</td>\n",
       "    </tr>\n",
       "    <tr>\n",
       "      <th>ljava/lang/string;.valueof:([c)ljava/lang/string;</th>\n",
       "      <td>5.528585</td>\n",
       "      <td>425</td>\n",
       "    </tr>\n",
       "    <tr>\n",
       "      <th>ljava/lang/object;.wait:()v</th>\n",
       "      <td>5.471338</td>\n",
       "      <td>1725</td>\n",
       "    </tr>\n",
       "    <tr>\n",
       "      <th>ljava/lang/system;.loadlibrary:(ljava/lang/string;)v</th>\n",
       "      <td>5.306706</td>\n",
       "      <td>1696</td>\n",
       "    </tr>\n",
       "  </tbody>\n",
       "</table>\n",
       "</div>"
      ],
      "text/plain": [
       "                                                    cumulative_weights  count\n",
       "landroid/content/res/resources;.getassets:()lan...          276.610840   1889\n",
       "ljava/io/file;.getparentfile:()ljava/io/file;               253.963409   2208\n",
       "ljava/lang/reflect/method;.setaccessible:(z)v               168.531143   2233\n",
       "ljava/io/fileoutputstream;.write:([bii)v                     99.580971   2394\n",
       "landroid/util/base64;.decode:([bi)[b                         34.659008    222\n",
       "ljava/io/inputstream;.close:()v                              25.745605   2582\n",
       "ljava/lang/object;.notify:()v                                22.100742   1998\n",
       "ljava/io/bufferedinputstream;.available:()i                  18.762272   1731\n",
       "landroid/app/application;.getbasecontext:()land...           18.699900   1660\n",
       "ljava/io/fileoutputstream;.flush:()v                         16.552031   1180\n",
       "ljava/io/file;.exists:()z                                    15.136660   2390\n",
       "ljava/lang/class;.getdeclaredfield:(ljava/lang/...           11.087695   1226\n",
       "ljava/io/fileinputstream;.<init>:(ljava/lang/st...            7.190425    817\n",
       "ljava/io/file;.getabsolutepath:()ljava/lang/str...            7.041640   2053\n",
       "ljava/lang/numberformatexception;.printstacktra...            6.908610    964\n",
       "ljava/lang/interruptedexception;.printstacktrac...            5.762350    537\n",
       "ljava/io/bufferedwriter;.<init>:(ljava/io/write...            5.755759    384\n",
       "ljava/lang/string;.valueof:([c)ljava/lang/string;             5.528585    425\n",
       "ljava/lang/object;.wait:()v                                   5.471338   1725\n",
       "ljava/lang/system;.loadlibrary:(ljava/lang/stri...            5.306706   1696"
      ]
     },
     "execution_count": 129,
     "metadata": {},
     "output_type": "execute_result"
    }
   ],
   "source": [
    "df_c = df_n\n",
    "df_c = df_c.sort_values(by='cumulative_weights', ascending=False)\n",
    "df_c.head(20)"
   ]
  },
  {
   "cell_type": "code",
   "execution_count": 130,
   "metadata": {},
   "outputs": [
    {
     "data": {
      "text/html": [
       "<div>\n",
       "<style scoped>\n",
       "    .dataframe tbody tr th:only-of-type {\n",
       "        vertical-align: middle;\n",
       "    }\n",
       "\n",
       "    .dataframe tbody tr th {\n",
       "        vertical-align: top;\n",
       "    }\n",
       "\n",
       "    .dataframe thead th {\n",
       "        text-align: right;\n",
       "    }\n",
       "</style>\n",
       "<table border=\"1\" class=\"dataframe\">\n",
       "  <thead>\n",
       "    <tr style=\"text-align: right;\">\n",
       "      <th></th>\n",
       "      <th>count</th>\n",
       "      <th>effective_weights</th>\n",
       "    </tr>\n",
       "  </thead>\n",
       "  <tbody>\n",
       "    <tr>\n",
       "      <th>landroid/webkit/webview;.getrootview:()landroid/view/view;</th>\n",
       "      <td>15</td>\n",
       "      <td>0.160272</td>\n",
       "    </tr>\n",
       "    <tr>\n",
       "      <th>landroid/util/base64;.decode:([bi)[b</th>\n",
       "      <td>222</td>\n",
       "      <td>0.156122</td>\n",
       "    </tr>\n",
       "    <tr>\n",
       "      <th>landroid/content/res/resources;.getassets:()landroid/content/res/assetmanager;</th>\n",
       "      <td>1889</td>\n",
       "      <td>0.146432</td>\n",
       "    </tr>\n",
       "    <tr>\n",
       "      <th>ljava/io/file;.getparentfile:()ljava/io/file;</th>\n",
       "      <td>2208</td>\n",
       "      <td>0.115020</td>\n",
       "    </tr>\n",
       "    <tr>\n",
       "      <th>ljava/lang/reflect/method;.setaccessible:(z)v</th>\n",
       "      <td>2233</td>\n",
       "      <td>0.075473</td>\n",
       "    </tr>\n",
       "    <tr>\n",
       "      <th>ljava/util/zip/inflateroutputstream;.&lt;init&gt;:(ljava/io/outputstream;)v</th>\n",
       "      <td>3</td>\n",
       "      <td>0.060609</td>\n",
       "    </tr>\n",
       "    <tr>\n",
       "      <th>landroid/util/base64outputstream;.flush:()v</th>\n",
       "      <td>4</td>\n",
       "      <td>0.042719</td>\n",
       "    </tr>\n",
       "    <tr>\n",
       "      <th>ljava/io/fileoutputstream;.write:([bii)v</th>\n",
       "      <td>2394</td>\n",
       "      <td>0.041596</td>\n",
       "    </tr>\n",
       "    <tr>\n",
       "      <th>landroid/os/parcel;.writetypedarray:([landroid/os/parcelable;i)v</th>\n",
       "      <td>6</td>\n",
       "      <td>0.038440</td>\n",
       "    </tr>\n",
       "    <tr>\n",
       "      <th>ljava/lang/outofmemoryerror;.&lt;init&gt;:()v</th>\n",
       "      <td>11</td>\n",
       "      <td>0.031605</td>\n",
       "    </tr>\n",
       "    <tr>\n",
       "      <th>[lcom/amazon/inapp/purchasing/getuseridresponse$getuseridrequeststatus;.clone:()ljava/lang/object;</th>\n",
       "      <td>1</td>\n",
       "      <td>0.028997</td>\n",
       "    </tr>\n",
       "    <tr>\n",
       "      <th>ljava/lang/string;.valueof:([cii)ljava/lang/string;</th>\n",
       "      <td>6</td>\n",
       "      <td>0.027758</td>\n",
       "    </tr>\n",
       "    <tr>\n",
       "      <th>landroid/app/service;.onstartcommand:(landroid/content/intent;ii)i</th>\n",
       "      <td>90</td>\n",
       "      <td>0.025853</td>\n",
       "    </tr>\n",
       "    <tr>\n",
       "      <th>ljava/lang/appendable;.append:(ljava/lang/charsequence;)ljava/lang/appendable;</th>\n",
       "      <td>7</td>\n",
       "      <td>0.024672</td>\n",
       "    </tr>\n",
       "    <tr>\n",
       "      <th>landroid/app/application;.ontrimmemory:(i)v</th>\n",
       "      <td>46</td>\n",
       "      <td>0.024520</td>\n",
       "    </tr>\n",
       "    <tr>\n",
       "      <th>ljava/io/filenotfoundexception;.getlocalizedmessage:()ljava/lang/string;</th>\n",
       "      <td>21</td>\n",
       "      <td>0.023092</td>\n",
       "    </tr>\n",
       "    <tr>\n",
       "      <th>landroid/net/urlquerysanitizer;.getallbutnullegal:()landroid/net/urlquerysanitizer$valuesanitizer;</th>\n",
       "      <td>46</td>\n",
       "      <td>0.022987</td>\n",
       "    </tr>\n",
       "    <tr>\n",
       "      <th>ljava/util/zip/inflater;.needsdictionary:()z</th>\n",
       "      <td>17</td>\n",
       "      <td>0.022744</td>\n",
       "    </tr>\n",
       "    <tr>\n",
       "      <th>landroid/app/job/jobinfo$builder;.&lt;init&gt;:(ilandroid/content/componentname;)v</th>\n",
       "      <td>131</td>\n",
       "      <td>0.022554</td>\n",
       "    </tr>\n",
       "    <tr>\n",
       "      <th>ljava/io/ioexception;.printstacktrace:(ljava/io/printstream;)v</th>\n",
       "      <td>36</td>\n",
       "      <td>0.021655</td>\n",
       "    </tr>\n",
       "    <tr>\n",
       "      <th>landroid/widget/adapterview$onitemlongclicklistener;.onitemlongclick:(landroid/widget/adapterview;landroid/view/view;ij)z</th>\n",
       "      <td>8</td>\n",
       "      <td>0.020693</td>\n",
       "    </tr>\n",
       "    <tr>\n",
       "      <th>landroid/webkit/cookiemanager;.setacceptthirdpartycookies:(landroid/webkit/webview;z)v</th>\n",
       "      <td>24</td>\n",
       "      <td>0.019541</td>\n",
       "    </tr>\n",
       "    <tr>\n",
       "      <th>landroid/opengl/gles20;.glflush:()v</th>\n",
       "      <td>3</td>\n",
       "      <td>0.019300</td>\n",
       "    </tr>\n",
       "    <tr>\n",
       "      <th>ljava/io/bufferedwriter;.newline:()v</th>\n",
       "      <td>32</td>\n",
       "      <td>0.019273</td>\n",
       "    </tr>\n",
       "    <tr>\n",
       "      <th>landroid/view/viewgroup;.dispatchkeyevent:(landroid/view/keyevent;)z</th>\n",
       "      <td>2</td>\n",
       "      <td>0.017173</td>\n",
       "    </tr>\n",
       "    <tr>\n",
       "      <th>ljava/util/zip/dataformatexception;.getmessage:()ljava/lang/string;</th>\n",
       "      <td>9</td>\n",
       "      <td>0.017169</td>\n",
       "    </tr>\n",
       "    <tr>\n",
       "      <th>lorg/xmlpull/v1/xmlserializer;.attribute:(ljava/lang/string;ljava/lang/string;ljava/lang/string;)lorg/xmlpull/v1/xmlserializer;</th>\n",
       "      <td>10</td>\n",
       "      <td>0.017110</td>\n",
       "    </tr>\n",
       "    <tr>\n",
       "      <th>landroid/graphics/matrix;.prescale:(ff)z</th>\n",
       "      <td>24</td>\n",
       "      <td>0.017101</td>\n",
       "    </tr>\n",
       "    <tr>\n",
       "      <th>ljava/lang/reflect/field;.isaccessible:()z</th>\n",
       "      <td>275</td>\n",
       "      <td>0.016712</td>\n",
       "    </tr>\n",
       "    <tr>\n",
       "      <th>landroid/app/fragment;.onstop:()v</th>\n",
       "      <td>16</td>\n",
       "      <td>0.016638</td>\n",
       "    </tr>\n",
       "    <tr>\n",
       "      <th>landroid/app/job/jobservice;.&lt;init&gt;:()v</th>\n",
       "      <td>129</td>\n",
       "      <td>0.016439</td>\n",
       "    </tr>\n",
       "    <tr>\n",
       "      <th>[lcom/google/android/gms/analytics/y$a;.clone:()ljava/lang/object;</th>\n",
       "      <td>2</td>\n",
       "      <td>0.016189</td>\n",
       "    </tr>\n",
       "    <tr>\n",
       "      <th>landroid/app/application;.getapplicationcontext:()landroid/content/context;</th>\n",
       "      <td>1</td>\n",
       "      <td>0.016015</td>\n",
       "    </tr>\n",
       "    <tr>\n",
       "      <th>landroid/support/v4/util/arraymap;.values:()ljava/util/collection;</th>\n",
       "      <td>4</td>\n",
       "      <td>0.015034</td>\n",
       "    </tr>\n",
       "    <tr>\n",
       "      <th>ljava/io/bufferedwriter;.&lt;init&gt;:(ljava/io/writer;)v</th>\n",
       "      <td>384</td>\n",
       "      <td>0.014989</td>\n",
       "    </tr>\n",
       "    <tr>\n",
       "      <th>ljava/util/jar/jarfile;.close:()v</th>\n",
       "      <td>70</td>\n",
       "      <td>0.014898</td>\n",
       "    </tr>\n",
       "    <tr>\n",
       "      <th>landroid/webkit/webchromeclient;.onshowcustomview:(landroid/view/view;landroid/webkit/webchromeclient$customviewcallback;)v</th>\n",
       "      <td>13</td>\n",
       "      <td>0.014449</td>\n",
       "    </tr>\n",
       "    <tr>\n",
       "      <th>[lbutterknife/onpagechange$callback;.clone:()ljava/lang/object;</th>\n",
       "      <td>4</td>\n",
       "      <td>0.014229</td>\n",
       "    </tr>\n",
       "    <tr>\n",
       "      <th>landroid/content/res/assetfiledescriptor;.close:()v</th>\n",
       "      <td>67</td>\n",
       "      <td>0.014104</td>\n",
       "    </tr>\n",
       "    <tr>\n",
       "      <th>ljava/io/fileoutputstream;.flush:()v</th>\n",
       "      <td>1180</td>\n",
       "      <td>0.014027</td>\n",
       "    </tr>\n",
       "  </tbody>\n",
       "</table>\n",
       "</div>"
      ],
      "text/plain": [
       "                                                    count  effective_weights\n",
       "landroid/webkit/webview;.getrootview:()landroid...     15           0.160272\n",
       "landroid/util/base64;.decode:([bi)[b                  222           0.156122\n",
       "landroid/content/res/resources;.getassets:()lan...   1889           0.146432\n",
       "ljava/io/file;.getparentfile:()ljava/io/file;        2208           0.115020\n",
       "ljava/lang/reflect/method;.setaccessible:(z)v        2233           0.075473\n",
       "ljava/util/zip/inflateroutputstream;.<init>:(lj...      3           0.060609\n",
       "landroid/util/base64outputstream;.flush:()v             4           0.042719\n",
       "ljava/io/fileoutputstream;.write:([bii)v             2394           0.041596\n",
       "landroid/os/parcel;.writetypedarray:([landroid/...      6           0.038440\n",
       "ljava/lang/outofmemoryerror;.<init>:()v                11           0.031605\n",
       "[lcom/amazon/inapp/purchasing/getuseridresponse...      1           0.028997\n",
       "ljava/lang/string;.valueof:([cii)ljava/lang/str...      6           0.027758\n",
       "landroid/app/service;.onstartcommand:(landroid/...     90           0.025853\n",
       "ljava/lang/appendable;.append:(ljava/lang/chars...      7           0.024672\n",
       "landroid/app/application;.ontrimmemory:(i)v            46           0.024520\n",
       "ljava/io/filenotfoundexception;.getlocalizedmes...     21           0.023092\n",
       "landroid/net/urlquerysanitizer;.getallbutnulleg...     46           0.022987\n",
       "ljava/util/zip/inflater;.needsdictionary:()z           17           0.022744\n",
       "landroid/app/job/jobinfo$builder;.<init>:(iland...    131           0.022554\n",
       "ljava/io/ioexception;.printstacktrace:(ljava/io...     36           0.021655\n",
       "landroid/widget/adapterview$onitemlongclicklist...      8           0.020693\n",
       "landroid/webkit/cookiemanager;.setacceptthirdpa...     24           0.019541\n",
       "landroid/opengl/gles20;.glflush:()v                     3           0.019300\n",
       "ljava/io/bufferedwriter;.newline:()v                   32           0.019273\n",
       "landroid/view/viewgroup;.dispatchkeyevent:(land...      2           0.017173\n",
       "ljava/util/zip/dataformatexception;.getmessage:...      9           0.017169\n",
       "lorg/xmlpull/v1/xmlserializer;.attribute:(ljava...     10           0.017110\n",
       "landroid/graphics/matrix;.prescale:(ff)z               24           0.017101\n",
       "ljava/lang/reflect/field;.isaccessible:()z            275           0.016712\n",
       "landroid/app/fragment;.onstop:()v                      16           0.016638\n",
       "landroid/app/job/jobservice;.<init>:()v               129           0.016439\n",
       "[lcom/google/android/gms/analytics/y$a;.clone:(...      2           0.016189\n",
       "landroid/app/application;.getapplicationcontext...      1           0.016015\n",
       "landroid/support/v4/util/arraymap;.values:()lja...      4           0.015034\n",
       "ljava/io/bufferedwriter;.<init>:(ljava/io/write...    384           0.014989\n",
       "ljava/util/jar/jarfile;.close:()v                      70           0.014898\n",
       "landroid/webkit/webchromeclient;.onshowcustomvi...     13           0.014449\n",
       "[lbutterknife/onpagechange$callback;.clone:()lj...      4           0.014229\n",
       "landroid/content/res/assetfiledescriptor;.close...     67           0.014104\n",
       "ljava/io/fileoutputstream;.flush:()v                 1180           0.014027"
      ]
     },
     "execution_count": 130,
     "metadata": {},
     "output_type": "execute_result"
    }
   ],
   "source": [
    "df_n['effective_weights'] = df_n['cumulative_weights'] / df_n['count']\n",
    "df_n = df_n.sort_values(by='effective_weights', ascending=False)\n",
    "df_n = df_n.drop('cumulative_weights', 1)\n",
    "df_n.head(40)"
   ]
  },
  {
   "cell_type": "code",
   "execution_count": null,
   "metadata": {},
   "outputs": [],
   "source": []
  },
  {
   "cell_type": "code",
   "execution_count": null,
   "metadata": {},
   "outputs": [],
   "source": []
  },
  {
   "cell_type": "code",
   "execution_count": null,
   "metadata": {},
   "outputs": [],
   "source": []
  },
  {
   "cell_type": "code",
   "execution_count": null,
   "metadata": {},
   "outputs": [],
   "source": [
    "# Save features to csv"
   ]
  },
  {
   "cell_type": "code",
   "execution_count": 134,
   "metadata": {},
   "outputs": [],
   "source": [
    "tra_attn = df_n.head(500)\n",
    "tra_attn.to_csv(model_dir + 'test_500_tra_attn_256_1.csv', sep=',', encoding='utf-8')"
   ]
  },
  {
   "cell_type": "code",
   "execution_count": null,
   "metadata": {},
   "outputs": [],
   "source": []
  }
 ],
 "metadata": {
  "accelerator": "GPU",
  "colab": {
   "authorship_tag": "ABX9TyPdR6ZJpyep8kagIgsoD2po",
   "collapsed_sections": [
    "sAVVyiC9KYhb",
    "Ar_fxvJoKeqD"
   ],
   "machine_shape": "hm",
   "name": "1k-transformer",
   "provenance": []
  },
  "kernelspec": {
   "display_name": "Python 3",
   "language": "python",
   "name": "python3"
  },
  "language_info": {
   "codemirror_mode": {
    "name": "ipython",
    "version": 3
   },
   "file_extension": ".py",
   "mimetype": "text/x-python",
   "name": "python",
   "nbconvert_exporter": "python",
   "pygments_lexer": "ipython3",
   "version": "3.7.6"
  }
 },
 "nbformat": 4,
 "nbformat_minor": 1
}
