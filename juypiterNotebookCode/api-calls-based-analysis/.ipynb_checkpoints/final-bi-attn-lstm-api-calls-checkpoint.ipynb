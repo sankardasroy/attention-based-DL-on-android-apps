{
 "cells": [
  {
   "cell_type": "code",
   "execution_count": 2,
   "metadata": {
    "executionInfo": {
     "elapsed": 6636,
     "status": "ok",
     "timestamp": 1611337615832,
     "user": {
      "displayName": "Prabesh Pathak",
      "photoUrl": "https://lh3.googleusercontent.com/a-/AOh14Gh6ULNXNrYutw3u6ad06TMgRj97zOGaU28QfV_MCg=s64",
      "userId": "10507649871156130542"
     },
     "user_tz": 300
    },
    "id": "w3J58FTeGdMj"
   },
   "outputs": [],
   "source": [
    "import numpy as np\n",
    "import bz2\n",
    "from collections import Counter\n",
    "import re\n",
    "import nltk\n",
    "import torch\n",
    "import math\n",
    "import random\n",
    "import keras\n",
    "from torch import nn\n",
    "from torch import optim\n",
    "from torch import Tensor\n",
    "from torch import LongTensor\n",
    "from torch.utils.data import TensorDataset\n",
    "from torch.utils.data import DataLoader\n",
    "import logging\n",
    "import pandas as pd\n",
    "from sklearn.model_selection import train_test_split\n",
    "import matplotlib.pyplot as plt\n",
    "from sklearn.metrics import confusion_matrix\n",
    "from keras.preprocessing.text import Tokenizer\n",
    "from keras.preprocessing import sequence\n",
    "from gensim.models import KeyedVectors\n",
    "from gensim.models import Word2Vec\n",
    "import seaborn as sns\n",
    "import itertools"
   ]
  },
  {
   "cell_type": "code",
   "execution_count": null,
   "metadata": {},
   "outputs": [],
   "source": []
  },
  {
   "cell_type": "code",
   "execution_count": 3,
   "metadata": {
    "executionInfo": {
     "elapsed": 6632,
     "status": "ok",
     "timestamp": 1611337615833,
     "user": {
      "displayName": "Prabesh Pathak",
      "photoUrl": "https://lh3.googleusercontent.com/a-/AOh14Gh6ULNXNrYutw3u6ad06TMgRj97zOGaU28QfV_MCg=s64",
      "userId": "10507649871156130542"
     },
     "user_tz": 300
    },
    "id": "Y6cQ6K3jjyqX"
   },
   "outputs": [],
   "source": [
    "logging.basicConfig(format='%(asctime)s - %(message)s', datefmt='%d-%b-%y %H:%M:%S')\n",
    "logging.getLogger().setLevel(logging.INFO)\n",
    "nn_Softargmax = nn.Softmax  # fix wrong name"
   ]
  },
  {
   "cell_type": "code",
   "execution_count": 4,
   "metadata": {
    "executionInfo": {
     "elapsed": 366,
     "status": "ok",
     "timestamp": 1611337637126,
     "user": {
      "displayName": "Prabesh Pathak",
      "photoUrl": "https://lh3.googleusercontent.com/a-/AOh14Gh6ULNXNrYutw3u6ad06TMgRj97zOGaU28QfV_MCg=s64",
      "userId": "10507649871156130542"
     },
     "user_tz": 300
    },
    "id": "CoWzQWBTGoCy"
   },
   "outputs": [],
   "source": [
    "train_dir = '/media/data/artifacts/2016/train/'\n",
    "test_dir = '/media/data/artifacts/2016/test/'\n",
    "train_labels_dir = '/media/data/artifacts/2016/train_labels.txt'\n",
    "test_labels_dir = '/media/data/artifacts/2016/test_labels.txt'\n",
    "word2vec_model_dir = '/media/data/artifacts/2016/final64.model'\n",
    "model_dir = '/media/data/artifacts/2016/models/'"
   ]
  },
  {
   "cell_type": "code",
   "execution_count": 5,
   "metadata": {
    "colab": {
     "base_uri": "https://localhost:8080/"
    },
    "executionInfo": {
     "elapsed": 3409,
     "status": "ok",
     "timestamp": 1611337641111,
     "user": {
      "displayName": "Prabesh Pathak",
      "photoUrl": "https://lh3.googleusercontent.com/a-/AOh14Gh6ULNXNrYutw3u6ad06TMgRj97zOGaU28QfV_MCg=s64",
      "userId": "10507649871156130542"
     },
     "user_tz": 300
    },
    "id": "9bXkvxCQVtaX",
    "outputId": "a20e5555-b880-4443-a6bb-e18bc5dacc53"
   },
   "outputs": [
    {
     "name": "stdout",
     "output_type": "stream",
     "text": [
      "154800 /media/data/artifacts/2016/train_labels.txt\r\n"
     ]
    }
   ],
   "source": [
    "!wc -l /media/data/artifacts/2016/train_labels.txt"
   ]
  },
  {
   "cell_type": "code",
   "execution_count": 6,
   "metadata": {
    "colab": {
     "base_uri": "https://localhost:8080/"
    },
    "executionInfo": {
     "elapsed": 3245,
     "status": "ok",
     "timestamp": 1611337641819,
     "user": {
      "displayName": "Prabesh Pathak",
      "photoUrl": "https://lh3.googleusercontent.com/a-/AOh14Gh6ULNXNrYutw3u6ad06TMgRj97zOGaU28QfV_MCg=s64",
      "userId": "10507649871156130542"
     },
     "user_tz": 300
    },
    "id": "_DSdLJmW56vw",
    "outputId": "a15542fc-abf0-44f9-d7c8-780cd4d11954"
   },
   "outputs": [
    {
     "name": "stdout",
     "output_type": "stream",
     "text": [
      "17200 /media/data/artifacts/2016/test_labels.txt\r\n"
     ]
    }
   ],
   "source": [
    "!wc -l /media/data/artifacts/2016/test_labels.txt"
   ]
  },
  {
   "cell_type": "code",
   "execution_count": 7,
   "metadata": {},
   "outputs": [],
   "source": [
    "x = !ls -l /media/data/artifacts/2016/train | wc -l\n",
    "len_train = int(x[0]) - 1\n",
    "y = !ls -l /media/data/artifacts/2016/test | wc -l\n",
    "len_test = int(y[0]) - 1"
   ]
  },
  {
   "cell_type": "code",
   "execution_count": 8,
   "metadata": {},
   "outputs": [
    {
     "name": "stdout",
     "output_type": "stream",
     "text": [
      "154800\n",
      "17200\n"
     ]
    }
   ],
   "source": [
    "print(len_train)\n",
    "print(len_test)"
   ]
  },
  {
   "cell_type": "markdown",
   "metadata": {
    "id": "VCufhZV7sTIM"
   },
   "source": [
    "### Load word2 vec model"
   ]
  },
  {
   "cell_type": "code",
   "execution_count": 9,
   "metadata": {
    "colab": {
     "base_uri": "https://localhost:8080/"
    },
    "executionInfo": {
     "elapsed": 1573,
     "status": "ok",
     "timestamp": 1611337644326,
     "user": {
      "displayName": "Prabesh Pathak",
      "photoUrl": "https://lh3.googleusercontent.com/a-/AOh14Gh6ULNXNrYutw3u6ad06TMgRj97zOGaU28QfV_MCg=s64",
      "userId": "10507649871156130542"
     },
     "user_tz": 300
    },
    "id": "-_0AtJOpV_Rm",
    "outputId": "878a3c33-7ed3-4827-e8c3-39bb0e589451"
   },
   "outputs": [
    {
     "name": "stderr",
     "output_type": "stream",
     "text": [
      "20-Mar-21 18:53:11 - loading Word2VecKeyedVectors object from /media/data/artifacts/2016/final64.model\n",
      "20-Mar-21 18:53:14 - loading vectors from /media/data/artifacts/2016/final64.model.vectors.npy with mmap=r\n",
      "20-Mar-21 18:53:14 - setting ignored attribute vectors_norm to None\n",
      "20-Mar-21 18:53:14 - loaded /media/data/artifacts/2016/final64.model\n"
     ]
    }
   ],
   "source": [
    "word2vec_model = KeyedVectors.load(word2vec_model_dir, mmap='r')"
   ]
  },
  {
   "cell_type": "code",
   "execution_count": 10,
   "metadata": {
    "colab": {
     "base_uri": "https://localhost:8080/"
    },
    "executionInfo": {
     "elapsed": 1248,
     "status": "ok",
     "timestamp": 1611337644327,
     "user": {
      "displayName": "Prabesh Pathak",
      "photoUrl": "https://lh3.googleusercontent.com/a-/AOh14Gh6ULNXNrYutw3u6ad06TMgRj97zOGaU28QfV_MCg=s64",
      "userId": "10507649871156130542"
     },
     "user_tz": 300
    },
    "id": "Sw5466pqwhiU",
    "outputId": "05945459-a76e-455f-9996-01f12a98bb7f"
   },
   "outputs": [
    {
     "name": "stderr",
     "output_type": "stream",
     "text": [
      "/home/ubuntu/anaconda3/lib/python3.7/site-packages/ipykernel_launcher.py:1: DeprecationWarning: Call to deprecated `wv` (Attribute will be removed in 4.0.0, use self instead).\n",
      "  \"\"\"Entry point for launching an IPython kernel.\n"
     ]
    },
    {
     "data": {
      "text/plain": [
       "850193"
      ]
     },
     "execution_count": 10,
     "metadata": {},
     "output_type": "execute_result"
    }
   ],
   "source": [
    "len(word2vec_model.wv.vocab)"
   ]
  },
  {
   "cell_type": "markdown",
   "metadata": {
    "id": "l0RghgSvsoAv"
   },
   "source": [
    "### Create train and test labels"
   ]
  },
  {
   "cell_type": "code",
   "execution_count": 11,
   "metadata": {
    "executionInfo": {
     "elapsed": 771,
     "status": "ok",
     "timestamp": 1611337646552,
     "user": {
      "displayName": "Prabesh Pathak",
      "photoUrl": "https://lh3.googleusercontent.com/a-/AOh14Gh6ULNXNrYutw3u6ad06TMgRj97zOGaU28QfV_MCg=s64",
      "userId": "10507649871156130542"
     },
     "user_tz": 300
    },
    "id": "o4eRkfzKU0y0"
   },
   "outputs": [],
   "source": [
    "train_label_dict={}\n",
    "count = 0\n",
    "with open(train_labels_dir) as file:\n",
    "    for _ in range(len_train):\n",
    "        line  = file.readline().strip().split(\",\")\n",
    "#         if line[0] in train_label_dict and line[1] == '0':\n",
    "#             count+=1\n",
    "#             print(line[0],line[1])\n",
    "        train_label_dict[line[0]] = int(line[1])"
   ]
  },
  {
   "cell_type": "code",
   "execution_count": 12,
   "metadata": {
    "executionInfo": {
     "elapsed": 976,
     "status": "ok",
     "timestamp": 1611337647614,
     "user": {
      "displayName": "Prabesh Pathak",
      "photoUrl": "https://lh3.googleusercontent.com/a-/AOh14Gh6ULNXNrYutw3u6ad06TMgRj97zOGaU28QfV_MCg=s64",
      "userId": "10507649871156130542"
     },
     "user_tz": 300
    },
    "id": "0agI9KeW5vUk"
   },
   "outputs": [],
   "source": [
    "test_label_dict={}\n",
    "with open(test_labels_dir) as file:\n",
    "    for _ in range(len_test):\n",
    "        line  = file.readline().strip().split(\",\")\n",
    "        test_label_dict[line[0]] = int(line[1])"
   ]
  },
  {
   "cell_type": "markdown",
   "metadata": {
    "id": "22nz7V-05Mof"
   },
   "source": [
    "### Create word2index and index2word dict"
   ]
  },
  {
   "cell_type": "code",
   "execution_count": 13,
   "metadata": {},
   "outputs": [
    {
     "data": {
      "text/plain": [
       "154800"
      ]
     },
     "execution_count": 13,
     "metadata": {},
     "output_type": "execute_result"
    }
   ],
   "source": [
    "len(train_label_dict)"
   ]
  },
  {
   "cell_type": "code",
   "execution_count": 14,
   "metadata": {},
   "outputs": [
    {
     "data": {
      "text/plain": [
       "17200"
      ]
     },
     "execution_count": 14,
     "metadata": {},
     "output_type": "execute_result"
    }
   ],
   "source": [
    "len(test_label_dict)"
   ]
  },
  {
   "cell_type": "code",
   "execution_count": 15,
   "metadata": {
    "colab": {
     "base_uri": "https://localhost:8080/"
    },
    "executionInfo": {
     "elapsed": 449,
     "status": "ok",
     "timestamp": 1611337649618,
     "user": {
      "displayName": "Prabesh Pathak",
      "photoUrl": "https://lh3.googleusercontent.com/a-/AOh14Gh6ULNXNrYutw3u6ad06TMgRj97zOGaU28QfV_MCg=s64",
      "userId": "10507649871156130542"
     },
     "user_tz": 300
    },
    "id": "RZsZN0Djcoxt",
    "outputId": "248e4089-02ca-46bc-c342-dd809defe8ad"
   },
   "outputs": [
    {
     "name": "stderr",
     "output_type": "stream",
     "text": [
      "/home/ubuntu/anaconda3/lib/python3.7/site-packages/ipykernel_launcher.py:2: DeprecationWarning: Call to deprecated `wv` (Attribute will be removed in 4.0.0, use self instead).\n",
      "  \n"
     ]
    }
   ],
   "source": [
    "tokenizer = Tokenizer(filters='#\\n')\n",
    "tokenizer.fit_on_texts(word2vec_model.wv.vocab.keys())\n",
    "word_index = tokenizer.word_index"
   ]
  },
  {
   "cell_type": "code",
   "execution_count": 16,
   "metadata": {
    "executionInfo": {
     "elapsed": 813,
     "status": "ok",
     "timestamp": 1611337650668,
     "user": {
      "displayName": "Prabesh Pathak",
      "photoUrl": "https://lh3.googleusercontent.com/a-/AOh14Gh6ULNXNrYutw3u6ad06TMgRj97zOGaU28QfV_MCg=s64",
      "userId": "10507649871156130542"
     },
     "user_tz": 300
    },
    "id": "nXIB63ZlL5V5"
   },
   "outputs": [],
   "source": [
    "idx2word = {v: k for k, v in word_index.items()}"
   ]
  },
  {
   "cell_type": "code",
   "execution_count": 17,
   "metadata": {
    "colab": {
     "base_uri": "https://localhost:8080/"
    },
    "executionInfo": {
     "elapsed": 744,
     "status": "ok",
     "timestamp": 1611337651281,
     "user": {
      "displayName": "Prabesh Pathak",
      "photoUrl": "https://lh3.googleusercontent.com/a-/AOh14Gh6ULNXNrYutw3u6ad06TMgRj97zOGaU28QfV_MCg=s64",
      "userId": "10507649871156130542"
     },
     "user_tz": 300
    },
    "id": "CFS9tZrl0urv",
    "outputId": "8b8ad9fb-7080-405d-809e-caa7b1c4b059"
   },
   "outputs": [
    {
     "data": {
      "text/plain": [
       "850192"
      ]
     },
     "execution_count": 17,
     "metadata": {},
     "output_type": "execute_result"
    }
   ],
   "source": [
    "len(word_index)"
   ]
  },
  {
   "cell_type": "markdown",
   "metadata": {
    "id": "L5N0v8CUs0MS"
   },
   "source": [
    "### Create Train and Test Generators"
   ]
  },
  {
   "cell_type": "code",
   "execution_count": 18,
   "metadata": {
    "executionInfo": {
     "elapsed": 669,
     "status": "ok",
     "timestamp": 1611337656149,
     "user": {
      "displayName": "Prabesh Pathak",
      "photoUrl": "https://lh3.googleusercontent.com/a-/AOh14Gh6ULNXNrYutw3u6ad06TMgRj97zOGaU28QfV_MCg=s64",
      "userId": "10507649871156130542"
     },
     "user_tz": 300
    },
    "id": "Z7-pVq9GT7cY"
   },
   "outputs": [],
   "source": [
    "class TrainDataset(torch.utils.data.Dataset):\n",
    "  'Characterizes a dataset for PyTorch'\n",
    "  def __init__(self, files_list, labels):\n",
    "        'Initialization'\n",
    "        self.labels = labels\n",
    "        self.files_list = files_list\n",
    "\n",
    "  def __len__(self):\n",
    "        'Denotes the total number of samples'\n",
    "        return len(self.files_list)\n",
    "\n",
    "  def __getitem__(self, index):\n",
    "        'Generates one sample of data'\n",
    "        # Select sample\n",
    "        ID = self.files_list[index]\n",
    "\n",
    "        train_dir = '/media/data/artifacts/2016/train/'\n",
    "        # Load data and get label\n",
    "        #one_file = torch.load(train_dir + ID)\n",
    "        one_file = open(train_dir + ID,'r').read().strip() \n",
    "        # one_file = torch.load(train_dir + ID + '.txt')\n",
    "\n",
    "        X =  sequence.pad_sequences(tokenizer.texts_to_sequences([one_file]),maxlen=4000, padding='post',truncating='post')\n",
    "    \n",
    "        \n",
    "\n",
    "        if self.labels[ID] == 1:\n",
    "            y = [0,1]\n",
    "        else:\n",
    "            y = [1,0]\n",
    "\n",
    "        #y = self.labels[ID]\n",
    "        #y = torch.from_numpy(y)\n",
    "        y = torch.FloatTensor(y)\n",
    "\n",
    "        return X.squeeze(), y\n"
   ]
  },
  {
   "cell_type": "code",
   "execution_count": 19,
   "metadata": {
    "executionInfo": {
     "elapsed": 968,
     "status": "ok",
     "timestamp": 1611337657499,
     "user": {
      "displayName": "Prabesh Pathak",
      "photoUrl": "https://lh3.googleusercontent.com/a-/AOh14Gh6ULNXNrYutw3u6ad06TMgRj97zOGaU28QfV_MCg=s64",
      "userId": "10507649871156130542"
     },
     "user_tz": 300
    },
    "id": "UQIxSdvgYSH5"
   },
   "outputs": [],
   "source": [
    "class TestDataset(torch.utils.data.Dataset):\n",
    "  'Characterizes a dataset for PyTorch'\n",
    "  def __init__(self, files_list, labels):\n",
    "        'Initialization'\n",
    "        self.labels = labels\n",
    "        self.files_list = files_list\n",
    "\n",
    "  def __len__(self):\n",
    "        'Denotes the total number of samples'\n",
    "        return len(self.files_list)\n",
    "\n",
    "  def __getitem__(self, index):\n",
    "        'Generates one sample of data'\n",
    "        # Select sample\n",
    "        ID = self.files_list[index]\n",
    "\n",
    "        test_dir = '/media/data/artifacts/2016/test/'\n",
    "        # Load data and get label\n",
    "\n",
    "        one_file = open(test_dir + ID,'r').read().strip() \n",
    "\n",
    "        X =  sequence.pad_sequences(tokenizer.texts_to_sequences([one_file]),maxlen=4000, padding='post',truncating='post')\n",
    "    \n",
    "        \n",
    "\n",
    "        if self.labels[ID] == 1:\n",
    "            y = [0,1]           #malicious\n",
    "        else:\n",
    "            y = [1,0]           #benign\n",
    "\n",
    "        #y = self.labels[ID]\n",
    "        #y = torch.from_numpy(y)\n",
    "        y = torch.FloatTensor(y)\n",
    "\n",
    "        return X.squeeze(), y"
   ]
  },
  {
   "cell_type": "code",
   "execution_count": 20,
   "metadata": {
    "executionInfo": {
     "elapsed": 930,
     "status": "ok",
     "timestamp": 1611337657711,
     "user": {
      "displayName": "Prabesh Pathak",
      "photoUrl": "https://lh3.googleusercontent.com/a-/AOh14Gh6ULNXNrYutw3u6ad06TMgRj97zOGaU28QfV_MCg=s64",
      "userId": "10507649871156130542"
     },
     "user_tz": 300
    },
    "id": "OVTzK0TOXZR8"
   },
   "outputs": [],
   "source": [
    "train = list(train_label_dict.keys())\n",
    "test = list(test_label_dict.keys())\n",
    "partition = {}\n",
    "partition['train'] = train\n",
    "partition['test'] = test\n",
    "train_labels= train_label_dict\n",
    "test_labels= test_label_dict"
   ]
  },
  {
   "cell_type": "code",
   "execution_count": 21,
   "metadata": {
    "executionInfo": {
     "elapsed": 1099,
     "status": "ok",
     "timestamp": 1611337658863,
     "user": {
      "displayName": "Prabesh Pathak",
      "photoUrl": "https://lh3.googleusercontent.com/a-/AOh14Gh6ULNXNrYutw3u6ad06TMgRj97zOGaU28QfV_MCg=s64",
      "userId": "10507649871156130542"
     },
     "user_tz": 300
    },
    "id": "12TiAtqMT7gK"
   },
   "outputs": [],
   "source": [
    "params1 = {'batch_size': 50,\n",
    "          'shuffle': True,\n",
    "          'drop_last': True,\n",
    "          'num_workers': 10}\n",
    "\n",
    "params2 = {'batch_size': 50,\n",
    "          'shuffle': False,\n",
    "          'drop_last': True,\n",
    "          'num_workers': 10}\n",
    "max_epochs = 1\n",
    "\n",
    "# Train Generators\n",
    "train_set = TrainDataset(partition['train'], train_labels)\n",
    "#training_generator = torch.utils.data.DataLoader(train_set, **params1)\n",
    "training_set, val_set = torch.utils.data.random_split(train_set, [139800, 15000])\n",
    "training_generator = torch.utils.data.DataLoader(training_set, **params1)\n",
    "validation_generator = torch.utils.data.DataLoader(val_set, **params1)\n",
    "\n",
    "# Test Generators\n",
    "test_set = TestDataset(partition['test'], test_labels)\n",
    "test_generator = torch.utils.data.DataLoader(test_set, **params2)\n",
    "\n"
   ]
  },
  {
   "cell_type": "code",
   "execution_count": 22,
   "metadata": {
    "colab": {
     "base_uri": "https://localhost:8080/"
    },
    "executionInfo": {
     "elapsed": 603,
     "status": "ok",
     "timestamp": 1611337660990,
     "user": {
      "displayName": "Prabesh Pathak",
      "photoUrl": "https://lh3.googleusercontent.com/a-/AOh14Gh6ULNXNrYutw3u6ad06TMgRj97zOGaU28QfV_MCg=s64",
      "userId": "10507649871156130542"
     },
     "user_tz": 300
    },
    "id": "heXnuEUyt7Lc",
    "outputId": "8d93f000-4c19-49ce-9976-586514e127b8"
   },
   "outputs": [
    {
     "name": "stdout",
     "output_type": "stream",
     "text": [
      "139800\n",
      "15000\n",
      "17200\n"
     ]
    }
   ],
   "source": [
    "print(len(training_set))\n",
    "print(len(val_set))\n",
    "print(len(test_set))"
   ]
  },
  {
   "cell_type": "code",
   "execution_count": 23,
   "metadata": {
    "colab": {
     "base_uri": "https://localhost:8080/"
    },
    "executionInfo": {
     "elapsed": 536,
     "status": "ok",
     "timestamp": 1611337661894,
     "user": {
      "displayName": "Prabesh Pathak",
      "photoUrl": "https://lh3.googleusercontent.com/a-/AOh14Gh6ULNXNrYutw3u6ad06TMgRj97zOGaU28QfV_MCg=s64",
      "userId": "10507649871156130542"
     },
     "user_tz": 300
    },
    "id": "NKaKFKiWT7jw",
    "outputId": "e1ebdb7d-7a80-4447-c8cc-0e0c5a7a97eb"
   },
   "outputs": [
    {
     "name": "stdout",
     "output_type": "stream",
     "text": [
      "2796\n",
      "300\n",
      "344\n"
     ]
    }
   ],
   "source": [
    "print(len(training_generator))\n",
    "print(len(validation_generator))\n",
    "print(len(test_generator))"
   ]
  },
  {
   "cell_type": "markdown",
   "metadata": {
    "id": "AYnuAdlVs8X4"
   },
   "source": [
    "### Check GPU"
   ]
  },
  {
   "cell_type": "code",
   "execution_count": 24,
   "metadata": {
    "colab": {
     "base_uri": "https://localhost:8080/"
    },
    "executionInfo": {
     "elapsed": 762,
     "status": "ok",
     "timestamp": 1611337691918,
     "user": {
      "displayName": "Prabesh Pathak",
      "photoUrl": "https://lh3.googleusercontent.com/a-/AOh14Gh6ULNXNrYutw3u6ad06TMgRj97zOGaU28QfV_MCg=s64",
      "userId": "10507649871156130542"
     },
     "user_tz": 300
    },
    "id": "lJTlvI9qT7mk",
    "outputId": "6bed57d8-d1ff-4559-8e48-4a7f5f0cb85f"
   },
   "outputs": [
    {
     "data": {
      "text/plain": [
       "device(type='cuda')"
      ]
     },
     "execution_count": 24,
     "metadata": {},
     "output_type": "execute_result"
    }
   ],
   "source": [
    "# torch.cuda.is_available() checks and returns a Boolean True if a GPU is available, else it'll return False\n",
    "is_cuda = torch.cuda.is_available()\n",
    "\n",
    "# If we have a GPU available, we'll set our device to GPU. We'll use this device variable later in our code.\n",
    "if is_cuda:\n",
    "    device = torch.device(\"cuda\")\n",
    "else:\n",
    "    device = torch.device(\"cpu\")\n",
    "\n",
    "device"
   ]
  },
  {
   "cell_type": "markdown",
   "metadata": {
    "id": "VhVJo9urtADQ"
   },
   "source": [
    "### Training"
   ]
  },
  {
   "cell_type": "code",
   "execution_count": 25,
   "metadata": {
    "executionInfo": {
     "elapsed": 745,
     "status": "ok",
     "timestamp": 1611337693674,
     "user": {
      "displayName": "Prabesh Pathak",
      "photoUrl": "https://lh3.googleusercontent.com/a-/AOh14Gh6ULNXNrYutw3u6ad06TMgRj97zOGaU28QfV_MCg=s64",
      "userId": "10507649871156130542"
     },
     "user_tz": 300
    },
    "id": "A5hlF47hXvhV"
   },
   "outputs": [],
   "source": [
    "class Model(nn.Module):\n",
    "    def __init__(self,embedding_matrix, vocab_size, output_size, embedding_dim, hidden_dim, n_layers=1, drop_prob=0.2):\n",
    "        super(Model, self).__init__()\n",
    "        self.hidden_layer = hidden_dim\n",
    "        self.embedding_dim = embedding_dim\n",
    "        self.embedding_matrix = embedding_matrix\n",
    "        self.num_layers = n_layers\n",
    "        self.bi_num_layers = 2\n",
    "        self.output_size = output_size\n",
    "        self.drop_prob = drop_prob\n",
    "\n",
    "#         self.embedding = nn.Embedding(\n",
    "#             num_embeddings=vocab_size,\n",
    "#             embedding_dim=self.embedding_dim,\n",
    "#         )\n",
    "        self.embedding = nn.Embedding.from_pretrained(embedding_matrix,freeze=True)\n",
    "#         self.embedding = nn.Embedding(vocab_size, embedding_dim)\n",
    "        # pretrained_weight is a numpy matrix of shape (num_embeddings, embedding_dim)\n",
    "#         self.embedding.weight.data.copy_(torch.from_numpy(embedding_matrix))\n",
    "        self.lstm = nn.LSTM(\n",
    "            input_size=self.embedding_dim,\n",
    "            hidden_size=self.hidden_layer,\n",
    "            num_layers=self.num_layers,\n",
    "            batch_first=True,\n",
    "            bidirectional=True,\n",
    "        )\n",
    "        self.tanh = nn.Tanh()\n",
    "        self.dropout = nn.Dropout(p=self.drop_prob)\n",
    "        self.alpha = nn.Linear(2*self.hidden_layer, 1)\n",
    "        #self.r = nn.Linear(2*self.hidden_layer, 1)\n",
    "        self.softmax = nn.Softmax(dim=1)\n",
    "        self.fc = nn.Linear(2*self.hidden_layer, output_size)\n",
    "        #self.sigmoid = nn.Sigmoid()\n",
    "        self.softmax_fc = nn.Softmax(dim=1)\n",
    "\n",
    "    def forward(self, x, prev_state):\n",
    "        batch_size = x.size(0)\n",
    "        embed = self.embedding(x)\n",
    "\n",
    "        output, state = self.lstm(embed, prev_state)\n",
    "        #print('lstm output',output.shape)\n",
    "        # [10, 200, 256] \n",
    "\n",
    "        \"\"\"\n",
    "        ### Just LSTM\n",
    "        o = self.tanh(output)\n",
    "        o = self.fc(o)\n",
    "\n",
    "        o = o[:, -1, :]\n",
    "        o = self.softmax_fc(o)\n",
    "        a_out = []\n",
    "        return o, state, a_out\n",
    "        ###\n",
    "        \"\"\"\n",
    "\n",
    "        # attention layer\n",
    "        output = self.tanh(output)\n",
    "        output = self.dropout(output)\n",
    "        a_out = self.alpha(output)\n",
    "        a_out = self.softmax(a_out)\n",
    "        #print('a_out',a_out.shape)\n",
    "        #[10, 200 , 1]\n",
    "\n",
    "        r_t =  torch.transpose(output, -1 , 1)\n",
    "        #print('r_t',r_t.shape)\n",
    "        # [10, 256, 200]\n",
    "        \n",
    "        r_out = torch.bmm(r_t, a_out)\n",
    "        #print('r_out',r_out.shape)\n",
    "        # [10, 256 , 1]\n",
    "\n",
    "        out = r_out.squeeze()\n",
    "        # [10, 256]\n",
    "\n",
    "        out = self.tanh(out)\n",
    "        out = self.dropout(out)\n",
    "        out = self.fc(out)\n",
    "        out = self.softmax_fc(out)\n",
    "        #print('final_fc_out',out.shape)\n",
    "        # [10,2]\n",
    "        return out, state, a_out\n",
    "\n",
    "    def init_state(self, batch_size):\n",
    "        return (torch.zeros(self.bi_num_layers, batch_size, self.hidden_layer),\n",
    "                torch.zeros(self.bi_num_layers, batch_size, self.hidden_layer))"
   ]
  },
  {
   "cell_type": "code",
   "execution_count": 26,
   "metadata": {},
   "outputs": [],
   "source": [
    "batch_size = 50\n",
    "criterion = nn.BCELoss()"
   ]
  },
  {
   "cell_type": "code",
   "execution_count": 27,
   "metadata": {},
   "outputs": [],
   "source": [
    "# embedding_matrix = np.zeros((len(word2vec_model.wv.vocab)+1,50))\n",
    "# for word, i in word_index.items():\n",
    "#     embedding_matrix[i]=word2vec_model.wv[word]"
   ]
  },
  {
   "cell_type": "code",
   "execution_count": 28,
   "metadata": {},
   "outputs": [
    {
     "name": "stderr",
     "output_type": "stream",
     "text": [
      "/home/ubuntu/anaconda3/lib/python3.7/site-packages/ipykernel_launcher.py:1: UserWarning: The given NumPy array is not writeable, and PyTorch does not support non-writeable tensors. This means you can write to the underlying (supposedly non-writeable) NumPy array using the tensor. You may want to copy the array to protect its data or make it writeable before converting it to a tensor. This type of warning will be suppressed for the rest of this program. (Triggered internally at  /pytorch/torch/csrc/utils/tensor_numpy.cpp:141.)\n",
      "  \"\"\"Entry point for launching an IPython kernel.\n"
     ]
    }
   ],
   "source": [
    "embedding_matrix = torch.FloatTensor(word2vec_model.vectors)"
   ]
  },
  {
   "cell_type": "code",
   "execution_count": 29,
   "metadata": {
    "colab": {
     "base_uri": "https://localhost:8080/"
    },
    "executionInfo": {
     "elapsed": 2180,
     "status": "ok",
     "timestamp": 1611346241184,
     "user": {
      "displayName": "Prabesh Pathak",
      "photoUrl": "https://lh3.googleusercontent.com/a-/AOh14Gh6ULNXNrYutw3u6ad06TMgRj97zOGaU28QfV_MCg=s64",
      "userId": "10507649871156130542"
     },
     "user_tz": 300
    },
    "id": "g_4pLZFlsEVZ",
    "outputId": "b4796427-7fa0-4692-babb-6097f6f1e643"
   },
   "outputs": [
    {
     "name": "stderr",
     "output_type": "stream",
     "text": [
      "/home/ubuntu/anaconda3/lib/python3.7/site-packages/ipykernel_launcher.py:1: DeprecationWarning: Call to deprecated `wv` (Attribute will be removed in 4.0.0, use self instead).\n",
      "  \"\"\"Entry point for launching an IPython kernel.\n"
     ]
    },
    {
     "data": {
      "text/plain": [
       "Model(\n",
       "  (embedding): Embedding(850193, 64)\n",
       "  (lstm): LSTM(256, 128, batch_first=True, bidirectional=True)\n",
       "  (tanh): Tanh()\n",
       "  (dropout): Dropout(p=0.3, inplace=False)\n",
       "  (alpha): Linear(in_features=256, out_features=1, bias=True)\n",
       "  (softmax): Softmax(dim=1)\n",
       "  (fc): Linear(in_features=256, out_features=2, bias=True)\n",
       "  (softmax_fc): Softmax(dim=1)\n",
       ")"
      ]
     },
     "execution_count": 29,
     "metadata": {},
     "output_type": "execute_result"
    }
   ],
   "source": [
    "vocab_size = len(word2vec_model.wv.vocab)+1\n",
    "batch_size = 50\n",
    "output_size = 2\n",
    "embedding_dim = 256\n",
    "#embedding_dim = 100\n",
    "hidden_dim = 128\n",
    "n_layers = 1\n",
    "drop_prob=0.3\n",
    "model = Model(embedding_matrix,vocab_size, output_size, embedding_dim, hidden_dim, n_layers, drop_prob)\n",
    "model = model.to(device)\n",
    "model"
   ]
  },
  {
   "cell_type": "code",
   "execution_count": 30,
   "metadata": {},
   "outputs": [
    {
     "data": {
      "text/plain": [
       "54808387"
      ]
     },
     "execution_count": 30,
     "metadata": {},
     "output_type": "execute_result"
    }
   ],
   "source": [
    "pytorch_total_params = sum(p.numel() for p in model.parameters())\n",
    "pytorch_total_params"
   ]
  },
  {
   "cell_type": "code",
   "execution_count": 517,
   "metadata": {},
   "outputs": [
    {
     "data": {
      "text/html": [
       "<div>\n",
       "<style scoped>\n",
       "    .dataframe tbody tr th:only-of-type {\n",
       "        vertical-align: middle;\n",
       "    }\n",
       "\n",
       "    .dataframe tbody tr th {\n",
       "        vertical-align: top;\n",
       "    }\n",
       "\n",
       "    .dataframe thead th {\n",
       "        text-align: right;\n",
       "    }\n",
       "</style>\n",
       "<table border=\"1\" class=\"dataframe\">\n",
       "  <thead>\n",
       "    <tr style=\"text-align: right;\">\n",
       "      <th></th>\n",
       "      <th>layers</th>\n",
       "      <th>shape</th>\n",
       "      <th>parameters</th>\n",
       "      <th>requires_grad</th>\n",
       "    </tr>\n",
       "  </thead>\n",
       "  <tbody>\n",
       "    <tr>\n",
       "      <th>0</th>\n",
       "      <td>embedding.weight</td>\n",
       "      <td>torch.Size([850193, 64])</td>\n",
       "      <td>54412352</td>\n",
       "      <td>False</td>\n",
       "    </tr>\n",
       "    <tr>\n",
       "      <th>1</th>\n",
       "      <td>lstm.weight_ih_l0</td>\n",
       "      <td>torch.Size([512, 64])</td>\n",
       "      <td>32768</td>\n",
       "      <td>True</td>\n",
       "    </tr>\n",
       "    <tr>\n",
       "      <th>2</th>\n",
       "      <td>lstm.weight_hh_l0</td>\n",
       "      <td>torch.Size([512, 128])</td>\n",
       "      <td>65536</td>\n",
       "      <td>True</td>\n",
       "    </tr>\n",
       "    <tr>\n",
       "      <th>3</th>\n",
       "      <td>lstm.bias_ih_l0</td>\n",
       "      <td>torch.Size([512])</td>\n",
       "      <td>512</td>\n",
       "      <td>True</td>\n",
       "    </tr>\n",
       "    <tr>\n",
       "      <th>4</th>\n",
       "      <td>lstm.bias_hh_l0</td>\n",
       "      <td>torch.Size([512])</td>\n",
       "      <td>512</td>\n",
       "      <td>True</td>\n",
       "    </tr>\n",
       "    <tr>\n",
       "      <th>5</th>\n",
       "      <td>lstm.weight_ih_l0_reverse</td>\n",
       "      <td>torch.Size([512, 64])</td>\n",
       "      <td>32768</td>\n",
       "      <td>True</td>\n",
       "    </tr>\n",
       "    <tr>\n",
       "      <th>6</th>\n",
       "      <td>lstm.weight_hh_l0_reverse</td>\n",
       "      <td>torch.Size([512, 128])</td>\n",
       "      <td>65536</td>\n",
       "      <td>True</td>\n",
       "    </tr>\n",
       "    <tr>\n",
       "      <th>7</th>\n",
       "      <td>lstm.bias_ih_l0_reverse</td>\n",
       "      <td>torch.Size([512])</td>\n",
       "      <td>512</td>\n",
       "      <td>True</td>\n",
       "    </tr>\n",
       "    <tr>\n",
       "      <th>8</th>\n",
       "      <td>lstm.bias_hh_l0_reverse</td>\n",
       "      <td>torch.Size([512])</td>\n",
       "      <td>512</td>\n",
       "      <td>True</td>\n",
       "    </tr>\n",
       "    <tr>\n",
       "      <th>9</th>\n",
       "      <td>alpha.weight</td>\n",
       "      <td>torch.Size([1, 256])</td>\n",
       "      <td>256</td>\n",
       "      <td>True</td>\n",
       "    </tr>\n",
       "    <tr>\n",
       "      <th>10</th>\n",
       "      <td>alpha.bias</td>\n",
       "      <td>torch.Size([1])</td>\n",
       "      <td>1</td>\n",
       "      <td>True</td>\n",
       "    </tr>\n",
       "    <tr>\n",
       "      <th>11</th>\n",
       "      <td>fc.weight</td>\n",
       "      <td>torch.Size([2, 256])</td>\n",
       "      <td>512</td>\n",
       "      <td>True</td>\n",
       "    </tr>\n",
       "    <tr>\n",
       "      <th>12</th>\n",
       "      <td>fc.bias</td>\n",
       "      <td>torch.Size([2])</td>\n",
       "      <td>2</td>\n",
       "      <td>True</td>\n",
       "    </tr>\n",
       "  </tbody>\n",
       "</table>\n",
       "</div>"
      ],
      "text/plain": [
       "                       layers                     shape parameters  \\\n",
       "0            embedding.weight  torch.Size([850193, 64])   54412352   \n",
       "1           lstm.weight_ih_l0     torch.Size([512, 64])      32768   \n",
       "2           lstm.weight_hh_l0    torch.Size([512, 128])      65536   \n",
       "3             lstm.bias_ih_l0         torch.Size([512])        512   \n",
       "4             lstm.bias_hh_l0         torch.Size([512])        512   \n",
       "5   lstm.weight_ih_l0_reverse     torch.Size([512, 64])      32768   \n",
       "6   lstm.weight_hh_l0_reverse    torch.Size([512, 128])      65536   \n",
       "7     lstm.bias_ih_l0_reverse         torch.Size([512])        512   \n",
       "8     lstm.bias_hh_l0_reverse         torch.Size([512])        512   \n",
       "9                alpha.weight      torch.Size([1, 256])        256   \n",
       "10                 alpha.bias           torch.Size([1])          1   \n",
       "11                  fc.weight      torch.Size([2, 256])        512   \n",
       "12                    fc.bias           torch.Size([2])          2   \n",
       "\n",
       "   requires_grad  \n",
       "0          False  \n",
       "1           True  \n",
       "2           True  \n",
       "3           True  \n",
       "4           True  \n",
       "5           True  \n",
       "6           True  \n",
       "7           True  \n",
       "8           True  \n",
       "9           True  \n",
       "10          True  \n",
       "11          True  \n",
       "12          True  "
      ]
     },
     "execution_count": 517,
     "metadata": {},
     "output_type": "execute_result"
    }
   ],
   "source": [
    "columns = ['layers', 'shape', 'parameters']\n",
    "df = pd.DataFrame(columns=columns)\n",
    "n = []\n",
    "s = []\n",
    "p = []\n",
    "r = []\n",
    "for name, param in model.named_parameters():\n",
    "    n.append(str(name))\n",
    "    s.append(str(param.shape))\n",
    "    p.append(str(param.numel()))\n",
    "    r.append(str(param.requires_grad))\n",
    "\n",
    "df['layers'] = n\n",
    "df['shape'] = s\n",
    "df['parameters'] = p\n",
    "df['requires_grad'] = r\n",
    "df"
   ]
  },
  {
   "cell_type": "code",
   "execution_count": null,
   "metadata": {},
   "outputs": [],
   "source": []
  },
  {
   "cell_type": "code",
   "execution_count": null,
   "metadata": {
    "colab": {
     "base_uri": "https://localhost:8080/"
    },
    "executionInfo": {
     "elapsed": 82326,
     "status": "ok",
     "timestamp": 1611346321520,
     "user": {
      "displayName": "Prabesh Pathak",
      "photoUrl": "https://lh3.googleusercontent.com/a-/AOh14Gh6ULNXNrYutw3u6ad06TMgRj97zOGaU28QfV_MCg=s64",
      "userId": "10507649871156130542"
     },
     "user_tz": 300
    },
    "id": "Kd_yb3BabBUk",
    "outputId": "75665366-3967-457f-d54d-264f30a20b6e"
   },
   "outputs": [
    {
     "name": "stderr",
     "output_type": "stream",
     "text": [
      "12-Mar-21 05:36:45 - Epoch 1: 0.279198 loss, 0.222236 val loss\n"
     ]
    }
   ],
   "source": [
    "model.train()\n",
    "epochs = 20\n",
    "counter = 0\n",
    "clip = 5\n",
    "print_every = 100\n",
    "valid_loss_min = np.Inf\n",
    "all_weights = []\n",
    "all_train_loss = []\n",
    "all_val_loss = []\n",
    "eps = []\n",
    "criterion = nn.BCELoss()\n",
    "#criterion = nn.CrossEntropyLoss()\n",
    "# optimizer = optim.Adam(model.parameters(), lr=0.0005)\n",
    "optimizer = optim.Adam(model.parameters(), lr=0.0005, weight_decay=5e-4)\n",
    "# optimizer = optim.Adam(model.parameters(), lr=0.01, weight_decay=1e-2)\n",
    "#optimizer = optim.RMSprop(model.parameters(), lr=0.01)\n",
    "#val_dl = val_loader\n",
    "model_dir = '/media/data/artifacts/2016/models/bi-lstm-2/'\n",
    "\n",
    "\n",
    "for epoch in range(epochs):\n",
    "    #state_h, state_c = model.init_state(sequence_length)\n",
    "    model.train()\n",
    "    h = model.init_state(batch_size)\n",
    "\n",
    "    train_losses = []\n",
    "    validation_losses = []\n",
    "\n",
    "    for inputs, labels in training_generator:\n",
    "        counter += 1\n",
    "        h = tuple([e.data for e in h])\n",
    "        h = [x.to(device) for x in h]\n",
    "        inputs, labels = inputs.to(device).long(), labels.to(device)\n",
    "\n",
    "        model.zero_grad()\n",
    "        output, h, _ = model(inputs, h)\n",
    "        loss = criterion(output.squeeze(), labels)\n",
    "        train_losses.append(loss.item())\n",
    "        \n",
    "        optimizer.zero_grad()\n",
    "        loss.backward()\n",
    "        nn.utils.clip_grad_norm_(model.parameters(), clip)\n",
    "        optimizer.step()\n",
    "\n",
    "        \n",
    "    model.eval()\n",
    "    val_h = model.init_state(batch_size)\n",
    "    for inp, lab in validation_generator:\n",
    "        val_h = tuple([each.data for each in val_h])\n",
    "        val_h = [x.to(device) for x in val_h]\n",
    "        inp, lab = inp.to(device).long(), lab.to(device)\n",
    "\n",
    "        out, _ , _ = model(inp, val_h)\n",
    "        val_loss = criterion(out.squeeze(), lab.float())\n",
    "        validation_losses.append(val_loss.item())\n",
    "\n",
    "        \n",
    "    all_train_loss.append(np.mean(train_losses))\n",
    "    all_val_loss.append(np.mean(validation_losses))\n",
    "    eps.append(epoch+1)\n",
    "    torch.save(model, model_dir + \"final-bi-attn-64-3.pickle\")\n",
    "    df_loss = pd.DataFrame({'train_loss':all_train_loss})\n",
    "    df_loss['validation_loss'] = all_val_loss\n",
    "    df_loss['epochs'] = eps\n",
    "    df_loss.to_csv(model_dir + 'bi_attn_loss_64_3.csv',mode='a', sep=',')\n",
    "    \n",
    "    logging.info(\"Epoch {}: {:.6f} loss, {:.6f} val loss\".format(epoch+1, np.mean(train_losses), np.mean(validation_losses)))"
   ]
  },
  {
   "cell_type": "code",
   "execution_count": 520,
   "metadata": {
    "colab": {
     "base_uri": "https://localhost:8080/",
     "height": 295
    },
    "executionInfo": {
     "elapsed": 881,
     "status": "ok",
     "timestamp": 1611346340127,
     "user": {
      "displayName": "Prabesh Pathak",
      "photoUrl": "https://lh3.googleusercontent.com/a-/AOh14Gh6ULNXNrYutw3u6ad06TMgRj97zOGaU28QfV_MCg=s64",
      "userId": "10507649871156130542"
     },
     "user_tz": 300
    },
    "id": "wLslPNdprumy",
    "outputId": "cb4507dd-e365-49af-cf15-99fda05a880c"
   },
   "outputs": [
    {
     "data": {
      "image/png": "[encoded data removed]",
      "text/plain": [
       "<Figure size 432x288 with 1 Axes>"
      ]
     },
     "metadata": {},
     "output_type": "display_data"
    }
   ],
   "source": [
    "plt.plot(all_train_loss)\n",
    "plt.plot(all_val_loss)\n",
    "plt.title('model loss')\n",
    "plt.ylabel('loss')\n",
    "plt.xlabel('epoch')\n",
    "plt.legend(['train', 'validation'], loc='upper right')\n",
    "# fig = plt.figure(figsize=(3,6))\n",
    "plt.show()\n",
    "# plt.savefig(model_dir + 'loss.png', bbox_inches='tight')"
   ]
  },
  {
   "cell_type": "code",
   "execution_count": 109,
   "metadata": {},
   "outputs": [],
   "source": [
    "# model_dir = '/media/data/artifacts/2016/models/bi-lstm-2/'\n",
    "# df_loss = pd.DataFrame({'train_loss':all_train_loss})\n",
    "# df_loss['validation_loss'] = all_val_loss\n",
    "# df_loss.to_csv(model_dir + 'bi_attn_loss_128.csv', sep=',')"
   ]
  },
  {
   "cell_type": "code",
   "execution_count": 478,
   "metadata": {},
   "outputs": [],
   "source": [
    "model_dir = '/media/data/artifacts/2016/models/bi-lstm-2/'\n",
    "df = pd.read_csv(model_dir + 'bi_attn_loss_64_2.csv')\n",
    "df.columns=['', 'train_loss', 'validation_loss','epoch']\n",
    "df = df[['train_loss', 'validation_loss']]"
   ]
  },
  {
   "cell_type": "code",
   "execution_count": 479,
   "metadata": {},
   "outputs": [
    {
     "data": {
      "text/html": [
       "<div>\n",
       "<style scoped>\n",
       "    .dataframe tbody tr th:only-of-type {\n",
       "        vertical-align: middle;\n",
       "    }\n",
       "\n",
       "    .dataframe tbody tr th {\n",
       "        vertical-align: top;\n",
       "    }\n",
       "\n",
       "    .dataframe thead th {\n",
       "        text-align: right;\n",
       "    }\n",
       "</style>\n",
       "<table border=\"1\" class=\"dataframe\">\n",
       "  <thead>\n",
       "    <tr style=\"text-align: right;\">\n",
       "      <th></th>\n",
       "      <th>train_loss</th>\n",
       "      <th>validation_loss</th>\n",
       "    </tr>\n",
       "  </thead>\n",
       "  <tbody>\n",
       "    <tr>\n",
       "      <th>0</th>\n",
       "      <td>0.273959</td>\n",
       "      <td>0.229042</td>\n",
       "    </tr>\n",
       "    <tr>\n",
       "      <th>1</th>\n",
       "      <td>0.217070</td>\n",
       "      <td>0.197080</td>\n",
       "    </tr>\n",
       "    <tr>\n",
       "      <th>2</th>\n",
       "      <td>0.200674</td>\n",
       "      <td>0.189016</td>\n",
       "    </tr>\n",
       "    <tr>\n",
       "      <th>3</th>\n",
       "      <td>0.191860</td>\n",
       "      <td>0.190985</td>\n",
       "    </tr>\n",
       "    <tr>\n",
       "      <th>4</th>\n",
       "      <td>0.186080</td>\n",
       "      <td>0.189128</td>\n",
       "    </tr>\n",
       "    <tr>\n",
       "      <th>5</th>\n",
       "      <td>0.180611</td>\n",
       "      <td>0.179694</td>\n",
       "    </tr>\n",
       "    <tr>\n",
       "      <th>6</th>\n",
       "      <td>0.177385</td>\n",
       "      <td>0.183892</td>\n",
       "    </tr>\n",
       "    <tr>\n",
       "      <th>7</th>\n",
       "      <td>0.174638</td>\n",
       "      <td>0.178884</td>\n",
       "    </tr>\n",
       "    <tr>\n",
       "      <th>8</th>\n",
       "      <td>0.173138</td>\n",
       "      <td>0.179091</td>\n",
       "    </tr>\n",
       "    <tr>\n",
       "      <th>9</th>\n",
       "      <td>0.170459</td>\n",
       "      <td>0.173042</td>\n",
       "    </tr>\n",
       "    <tr>\n",
       "      <th>10</th>\n",
       "      <td>0.168679</td>\n",
       "      <td>0.190701</td>\n",
       "    </tr>\n",
       "    <tr>\n",
       "      <th>11</th>\n",
       "      <td>0.168268</td>\n",
       "      <td>0.177572</td>\n",
       "    </tr>\n",
       "    <tr>\n",
       "      <th>12</th>\n",
       "      <td>0.166285</td>\n",
       "      <td>0.176917</td>\n",
       "    </tr>\n",
       "    <tr>\n",
       "      <th>13</th>\n",
       "      <td>0.165577</td>\n",
       "      <td>0.172029</td>\n",
       "    </tr>\n",
       "    <tr>\n",
       "      <th>14</th>\n",
       "      <td>0.164397</td>\n",
       "      <td>0.174094</td>\n",
       "    </tr>\n",
       "    <tr>\n",
       "      <th>15</th>\n",
       "      <td>0.163771</td>\n",
       "      <td>0.170704</td>\n",
       "    </tr>\n",
       "    <tr>\n",
       "      <th>16</th>\n",
       "      <td>0.162088</td>\n",
       "      <td>0.170924</td>\n",
       "    </tr>\n",
       "    <tr>\n",
       "      <th>17</th>\n",
       "      <td>0.161786</td>\n",
       "      <td>0.172343</td>\n",
       "    </tr>\n",
       "    <tr>\n",
       "      <th>18</th>\n",
       "      <td>0.161117</td>\n",
       "      <td>0.168146</td>\n",
       "    </tr>\n",
       "    <tr>\n",
       "      <th>19</th>\n",
       "      <td>0.159569</td>\n",
       "      <td>0.173601</td>\n",
       "    </tr>\n",
       "  </tbody>\n",
       "</table>\n",
       "</div>"
      ],
      "text/plain": [
       "    train_loss  validation_loss\n",
       "0     0.273959         0.229042\n",
       "1     0.217070         0.197080\n",
       "2     0.200674         0.189016\n",
       "3     0.191860         0.190985\n",
       "4     0.186080         0.189128\n",
       "5     0.180611         0.179694\n",
       "6     0.177385         0.183892\n",
       "7     0.174638         0.178884\n",
       "8     0.173138         0.179091\n",
       "9     0.170459         0.173042\n",
       "10    0.168679         0.190701\n",
       "11    0.168268         0.177572\n",
       "12    0.166285         0.176917\n",
       "13    0.165577         0.172029\n",
       "14    0.164397         0.174094\n",
       "15    0.163771         0.170704\n",
       "16    0.162088         0.170924\n",
       "17    0.161786         0.172343\n",
       "18    0.161117         0.168146\n",
       "19    0.159569         0.173601"
      ]
     },
     "execution_count": 479,
     "metadata": {},
     "output_type": "execute_result"
    }
   ],
   "source": [
    "df"
   ]
  },
  {
   "cell_type": "code",
   "execution_count": 480,
   "metadata": {},
   "outputs": [
    {
     "data": {
      "text/plain": [
       "[[<matplotlib.axis.XTick at 0x7f73885181d0>,\n",
       "  <matplotlib.axis.XTick at 0x7f72a5f42450>,\n",
       "  <matplotlib.axis.XTick at 0x7f7295f87710>,\n",
       "  <matplotlib.axis.XTick at 0x7f7295fa2b10>,\n",
       "  <matplotlib.axis.XTick at 0x7f7295daf510>,\n",
       "  <matplotlib.axis.XTick at 0x7f7295dafa90>,\n",
       "  <matplotlib.axis.XTick at 0x7f7295dafcd0>,\n",
       "  <matplotlib.axis.XTick at 0x7f7295dbf610>,\n",
       "  <matplotlib.axis.XTick at 0x7f7295dbfb90>,\n",
       "  <matplotlib.axis.XTick at 0x7f72a9658090>,\n",
       "  <matplotlib.axis.XTick at 0x7f7388518f90>,\n",
       "  <matplotlib.axis.XTick at 0x7f7295fa2450>,\n",
       "  <matplotlib.axis.XTick at 0x7f7295dbfc10>,\n",
       "  <matplotlib.axis.XTick at 0x7f72a9672150>,\n",
       "  <matplotlib.axis.XTick at 0x7f72a9672f10>,\n",
       "  <matplotlib.axis.XTick at 0x7f72a9abb5d0>,\n",
       "  <matplotlib.axis.XTick at 0x7f72a9abbc10>,\n",
       "  <matplotlib.axis.XTick at 0x7f72a9a9d290>,\n",
       "  <matplotlib.axis.XTick at 0x7f72a9a9d8d0>,\n",
       "  <matplotlib.axis.XTick at 0x7f72a9a9df10>]]"
      ]
     },
     "execution_count": 480,
     "metadata": {},
     "output_type": "execute_result"
    },
    {
     "data": {
      "image/png": "[encoded data removed]",
      "text/plain": [
       "<Figure size 432x288 with 1 Axes>"
      ]
     },
     "metadata": {},
     "output_type": "display_data"
    }
   ],
   "source": [
    "t = [x for x in range(0,20,1)]\n",
    "sns.set(style=\"darkgrid\")\n",
    "g = sns.lineplot(data=df)\n",
    "g.set(xlabel='epochs', ylabel='loss')\n",
    "g.set(xticks=t)"
   ]
  },
  {
   "cell_type": "markdown",
   "metadata": {
    "id": "5wgrSyic0DZf"
   },
   "source": [
    "### Save model"
   ]
  },
  {
   "cell_type": "code",
   "execution_count": 216,
   "metadata": {
    "executionInfo": {
     "elapsed": 1218,
     "status": "ok",
     "timestamp": 1611346341017,
     "user": {
      "displayName": "Prabesh Pathak",
      "photoUrl": "https://lh3.googleusercontent.com/a-/AOh14Gh6ULNXNrYutw3u6ad06TMgRj97zOGaU28QfV_MCg=s64",
      "userId": "10507649871156130542"
     },
     "user_tz": 300
    },
    "id": "52rYyHwG0EJK"
   },
   "outputs": [],
   "source": [
    "model_dir = '/media/data/artifacts/2016/models/bi-lstm-2/'\n",
    "# torch.save(model, model_dir + \"5-final-bi-attn-ep-10-6.pickle\")\n",
    "model = torch.load(model_dir + 'final-bi-attn-256-2.pickle')"
   ]
  },
  {
   "cell_type": "code",
   "execution_count": 217,
   "metadata": {},
   "outputs": [],
   "source": [
    "# device = torch.device(\"cpu\")"
   ]
  },
  {
   "cell_type": "markdown",
   "metadata": {
    "id": "pBnPa9lKtFbU"
   },
   "source": [
    "### Testing"
   ]
  },
  {
   "cell_type": "code",
   "execution_count": 521,
   "metadata": {
    "colab": {
     "base_uri": "https://localhost:8080/"
    },
    "executionInfo": {
     "elapsed": 2629,
     "status": "ok",
     "timestamp": 1611346343132,
     "user": {
      "displayName": "Prabesh Pathak",
      "photoUrl": "https://lh3.googleusercontent.com/a-/AOh14Gh6ULNXNrYutw3u6ad06TMgRj97zOGaU28QfV_MCg=s64",
      "userId": "10507649871156130542"
     },
     "user_tz": 300
    },
    "id": "N8BxdgXZ5AVe",
    "outputId": "9f370411-1600-46aa-fe82-1a6da337dc14"
   },
   "outputs": [
    {
     "name": "stdout",
     "output_type": "stream",
     "text": [
      "Test loss: 0.174\n"
     ]
    }
   ],
   "source": [
    "test_losses = []\n",
    "num_correct = 0\n",
    "a_weights = []\n",
    "pred_label = []\n",
    "prediction = []\n",
    "true_label = []\n",
    "dict = {}\n",
    "test_sen = []\n",
    "\n",
    "h = model.init_state(batch_size)\n",
    "model.eval()\n",
    "with torch.no_grad():\n",
    "    for inputs, labels in test_generator:\n",
    "        h = tuple([each.data for each in h])\n",
    "        h = [x.to(device) for x in h]\n",
    "        inputs, labels = inputs.to(device).long(), labels.to(device)\n",
    "        output, h, a_out = model(inputs, h)\n",
    "\n",
    "        for out in output:\n",
    "            o = out.cpu().numpy()\n",
    "            prediction.append(o)\n",
    "            \"\"\"\n",
    "            if o[0] == 0 :              #this mean [0,1] malicious\n",
    "                pred_label.append(1)\n",
    "            else:                       #this mean [1,0] benign\n",
    "                pred_label.append(0)\n",
    "            \"\"\"\n",
    "\n",
    "\n",
    "        for label in labels:\n",
    "            l = label.cpu().numpy()\n",
    "            if l[0] == 0 :              #this mean [0,1] malicious\n",
    "                true_label.append(1)\n",
    "            else:                       #this mean [1,0] benign\n",
    "                true_label.append(0)\n",
    "\n",
    "#         for inp in inputs:\n",
    "#             test_sen.append(inp)\n",
    "            \n",
    "        for each_a_out in a_out:\n",
    "            a_weights.append(each_a_out)\n",
    "            \n",
    "        test_loss = criterion(output.squeeze(), labels.float())\n",
    "        test_losses.append(test_loss.item())\n",
    "\n",
    "print(\"Test loss: {:.3f}\".format(np.mean(test_losses)))\n",
    "test_acc = num_correct/len(test_generator.dataset)\n",
    "#print(\"Test accuracy: {:.3f}%\".format(test_acc*100))"
   ]
  },
  {
   "cell_type": "code",
   "execution_count": 522,
   "metadata": {
    "executionInfo": {
     "elapsed": 754,
     "status": "ok",
     "timestamp": 1611346344354,
     "user": {
      "displayName": "Prabesh Pathak",
      "photoUrl": "https://lh3.googleusercontent.com/a-/AOh14Gh6ULNXNrYutw3u6ad06TMgRj97zOGaU28QfV_MCg=s64",
      "userId": "10507649871156130542"
     },
     "user_tz": 300
    },
    "id": "YQKYT0zS5SRh"
   },
   "outputs": [],
   "source": [
    "prediction1 = np.argmax(prediction, axis=1)  ## Prediction for bad reviews in terms of 0 and 1 for all test data\n",
    "prediction_for_1=[] ## Prediction for bad reviews only\n",
    "for each_prediction in prediction:\n",
    "    prediction_for_1.append(each_prediction[1])\n",
    "\n",
    "c = confusion_matrix(true_label,prediction1 )"
   ]
  },
  {
   "cell_type": "code",
   "execution_count": 523,
   "metadata": {
    "colab": {
     "base_uri": "https://localhost:8080/"
    },
    "executionInfo": {
     "elapsed": 808,
     "status": "ok",
     "timestamp": 1611346344889,
     "user": {
      "displayName": "Prabesh Pathak",
      "photoUrl": "https://lh3.googleusercontent.com/a-/AOh14Gh6ULNXNrYutw3u6ad06TMgRj97zOGaU28QfV_MCg=s64",
      "userId": "10507649871156130542"
     },
     "user_tz": 300
    },
    "id": "MAd7wj5FoopS",
    "outputId": "0061d537-47ad-4b34-ad51-773d326a9a78"
   },
   "outputs": [
    {
     "data": {
      "text/plain": [
       "array([[12448,   452],\n",
       "       [  604,  3696]])"
      ]
     },
     "execution_count": 523,
     "metadata": {},
     "output_type": "execute_result"
    }
   ],
   "source": [
    "c"
   ]
  },
  {
   "cell_type": "code",
   "execution_count": 524,
   "metadata": {
    "colab": {
     "base_uri": "https://localhost:8080/",
     "height": 313
    },
    "executionInfo": {
     "elapsed": 1019,
     "status": "ok",
     "timestamp": 1611346346611,
     "user": {
      "displayName": "Prabesh Pathak",
      "photoUrl": "https://lh3.googleusercontent.com/a-/AOh14Gh6ULNXNrYutw3u6ad06TMgRj97zOGaU28QfV_MCg=s64",
      "userId": "10507649871156130542"
     },
     "user_tz": 300
    },
    "id": "LyVNSOVB5bGf",
    "outputId": "931c5bde-3e53-4773-8cfe-3dce5ceb5205"
   },
   "outputs": [
    {
     "data": {
      "text/plain": [
       "[Text(0, 0.5, 'benign'), Text(0, 1.5, 'malicious')]"
      ]
     },
     "execution_count": 524,
     "metadata": {},
     "output_type": "execute_result"
    },
    {
     "data": {
      "image/png": "[encoded data removed]",
      "text/plain": [
       "<Figure size 432x288 with 2 Axes>"
      ]
     },
     "metadata": {},
     "output_type": "display_data"
    }
   ],
   "source": [
    "import seaborn as sns\n",
    "import matplotlib.pyplot as plt     \n",
    "\n",
    "ax= plt.subplot()\n",
    "sns.heatmap(c, annot=True, fmt='g')\n",
    "\n",
    "# labels, title and ticks\n",
    "ax.set_xlabel('Predicted labels')\n",
    "ax.set_ylabel('True labels')\n",
    "ax.set_title('Confusion Matrix')\n",
    "ax.xaxis.set_ticklabels(['benign', 'malicious']) \n",
    "ax.yaxis.set_ticklabels(['benign', 'malicious'])"
   ]
  },
  {
   "cell_type": "markdown",
   "metadata": {
    "id": "RSsF5N4ctSR2"
   },
   "source": [
    "#### Evaluation Metrics"
   ]
  },
  {
   "cell_type": "code",
   "execution_count": 525,
   "metadata": {
    "colab": {
     "base_uri": "https://localhost:8080/"
    },
    "executionInfo": {
     "elapsed": 761,
     "status": "ok",
     "timestamp": 1611346390298,
     "user": {
      "displayName": "Prabesh Pathak",
      "photoUrl": "https://lh3.googleusercontent.com/a-/AOh14Gh6ULNXNrYutw3u6ad06TMgRj97zOGaU28QfV_MCg=s64",
      "userId": "10507649871156130542"
     },
     "user_tz": 300
    },
    "id": "uClIRxaMrut_",
    "outputId": "c6fb7783-9ce9-4863-eb6b-cc3794e69223"
   },
   "outputs": [
    {
     "name": "stdout",
     "output_type": "stream",
     "text": [
      "Area under graph 0.9412873483096265\n",
      "-------------------------------------------------\n",
      "Precision for Malicious apps 0.8910318225650916\n",
      "Recall for Malicious apps 0.8595348837209302\n",
      "F1-score for Malicious apps  0.8750000000000001\n",
      "-------------------------------------------------\n",
      "Precision for Benign apps 0.953723567269384\n",
      "Recall for Benign apps 0.9649612403100776\n",
      "F1-score for Benign apps  0.9593094944512947\n"
     ]
    }
   ],
   "source": [
    "from sklearn.metrics import precision_recall_curve\n",
    "from sklearn.metrics import precision_score\n",
    "from sklearn.metrics import recall_score\n",
    "from sklearn.metrics import auc\n",
    "import matplotlib.pyplot as plt\n",
    "from sklearn.model_selection import StratifiedShuffleSplit\n",
    "from sklearn.metrics import f1_score\n",
    "from inspect import signature\n",
    "\n",
    "truelabel = true_label\n",
    "predictedlabel = np.array(prediction1)\n",
    "\n",
    "precision, recall, _ = precision_recall_curve(truelabel,np.array(prediction_for_1))\n",
    "au = auc(recall, precision)\n",
    "print(\"Area under graph \"+str(au))\n",
    "print(\"-------------------------------------------------\")\n",
    "rec_score = recall_score(truelabel,predictedlabel,pos_label=1,average='binary')\n",
    "precise_score = precision_score(truelabel,predictedlabel,pos_label=1,average='binary')\n",
    "f1 = f1_score(truelabel,predictedlabel,pos_label=1, average='binary')\n",
    "print(\"Precision for Malicious apps \"+str(precise_score))\n",
    "print(\"Recall for Malicious apps \"+str(rec_score))\n",
    "print(\"F1-score for Malicious apps  \" + str(f1))\n",
    "print(\"-------------------------------------------------\")\n",
    "rec_score = recall_score(truelabel,predictedlabel,pos_label=0,average='binary')\n",
    "precise_score = precision_score(truelabel,predictedlabel,pos_label=0,average='binary')\n",
    "f1 = f1_score(truelabel,predictedlabel,pos_label=0, average='binary')\n",
    "print(\"Precision for Benign apps \"+str(precise_score))\n",
    "print(\"Recall for Benign apps \"+str(rec_score))\n",
    "print(\"F1-score for Benign apps  \" + str(f1))"
   ]
  },
  {
   "cell_type": "code",
   "execution_count": 527,
   "metadata": {
    "colab": {
     "base_uri": "https://localhost:8080/",
     "height": 297
    },
    "executionInfo": {
     "elapsed": 782,
     "status": "ok",
     "timestamp": 1611346390502,
     "user": {
      "displayName": "Prabesh Pathak",
      "photoUrl": "https://lh3.googleusercontent.com/a-/AOh14Gh6ULNXNrYutw3u6ad06TMgRj97zOGaU28QfV_MCg=s64",
      "userId": "10507649871156130542"
     },
     "user_tz": 300
    },
    "id": "39zk95EJAkDZ",
    "outputId": "1dc71fc1-6172-46ee-c9e8-6a4e9f5b7316"
   },
   "outputs": [
    {
     "data": {
      "image/png": "[encoded data removed]",
      "text/plain": [
       "<Figure size 432x288 with 1 Axes>"
      ]
     },
     "metadata": {},
     "output_type": "display_data"
    }
   ],
   "source": [
    "positive_cases = sum(truelabel)/len(truelabel)\n",
    "plt.plot([0, 1], [positive_cases, positive_cases], linestyle='--')\n",
    "\n",
    "# In matplotlib < 1.5, plt.fill_between does not have a 'step' argument\n",
    "step_kwargs = ({'step': 'post'}\n",
    "                if 'step' in signature(plt.fill_between).parameters\n",
    "                else {})\n",
    "plt.step(recall, precision, color='b', alpha=0.2,\n",
    "            where='post')\n",
    "plt.fill_between(recall, precision, alpha=0.2, color='g', **step_kwargs)\n",
    "\n",
    "plt.xlabel('Recall')\n",
    "plt.ylabel('Precision')\n",
    "plt.ylim([0.0, 1.05])\n",
    "plt.xlim([0.0, 1.0])\n",
    "plt.title('Precision-Recall curve')\n",
    "plt.tight_layout()"
   ]
  },
  {
   "cell_type": "code",
   "execution_count": null,
   "metadata": {},
   "outputs": [],
   "source": []
  },
  {
   "cell_type": "code",
   "execution_count": 406,
   "metadata": {},
   "outputs": [
    {
     "name": "stdout",
     "output_type": "stream",
     "text": [
      "[[12497   403]\n",
      " [   34    95]]\n",
      "Area under graph 0.5883596509052897\n",
      "-------------------------------------------------\n",
      "Precision for Malicious apps 0.19076305220883535\n",
      "Recall for Malicious apps 0.7364341085271318\n",
      "F1-score for Malicious apps  0.30303030303030304\n",
      "-------------------------------------------------\n",
      "Precision for Benign apps 0.9972867289122975\n",
      "Recall for Benign apps 0.9687596899224806\n",
      "F1-score for Benign apps  0.9828162478864378\n"
     ]
    }
   ],
   "source": [
    "## This code block is for imbalanced ratio of malicious:benign\n",
    "\n",
    "count = 0\n",
    "malicious_index = []\n",
    "benign_index = []\n",
    "for i,d in enumerate(true_label):\n",
    "    if d == 1 and count < 129:\n",
    "        malicious_index.append(i)\n",
    "        count += 1\n",
    "    elif d ==0 :\n",
    "        benign_index.append(i)\n",
    "    \n",
    "pred_10 = []\n",
    "true_10 = []\n",
    "pred_real_10 = []\n",
    "for i,d in enumerate(malicious_index):\n",
    "    pred_10.append(prediction1[d])\n",
    "    true_10.append(true_label[d])\n",
    "    pred_real_10.append(prediction_for_1[d])\n",
    "for i,d in enumerate(benign_index):\n",
    "    pred_10.append(prediction1[d])\n",
    "    true_10.append(true_label[d])\n",
    "    pred_real_10.append(prediction_for_1[d])\n",
    "\n",
    "c = confusion_matrix(true_10,pred_10)\n",
    "print(c)\n",
    "truelabel = true_10\n",
    "predictedlabel = np.array(pred_10)\n",
    "\n",
    "precision, recall, _ = precision_recall_curve(truelabel,np.array(pred_real_10))\n",
    "au = auc(recall, precision)\n",
    "print(\"Area under graph \"+str(au))\n",
    "print(\"-------------------------------------------------\")\n",
    "rec_score = recall_score(truelabel,predictedlabel,pos_label=1,average='binary')\n",
    "precise_score = precision_score(truelabel,predictedlabel,pos_label=1,average='binary')\n",
    "f1 = f1_score(truelabel,predictedlabel,pos_label=1, average='binary')\n",
    "print(\"Precision for Malicious apps \"+str(precise_score))\n",
    "print(\"Recall for Malicious apps \"+str(rec_score))\n",
    "print(\"F1-score for Malicious apps  \" + str(f1))\n",
    "print(\"-------------------------------------------------\")\n",
    "rec_score = recall_score(truelabel,predictedlabel,pos_label=0,average='binary')\n",
    "precise_score = precision_score(truelabel,predictedlabel,pos_label=0,average='binary')\n",
    "f1 = f1_score(truelabel,predictedlabel,pos_label=0, average='binary')\n",
    "print(\"Precision for Benign apps \"+str(precise_score))\n",
    "print(\"Recall for Benign apps \"+str(rec_score))\n",
    "print(\"F1-score for Benign apps  \" + str(f1))"
   ]
  },
  {
   "cell_type": "code",
   "execution_count": null,
   "metadata": {},
   "outputs": [],
   "source": []
  },
  {
   "cell_type": "code",
   "execution_count": null,
   "metadata": {},
   "outputs": [],
   "source": []
  },
  {
   "cell_type": "code",
   "execution_count": null,
   "metadata": {},
   "outputs": [],
   "source": []
  },
  {
   "cell_type": "markdown",
   "metadata": {
    "id": "7Jc1F5jytVzQ"
   },
   "source": [
    "#### Attention weights"
   ]
  },
  {
   "cell_type": "code",
   "execution_count": 528,
   "metadata": {
    "colab": {
     "base_uri": "https://localhost:8080/"
    },
    "executionInfo": {
     "elapsed": 439,
     "status": "ok",
     "timestamp": 1611346390503,
     "user": {
      "displayName": "Prabesh Pathak",
      "photoUrl": "https://lh3.googleusercontent.com/a-/AOh14Gh6ULNXNrYutw3u6ad06TMgRj97zOGaU28QfV_MCg=s64",
      "userId": "10507649871156130542"
     },
     "user_tz": 300
    },
    "id": "vYGM5a5zQ2EE",
    "outputId": "1e9daa62-3a89-4cb6-cd76-9d798cd3c33e"
   },
   "outputs": [
    {
     "data": {
      "text/plain": [
       "17200"
      ]
     },
     "execution_count": 528,
     "metadata": {},
     "output_type": "execute_result"
    }
   ],
   "source": [
    "len(a_weights)"
   ]
  },
  {
   "cell_type": "code",
   "execution_count": 529,
   "metadata": {
    "colab": {
     "base_uri": "https://localhost:8080/"
    },
    "executionInfo": {
     "elapsed": 920,
     "status": "ok",
     "timestamp": 1611346391156,
     "user": {
      "displayName": "Prabesh Pathak",
      "photoUrl": "https://lh3.googleusercontent.com/a-/AOh14Gh6ULNXNrYutw3u6ad06TMgRj97zOGaU28QfV_MCg=s64",
      "userId": "10507649871156130542"
     },
     "user_tz": 300
    },
    "id": "ix6X6f5Cq0T6",
    "outputId": "302611e4-3366-4a99-b8e6-14491a6e62bb"
   },
   "outputs": [
    {
     "data": {
      "text/plain": [
       "17200"
      ]
     },
     "execution_count": 529,
     "metadata": {},
     "output_type": "execute_result"
    }
   ],
   "source": [
    "len(prediction1)"
   ]
  },
  {
   "cell_type": "code",
   "execution_count": null,
   "metadata": {},
   "outputs": [],
   "source": []
  },
  {
   "cell_type": "markdown",
   "metadata": {},
   "source": [
    "### Only for true-positive malwares"
   ]
  },
  {
   "cell_type": "code",
   "execution_count": 530,
   "metadata": {},
   "outputs": [],
   "source": [
    "## Map predicted labels and test labels\n",
    "tp = {}\n",
    "i = 0\n",
    "for k,v in test_label_dict.items():\n",
    "    tp[k] = prediction1[i]\n",
    "    i = i + 1"
   ]
  },
  {
   "cell_type": "code",
   "execution_count": 531,
   "metadata": {},
   "outputs": [],
   "source": [
    "## Map predicted lables and malicious lables\n",
    "tpp = {}\n",
    "count = 0\n",
    "i = 0\n",
    "for k,v in tp.items():\n",
    "    if v == 1 and test_label_dict[k] == 1:\n",
    "        tpp[k] = i\n",
    "    \n",
    "    i += 1"
   ]
  },
  {
   "cell_type": "code",
   "execution_count": 532,
   "metadata": {},
   "outputs": [],
   "source": [
    "t_mal_ids = []\n",
    "for k,v in tpp.items():\n",
    "    t_mal_ids.append(v)"
   ]
  },
  {
   "cell_type": "code",
   "execution_count": 533,
   "metadata": {},
   "outputs": [
    {
     "data": {
      "text/plain": [
       "3696"
      ]
     },
     "execution_count": 533,
     "metadata": {},
     "output_type": "execute_result"
    }
   ],
   "source": [
    "len(t_mal_ids)"
   ]
  },
  {
   "cell_type": "code",
   "execution_count": 534,
   "metadata": {},
   "outputs": [
    {
     "data": {
      "text/plain": [
       "3696"
      ]
     },
     "execution_count": 534,
     "metadata": {},
     "output_type": "execute_result"
    }
   ],
   "source": [
    "len(tpp)"
   ]
  },
  {
   "cell_type": "code",
   "execution_count": 535,
   "metadata": {},
   "outputs": [
    {
     "data": {
      "text/plain": [
       "{'0002D1950CC73492ADBFDA00645B13C47826A7F4299C29572F838B5F35842F01.txt': 3001,\n",
       " '000B4C68E2F9FBF054183FDCD494FB37E6748F0B77494B7A5883DCBA8F30C443.txt': 3002,\n",
       " '000BD729004E9B29564BF6BDBDFDA5C2BFE478FC612A079FECB7584D06DCAC8C.txt': 3003,\n",
       " '001019FA9F415BB3314CDB2AFF6EE3D1236BA5ACCB15BB9D53378271F37A8412.txt': 3005,\n",
       " '001441793CA9066610E528C95E44C68588B0A3CA5FB853D3776C398A749DE61F.txt': 3008,\n",
       " '001443C57EF17087C45362A8F09ED58A8291D68BD753E173D1599C70E7B08B41.txt': 3009,\n",
       " '0017B67588D03D2A1E888D143B0D61596DD7BAE942AE34055997C3E9B43D5E29.txt': 3010,\n",
       " '0018D7835737A6CC73658CF53691DA6E96B35DD78AE2F653D9A955A3FA2AE440.txt': 3011,\n",
       " '001A7F9C3C1FD1D0AF24E4B038FD39AD32E9621B45D44F1DC2230EC9B7F8561C.txt': 3012,\n",
       " '0021AF05170E3919D94676533DB4EEC9FE15ED330E92E2293DDF30FA13D90C1D.txt': 3013,\n",
       " '00231CA69D8D76D9BB33E814A7EB53033905CC65C766E63495C45AB0F0D9F2CC.txt': 3014,\n",
       " '002482EEAD614A9F904749A2D1C33EF505D70B99B9716EC4824EBF941F83A4FB.txt': 3015,\n",
       " '0025FB51E69BA50FB5A26EEA3E22AC8644ED4BD42E211EC4874AD89F30499C30.txt': 3016,\n",
       " '002B26DD6D5429D46698DB39B17C54DA5D991682C07F226B1D9FA7985DB82F2A.txt': 3017,\n",
       " '002FBD68B20D951BF44A1F1DA5A4B98CD1384533BF0056E3375BBF39234AD385.txt': 3018,\n",
       " '003D61E737E5886205AB3F6F6F84C8760ED0EE5358370D0DA4B60318D74549E6.txt': 3020,\n",
       " '003E8D6E758D1C68FD0F2E4A4D0320099A15F90C948E06F550E3B7F67BF81EAD.txt': 3021,\n",
       " '003F097701B6F0B28AA18D9BB9EA0902F818767D2920C513EEC0677D1AE0A116.txt': 3022,\n",
       " '003FCA374FFF8A2F803FDBF1A19B17DD896DA6E5B24CBA42F16ACB79170785E7.txt': 3023,\n",
       " '004B5FC373BA934E335B93781AD1BA3238778123FA4981C12C3158DAFF3DF007.txt': 3025,\n",
       " '004C1ECFCFCCC0FCAB22F0275BD7781790B5D9629B5F62FBD5D2FF5A2B80BC27.txt': 3026,\n",
       " '004E548B8DF6ECAA7632478748B7F4292E4E2C54EAF5EE07D7AE287670C7A5A1.txt': 3027,\n",
       " '004F5199B474C1F6E84F5EC3D746C8041452C9BDC6D7C0BCC084EE829B09839F.txt': 3028,\n",
       " '00519E9240C216EE880892964DC9AF21B3E10777DA9320CCF6A2FC64A21CDF85.txt': 3029,\n",
       " '0052938F4871D4AF60204D80ED9F2D9761ACB775E0FBD153F267AA0112717BBA.txt': 3030,\n",
       " '005379039271205C22062BFF58FCFF33C0E619532690893549ACCFB79E56A82A.txt': 3031,\n",
       " '0055AFDDB16C2C10C56ECC6C94C565D1AAE29F5EBD7A8BDCF4A82084CBC81947.txt': 3032,\n",
       " '00606D98121BF2783114383FCE30CC28B8CFEE0D0072CD93D9776D9A1BA07A0F.txt': 3033,\n",
       " '00673C82B5E314698A29983337B1CE71C10AC97F4062EBAD28167A7DEB367AD4.txt': 3035,\n",
       " '00706B5CE348EA333BF095402E8242A356F9E9816F4CE4BE3474F9273B04C449.txt': 3037,\n",
       " '007BAD6582502D15421AEB28E18DFB6816F89285D5DE3D59626B73B821B482EA.txt': 3039,\n",
       " '007FE5543A7578F968450F4270A0805AA0CC901A594EA6324664D1B3FBDCA25E.txt': 3040,\n",
       " '008A6F371761ED9E40A86277342B8A620AB3EA4D791B536BB06C04656CD4973B.txt': 3042,\n",
       " '008ADDF41FBABF09D5FE588BFA9857B2B986440E86FDEC1AE994448AA818C95E.txt': 3043,\n",
       " '008F5304CB815BCD96D9F134630DB0C1F0E79CB31B3964F0C259F06C404EE707.txt': 3044,\n",
       " '008FBC315D48708EF44753F5AC49A6F510C71588334D39E5A1EF0EC0B5D6E249.txt': 3045,\n",
       " '00946F390FFDC6761ED5DBF651483BD396EC8E9B175E4E4C4255329C49A5296C.txt': 3046,\n",
       " '009C400AA9AEE54AA2DE3A10138F6763C6BEA53178D13539AA8C51B7A5E04F52.txt': 3048,\n",
       " '009E7C88465CD20E715EC8101DC063B69C8C211D8FCDDFFCC16D38B87EE8EA13.txt': 3049,\n",
       " '009F6A834D7F168E2F89A3FCA17C20E0DA31813FF627A6E26B080E907344BFD1.txt': 3050,\n",
       " '00B0F088140FA46EFA61BD31EC3EA1B15F97AAEC0C003B297FB689060DEE4D27.txt': 3051,\n",
       " '00B4A5D66941BA66AFCD722094602DEAC4E22957A2AC5C0860F9166EDB764C00.txt': 3052,\n",
       " '00BA15F93B5E16EB07F9B38651FA5C71ADECA42F8578A484123D771A8F0AAFBB.txt': 3053,\n",
       " '00C1851B4D6BE5C70241C9C0268E1A623AB9CCD5913399A870A6C64BB65F608E.txt': 3055,\n",
       " '00C3925DFF8FDD69AD00064BED8C8391279C87667457239AAC79BA4C3D24F9D6.txt': 3056,\n",
       " '00C7734425980A6498950739CF1C260371641E6C258760C059E52DA62742E518.txt': 3058,\n",
       " '00C81CEFACC8848CE81D6E0C6EB839A11458B43B7844439A387C4C15873E4A8A.txt': 3059,\n",
       " '00D609E2EB6F700BBE1E36051110CFAEDA720DDBF5B62B3C8803065E77E65CF3.txt': 3060,\n",
       " '00DD23C3866D3FB648FAA6E095FC805C20C1A2D3B2B605E636D528332AD8D283.txt': 3061,\n",
       " '00DFB53ACE3CB06D8801BCC1A8BCDD7DFCA5E7FB29A5F18FBA48085CC3C6C946.txt': 3062,\n",
       " '00F38448FE37CE6C625E0455FD5D8581693399C671A197F34E18F043800B8053.txt': 3070,\n",
       " '00F7E7EBDF3C78571A84308944D376E38952D8DE52D452624A4AA87B8801CE38.txt': 3071,\n",
       " '00F9CC1B37FC118C83DF8A43DBAD7E62621D21AFC62B7C1F7F81871584B217D6.txt': 3072,\n",
       " '00FA3CB20DE0523FECC56E4AE5CFC1F1E52637AC770CEE44BF16B7E8ADC3A977.txt': 3073,\n",
       " '0102397F276D44EACADFA87721CA903A52ED4055C8A4E581590EF8B8555DA1CE.txt': 3074,\n",
       " '01083485CE9EFB52B786A7986145BB7DC9873379B988AFE396C335F080E073C6.txt': 3075,\n",
       " '01103DBBF162D585C2CC8A8FA5BB99D1A7CE73AAA94BAE7A1A6C6703FCDC7696.txt': 3076,\n",
       " '011B5692D8B0CFCB8498CBE9E85F71D5A259184A7C908F27E9826F9AC7C2A6B9.txt': 3077,\n",
       " '01380D6FA06B4395F317F241B539CFDDF61DAC6B0A6A041ACB0C5F2518D9E96A.txt': 3081,\n",
       " '013DA612306410BA95701A56F1E82185474B0FB2027FA8C78BDCCDBD3EBD2C24.txt': 3082,\n",
       " '0142735939BF1F29179895A242A3F61E107AB17946F10CC407D14A29645E77AF.txt': 3083,\n",
       " '014D45A54E11EBECD7BF7AA1CBC9C5B66A4F632D165D8600ABB6D2B994C00BE4.txt': 3084,\n",
       " '014E0D93DB64CA07ED0B328613CE2C5703B1900B83D0F0FE3AF37184A82E36E2.txt': 3085,\n",
       " '0157687546115EA9229C25AF2D8A8F51F115314230BB0435955B4AAC48B9DCEB.txt': 3087,\n",
       " '0157B2B29CAEB1A5102C585CDF95ADE6556871117A13A80B0257BC3C0EC370F7.txt': 3088,\n",
       " '015C24338AEC1B1EFABCC1C10214D97BB45C10757AF1A00BCB902081A9E083E0.txt': 3089,\n",
       " '0162EB6DF0FFFEC442925C33028607F2B9678A32A40ADCD1436728CA7559FD1E.txt': 3090,\n",
       " '0167F4B5F95EC50959B45CF7F4DD5C6EBAD734B72BE78D5D77B4556600324CDF.txt': 3091,\n",
       " '016E0C72FCC4CC29BAA57B2F4041E70CEB70B3540C09374C07125DB83987430B.txt': 3093,\n",
       " '016E5C148BCC9DC591A2436D3AD83FA4C3E45893FCC36954AC084A447913DC69.txt': 3094,\n",
       " '0171BA59F9A44BA22752ECBDF6E3B93E433F8C265F71070ECB4D11D840D0F1DD.txt': 3095,\n",
       " '017919D7CFC4E55B011FEFB29CA1312DFA10237BF32BE2A53774AA26B0B88698.txt': 3096,\n",
       " '0181F80BF6F5DA2C8677E4813B7191E93DE9E3446360FE69F6564F68D47E5026.txt': 3097,\n",
       " '0185174239425C19427EEC7CA00FE8D90BE17D91BF7450438CB5C7BA944F639E.txt': 3098,\n",
       " '018668BB781A6AFF29B1B0B31F35BEBF5E86EEA13507AB745392B8233A0987A3.txt': 3099,\n",
       " '018720D46A91F022F32245EAC8C45B77E581E52237814BBFB5D106C2F8302601.txt': 3100,\n",
       " '018A715A6F6872F3670EE51B0FA78CBA2BA1BE2851C0834AD298B8DD4DE931C4.txt': 3101,\n",
       " '018C9FF8E25DBCE0CEB90F6297E78494909090DA61815563297DD8543E04166B.txt': 3102,\n",
       " '018F24161073A45E90B76C0E6760AD832CFB785B63DF286281D4DD74D693B55E.txt': 3105,\n",
       " '0193301D42528D8E55CC198EE2EE4CFE4B3EEB4043BEED438CC5B4E42FB7ECC3.txt': 3106,\n",
       " '01A3F1B7B78BE417625F4DCBE352A66906A4939AC9187BDC01F7C72175BF6FBA.txt': 3109,\n",
       " '01AF4D63DA09825ECAC77DEF9B883E45B837D1CCDAD90A9FDCD493539BE48BFF.txt': 3112,\n",
       " '01B4F5C9327E13F8CC783CDBC846726E21306074B81AE74B674A27F35AD46BA2.txt': 3113,\n",
       " '01CBED01A736052662066B286810A5892643AB3A5B4D06F4A2FBEC31895F56E4.txt': 3115,\n",
       " '01D4EC969F67AAC24F6815D682EA23E5C0EAEB8A5D2803B3206547A5918A67B2.txt': 3117,\n",
       " '01DD205EEF8653D61D81261EFE5F2C8870A323ACE1F123AB460371C28AD95B07.txt': 3118,\n",
       " '01E09DAB21B460995BE404388FFF58A11B2600890C94570B92D7C179E56B7A16.txt': 3119,\n",
       " '01E5377ED3583C2FE6544643D048862C76F8A01425A04691F5CB1EF3C96F15E9.txt': 3122,\n",
       " '01E9913E60C8FDF842C79ABF3B4EF4863630ABC45670292E697D39C6EBB86A70.txt': 3123,\n",
       " '01EC24D6421E92F1A23CF9B1791F1DFC80A2F3685575AB4CCAE3234704911CEE.txt': 3124,\n",
       " '01EC448A0B055A790C02E3D67513A590B77AA7B3A06F223803224F571D649826.txt': 3125,\n",
       " '01F0D2DA0C0BB19424AB0434839EEEE2FAE89B6780F1EE17CEE7E2B72CACA178.txt': 3126,\n",
       " '01F65F10928190C0D5FA651F6D167FEBB478C559633F30C71C0EA70093690C8D.txt': 3127,\n",
       " '01F82D18C177F763CB400DC52D762CFB5237683706C293E937FF33B48761E93D.txt': 3128,\n",
       " '01FEC76E86FF6E9B59AA2346BF07E60150A73F0625B61A83DD087FEE64FA8471.txt': 3130,\n",
       " '02009098B80D331A7B1F9A11E677FA039F77C6D4CC0C8FCC4918CF30ED5D85D6.txt': 3131,\n",
       " '0203CEA463455EC51A88582E541E4BCD26A9A0603ED0AA41B4B0A37DFE9B4F65.txt': 3132,\n",
       " '020595BCB66EADBAED0F535D086A28A43AFEDF44049C819EF038A5C3801501E3.txt': 3133,\n",
       " '0206393D7AC5CF0B6E25A2F224DF253BA7EBCBA0C62CCF9AEA286EFDA2665B4C.txt': 3134,\n",
       " '0212287AA88AB241FAEA1C9A6A96DF4075C2CCFE7EB95CEFF01B7D7BDB0E9215.txt': 3138,\n",
       " '021394E552211CECE952364630146608C2FAB90626F4FE9EFA2BEADCDCAE04B4.txt': 3139,\n",
       " '021B77B03AF81136D320608BEB99B8D2DA428B61CE433583D4C4B5C3416A99BE.txt': 3140,\n",
       " '0226B139BAF5F8A1B68E23549245584C67736B9BE6D6BCA03DE5062DC5F2FF80.txt': 3141,\n",
       " '0227F29F0AF0EC1F6112B33F5B8A8F4E0F36BEEFBCDE3AA01A45F7B6AD2A4982.txt': 3143,\n",
       " '022C7F80DCF358AAA479314BAD59C2C3948A7FFEED3779DCB888B0DD24A23C1F.txt': 3145,\n",
       " '022F25D78F85CC1F007930BAD415DA32643B45D300FA07CDB90F6399E1C9C7B4.txt': 3146,\n",
       " '0231845C12D6083382BD5460F57A5639999BC6311DC768538DAE7AF0A1C1FFFD.txt': 3147,\n",
       " '023CE685133E5E61E0558020A6E1AB255A2D9A5BBA8288D943EDDB30314B8668.txt': 3148,\n",
       " '023F75E7DED633BFDE854E95FE6E2DE9C8B51A624CA58A44099C6086699FAF2A.txt': 3149,\n",
       " '0250BADF175EF09BB77E1B3013A4C5C5C6843C7AD2CEFB25B58F5579E4C8B673.txt': 3153,\n",
       " '0251924DE5057AB1ECCB0F62B015659DFFAB374284E4563E0378A9EF4C1EFF27.txt': 3154,\n",
       " '025DCDA2613826F5A7DD465A224FC1D18D05A40D8E27AA1D38573FD276157B58.txt': 3155,\n",
       " '025E453CE47C6C3321F04004EC97E72DE02947A763E01B03004A87772D0F0786.txt': 3156,\n",
       " '026169EFC9072FC0A3F7CD0C486FA59A41C7F0D419C549D4C54D52C0E072EEEB.txt': 3157,\n",
       " '02686CE33EC0CB31A0C53478E11BC426D134A7C3D54D9B72613393E7E0CFD224.txt': 3160,\n",
       " '0268DC092C68E52CE3D6389D147D02A12E55FC87298786FB1DD11C1543CFAEB9.txt': 3161,\n",
       " '026A68FC90CA44653F720F8EE1E75808165C7514C558101B71BBD35CD0F777E8.txt': 3162,\n",
       " '026FC2AFA0F672CE743E2142057836430D777391BF51FECA5D0E867433878F14.txt': 3163,\n",
       " '027CF551C29D1C8095E124558184F8F051A13A956D82896E26AD02707E4C9277.txt': 3164,\n",
       " '0284C332CB72448471A1FD50F05AA1B9897E30682A839F1525ABE116AB730805.txt': 3167,\n",
       " '028BCC67D228362DE30CD9702A5B177FCEEF8838367A761B65D9C03AC37FFF8C.txt': 3168,\n",
       " '028FCD3FFF4E55C44DE352FDAB1517FD5AEB7C764F4EA1DEC74F77C4794C2A96.txt': 3169,\n",
       " '028FE2B0B1CB75671DE6EC6A92F8CB62676233F112500A48A5371A6615EC4905.txt': 3170,\n",
       " '02927F9B069F32F2A7D77828824837B18828C9E3595945FCA4ACCD89E92B2EEE.txt': 3171,\n",
       " '0295331C4CCB36CAE9F8D95553A943C858349C113EB08CFB26C2E3790DA7FC7D.txt': 3172,\n",
       " '029A79E422E26F34E4AE01AAB8ABAAD377A9CF41F3C13F97CFE2519E3998EF15.txt': 3173,\n",
       " '02A0E20C4DD1D5B56ED56BA366C63D6D83AD7AA86E26D17875C83BDB0F968645.txt': 3174,\n",
       " '02A74275DE8CDA089D092D18FA2F4BD46DA684B7924BA77932B2FF1B4E70F372.txt': 3177,\n",
       " '02A8AF63FA599991807A42657EC5FAAD6508B02AABAB4FB8EFA6B578D84669BF.txt': 3178,\n",
       " '02AC5C9F050544C5787A8C513E7FA1E3F752307C0282926B1C37B4F5605B4ADE.txt': 3179,\n",
       " '02B0BDD1A641AD2ADB5F337E73012598EBAF3776B7571E9109A342554C61B887.txt': 3180,\n",
       " '02BE126D7E583EC2BB38341755F6695EF052EC01B971FD8C5B415DD32CEA1680.txt': 3183,\n",
       " '02C058FA176DB848F79D41D6C5732FBF013FA2E901129B7E254C9608B2635197.txt': 3184,\n",
       " '02C6764266E8D06345095BBC384594F3203439FBBF53FF649296A66AA4C6E763.txt': 3185,\n",
       " '02D046902262EEF1FA7CEAD8581E35BA718D1FB56B4C4AF17B089FB21464E1FF.txt': 3186,\n",
       " '02D167719E17D641A3A8097DE3F08FDC60DCBD0D5900AE8B519BCCBB6012970D.txt': 3187,\n",
       " '02D36B81FD6C8377406A44AD7023A3B15D7F72E71492817C0EEB1CF8D597F0F8.txt': 3188,\n",
       " '02D448DED12F7A30CC9C3EA794D4B3D22E2975AD48F7FE6C8F247CECFBEE8AA0.txt': 3189,\n",
       " '02D4CD2CC90B09E53283E5B78445A1BC9613BC6E084FB45A705EDB10B993EC72.txt': 3190,\n",
       " '02D64B8082AF43254354024169E27EBB8029A82039B51DEDDC31AF7AADFAAE39.txt': 3191,\n",
       " '02DAC027F1DAB1755926CAA552E1DF465357DE77DD3209A281A81A878B0BC28F.txt': 3192,\n",
       " '02E32D1477A08B0AB74B56E82814A262E50BEC814654073354169694738B6603.txt': 3193,\n",
       " '02EF1BC02FFF585C746072C6D216B2A63B5F18894F27049A380EC244FAC6EB0B.txt': 3195,\n",
       " '02F2755307C52524BBA0C640940AEDC41E289CB50DA586A3CD4A9170D652AE44.txt': 3196,\n",
       " '02F34830E40D0F1B57BED3D01BFE5BDF5B267F092620F46DAC2B4A5EFF227600.txt': 3197,\n",
       " '02F349B889F984F471BF18AAE171501CBE6E518CFB7E4D8FEC75980684D7BB7C.txt': 3198,\n",
       " '02F456A0263A2D4FEB0F02B1CC24EE666E1144F7312C1393A696DF0B0FC72C57.txt': 3199,\n",
       " '02F66A8AA954736E439499AF2B200FF33F05EDE9AC84A0E6946ECF33CE99465C.txt': 3200,\n",
       " '02F92D545FF7F3373AB69791C28C1542B8D18FC13804D35F4D1AD272BDA4E4E9.txt': 3201,\n",
       " '02FAA9D4EDB4035E2787C9D672AADDC66614F59E99B492304C59B4D67274A549.txt': 3202,\n",
       " '0303A0FE215302A1B93F629B47046892C264FE56A9413FAC68AF7862DAA67B96.txt': 3203,\n",
       " '030C9DAB3DA9BDBED3F51FD3E90F10292227595E76A8744505975FFE75E07DC4.txt': 3206,\n",
       " '0311B064A93B98A0231F64524E44F5D17913FDA0DF7BF2DF92C94B1E74434577.txt': 3207,\n",
       " '031D3393243B8820DEF7B3CBC53B840487E547F6F0C5AB9D96C22946524C6B60.txt': 3208,\n",
       " '031D7B423DDC94D8F608AECF0C9E99F2294F669A4D6AB58BDAB3B845BCE92A44.txt': 3209,\n",
       " '0329E11F88BF2B28CF51D8C7FF18EEBEFC88650B8361E1859C01DD4ACAAACCCF.txt': 3210,\n",
       " '032D918AF26A997ADDF98AF774EBF0F8B18AFB7DD5D28CB6D26BEFE36BA7212A.txt': 3211,\n",
       " '0333890C83D33F4CC133F4AA1CA37D0ED43E7CD3404391D13C8CB141AC8560E4.txt': 3213,\n",
       " '033424047C97C336714AD3015491D5CF5882A03275E42BE4E2A19BB3E3FA0765.txt': 3214,\n",
       " '033899E33ECA1D5774D164034BC381F3D0AD103C16F2C4F14136C836006F80F9.txt': 3215,\n",
       " '033B74F51EFFB85CE4D02BC5CBB5D2C7A57E56D3D7AA0C2D53B544CE8F13BD00.txt': 3216,\n",
       " '033E170C410009E4D203267512749C0152DB8C1B318B64754727B751A79F7A58.txt': 3217,\n",
       " '034B97B3F09E7BEF25D316EACAEC1B2CCB3F94BF2BC7E49E276CA8DD8B600124.txt': 3220,\n",
       " '0350B338D763BFFA05986C885BEF5EA1E0CBD38C7C799437FA8B94A9788DD35F.txt': 3222,\n",
       " '035A3420114CE24B94C081A62294671C3D441E1B503179317907E3F1C6D7E213.txt': 3226,\n",
       " '03700698E18AFFF7D549311CA04C96C4AE0DAE011D38E61F60CE7EB12158AB86.txt': 3228,\n",
       " '037007FAB1361D2D71DF25780CFA21CF6D6E4FA27E9A36ABEB1678905BD5AB18.txt': 3229,\n",
       " '0379FFDFD721A5AE776B3064D0F93CD6AD0C6FE73622614A25FC31EE4DF7F477.txt': 3230,\n",
       " '03849089EBD7F65FAF87D04F874555DED703620C526044F704B92874BF8A1960.txt': 3232,\n",
       " '03979B6274DDC026F367C582C9404396765635B932282EAB4C7DEE2229103F53.txt': 3234,\n",
       " '03A192382EBEA279DECCEF789DE7CD14DE0C2204C3FD1FA8ACC1011C00B24F58.txt': 3235,\n",
       " '03A3C30460F336D530B09A4C547424E849F5D5EE9B8968F086EF52554AAB06BD.txt': 3237,\n",
       " '03A5205F5770E06A161C592DC1798E78D84E88D5028E5E14B5462B91CDD06162.txt': 3238,\n",
       " '03ABD52690C9D533198378E65598CD6FB507684EFCB2F857720250FC51D8A0A1.txt': 3239,\n",
       " '03AFA67855F1FDF153C36D85B35D65ED7DD32715634C8D2280DF1F9F74031BF6.txt': 3240,\n",
       " '03BB954059171F6FDEB2E2A133422AADD2563F30D1ACC4773F258039E514928F.txt': 3241,\n",
       " '03BBB7A74472F6B14E0A1790A04EEEDCCB90E713BA208994256BF128F025DB04.txt': 3242,\n",
       " '03BC28CEEC834ADDF8E4FE9B8EDDA9B2D53F952D5035CEAE649B644D1EAF67B6.txt': 3243,\n",
       " '03BE08E930060A446F15E625802A575E03FB673A2EED514E03E60DEDF1D8A5D4.txt': 3244,\n",
       " '03C0F8873D94A7C9FC5C615EF55DAED036217FDCD649F5FBCB93A3AA910BCE71.txt': 3245,\n",
       " '03C240175059F031B6FE1A4500FECA4AE8C23C656233C0ADCB2CDF359DDA9311.txt': 3247,\n",
       " '03E059561F4018F395E7C382B02B7072B681AB4C0CEE81BF8495D08DB50AFEC4.txt': 3249,\n",
       " '03EB5E48921B2624BA0B517BE7E4853432F68A55098A04957AF8F01A9D30D629.txt': 3250,\n",
       " '03EC87982117E83502D1BDD77127A8E320209D86CADFC097D038278276D63254.txt': 3251,\n",
       " '03EF1D86CFD9BD171AA50F4504C5B8D6677AB275C1C8FAC6B495A89693180A8F.txt': 3252,\n",
       " '03EFA13D3A64E0070F8C6E0706D52B5DC27FBDA99B360A286C28869D651009B8.txt': 3253,\n",
       " '03F4F65A7B6529BAFC6A2F1037FB772727D06CF5B1070C7AD3614F60925FE9AB.txt': 3254,\n",
       " '03F6FE8152210E700FA27CAA7B3E2B1599C5A418EC3BD5B4BA99CAB41A33914F.txt': 3255,\n",
       " '0402E739B58AE763A966B594ECB48A3E8ED8D3A58D8951A10539C7691229AC85.txt': 3256,\n",
       " '0405E075C3FAE6C5E35225473BCB5F7EE6C4110AB8AC6B668EE7D5319E88D6BA.txt': 3257,\n",
       " '04070B87838BB2D350DDCE32B12018AA24B4553FA7767EBAFDC0A6898ECFC87D.txt': 3258,\n",
       " '040791B5E695162EAFD3EC6D9BF4A42EC453444CB0669ADF33848660736D137D.txt': 3259,\n",
       " '0413F967393B5C1FFCFF445E257E3B279E5ED8AEB542ED8AFB5D08BAD8C9BA32.txt': 3260,\n",
       " '041464A1D5E3568E4725422675CAB9997AC9D1DAC806F8E595B16278609A27B2.txt': 3261,\n",
       " '041519F06AE85B3C124CA4C39C509F862D9C59110C3377C0E44E4F7BBED769DF.txt': 3262,\n",
       " '04165AAC46B37F578EFF89E7B3A871396B24A2BD5409307F8FA3A74445C327A8.txt': 3263,\n",
       " '04195D30915DD33676B79E50F421CC40BC61CAFBF35F0AF3A6E8D19F68956D72.txt': 3264,\n",
       " '041AD854A81C9EE2F1D81E198E1A8F5BE6E0442F92307FD4167FB30ED61A3BC4.txt': 3265,\n",
       " '042F4F400A79D123E756413ADB3E00865F782E5F3EC0CCF14AE06AEF78DC3BAE.txt': 3268,\n",
       " '04329B5B31D3A0B52DF36880232C533082B535C461557A37D42BFC61E92A603B.txt': 3269,\n",
       " '043C3C83877B653E4FB7CB03EFD4678D4E9B4689869BD94DB73C6236C8952CC0.txt': 3270,\n",
       " '043E08B62D8A4BC00FD31500C17A11801AF62083BD3A21F9A5D1BCE48EAE159E.txt': 3271,\n",
       " '043F2D1A3DD7828B64B94E41D2C4CE7BCFA9723463CCBCA9759499297F84B40E.txt': 3272,\n",
       " '0442ECA3F69DD0290B243890BE6618FAF3957513DB52F36AFF4B234686BD707A.txt': 3273,\n",
       " '045005FAB5F09F2126005AB770012AD2E31052B0961C5B394D20E65119D70900.txt': 3275,\n",
       " '045674EBD8935B13F03F934B5BAF3E62A23FC2C93B66AF09563201EF1EE22D42.txt': 3277,\n",
       " '045FD5711FB891F5788ECEA645C80D8FEDC70572CEAC096545618023EABD91F9.txt': 3278,\n",
       " '0467737CF1744C5CA6C73DE893DBBEFB55D35131A0FB473236682EC671C67CD3.txt': 3279,\n",
       " '0469E8414A7F0B0F16C0D180148E459AAE6F6C9965F42BB324CF6D3CAB97F4CA.txt': 3280,\n",
       " '046A1FAFB3BD809F75400F471A24B983373229A01CAC5996E27814AE3272DF44.txt': 3281,\n",
       " '046B4980216CABBA64ADF8C8CA17BCFF86DEF9F67DC861975977F3026EE759BE.txt': 3282,\n",
       " '046E701339468E76950866A752CA3BC29621EB60CF820CC89C95226D14136353.txt': 3283,\n",
       " '047375D5223E652566B6F548D39F5748548EDE3B34D4CD1546088BDD4ABB4DED.txt': 3284,\n",
       " '0473FD6776543AE73761207EB69612BA01CBE8C8C512EE50F256D37F44FD7498.txt': 3285,\n",
       " '04742B242C5D401E9B49F49852DACD05C1A3132C35BE8B0EE606B0BE2988D411.txt': 3286,\n",
       " '0477A9892989320F487203D34BAFEEE5FD39EFAA8CC8F6B5C55215F53427B53E.txt': 3287,\n",
       " '047D8CDC1294D9964FF7609F99DB2ED98CCC34BECC0027ECBD6427C217023B0D.txt': 3288,\n",
       " '047F0F2608A93D8E9699FA83C11AD8A0B6786BDD011F38262F8390CA0489B514.txt': 3289,\n",
       " '048DE4CFD458F92C020332E06690E91D5B9D54A0154BDEDE9D6FDFE03BA6862A.txt': 3290,\n",
       " '0496D33DB01FDFDEB8BA833EB2D4A26AC1E5988A71F596C47EC033DB622B6B2D.txt': 3293,\n",
       " '049CE9C29C87F685E91EF4CC4BADDDBC273CBE5B241DD0CF657392F0D5CB67ED.txt': 3294,\n",
       " '049E944F2368D26D1D540D60E42AE2CD6122B18D5C6E2C91CF9A8163DBF1392D.txt': 3295,\n",
       " '04A292C3951ABA1B04F4201A67F4CA88B18C935E47FEA17951105AF031F4B04C.txt': 3297,\n",
       " '04A7082FF3267E90F61BFD8FCEB98969CC7CE62BA1054EC882DCC0F3211D7E29.txt': 3298,\n",
       " '04A957D77655DE33337A0FBDA415F7D42290D85D08E5362B9CFFFDA76068D291.txt': 3299,\n",
       " '04AED9A0FE87F3BDF5178DFF0177106F8C1C6A2FBDA66E78AF259918F27FDBD3.txt': 3300,\n",
       " '04AFA61DA95463429480E1EBB7CFD7E2B7CA57C2BB3D287C88FAB65E04C12105.txt': 3302,\n",
       " '04B844622AB7FEF51ECD03B4473D2561DE5779AB512BB402262AB63991F0D627.txt': 3303,\n",
       " '04C484405142A8869FD6FAE1E660486745988247F17D06A9F6D29FCCD3C24EDB.txt': 3304,\n",
       " '04CA79B8EDE2487DF23AFFA80FA0CD48AF14CE8AE98D6058EFAF74EAE33C0F36.txt': 3305,\n",
       " '04CC587CDC41E3E2EF6DA12BD1CA84E434CEDAF45263250C1DA2A9D47B3ACE9F.txt': 3306,\n",
       " '04D13F03A5E47F7D5661B93F3773B0986952FF37329ECCD2F7905B5199157A6D.txt': 3308,\n",
       " '04D3E3DA3876469EBA683951AA0DD4813FAF2710220D153CD8AB8D2A997D8A0C.txt': 3309,\n",
       " '04D3EBAD93BD8A8DB14727EF557B754A57C957CF367CB95B27C972B83B3284D2.txt': 3310,\n",
       " '04DF0995DC714F2A0FBABE4211DD49B1204F329DF9B5A5F17949ED33AD4447FA.txt': 3311,\n",
       " '04DF843AE41CB528F2EE3EE64627626D5FBD18FBDC75E3385C2EE7BEDE467459.txt': 3312,\n",
       " '04E630D3D9D09B49E06BB185A8F7D193DF9EC1E3D4DF5C1FBD033588F1A781B5.txt': 3313,\n",
       " '04ED47E5D538701DE3A8B605F15D69AAB3F28D53AAA7CD1CDE02C6974B599F46.txt': 3314,\n",
       " '04F5B2D39A3A3E3335123EBE3B6511CC7B78371FCB122C9D7239D12FE34CB89F.txt': 3315,\n",
       " '04FA11CBFA70948CCBD04D4E44542090A3865DFB355C611107CC619E521B21D0.txt': 3316,\n",
       " '04FD180A2BA705351162B0B8D980F22D7D3E4256DAC5A6BFA440F015B69B0009.txt': 3317,\n",
       " '04FF35DCD93B57BA0082394FA4811FE3A46031BB40B50A25001CBE60D472666A.txt': 3318,\n",
       " '050251D3DD57621AA252C784B8920B9989803B76D315BC199401E129BE034C3B.txt': 3319,\n",
       " '0508A97EA26E7E22182222B5F333829482631BDF56F5B7E20A236C51CDEF3588.txt': 3320,\n",
       " '0510BF7EC579CC77E86E905243744D4B096BA0CE4802461D1A5BEA2D92118793.txt': 3321,\n",
       " '0511D6D2ECF33E6B435AAAC5583CDBD9E70353900196A2322EB3AEBD85803A67.txt': 3322,\n",
       " '05199E520639028CCDB79059D9AC74E314CA47B683BD4EC029E0F049142E7E6B.txt': 3324,\n",
       " '051B21C7A8D15E010F71EEB85F517596F46B0A8757F7C1D7A6C908F1ED47793B.txt': 3325,\n",
       " '0526FA71792C596F1B1E2E2D766C0E286B564C007A62E7481AC38284DA749A8B.txt': 3327,\n",
       " '05304434220E0EBCF74AD2284B128B25D03C710084F4F6AD3B3EEC4A1ADEC1EF.txt': 3328,\n",
       " '053323B6D888A71F8EB6E15C5A7504A55B240C9F3F04A9288FBBA5AA9780F456.txt': 3329,\n",
       " '053651E6AD5F6E6BED5E7D0E68BBEB03DD5E423041077076B9B465FC804EB5D9.txt': 3330,\n",
       " '053A42F42A2CEEE17EDBBDB97E85609124C2E7AE3D4B93A4DB9AD131F636D863.txt': 3331,\n",
       " '053E617768C8DDF956215EE74B66009A1719C9B0F191C0E2E1B1D62479F3BA0A.txt': 3332,\n",
       " '05467310DF4181636DE47CDF541A5CD8FB4FFC4B536DE201CDBD94D261D89246.txt': 3333,\n",
       " '05478E2B61BF0EC438AFAC054681C315D9464F57DF014C00F61EBE7D3E46613D.txt': 3334,\n",
       " '0548C9D472F4C7B6E9D1B063D137BCEE1FB052BBE54FDA7911FE1382C20B2DBB.txt': 3335,\n",
       " '054D5A9259E46FBD1D17AB2990F229B8064D8A3A3DCE267069C9C390C8818F84.txt': 3336,\n",
       " '054DD3B026DF799AB0B274CA7C87C0AD6853BED087D1E803995AEC6C42B1C9CF.txt': 3338,\n",
       " '0552566E4F4C45DF52DF2ECA4FE9536CA7FA898A392E3D821219856B9F238F3F.txt': 3339,\n",
       " '0553A6655590CDD4B1DD0F963D8DAC9BC6761D3EC7801108F0E67F09BAF84949.txt': 3340,\n",
       " '055BF5607B4696EDA8D6BB2842CA50FFB39341D6C8F025F3D3F708B03558EC4B.txt': 3341,\n",
       " '056126696603BAD6F0C6B49F8E6FCA704194AE88D5D0751D66B7F8397850EEB3.txt': 3343,\n",
       " '05643B711BB686A8956B0BFA8248FD57F7FFAEED1E5BA72A4BE94277BD30124A.txt': 3344,\n",
       " '0564FACDB381A815CBE72597A9CAB734AB2DF60A4E062C5185ADEDA75ABC0B69.txt': 3345,\n",
       " '056570109A20189FEDE8ABBAEC107990E941211BEB174C42F12B2D8805778729.txt': 3346,\n",
       " '0567679B6728E8C7D47D72398CF9A5342EF09D728996E345C4BEAF07C0BC9EB1.txt': 3348,\n",
       " '056E553273C145BB5CD03CA3A50F0D53A4BD618AAEC7BC8C217CFB49F3518448.txt': 3349,\n",
       " '056FEC6159C63C3C1CC328F1C1066D40AB8C60F655B2F0B0274E11267BE6DCEF.txt': 3350,\n",
       " '05710BF83ECE6D7C5E1C01B7EA75A77472B1639EA0AF1A647410CAFE68391E49.txt': 3351,\n",
       " '05791C4BFF09F7B4FCF8EB9773813D88F662B66036836195FA2817D12494D9A9.txt': 3352,\n",
       " '058107A99912BC2D4659E4503B792FB9D83503906F5B1DD81004A2C646F8FCA9.txt': 3353,\n",
       " '0584A16DC4F3E4A1F7DCE665492493040575590727046C434C590AFF3F802B78.txt': 3354,\n",
       " '058911B727DB4710BE6EBE3D13BB16986049A5D8282EBCCA6D8552E09F74DA8E.txt': 3355,\n",
       " '058D2634B4128ACBD929FA94289734A6D919B36D0062261FE448550579204E8D.txt': 3356,\n",
       " '058EAE24D16BB1E930D90AF601B527E37E127A3353ECDF9B230B1490B24C4A0A.txt': 3357,\n",
       " '059263C2CE82B45FC442B710B13FDFB814E03AA40D59BF189AE95533398D7B7B.txt': 3358,\n",
       " '05998FA7E04FCD6054576259488924829D6697D6FE6641984763460EB2BE4D1D.txt': 3360,\n",
       " '059B3AE6A97C640F509B278C0D5733F09584F564FAF8823DDD653EB94BB5E7D8.txt': 3362,\n",
       " '05A5F6A464CDA0B501E84CB19FF89358E841EA254816A04A0727E2040C53EA70.txt': 3364,\n",
       " '05A9A954CFA80DD54592C866FBAEF3A7A80B4484C589E13AD84EFCC5F514D173.txt': 3366,\n",
       " '05A9D6B37AA59623BA455033217FC95F993D875CF5A8798AF0B106D583BA00AB.txt': 3367,\n",
       " '05AA1BB18F5C95A053B66E7131D954EF51DD2DDD109AB3018CDD3EE6F1A7569A.txt': 3368,\n",
       " '05B3CB28522F1A4C3DED6EF652715BB9AFF09DA6BFE972C9CE354DF55717360E.txt': 3372,\n",
       " '05B58F13E8A107FBB8114CED47D3AF327D60F551C285EA2955303FA0C1D4A32F.txt': 3373,\n",
       " '05B5CEF5B8C1850FB033250DFC81B09C5472D3528278677517402286E4C3C53C.txt': 3374,\n",
       " '05BD56380F141344564FE3CC1CDCC36DCD545355CB8581894DB662C226F96AEC.txt': 3375,\n",
       " '05C7FC6B40156C06972508885DB4C3F5C67091916EBA0AB3ACDE61FE9C2EFF04.txt': 3376,\n",
       " '05CA81B95FAF0739BEC5EA3EEDE8E7643A13091CCBAF73EAD408062CE591AE19.txt': 3377,\n",
       " '05CBED0BB8B6BAAD6C268B771B9C726105BA898BC891E7D6C595F7490D4F6E1A.txt': 3378,\n",
       " '05D0C9AD8CA20CB3520A1B548801100A313F73BF69AB857CAB4C3A7584AAE926.txt': 3379,\n",
       " '05D0EFA7A829B2A2CE0DEDE2F5E90B85929B0C9EBFC2AF65745FAC0F140AF324.txt': 3380,\n",
       " '05D5E30C0FE64B242E8FCC09612B996C9FD9DC3186BCE33F7E308960344D03C3.txt': 3381,\n",
       " '05D60CC58CCC08DA83E1C525A9436C72B8E2010224918A8A4E3148E42882A69B.txt': 3382,\n",
       " '05D95B15613CA99B53037AF3A3E582ED3AB0490CF8D61A1C289E402EEDE4A5AA.txt': 3383,\n",
       " '05DAF182C382DCAB6F02DB907D02FA6CEC038607A8CB42BB976649C42AD771D6.txt': 3384,\n",
       " '05DB64CD9C3C11CDB9EF316D8CB81522887CA14CA0143515F5B604C450E01CAD.txt': 3385,\n",
       " '05DC2EC0B6750A70E9B57A6E89EFD5B22E0F8CAC1D082A3A4415F0A38FA95A46.txt': 3386,\n",
       " '05DED0E1141C3C433589038709640576BD6290B82221504F4F0235004A05DE1D.txt': 3387,\n",
       " '05DF4A782D1EDF92D1C7E2EC465B60D61C61906B7679FA5563F2F0C474CC057C.txt': 3388,\n",
       " '05E180E1A6990F09ED4A749E1DCAEEA6EBC0A24D12EB8F1B06E659D0241F3A08.txt': 3389,\n",
       " '05E92486DC6E01288D3DB0A2A465FCC0BFC387970FA563C55E667CF96A2791A6.txt': 3392,\n",
       " '05ECB1A6AE69CBA7153AB0A2A6CCA769D184488053ECCA54B799A546D407930A.txt': 3393,\n",
       " '05ECE4ECF395E129FC96453FEF7315DCABEDCDBB5C649E8D86F81945CA89ED95.txt': 3394,\n",
       " '05F0D06DEF979108CD5E8DD665494012ECE28A756DB57E64F73AE77005359B49.txt': 3395,\n",
       " '05F128C23A839B4DCA749548285AB9F35C562292827E0DF78880E2D0DCC0E1C1.txt': 3396,\n",
       " '0602FA769D8FC4620CAEAA63701C10AC68DF360B0CB47B841E881E6AB5F00586.txt': 3399,\n",
       " '0609BDFCC4B4A16BC2FB2D8F61C4C1EECC63BE7503A0BA131464A98E8FC89E08.txt': 3401,\n",
       " '060E3AFB534344906E6C86D9115394FEFF2095DFC15D6D992EBFF461143F0D28.txt': 3402,\n",
       " '0612D8C0139B521892D88BD95CD2A6F93AB96CE4CA654655B748A813460C11B6.txt': 3403,\n",
       " '06151585ACD74A9460E75E508CCFA6905D0819FEE5A2B86C840404463343C7FB.txt': 3404,\n",
       " '061D5B342EB309FA43F5949C52A4730A54A42FE066C93144533B1888BFBC7478.txt': 3405,\n",
       " '0624797D5D1FE0D6DB67C5450AA206527C20B5CE65DC881C864CCA34AB279F5D.txt': 3407,\n",
       " '062D6586B05F740F994A8BB03EA76A031C06DD0EA932024CFDB28C88782B2250.txt': 3409,\n",
       " '0631F76D0CD57D813FC56C00D8D57183B1BFBDF63CF179760DDBD4286C47B53D.txt': 3410,\n",
       " '063664F61CD88F30935E1D2FE7B4DACCEE7897747751A25FC6310FDD9F83D24E.txt': 3411,\n",
       " '0638224ED0C5A64432AA33B53A16CCCEC8146F2FB120E69B3A9EFB5FC46EB36E.txt': 3412,\n",
       " '063890E59ACC4310DB7F4840D3F119EDE066BA3051D6B6DAF5A0C542220D3946.txt': 3413,\n",
       " '0645D38E300F1ABA7377F89B6047049CC0E09DC15E1F33539066478C25FB5F4B.txt': 3414,\n",
       " '064A4404A45C4016E5F15CAD15BC53EE5F0F72452928FBEE884EF41F34E85804.txt': 3415,\n",
       " '0650F5E44F936770BCB0A9D423C6A1C3E35B73884B22DD6DA045CDB246A8EB65.txt': 3416,\n",
       " '0652E61F7DA1123D04C0873AF1C21E4AEDA63C23052D7E7CA3605D92BC8BC350.txt': 3417,\n",
       " '0660200F37195015FAF05237259CBE76D2B52727271A36592A74177C3BA25F59.txt': 3419,\n",
       " '0664C7D2C8049B6FE666F6B932140D327C125861035A48ABA9B2CE71C0893806.txt': 3420,\n",
       " '0665BDDEB256097DC24C7DE5E1ED972C96F9814D740D4EA4B61EAB1799158C1C.txt': 3421,\n",
       " '0667EFB096235E2AAD4D8CB9AD00DACA0866AFEB927872DEF99F55BE576156A3.txt': 3422,\n",
       " '066E54C1142FE96D241F6D92E0A22B6C306FAE13E48F403F05C2B3AAFEDF8212.txt': 3425,\n",
       " '06701035CF37B881C9D59248DAA1777ED24E5CAF2B5620E35E88738260E89CDC.txt': 3426,\n",
       " '06725AB9970875193F6967118813323B4349F7DF89C2D38947156F1F40C336EC.txt': 3427,\n",
       " '0673F1FFE884B684C64B9D476880D2B35B865A19B54CBF05ECBBD3FDDBB02926.txt': 3428,\n",
       " '067BAE388D7575D4AD8004703811018DEF5EC94DCD5C4D62A8AEFD5C2E85B15F.txt': 3429,\n",
       " '067CB69304F7AA120EF3B387BB29C467E6F421720534F405928E5D0E552AD823.txt': 3430,\n",
       " '067FC9A9583CEAE69AAC4EC8F2228D609719381D20F405A2E11D151ABE5CC5DB.txt': 3432,\n",
       " '06813190D8D9F0469997813DC5AB76AC4D401751E279DD34F207AFB155BC2130.txt': 3433,\n",
       " '0681EB73C2E3E02CD29702F474443AE1DC41AEEC1E00487B3D1F044474D64E29.txt': 3434,\n",
       " '068649FC38B4191B0C88B971C2FE5135450B96FEEAE0CDF3843405D3EC2748BB.txt': 3435,\n",
       " '0686AE4D359484137AF82DD075733687AAA6798B6288E35C7FB6FA2776F8B8CC.txt': 3436,\n",
       " '068719557F42B1B77B7F4CA0AB3EBD08D2B7B348A0901897D3901652E338A0B9.txt': 3437,\n",
       " '068B23E625719E3394BE506BBC091829557379527E042693E33AAB597B4647B6.txt': 3438,\n",
       " '068E0C2C60447743AF10C5DD86717E09041BBB1DA261F057EFBD196FD4C34A7B.txt': 3439,\n",
       " '06914E7F35F4280C0F122EE96F1D7BD7712540CC459E1FFBE630D5123DBA18D1.txt': 3440,\n",
       " '0692629BC86B99F2B2D0D828601E3DFB68342549C24B616B9E31B5BFFE2EEF9B.txt': 3441,\n",
       " '0697466FD23271B2C0703683962C8FC4C9125F0370EB38132F3E665F1EA639EE.txt': 3442,\n",
       " '06AA076E63017D31349A2AEF05D36407922FD0D2043DC8BB726822F1B42CFC51.txt': 3444,\n",
       " '06ABD32912266E10328DDE5E3C7340218E521B8A3E6C81D6ACFA942E522367C2.txt': 3445,\n",
       " '06AC69338D98E0B525F9982D9F554944ED99CEE204A396373F91592B5346509C.txt': 3446,\n",
       " '06B01CB8213A66339D639E7979CAEBC38A1DE9A656221ED723AAE1A38B7C8E0F.txt': 3447,\n",
       " '06B13B1E1168DEC1CE26C1544F6618A79BA17194B39A27DE1B4C840A293E712F.txt': 3448,\n",
       " '06BDAA8D401FB9A42A1DD55B5EDEC2C00A679235BA833A742F86048967ABBCB6.txt': 3449,\n",
       " '06BDC5CA766DA146CA09EBF19141AE3DE4396944366DC29698F39E6B2481826A.txt': 3450,\n",
       " '06C04E444C2A96C74D0FD3039AFC15D2B80DC1CBB8DB9C8F174EED437F0394BA.txt': 3452,\n",
       " '06C17409F088B55AD164369C66F8FBB542B2C9FDD63A467BD48BE5ED45250ADD.txt': 3453,\n",
       " '06C213CF54F09C6CDF45328B8649735E32A4A89DB8034F9BB39A71BA70D1EBF1.txt': 3454,\n",
       " '06C8092BBD71776E26E35FD60F2CE514559BDB6BC36DFA1A2BD32DBDB74364E7.txt': 3455,\n",
       " '06CAA7801A8877654BA654359BF2C085690E0DE00F37706F2B4753CD010E9B00.txt': 3456,\n",
       " '06CF872EAD46B97F7D3EABDA6504930848BEF200A83CEF1209B6290B1519395C.txt': 3457,\n",
       " '06D1D591FB13F62A662C3CEF7E9C332F64DEE2D8A7CD455E3394B22C31A7E718.txt': 3460,\n",
       " '06D5C7C40E6B800C9A2D025869BC7F71EB149B76FAB8135197DBBEE27E79EDE7.txt': 3461,\n",
       " '06D5E820389B4F1723FDF34C3B746993D6BC2040584494EF3062FEEDF75316C5.txt': 3462,\n",
       " '06D61899CE7102018A407899F795B16E298B7FB52E0A4656FB91997914E003D6.txt': 3463,\n",
       " '06ED5715775DAD9F8B02996B505B58DB5CCA51DAA343E078D5892D51CC42C149.txt': 3465,\n",
       " '06F0E33F5700BA933B729E01613E6FC6274AE6952771121D8A79559A09212F14.txt': 3466,\n",
       " '06F5CA518AF03788CAA32AD9C3F3682BFFB9B4B33D99BED642E78B2F7B305AAD.txt': 3467,\n",
       " '06F6988EB060326C923F52E9B19B34462D2B8D38D47D537D9787503AC3FD2B12.txt': 3468,\n",
       " '06F796B305A77831EF82B51A9352507D784F800B8D09D0C975A5690DF2EBD8A7.txt': 3469,\n",
       " '06FB0F1602144957CEDA642A8B01F88E0A7D9B7769A9E9F5A98B38CFB70F9A23.txt': 3470,\n",
       " '06FF4D1B50BD6F61D040B5BD72E6FE740EA38E7569695F875F2BCFE7C4BBE6D0.txt': 3471,\n",
       " '07037D940A0AEE672DBB2D543F39F0029E42D381BDF30428385CE779779FC85D.txt': 3472,\n",
       " '0703CBB9593F32736E335B491A790C753791112CAC1BD916ADC8F632BA341FBE.txt': 3473,\n",
       " '0704C85AAD69F391B17B7EDBD19C84CC893CE53FC31A58622D2C1CBD60847140.txt': 3474,\n",
       " '07123119B5794EFD4EFFB276CCC5F3A63D24843A044399182358DF596DA7107F.txt': 3475,\n",
       " '0717B5D8CCE91245E607C7BED58F2F92E0EBBF2629954BAA48CD0F65D44181A9.txt': 3476,\n",
       " '0718FFDE322314DD3E04093837389E70F5852DEE45D2D4C2939D50276BA2E25C.txt': 3477,\n",
       " '072391239A50D0BFD91CE7916858E43B93ACFCA9D23450A0EDEE06535EDE4721.txt': 3479,\n",
       " '07266194C0B3EC9C32C39F5F6C684D5D0D3877F8AC2D70E7F399B751A3FD68F1.txt': 3480,\n",
       " '0737A6D26C60D8BD579E0C4AE2184DBBB66A753BCD23773CFC0F2228EB63A893.txt': 3481,\n",
       " '074BCE1BA657ED551A4C6D20E2EB789A7477EC2C505A0EFA34664F79495224F6.txt': 3484,\n",
       " '074DDBC511B7FC6D699F2A4343F1CF4A910AEDC4DFF375C12213F267915A2DA0.txt': 3485,\n",
       " '074E298D731DEB3F114D5D85C103AAC48EA4FEC7A65DE5F1ABA05EE52636DA1F.txt': 3486,\n",
       " '074ECFF39002DCDBADCCD068C086C1CE555A5CDCCD97E160D6FDBE0D701255A1.txt': 3487,\n",
       " '07515A0B2E40A6A191ED91C0F085E824038CABAA2D13B01688D225CC76D5AADC.txt': 3489,\n",
       " '075357D89A911FEED25C98498DA0DF39217E7F7C1E5319B33B9328ED6861B351.txt': 3490,\n",
       " '0757055C9C974F0A951B0B861B086601D62D4F4ADC5727C5C16E9DA042A3552D.txt': 3491,\n",
       " '075724076BB328F44BB5B0ABC4F2D2C656D59E0E9E08B2EE3E85144F61594238.txt': 3492,\n",
       " '075E11980D959675FF1D7C035814A6440BD63A830F3B4EC367DF600FEAA5319A.txt': 3494,\n",
       " '076202627EFFD545C727747659C4148F346251BF1042AD6A258CE3E23FDE2863.txt': 3495,\n",
       " '07640CB234134424855533FB7CC7D2119B3FE23DAF64B4F952D5245E95A5BB14.txt': 3496,\n",
       " '0769E89FB23D002B049378C617AFAF232090A6C77675E7D93D0C8F1D675E913B.txt': 3497,\n",
       " '076FCB8419A133C50B10BD7E8AFC5D1621DCEA3873919128E6C3DB1FB517952C.txt': 3499,\n",
       " '0777DAE268782DF11EC1CBE2CFBAA0CE930A63A6610D166EEF2571E844A0837A.txt': 3500,\n",
       " '077CFF3AD0CCD738B19113DF0897FEBD304167CF5D468482C1AC4F1A11FF9156.txt': 3501,\n",
       " '07853E241B5DA92EE023DFD15C82D832091D2323CCF949261E76357CC460CAF1.txt': 3502,\n",
       " '07881A5693B64519F0222F57F235F16453281C1E75D6EDF86D576D89211BE1EC.txt': 3503,\n",
       " '078CDE1D899EE929F46E4C83DD3EFE093F63B3DADBFB3857F635599969437D1B.txt': 3504,\n",
       " '0790CFFAFF9A5CDD7B0C9A70992BCD14696D04379ED413E0763221D9A3F3923D.txt': 3505,\n",
       " '07914AB80285711F2BE44A8F2951BBA46318AD59E3C103C2F7814D3C28903AE9.txt': 3506,\n",
       " '079760DCF2657225662A580F01BCD93757143E43379D78334B9CC68A599951F4.txt': 3507,\n",
       " '079D9E71622E62D808666CF0CEEBE6ADD0DDF2A4727380B5D16FEF649F680FB2.txt': 3508,\n",
       " '07A29E88B0C748D34EFF615CB092EDCCC22041BEC99FC042B772A70D246DDBC0.txt': 3510,\n",
       " '07A76A021E1C29BDFE2879DC47098DCE83CE4BB0ECF5C0316786650C8B15AE6F.txt': 3511,\n",
       " '07ACC10C240D8A0C5B075CBD872C3ED04E1B623B5772D3ED84E9AC1BB7F1FFDF.txt': 3512,\n",
       " '07ADC5E4EF9DCBAE9C3F3E4267FD886AD741F77B1E3F963809B62168FEE41123.txt': 3513,\n",
       " '07AE0DDBC27534218685D57CF12C90E06BE8C6C6BB1D1BF9B43ECBB2B847652E.txt': 3514,\n",
       " '07AFAE9B1C951386AADC72439C6B4E665409A33FC2DC8A7198206E5CF7A55DBA.txt': 3515,\n",
       " '07B3C181031E4B2009AF3B30EEE196EBA96A4AF3FA340B5BC6B6D381A8BBEC6D.txt': 3517,\n",
       " '07B5822F4C42A33B6D2BC10FBC01F6B3348035646F5DEE08C34EFCF7F9EA794C.txt': 3518,\n",
       " '07B6E57C2FB79BF2ABC46EC4450C9D3627FCAD32E519318F3182CC7F15A4004B.txt': 3519,\n",
       " '07B7B9B5089B020091F0C1858DB47C914659A40A390498484C4AC788D7679306.txt': 3520,\n",
       " '07C1E5ABEFBE7A5C73D7943FE9C83F93BC4ED34562E5379D014D49FACA589078.txt': 3521,\n",
       " '07C3A60ED82E75BE93FE68E57BD4CB3AEDF9E389E5CC21964FFC058D09C8303A.txt': 3522,\n",
       " '07C477CA401A205E4F1DFC24020E918B9FAEF1CA5A2C08BAB0C269DBFF35F249.txt': 3523,\n",
       " '07C55F82DCFAFD5DEABD3E3868073586DDB22D0EEF6632C4902AD3B5A64D03B1.txt': 3524,\n",
       " '07C9B457BBB5063E97B70C8C9E981CC45B9752E021B802E146564763833DD4E2.txt': 3525,\n",
       " '07D713ABCDFAC259895E02DFB813B99A29F1C9798B3B48BB63A6C023C47DBCDA.txt': 3528,\n",
       " '07E82564CA668E4EB57BA4C4BF5602C034E4258A810C78867CAC2C9EC0EC3D48.txt': 3529,\n",
       " '07EA6C4406EEBE2D7F58E0B31E31B982459829A7FCF669296FCDC78AD43F0014.txt': 3530,\n",
       " '07EAF883A8F39F20D7A266C25C1A84E362BCBC5C58F1D35E0B69090EBC2F5DC2.txt': 3531,\n",
       " '07F3C784660A1A3D7096049982FA69905346DF2104B1536F461E107AA5875725.txt': 3533,\n",
       " '0807859D5D4391BC36D1F500AE1FEB04F36D7C17BCFC526B01E81A487596F70B.txt': 3534,\n",
       " '081D75BA58C5C071590D86A5B89770C9FDA8880AE12652CF9C3979173E665219.txt': 3536,\n",
       " '082555A1287D2B05A4097B215BDBEA0C1070D03D81691AAEB2FDF148FFB77901.txt': 3538,\n",
       " '082B2426526C76366D3CEC9E0EDA90667671FFDA90242C042124F323FCF225B2.txt': 3539,\n",
       " '082D64ACBCA22CB10696D5CE3E4A22A6A34F394CFC2C0AB52F5061FD36AFE41D.txt': 3540,\n",
       " '082DCA6FF42EE4FF20729F1AD13BC5891314A469B418CD42C7AA39A766CD04F4.txt': 3541,\n",
       " '0831F97B3DFEBF4CEE58E263F20A546D4A9B7C027DB25B3E73A0B21F359D28FC.txt': 3542,\n",
       " '0832DCD1D441AF92E8C87A8BB9D6D8B7B418037FB6BC82842906D2E0061F4DDC.txt': 3543,\n",
       " '083606C8ADBB296D64D808D00D3631D35A0330761C1783D237F3D38956BB8111.txt': 3544,\n",
       " '083E4E60E8684C92F5C3EF9160969E792FFD6AC240987F471F8ABAB954523C58.txt': 3545,\n",
       " '08439D814A1F75F983176AF7301930945A72733C4D995FAB40E10FF4A2712F3A.txt': 3546,\n",
       " '08464E8DA4A7AF4BF19E86FB8D5F404BB8C045A50262E94A3B1579D82FFAEB5B.txt': 3547,\n",
       " '084B39BBC816A41848E79B5B62CECCF30E3CA5872D1EB7A84956A6162994D150.txt': 3548,\n",
       " '0857AE28096FFA4CB4EC529AA9CEF1D9F8993798588F7F42CC43760752EB7458.txt': 3549,\n",
       " '085BA7443E26ED171CB77EEC29A6919056AC926040198B9E33098B4D7D95A9FE.txt': 3551,\n",
       " '085C31365B9974CB8E932C816A195A0DD4B1E56F623C304A74797F9B431376F3.txt': 3552,\n",
       " '08680B838C08597F8B1203FC85D58E78D81246F54E66BDB62B8DFBBB667DF4C8.txt': 3553,\n",
       " '08697AC8E309CD2FEFEAF9FB7CAA907E8C5426D93550DA10EF3548116C9AF74A.txt': 3554,\n",
       " '086E088A0EF9CC57EFDE2235A0617DEAAD6F31D97949A60B8A5D8DC2E490FC16.txt': 3555,\n",
       " '08710493E54E72AEFB6626A2FC6768E11427404BCB1AB9401C4C007336184C7B.txt': 3556,\n",
       " '08746A0EA9F36CA2C8A86033541B417191DC569FFE521A4B5C66F12AA99FFEB0.txt': 3558,\n",
       " '087C3A369F967C78C586B24FFA4EC853E1687D387ECAA81980CE048CB6C51F22.txt': 3560,\n",
       " '087DBCCF4DE560E9CF0633B4B1D839ECC72F8BBFADDD502AFBBF64FCA8C3E30D.txt': 3561,\n",
       " '0887989C2BE06209D33CA4ADC329FECA680C4B1E32A30168A71E10AC6969A091.txt': 3563,\n",
       " '088DF131BE0DAD1296E6968B2343EE2D21E57624CA8108C53BF60872F30BC682.txt': 3565,\n",
       " '08946FD8E7177803880C2CB0A2E82CA6CBB356F71A21360E9B825507DC2CEB10.txt': 3568,\n",
       " '0897CDF9AB954F3938CA5511009FE284AF2B8C53EE5F7B8A4D4848953B964D34.txt': 3569,\n",
       " '08A4391CC4E80EF6590AA2CD8C2ED7967012FC22222076145B1A5F33E5AE67D6.txt': 3570,\n",
       " '08A6048526D81619F009E3497FB4349BCB962C976DF50B31052F2F97A118A435.txt': 3571,\n",
       " '08AF234851ECC18D1A610E6634DDA8AA140FA5DD4C34FE22EA9BFA072BA86FD8.txt': 3572,\n",
       " '08B0CA3F2F4BFA68A98325E31759CB7FB4FF01A78BCFE97C013562C374CE89DD.txt': 3573,\n",
       " '08BB098750FEB89C72DAB45C604CE9DF8C8DAE7B7CBB713B431D43DA44256CF0.txt': 3574,\n",
       " '08BD33EA1B1A056387C1D35241B48CB24AF44ECA9A17724480D4E78211AAB4B1.txt': 3575,\n",
       " '08BD4E2DEA9A13A6B58265A7AFED7C30494D15C01BCB7F96F272B2F5C8F04B2E.txt': 3576,\n",
       " '08C308B6374FD985FF3E1C7A844DF3C7AC09ED00A9DB8CF05DF7D1F88961FC54.txt': 3578,\n",
       " '08C4BF0B09B6F8F7088BCFF75FCE45A7CA9D0F120EF7FF48140F87D51FF5DF06.txt': 3579,\n",
       " '08C59890AD070882D97FAA8AA8A4FBDA69584F90D710EE5C98CF6B1F2C37F250.txt': 3581,\n",
       " '08CE5C47679AFBDC749297CA1A101D767CC782F81028CEC4C945B77EE3694AD6.txt': 3583,\n",
       " '08E0E8CC2B0FBDA459DCEEDCE3A322E8BBD5B36A59234A0957A2D04774864570.txt': 3584,\n",
       " '08E8578D12ABDB57E94C286BB340864BD769E993F69267B3FE16563C817ED98F.txt': 3585,\n",
       " '08EAD7A8586D79629774130F0D2E26E1E48C16242BDD54B9BF502DFC50FDE1E1.txt': 3588,\n",
       " '08F1A845072AED37ABD5780DE149D63134E4800E9B5E11A43EB67FD8BBB50E7A.txt': 3590,\n",
       " '08FBE0C4F53C95660D5B74A94897C8DD84511BEA88363190E2E533BFEF256D89.txt': 3592,\n",
       " '09053F6BDA6879A7A350551F5622CB0FA2F6E4156EFFC489507A4D611D23EE11.txt': 3593,\n",
       " '0909307EC0DDE1EB39D2F8C358D52590C21E740837EB7E968A6BC80811482990.txt': 3595,\n",
       " '091565F9E3FD268E4627D462B053B5B708759F167F2E3E389E53D50090F00861.txt': 3597,\n",
       " '0918A954B66F877DCF6BF9F7DCABB0F36C6E5C1EDB7F1B9212A46021511BD0C5.txt': 3598,\n",
       " '091C2C8F7F93E9D88A0FAEF244DF36091239E8FEA784F752AA07DD70EB8719AD.txt': 3599,\n",
       " '091E9F3E526226EEB287CE248D84650D6623E4BDCE3F61E3DD29AFFD3AF9D544.txt': 3600,\n",
       " '0920A43C3864FEE1F3B2A3A51215D0193C230B3BF427E259499CD2E9C4C55BD6.txt': 3601,\n",
       " '0922E82F3A61C3B700B12AD2AAC1FEBED1BA2DC2916857F422B9AB2B4A21F420.txt': 3603,\n",
       " '09238B6065DF903196C60D21F0E4F548C9BFA507CABA6669E45A36BCCD1D6EDA.txt': 3604,\n",
       " '092A81B1BB0365045086C7E6D702B5FD78555A4F8592E5F96E7FB77937F83BA0.txt': 3605,\n",
       " '0939D1FC444EC8F1FC51E5156722E85D5A23EFCBA826817AF894C4B65E0FC894.txt': 3607,\n",
       " '094A4BD4D92CF1B65D1167D28D18784CBEF6DBD1D1FDAF43AA90DAF93DB32CA6.txt': 3609,\n",
       " '09531F84FE34CCC241C3D2994EBEEF3C2F3C7D6523DFA1BEDEA79FFB48801239.txt': 3610,\n",
       " '09592F05DD26C9DAC43FAF34F1A77F2890DBC9DBBBB6790D27D752AE15F41D88.txt': 3612,\n",
       " '0959B9F31FBE57092D512EEEE337E411656F8F68621523530139E6F2AC56AD25.txt': 3613,\n",
       " '095A07E88B62CC78B2193A120CE9DEA79910F2D9FCAFF9420E24A2B48AAE079A.txt': 3614,\n",
       " '095EFB85BA0D7B8E6CA678CAAB59A45726E70A0D99ABF90210549D18CBE63726.txt': 3617,\n",
       " '0967DE7E945B8BC43D13ED5E9A3334FAB495A44152D3CED50E83A63C099E03A3.txt': 3621,\n",
       " '096B24C726E0F0D78886BC59B4D3DE584E9E347E0AE8CD80E586961A7422A6DC.txt': 3622,\n",
       " '09740028E0BB5B7DF21100DA22F3027E475691F9AB175BC731FC93668B8A9736.txt': 3623,\n",
       " '097492F20466233D738B5F75DB64C5E2A9DB8CDAE62042DBC73C60D70E9C3ED2.txt': 3624,\n",
       " '097B8601F136AD9A1D1A9080D69F50AB1CA773FA47C920FEB3FCF601C1752AD2.txt': 3625,\n",
       " '097D6430D583C22DA5358DB11D5628AB23F75465C1EC8FD0D37571F5166E7BF7.txt': 3626,\n",
       " '098692230ED261A62F7B66B69598B362463D1EAE52360BCEC6A3F3856975FD30.txt': 3627,\n",
       " '0987C017730A6C2461F2D37ABA2529A04D0B8B8857D8D03BCF60768626D9478C.txt': 3628,\n",
       " '0993422BEB4E0FE3796A1F6734E536FB471479D1EF4F37BDDF064D662407FC76.txt': 3629,\n",
       " '0994505AD85734BA448B360351E742209109CEC6AD40488879182FC12F75BA86.txt': 3630,\n",
       " '0994D30CABE6EB613A2EE9239EA0FC105449857F8F9A003B48864678D731B397.txt': 3631,\n",
       " '099D7E06D9A7A9023E6FE317289BE8BF675FDCC2F6E76D9185C12588D351754D.txt': 3632,\n",
       " '09ABE6C7896E09651C5B077D9A157BD2B83BE86DF1E1F86D83F8DAC53B0AAF2A.txt': 3635,\n",
       " '09B315C69CE6335BEDEB817C510FDE1BB467836AAC08DF64C041F401C9160CD4.txt': 3636,\n",
       " '09B92B48E0DADE2DA615872F2BA103B586B5CF43DA1CB872F0159B952142248A.txt': 3637,\n",
       " '09C62B705A3EB992FD31151D029E5564D07DB8888BC90A7A8278648B9D921A4F.txt': 3638,\n",
       " '09C76C459D2876310106FD48223A1CCAD4F7988CEC52B3DE9D9596F5A63E11A2.txt': 3639,\n",
       " '09CD9E77B78F240C568559E68B0730B6EF94BF2A61DF01A85B81BD21360590F6.txt': 3640,\n",
       " '09DDDD1FE5C15EF7A7570766BBE9CE6C9D35533DC2166B5260A5ABC7802EB08D.txt': 3641,\n",
       " '09E5C4F33A0274DEBEADE19AE59F508BEB4D077CA7ED510A8117CE8DD592B91B.txt': 3643,\n",
       " '09EAC1502B6E76F5201EA89A7F60924A75199385029589B28C66708A881E3B8E.txt': 3645,\n",
       " '09F039945B3B47DD72D47A61BB3AA4EAA330D8FC09FF08500A4F089D5D464923.txt': 3647,\n",
       " '09F20B308B9E08F3AF65B298C651854DAF03808ADF59540A5E9848102D456738.txt': 3648,\n",
       " '09FD12A6D4E208F47A7C10EF24BF0FCD794AF861571B6AA1C2EAC93A4DB964F2.txt': 3649,\n",
       " '0A053DF7BA91D1494B353F1592485B0C611FC02AD5A9D59421F1AE0B7407A84D.txt': 3651,\n",
       " '0A0A29D9203E698C58DDF3FF105C0A1F8A943869E6362BB0A35A2D319FC398F1.txt': 3652,\n",
       " '0A0D6E20351A723A579C3887DE730AEE2A3D15FC3432A9BBA369F942790AD48C.txt': 3653,\n",
       " '0A0E6510CAFA193365778AAE1A81659E18E20AC69E5F3689D3CC16951431EB56.txt': 3654,\n",
       " '0A104826E00B3CAA8F44020118E59722DE13586EFF36281E9A783A07F4B0BB15.txt': 3655,\n",
       " '0A107821108D297E73820418D6B70B35F10F1C7E58AB30F679C321D387B9CE63.txt': 3657,\n",
       " '0A1ECCBF0916926CF46343730CD75B8074FED70674B671C5E3DC0AA0840F940A.txt': 3660,\n",
       " '0A216D98F6B99F9C8BEC025DCAAA4B95807665D94A8789D44B6B23B9327D4EEC.txt': 3661,\n",
       " '0A23EE668BB7111F9BF599CE014A0F7B1F6E213AAA25806F3B57673E0C53A749.txt': 3662,\n",
       " '0A343D88C983846BDE00A7690444EC28F7C2DB695FD32F4833CC6C632B06F0AE.txt': 3665,\n",
       " '0A476F4DEAA852945E022353BF098EE5C7D7E338F8313FF08C036F3E735C53EF.txt': 3667,\n",
       " '0A48DF775CCBC3811EF12F3D330AEBC8D9CEF696112866E3644805578C5537C8.txt': 3668,\n",
       " '0A4C5851924A7CBB28656767657BDEC5E863CD56E3D423DB41528063B849439B.txt': 3670,\n",
       " '0A4FDFB3602056C1176741BFCD337B56C731B17E4566A8C96C4FF1D7C3C66A23.txt': 3671,\n",
       " '0A51C6E691C6B1EE3E975951642CD110B4831B3B5516EBE6C99EBA80DA3A3A50.txt': 3672,\n",
       " '0A523BCBA0BDB789146AFE7F37055FDF503D64E456A3D8C844D75CF9633AFFB6.txt': 3673,\n",
       " '0A59C4789FD6AF5ABA400F01F246E03A512C9FF8AEE165930A8FC273DAC6F130.txt': 3674,\n",
       " '0A6465CCC8BBD1E0501D982C901C18C5DB62D6A4C8381C78FBD607C9A1C4CBE0.txt': 3675,\n",
       " '0A6A85731B33A1B613B7DA124D58DDFCF121005DBD93FDB48D091C2C2EF371B1.txt': 3676,\n",
       " '0A6E2A583FA4FD6FE2CF20E34777A8E206E694538A8DF54DA6F4B2F3FDB0AF91.txt': 3678,\n",
       " '0A7119F3D0D0B4991E4622037E77A838C19A211CEB3CD6B9B850515ECFCB45CE.txt': 3679,\n",
       " '0A76E4115A1EEF51B4E2132490857BB3AF0F95E906699C716233D5C6D67281C5.txt': 3680,\n",
       " '0A785AAA3C922175C885E5879A31491BB2EBBF88E76C1CE435F07D33C408D701.txt': 3681,\n",
       " '0A7F28101F2B104BA8533F28EB9522A5C9411094627D772D0C45CDB7531C85C0.txt': 3682,\n",
       " '0A81CC39D4389135B7F2664183B8EAE706DA9CD84E367544A64F47108D41E77A.txt': 3683,\n",
       " '0A8BB9922CB036AF4E01BD4BD1FF35D2459EE789BA0E565044A90D5DDDC79519.txt': 3686,\n",
       " '0A8EF945F302A98F6D2B705FDAC3BC7901CFC7231B98F33523F9BF1F349E6FA1.txt': 3687,\n",
       " '0A9093056E2D8981DB68690801A1C0C482FFA4A3E224EE4BACFCE6E38E2D3386.txt': 3688,\n",
       " '0A9614A40D517F421E5F6DCF9F457D7D6957705296C99E81A05CB79DD0692658.txt': 3690,\n",
       " '0A9AA105636C9ABABCB35A2992F7751B855DFBD96EADA5C913DCB2BB341A2308.txt': 3692,\n",
       " '0A9E405839B153BF8C7BF99C94A23987C40ADF9CA111FBB31AFC19681386A482.txt': 3693,\n",
       " '0AB7AF0E1BD3140061BCAD602A31F3642380CC50B805BF91AC64AD0D4EA39E18.txt': 3694,\n",
       " '0AB7C8B17B95C857ECA863256CDAD93B2FFB280854A88647FF805976A99F150F.txt': 3695,\n",
       " '0ABA20074406DFDB4578C4AA5122636BF50465DD1205E9A1D40235CAF237863C.txt': 3696,\n",
       " '0ABB8353DD33103B576818672EDE8FD12D5634814FD0381D9DB2C940C8ACC0EC.txt': 3697,\n",
       " '0AC2CD0620B9F53FAB88844A05637C17348F8F9AA4F89E4A89778DD6D06A31D0.txt': 3698,\n",
       " '0AC60CEE0DB3E09496D0D95224B664DB2766A69C8C83F0A601C04421EAE4D854.txt': 3699,\n",
       " '0AC858F059273FFF747FF8CF7E1838FC143F741346A97F1686D7FDF6B5EBFFA0.txt': 3700,\n",
       " '0AC9690593AAE716FAB34EB2A04C32075DA947B9C68546C81440C776545F43E8.txt': 3701,\n",
       " '0ACE87E7CD72610430765A9A6926459E93121CAB39968169A93B84370FB81C4D.txt': 3703,\n",
       " '0AD5833E42D26E842711D5A03CD7ED2C16894E5C969C6A461209EBF045903D0E.txt': 3704,\n",
       " '0ADC46EB571BEEB9246A93264B9F2DB4B6DC82B2B5212C11FDAC751490352C32.txt': 3706,\n",
       " '0AE014B8DA16BE83F1EBA83E02904675D496383443B57303791130A184906C7B.txt': 3707,\n",
       " '0AED751D06519CCA4B9EE7CAE5786E7824C3E4CC0D9AD61871D9514EF4B0F6AA.txt': 3710,\n",
       " '0AEDEBEBD2678DEBFB0C302284832E05B0CC1E44197CE81C3CC0008FC7CD0167.txt': 3711,\n",
       " '0AF95D1659D17E6D1B5D9CB3CE9110FF971F9740E272546B27D0F26C08B598F0.txt': 3714,\n",
       " '0AFB79C041195B633A6FD5E6F8006A74558C91CB0B2D2BF12D265FD6A5C0233F.txt': 3715,\n",
       " '0AFBCE33ED3AB534CA11334D907BF415B276FE10F70F7A736483A795D06CF441.txt': 3716,\n",
       " '0AFD2B3FCD1AA9A8E46D645C458CBC7B8024D9418EA6A11E7982AC4DEAF79AE4.txt': 3717,\n",
       " '0B025AA2A512B522C711B32AEF7E9B367513DDE4B974EF109DD18D5FBACCCC33.txt': 3718,\n",
       " '0B0C6439E29D4F8B9AC33A35AED760869FC86CCEE7B221C57A39AE5B3867D4CA.txt': 3719,\n",
       " '0B1028521CB7E6012CD60EAC7BF7E7C31D60452144E6A84D19B6823386F219F1.txt': 3720,\n",
       " '0B1A2313755F15430D4BB25EC993B23B9ACA675F2C5E0373C12F9F7AF84E9E59.txt': 3722,\n",
       " '0B21CA9105D1FDE5F64999B39E8CA2580F9680E0DAA201C22427EB480203A9B6.txt': 3724,\n",
       " '0B25A93AFC4BA46604BF40EB4910082EC294BE0C8C0C483B3E088E5ACCFE84CD.txt': 3725,\n",
       " '0B2BDB11DC71D48FE4BBE09E523DB622FEC4CB1C1DE14EF7E67F9855BCECD936.txt': 3726,\n",
       " '0B39FF713ADE5E56510A8C7B26AB4CDD6AD6018B71E5E16B724F845CEB25D136.txt': 3728,\n",
       " '0B3A20C1CBC26DEF84D1875FB1AB40D3A0C974D4EEDA7DD5D202D82E148A4027.txt': 3729,\n",
       " '0B4B23AC1794EC88A668BDC2FEB7AF64869B91D3F5C17E76F86B7069C1E1DC00.txt': 3730,\n",
       " '0B4CCFAE43DD7FD180A1798C576AE6DB7AF2D8B6A059F814845A11A8151ABB66.txt': 3731,\n",
       " '0B512419E1A377F3B93FEB453BBD5150C8D2BD3CACB1A90D23DFB2BC402BF8C3.txt': 3732,\n",
       " '0B5623688DA758DF6F423235BF06A6734C959ADED14E1A7FF8ABB9BD31F252FF.txt': 3733,\n",
       " '0B5DD6AB4FC7739D35D5B514131ED1582BE1187CA8EA4C4C4D9F1AB53F631933.txt': 3735,\n",
       " '0B61FB01DC1F2B4C35C09C54E3711010F1881C7E0E7714DF265DAED9C56DCBF5.txt': 3736,\n",
       " '0B6AC5E58001D4D769DD9F9EA85AA153B72BF586EF8755A81683B4510F1CCEF1.txt': 3737,\n",
       " '0B6D66F000DF854486FC7EECB5BF079325C1505576388CCAB05C752B4D54EBDB.txt': 3738,\n",
       " '0B6EFB0C740075AC51574CE3F85318C6EC62358E7DE9A31128A050D57934AE4E.txt': 3739,\n",
       " '0B6F1904213A305F306B41798D02AD81C30112B001343531CBB1831902D1AAD6.txt': 3740,\n",
       " '0B72FFD7281254775CC92E49AD30628BDDA0638806D8FC6E8EAA38D55C7DC791.txt': 3741,\n",
       " '0B7B7C22B13C6CC143BF5FB82B111AC047AE0F7746563CE12EF0735F7312A689.txt': 3742,\n",
       " '0B85DFF0B40D0835F3612700F717DADEF1F7F09C8D77F02E9F7CB107E7359410.txt': 3743,\n",
       " '0B861C2D4DF50DCB1CFD8F04001B2099E9B1219AF351B5F0EDB228DCF50BCB4C.txt': 3744,\n",
       " '0B8E939889E23C739DA55F3484E2FB1F3D8420354F4CA341BBBEF1D874D887FF.txt': 3745,\n",
       " '0B99E5122223431D210BB90101ED6BEDEF1ED9583CE7A8573A27222056D072BA.txt': 3746,\n",
       " '0B9C4100F6110013A5400E644AA61FFF3E7DACBD725F7A10C4B733B0617361BE.txt': 3747,\n",
       " '0BA433EDCF5D1159634FD26E278563DD876B596540CF1749B6A80371B3C0FEFB.txt': 3748,\n",
       " '0BB11CA11E8EC5A2E9A0665A6866FD7740854F97975E3BFF0734D4A34E46DD27.txt': 3749,\n",
       " '0BB30FF860A18E4FE8C0446B394574F22844BC2356C8E136233218ABB23430F1.txt': 3750,\n",
       " '0BBBDF1461E7593F5A763B50111BC807E703EFC0E76B5B8F9E329A5B64772482.txt': 3751,\n",
       " '0BBC780F94EA298311B958F6B1C2CE4D6D04E3C69388D22786CA8857C95A6E37.txt': 3752,\n",
       " '0BBD23B44593B9CFF2995AAA4E75A941D61BF07E54FBA75B6F22FBE27FE88DEC.txt': 3753,\n",
       " '0BBE5893C0F6DFA41BD3A5E8EDED6589F0AD30B7D1246765E05DA50721E9B31F.txt': 3754,\n",
       " '0BC36A1F111BAB86172DBA8FF262B0651CBD259B329B7272AEF163929E423B99.txt': 3756,\n",
       " '0BC50475ECC14AF160EBB307E429556CE09EB6367115CB00BEE15F3E13C7D4F3.txt': 3758,\n",
       " '0BC7D3E6EDAC193B6C877EB6B76C9C13116E05FC602C8B79FA68BC3B44619B9F.txt': 3759,\n",
       " '0BCCEAC66F0A0A53204B706F3018A4E57C7DFB61145B20C010673773158C576B.txt': 3760,\n",
       " '0BD32B4EC7F0717E9AF994D0966143FB6181A9CBC90D0E715B47B17D4B8292C3.txt': 3761,\n",
       " '0BD40E05AB8ED84F616F38C161B2E8CE4965FA47008BFC8F071A9ABBCAFE502E.txt': 3762,\n",
       " '0BDACF20C204B064E917A2FB9B022073180799923D25B3D70848079A0409CDBA.txt': 3764,\n",
       " '0BDBBF2864921BA553667A8BA14B764F4CD5973444DF499B405352EA1963E265.txt': 3765,\n",
       " '0BE0F43502F01230D1EA05FBD047A53A75866C9667FE94BB80B049292A139CA2.txt': 3766,\n",
       " '0BE71AAB19AEFFE84B9E8B38F25BD4D3E462EAA7E2ADED10D9AA93FD6DDBD562.txt': 3767,\n",
       " '0BE8AA57F67554C180F3969BBEAD42E82AAF6A49C98AB68544EA9B4F75B06341.txt': 3768,\n",
       " '0BEB1EA8C0503DAB331DEABDB43FC5E1C62D98713838CB867CA7941D7136D80C.txt': 3769,\n",
       " '0BFAF28B4B481C87632B5A1465048C39332EAC5AF9DDFBFCCD2D8DD30FEF00A1.txt': 3771,\n",
       " '0C042711459207E7791B2A13393633C88DBA08438CA8200A03F69080C84D467C.txt': 3772,\n",
       " '0C0988185CA74D3AF379291E01E489C2FF15CB36D79834EAE682E01BF62AF2FB.txt': 3773,\n",
       " '0C0F388742A7C41D1B740A041EFD042B71926EEE4888AC3399B7F1505456E12B.txt': 3775,\n",
       " '0C117CE69603D1EA03C661989BEB197C0E66A8AC7F3EE335F3D737B4A5C6B863.txt': 3776,\n",
       " '0C12BA11BF110963F4CD4C5372469D180C20E41FA9B76684CD2AB6E2EBF4E248.txt': 3777,\n",
       " '0C142A22E4EC9942E923CD4289EE8A8F33E1014015B41FD2C2F17D00538FA041.txt': 3779,\n",
       " '0C1E88175D41DA28A6B7026C80908ABE8BD3ED98653462E233ABA6DA84455430.txt': 3781,\n",
       " '0C26B65F20B96D8F76DCC3D2510F27F48D0BE5A6E2FCD9C201C2440A0468F88B.txt': 3782,\n",
       " '0C28BC8793EC282A4ADF032695E2089BD2108DD30925E865029010A746EC5794.txt': 3783,\n",
       " '0C3061693B7384D681CB14F82F9FF5882A315B96B6D7B22041635F2C4054ABE7.txt': 3785,\n",
       " '0C3A7215325E8257C47EA3C6A39498633C21A00616F11C16736587424A810EA9.txt': 3786,\n",
       " '0C412F98A98D6652D8ED4C019FF7848A7DB5A6B22FF407CC0D1F3ADC9F796D6A.txt': 3788,\n",
       " '0C44007CADC26BB9877169713AD1F715241DAEE3A3EAB32191D993E51B5CE43A.txt': 3790,\n",
       " '0C46C0F5ECA1B829A145651DDA5D11D55053D2E8766BD8B6E82845E20526F898.txt': 3791,\n",
       " '0C4A5BE328B1679106FEAB0B1B595D9FB15554C3AB765C6338344ADFF07E8B73.txt': 3792,\n",
       " '0C4CF47FD70EF7924BDD027449D6D0490497B23E638F679D8ABA1FA6A46B56E6.txt': 3794,\n",
       " '0C5E673717599BB165DCDED01BBF26D4E3CCF57897596466F6FF42C2986515BA.txt': 3795,\n",
       " '0C5FA8242803A84464ED87952E7A13AD43210D2FD22D198E9C3E48CDD260F074.txt': 3796,\n",
       " '0C69480090C75B469C1F2E52ECAE773F4DA0DA0780EDA2C11F16227CFFC1BF49.txt': 3797,\n",
       " '0C6A3DBF3023906EECE78C58B81122DF97F08CE48AA3C28129592FE0CF24E206.txt': 3798,\n",
       " '0C7194ACF503DBB1B24E4B5488CCBFD1847CB5584E9331299D4255E9FE752D6D.txt': 3799,\n",
       " '0C80FB2F56AC15753BC7600D8893E5F48446CD1543C4A5B49CDED5C72AAFD3CA.txt': 3801,\n",
       " '0C817CA3FA3E4A1FFFF99B0F73729AC56C66F55C9A843F3250A255EC806D48D7.txt': 3802,\n",
       " '0C81CEEDEC7F899AF693E2D795CB5A4C43738535A503AF1926AFC68EA1DDB34A.txt': 3803,\n",
       " '0C85BF577FDA7DF37519559452E54408294476F59E60FB8BB51B3AB927C0BFA7.txt': 3804,\n",
       " '0C87738E0063A6E3A782A695ED8FCF1F22E16BC7BC21BED4677A6330583A0A57.txt': 3805,\n",
       " '0C890E2DE77AFD1A3224696ED0CAA6FE69D9F0831AD72B20F11F23B03BDDCC85.txt': 3806,\n",
       " '0C8AF42CD0DF26DC16A1F40A2E2FC2D10E1050C021D2FC20A0B0C2FD0BE4A0C4.txt': 3807,\n",
       " '0C90864149EE2722A18E8DB1E9ED924A163FCDB735B04778509873A9C35AB770.txt': 3808,\n",
       " '0C90EDBF148A69CCE572F10E32B2A470BCC180B0B9366BE5D36A15D228AD786C.txt': 3809,\n",
       " '0C95A9D4798D629F3672B50BC04C574145CB6D55728414DDB3AFED10C88E1B44.txt': 3810,\n",
       " '0C98C65854B1C70DDB4D3AD50D492AC42537069FBF8EDDDFEF9AFE8125188190.txt': 3812,\n",
       " '0C9BEF197A950BDACD7BC23D390F8A98B62175234475CC5ED7D8C58C926617F4.txt': 3813,\n",
       " '0CA35283F13081FF2DEC745D162BB2F67F84F0DA28A489C4420EE5D7BEB5BFC6.txt': 3814,\n",
       " '0CA4A1736541C7C5D27FA9A65C169F725430108DF790632708356669E40D9C54.txt': 3815,\n",
       " '0CA79B26859E8D683D96AB67B1F2127977875C3A99CAA8ECB4E63398DECA3162.txt': 3816,\n",
       " '0CADE57B6DCA8225AEBDB54098F35EA93E59949C56E7A6E2404A22DB4AD2A68D.txt': 3817,\n",
       " '0CB2FF52FFA009149B0ABE916553D60F6D968ADC9C0AC63DA8AACD727B9785F1.txt': 3818,\n",
       " '0CB36829200C043431A1EDE8A9C7FDE4F100BD6666EB9665DA2F23A72896D0F2.txt': 3819,\n",
       " '0CB3CB0A8978FE69D70E805E0F98DC4C4550CA9F366EEB28687EE24FB37D5322.txt': 3820,\n",
       " '0CB47F34341F7B46461708540111744C57DFA94EBDDFFF1393B55E9A9BC39524.txt': 3821,\n",
       " '0CBA8707AD9433102B2D8EBBEF7CC0BAA055A74589E68E118BAA0D3ACFCF4FB9.txt': 3822,\n",
       " '0CBCBF266DB1774A526B96CE16E1F63EFFD493D6E4BBC19B6D21F7B25E0FDAC9.txt': 3823,\n",
       " '0CBE563F31A7C1E25D4C218CBE7AE7C7EC6108889C7E7EA166A0E16AB2895414.txt': 3824,\n",
       " '0CC570F2476EE5EB7106B826BF49FEB23D92F74AC58991D8CE476442F4B6A8A4.txt': 3826,\n",
       " '0CC9B8D71E9CCA7D6A331E85D9C1E5A6F92291A96AEA26B577610C7B6C36A1BD.txt': 3827,\n",
       " '0CCA624A9A3844932DBB49CE96F1B31316E40B0AB1D9D22D6C662791537FD12F.txt': 3828,\n",
       " '0CCD8AFDE540EE77B1C24E71DF1BE9F506B277882B6FDEEFBC0833B5D00E7123.txt': 3830,\n",
       " '0CCF23ED85F73F480EDEF428ABEBDB7DA5BAC70710119E8BB047C07E3718C86E.txt': 3831,\n",
       " '0CD0BFA7FBC7BF78CAACED0E49C216330192173A3A14E9D8C454B258D54D1A2C.txt': 3832,\n",
       " '0CE606AE967DDFCC5C1E1210CE87C5F434CA705BDDFF2415D34EFFD3A824D740.txt': 3833,\n",
       " '0CF197271791E9B0EE9917E3F37A40F6B976B49046A2C1FB2450D2F8BE25D4AB.txt': 3834,\n",
       " '0CF49DEB430F3AA117B180E075721AE9255E0F05A2F8A5529C22618981BC1F6A.txt': 3836,\n",
       " '0CF6ABD9C5D17D4240373D31F5BCC49E3E283330DCD1B11924C834075EAD46C6.txt': 3837,\n",
       " '0CF8EAF6E929B1DC04139FEF0B83E025D0BC8DFECA9294BBF364BB0727EA9B5D.txt': 3839,\n",
       " '0D0BD3D7A2474DAE4B72B96CD805BD3849A8D507067E4B2CBD31F610C0648C7A.txt': 3841,\n",
       " '0D16281BDBC50392A00FDE3B6E5D6AA98F6FA2739D15CAF3D98470E378124428.txt': 3842,\n",
       " '0D1D9619654CDB26ADDB4FBEC9F546E839A3E23348DC5B8B472CF934AC490431.txt': 3843,\n",
       " '0D1DD3E855B6BE8445B2C1C7ED920C90E7C871CD18B5C0D4C5729DA2B8DA2A31.txt': 3844,\n",
       " '0D1EE4F7A00F4CCB83B0ECB4116EFC8AC1F72781FBF5E1BEC836ED4246C9012B.txt': 3846,\n",
       " '0D27514841B11C01CDB177B265D86312D2959DFD21375246706FAC60A6ECC0D8.txt': 3847,\n",
       " '0D2AF58D02B666DEF7EE6B6461A7B7EB2ED260AE232A228952F22A3FE558193A.txt': 3849,\n",
       " '0D2D7DDE8EB614C787AED5FEF45A69E2A3EF4FBD5D061624508F6572770B3897.txt': 3850,\n",
       " '0D3F0769C28CB4388F4938D4237B899CE4F758BF929A88975D3E069007521C96.txt': 3853,\n",
       " '0D3FCA7D82C2F72D953607CB612F460A86B6E02E8E61A6402BA627D053F89828.txt': 3854,\n",
       " '0D41B9A4581B00FE4CE4213131EC2AE561D27278047582C9B4B76813C0E1C645.txt': 3855,\n",
       " '0D4D20CF6C209BE1A433A24E98C16B13AFDD278E006CA1C53040CFAE7559D6A2.txt': 3857,\n",
       " '0D5B2F8F0D39B40C13E86EBFA1008071D47963BB45621FB870D0D9285B19CD1B.txt': 3860,\n",
       " '0D5CA1CABF4810EA355D4A5EE470A70983039DB8CC4FD8D73404F4D7FA3BA878.txt': 3861,\n",
       " '0D5E688C8E33E726A72B470A3C4527E3CE4A70E1C36380DDFB6635645FCD523E.txt': 3862,\n",
       " '0D64345D0162F6110FC0AB1DD96EAD70DD9B8CB058DC7E055F1BE5C59A7070C6.txt': 3865,\n",
       " '0D67FB0FD062C2A3CFC8B89EA33831B7AEEE9B5B5659B5C3166C8A1F09992E87.txt': 3866,\n",
       " '0D6EE71F720752D2A4A37290832CBE507D70FFFE7C0BEBAC1FF2D20D0AE42859.txt': 3867,\n",
       " '0D73955F7F156D115BBA4A20AB7A5299A58878379E324D23D8C61E0DAC97BEDC.txt': 3869,\n",
       " '0D75AF0C4F7908BC7CF7BB7231353573BF8F5FCC15B786A8CAA18767D69C8446.txt': 3870,\n",
       " '0D784F6E3AC269CD47D7BAE35B4EF0A7E4D2F7D2433918A3338AFE2143D78CF2.txt': 3871,\n",
       " '0D7876EB1BE82B01808A6C55AAE915F529FBE3E17DFB01D5F07D21868F7969AA.txt': 3872,\n",
       " '0D7BD49DAA58656F1BDFD2FC3F1E395C64E37E1402BD65BB6CFD810DA997BCE5.txt': 3874,\n",
       " '0D8100135B6114BE33D0C5DD63FB9946F88FC909047AC07DB519559FBC82E25B.txt': 3876,\n",
       " '0D81C1184AF40C30DAA6B8645E57781DB5F7EEE4A3D56FA063EC9FE14E4241F9.txt': 3877,\n",
       " '0D842A2F839474B611CD6A010EEC178D2FFBD5A6B6A13785949D8240AACAEA9E.txt': 3878,\n",
       " '0D867488A931F41A4176A58A0A8F75B6BFA223D9C6C6CA65F4516ADD12E3B469.txt': 3879,\n",
       " '0D88879ED96479D338D25136A7305EE26BF592F03C94F7FFBB37D1D1A4B527F6.txt': 3880,\n",
       " '0D89E0B3363B31AB2CCF35FFC689FB64DD44E5B4BFDECD6074E9C8D7E0AA1545.txt': 3881,\n",
       " '0D8B2FB4D981D5DE024B7B6180678CCD3FACC63C36B72E28EEB7ED1E98B6A1F4.txt': 3882,\n",
       " '0D8CB1606504670F36F8EC5F2659A6F4DBC56700E4AA05BA5C948D5D5EC11E4F.txt': 3883,\n",
       " '0D9572A89123CC36260DBB8D19C9625452107418AFA8F7649B55236619EC411C.txt': 3886,\n",
       " '0D99239CC9A54B26D51FE61A969C1CB24A6F391BFE38B64F2A1A8875AD87C937.txt': 3887,\n",
       " '0D9C960DD6C607886A08EFF5BF0BEE5A99298759AD0418F9971C341DE08D6807.txt': 3888,\n",
       " '0DA82E520F26D9DBBC62C22C6552D5F6F29A2F4FCEA6091E4E4FA2BB91905BB0.txt': 3890,\n",
       " '0DAC3FBE00DCB624889EA37EFC2DF34D35658CAF274297E79D54769F1C98F591.txt': 3892,\n",
       " '0DAEA548AD96F2958A501D24938B0F75D5B3CBA1FE40B3D91DE76953F65B7B68.txt': 3893,\n",
       " '0DB8BC53C4D49DAFF3233B927628BED30A550CBA062D59215599BC5D192577F9.txt': 3894,\n",
       " '0DBD411B7ECF6950B46EB9AD5D6D9AFF6469411C9DA61057880968613490535C.txt': 3895,\n",
       " '0DC05B986E13C5E660BB597801CD91BB2314EE78E93C9C461C8DF39F01AC56E3.txt': 3897,\n",
       " '0DC763B534CA8AC7E77CA0D81E479BD5BA41F858EA4034949677651FF1AF5C73.txt': 3898,\n",
       " '0DC8E4F3DC6D9AE59521B216196F0045E425026A3E3869AB79E44458F2EABA2C.txt': 3899,\n",
       " '0DD5639097FD98D162BEA1BA57CCEA37B32684EF2FAC8FE631363B708E7023E9.txt': 3901,\n",
       " '0DDE5FB81AF3F329BD673EE27272261B0E9D9C85F5DC252A2F447305C69E2E01.txt': 3903,\n",
       " '0DE027FEA4184096F91F222B9E0CDCDB13BD8565A2D53894CA33ABAD8BBB3066.txt': 3904,\n",
       " '0DE32D58B247C792BD4BBA1E9426A8A9B3A88C1DA767C4ED1F6C44842D86273C.txt': 3905,\n",
       " '0DE70CA8FAB18E8BD338E1CF1B90FFA3B06BDBCB5F303F83172BEAF013BCC69A.txt': 3906,\n",
       " '0DEAC0472016DDCAC5545BEE660FB4F0B4182E36404473359ABA5398370A32F8.txt': 3907,\n",
       " '0DF0736CE8A8FF485244418F89E17A7B54ABD5BC3BF50841DD0B9474A876A0F5.txt': 3908,\n",
       " '0DF1ECEA09EF4864FDB60E49A1C7DB388905BEF85C4673D6427BA3C465F3F546.txt': 3909,\n",
       " '0DFB67E4237338BAA83AF22BC958BBD647A110E349A666907472D2704A404739.txt': 3910,\n",
       " '0DFCF0DD33B98458765986376E49F47BFD1F528333C2A5414F040C47E2580131.txt': 3911,\n",
       " '0E01BE30401384C41084CE5C2A7370CC1498E023DA459BB773C5EB2CF2A1C5DB.txt': 3912,\n",
       " '0E187C82246118818442995A722D7DA9FEB4F2210899B82B33E9A12E848DB18A.txt': 3914,\n",
       " '0E1BE58CDCB6ED44968BEA31768BE1813485999B8548F331BAA8BAEA2CB86A89.txt': 3915,\n",
       " '0E1F68C5A15F6FC68FC6DE37D89F06B2E494E1E11BCE9F31B3C80E1FFFC42B83.txt': 3916,\n",
       " '0E265FEAAA2FA9ACEC6F558A4B96718CF809DEBC2EFB01F7723C3105AD38EB3E.txt': 3917,\n",
       " '0E29D351E72F68236EBC27AD6B940E02CF22CE757E9A18549752AE3C3D696548.txt': 3918,\n",
       " '0E2D6203AD3D3B864B20E502A2EDF6389A422E4C95B8122B779D2CC7424EA48A.txt': 3919,\n",
       " '0E2F8C239A898902EA34768AEEA4A89B6E16D2F4BEBF344C5C429B710AE8CEA4.txt': 3920,\n",
       " '0E3499D1ECAFD59A29F0F5F0E73909B4B31B223628E61A66CFE6B7A03498A0A8.txt': 3922,\n",
       " '0E37D97C985E27076ED927958E64E44A50F0C9B1AF3309716420385AEFA2110A.txt': 3923,\n",
       " '0E3F55E65A64A2281B1A3A03B8BBA453C6092F1CEC9991F069320A1403470C96.txt': 3924,\n",
       " '0E5A3CE9EDE142764CB0DD54BE6F1F2528939B1B554EAC8F4576CEF3D93CC39E.txt': 3926,\n",
       " '0E5CB693FFF8F79678328F9950A5BD1D10EEA419717C01F5ED7A6B47E8ACB45C.txt': 3927,\n",
       " '0E5DC9720F474D40939D5F2E3AE5768081AB651D3F44ABCA8794A9A08DB55100.txt': 3928,\n",
       " '0E7559815256B65C6F1A29741B2A0C9A868A9057C8C5B2B701ABE4F21C5FB7D4.txt': 3929,\n",
       " '0E837C3F613F0885235D55DC966938EAC03DA9D3C30480B0A0BF47769EBAE33E.txt': 3930,\n",
       " '0E858959854B476CBE13879B6E31A7E28C0DF10257634CFAD5CD28DD16A364E5.txt': 3931,\n",
       " '0E877E7EB7F56E3551319D6B6116D3825666296B292EC0734E22939DC4A25DDE.txt': 3932,\n",
       " '0E8E74383196538B80F7162ADACD5F947D01123F5972C7C6DD1A4188DFF5F1A1.txt': 3934,\n",
       " '0E954A990B50B016C2ED1B2B2E8D068F0B5242B4644B663054FE194626FEE1FA.txt': 3936,\n",
       " '0E9A4FED32FC8538BFB75C29F56E138AF1CBB5C7BE67BDE7EC6C59EFB373EDA1.txt': 3937,\n",
       " '0E9DF314DE149CFAD5D448687858D9A8CD8B987AAE343F1A70AF72DCCFF78FC4.txt': 3938,\n",
       " '0E9FAC9CD96F3C4D8588BBC794B4F72F54CAE13D9DC0FFCCA4CAC576392EA9B6.txt': 3939,\n",
       " '0EA4C533388067C202EA101423AA6E7FA6F7A5F85677F55E2B99EF4C6413AE98.txt': 3940,\n",
       " '0EB642BFC50527D6CDBD09E5FD513F25EADF84C8D65C2AE7AD1F9C1E315ABA5B.txt': 3942,\n",
       " '0EBAD7F9DF420E55AFC829F1708F892FF6464DB4A942C952063C9E566651B394.txt': 3943,\n",
       " '0EC181B433F277E59584D5870DB886D91D80AA0E73FDEC3F34BD82C9B20D5C68.txt': 3945,\n",
       " '0ED49E8E766177A18E0869C6899F4B2594B11B59393A6E202A594384A60F5F58.txt': 3947,\n",
       " '0EF157404FDD8BEB9F1292501DD394E03E0960ACE8D6F0BDAE177A90D40405EE.txt': 3950,\n",
       " '0EF2E6877A25AAE7B93E13D2272618BD05E64AB2D8C9A8942E7BF202B947A569.txt': 3951,\n",
       " '0EF8B8E453540E8B81F1CE2D8085C638270183FF0D3B7E564CDCA7CF644A9C52.txt': 3952,\n",
       " '0F0B284A9D17ADDDFB801D06AC67826D436484AFF146E66E7A4CF4BA4D064270.txt': 3953,\n",
       " '0F11D811BE6093B8D01364BE16C9C1D296BEC34480257AF0BA590893D1F3C037.txt': 3954,\n",
       " '0F1A5C7CC53BA2B5C7EF3D2EA45B1F08CD84CE1E1E85F3AC6EAE0F447DF5035D.txt': 3955,\n",
       " '0F1B0BE1244020C2F46BAF0C585F56ED97DF236DA8207EB7E3694326239D90EB.txt': 3956,\n",
       " '0F25B51FF4B1B11C401643AB5DB1245F5FE5CF14A830568E0B79238DF4AB33BC.txt': 3957,\n",
       " '0F27B898726C913475917E745EAD3C2911EBC8BAFB8A2F41F46482D8087940D4.txt': 3958,\n",
       " '0F32C786167F7C4C8F2268AD66B55E4970B0D95860FB5B59DAD5FB8187A1034C.txt': 3960,\n",
       " '0F33E15294EB4273D8B816B5B64D4ED870F6EE68AC7A7FF6083D25D0ACC9B72C.txt': 3961,\n",
       " '0F3AEA905853A16D946DB0B51BB57D561318CF742336838FD6431406B03E8721.txt': 3962,\n",
       " '0F3D62D087B6B68389B5FF725DEC93C8038371DC6F4DFEA632155EB25DA44532.txt': 3963,\n",
       " '0F4414BBAB36E2425C08990B53146DD39855F64E37C7DBCF6588224E588CE4B1.txt': 3964,\n",
       " '0F487A2A54BC1F4D0889A75ACFB5E3F135C7B544275C1F0683480819DC4FEAA8.txt': 3965,\n",
       " '0F4A37AD6344A038742A49F8ECAC6A7B8C6DD2D0767C30442DB9B77973A905FC.txt': 3966,\n",
       " '0F5449020A714C93F707D61DB2236B28744B0C470B4AC94025259E6E84F5C9A9.txt': 3968,\n",
       " '0F650EC45AEBF32720A00AB6C2820FC007659F591E1F0C1355F762E201D2DA8B.txt': 3969,\n",
       " '0F6ADA40816E54B00104D52E83F13DD111B44758A9BD313BC1757CC1B1C2BB2D.txt': 3970,\n",
       " '0F78C57CF4AA493C36FB77405EC4DBDAE10815FBEEB838ED16A0782E7522607B.txt': 3971,\n",
       " '0F7F1AB28611BAB34259208C1EE27A6145AE1D07AA4C81867C0E7428A246E509.txt': 3973,\n",
       " '0F811DF8F42BBFA4E3ACA41994767D4B89596E24AC8A99569A90429E9860CDD3.txt': 3974,\n",
       " '0F89191015925AA1FF604B644BDB012F0664501302F38063EA3909666141B3AF.txt': 3977,\n",
       " '0F91AA4500126F68D09E22C007FCE8B3DBAB184D98F3D9682A80E8A5D8CF8A72.txt': 3979,\n",
       " '0F9EF5294372ED98AA38CC7A2F5DC3B6B4AEBCC23B4B2BB1AE2121AF6ED97DBA.txt': 3980,\n",
       " '0FA1D3094EB76D71C7C23FAA306680B79761D0D7A400BF377188E06D8B10B7FB.txt': 3981,\n",
       " '0FA2110E76FB8317712B409B8FB6F54D155B46D725A01608002971AD3E227B78.txt': 3982,\n",
       " '0FA87520930D89ABB0C864F19864B46E25C602437C64DC392EFC3D06610647DC.txt': 3983,\n",
       " '0FAA115AE47B23B073789A1A507FA009B6A9181CA7A5F380891C052E96A2A26B.txt': 3985,\n",
       " '0FADE50DD679B6BF169FAEBD2713521D3CF5A3ACF2D0F92B3C5FE712CD929614.txt': 3986,\n",
       " '0FB1F7CF5DA073A7DD05DAA6AC57C3503E0ACB5DDC2E2DE3C96A469A959A67C0.txt': 3987,\n",
       " '0FB371B839AFB01F0F90FD1DA18172B81542D300DE8BDCEF6724B940C9E5D528.txt': 3988,\n",
       " '0FB3C51E092274E5D24DEA9F024A1DC1102EA7DAD5B21E1531EA0193823CE8C1.txt': 3989,\n",
       " '0FB7A0EAF50F801C1BF5B7269D183DC27589B9BFC001975DDD9D426C47B8F3AD.txt': 3990,\n",
       " '0FBEA08C0F321B76F971193BE1117AB2437199664F5DB6659E49B5DAC27F9DC6.txt': 3991,\n",
       " '0FBEC66A8122B236BCF2A0F54E199904866138393CF8D5E04383E36EF6488099.txt': 3992,\n",
       " '0FC16E275742F38FE555D0AE4375BE6703423CA481A95DA757585DB3D0AD5871.txt': 3993,\n",
       " '0FC21DF6EDB1C22C237066BD7BF0AA7C98FC5C2FEECF3E8FFE505C301A0D7B7E.txt': 3994,\n",
       " '0FC456E4E17958FE0F214A4D961FFB6442D805C7E37D7F23036B3677706920F1.txt': 3995,\n",
       " '0FC959A0F2E08A07154C50B2FC506BF30F657E4E66E3BAD5EC9E991AD79DB986.txt': 3996,\n",
       " '0FD594AEC225D9B2CF5A018F4ADB9BD97479A09D5AB1FA41DCBF3E49EFAF36EB.txt': 3997,\n",
       " '0FDAE9AF89F66E9F46B87757E977127AC294C6EBC866E5CB639BE387CA23FF9B.txt': 3999,\n",
       " '000EA4635A0EB11EE7F377884638402B5591282129373BCACC0081179BFBD64F.txt': 7000,\n",
       " '000F8CB524F4B60F5DAD1464E286719E824AB16FA3AA2949678761936875AA37.txt': 7001,\n",
       " '001A32872755F51362824EAA5F7AB0778C642B3848A4D2CA25531619D04E6E37.txt': 7002,\n",
       " '0032FFE0EA9BC4B62ADC0D77C4112A68A7F96A25EA0FCC9C6EC23B1B8601F4F5.txt': 7003,\n",
       " '003A2AE60A624C035C4A3796170446302BC1ED72969AFC243969E4CEF16080BE.txt': 7004,\n",
       " '005E6A4D3709DBB1410E8202B4CD78A8DDF0F06BA1F55AAD33B7263E055F348A.txt': 7005,\n",
       " '00681E0C147C496D86D2D627D01227A220BAC8D50932196756AAA894A6C42F50.txt': 7006,\n",
       " '008AC5BE62D954BCB6A071E93F26D55ED80923C84872DE255B07901C34D1F8FA.txt': 7007,\n",
       " '008EA191614CE54FDFCC8444C5D7AEADB15D40D4308AA36292151D5D965280E0.txt': 7008,\n",
       " '00A401E3564C98091FB54B6BCA141DEB679EA9478C1C6FFD6865C2BB7173740B.txt': 7009,\n",
       " '00BE44156BAFBEA24E6EFD7423EE501BBD9E1FE2DF1712C2E4E42946060F0145.txt': 7010,\n",
       " '00CFC62CBD6F412D980A8B9590BF9C86B807E38191677148785299CA24B0825C.txt': 7011,\n",
       " '00DCDFDC7A2FAE03AA69C7CF0CE854F1C60183CA33283233CD387C17AB373109.txt': 7012,\n",
       " '00DF26D3A5AFD4611BB31A0F821B31D57845E7A89D0C18088FA9925FFAA9B56F.txt': 7013,\n",
       " '00DF9CE89A3C19D0CE8293638536282F3DC2FEEBD3C1E89E60ECFE77B2A2A30C.txt': 7014,\n",
       " '00E20A3EC0315344078AFC83888FB149B6BCBD4FDAF5C7FA64DE067377779AB8.txt': 7015,\n",
       " '00E9CE9F9544601F39DFA0F258C86E7CF8DD1ECF7789D4DC444B290D2550E2DD.txt': 7016,\n",
       " '00EF45169CE590352D133F7345E04806E3468C4CF4A5EAA40F887BC68838AA86.txt': 7017,\n",
       " '00EFF8A31D6C56C3DC7DBFEA0003FB88BFDE685CB9ED71707581CD754E0A7524.txt': 7018,\n",
       " '00F13DC566B5C469D1E2E49CFF2BBA11F955AA8A8C92A074A97AB832D7D8170D.txt': 7019,\n",
       " '00FC94106C1E7D058F5743F12F3EB992A85A6584519C043150EC407E54D7758B.txt': 7020,\n",
       " '0112474E699FC9F4F92CD8072D2FDFE2136F38E03568A6D28AF9E8CA4660D796.txt': 7021,\n",
       " '012901B60CBABC4B5D554D1233CC7EF33D55D1BECF22D8F5284C55D32E4D6712.txt': 7022,\n",
       " '014D242F000610E50B2CC401A6D104549642F7818F0107960CF5ACD1E0925C27.txt': 7023,\n",
       " '014DC307ACC39CB3CB15CED0D53E3426A775D96E30EE993006E535FEEBC6A3BA.txt': 7024,\n",
       " '014E617F77B7703ECDAF1BB6517833556AA4D925149E15AC692D436D229B2494.txt': 7025,\n",
       " '0190FC678FF67636695A496365DF73DFDD07E0A1D5AD7A7593E00D6B87F7F479.txt': 7026,\n",
       " '0193843F3637681E1C5EA08AF1EFA782BD8A05F51465264F4851C45A1D683C8A.txt': 7027,\n",
       " '019DA85224A3C12205CE87BAA0832BF73E8C09FB2C8101C0232C5ADE32F7B142.txt': 7028,\n",
       " '019DC9EE1B2161A90BAFB81FD2379B1BE391DBE0814906095E5100D384A7FB0B.txt': 7029,\n",
       " '019EA17F611B5B10F2FDE6D5AA41C8581F167D4EDDE62A973792CDC6F6D130EA.txt': 7030,\n",
       " '01AB78CA5C3B8431CD9F5B50A60E50193CDE7B34AD70508F9AEA85CC2EE38FD1.txt': 7032,\n",
       " '01B37BA28B647CD2D0D62731C103989E7909D4706EB1E1E8206D4E4169204A25.txt': 7033,\n",
       " '01B426EB6D2EE332A4FCDF8A73FE286256C5DF31AF0036C6474AE5C92B30986C.txt': 7034,\n",
       " '01C703F0035A6959E150E4AB2C768FEEC54AD49D9C897B9D0D8CD463265367A7.txt': 7035,\n",
       " '01EB3112C9294EB84EAB969437DB5D293AD139A6A33893E4C8DC1A204179D0D5.txt': 7037,\n",
       " '01EE5FA14C9233C46FA69B6442FEF6EA836B3B57F19631524C57708FF8FC925C.txt': 7038,\n",
       " '01F0EA385C787EF34E9A6FE164DE4AE6F5FBD85699329F64A66335EC8999702B.txt': 7039,\n",
       " '01FE88E4CBF75172B044E4C0629B25F264C697CDBF3655DC3C44A2A061D76D31.txt': 7040,\n",
       " '0224B1660745B11089D5067881E70ECF77168DC2DBBE8E5230BF8D39CF03D6B7.txt': 7041,\n",
       " '02253E9DBD921BBE6D6027492E35837266C666BE2C5407AE1AD40B986DF8005A.txt': 7042,\n",
       " '022C58B72F8C5DD25D260FE0EB6A9C14F689E38C91B7D422B5C7DE08AFEEF60E.txt': 7044,\n",
       " '02303335536D82476EC4B05482AFFE361E8E8F879A7D4ACB6787EE3E78A67FB9.txt': 7045,\n",
       " '0231717A306FA7F854705CC62A713F9B26B8ED74D4B1930B02B89646B8C390E6.txt': 7046,\n",
       " '02402B9E88C6C741C08F6F1216FE530085C4CC4A3545457DA4442C6BA0CB964A.txt': 7047,\n",
       " '0245B4FC2861A266437B21FB49CBEBA97BB6F568E7365A99FD7F0EB67DB8886C.txt': 7048,\n",
       " '027423860101480C05B3AE5823386E4F2CA82E4618B9D5F3B86AD68F9536C754.txt': 7050,\n",
       " '02959AE70FE7FF7F79DD141D8DECF9463737B4097C779A2CFB737944B20C94EE.txt': 7052,\n",
       " '0298F888EDDC4026916F8F12B33B873617C754F1FC76AAFDB1502AA49E737D9E.txt': 7053,\n",
       " '02AAA660EB7C049DB5EB53FADF9443034AB51EB3B04082D02DE2666E628632A4.txt': 7054,\n",
       " '02D88B08BEDBCB6EB2A289E2B5719DB75F846F7D5666E2B9B8F9ED2B9EE8B1FC.txt': 7055,\n",
       " '02DED1318EBA5A629F47021CF3AED12F12DA20E39DFC710F617302B5C66173B8.txt': 7056,\n",
       " '02E4D1B6D9FD199BD777D3A0E36E0E69D46902F0AE14A6FC9DA5726210BBD818.txt': 7057,\n",
       " '02EB84A96D31C32E525141F183CB464D4BB53DFC7F0559BC5A34E5947813DE4A.txt': 7058,\n",
       " '02F6B42B818CDD4EB2C471C3C659644D6649090DC0F7DFE2C03E6CDC7D3805E9.txt': 7059,\n",
       " '030E8FC69EB73525347FC06DCDE868F3B0A5CCC5CC17913157732FE115B7A046.txt': 7060,\n",
       " '03139FE0621AD27F4FF256BD1551DE1A536BD5E37E8216778253B77CE07356DA.txt': 7061,\n",
       " '0319E23EB1944C93E28FB2FA219841D3722194705478838EB0CBAE4745728686.txt': 7063,\n",
       " '0338BBBAB85D7E53A12AB1FA2B659648CA3A5FCC1A2039375C7743B2AA7FE537.txt': 7064,\n",
       " '033C464C0D7159CFF74FD3E829BBDFEF72CBD22E7C304142059D0B5D8E4B9C24.txt': 7065,\n",
       " '0349B25CB81874BAF5E4A8544D71ACC90AECE8031046E950D1D0A7A9E6B68685.txt': 7066,\n",
       " '036E26DC67DF78EC5C5B5236FCEA5041E44BBC650B2325094C9F56B660AC3A29.txt': 7067,\n",
       " '0377760D788565CDC1143EE2CB30F8F13D83D5E2C03A0F19B3BF0EB6B4CE4B05.txt': 7068,\n",
       " '037E6D51E9A589583FD108DAF12C3E1EF2D2BE2C78D2E89FDB20AA6B2C36286D.txt': 7069,\n",
       " '03831EF67440697081F28DC34DFEB7F8F6F74985B1EB99916847E3F4F1D6043D.txt': 7070,\n",
       " '03A09B487461D7FEFB0A573696453F49F393C0988138282D0ED4B6A96408F359.txt': 7071,\n",
       " '03BB8A1DB74AF2D1DEED30AB273639FEAE3A3ECE5D9F42273B75AC8C587678AA.txt': 7072,\n",
       " '03BD27362CA0698E11E3F3F6B79841519A8190D9DA57DD6DA4EFEC7CB5404904.txt': 7073,\n",
       " '03CF67361DFF3156AF34BD5A2604157154FE33CF724D8B7517277ADC80B311F8.txt': 7075,\n",
       " '03E8E2C8012362BABC309C83A552C6E58CA1F6D6E8333172597F2971D42DE6C1.txt': 7076,\n",
       " '03F9CB9D1A3A27A169ED194D13F0DD05F40EAE912A6392E7BE5B1CCFD696326B.txt': 7077,\n",
       " '0402690F7661E4670426AFDEC58CB72FBF8B8340EB5654EDB0C873D295F68A86.txt': 7078,\n",
       " '040FC78A0E495A858AC18956E6295F1911386D5CED82469DF0D3C698759487C4.txt': 7079,\n",
       " '04290EBAF4294F79F952E16EBCA8A1B3EE025C80D2FB65F692A1A8A357CD1993.txt': 7080,\n",
       " '0436BA045DF3B47FCE4FD6FF2AEE85BB16474D04A0AACB80D1384AC2701B79B1.txt': 7081,\n",
       " '0473B626548CE25864C090D290D5B0512C848663FEF645C54578BDE30140556E.txt': 7083,\n",
       " '0485F56635A63D8222280FC8A9A28A8DB4E15580354B01821C5F106535935ECC.txt': 7084,\n",
       " '04913EA336E17988E33683BBCE67E96845A7D4EE49952FFC886B06E9550DABBB.txt': 7085,\n",
       " '04A4E704D2EC28DB53BA13C261C57857C874FA5F3A99DC4B074B6329BC1A9DD2.txt': 7086,\n",
       " '04A84AA238349E6AA63301788E03C52E4FC2B71A2B8B13A22472E36FF77A4A45.txt': 7087,\n",
       " '04AA2FC7C63506655EA8F7A1D74F7F5EFC288F4C18B1F5E1D56DF6791EC43725.txt': 7088,\n",
       " '04AF9B4CD587306C126EF215D2224DFAD69021D45EBFC3785ED5412650A6E4FF.txt': 7089,\n",
       " '04B79D3E9769678739ECCA368DFD685C2A784E90CEA3D9243D02E37F44A62D7D.txt': 7090,\n",
       " '04B7EBAE79E4CCFB11239D5086DDABA001548AC484801CB9EB425E20C37B94D7.txt': 7091,\n",
       " '04C4ECAB912D5A1E188CDA6985C4F16F84C01D6228B46AB239A0FBB232C7E810.txt': 7092,\n",
       " '04DED04E892C993B6151B762716D3003172427D0D2223418F10378AFAC54DFA1.txt': 7094,\n",
       " '04E5FE56102628CA9FB39CCDA6C0B37D128F3A0E5E74D4829550B10ECBFE74C3.txt': 7095,\n",
       " '050D7FA8FC69842226A4D1D8FA724B9087A75ED935FBB909E7CD731AD53093B9.txt': 7096,\n",
       " '052524DDBD8247386BC99E4B85F6261356248639A39EBB5C2050F4BB81FA79E4.txt': 7097,\n",
       " '0527F2CE483F949EA4A351FD4F88A5FD2310BC55545C8EDD20405E8FB84A545E.txt': 7098,\n",
       " '052BF632A7D98530D337A11860850A65D73F2063D078368E95E123BAAF36FE97.txt': 7099,\n",
       " '052E2B097011F0840C6393BBA6A1F2D20C18CB3DF341BA4E0463AEEF3C9161E7.txt': 7100,\n",
       " '0532B8B7AED855E8AFD01788DB087A49784D5D5F65B79504D3361963AB024D79.txt': 7101,\n",
       " '053544EB9D098266B7C92E59E56DDA6DD8D42123496B16BC107526E8CA654B89.txt': 7102,\n",
       " '0535C8663DF2B4BA573CD6B91D294DE714E7C6659ADF07DF05D300DC4300A4E5.txt': 7103,\n",
       " '054249210055C054302B4C0667191B77C84B06273535B0178E8D7E89D04E036A.txt': 7104,\n",
       " '0547751B4655129AD2DCF2E0F5EF1A55837F03387AC649053B5245F8654BBB2C.txt': 7105,\n",
       " '054FFF4BAAC0B399C1DFE693247EC4B97D6E0211A5F09503059BEBD50211F847.txt': 7106,\n",
       " '055D02DC2A226E34CBAEBE79295BC20ADB975E74793F55F6AAD5030DC34107E7.txt': 7107,\n",
       " '055F704AF1CE7B422E101150C673385773CBF8AD71B6381592E88EEE715BEB4F.txt': 7108,\n",
       " '05659EC00741C0D871F00D66BE287712F3A8E85A36FD90D225BB693F1A1A3E52.txt': 7109,\n",
       " '056701BEBF350CF780175909DE1C47978EA9A73D5919F3C2F6F408E7CFDACA88.txt': 7110,\n",
       " '0569D2B61F74D7CC8279AF5013AFA8B46CF6FA39486D683793289BB1389912A4.txt': 7111,\n",
       " '0572FD19183579860CF24863D74B8F5450F01A30B32D6CEF56E0642CCCDE5B5D.txt': 7112,\n",
       " '0574C180CF828B54E08CB219BBB1E7D7397A10D5FE8042CD5AFB44EBF7285337.txt': 7113,\n",
       " '058F0EF68D62845FE2F478F70E54000820C9D8564B2346D0B4F50E61BEA3E8D9.txt': 7114,\n",
       " '0590639FAB7FA6CA0BA79DE9ADCCC434970C3F277C00CB7FF3657E502EC8D308.txt': 7115,\n",
       " '0595B9DBA920EFF69892E1BE74F79484E750243E8783A80B624669FE8B4F3C95.txt': 7116,\n",
       " '0597AFCCCC4D0E2677DC1DD297D8FDEA80373D2B2EF7ED53CB4985ACDA660B85.txt': 7117,\n",
       " '05995993DA26DB9FEFC1FB424C34C730C9996CE1F59C966E0CDC564035340C26.txt': 7118,\n",
       " '05A2358758AADBFE43F541F4719F555988CC9AF62596E95070F5B5A78EBC99DA.txt': 7119,\n",
       " '05AB45DB346C71BAF04E8588048FEC9F73206FD31C541341B3538EE6B46C2FE0.txt': 7120,\n",
       " '05B76017323EF2AFCB5CF3E5D8E9DD1137477C1E04698E59D1153056859897B1.txt': 7121,\n",
       " '05BCE0EDC3B7821133524783EB349D82AE781ACBB128173691DCB8F9E75568F3.txt': 7122,\n",
       " '05E28E4A8B5EC44C91B5DEB829D012E88C40ABB48969979BA34479F1A6CF9D41.txt': 7124,\n",
       " '05F0D542CDFA19F8E675B0CD782D7C05C4AC8E41CB7F5F4B847776EA8D6F335E.txt': 7125,\n",
       " '05FC17F0F889CBA41ECBCB60171B2B7B74DFAD5A7CFA922C73B17DD46E817C9C.txt': 7126,\n",
       " '06036057ABE648343E0410002E07729286B204EFB7AF4FB0BBD611927D161E74.txt': 7127,\n",
       " '0620F4FC05EE3A6E07BD1B2C0C76E91526517C0394B071F6C2A195EAAFC6FA11.txt': 7128,\n",
       " '0631D6F894C62F8B49CDB2E7B6F13E4A86EC13F339300B82385A41CB917CA8A1.txt': 7129,\n",
       " '063306BAD5C4EE5149E3D54775ECB7719A96832F39E359E2E5A06B9236862C14.txt': 7130,\n",
       " '06359986538AC2B91EAAA2E98C91B9E8213CFE841D7DB20608F05492374BBF38.txt': 7131,\n",
       " '0641125EC87D5F3623261D1A18BBC7389A89F2A3FF1B92151B25E78B22F57936.txt': 7133,\n",
       " '0649A681787A9B63E175C258885EA641ABE36EB3FC29A18CC2BCC6F84F8806C9.txt': 7134,\n",
       " '0652D6C041965527635C165843D4B8521C1331215A8916E8DFE00C72BE567225.txt': 7137,\n",
       " '0664A8FB2C03614CB1A557A372F441437EFFF507C2A309E771F05B7DF27A1182.txt': 7138,\n",
       " '0669A72F9F2E1A6F2D16444EE46005E346F3E26873D1A690F1C5EFC309CCDDE0.txt': 7139,\n",
       " '0684ADA0FFD4002ABD7E40C7518504F636AA1606B8A4DFA1D409B926692F7ECF.txt': 7140,\n",
       " '0684ED7AE3B2CEC7DDF74EBF6B06E1444123AC62D3DA650A89F49BBD2CA3DA9D.txt': 7141,\n",
       " '068D6E8BC12D40B1C5339FF3FA254E2170835A2DB848F360E4A00B0F73A75C55.txt': 7142,\n",
       " '06906CB531E2C98587B910DF06AC922BE361C4C542DAF69AEEE9F603F624A79B.txt': 7143,\n",
       " '06CBA1336CF994154BF5C50D747993209E945FF03F96612702DDAA8C1AAEC712.txt': 7144,\n",
       " '06EE559FB05D004B428D3F5A8B381416CBC9E890EA9E6BED46640E9787F0CF22.txt': 7145,\n",
       " '06F5F6D7510D4226814B0C6648A8A82EB9556D3B6C6D2D0AA3C32861CAD62FE4.txt': 7146,\n",
       " '070DC86815024F5EA06DE8AE8ED05736154987D32BDF88A57A5A71DF861890C3.txt': 7147,\n",
       " '07193744B29D42A90477EBD209C131E28524938D26D8DABC3E0DB25C568E3EB2.txt': 7148,\n",
       " '072234A6AD59A4B153849E8ED9CF7DA4135EDF5A7FA524CBC26C91EBD572C9C1.txt': 7149,\n",
       " '072BC2B8AFBFAF1C7D01D67CD929689DB536EC563373B245DDFF5F842D4685CD.txt': 7150,\n",
       " '072F50DBB33D94AE5F0F257CAA5338EF521B96526AE96083ED7293C7D0A521B9.txt': 7151,\n",
       " '0732392C5EAF454E465BB178C72CDC4D50EF9F716A61E95276087F18BB2EFBA5.txt': 7152,\n",
       " '0736CA19D11DCB7470C63FA94239ADF44FF808AE278F09F06EDC186AACE1BA29.txt': 7153,\n",
       " '073CD72A84D5188B36D6B8CD05D173DA391CEA124C0F524788D3AF58C7B351BE.txt': 7154,\n",
       " '07636FA0B61F5DD7B84240572231A537BBC0C9DDD4D44D56CA10605F75876004.txt': 7156,\n",
       " '077132A92CA1CEF8631446DAE922D85E91F3B766DA344CD3971D707714DC4A37.txt': 7158,\n",
       " '07816B57E0CF47085342D0F951969117DB5AFA8B16375D156350A797E4A8334F.txt': 7159,\n",
       " '07A9F58C84CC90B5058730D6A993611680E5C2A35D1122FC4F106819A4479AB6.txt': 7160,\n",
       " '07B86272523ACD4D1726F115C3AB77E6542D7E34260596179B1458C10E705DBA.txt': 7161,\n",
       " '07BF852EA064148249231C95258241403C08B3C5BD5E4F752C9DFDD8797E997C.txt': 7162,\n",
       " '07C6300254BE499F02211FEC42BEE8940421BD2E2136E4BE1362E9A07FDC6D9B.txt': 7163,\n",
       " '07E8DFC6B47F2EBEB107B073AE654CF1FAFFBC9B9E6671738FDE021C8030D0CF.txt': 7164,\n",
       " '07FF155387E6F5A0DD11403039695ADBE440F4AD701F4C61FA26D8545562A91A.txt': 7165,\n",
       " '083B100ED2CFD7EE79A04C17314D010C16B8E75C0B76E29280AE48EA0F944D6C.txt': 7167,\n",
       " '0840A7433B5E7265302D7C5045CF285060549DA309CBC873C653ADD02068AEF2.txt': 7168,\n",
       " '084E0318ADD699D273E495486E3B56EA02D4DF9EA31266938A1DDE63DAC48C27.txt': 7169,\n",
       " '085C9C424806247077C00CA26D03E3365A398212F36094BD6F247D3E5D0B3DA3.txt': 7170,\n",
       " '086156A412EA6BD22B37AC9EB65815DEC5FC5ACD8F21E4952991064CFACA6D68.txt': 7171,\n",
       " '088A76311E38FBB42444CBEC306DF42B973B36CB21780FD4EA92CDE38FB8B103.txt': 7172,\n",
       " '089ACF9EFA3561EF496542BF9C0A1B4650D0C35337AF937AD70D828AF8D1AF2E.txt': 7173,\n",
       " '08A8F805659227276F9F46DFD068136CC16C4F29B6A1DB958A0867A3D695024F.txt': 7174,\n",
       " '08CBC2FE9887612380349D26DA61CFB2F55C03134DD358A09C2684B19A85F6E6.txt': 7175,\n",
       " '08D577559A5F57613EF6F85FE5C3F205A1C410750E14D8911B1DFEC42A225E85.txt': 7176,\n",
       " '08DFE6A3CC46BA3BC9F8E5EFB9A68E8EACE5FB762648CB400C54DA70B62168BB.txt': 7177,\n",
       " '08E089B06E9DD36D7AA8B0E96EA6F22CA0774FD3A5D2A069AAA290845F1FDD66.txt': 7178,\n",
       " '0903447B47E187F69D88549B6E6EBC3A1C34F0AF460037C8332FE28A31D25AB0.txt': 7180,\n",
       " '090870D2921D57EB349166B40A0475396088F8A89780BBD8AC8FA8C2D2C3DF5A.txt': 7181,\n",
       " '09254CF2D8D1C8C20A3921D95E041DE14011A89CABAE96588D71B2D4A9934791.txt': 7182,\n",
       " '092FCF94AD2BD3D33CE4D0349B243951939C222D033C62E6553ADE4C3C02A95A.txt': 7183,\n",
       " '0933A07CEF8E91A3B949F9EBD89393211DAC45523B2E1FBEC68DEFD630819017.txt': 7184,\n",
       " '093744B777431B5A54F1BADBDCF35CC3B21D8C2F60092C8CB494672E5F46FCD5.txt': 7185,\n",
       " '09460F091868194D8BEFDE824E423F0117BEDC8FFB6653E0F6AEEED93D07C942.txt': 7186,\n",
       " '09543017C8D6D0A58C3E95D711C3ED74D0210555E0D996D1413791BEE4B693B5.txt': 7187,\n",
       " '096B174FEFE5B27047C6692808787D79DFF394E410381362562BAC4EEBF94A9D.txt': 7188,\n",
       " '0998CB8C6D6E78C4A13C8D8B9786124A687195CD66719234E255697E16FD47CE.txt': 7189,\n",
       " '0998DE6B64D5E6FA3A6C55C8D332D6DE201A0485977DBA06CD00BD3A4D40FEC8.txt': 7190,\n",
       " '09AC6C30FB4883161E988C19EF17733FECE95FDBA6FD703E0D9AE687E491945E.txt': 7192,\n",
       " '09ACE6655D961E6EF5B50CE2AE360760D3B9F3111FC85F0C2AC33CC452552EC5.txt': 7193,\n",
       " '09BC494ED5874AB1B1C6E0A21B506F4B4640696E2E29009144EDACDDECB16404.txt': 7194,\n",
       " '09CEDED47CE85EBAC963E0BDCC929DFC0ABA52671A4C912A509923C0A4FC6261.txt': 7195,\n",
       " '09D16A21D1715C1EBD889421A66044AAC20FE367B0D060212955E3CB10775CAB.txt': 7196,\n",
       " '09D645E47750EA1666446996889EE811738B49010ACFAD563E32E0E9D689F112.txt': 7197,\n",
       " '09E81EA1C0558AC03780512FB4E1D5513776FDA37EB23C1581B211077252A854.txt': 7198,\n",
       " '09F37034EC0426F2B4A33BDDCFC4B53F008791176A9FE7B8AA47AA5BE4AD6EB3.txt': 7199,\n",
       " '09FBECABD324CD4E164DE9A0771D8623FC3D62E01E067E1B7FF9DCE637AFA7E3.txt': 7200,\n",
       " '0A112DBA884C8D7A5676E6FE2115512E8B69BCF4767060DC1454B23160FE8E8E.txt': 7202,\n",
       " '0A2423BD70944B0ECD8A6200076723E632A928500712A37C337E296A0E0170FD.txt': 7203,\n",
       " '0A2C99522670AFE9438C6BFD913198A5F46B2A8940706C4E75754EF4DA45E5AA.txt': 7204,\n",
       " '0A32CABBCABCB3A6CFCE7C4499F56136E2A9B61BEA7B8314B9602759007B4C50.txt': 7205,\n",
       " '0A40F06EA32AA0334F2E90BEF276E50F8514ACE98202792478F5CC5DD7DC0B56.txt': 7206,\n",
       " '0A43BAFAAEA701B129FA013BB4630260395A168A5A966FAD89B250845C20AEDE.txt': 7207,\n",
       " '0A4FCC6A22F0C132A7BFCD79194514CCCCFEFDB783C3952361F82A054D272568.txt': 7208,\n",
       " '0A5173D9AD4055D17C12776FC2D2B0973D5363288018056319576F18D7D51307.txt': 7209,\n",
       " '0A744E4354920757C142D818ECDAA10A025790DCEAFB07F42A911FE6B0727D81.txt': 7210,\n",
       " '0A88C83B3E9B49AC803E56BE571B48FEDFC744B0F8418BC95C2C6A20FC8943A8.txt': 7211,\n",
       " '0A9EE90EA79A26AA609ABF0E82289D9AAB47EAC51242855AA506F45237161836.txt': 7214,\n",
       " '0AA80980321369C1E59B6E35B43F4E2441E025866153B733EAAE8A60D911D36B.txt': 7215,\n",
       " '0AAD9BE6E61B80D0F970B8231B9A3966BECC5FC037C48B27AFA5619B4F43A2CF.txt': 7216,\n",
       " '0AB59C25B19209B69866BE57A6AEE76EB0FC7E6D3AF941242F4D36D5C44EE008.txt': 7217,\n",
       " '0AC033C1BF57236499FA393D6EFCF1DD8B0693198B498ED041CDB5E51807B4C3.txt': 7218,\n",
       " '0AC5429B7FD64B484D8B1EFED1420C938A5454965EA77D85E5DAC6CB2DA8A375.txt': 7219,\n",
       " '0ACF24A40539862AEBD6446EF1EFE98A7ED0082CD2F3BA19EE168C6755010927.txt': 7220,\n",
       " '0ADC9C3696B53AE206709DDC810F99B1FDB13F7EE1809C849BD1755C131A227E.txt': 7221,\n",
       " '0AE594229D934C04BA8975E5985D09BF90146524F9597B1BA3A24C2FB9BBE27D.txt': 7222,\n",
       " '0AEDD5A8523C01A6455E6CB083C622C7B0B37ED8A0B4A4BBFFEE64689559B03C.txt': 7223,\n",
       " '0B0287D3ED4CA936BBF6C89D47A068FA6248AF990D5BDED8478773E9B313B051.txt': 7224,\n",
       " '0B08553E0E4EFC09609B4349F801F463FF2FEC6090E445D872E7D564B4CAEEB0.txt': 7225,\n",
       " '0B1E420BF636299761A0357581695295F1122A238857DD516C7B418E4228D4A5.txt': 7226,\n",
       " '0B2409C28E372E9000406848AD54640DC3E188BFB26F67B845C6C3F22C1452F9.txt': 7227,\n",
       " '0B2CC51C56A9DD4D99FBD138EB62431232887065D04AD4889D43D4E04235961F.txt': 7228,\n",
       " '0B3340A969BE0668E01818E8F08AA9382B66D55D43EBC0FD074508144C76C772.txt': 7229,\n",
       " '0B3528CD44D9BC194F1DB5A828183359C3634E946135FFE7FF42F484CA24DDEB.txt': 7230,\n",
       " '0B43097C064A6063B06880D96679169C5D408AC7EEC1D022B187AAE656911A1D.txt': 7231,\n",
       " '0B6F148C10A20BDF86AB2400CC664FFBCEC369316A2FB98DE9ACE67F7524805D.txt': 7233,\n",
       " '0B880610055677A170EE2D660C068820A920C0EED7F66792D394CA95FA5EEBE8.txt': 7234,\n",
       " '0BA362A6D437C2EF0C9CE42C79D9F73C1B6AF2F79D9C48BC20108E9E5158E148.txt': 7235,\n",
       " '0BAE39D197789500CA50AF20569C0BE948E172C8823F8EDA683600C486A7DE57.txt': 7236,\n",
       " '0BAE7F9D77ACF25501726CFA58577FF01BB90F746999685E37671431CB05A56B.txt': 7237,\n",
       " '0BCD010ED4516F7D3549DF784A76C05D4A4E3C574B311ED7EAFDAAD700F6B409.txt': 7238,\n",
       " '0BD9B34C4593875C1FA5F7134DD64806415422A0C16CA010FDCEC8FCD50FC164.txt': 7239,\n",
       " '0BEFE2084DCF1B1630F4A232CF8EC51D03574567A8941E55703EC4A4FF98C986.txt': 7240,\n",
       " '0BF3DDE566E64FE24CD8D66DC523FAFB556B7A4500BB5E72DCB0D622513E2A67.txt': 7241,\n",
       " '0BFAE184F841A16856025D998C11D995AA78031F628D5B4E7CF76FC2A4807EC6.txt': 7242,\n",
       " '0BFAE82A1998A36BD731C7966CA7A1160125FE614913009718A18846B4FAA248.txt': 7243,\n",
       " '0C03DEF10F916E0FAB5ECEFAEF1983BDAF8BDD1CF3626566E57D892FFD431189.txt': 7244,\n",
       " '0C0428F5F06D5693CFD055E7B9818BAF5C5C48BD67740BFC496C33FEA926BAF8.txt': 7245,\n",
       " '0C158C4AEB7F2050BA53FA14CC662FE8490ABE64071A46D6BD43D2EF67499C38.txt': 7246,\n",
       " '0C174319795455747812128CE1CD07B792E4A02053F4BD0F83B438FA106B10AB.txt': 7247,\n",
       " ...}"
      ]
     },
     "execution_count": 535,
     "metadata": {},
     "output_type": "execute_result"
    }
   ],
   "source": [
    "tpp"
   ]
  },
  {
   "cell_type": "markdown",
   "metadata": {
    "id": "XfToz073ohaC"
   },
   "source": [
    "#### Load test data into memory as np.array"
   ]
  },
  {
   "cell_type": "code",
   "execution_count": 536,
   "metadata": {
    "executionInfo": {
     "elapsed": 2638,
     "status": "ok",
     "timestamp": 1611346393211,
     "user": {
      "displayName": "Prabesh Pathak",
      "photoUrl": "https://lh3.googleusercontent.com/a-/AOh14Gh6ULNXNrYutw3u6ad06TMgRj97zOGaU28QfV_MCg=s64",
      "userId": "10507649871156130542"
     },
     "user_tz": 300
    },
    "id": "IBGFjJPaUPhg"
   },
   "outputs": [],
   "source": [
    "test_data_mem = []\n",
    "for input, labels in test_generator:\n",
    "    for i in input:\n",
    "        x = np.array(i)\n",
    "        x = x.squeeze()\n",
    "        test_data_mem.append(x)\n"
   ]
  },
  {
   "cell_type": "code",
   "execution_count": 537,
   "metadata": {},
   "outputs": [],
   "source": [
    "## Map predicted labels and test labels\n",
    "tp = {}\n",
    "i = 0\n",
    "for k,v in test_label_dict.items():\n",
    "    tp[k] = prediction1[i]\n",
    "    i = i + 1"
   ]
  },
  {
   "cell_type": "code",
   "execution_count": 538,
   "metadata": {},
   "outputs": [],
   "source": [
    "## Map predicted lables and malicious lables\n",
    "tpp = {}\n",
    "count = 0\n",
    "i = 0\n",
    "for k,v in tp.items():\n",
    "    if v == 1 and test_label_dict[k] == 1:\n",
    "        tpp[k] = i\n",
    "    \n",
    "    i += 1"
   ]
  },
  {
   "cell_type": "code",
   "execution_count": 539,
   "metadata": {},
   "outputs": [],
   "source": [
    "t_mal_ids = []\n",
    "for k,v in tpp.items():\n",
    "    t_mal_ids.append(v)"
   ]
  },
  {
   "cell_type": "code",
   "execution_count": null,
   "metadata": {},
   "outputs": [],
   "source": []
  },
  {
   "cell_type": "markdown",
   "metadata": {
    "id": "WGLsooPRon_F"
   },
   "source": [
    "##### For 1 example"
   ]
  },
  {
   "cell_type": "code",
   "execution_count": 566,
   "metadata": {
    "colab": {
     "base_uri": "https://localhost:8080/"
    },
    "executionInfo": {
     "elapsed": 5301,
     "status": "ok",
     "timestamp": 1611346397083,
     "user": {
      "displayName": "Prabesh Pathak",
      "photoUrl": "https://lh3.googleusercontent.com/a-/AOh14Gh6ULNXNrYutw3u6ad06TMgRj97zOGaU28QfV_MCg=s64",
      "userId": "10507649871156130542"
     },
     "user_tz": 300
    },
    "id": "TZVVLcXZrmYh",
    "outputId": "6ae04149-b6c1-4d77-8391-3bd455851a1b"
   },
   "outputs": [
    {
     "name": "stdout",
     "output_type": "stream",
     "text": [
      "[[1986    2  564 ...    0    0    0]]\n"
     ]
    }
   ],
   "source": [
    "train_dir = '/media/data/artifacts/2016/test/'\n",
    "# Load data and get label\n",
    "# f2 = '22A016ACF04241F38EA461C888C6149D9296D0685851186D9C4E86C0B64C1F1F.txt' # this also good deskeyspec\n",
    "# \n",
    "# f2 = '0631D6F894C62F8B49CDB2E7B6F13E4A86EC13F339300B82385A41CB917CA8A1.txt' # this good cryptocipher\n",
    "# f2 = '0AD5833E42D26E842711D5A03CD7ED2C16894E5C969C6A461209EBF045903D0E.txt' # this also good deskeyspec ---best\n",
    "# f2 = '0F811DF8F42BBFA4E3ACA41994767D4B89596E24AC8A99569A90429E9860CDD3.txt'\n",
    "# f2 = '0590639FAB7FA6CA0BA79DE9ADCCC434970C3F277C00CB7FF3657E502EC8D308.txt'\n",
    "# f2 = 'logstealer.txt'\n",
    "\n",
    "#vt10\n",
    "\n",
    "# f2 = '0402690F7661E4670426AFDEC58CB72FBF8B8340EB5654EDB0C873D295F68A86.txt'\n",
    "# f2 = '0485F56635A63D8222280FC8A9A28A8DB4E15580354B01821C5F106535935ECC.txt'\n",
    "# f2 = '04AA2FC7C63506655EA8F7A1D74F7F5EFC288F4C18B1F5E1D56DF6791EC43725.txt' #http\n",
    "# f2 = '05B76017323EF2AFCB5CF3E5D8E9DD1137477C1E04698E59D1153056859897B1.txt'\n",
    "# f2 = '05F0D542CDFA19F8E675B0CD782D7C05C4AC8E41CB7F5F4B847776EA8D6F335E.txt'\n",
    "# f2 = '0641125EC87D5F3623261D1A18BBC7389A89F2A3FF1B92151B25E78B22F57936.txt'\n",
    "# f2 = '0651B8AB3F64B45EF0AF192D776A01DDFCED7BCB37F8F34A09CFF8B78A23D3F1.txt' #no\n",
    "# f2 = '068D6E8BC12D40B1C5339FF3FA254E2170835A2DB848F360E4A00B0F73A75C55.txt'\n",
    "# f2 = '072BC2B8AFBFAF1C7D01D67CD929689DB536EC563373B245DDFF5F842D4685CD.txt' #apache\n",
    "# f2 = '07636FA0B61F5DD7B84240572231A537BBC0C9DDD4D44D56CA10605F75876004.txt'\n",
    "# f2 = '090870D2921D57EB349166B40A0475396088F8A89780BBD8AC8FA8C2D2C3DF5A.txt'\n",
    "\n",
    "\n",
    "# f2 = '001441793CA9066610E528C95E44C68588B0A3CA5FB853D3776C398A749DE61F.txt' #short\n",
    "# f2 = '001443C57EF17087C45362A8F09ED58A8291D68BD753E173D1599C70E7B08B41.txt'\n",
    "# f2 = '0025FB51E69BA50FB5A26EEA3E22AC8644ED4BD42E211EC4874AD89F30499C30.txt'\n",
    "# f2 = '0F811DF8F42BBFA4E3ACA41994767D4B89596E24AC8A99569A90429E9860CDD3.txt' #adware\n",
    "# f2 = '0FD594AEC225D9B2CF5A018F4ADB9BD97479A09D5AB1FA41DCBF3E49EFAF36EB.txt'\n",
    "# f2 = '037E6D51E9A589583FD108DAF12C3E1EF2D2BE2C78D2E89FDB20AA6B2C36286D.txt'\n",
    "f2 = '0402690F7661E4670426AFDEC58CB72FBF8B8340EB5654EDB0C873D295F68A86.txt' #good2\n",
    "# f2 = '0590639FAB7FA6CA0BA79DE9ADCCC434970C3F277C00CB7FF3657E502EC8D308.txt' #good1\n",
    "\n",
    "# f2 = '0631D6F894C62F8B49CDB2E7B6F13E4A86EC13F339300B82385A41CB917CA8A1.txt'\n",
    "# f2 = '0BEFE2084DCF1B1630F4A232CF8EC51D03574567A8941E55703EC4A4FF98C986.txt'\n",
    "\n",
    "\n",
    "\n",
    "\n",
    "one_file = open(train_dir + f2,'r').read().strip()\n",
    "\n",
    "X =  sequence.pad_sequences(tokenizer.texts_to_sequences([one_file]),maxlen=4000, padding='post',truncating='post')\n",
    "print(X)"
   ]
  },
  {
   "cell_type": "code",
   "execution_count": 567,
   "metadata": {},
   "outputs": [],
   "source": [
    "# X[0][:200]"
   ]
  },
  {
   "cell_type": "code",
   "execution_count": 568,
   "metadata": {
    "colab": {
     "base_uri": "https://localhost:8080/"
    },
    "executionInfo": {
     "elapsed": 3814,
     "status": "ok",
     "timestamp": 1611346397084,
     "user": {
      "displayName": "Prabesh Pathak",
      "photoUrl": "https://lh3.googleusercontent.com/a-/AOh14Gh6ULNXNrYutw3u6ad06TMgRj97zOGaU28QfV_MCg=s64",
      "userId": "10507649871156130542"
     },
     "user_tz": 300
    },
    "id": "03YHE76MFVQP",
    "outputId": "0f47e2aa-c4f2-469c-963d-41ab1da6b703"
   },
   "outputs": [
    {
     "data": {
      "text/plain": [
       "7078"
      ]
     },
     "execution_count": 568,
     "metadata": {},
     "output_type": "execute_result"
    }
   ],
   "source": [
    "tpp[f2]"
   ]
  },
  {
   "cell_type": "code",
   "execution_count": 569,
   "metadata": {
    "colab": {
     "base_uri": "https://localhost:8080/"
    },
    "executionInfo": {
     "elapsed": 2718,
     "status": "ok",
     "timestamp": 1611346397085,
     "user": {
      "displayName": "Prabesh Pathak",
      "photoUrl": "https://lh3.googleusercontent.com/a-/AOh14Gh6ULNXNrYutw3u6ad06TMgRj97zOGaU28QfV_MCg=s64",
      "userId": "10507649871156130542"
     },
     "user_tz": 300
    },
    "id": "LsIgNzLi68ou",
    "outputId": "e349e7dd-4034-4b50-a88a-f8cd7bbca4bf"
   },
   "outputs": [
    {
     "data": {
      "text/html": [
       "<div>\n",
       "<style scoped>\n",
       "    .dataframe tbody tr th:only-of-type {\n",
       "        vertical-align: middle;\n",
       "    }\n",
       "\n",
       "    .dataframe tbody tr th {\n",
       "        vertical-align: top;\n",
       "    }\n",
       "\n",
       "    .dataframe thead th {\n",
       "        text-align: right;\n",
       "    }\n",
       "</style>\n",
       "<table border=\"1\" class=\"dataframe\">\n",
       "  <thead>\n",
       "    <tr style=\"text-align: right;\">\n",
       "      <th></th>\n",
       "      <th>weights</th>\n",
       "    </tr>\n",
       "  </thead>\n",
       "  <tbody>\n",
       "    <tr>\n",
       "      <th>ljava/lang/reflect/method;.invoke:(ljava/lang/object;[ljava/lang/object;)ljava/lang/object;</th>\n",
       "      <td>0.150058</td>\n",
       "    </tr>\n",
       "    <tr>\n",
       "      <th>ljava/io/bufferedinputstream;.available:()i</th>\n",
       "      <td>0.137862</td>\n",
       "    </tr>\n",
       "    <tr>\n",
       "      <th>ljava/io/bufferedinputstream;.read:([b)i</th>\n",
       "      <td>0.126055</td>\n",
       "    </tr>\n",
       "    <tr>\n",
       "      <th>ljava/lang/class;.getdeclaredmethod:(ljava/lang/string;[ljava/lang/class;)ljava/lang/reflect/method;</th>\n",
       "      <td>0.081153</td>\n",
       "    </tr>\n",
       "    <tr>\n",
       "      <th>ljava/io/filenotfoundexception;.printstacktrace:()v</th>\n",
       "      <td>0.023743</td>\n",
       "    </tr>\n",
       "    <tr>\n",
       "      <th>ljava/io/ioexception;.printstacktrace:()v</th>\n",
       "      <td>0.019517</td>\n",
       "    </tr>\n",
       "    <tr>\n",
       "      <th>landroid/content/context;.getclassloader:()ljava/lang/classloader;</th>\n",
       "      <td>0.017949</td>\n",
       "    </tr>\n",
       "    <tr>\n",
       "      <th>ljava/lang/stringbuilder;.append:(ljava/lang/string;)ljava/lang/stringbuilder;</th>\n",
       "      <td>0.016401</td>\n",
       "    </tr>\n",
       "    <tr>\n",
       "      <th>ljava/lang/runtime;.exec:(ljava/lang/string;)ljava/lang/process;</th>\n",
       "      <td>0.015115</td>\n",
       "    </tr>\n",
       "    <tr>\n",
       "      <th>ljava/lang/class;.forname:(ljava/lang/string;)ljava/lang/class;</th>\n",
       "      <td>0.012680</td>\n",
       "    </tr>\n",
       "    <tr>\n",
       "      <th>ljava/lang/class;.getmethod:(ljava/lang/string;[ljava/lang/class;)ljava/lang/reflect/method;</th>\n",
       "      <td>0.011773</td>\n",
       "    </tr>\n",
       "    <tr>\n",
       "      <th>landroid/app/alertdialog$builder;.create:()landroid/app/alertdialog;</th>\n",
       "      <td>0.010586</td>\n",
       "    </tr>\n",
       "    <tr>\n",
       "      <th>ljava/lang/stringbuilder;.tostring:()ljava/lang/string;</th>\n",
       "      <td>0.010217</td>\n",
       "    </tr>\n",
       "    <tr>\n",
       "      <th>ljava/lang/stringbuilder;.&lt;init&gt;:()v</th>\n",
       "      <td>0.008020</td>\n",
       "    </tr>\n",
       "    <tr>\n",
       "      <th>ljava/io/inputstream;.close:()v</th>\n",
       "      <td>0.005242</td>\n",
       "    </tr>\n",
       "    <tr>\n",
       "      <th>ljava/lang/runtime;.getruntime:()ljava/lang/runtime;</th>\n",
       "      <td>0.005077</td>\n",
       "    </tr>\n",
       "    <tr>\n",
       "      <th>landroid/app/alertdialog$builder;.setcancelable:(z)landroid/app/alertdialog$builder;</th>\n",
       "      <td>0.004140</td>\n",
       "    </tr>\n",
       "    <tr>\n",
       "      <th>ljava/lang/boolean;.booleanvalue:()z</th>\n",
       "      <td>0.004039</td>\n",
       "    </tr>\n",
       "    <tr>\n",
       "      <th>landroid/app/alertdialog$builder;.setpositivebutton:(ljava/lang/charsequence;landroid/content/dialoginterface$onclicklistener;)landroid/app/alertdialog$builder;</th>\n",
       "      <td>0.003863</td>\n",
       "    </tr>\n",
       "    <tr>\n",
       "      <th>ljava/lang/classloader;.loadclass:(ljava/lang/string;)ljava/lang/class;</th>\n",
       "      <td>0.003011</td>\n",
       "    </tr>\n",
       "  </tbody>\n",
       "</table>\n",
       "</div>"
      ],
      "text/plain": [
       "                                                     weights\n",
       "ljava/lang/reflect/method;.invoke:(ljava/lang/o...  0.150058\n",
       "ljava/io/bufferedinputstream;.available:()i         0.137862\n",
       "ljava/io/bufferedinputstream;.read:([b)i            0.126055\n",
       "ljava/lang/class;.getdeclaredmethod:(ljava/lang...  0.081153\n",
       "ljava/io/filenotfoundexception;.printstacktrace...  0.023743\n",
       "ljava/io/ioexception;.printstacktrace:()v           0.019517\n",
       "landroid/content/context;.getclassloader:()ljav...  0.017949\n",
       "ljava/lang/stringbuilder;.append:(ljava/lang/st...  0.016401\n",
       "ljava/lang/runtime;.exec:(ljava/lang/string;)lj...  0.015115\n",
       "ljava/lang/class;.forname:(ljava/lang/string;)l...  0.012680\n",
       "ljava/lang/class;.getmethod:(ljava/lang/string;...  0.011773\n",
       "landroid/app/alertdialog$builder;.create:()land...  0.010586\n",
       "ljava/lang/stringbuilder;.tostring:()ljava/lang...  0.010217\n",
       "ljava/lang/stringbuilder;.<init>:()v                0.008020\n",
       "ljava/io/inputstream;.close:()v                     0.005242\n",
       "ljava/lang/runtime;.getruntime:()ljava/lang/run...  0.005077\n",
       "landroid/app/alertdialog$builder;.setcancelable...  0.004140\n",
       "ljava/lang/boolean;.booleanvalue:()z                0.004039\n",
       "landroid/app/alertdialog$builder;.setpositivebu...  0.003863\n",
       "ljava/lang/classloader;.loadclass:(ljava/lang/s...  0.003011"
      ]
     },
     "execution_count": 569,
     "metadata": {},
     "output_type": "execute_result"
    }
   ],
   "source": [
    "ts = X.squeeze().tolist()\n",
    "# mal_index = tf[f2] \n",
    "mal_index = tpp[f2] \n",
    "dict = {}\n",
    "for i in range(0,4000):\n",
    "    try:\n",
    "        api_name = idx2word[ts[i]]\n",
    "        wt = a_weights[mal_index][i].cpu().detach().numpy()[0]\n",
    "        if api_name in dict:\n",
    "            dict[api_name] = max(dict[api_name],wt)\n",
    "        else:\n",
    "            dict[api_name] = wt\n",
    "                \n",
    "    except: KeyError\n",
    "\n",
    "cols = ['values']\n",
    "df = pd.DataFrame.from_dict(dict, orient='index', columns = cols)\n",
    "df = df.sort_values(by='values', ascending=False)\n",
    "df.columns = ['weights']\n",
    "df.head(20)"
   ]
  },
  {
   "cell_type": "markdown",
   "metadata": {
    "id": "tz-1czs4zQ35"
   },
   "source": [
    "### Aggregate weights for ALL malicious files in test data"
   ]
  },
  {
   "cell_type": "code",
   "execution_count": null,
   "metadata": {},
   "outputs": [],
   "source": []
  },
  {
   "cell_type": "code",
   "execution_count": 575,
   "metadata": {},
   "outputs": [],
   "source": [
    "alltop50 = {}\n",
    "# del dict\n",
    "# t_mal_ids = [7115]\n",
    "for mal_id in t_mal_ids:\n",
    "    top50 = {}\n",
    "    wt = a_weights[mal_id].cpu().detach().numpy()\n",
    "    wt = wt.squeeze()\n",
    "    for i in range(0,4000):\n",
    "        try:\n",
    "            s = idx2word[test_data_mem[mal_id][i]]\n",
    "            x = wt[i]\n",
    "            if s in top50:\n",
    "                top50[s] = max(top50[s],x)\n",
    "            else:\n",
    "                top50[s] = x        \n",
    "        except: KeyError\n",
    "    top50 = {k: v for k, v in sorted(top50.items(), key=lambda item: item[1], reverse=True)} # reverse sort dict\n",
    "    top50 = dict(itertools.islice(top50.items(), 100)) # get top50 top features \n",
    "    alltop50[mal_id] = top50"
   ]
  },
  {
   "cell_type": "code",
   "execution_count": 583,
   "metadata": {},
   "outputs": [
    {
     "data": {
      "text/plain": [
       "{'ljava/lang/reflect/method;.invoke:(ljava/lang/object;[ljava/lang/object;)ljava/lang/object;': 0.15005787,\n",
       " 'ljava/io/bufferedinputstream;.available:()i': 0.1378618,\n",
       " 'ljava/io/bufferedinputstream;.read:([b)i': 0.1260552,\n",
       " 'ljava/lang/class;.getdeclaredmethod:(ljava/lang/string;[ljava/lang/class;)ljava/lang/reflect/method;': 0.081152916,\n",
       " 'ljava/io/filenotfoundexception;.printstacktrace:()v': 0.023742748,\n",
       " 'ljava/io/ioexception;.printstacktrace:()v': 0.01951742,\n",
       " 'landroid/content/context;.getclassloader:()ljava/lang/classloader;': 0.017949197,\n",
       " 'ljava/lang/stringbuilder;.append:(ljava/lang/string;)ljava/lang/stringbuilder;': 0.016401352,\n",
       " 'ljava/lang/runtime;.exec:(ljava/lang/string;)ljava/lang/process;': 0.015114848,\n",
       " 'ljava/lang/class;.forname:(ljava/lang/string;)ljava/lang/class;': 0.012679831,\n",
       " 'ljava/lang/class;.getmethod:(ljava/lang/string;[ljava/lang/class;)ljava/lang/reflect/method;': 0.0117732575,\n",
       " 'landroid/app/alertdialog$builder;.create:()landroid/app/alertdialog;': 0.0105859935,\n",
       " 'ljava/lang/stringbuilder;.tostring:()ljava/lang/string;': 0.010217384,\n",
       " 'ljava/lang/stringbuilder;.<init>:()v': 0.008020212,\n",
       " 'ljava/io/inputstream;.close:()v': 0.0052417233,\n",
       " 'ljava/lang/runtime;.getruntime:()ljava/lang/runtime;': 0.005076632,\n",
       " 'landroid/app/alertdialog$builder;.setcancelable:(z)landroid/app/alertdialog$builder;': 0.0041404464,\n",
       " 'ljava/lang/boolean;.booleanvalue:()z': 0.004039443,\n",
       " 'landroid/app/alertdialog$builder;.setpositivebutton:(ljava/lang/charsequence;landroid/content/dialoginterface$onclicklistener;)landroid/app/alertdialog$builder;': 0.0038629198,\n",
       " 'ljava/lang/classloader;.loadclass:(ljava/lang/string;)ljava/lang/class;': 0.0030105815,\n",
       " 'landroid/app/application;.<init>:()v': 0.0025015976,\n",
       " 'landroid/app/alertdialog;.getwindow:()landroid/view/window;': 0.0020792729,\n",
       " 'ljava/lang/class;.newinstance:()ljava/lang/object;': 0.0017821034,\n",
       " 'ljava/io/file;.exists:()z': 0.0017672101,\n",
       " 'ljava/lang/string;.contains:(ljava/lang/charsequence;)z': 0.0013656801,\n",
       " 'ljava/lang/reflect/method;.setaccessible:(z)v': 0.001355833,\n",
       " 'ljava/lang/exception;.printstacktrace:()v': 0.0010488563,\n",
       " 'landroid/view/window;.settype:(i)v': 0.0010270904,\n",
       " 'ljava/io/fileoutputstream;.close:()v': 0.000926727,\n",
       " 'ljava/io/file;.<init>:(ljava/lang/string;)v': 0.0006217089,\n",
       " 'ljava/io/file;.mkdir:()z': 0.00059496623,\n",
       " 'landroid/app/alertdialog;.show:()v': 0.00050020905,\n",
       " 'ljava/lang/thread;.<init>:(ljava/lang/runnable;)v': 0.0004985738,\n",
       " 'ljava/lang/system;.load:(ljava/lang/string;)v': 0.00047743347,\n",
       " 'ljava/io/bufferedinputstream;.close:()v': 0.00047654644,\n",
       " 'ljava/lang/boolean;.valueof:(z)ljava/lang/boolean;': 0.00045913868,\n",
       " 'landroid/app/alertdialog$builder;.setmessage:(ljava/lang/charsequence;)landroid/app/alertdialog$builder;': 0.00040072922,\n",
       " 'ljava/lang/system;.loadlibrary:(ljava/lang/string;)v': 0.00034343032,\n",
       " 'landroid/app/job/jobservice;.<init>:()v': 0.0003061237,\n",
       " 'ljava/lang/system;.exit:(i)v': 0.00029735776,\n",
       " 'landroid/app/job/jobscheduler;.schedule:(landroid/app/job/jobinfo;)i': 0.00028768397,\n",
       " 'landroid/content/context;.getfilesdir:()ljava/io/file;': 0.00025845645,\n",
       " 'landroid/app/application;.getbasecontext:()landroid/content/context;': 0.00025176533,\n",
       " 'landroid/app/alertdialog$builder;.<init>:(landroid/content/context;)v': 0.00024860425,\n",
       " 'landroid/os/looper;.loop:()v': 0.0002442384,\n",
       " 'landroid/app/application;.oncreate:()v': 0.00023590602,\n",
       " 'ljava/io/fileoutputstream;.write:([bii)v': 0.00019097893,\n",
       " 'landroid/content/context;.getsystemservice:(ljava/lang/string;)ljava/lang/object;': 0.00018248189,\n",
       " 'ljava/lang/thread;.start:()v': 0.00018214103,\n",
       " 'landroid/app/job/jobinfo$builder;.setperiodic:(j)landroid/app/job/jobinfo$builder;': 0.00014545415,\n",
       " 'landroid/app/job/jobinfo$builder;.build:()landroid/app/job/jobinfo;': 0.00013331074,\n",
       " 'ljava/io/file;.getparentfile:()ljava/io/file;': 0.000118400945,\n",
       " 'landroid/app/job/jobscheduler;.getallpendingjobs:()ljava/util/list;': 0.00011091983,\n",
       " 'ljava/util/concurrent/timeunit;.tomillis:(j)j': 9.3002986e-05,\n",
       " 'ljava/io/file;.getabsolutepath:()ljava/lang/string;': 8.826044e-05,\n",
       " 'landroid/content/context;.getresources:()landroid/content/res/resources;': 8.22237e-05,\n",
       " 'ljava/lang/object;.<init>:()v': 7.065092e-05,\n",
       " 'landroid/content/res/assetmanager;.open:(ljava/lang/string;)ljava/io/inputstream;': 6.645546e-05,\n",
       " 'landroid/os/looper;.prepare:()v': 5.20023e-05,\n",
       " 'ljava/lang/thread;.sleep:(j)v': 4.738292e-05,\n",
       " 'landroid/content/res/resources;.getassets:()landroid/content/res/assetmanager;': 4.5533256e-05,\n",
       " 'ljava/io/inputstream;.read:([b)i': 4.3911816e-05,\n",
       " 'landroid/app/application;.attachbasecontext:(landroid/content/context;)v': 4.3501503e-05,\n",
       " 'ljava/lang/object;.wait:()v': 4.266588e-05,\n",
       " 'landroid/app/job/jobinfo$builder;.setrequirescharging:(z)landroid/app/job/jobinfo$builder;': 3.888988e-05,\n",
       " 'ljava/io/fileoutputstream;.<init>:(ljava/lang/string;)v': 3.7397855e-05,\n",
       " 'ljava/io/fileinputstream;.<init>:(ljava/io/file;)v': 3.5478286e-05,\n",
       " 'ljava/lang/object;.notify:()v': 3.164104e-05,\n",
       " 'landroid/app/job/jobinfo;.getid:()i': 3.060599e-05,\n",
       " 'landroid/app/job/jobinfo$builder;.<init>:(ilandroid/content/componentname;)v': 2.6653477e-05,\n",
       " 'ljava/util/iterator;.next:()ljava/lang/object;': 2.411871e-05,\n",
       " 'ljava/lang/thread;.<init>:(ljava/lang/string;)v': 2.0163816e-05,\n",
       " 'landroid/app/job/jobinfo$builder;.setrequiresdeviceidle:(z)landroid/app/job/jobinfo$builder;': 1.9204941e-05,\n",
       " 'ljava/io/randomaccessfile;.close:()v': 1.8882221e-05,\n",
       " 'ljava/util/iterator;.hasnext:()z': 1.2704104e-05,\n",
       " 'ljava/io/randomaccessfile;.<init>:(ljava/lang/string;ljava/lang/string;)v': 1.1724204e-05,\n",
       " 'ljava/lang/thread;.currentthread:()ljava/lang/thread;': 9.333775e-06,\n",
       " 'ljava/util/list;.iterator:()ljava/util/iterator;': 9.145809e-06,\n",
       " 'ljava/io/bufferedinputstream;.<init>:(ljava/io/inputstream;)v': 8.470938e-06,\n",
       " 'landroid/content/context;.getpackagename:()ljava/lang/string;': 7.208215e-06,\n",
       " 'ljava/io/randomaccessfile;.readline:()ljava/lang/string;': 5.732554e-06,\n",
       " 'ljava/lang/class;.getname:()ljava/lang/string;': 4.4462554e-06,\n",
       " 'landroid/content/componentname;.<init>:(ljava/lang/string;ljava/lang/string;)v': 3.7406892e-06}"
      ]
     },
     "execution_count": 583,
     "metadata": {},
     "output_type": "execute_result"
    }
   ],
   "source": [
    "alltop50[tpp[f2]]"
   ]
  },
  {
   "cell_type": "code",
   "execution_count": 577,
   "metadata": {},
   "outputs": [],
   "source": [
    "weights = {}\n",
    "count = {}\n",
    "for mal_id in t_mal_ids:\n",
    "    for k,v in alltop50[mal_id].items():\n",
    "        if k not in weights:\n",
    "            weights[k] = v\n",
    "            count[k] = 1\n",
    "        else:\n",
    "            weights[k] = weights[k] + v\n",
    "            count[k] = count[k] + 1   "
   ]
  },
  {
   "cell_type": "code",
   "execution_count": 578,
   "metadata": {},
   "outputs": [],
   "source": [
    "cols = ['cumulative_weights']\n",
    "df1 = pd.DataFrame.from_dict(weights, orient='index', columns = cols)\n",
    "cols = ['count']\n",
    "df2 = pd.DataFrame.from_dict(count, orient='index', columns = cols)\n",
    "df_n = pd.concat([df1, df2], axis=1)"
   ]
  },
  {
   "cell_type": "code",
   "execution_count": 579,
   "metadata": {},
   "outputs": [
    {
     "data": {
      "text/html": [
       "<div>\n",
       "<style scoped>\n",
       "    .dataframe tbody tr th:only-of-type {\n",
       "        vertical-align: middle;\n",
       "    }\n",
       "\n",
       "    .dataframe tbody tr th {\n",
       "        vertical-align: top;\n",
       "    }\n",
       "\n",
       "    .dataframe thead th {\n",
       "        text-align: right;\n",
       "    }\n",
       "</style>\n",
       "<table border=\"1\" class=\"dataframe\">\n",
       "  <thead>\n",
       "    <tr style=\"text-align: right;\">\n",
       "      <th></th>\n",
       "      <th>cumulative_weights</th>\n",
       "      <th>count</th>\n",
       "    </tr>\n",
       "  </thead>\n",
       "  <tbody>\n",
       "    <tr>\n",
       "      <th>ljava/lang/stringbuilder;.append:(ljava/lang/string;)ljava/lang/stringbuilder;</th>\n",
       "      <td>103.556137</td>\n",
       "      <td>3656</td>\n",
       "    </tr>\n",
       "    <tr>\n",
       "      <th>ljava/lang/reflect/method;.invoke:(ljava/lang/object;[ljava/lang/object;)ljava/lang/object;</th>\n",
       "      <td>73.132072</td>\n",
       "      <td>2364</td>\n",
       "    </tr>\n",
       "    <tr>\n",
       "      <th>ljava/lang/stringbuilder;.&lt;init&gt;:()v</th>\n",
       "      <td>64.996979</td>\n",
       "      <td>3560</td>\n",
       "    </tr>\n",
       "    <tr>\n",
       "      <th>ljava/lang/stringbuilder;.tostring:()ljava/lang/string;</th>\n",
       "      <td>64.723915</td>\n",
       "      <td>3658</td>\n",
       "    </tr>\n",
       "    <tr>\n",
       "      <th>ljava/io/bufferedinputstream;.available:()i</th>\n",
       "      <td>61.784500</td>\n",
       "      <td>1699</td>\n",
       "    </tr>\n",
       "    <tr>\n",
       "      <th>ljava/lang/boolean;.booleanvalue:()z</th>\n",
       "      <td>60.851704</td>\n",
       "      <td>2278</td>\n",
       "    </tr>\n",
       "    <tr>\n",
       "      <th>ljava/io/bufferedinputstream;.read:([b)i</th>\n",
       "      <td>48.444790</td>\n",
       "      <td>1711</td>\n",
       "    </tr>\n",
       "    <tr>\n",
       "      <th>ljava/lang/class;.getdeclaredmethod:(ljava/lang/string;[ljava/lang/class;)ljava/lang/reflect/method;</th>\n",
       "      <td>46.838230</td>\n",
       "      <td>2172</td>\n",
       "    </tr>\n",
       "    <tr>\n",
       "      <th>landroid/content/context;.getclassloader:()ljava/lang/classloader;</th>\n",
       "      <td>31.600082</td>\n",
       "      <td>1954</td>\n",
       "    </tr>\n",
       "    <tr>\n",
       "      <th>ldalvik/system/dexclassloader;.&lt;init&gt;:(ljava/lang/string;ljava/lang/string;ljava/lang/string;ljava/lang/classloader;)v</th>\n",
       "      <td>26.155951</td>\n",
       "      <td>422</td>\n",
       "    </tr>\n",
       "    <tr>\n",
       "      <th>ljava/lang/system;.load:(ljava/lang/string;)v</th>\n",
       "      <td>20.679630</td>\n",
       "      <td>1892</td>\n",
       "    </tr>\n",
       "    <tr>\n",
       "      <th>ljava/lang/throwable;.printstacktrace:()v</th>\n",
       "      <td>20.660919</td>\n",
       "      <td>646</td>\n",
       "    </tr>\n",
       "    <tr>\n",
       "      <th>ljava/io/file;.getabsolutepath:()ljava/lang/string;</th>\n",
       "      <td>20.467476</td>\n",
       "      <td>2593</td>\n",
       "    </tr>\n",
       "    <tr>\n",
       "      <th>landroid/util/log;.e:(ljava/lang/string;ljava/lang/string;)i</th>\n",
       "      <td>19.699150</td>\n",
       "      <td>586</td>\n",
       "    </tr>\n",
       "    <tr>\n",
       "      <th>ljava/io/file;.exists:()z</th>\n",
       "      <td>19.167107</td>\n",
       "      <td>2810</td>\n",
       "    </tr>\n",
       "    <tr>\n",
       "      <th>ljava/io/ioexception;.printstacktrace:()v</th>\n",
       "      <td>19.048613</td>\n",
       "      <td>1537</td>\n",
       "    </tr>\n",
       "    <tr>\n",
       "      <th>landroid/app/application;.&lt;init&gt;:()v</th>\n",
       "      <td>17.063477</td>\n",
       "      <td>2282</td>\n",
       "    </tr>\n",
       "    <tr>\n",
       "      <th>ljava/io/fileinputstream;.close:()v</th>\n",
       "      <td>14.941464</td>\n",
       "      <td>1181</td>\n",
       "    </tr>\n",
       "    <tr>\n",
       "      <th>ljava/io/file;.getcanonicalpath:()ljava/lang/string;</th>\n",
       "      <td>14.311271</td>\n",
       "      <td>1173</td>\n",
       "    </tr>\n",
       "    <tr>\n",
       "      <th>ljava/lang/class;.getconstructor:([ljava/lang/class;)ljava/lang/reflect/constructor;</th>\n",
       "      <td>14.076041</td>\n",
       "      <td>338</td>\n",
       "    </tr>\n",
       "  </tbody>\n",
       "</table>\n",
       "</div>"
      ],
      "text/plain": [
       "                                                    cumulative_weights  count\n",
       "ljava/lang/stringbuilder;.append:(ljava/lang/st...          103.556137   3656\n",
       "ljava/lang/reflect/method;.invoke:(ljava/lang/o...           73.132072   2364\n",
       "ljava/lang/stringbuilder;.<init>:()v                         64.996979   3560\n",
       "ljava/lang/stringbuilder;.tostring:()ljava/lang...           64.723915   3658\n",
       "ljava/io/bufferedinputstream;.available:()i                  61.784500   1699\n",
       "ljava/lang/boolean;.booleanvalue:()z                         60.851704   2278\n",
       "ljava/io/bufferedinputstream;.read:([b)i                     48.444790   1711\n",
       "ljava/lang/class;.getdeclaredmethod:(ljava/lang...           46.838230   2172\n",
       "landroid/content/context;.getclassloader:()ljav...           31.600082   1954\n",
       "ldalvik/system/dexclassloader;.<init>:(ljava/la...           26.155951    422\n",
       "ljava/lang/system;.load:(ljava/lang/string;)v                20.679630   1892\n",
       "ljava/lang/throwable;.printstacktrace:()v                    20.660919    646\n",
       "ljava/io/file;.getabsolutepath:()ljava/lang/str...           20.467476   2593\n",
       "landroid/util/log;.e:(ljava/lang/string;ljava/l...           19.699150    586\n",
       "ljava/io/file;.exists:()z                                    19.167107   2810\n",
       "ljava/io/ioexception;.printstacktrace:()v                    19.048613   1537\n",
       "landroid/app/application;.<init>:()v                         17.063477   2282\n",
       "ljava/io/fileinputstream;.close:()v                          14.941464   1181\n",
       "ljava/io/file;.getcanonicalpath:()ljava/lang/st...           14.311271   1173\n",
       "ljava/lang/class;.getconstructor:([ljava/lang/c...           14.076041    338"
      ]
     },
     "execution_count": 579,
     "metadata": {},
     "output_type": "execute_result"
    }
   ],
   "source": [
    "df_c = df_n\n",
    "df_c = df_c.sort_values(by='cumulative_weights', ascending=False)\n",
    "df_c.head(20)"
   ]
  },
  {
   "cell_type": "code",
   "execution_count": 580,
   "metadata": {
    "scrolled": false
   },
   "outputs": [
    {
     "data": {
      "text/html": [
       "<div>\n",
       "<style scoped>\n",
       "    .dataframe tbody tr th:only-of-type {\n",
       "        vertical-align: middle;\n",
       "    }\n",
       "\n",
       "    .dataframe tbody tr th {\n",
       "        vertical-align: top;\n",
       "    }\n",
       "\n",
       "    .dataframe thead th {\n",
       "        text-align: right;\n",
       "    }\n",
       "</style>\n",
       "<table border=\"1\" class=\"dataframe\">\n",
       "  <thead>\n",
       "    <tr style=\"text-align: right;\">\n",
       "      <th></th>\n",
       "      <th>count</th>\n",
       "      <th>effective_weights</th>\n",
       "    </tr>\n",
       "  </thead>\n",
       "  <tbody>\n",
       "    <tr>\n",
       "      <th>ljava/util/zip/checkedinputstream;.close:()v</th>\n",
       "      <td>31</td>\n",
       "      <td>0.147788</td>\n",
       "    </tr>\n",
       "    <tr>\n",
       "      <th>lorg/json/jsonobject;.getdouble:(ljava/lang/string;)d</th>\n",
       "      <td>71</td>\n",
       "      <td>0.117092</td>\n",
       "    </tr>\n",
       "    <tr>\n",
       "      <th>landroid/content/intent;.getlongarrayextra:(ljava/lang/string;)[j</th>\n",
       "      <td>3</td>\n",
       "      <td>0.094493</td>\n",
       "    </tr>\n",
       "    <tr>\n",
       "      <th>ljava/lang/class;.tostring:()ljava/lang/string;</th>\n",
       "      <td>118</td>\n",
       "      <td>0.082445</td>\n",
       "    </tr>\n",
       "    <tr>\n",
       "      <th>ljava/lang/thread;.getstacktrace:()[ljava/lang/stacktraceelement;</th>\n",
       "      <td>14</td>\n",
       "      <td>0.078449</td>\n",
       "    </tr>\n",
       "    <tr>\n",
       "      <th>landroid/widget/zoomcontrols;.getmeasuredheight:()i</th>\n",
       "      <td>2</td>\n",
       "      <td>0.075942</td>\n",
       "    </tr>\n",
       "    <tr>\n",
       "      <th>landroid/widget/zoomcontrols;.getmeasuredwidth:()i</th>\n",
       "      <td>2</td>\n",
       "      <td>0.066439</td>\n",
       "    </tr>\n",
       "    <tr>\n",
       "      <th>ljava/util/zip/inflateroutputstream;.close:()v</th>\n",
       "      <td>4</td>\n",
       "      <td>0.063378</td>\n",
       "    </tr>\n",
       "    <tr>\n",
       "      <th>ldalvik/system/dexclassloader;.&lt;init&gt;:(ljava/lang/string;ljava/lang/string;ljava/lang/string;ljava/lang/classloader;)v</th>\n",
       "      <td>422</td>\n",
       "      <td>0.061981</td>\n",
       "    </tr>\n",
       "    <tr>\n",
       "      <th>landroid/widget/zoomcontrols;.layout:(iiii)v</th>\n",
       "      <td>2</td>\n",
       "      <td>0.057467</td>\n",
       "    </tr>\n",
       "    <tr>\n",
       "      <th>ljava/util/zip/inflaterinputstream;.read:([b)i</th>\n",
       "      <td>7</td>\n",
       "      <td>0.055230</td>\n",
       "    </tr>\n",
       "    <tr>\n",
       "      <th>ljava/lang/ref/weakreference;.get:()ljava/lang/object;</th>\n",
       "      <td>164</td>\n",
       "      <td>0.052948</td>\n",
       "    </tr>\n",
       "    <tr>\n",
       "      <th>ldalvik/system/dexclassloader;.findclass:(ljava/lang/string;)ljava/lang/class;</th>\n",
       "      <td>2</td>\n",
       "      <td>0.052630</td>\n",
       "    </tr>\n",
       "    <tr>\n",
       "      <th>lorg/json/jsonobject;.isnull:(ljava/lang/string;)z</th>\n",
       "      <td>54</td>\n",
       "      <td>0.050084</td>\n",
       "    </tr>\n",
       "    <tr>\n",
       "      <th>ljava/net/url;.getdefaultport:()i</th>\n",
       "      <td>1</td>\n",
       "      <td>0.046985</td>\n",
       "    </tr>\n",
       "    <tr>\n",
       "      <th>landroid/view/orientationeventlistener;.&lt;init&gt;:(landroid/content/context;)v</th>\n",
       "      <td>1</td>\n",
       "      <td>0.045152</td>\n",
       "    </tr>\n",
       "    <tr>\n",
       "      <th>landroid/os/systemproperties;.get:(ljava/lang/string;ljava/lang/string;)ljava/lang/string;</th>\n",
       "      <td>5</td>\n",
       "      <td>0.044578</td>\n",
       "    </tr>\n",
       "    <tr>\n",
       "      <th>ljava/lang/class;.getconstructor:([ljava/lang/class;)ljava/lang/reflect/constructor;</th>\n",
       "      <td>338</td>\n",
       "      <td>0.041645</td>\n",
       "    </tr>\n",
       "    <tr>\n",
       "      <th>landroid/widget/zoomcontrols;.measure:(ii)v</th>\n",
       "      <td>1</td>\n",
       "      <td>0.040581</td>\n",
       "    </tr>\n",
       "    <tr>\n",
       "      <th>ljavax/net/ssl/httpsurlconnection;.disconnect:()v</th>\n",
       "      <td>7</td>\n",
       "      <td>0.037695</td>\n",
       "    </tr>\n",
       "    <tr>\n",
       "      <th>landroid/app/downloadmanager;.getmimetypefordownloadedfile:(j)ljava/lang/string;</th>\n",
       "      <td>3</td>\n",
       "      <td>0.037129</td>\n",
       "    </tr>\n",
       "    <tr>\n",
       "      <th>ljava/io/bufferedinputstream;.available:()i</th>\n",
       "      <td>1699</td>\n",
       "      <td>0.036365</td>\n",
       "    </tr>\n",
       "    <tr>\n",
       "      <th>landroid/widget/relativelayout;.addview:(landroid/view/view;landroid/view/viewgroup$layoutparams;)v</th>\n",
       "      <td>169</td>\n",
       "      <td>0.034909</td>\n",
       "    </tr>\n",
       "    <tr>\n",
       "      <th>landroid/widget/ratingbar;.setlayoutparams:(landroid/view/viewgroup$layoutparams;)v</th>\n",
       "      <td>11</td>\n",
       "      <td>0.033956</td>\n",
       "    </tr>\n",
       "    <tr>\n",
       "      <th>landroid/util/log;.e:(ljava/lang/string;ljava/lang/string;)i</th>\n",
       "      <td>586</td>\n",
       "      <td>0.033616</td>\n",
       "    </tr>\n",
       "    <tr>\n",
       "      <th>ljava/util/zip/zipfile;.&lt;init&gt;:(ljava/lang/string;)v</th>\n",
       "      <td>47</td>\n",
       "      <td>0.033108</td>\n",
       "    </tr>\n",
       "    <tr>\n",
       "      <th>landroid/widget/linearlayout;.setbackgrounddrawable:(landroid/graphics/drawable/drawable;)v</th>\n",
       "      <td>11</td>\n",
       "      <td>0.032451</td>\n",
       "    </tr>\n",
       "    <tr>\n",
       "      <th>ljava/util/arraylist;.get:(i)ljava/lang/object;</th>\n",
       "      <td>394</td>\n",
       "      <td>0.032366</td>\n",
       "    </tr>\n",
       "    <tr>\n",
       "      <th>ldalvik/system/dexclassloader;.loadclass:(ljava/lang/string;)ljava/lang/class;</th>\n",
       "      <td>240</td>\n",
       "      <td>0.032244</td>\n",
       "    </tr>\n",
       "    <tr>\n",
       "      <th>ljava/lang/throwable;.printstacktrace:()v</th>\n",
       "      <td>646</td>\n",
       "      <td>0.031983</td>\n",
       "    </tr>\n",
       "    <tr>\n",
       "      <th>landroid/graphics/canvas;.drawcircle:(ffflandroid/graphics/paint;)v</th>\n",
       "      <td>1</td>\n",
       "      <td>0.031560</td>\n",
       "    </tr>\n",
       "    <tr>\n",
       "      <th>landroid/view/view;.generateviewid:()i</th>\n",
       "      <td>11</td>\n",
       "      <td>0.031231</td>\n",
       "    </tr>\n",
       "    <tr>\n",
       "      <th>landroid/view/window;.setsoftinputmode:(i)v</th>\n",
       "      <td>6</td>\n",
       "      <td>0.030949</td>\n",
       "    </tr>\n",
       "    <tr>\n",
       "      <th>ljava/lang/reflect/method;.invoke:(ljava/lang/object;[ljava/lang/object;)ljava/lang/object;</th>\n",
       "      <td>2364</td>\n",
       "      <td>0.030936</td>\n",
       "    </tr>\n",
       "    <tr>\n",
       "      <th>landroid/widget/relativelayout;.addview:(landroid/view/view;ilandroid/view/viewgroup$layoutparams;)v</th>\n",
       "      <td>25</td>\n",
       "      <td>0.030395</td>\n",
       "    </tr>\n",
       "    <tr>\n",
       "      <th>landroid/net/wifi/wifiinfo;.getssid:()ljava/lang/string;</th>\n",
       "      <td>45</td>\n",
       "      <td>0.030136</td>\n",
       "    </tr>\n",
       "    <tr>\n",
       "      <th>landroid/provider/settings$system;.canwrite:(landroid/content/context;)z</th>\n",
       "      <td>1</td>\n",
       "      <td>0.029776</td>\n",
       "    </tr>\n",
       "    <tr>\n",
       "      <th>ljava/util/arrays;.tostring:([ljava/lang/object;)ljava/lang/string;</th>\n",
       "      <td>140</td>\n",
       "      <td>0.029704</td>\n",
       "    </tr>\n",
       "    <tr>\n",
       "      <th>landroid/widget/zoomcontrols;.setvisibility:(i)v</th>\n",
       "      <td>1</td>\n",
       "      <td>0.029346</td>\n",
       "    </tr>\n",
       "    <tr>\n",
       "      <th>landroid/content/intent;.resolveactivity:(landroid/content/pm/packagemanager;)landroid/content/componentname;</th>\n",
       "      <td>42</td>\n",
       "      <td>0.028405</td>\n",
       "    </tr>\n",
       "  </tbody>\n",
       "</table>\n",
       "</div>"
      ],
      "text/plain": [
       "                                                    count  effective_weights\n",
       "ljava/util/zip/checkedinputstream;.close:()v           31           0.147788\n",
       "lorg/json/jsonobject;.getdouble:(ljava/lang/str...     71           0.117092\n",
       "landroid/content/intent;.getlongarrayextra:(lja...      3           0.094493\n",
       "ljava/lang/class;.tostring:()ljava/lang/string;       118           0.082445\n",
       "ljava/lang/thread;.getstacktrace:()[ljava/lang/...     14           0.078449\n",
       "landroid/widget/zoomcontrols;.getmeasuredheight...      2           0.075942\n",
       "landroid/widget/zoomcontrols;.getmeasuredwidth:()i      2           0.066439\n",
       "ljava/util/zip/inflateroutputstream;.close:()v          4           0.063378\n",
       "ldalvik/system/dexclassloader;.<init>:(ljava/la...    422           0.061981\n",
       "landroid/widget/zoomcontrols;.layout:(iiii)v            2           0.057467\n",
       "ljava/util/zip/inflaterinputstream;.read:([b)i          7           0.055230\n",
       "ljava/lang/ref/weakreference;.get:()ljava/lang/...    164           0.052948\n",
       "ldalvik/system/dexclassloader;.findclass:(ljava...      2           0.052630\n",
       "lorg/json/jsonobject;.isnull:(ljava/lang/string;)z     54           0.050084\n",
       "ljava/net/url;.getdefaultport:()i                       1           0.046985\n",
       "landroid/view/orientationeventlistener;.<init>:...      1           0.045152\n",
       "landroid/os/systemproperties;.get:(ljava/lang/s...      5           0.044578\n",
       "ljava/lang/class;.getconstructor:([ljava/lang/c...    338           0.041645\n",
       "landroid/widget/zoomcontrols;.measure:(ii)v             1           0.040581\n",
       "ljavax/net/ssl/httpsurlconnection;.disconnect:()v       7           0.037695\n",
       "landroid/app/downloadmanager;.getmimetypefordow...      3           0.037129\n",
       "ljava/io/bufferedinputstream;.available:()i          1699           0.036365\n",
       "landroid/widget/relativelayout;.addview:(landro...    169           0.034909\n",
       "landroid/widget/ratingbar;.setlayoutparams:(lan...     11           0.033956\n",
       "landroid/util/log;.e:(ljava/lang/string;ljava/l...    586           0.033616\n",
       "ljava/util/zip/zipfile;.<init>:(ljava/lang/stri...     47           0.033108\n",
       "landroid/widget/linearlayout;.setbackgrounddraw...     11           0.032451\n",
       "ljava/util/arraylist;.get:(i)ljava/lang/object;       394           0.032366\n",
       "ldalvik/system/dexclassloader;.loadclass:(ljava...    240           0.032244\n",
       "ljava/lang/throwable;.printstacktrace:()v             646           0.031983\n",
       "landroid/graphics/canvas;.drawcircle:(ffflandro...      1           0.031560\n",
       "landroid/view/view;.generateviewid:()i                 11           0.031231\n",
       "landroid/view/window;.setsoftinputmode:(i)v             6           0.030949\n",
       "ljava/lang/reflect/method;.invoke:(ljava/lang/o...   2364           0.030936\n",
       "landroid/widget/relativelayout;.addview:(landro...     25           0.030395\n",
       "landroid/net/wifi/wifiinfo;.getssid:()ljava/lan...     45           0.030136\n",
       "landroid/provider/settings$system;.canwrite:(la...      1           0.029776\n",
       "ljava/util/arrays;.tostring:([ljava/lang/object...    140           0.029704\n",
       "landroid/widget/zoomcontrols;.setvisibility:(i)v        1           0.029346\n",
       "landroid/content/intent;.resolveactivity:(landr...     42           0.028405"
      ]
     },
     "execution_count": 580,
     "metadata": {},
     "output_type": "execute_result"
    }
   ],
   "source": [
    "df_n['effective_weights'] = df_n['cumulative_weights'] / df_n['count']\n",
    "df_n = df_n.sort_values(by='effective_weights', ascending=False)\n",
    "df_n = df_n.drop('cumulative_weights', 1)\n",
    "df_n.head(40)"
   ]
  },
  {
   "cell_type": "code",
   "execution_count": null,
   "metadata": {},
   "outputs": [],
   "source": []
  },
  {
   "cell_type": "code",
   "execution_count": 582,
   "metadata": {},
   "outputs": [],
   "source": [
    "tra_attn = df_n.head(500)\n",
    "tra_attn.to_csv(model_dir + '500_bi_attn_64_3.csv', sep=',', encoding='utf-8')"
   ]
  },
  {
   "cell_type": "code",
   "execution_count": null,
   "metadata": {},
   "outputs": [],
   "source": []
  }
 ],
 "metadata": {
  "accelerator": "GPU",
  "colab": {
   "authorship_tag": "ABX9TyPdR6ZJpyep8kagIgsoD2po",
   "collapsed_sections": [
    "sAVVyiC9KYhb",
    "Ar_fxvJoKeqD"
   ],
   "machine_shape": "hm",
   "name": "1k-transformer",
   "provenance": []
  },
  "kernelspec": {
   "display_name": "Python 3 (ipykernel)",
   "language": "python",
   "name": "python3"
  },
  "language_info": {
   "codemirror_mode": {
    "name": "ipython",
    "version": 3
   },
   "file_extension": ".py",
   "mimetype": "text/x-python",
   "name": "python",
   "nbconvert_exporter": "python",
   "pygments_lexer": "ipython3",
   "version": "3.8.7"
  }
 },
 "nbformat": 4,
 "nbformat_minor": 1
}
